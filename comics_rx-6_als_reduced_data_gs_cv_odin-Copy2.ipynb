{
 "cells": [
  {
   "cell_type": "markdown",
   "metadata": {},
   "source": [
    "# Comics Rx\n",
    "## [A comic book recommendation system](https://github.com/MangrobanGit/comics_rx)\n",
    "<img src=\"https://images.unsplash.com/photo-1514329926535-7f6dbfbfb114?ixlib=rb-1.2.1&ixid=eyJhcHBfaWQiOjEyMDd9&auto=format&fit=crop&w=2850&q=80\" width=\"400\" align='left'>"
   ]
  },
  {
   "cell_type": "markdown",
   "metadata": {},
   "source": [
    "---"
   ]
  },
  {
   "cell_type": "markdown",
   "metadata": {},
   "source": [
    "# 6 - ALS Model - Reduced Data: Grid Search + Cross-Validation\n",
    "\n",
    "This time, as explored in the EDA NB, let's consider removing customers who we feel have too few or too many purchases to influence the model in the intended way.\n",
    "\n",
    "Examples:\n",
    "- Too few - Customers who have only bought 1 comic (series).\n",
    "- Too many - Customers with > 1000 series (for example, think all eBay customers are rolled into one account number)."
   ]
  },
  {
   "cell_type": "markdown",
   "metadata": {},
   "source": [
    "# Libraries"
   ]
  },
  {
   "cell_type": "code",
   "execution_count": 1,
   "metadata": {},
   "outputs": [],
   "source": [
    "%matplotlib inline\n",
    "%load_ext autoreload\n",
    "# %autoreload 1 #would be where you need to specify the files\n",
    "# %aimport comic_recs\n",
    "\n",
    "import pandas as pd # dataframes\n",
    "import os\n",
    "import pickle\n",
    "\n",
    "# Data storage\n",
    "from sqlalchemy import create_engine # SQL helper\n",
    "#import psycopg2 as psql #PostgreSQL DBs\n",
    "\n",
    "# import necessary libraries\n",
    "import pyspark\n",
    "from pyspark.sql import SparkSession\n",
    "from pyspark.ml.evaluation import RegressionEvaluator\n",
    "# from pyspark.sql.types import (StructType, StructField, IntegerType\n",
    "#                                ,FloatType, LongType, StringType)\n",
    "from pyspark.sql.types import *\n",
    "\n",
    "import pyspark.sql.functions as F\n",
    "from pyspark.sql.functions import col, explode, lit, isnan, when, count\n",
    "from pyspark.ml.recommendation import ALS, ALSModel\n",
    "from pyspark.ml.evaluation import RegressionEvaluator\n",
    "from pyspark.ml.tuning import CrossValidator, ParamGridBuilder, TrainValidationSplit\n",
    "from pyspark.ml.evaluation import BinaryClassificationEvaluator\n",
    "from pyspark.sql import DataFrame\n",
    "\n",
    "# Custom\n",
    "import lib.data_fcns as dfc\n",
    "import lib.keys  # Custom keys lib\n",
    "import lib.comic_recs as cr\n",
    "\n",
    "import time\n",
    "import itertools\n",
    "from functools import reduce\n",
    "import numpy as np"
   ]
  },
  {
   "cell_type": "code",
   "execution_count": 2,
   "metadata": {},
   "outputs": [],
   "source": [
    "# instantiate SparkSession object\n",
    "spark = pyspark.sql.SparkSession.builder.master(\"local[*]\").getOrCreate()\n",
    "# spark = SparkSession.builder.master(\"local\").getOrCreate()"
   ]
  },
  {
   "cell_type": "code",
   "execution_count": 8,
   "metadata": {},
   "outputs": [],
   "source": [
    "# spark config\n",
    "spark = SparkSession \\\n",
    "    .builder \\\n",
    "    .appName(\"movie recommendation\") \\\n",
    "    .config(\"spark.driver.maxResultSize\", \"1g\") \\\n",
    "    .config(\"spark.driver.memory\", \"1g\") \\\n",
    "    .config(\"spark.executor.memory\", \"8g\") \\\n",
    "    .config(\"spark.master\", \"local[*]\") \\\n",
    "    .getOrCreate()"
   ]
  },
  {
   "cell_type": "markdown",
   "metadata": {},
   "source": [
    "## Import Data\n",
    "\n",
    "We've previously set aside the dataset into a `json` file."
   ]
  },
  {
   "cell_type": "code",
   "execution_count": 9,
   "metadata": {},
   "outputs": [],
   "source": [
    "# We have previously created a version of the transactions table and filtered it down.\n",
    "sold = spark.read.json('raw_data/als_input_filtered.json')"
   ]
  },
  {
   "cell_type": "code",
   "execution_count": 10,
   "metadata": {},
   "outputs": [
    {
     "data": {
      "text/plain": [
       "DataFrame[account_id: bigint, bought: bigint, comic_id: bigint]"
      ]
     },
     "execution_count": 10,
     "metadata": {},
     "output_type": "execute_result"
    }
   ],
   "source": [
    "# Persist the data\n",
    "sold.persist()"
   ]
  },
  {
   "cell_type": "markdown",
   "metadata": {},
   "source": [
    "### ALS Model\n",
    "\n",
    "Let's start with  train/test split."
   ]
  },
  {
   "cell_type": "code",
   "execution_count": 11,
   "metadata": {},
   "outputs": [],
   "source": [
    "# Split data into training and test set\n",
    "(train, test) = sold.randomSplit([.8, .2], seed=41916)"
   ]
  },
  {
   "cell_type": "markdown",
   "metadata": {},
   "source": [
    "Make sure shapes make sense."
   ]
  },
  {
   "cell_type": "code",
   "execution_count": 12,
   "metadata": {},
   "outputs": [
    {
     "name": "stdout",
     "output_type": "stream",
     "text": [
      "49402 3\n"
     ]
    }
   ],
   "source": [
    "print(train.count(), len(train.columns))"
   ]
  },
  {
   "cell_type": "code",
   "execution_count": 13,
   "metadata": {},
   "outputs": [
    {
     "name": "stdout",
     "output_type": "stream",
     "text": [
      "12469 3\n"
     ]
    }
   ],
   "source": [
    "print(test.count(), len(test.columns))"
   ]
  },
  {
   "cell_type": "code",
   "execution_count": 14,
   "metadata": {},
   "outputs": [],
   "source": [
    "# Evaluate the model by computing the RMSE on the test data\n",
    "eval_reg = RegressionEvaluator(metricName=\"rmse\"\n",
    "                               , labelCol=\"bought\"\n",
    "                               , predictionCol=\"prediction\")"
   ]
  },
  {
   "cell_type": "markdown",
   "metadata": {},
   "source": [
    "### Grid Search"
   ]
  },
  {
   "cell_type": "code",
   "execution_count": 21,
   "metadata": {},
   "outputs": [],
   "source": [
    "# hyper-param config\n",
    "num_iterations = [10, 20]\n",
    "ranks = [5, 10, 15, 20]\n",
    "reg_params = [0.01, 0.1, 0.5]\n",
    "alphas = [1, 50, 500, 1000, 5000]"
   ]
  },
  {
   "cell_type": "markdown",
   "metadata": {},
   "source": [
    "Let's further subset into test and validation sets."
   ]
  },
  {
   "cell_type": "code",
   "execution_count": 16,
   "metadata": {},
   "outputs": [],
   "source": [
    "# Split data into training and validation sets\n",
    "(gs_train, gs_val) = train.randomSplit([.8, .2], seed=41916)"
   ]
  },
  {
   "cell_type": "code",
   "execution_count": 17,
   "metadata": {},
   "outputs": [
    {
     "name": "stdout",
     "output_type": "stream",
     "text": [
      "39457 3\n"
     ]
    }
   ],
   "source": [
    "print(gs_train.count(), len(gs_train.columns))"
   ]
  },
  {
   "cell_type": "code",
   "execution_count": 18,
   "metadata": {},
   "outputs": [
    {
     "name": "stdout",
     "output_type": "stream",
     "text": [
      "9945 3\n"
     ]
    }
   ],
   "source": [
    "print(gs_val.count(), len(gs_val.columns))"
   ]
  },
  {
   "cell_type": "code",
   "execution_count": 22,
   "metadata": {
    "scrolled": false
   },
   "outputs": [
    {
     "name": "stdout",
     "output_type": "stream",
     "text": [
      "10 iterations, 5 latent factors, regularization=0.01, and alpha @ 1 : validation error is 0.8618\n",
      "10 iterations, 5 latent factors, regularization=0.01, and alpha @ 50 : validation error is 0.4835\n",
      "10 iterations, 5 latent factors, regularization=0.01, and alpha @ 500 : validation error is 0.3411\n",
      "10 iterations, 5 latent factors, regularization=0.01, and alpha @ 1000 : validation error is 0.3285\n",
      "10 iterations, 5 latent factors, regularization=0.01, and alpha @ 5000 : validation error is 0.3250\n",
      "10 iterations, 10 latent factors, regularization=0.01, and alpha @ 1 : validation error is 0.8451\n",
      "10 iterations, 10 latent factors, regularization=0.01, and alpha @ 50 : validation error is 0.4952\n",
      "10 iterations, 10 latent factors, regularization=0.01, and alpha @ 500 : validation error is 0.4145\n",
      "10 iterations, 10 latent factors, regularization=0.01, and alpha @ 1000 : validation error is 0.4219\n",
      "10 iterations, 10 latent factors, regularization=0.01, and alpha @ 5000 : validation error is 0.4680\n",
      "10 iterations, 15 latent factors, regularization=0.01, and alpha @ 1 : validation error is 0.8372\n",
      "10 iterations, 15 latent factors, regularization=0.01, and alpha @ 50 : validation error is 0.5190\n",
      "10 iterations, 15 latent factors, regularization=0.01, and alpha @ 500 : validation error is 0.4801\n",
      "10 iterations, 15 latent factors, regularization=0.01, and alpha @ 1000 : validation error is 0.4971\n",
      "10 iterations, 15 latent factors, regularization=0.01, and alpha @ 5000 : validation error is 0.5366\n",
      "10 iterations, 20 latent factors, regularization=0.01, and alpha @ 1 : validation error is 0.8349\n",
      "10 iterations, 20 latent factors, regularization=0.01, and alpha @ 50 : validation error is 0.5526\n",
      "10 iterations, 20 latent factors, regularization=0.01, and alpha @ 500 : validation error is 0.5484\n",
      "10 iterations, 20 latent factors, regularization=0.01, and alpha @ 1000 : validation error is 0.5721\n",
      "10 iterations, 20 latent factors, regularization=0.01, and alpha @ 5000 : validation error is 0.6210\n",
      "10 iterations, 5 latent factors, regularization=0.1, and alpha @ 1 : validation error is 0.8675\n",
      "10 iterations, 5 latent factors, regularization=0.1, and alpha @ 50 : validation error is 0.4845\n",
      "10 iterations, 5 latent factors, regularization=0.1, and alpha @ 500 : validation error is 0.3407\n",
      "10 iterations, 5 latent factors, regularization=0.1, and alpha @ 1000 : validation error is 0.3279\n",
      "10 iterations, 5 latent factors, regularization=0.1, and alpha @ 5000 : validation error is 0.3244\n",
      "10 iterations, 10 latent factors, regularization=0.1, and alpha @ 1 : validation error is 0.8504\n",
      "10 iterations, 10 latent factors, regularization=0.1, and alpha @ 50 : validation error is 0.4947\n",
      "10 iterations, 10 latent factors, regularization=0.1, and alpha @ 500 : validation error is 0.4125\n",
      "10 iterations, 10 latent factors, regularization=0.1, and alpha @ 1000 : validation error is 0.4193\n",
      "10 iterations, 10 latent factors, regularization=0.1, and alpha @ 5000 : validation error is 0.4654\n",
      "10 iterations, 15 latent factors, regularization=0.1, and alpha @ 1 : validation error is 0.8420\n",
      "10 iterations, 15 latent factors, regularization=0.1, and alpha @ 50 : validation error is 0.5170\n",
      "10 iterations, 15 latent factors, regularization=0.1, and alpha @ 500 : validation error is 0.4756\n",
      "10 iterations, 15 latent factors, regularization=0.1, and alpha @ 1000 : validation error is 0.4921\n",
      "10 iterations, 15 latent factors, regularization=0.1, and alpha @ 5000 : validation error is 0.5323\n",
      "10 iterations, 20 latent factors, regularization=0.1, and alpha @ 1 : validation error is 0.8389\n",
      "10 iterations, 20 latent factors, regularization=0.1, and alpha @ 50 : validation error is 0.5485\n",
      "10 iterations, 20 latent factors, regularization=0.1, and alpha @ 500 : validation error is 0.5415\n",
      "10 iterations, 20 latent factors, regularization=0.1, and alpha @ 1000 : validation error is 0.5649\n",
      "10 iterations, 20 latent factors, regularization=0.1, and alpha @ 5000 : validation error is 0.6156\n",
      "10 iterations, 5 latent factors, regularization=0.5, and alpha @ 1 : validation error is 0.9135\n",
      "10 iterations, 5 latent factors, regularization=0.5, and alpha @ 50 : validation error is 0.4870\n",
      "10 iterations, 5 latent factors, regularization=0.5, and alpha @ 500 : validation error is 0.3390\n",
      "10 iterations, 5 latent factors, regularization=0.5, and alpha @ 1000 : validation error is 0.3258\n",
      "10 iterations, 5 latent factors, regularization=0.5, and alpha @ 5000 : validation error is 0.3217\n",
      "10 iterations, 10 latent factors, regularization=0.5, and alpha @ 1 : validation error is 0.9034\n",
      "10 iterations, 10 latent factors, regularization=0.5, and alpha @ 50 : validation error is 0.4932\n",
      "10 iterations, 10 latent factors, regularization=0.5, and alpha @ 500 : validation error is 0.4048\n",
      "10 iterations, 10 latent factors, regularization=0.5, and alpha @ 1000 : validation error is 0.4094\n",
      "10 iterations, 10 latent factors, regularization=0.5, and alpha @ 5000 : validation error is 0.4550\n",
      "10 iterations, 15 latent factors, regularization=0.5, and alpha @ 1 : validation error is 0.8992\n",
      "10 iterations, 15 latent factors, regularization=0.5, and alpha @ 50 : validation error is 0.5104\n",
      "10 iterations, 15 latent factors, regularization=0.5, and alpha @ 500 : validation error is 0.4607\n",
      "10 iterations, 15 latent factors, regularization=0.5, and alpha @ 1000 : validation error is 0.4750\n",
      "10 iterations, 15 latent factors, regularization=0.5, and alpha @ 5000 : validation error is 0.5163\n",
      "10 iterations, 20 latent factors, regularization=0.5, and alpha @ 1 : validation error is 0.8968\n",
      "10 iterations, 20 latent factors, regularization=0.5, and alpha @ 50 : validation error is 0.5359\n",
      "10 iterations, 20 latent factors, regularization=0.5, and alpha @ 500 : validation error is 0.5202\n",
      "10 iterations, 20 latent factors, regularization=0.5, and alpha @ 1000 : validation error is 0.5426\n",
      "10 iterations, 20 latent factors, regularization=0.5, and alpha @ 5000 : validation error is 0.5967\n",
      "20 iterations, 5 latent factors, regularization=0.01, and alpha @ 1 : validation error is 0.8601\n",
      "20 iterations, 5 latent factors, regularization=0.01, and alpha @ 50 : validation error is 0.4797\n",
      "20 iterations, 5 latent factors, regularization=0.01, and alpha @ 500 : validation error is 0.3245\n",
      "20 iterations, 5 latent factors, regularization=0.01, and alpha @ 1000 : validation error is 0.3149\n",
      "20 iterations, 5 latent factors, regularization=0.01, and alpha @ 5000 : validation error is 0.3247\n",
      "20 iterations, 10 latent factors, regularization=0.01, and alpha @ 1 : validation error is 0.8424\n",
      "20 iterations, 10 latent factors, regularization=0.01, and alpha @ 50 : validation error is 0.4895\n",
      "20 iterations, 10 latent factors, regularization=0.01, and alpha @ 500 : validation error is 0.3976\n",
      "20 iterations, 10 latent factors, regularization=0.01, and alpha @ 1000 : validation error is 0.3989\n",
      "20 iterations, 10 latent factors, regularization=0.01, and alpha @ 5000 : validation error is 0.4476\n",
      "20 iterations, 15 latent factors, regularization=0.01, and alpha @ 1 : validation error is 0.8344\n",
      "20 iterations, 15 latent factors, regularization=0.01, and alpha @ 50 : validation error is 0.5130\n",
      "20 iterations, 15 latent factors, regularization=0.01, and alpha @ 500 : validation error is 0.4603\n",
      "20 iterations, 15 latent factors, regularization=0.01, and alpha @ 1000 : validation error is 0.4735\n",
      "20 iterations, 15 latent factors, regularization=0.01, and alpha @ 5000 : validation error is 0.5183\n",
      "20 iterations, 20 latent factors, regularization=0.01, and alpha @ 1 : validation error is 0.8314\n",
      "20 iterations, 20 latent factors, regularization=0.01, and alpha @ 50 : validation error is 0.5423\n",
      "20 iterations, 20 latent factors, regularization=0.01, and alpha @ 500 : validation error is 0.5244\n",
      "20 iterations, 20 latent factors, regularization=0.01, and alpha @ 1000 : validation error is 0.5401\n",
      "20 iterations, 20 latent factors, regularization=0.01, and alpha @ 5000 : validation error is 0.5934\n",
      "20 iterations, 5 latent factors, regularization=0.1, and alpha @ 1 : validation error is 0.8673\n",
      "20 iterations, 5 latent factors, regularization=0.1, and alpha @ 50 : validation error is 0.4806\n",
      "20 iterations, 5 latent factors, regularization=0.1, and alpha @ 500 : validation error is 0.3240\n"
     ]
    },
    {
     "name": "stdout",
     "output_type": "stream",
     "text": [
      "20 iterations, 5 latent factors, regularization=0.1, and alpha @ 1000 : validation error is 0.3143\n",
      "20 iterations, 5 latent factors, regularization=0.1, and alpha @ 5000 : validation error is 0.3239\n",
      "20 iterations, 10 latent factors, regularization=0.1, and alpha @ 1 : validation error is 0.8494\n",
      "20 iterations, 10 latent factors, regularization=0.1, and alpha @ 50 : validation error is 0.4890\n",
      "20 iterations, 10 latent factors, regularization=0.1, and alpha @ 500 : validation error is 0.3956\n",
      "20 iterations, 10 latent factors, regularization=0.1, and alpha @ 1000 : validation error is 0.3965\n",
      "20 iterations, 10 latent factors, regularization=0.1, and alpha @ 5000 : validation error is 0.4443\n",
      "20 iterations, 15 latent factors, regularization=0.1, and alpha @ 1 : validation error is 0.8409\n",
      "20 iterations, 15 latent factors, regularization=0.1, and alpha @ 50 : validation error is 0.5112\n",
      "20 iterations, 15 latent factors, regularization=0.1, and alpha @ 500 : validation error is 0.4558\n",
      "20 iterations, 15 latent factors, regularization=0.1, and alpha @ 1000 : validation error is 0.4682\n",
      "20 iterations, 15 latent factors, regularization=0.1, and alpha @ 5000 : validation error is 0.5127\n",
      "20 iterations, 20 latent factors, regularization=0.1, and alpha @ 1 : validation error is 0.8367\n",
      "20 iterations, 20 latent factors, regularization=0.1, and alpha @ 50 : validation error is 0.5381\n",
      "20 iterations, 20 latent factors, regularization=0.1, and alpha @ 500 : validation error is 0.5172\n",
      "20 iterations, 20 latent factors, regularization=0.1, and alpha @ 1000 : validation error is 0.5330\n",
      "20 iterations, 20 latent factors, regularization=0.1, and alpha @ 5000 : validation error is 0.5864\n",
      "20 iterations, 5 latent factors, regularization=0.5, and alpha @ 1 : validation error is 0.9133\n",
      "20 iterations, 5 latent factors, regularization=0.5, and alpha @ 50 : validation error is 0.4824\n",
      "20 iterations, 5 latent factors, regularization=0.5, and alpha @ 500 : validation error is 0.3220\n",
      "20 iterations, 5 latent factors, regularization=0.5, and alpha @ 1000 : validation error is 0.3118\n",
      "20 iterations, 5 latent factors, regularization=0.5, and alpha @ 5000 : validation error is 0.3203\n",
      "20 iterations, 10 latent factors, regularization=0.5, and alpha @ 1 : validation error is 0.9031\n",
      "20 iterations, 10 latent factors, regularization=0.5, and alpha @ 50 : validation error is 0.4868\n",
      "20 iterations, 10 latent factors, regularization=0.5, and alpha @ 500 : validation error is 0.3881\n",
      "20 iterations, 10 latent factors, regularization=0.5, and alpha @ 1000 : validation error is 0.3881\n",
      "20 iterations, 10 latent factors, regularization=0.5, and alpha @ 5000 : validation error is 0.4314\n",
      "20 iterations, 15 latent factors, regularization=0.5, and alpha @ 1 : validation error is 0.8986\n",
      "20 iterations, 15 latent factors, regularization=0.5, and alpha @ 50 : validation error is 0.5048\n",
      "20 iterations, 15 latent factors, regularization=0.5, and alpha @ 500 : validation error is 0.4422\n",
      "20 iterations, 15 latent factors, regularization=0.5, and alpha @ 1000 : validation error is 0.4520\n",
      "20 iterations, 15 latent factors, regularization=0.5, and alpha @ 5000 : validation error is 0.4935\n",
      "20 iterations, 20 latent factors, regularization=0.5, and alpha @ 1 : validation error is 0.8959\n",
      "20 iterations, 20 latent factors, regularization=0.5, and alpha @ 50 : validation error is 0.5255\n",
      "20 iterations, 20 latent factors, regularization=0.5, and alpha @ 500 : validation error is 0.4980\n",
      "20 iterations, 20 latent factors, regularization=0.5, and alpha @ 1000 : validation error is 0.5128\n",
      "20 iterations, 20 latent factors, regularization=0.5, and alpha @ 5000 : validation error is 0.5638\n",
      "Total Runtime: 830.64 seconds\n"
     ]
    }
   ],
   "source": [
    "# grid search and select best model\n",
    "start_time = time.time()\n",
    "#final_model, param_errors = tr_ALS(train, test, eval_reg, num_iterations, reg_params, ranks, alphas)\n",
    "final_model, params_errs = cr.train_ALS(gs_train, gs_val, eval_reg, num_iterations, reg_params, ranks, alphas)\n",
    "\n",
    "print ('Total Runtime: {:.2f} seconds'.format(time.time() - start_time))"
   ]
  },
  {
   "cell_type": "markdown",
   "metadata": {},
   "source": [
    "Save the descriptive results"
   ]
  },
  {
   "cell_type": "code",
   "execution_count": 23,
   "metadata": {},
   "outputs": [],
   "source": [
    "param_errs_rd_1 = params_errs"
   ]
  },
  {
   "cell_type": "code",
   "execution_count": 24,
   "metadata": {},
   "outputs": [],
   "source": [
    "with open('support_data/params_errs_rd1.pkl', 'wb') as f:\n",
    "    pickle.dump(param_errs_rd_1, f)\n",
    "    \n",
    "# Example - load pickle\n",
    "# pickle_in = open(\"support_data/params_errs_rd1.pkl\",\"rb\")\n",
    "# pe1 = pickle.load(pickle_in)"
   ]
  },
  {
   "cell_type": "markdown",
   "metadata": {},
   "source": [
    "Hmmm. Let's put `params_errs` into a dataframe and find the model with the lowest error!"
   ]
  },
  {
   "cell_type": "code",
   "execution_count": 25,
   "metadata": {},
   "outputs": [],
   "source": [
    "gs_cols = ['max_iters', 'reg', 'rank', 'alpha', 'rmse']"
   ]
  },
  {
   "cell_type": "code",
   "execution_count": 26,
   "metadata": {},
   "outputs": [],
   "source": [
    "gs_df = pd.DataFrame(params_errs, columns=gs_cols)"
   ]
  },
  {
   "cell_type": "code",
   "execution_count": 27,
   "metadata": {},
   "outputs": [
    {
     "data": {
      "text/html": [
       "<div>\n",
       "<style scoped>\n",
       "    .dataframe tbody tr th:only-of-type {\n",
       "        vertical-align: middle;\n",
       "    }\n",
       "\n",
       "    .dataframe tbody tr th {\n",
       "        vertical-align: top;\n",
       "    }\n",
       "\n",
       "    .dataframe thead th {\n",
       "        text-align: right;\n",
       "    }\n",
       "</style>\n",
       "<table border=\"1\" class=\"dataframe\">\n",
       "  <thead>\n",
       "    <tr style=\"text-align: right;\">\n",
       "      <th></th>\n",
       "      <th>max_iters</th>\n",
       "      <th>reg</th>\n",
       "      <th>rank</th>\n",
       "      <th>alpha</th>\n",
       "      <th>rmse</th>\n",
       "    </tr>\n",
       "  </thead>\n",
       "  <tbody>\n",
       "    <tr>\n",
       "      <th>0</th>\n",
       "      <td>10</td>\n",
       "      <td>0.01</td>\n",
       "      <td>5</td>\n",
       "      <td>1</td>\n",
       "      <td>0.861754</td>\n",
       "    </tr>\n",
       "    <tr>\n",
       "      <th>1</th>\n",
       "      <td>10</td>\n",
       "      <td>0.01</td>\n",
       "      <td>5</td>\n",
       "      <td>50</td>\n",
       "      <td>0.483533</td>\n",
       "    </tr>\n",
       "    <tr>\n",
       "      <th>2</th>\n",
       "      <td>10</td>\n",
       "      <td>0.01</td>\n",
       "      <td>5</td>\n",
       "      <td>500</td>\n",
       "      <td>0.341092</td>\n",
       "    </tr>\n",
       "    <tr>\n",
       "      <th>3</th>\n",
       "      <td>10</td>\n",
       "      <td>0.01</td>\n",
       "      <td>5</td>\n",
       "      <td>1000</td>\n",
       "      <td>0.328459</td>\n",
       "    </tr>\n",
       "    <tr>\n",
       "      <th>4</th>\n",
       "      <td>10</td>\n",
       "      <td>0.01</td>\n",
       "      <td>5</td>\n",
       "      <td>5000</td>\n",
       "      <td>0.324995</td>\n",
       "    </tr>\n",
       "  </tbody>\n",
       "</table>\n",
       "</div>"
      ],
      "text/plain": [
       "   max_iters   reg  rank  alpha      rmse\n",
       "0         10  0.01     5      1  0.861754\n",
       "1         10  0.01     5     50  0.483533\n",
       "2         10  0.01     5    500  0.341092\n",
       "3         10  0.01     5   1000  0.328459\n",
       "4         10  0.01     5   5000  0.324995"
      ]
     },
     "execution_count": 27,
     "metadata": {},
     "output_type": "execute_result"
    }
   ],
   "source": [
    "gs_df.head()"
   ]
  },
  {
   "cell_type": "code",
   "execution_count": 28,
   "metadata": {},
   "outputs": [],
   "source": [
    "min_err = gs_df.rmse.min()"
   ]
  },
  {
   "cell_type": "code",
   "execution_count": 49,
   "metadata": {},
   "outputs": [],
   "source": [
    "min_df = gs_df.loc[gs_df['rmse']==min_err]"
   ]
  },
  {
   "cell_type": "code",
   "execution_count": 65,
   "metadata": {},
   "outputs": [],
   "source": [
    "best_max_iter = min_df['max_iters'].iloc[0]\n",
    "best_reg = min_df['reg'].iloc[0]\n",
    "best_rank = min_df['rank'].iloc[0]\n",
    "best_alpha = min_df['alpha'].iloc[0]"
   ]
  },
  {
   "cell_type": "markdown",
   "metadata": {},
   "source": [
    "Let's do some visual comparisons."
   ]
  },
  {
   "cell_type": "code",
   "execution_count": 67,
   "metadata": {},
   "outputs": [],
   "source": [
    "gs_rank_match = (gs_df['rank']==best_rank)\n",
    "gs_reg_match = (gs_df['reg']==best_reg)\n",
    "gs_iter_match = (gs_df['max_iters']==best_max_iter)\n",
    "gs_alpha_match = (gs_df['alpha']==best_alpha)"
   ]
  },
  {
   "cell_type": "code",
   "execution_count": 69,
   "metadata": {},
   "outputs": [],
   "source": [
    "gs_vary_rank = gs_df.loc[(gs_reg_match & gs_iter_match & gs_alpha_match),:]"
   ]
  },
  {
   "cell_type": "code",
   "execution_count": 70,
   "metadata": {},
   "outputs": [
    {
     "data": {
      "text/html": [
       "<div>\n",
       "<style scoped>\n",
       "    .dataframe tbody tr th:only-of-type {\n",
       "        vertical-align: middle;\n",
       "    }\n",
       "\n",
       "    .dataframe tbody tr th {\n",
       "        vertical-align: top;\n",
       "    }\n",
       "\n",
       "    .dataframe thead th {\n",
       "        text-align: right;\n",
       "    }\n",
       "</style>\n",
       "<table border=\"1\" class=\"dataframe\">\n",
       "  <thead>\n",
       "    <tr style=\"text-align: right;\">\n",
       "      <th></th>\n",
       "      <th>max_iters</th>\n",
       "      <th>reg</th>\n",
       "      <th>rank</th>\n",
       "      <th>alpha</th>\n",
       "      <th>rmse</th>\n",
       "    </tr>\n",
       "  </thead>\n",
       "  <tbody>\n",
       "    <tr>\n",
       "      <th>103</th>\n",
       "      <td>20</td>\n",
       "      <td>0.5</td>\n",
       "      <td>5</td>\n",
       "      <td>1000</td>\n",
       "      <td>0.311754</td>\n",
       "    </tr>\n",
       "    <tr>\n",
       "      <th>108</th>\n",
       "      <td>20</td>\n",
       "      <td>0.5</td>\n",
       "      <td>10</td>\n",
       "      <td>1000</td>\n",
       "      <td>0.388065</td>\n",
       "    </tr>\n",
       "    <tr>\n",
       "      <th>113</th>\n",
       "      <td>20</td>\n",
       "      <td>0.5</td>\n",
       "      <td>15</td>\n",
       "      <td>1000</td>\n",
       "      <td>0.452006</td>\n",
       "    </tr>\n",
       "    <tr>\n",
       "      <th>118</th>\n",
       "      <td>20</td>\n",
       "      <td>0.5</td>\n",
       "      <td>20</td>\n",
       "      <td>1000</td>\n",
       "      <td>0.512826</td>\n",
       "    </tr>\n",
       "  </tbody>\n",
       "</table>\n",
       "</div>"
      ],
      "text/plain": [
       "     max_iters  reg  rank  alpha      rmse\n",
       "103         20  0.5     5   1000  0.311754\n",
       "108         20  0.5    10   1000  0.388065\n",
       "113         20  0.5    15   1000  0.452006\n",
       "118         20  0.5    20   1000  0.512826"
      ]
     },
     "execution_count": 70,
     "metadata": {},
     "output_type": "execute_result"
    }
   ],
   "source": [
    "gs_vary_rank"
   ]
  },
  {
   "cell_type": "code",
   "execution_count": 71,
   "metadata": {},
   "outputs": [],
   "source": [
    "gs_vary_alpha = gs_df.loc[(gs_reg_match & gs_iter_match & gs_rank_match),:]"
   ]
  },
  {
   "cell_type": "code",
   "execution_count": 73,
   "metadata": {},
   "outputs": [
    {
     "data": {
      "text/html": [
       "<div>\n",
       "<style scoped>\n",
       "    .dataframe tbody tr th:only-of-type {\n",
       "        vertical-align: middle;\n",
       "    }\n",
       "\n",
       "    .dataframe tbody tr th {\n",
       "        vertical-align: top;\n",
       "    }\n",
       "\n",
       "    .dataframe thead th {\n",
       "        text-align: right;\n",
       "    }\n",
       "</style>\n",
       "<table border=\"1\" class=\"dataframe\">\n",
       "  <thead>\n",
       "    <tr style=\"text-align: right;\">\n",
       "      <th></th>\n",
       "      <th>max_iters</th>\n",
       "      <th>reg</th>\n",
       "      <th>rank</th>\n",
       "      <th>alpha</th>\n",
       "      <th>rmse</th>\n",
       "    </tr>\n",
       "  </thead>\n",
       "  <tbody>\n",
       "    <tr>\n",
       "      <th>100</th>\n",
       "      <td>20</td>\n",
       "      <td>0.5</td>\n",
       "      <td>5</td>\n",
       "      <td>1</td>\n",
       "      <td>0.913288</td>\n",
       "    </tr>\n",
       "    <tr>\n",
       "      <th>101</th>\n",
       "      <td>20</td>\n",
       "      <td>0.5</td>\n",
       "      <td>5</td>\n",
       "      <td>50</td>\n",
       "      <td>0.482446</td>\n",
       "    </tr>\n",
       "    <tr>\n",
       "      <th>102</th>\n",
       "      <td>20</td>\n",
       "      <td>0.5</td>\n",
       "      <td>5</td>\n",
       "      <td>500</td>\n",
       "      <td>0.322004</td>\n",
       "    </tr>\n",
       "    <tr>\n",
       "      <th>103</th>\n",
       "      <td>20</td>\n",
       "      <td>0.5</td>\n",
       "      <td>5</td>\n",
       "      <td>1000</td>\n",
       "      <td>0.311754</td>\n",
       "    </tr>\n",
       "    <tr>\n",
       "      <th>104</th>\n",
       "      <td>20</td>\n",
       "      <td>0.5</td>\n",
       "      <td>5</td>\n",
       "      <td>5000</td>\n",
       "      <td>0.320347</td>\n",
       "    </tr>\n",
       "  </tbody>\n",
       "</table>\n",
       "</div>"
      ],
      "text/plain": [
       "     max_iters  reg  rank  alpha      rmse\n",
       "100         20  0.5     5      1  0.913288\n",
       "101         20  0.5     5     50  0.482446\n",
       "102         20  0.5     5    500  0.322004\n",
       "103         20  0.5     5   1000  0.311754\n",
       "104         20  0.5     5   5000  0.320347"
      ]
     },
     "execution_count": 73,
     "metadata": {},
     "output_type": "execute_result"
    }
   ],
   "source": [
    "gs_vary_alpha"
   ]
  },
  {
   "cell_type": "code",
   "execution_count": 74,
   "metadata": {},
   "outputs": [],
   "source": [
    "gs_vary_reg = gs_df.loc[(gs_alpha_match & gs_iter_match & gs_rank_match),:]"
   ]
  },
  {
   "cell_type": "code",
   "execution_count": 75,
   "metadata": {},
   "outputs": [
    {
     "data": {
      "text/html": [
       "<div>\n",
       "<style scoped>\n",
       "    .dataframe tbody tr th:only-of-type {\n",
       "        vertical-align: middle;\n",
       "    }\n",
       "\n",
       "    .dataframe tbody tr th {\n",
       "        vertical-align: top;\n",
       "    }\n",
       "\n",
       "    .dataframe thead th {\n",
       "        text-align: right;\n",
       "    }\n",
       "</style>\n",
       "<table border=\"1\" class=\"dataframe\">\n",
       "  <thead>\n",
       "    <tr style=\"text-align: right;\">\n",
       "      <th></th>\n",
       "      <th>max_iters</th>\n",
       "      <th>reg</th>\n",
       "      <th>rank</th>\n",
       "      <th>alpha</th>\n",
       "      <th>rmse</th>\n",
       "    </tr>\n",
       "  </thead>\n",
       "  <tbody>\n",
       "    <tr>\n",
       "      <th>63</th>\n",
       "      <td>20</td>\n",
       "      <td>0.01</td>\n",
       "      <td>5</td>\n",
       "      <td>1000</td>\n",
       "      <td>0.314909</td>\n",
       "    </tr>\n",
       "    <tr>\n",
       "      <th>83</th>\n",
       "      <td>20</td>\n",
       "      <td>0.10</td>\n",
       "      <td>5</td>\n",
       "      <td>1000</td>\n",
       "      <td>0.314317</td>\n",
       "    </tr>\n",
       "    <tr>\n",
       "      <th>103</th>\n",
       "      <td>20</td>\n",
       "      <td>0.50</td>\n",
       "      <td>5</td>\n",
       "      <td>1000</td>\n",
       "      <td>0.311754</td>\n",
       "    </tr>\n",
       "  </tbody>\n",
       "</table>\n",
       "</div>"
      ],
      "text/plain": [
       "     max_iters   reg  rank  alpha      rmse\n",
       "63          20  0.01     5   1000  0.314909\n",
       "83          20  0.10     5   1000  0.314317\n",
       "103         20  0.50     5   1000  0.311754"
      ]
     },
     "execution_count": 75,
     "metadata": {},
     "output_type": "execute_result"
    }
   ],
   "source": [
    "gs_vary_reg"
   ]
  },
  {
   "cell_type": "code",
   "execution_count": 78,
   "metadata": {},
   "outputs": [],
   "source": [
    "gs_vary_iter = gs_df.loc[(gs_alpha_match & gs_reg_match & gs_rank_match),:]"
   ]
  },
  {
   "cell_type": "code",
   "execution_count": 79,
   "metadata": {},
   "outputs": [
    {
     "data": {
      "text/html": [
       "<div>\n",
       "<style scoped>\n",
       "    .dataframe tbody tr th:only-of-type {\n",
       "        vertical-align: middle;\n",
       "    }\n",
       "\n",
       "    .dataframe tbody tr th {\n",
       "        vertical-align: top;\n",
       "    }\n",
       "\n",
       "    .dataframe thead th {\n",
       "        text-align: right;\n",
       "    }\n",
       "</style>\n",
       "<table border=\"1\" class=\"dataframe\">\n",
       "  <thead>\n",
       "    <tr style=\"text-align: right;\">\n",
       "      <th></th>\n",
       "      <th>max_iters</th>\n",
       "      <th>reg</th>\n",
       "      <th>rank</th>\n",
       "      <th>alpha</th>\n",
       "      <th>rmse</th>\n",
       "    </tr>\n",
       "  </thead>\n",
       "  <tbody>\n",
       "    <tr>\n",
       "      <th>43</th>\n",
       "      <td>10</td>\n",
       "      <td>0.5</td>\n",
       "      <td>5</td>\n",
       "      <td>1000</td>\n",
       "      <td>0.325782</td>\n",
       "    </tr>\n",
       "    <tr>\n",
       "      <th>103</th>\n",
       "      <td>20</td>\n",
       "      <td>0.5</td>\n",
       "      <td>5</td>\n",
       "      <td>1000</td>\n",
       "      <td>0.311754</td>\n",
       "    </tr>\n",
       "  </tbody>\n",
       "</table>\n",
       "</div>"
      ],
      "text/plain": [
       "     max_iters  reg  rank  alpha      rmse\n",
       "43          10  0.5     5   1000  0.325782\n",
       "103         20  0.5     5   1000  0.311754"
      ]
     },
     "execution_count": 79,
     "metadata": {},
     "output_type": "execute_result"
    }
   ],
   "source": [
    "gs_vary_iter"
   ]
  },
  {
   "cell_type": "markdown",
   "metadata": {},
   "source": [
    "So quick inspection on these, lets:\n",
    "- keep `rank` = 5\n",
    "- When compared to all the other combos, the differences in `alpha`s seem to not really move the needle > 500. so let's just call it `1000`\n",
    "- Keep `maxIter` at `20`; experience to date with my assets seems to show 20 is max capability before technical difficulties arise.\n",
    "- Similar with `alpha`, the marginal change in error due to changing `reg` is really small. So let's just assume the default `.01`.\n",
    "\n",
    "So, that means we are done selecting! We may really be pushing overfitting."
   ]
  },
  {
   "cell_type": "markdown",
   "metadata": {},
   "source": [
    "One last thing, let chart change in RMSE over change in alpha."
   ]
  },
  {
   "cell_type": "code",
   "execution_count": 87,
   "metadata": {},
   "outputs": [],
   "source": [
    "alpha_graph_df = gs_vary_alpha.copy()"
   ]
  },
  {
   "cell_type": "code",
   "execution_count": 162,
   "metadata": {},
   "outputs": [],
   "source": [
    "alpha_graph_df['params_desc'] = (\n",
    "                                '\\u03B1=' + alpha_graph_df['alpha'].map(str) \n",
    "                                )\n",
    "                                 "
   ]
  },
  {
   "cell_type": "code",
   "execution_count": 163,
   "metadata": {},
   "outputs": [
    {
     "data": {
      "text/html": [
       "<div>\n",
       "<style scoped>\n",
       "    .dataframe tbody tr th:only-of-type {\n",
       "        vertical-align: middle;\n",
       "    }\n",
       "\n",
       "    .dataframe tbody tr th {\n",
       "        vertical-align: top;\n",
       "    }\n",
       "\n",
       "    .dataframe thead th {\n",
       "        text-align: right;\n",
       "    }\n",
       "</style>\n",
       "<table border=\"1\" class=\"dataframe\">\n",
       "  <thead>\n",
       "    <tr style=\"text-align: right;\">\n",
       "      <th></th>\n",
       "      <th>max_iters</th>\n",
       "      <th>reg</th>\n",
       "      <th>rank</th>\n",
       "      <th>alpha</th>\n",
       "      <th>rmse</th>\n",
       "      <th>params_desc</th>\n",
       "    </tr>\n",
       "  </thead>\n",
       "  <tbody>\n",
       "    <tr>\n",
       "      <th>100</th>\n",
       "      <td>20</td>\n",
       "      <td>0.5</td>\n",
       "      <td>5</td>\n",
       "      <td>1</td>\n",
       "      <td>0.913288</td>\n",
       "      <td>α=1</td>\n",
       "    </tr>\n",
       "    <tr>\n",
       "      <th>101</th>\n",
       "      <td>20</td>\n",
       "      <td>0.5</td>\n",
       "      <td>5</td>\n",
       "      <td>50</td>\n",
       "      <td>0.482446</td>\n",
       "      <td>α=50</td>\n",
       "    </tr>\n",
       "    <tr>\n",
       "      <th>102</th>\n",
       "      <td>20</td>\n",
       "      <td>0.5</td>\n",
       "      <td>5</td>\n",
       "      <td>500</td>\n",
       "      <td>0.322004</td>\n",
       "      <td>α=500</td>\n",
       "    </tr>\n",
       "    <tr>\n",
       "      <th>103</th>\n",
       "      <td>20</td>\n",
       "      <td>0.5</td>\n",
       "      <td>5</td>\n",
       "      <td>1000</td>\n",
       "      <td>0.311754</td>\n",
       "      <td>α=1000</td>\n",
       "    </tr>\n",
       "    <tr>\n",
       "      <th>104</th>\n",
       "      <td>20</td>\n",
       "      <td>0.5</td>\n",
       "      <td>5</td>\n",
       "      <td>5000</td>\n",
       "      <td>0.320347</td>\n",
       "      <td>α=5000</td>\n",
       "    </tr>\n",
       "  </tbody>\n",
       "</table>\n",
       "</div>"
      ],
      "text/plain": [
       "     max_iters  reg  rank  alpha      rmse params_desc\n",
       "100         20  0.5     5      1  0.913288         α=1\n",
       "101         20  0.5     5     50  0.482446        α=50\n",
       "102         20  0.5     5    500  0.322004       α=500\n",
       "103         20  0.5     5   1000  0.311754      α=1000\n",
       "104         20  0.5     5   5000  0.320347      α=5000"
      ]
     },
     "execution_count": 163,
     "metadata": {},
     "output_type": "execute_result"
    }
   ],
   "source": [
    "alpha_graph_df"
   ]
  },
  {
   "cell_type": "code",
   "execution_count": 164,
   "metadata": {},
   "outputs": [],
   "source": [
    "import seaborn as sns\n",
    "import matplotlib.pyplot as plt"
   ]
  },
  {
   "cell_type": "code",
   "execution_count": 198,
   "metadata": {},
   "outputs": [
    {
     "data": {
      "image/png": "[encoded data removed]",
      "text/plain": [
       "<Figure size 720x720 with 1 Axes>"
      ]
     },
     "metadata": {},
     "output_type": "display_data"
    }
   ],
   "source": [
    "sns.set(style=\"whitegrid\")\n",
    "sns.set(font_scale=2)\n",
    "\n",
    "fig, ax = plt.subplots(figsize=(10, 10))\n",
    "\n",
    "# Plot RMSE\n",
    "sns.set_color_codes(\"pastel\")\n",
    "s = sns.barplot(x=\"rmse\", y=\"params_desc\", data=alpha_graph_df,\n",
    "            label=\"RMSE\", color=\"b\")\n",
    "\n",
    "# Add a legend and informative axis label\n",
    "ax.legend(ncol=2, loc=\"lower right\", frameon=True)\n",
    "ax.set(ylabel=\"\",\n",
    "       xlabel=\"Max Iterations: 20 | Latent Factors: 5\")\n",
    "ax.set_title(\"Change in Error over Alpha\")\n",
    "sns.despine(left=True, bottom=True)\n",
    "\n",
    "fig = s.get_figure()\n",
    "fig.savefig('support_data/alphas.png') "
   ]
  },
  {
   "cell_type": "markdown",
   "metadata": {},
   "source": [
    "**OK**. Let's call it good. \n",
    "\n",
    "## Results \n",
    "Looks like the best parameters we could find are:\n",
    "- `maxIter` = 20\n",
    "- `rank` = 5\n",
    "- `regParam` = 0.1 (default)\n",
    "- `alpha` = 1000\n",
    "\n",
    "Let's cross-validate this candidate model."
   ]
  },
  {
   "cell_type": "markdown",
   "metadata": {},
   "source": [
    "## Cross Validation\n",
    "\n",
    "Let's cross-validate because we didn't actually do it in the grid search. We want to make sure that the selected model is not overfitting.\n",
    "\n",
    "The built-in cross validator in `Spark` keeps breaking when I try to use it, so let's build our own function."
   ]
  },
  {
   "cell_type": "code",
   "execution_count": 166,
   "metadata": {},
   "outputs": [],
   "source": [
    "k = 5\n",
    "random_seed = 41916"
   ]
  },
  {
   "cell_type": "code",
   "execution_count": 172,
   "metadata": {},
   "outputs": [],
   "source": [
    "folds = cr.get_spark_k_folds(train, k=5, random_seed=random_seed)"
   ]
  },
  {
   "cell_type": "code",
   "execution_count": 173,
   "metadata": {},
   "outputs": [],
   "source": [
    "# Create ALS instance for cv with our chosen parametrs\n",
    "als_cv = ALS(maxIter=best_max_iter,\n",
    "          rank=best_rank,\n",
    "          userCol='account_id',\n",
    "          itemCol='comic_id',\n",
    "          ratingCol='bought',\n",
    "          implicitPrefs=True,\n",
    "          regParam=best_reg,\n",
    "          alpha=best_alpha,\n",
    "          coldStartStrategy='drop', # we want to drop so can get through CV\n",
    "          seed=41916)"
   ]
  },
  {
   "cell_type": "code",
   "execution_count": 174,
   "metadata": {},
   "outputs": [],
   "source": [
    "errors = cr.get_cv_errors(folds, als_cv, eval_reg)"
   ]
  },
  {
   "cell_type": "code",
   "execution_count": 175,
   "metadata": {},
   "outputs": [
    {
     "data": {
      "text/plain": [
       "True"
      ]
     },
     "execution_count": 175,
     "metadata": {},
     "output_type": "execute_result"
    }
   ],
   "source": [
    "# Make sure that # of errors = k\n",
    "k == len(errors)"
   ]
  },
  {
   "cell_type": "code",
   "execution_count": 180,
   "metadata": {},
   "outputs": [
    {
     "name": "stdout",
     "output_type": "stream",
     "text": [
      "Accuracy: 0.310 (+/- 0.017)\n"
     ]
    }
   ],
   "source": [
    "print(\"Accuracy: %0.3f (+/- %0.3f)\" % (np.mean(errors), np.std(errors) * 2))"
   ]
  },
  {
   "cell_type": "markdown",
   "metadata": {},
   "source": [
    "Looks stable. Let's go with it."
   ]
  },
  {
   "cell_type": "markdown",
   "metadata": {},
   "source": [
    "## Test the Candidate Model\n",
    "\n",
    "Test vs our holdout set."
   ]
  },
  {
   "cell_type": "code",
   "execution_count": 193,
   "metadata": {},
   "outputs": [],
   "source": [
    "# Create ALS instance and fit model\n",
    "als = ALS(maxIter=best_max_iter,\n",
    "          rank=best_rank,\n",
    "          userCol='account_id',\n",
    "          itemCol='comic_id',\n",
    "          ratingCol='bought',\n",
    "          implicitPrefs=True,\n",
    "          regParam=best_reg,\n",
    "          alpha=1000,\n",
    "          coldStartStrategy='drop', # To get our eval\n",
    "          seed=41916)\n",
    "model_use = als.fit(train)"
   ]
  },
  {
   "cell_type": "code",
   "execution_count": 194,
   "metadata": {},
   "outputs": [
    {
     "data": {
      "text/plain": [
       "0.2658167707438543"
      ]
     },
     "execution_count": 194,
     "metadata": {},
     "output_type": "execute_result"
    }
   ],
   "source": [
    "# get predictions on test\n",
    "test_preds = model_use.transform(test)\n",
    "\n",
    "# Evaluate test\n",
    "test_rmse = eval_reg.evaluate(test_preds)\n",
    "test_rmse"
   ]
  },
  {
   "cell_type": "markdown",
   "metadata": {},
   "source": [
    "### Get Top N recommendations for Single User"
   ]
  },
  {
   "cell_type": "markdown",
   "metadata": {},
   "source": [
    "Let's make a reference list of `account_id`'s, for testing purposes."
   ]
  },
  {
   "cell_type": "code",
   "execution_count": 11,
   "metadata": {},
   "outputs": [
    {
     "name": "stdout",
     "output_type": "stream",
     "text": [
      "+----------+\n",
      "|account_id|\n",
      "+----------+\n",
      "|       192|\n",
      "|       569|\n",
      "+----------+\n",
      "\n"
     ]
    }
   ],
   "source": [
    "n_to_test = 2\n",
    "\n",
    "users = (sold.select(als.getUserCol())\n",
    "                          .sample(False\n",
    "                                  ,n_to_test/sold.count()\n",
    "                                  )\n",
    "        )\n",
    "users.persist()\n",
    "users.show(2)"
   ]
  },
  {
   "cell_type": "markdown",
   "metadata": {},
   "source": [
    "We developed and wrote the functionality out to a function in `comic_recs.py`"
   ]
  },
  {
   "cell_type": "markdown",
   "metadata": {},
   "source": [
    "###  Testing function!\n",
    "\n",
    "- Pass the function to a pandas dataframe. \n",
    "- Function will ask for an account_id.\n",
    "- Will return top n, n defined in parameters."
   ]
  },
  {
   "cell_type": "code",
   "execution_count": 10,
   "metadata": {},
   "outputs": [
    {
     "name": "stdout",
     "output_type": "stream",
     "text": [
      "192\n",
      "Total Runtime: 28.51 seconds\n"
     ]
    },
    {
     "data": {
      "text/html": [
       "<div>\n",
       "<style scoped>\n",
       "    .dataframe tbody tr th:only-of-type {\n",
       "        vertical-align: middle;\n",
       "    }\n",
       "\n",
       "    .dataframe tbody tr th {\n",
       "        vertical-align: top;\n",
       "    }\n",
       "\n",
       "    .dataframe thead th {\n",
       "        text-align: right;\n",
       "    }\n",
       "</style>\n",
       "<table border=\"1\" class=\"dataframe\">\n",
       "  <thead>\n",
       "    <tr style=\"text-align: right;\">\n",
       "      <th></th>\n",
       "      <th>comic_title</th>\n",
       "    </tr>\n",
       "  </thead>\n",
       "  <tbody>\n",
       "    <tr>\n",
       "      <th>1</th>\n",
       "      <td>Brightest Day (DC)</td>\n",
       "    </tr>\n",
       "    <tr>\n",
       "      <th>2</th>\n",
       "      <td>New Mutants (Marvel)</td>\n",
       "    </tr>\n",
       "    <tr>\n",
       "      <th>3</th>\n",
       "      <td>Fear Itself (Marvel)</td>\n",
       "    </tr>\n",
       "    <tr>\n",
       "      <th>4</th>\n",
       "      <td>Batman Incorporated (DC)</td>\n",
       "    </tr>\n",
       "    <tr>\n",
       "      <th>5</th>\n",
       "      <td>Birds of Prey (DC)</td>\n",
       "    </tr>\n",
       "  </tbody>\n",
       "</table>\n",
       "</div>"
      ],
      "text/plain": [
       "                comic_title\n",
       "1        Brightest Day (DC)\n",
       "2      New Mutants (Marvel)\n",
       "3      Fear Itself (Marvel)\n",
       "4  Batman Incorporated (DC)\n",
       "5        Birds of Prey (DC)"
      ]
     },
     "execution_count": 10,
     "metadata": {},
     "output_type": "execute_result"
    }
   ],
   "source": [
    "top_n_df = cr.get_top_n_new_recs(spark=spark, model=model_use, topn=5)\n",
    "top_n_df"
   ]
  },
  {
   "cell_type": "code",
   "execution_count": 11,
   "metadata": {},
   "outputs": [
    {
     "name": "stdout",
     "output_type": "stream",
     "text": [
      "569\n",
      "Total Runtime: 29.68 seconds\n"
     ]
    },
    {
     "data": {
      "text/html": [
       "<div>\n",
       "<style scoped>\n",
       "    .dataframe tbody tr th:only-of-type {\n",
       "        vertical-align: middle;\n",
       "    }\n",
       "\n",
       "    .dataframe tbody tr th {\n",
       "        vertical-align: top;\n",
       "    }\n",
       "\n",
       "    .dataframe thead th {\n",
       "        text-align: right;\n",
       "    }\n",
       "</style>\n",
       "<table border=\"1\" class=\"dataframe\">\n",
       "  <thead>\n",
       "    <tr style=\"text-align: right;\">\n",
       "      <th></th>\n",
       "      <th>comic_title</th>\n",
       "    </tr>\n",
       "  </thead>\n",
       "  <tbody>\n",
       "    <tr>\n",
       "      <th>1</th>\n",
       "      <td>Thor (Marvel)</td>\n",
       "    </tr>\n",
       "    <tr>\n",
       "      <th>2</th>\n",
       "      <td>Superior Spider-Man (Marvel)</td>\n",
       "    </tr>\n",
       "    <tr>\n",
       "      <th>3</th>\n",
       "      <td>Invincible (Image)</td>\n",
       "    </tr>\n",
       "    <tr>\n",
       "      <th>4</th>\n",
       "      <td>Image Firsts Saga Curr Ptg (Image)</td>\n",
       "    </tr>\n",
       "    <tr>\n",
       "      <th>5</th>\n",
       "      <td>Superior Iron Man (Marvel)</td>\n",
       "    </tr>\n",
       "  </tbody>\n",
       "</table>\n",
       "</div>"
      ],
      "text/plain": [
       "                          comic_title\n",
       "1                       Thor (Marvel)\n",
       "2        Superior Spider-Man (Marvel)\n",
       "3                  Invincible (Image)\n",
       "4  Image Firsts Saga Curr Ptg (Image)\n",
       "5          Superior Iron Man (Marvel)"
      ]
     },
     "execution_count": 11,
     "metadata": {},
     "output_type": "execute_result"
    }
   ],
   "source": [
    "top_n_df = cr.get_top_n_new_recs(spark=spark, model=model_use, topn=5)\n",
    "top_n_df"
   ]
  },
  {
   "cell_type": "code",
   "execution_count": 12,
   "metadata": {},
   "outputs": [
    {
     "name": "stdout",
     "output_type": "stream",
     "text": [
      "161\n",
      "Total Runtime: 21.43 seconds\n"
     ]
    },
    {
     "data": {
      "text/html": [
       "<div>\n",
       "<style scoped>\n",
       "    .dataframe tbody tr th:only-of-type {\n",
       "        vertical-align: middle;\n",
       "    }\n",
       "\n",
       "    .dataframe tbody tr th {\n",
       "        vertical-align: top;\n",
       "    }\n",
       "\n",
       "    .dataframe thead th {\n",
       "        text-align: right;\n",
       "    }\n",
       "</style>\n",
       "<table border=\"1\" class=\"dataframe\">\n",
       "  <thead>\n",
       "    <tr style=\"text-align: right;\">\n",
       "      <th></th>\n",
       "      <th>comic_title</th>\n",
       "    </tr>\n",
       "  </thead>\n",
       "  <tbody>\n",
       "    <tr>\n",
       "      <th>1</th>\n",
       "      <td>Aliens Dead Orbit (Dark Horse)</td>\n",
       "    </tr>\n",
       "    <tr>\n",
       "      <th>2</th>\n",
       "      <td>Beef (Image)</td>\n",
       "    </tr>\n",
       "    <tr>\n",
       "      <th>3</th>\n",
       "      <td>Vinegar Teeth (Dark Horse)</td>\n",
       "    </tr>\n",
       "    <tr>\n",
       "      <th>4</th>\n",
       "      <td>Leviathan (Image)</td>\n",
       "    </tr>\n",
       "    <tr>\n",
       "      <th>5</th>\n",
       "      <td>Shaolin Cowboy Wholl Stop th (Dark Horse)</td>\n",
       "    </tr>\n",
       "    <tr>\n",
       "      <th>6</th>\n",
       "      <td>Head Lopper (Image)</td>\n",
       "    </tr>\n",
       "    <tr>\n",
       "      <th>7</th>\n",
       "      <td>Crossed Badlands (Avatar)</td>\n",
       "    </tr>\n",
       "    <tr>\n",
       "      <th>8</th>\n",
       "      <td>Punisher (Marvel)</td>\n",
       "    </tr>\n",
       "    <tr>\n",
       "      <th>9</th>\n",
       "      <td>Godzilla Oblivion (IDW)</td>\n",
       "    </tr>\n",
       "    <tr>\n",
       "      <th>10</th>\n",
       "      <td>Nova (Marvel)</td>\n",
       "    </tr>\n",
       "  </tbody>\n",
       "</table>\n",
       "</div>"
      ],
      "text/plain": [
       "                                  comic_title\n",
       "1              Aliens Dead Orbit (Dark Horse)\n",
       "2                                Beef (Image)\n",
       "3                  Vinegar Teeth (Dark Horse)\n",
       "4                           Leviathan (Image)\n",
       "5   Shaolin Cowboy Wholl Stop th (Dark Horse)\n",
       "6                         Head Lopper (Image)\n",
       "7                   Crossed Badlands (Avatar)\n",
       "8                           Punisher (Marvel)\n",
       "9                     Godzilla Oblivion (IDW)\n",
       "10                              Nova (Marvel)"
      ]
     },
     "execution_count": 12,
     "metadata": {},
     "output_type": "execute_result"
    }
   ],
   "source": [
    "top_n_df = cr.get_top_n_new_recs(spark=spark, model=model_use, topn=10)\n",
    "top_n_df"
   ]
  },
  {
   "cell_type": "markdown",
   "metadata": {},
   "source": [
    "## Conclusions\n",
    "- Seems realistic? Only three tests, but the results seem 'individualized' in the sense that there is no overlap between the sets (albeit small samples)."
   ]
  },
  {
   "cell_type": "markdown",
   "metadata": {},
   "source": [
    "## Save the Model!"
   ]
  },
  {
   "cell_type": "code",
   "execution_count": 13,
   "metadata": {},
   "outputs": [],
   "source": [
    "model_use.save('als_use')"
   ]
  },
  {
   "cell_type": "markdown",
   "metadata": {},
   "source": [
    "## Retrieving Saved Model"
   ]
  },
  {
   "cell_type": "code",
   "execution_count": 14,
   "metadata": {},
   "outputs": [],
   "source": [
    "comic_rec_model = ALSModel.load('als_use')"
   ]
  },
  {
   "cell_type": "code",
   "execution_count": 15,
   "metadata": {},
   "outputs": [
    {
     "name": "stdout",
     "output_type": "stream",
     "text": [
      "161\n",
      "Total Runtime: 5.66 seconds\n"
     ]
    },
    {
     "data": {
      "text/html": [
       "<div>\n",
       "<style scoped>\n",
       "    .dataframe tbody tr th:only-of-type {\n",
       "        vertical-align: middle;\n",
       "    }\n",
       "\n",
       "    .dataframe tbody tr th {\n",
       "        vertical-align: top;\n",
       "    }\n",
       "\n",
       "    .dataframe thead th {\n",
       "        text-align: right;\n",
       "    }\n",
       "</style>\n",
       "<table border=\"1\" class=\"dataframe\">\n",
       "  <thead>\n",
       "    <tr style=\"text-align: right;\">\n",
       "      <th></th>\n",
       "      <th>comic_title</th>\n",
       "    </tr>\n",
       "  </thead>\n",
       "  <tbody>\n",
       "    <tr>\n",
       "      <th>1</th>\n",
       "      <td>Aliens Dead Orbit (Dark Horse)</td>\n",
       "    </tr>\n",
       "    <tr>\n",
       "      <th>2</th>\n",
       "      <td>Beef (Image)</td>\n",
       "    </tr>\n",
       "    <tr>\n",
       "      <th>3</th>\n",
       "      <td>Vinegar Teeth (Dark Horse)</td>\n",
       "    </tr>\n",
       "    <tr>\n",
       "      <th>4</th>\n",
       "      <td>Leviathan (Image)</td>\n",
       "    </tr>\n",
       "    <tr>\n",
       "      <th>5</th>\n",
       "      <td>Shaolin Cowboy Wholl Stop th (Dark Horse)</td>\n",
       "    </tr>\n",
       "    <tr>\n",
       "      <th>6</th>\n",
       "      <td>Head Lopper (Image)</td>\n",
       "    </tr>\n",
       "    <tr>\n",
       "      <th>7</th>\n",
       "      <td>Crossed Badlands (Avatar)</td>\n",
       "    </tr>\n",
       "    <tr>\n",
       "      <th>8</th>\n",
       "      <td>Punisher (Marvel)</td>\n",
       "    </tr>\n",
       "    <tr>\n",
       "      <th>9</th>\n",
       "      <td>Godzilla Oblivion (IDW)</td>\n",
       "    </tr>\n",
       "    <tr>\n",
       "      <th>10</th>\n",
       "      <td>Nova (Marvel)</td>\n",
       "    </tr>\n",
       "  </tbody>\n",
       "</table>\n",
       "</div>"
      ],
      "text/plain": [
       "                                  comic_title\n",
       "1              Aliens Dead Orbit (Dark Horse)\n",
       "2                                Beef (Image)\n",
       "3                  Vinegar Teeth (Dark Horse)\n",
       "4                           Leviathan (Image)\n",
       "5   Shaolin Cowboy Wholl Stop th (Dark Horse)\n",
       "6                         Head Lopper (Image)\n",
       "7                   Crossed Badlands (Avatar)\n",
       "8                           Punisher (Marvel)\n",
       "9                     Godzilla Oblivion (IDW)\n",
       "10                              Nova (Marvel)"
      ]
     },
     "execution_count": 15,
     "metadata": {},
     "output_type": "execute_result"
    }
   ],
   "source": [
    "top_n_df = cr.get_top_n_new_recs(spark=spark, model=comic_rec_model, topn=10)\n",
    "top_n_df"
   ]
  }
 ],
 "metadata": {
  "kernelspec": {
   "display_name": "Python 3",
   "language": "python",
   "name": "python3"
  },
  "language_info": {
   "codemirror_mode": {
    "name": "ipython",
    "version": 3
   },
   "file_extension": ".py",
   "mimetype": "text/x-python",
   "name": "python",
   "nbconvert_exporter": "python",
   "pygments_lexer": "ipython3",
   "version": "3.7.3"
  }
 },
 "nbformat": 4,
 "nbformat_minor": 2
}
