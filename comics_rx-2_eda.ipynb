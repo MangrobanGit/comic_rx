{
 "cells": [
  {
   "cell_type": "markdown",
   "metadata": {},
   "source": [
    "# Distribution of Accounts\n",
    "\n",
    "The distribution of acccounts may help influence the result. Let's try to identify:\n",
    "\n",
    "- \"Super accounts\" - e.g. one of the accounts is earmarked for eBay transactions.\n",
    "- One-time customers - Customers who only purchased once may cloud the data."
   ]
  },
  {
   "cell_type": "markdown",
   "metadata": {},
   "source": [
    "## Libraries"
   ]
  },
  {
   "cell_type": "code",
   "execution_count": 1,
   "metadata": {},
   "outputs": [],
   "source": [
    "%matplotlib inline\n",
    "%load_ext autoreload\n",
    "%autoreload 2  # 1 would be where you need to specify the files\n",
    "#%aimport data_fcns\n",
    "\n",
    "import pandas as pd # dataframes\n",
    "import os\n",
    "import gspread_pandas\n",
    "from gspread_pandas import Spread, Client # gsheets interaction\n",
    "\n",
    "# Data storage\n",
    "from sqlalchemy import create_engine # SQL helper\n",
    "import psycopg2 as psql #PostgreSQL DBs\n",
    "\n",
    "# Custom\n",
    "import data_fcns as dfc\n",
    "import keys  # Custom keys lib"
   ]
  },
  {
   "cell_type": "markdown",
   "metadata": {},
   "source": [
    "### Get transactions data"
   ]
  },
  {
   "cell_type": "code",
   "execution_count": 2,
   "metadata": {},
   "outputs": [
    {
     "data": {
      "text/plain": [
       "'/Users/werlindo/.secret/aws_ps_flatiron.json'"
      ]
     },
     "execution_count": 2,
     "metadata": {},
     "output_type": "execute_result"
    }
   ],
   "source": [
    "# Define path to secret\n",
    "secret_path_aws = os.path.join(os.environ['HOME'], '.secret', \n",
    "                           'aws_ps_flatiron.json')\n",
    "secret_path_aws"
   ]
  },
  {
   "cell_type": "code",
   "execution_count": null,
   "metadata": {},
   "outputs": [],
   "source": [
    "aws_keys = keys.get_keys(secret_path_aws)\n",
    "user = aws_keys['user']\n",
    "ps = aws_keys['password']\n",
    "host = aws_keys['host']\n",
    "db = aws_keys['db_name']\n",
    "\n",
    "aws_ps_engine = ('postgresql://' + user + ':' + ps + '@' + host + '/' + db)"
   ]
  },
  {
   "cell_type": "code",
   "execution_count": 121,
   "metadata": {},
   "outputs": [],
   "source": [
    "# Setup PSQL connection\n",
    "conn = psql.connect(\n",
    "    database=db,\n",
    "    user=user,\n",
    "    password=ps,\n",
    "    host=host,\n",
    "    port='5432'\n",
    ")"
   ]
  },
  {
   "cell_type": "code",
   "execution_count": 122,
   "metadata": {},
   "outputs": [],
   "source": [
    "# Instantiate cursor\n",
    "cur = conn.cursor()"
   ]
  },
  {
   "cell_type": "code",
   "execution_count": 123,
   "metadata": {},
   "outputs": [],
   "source": [
    "#  Count records.\n",
    "query = \"\"\"\n",
    "    SELECT\n",
    "        account_num\n",
    "        ,COUNT(DISTINCT comic_title) num_title_bought \n",
    "    FROM \n",
    "        comic_trans \n",
    "    GROUP BY\n",
    "        account_num\n",
    "    ORDER BY \n",
    "        2 DESC\n",
    "    ;\n",
    "\"\"\""
   ]
  },
  {
   "cell_type": "code",
   "execution_count": 124,
   "metadata": {},
   "outputs": [],
   "source": [
    "# Execute the query\n",
    "cur.execute(query)"
   ]
  },
  {
   "cell_type": "code",
   "execution_count": 125,
   "metadata": {},
   "outputs": [],
   "source": [
    "# Check results\n",
    "temp_df = pd.DataFrame(cur.fetchall())\n",
    "temp_df.columns = [col.name for col in cur.description]"
   ]
  },
  {
   "cell_type": "code",
   "execution_count": 126,
   "metadata": {},
   "outputs": [
    {
     "data": {
      "text/html": [
       "<div>\n",
       "<style scoped>\n",
       "    .dataframe tbody tr th:only-of-type {\n",
       "        vertical-align: middle;\n",
       "    }\n",
       "\n",
       "    .dataframe tbody tr th {\n",
       "        vertical-align: top;\n",
       "    }\n",
       "\n",
       "    .dataframe thead th {\n",
       "        text-align: right;\n",
       "    }\n",
       "</style>\n",
       "<table border=\"1\" class=\"dataframe\">\n",
       "  <thead>\n",
       "    <tr style=\"text-align: right;\">\n",
       "      <th></th>\n",
       "      <th>account_num</th>\n",
       "      <th>num_title_bought</th>\n",
       "    </tr>\n",
       "  </thead>\n",
       "  <tbody>\n",
       "    <tr>\n",
       "      <th>0</th>\n",
       "      <td>00191</td>\n",
       "      <td>1504</td>\n",
       "    </tr>\n",
       "    <tr>\n",
       "      <th>1</th>\n",
       "      <td>00961</td>\n",
       "      <td>1114</td>\n",
       "    </tr>\n",
       "    <tr>\n",
       "      <th>2</th>\n",
       "      <td>01132</td>\n",
       "      <td>1023</td>\n",
       "    </tr>\n",
       "    <tr>\n",
       "      <th>3</th>\n",
       "      <td>01695</td>\n",
       "      <td>944</td>\n",
       "    </tr>\n",
       "    <tr>\n",
       "      <th>4</th>\n",
       "      <td>00134</td>\n",
       "      <td>925</td>\n",
       "    </tr>\n",
       "    <tr>\n",
       "      <th>5</th>\n",
       "      <td>00174</td>\n",
       "      <td>838</td>\n",
       "    </tr>\n",
       "    <tr>\n",
       "      <th>6</th>\n",
       "      <td>01047</td>\n",
       "      <td>730</td>\n",
       "    </tr>\n",
       "    <tr>\n",
       "      <th>7</th>\n",
       "      <td>01858</td>\n",
       "      <td>715</td>\n",
       "    </tr>\n",
       "    <tr>\n",
       "      <th>8</th>\n",
       "      <td>01275</td>\n",
       "      <td>694</td>\n",
       "    </tr>\n",
       "    <tr>\n",
       "      <th>9</th>\n",
       "      <td>00108</td>\n",
       "      <td>652</td>\n",
       "    </tr>\n",
       "  </tbody>\n",
       "</table>\n",
       "</div>"
      ],
      "text/plain": [
       "  account_num  num_title_bought\n",
       "0       00191              1504\n",
       "1       00961              1114\n",
       "2       01132              1023\n",
       "3       01695               944\n",
       "4       00134               925\n",
       "5       00174               838\n",
       "6       01047               730\n",
       "7       01858               715\n",
       "8       01275               694\n",
       "9       00108               652"
      ]
     },
     "execution_count": 126,
     "metadata": {},
     "output_type": "execute_result"
    }
   ],
   "source": [
    "temp_df.head(10)"
   ]
  },
  {
   "cell_type": "code",
   "execution_count": 10,
   "metadata": {},
   "outputs": [],
   "source": [
    "#  Count records.\n",
    "query = \"\"\"\n",
    "    SELECT * from comic_trans limit 10;\n",
    "\"\"\""
   ]
  },
  {
   "cell_type": "code",
   "execution_count": 21,
   "metadata": {},
   "outputs": [
    {
     "data": {
      "text/html": [
       "<div>\n",
       "<style scoped>\n",
       "    .dataframe tbody tr th:only-of-type {\n",
       "        vertical-align: middle;\n",
       "    }\n",
       "\n",
       "    .dataframe tbody tr th {\n",
       "        vertical-align: top;\n",
       "    }\n",
       "\n",
       "    .dataframe thead th {\n",
       "        text-align: right;\n",
       "    }\n",
       "</style>\n",
       "<table border=\"1\" class=\"dataframe\">\n",
       "  <thead>\n",
       "    <tr style=\"text-align: right;\">\n",
       "      <th></th>\n",
       "      <th>account_num</th>\n",
       "      <th>num_title_bought</th>\n",
       "    </tr>\n",
       "  </thead>\n",
       "  <tbody>\n",
       "    <tr>\n",
       "      <th>1707</th>\n",
       "      <td>01217</td>\n",
       "      <td>1</td>\n",
       "    </tr>\n",
       "    <tr>\n",
       "      <th>1708</th>\n",
       "      <td>03011</td>\n",
       "      <td>1</td>\n",
       "    </tr>\n",
       "    <tr>\n",
       "      <th>1709</th>\n",
       "      <td>00902</td>\n",
       "      <td>1</td>\n",
       "    </tr>\n",
       "    <tr>\n",
       "      <th>1710</th>\n",
       "      <td>00911</td>\n",
       "      <td>1</td>\n",
       "    </tr>\n",
       "    <tr>\n",
       "      <th>1711</th>\n",
       "      <td>01630</td>\n",
       "      <td>1</td>\n",
       "    </tr>\n",
       "    <tr>\n",
       "      <th>1712</th>\n",
       "      <td>00313</td>\n",
       "      <td>1</td>\n",
       "    </tr>\n",
       "    <tr>\n",
       "      <th>1713</th>\n",
       "      <td>00926</td>\n",
       "      <td>1</td>\n",
       "    </tr>\n",
       "    <tr>\n",
       "      <th>1714</th>\n",
       "      <td>00931</td>\n",
       "      <td>1</td>\n",
       "    </tr>\n",
       "    <tr>\n",
       "      <th>1715</th>\n",
       "      <td>03015</td>\n",
       "      <td>1</td>\n",
       "    </tr>\n",
       "    <tr>\n",
       "      <th>1716</th>\n",
       "      <td>03016</td>\n",
       "      <td>1</td>\n",
       "    </tr>\n",
       "  </tbody>\n",
       "</table>\n",
       "</div>"
      ],
      "text/plain": [
       "     account_num  num_title_bought\n",
       "1707       01217                 1\n",
       "1708       03011                 1\n",
       "1709       00902                 1\n",
       "1710       00911                 1\n",
       "1711       01630                 1\n",
       "1712       00313                 1\n",
       "1713       00926                 1\n",
       "1714       00931                 1\n",
       "1715       03015                 1\n",
       "1716       03016                 1"
      ]
     },
     "execution_count": 21,
     "metadata": {},
     "output_type": "execute_result"
    }
   ],
   "source": [
    "temp_df.tail(10)"
   ]
  },
  {
   "cell_type": "code",
   "execution_count": 22,
   "metadata": {},
   "outputs": [
    {
     "data": {
      "text/plain": [
       "(1717, 2)"
      ]
     },
     "execution_count": 22,
     "metadata": {},
     "output_type": "execute_result"
    }
   ],
   "source": [
    "temp_df.shape"
   ]
  },
  {
   "cell_type": "markdown",
   "metadata": {},
   "source": [
    "- There are 1.7K accounts who bought at least 1 title  \n",
    "- The top end doesn't seem as skewed as I thought it would, at least at first blush."
   ]
  },
  {
   "cell_type": "code",
   "execution_count": 24,
   "metadata": {},
   "outputs": [],
   "source": [
    "import seaborn as sns"
   ]
  },
  {
   "cell_type": "code",
   "execution_count": 25,
   "metadata": {},
   "outputs": [
    {
     "data": {
      "text/plain": [
       "<matplotlib.axes._subplots.AxesSubplot at 0x11c00a9b0>"
      ]
     },
     "execution_count": 25,
     "metadata": {},
     "output_type": "execute_result"
    },
    {
     "data": {
      "image/png": "[encoded data removed]",
      "text/plain": [
       "<Figure size 432x288 with 1 Axes>"
      ]
     },
     "metadata": {
      "needs_background": "light"
     },
     "output_type": "display_data"
    }
   ],
   "source": [
    "sns.distplot(temp_df.num_title_bought)"
   ]
  },
  {
   "cell_type": "markdown",
   "metadata": {},
   "source": [
    "Well, don't really know what I meant by the prior comment re: skewness. I think what I mean is that my prior guess was that the 'top' account would number in the high thousands, though that was more of a, like I said, guess."
   ]
  },
  {
   "cell_type": "markdown",
   "metadata": {},
   "source": [
    "Could always just set up high and low thresholds, and just set them as get more info."
   ]
  },
  {
   "cell_type": "code",
   "execution_count": 51,
   "metadata": {},
   "outputs": [],
   "source": [
    "# Thresholds\n",
    "bottom = 1\n",
    "top = 100"
   ]
  },
  {
   "cell_type": "code",
   "execution_count": 52,
   "metadata": {},
   "outputs": [],
   "source": [
    "small_df = temp_df.loc[(temp_df.num_title_bought > bottom) & (temp_df.num_title_bought < top)]"
   ]
  },
  {
   "cell_type": "code",
   "execution_count": 53,
   "metadata": {},
   "outputs": [
    {
     "data": {
      "text/plain": [
       "<matplotlib.axes._subplots.AxesSubplot at 0x11ced02e8>"
      ]
     },
     "execution_count": 53,
     "metadata": {},
     "output_type": "execute_result"
    },
    {
     "data": {
      "image/png": "[encoded data removed]",
      "text/plain": [
       "<Figure size 432x288 with 1 Axes>"
      ]
     },
     "metadata": {
      "needs_background": "light"
     },
     "output_type": "display_data"
    }
   ],
   "source": [
    "sns.distplot(small_df.num_title_bought)"
   ]
  },
  {
   "cell_type": "code",
   "execution_count": 54,
   "metadata": {},
   "outputs": [
    {
     "data": {
      "text/plain": [
       "2     125\n",
       "3     108\n",
       "4      76\n",
       "6      51\n",
       "7      40\n",
       "5      39\n",
       "8      36\n",
       "9      36\n",
       "10     34\n",
       "11     27\n",
       "12     23\n",
       "18     20\n",
       "35     19\n",
       "19     17\n",
       "13     15\n",
       "20     15\n",
       "37     15\n",
       "23     14\n",
       "27     14\n",
       "15     14\n",
       "Name: num_title_bought, dtype: int64"
      ]
     },
     "execution_count": 54,
     "metadata": {},
     "output_type": "execute_result"
    }
   ],
   "source": [
    "small_df['num_title_bought'].value_counts().head(20)"
   ]
  },
  {
   "cell_type": "markdown",
   "metadata": {},
   "source": [
    "Definitely skewed. Just from visual inspection from playing around with the thresholds and looking at the `value_counts`, just set some arbitrary limits of:  \n",
    "- bottom: 5\n",
    "- top : 250"
   ]
  },
  {
   "cell_type": "markdown",
   "metadata": {},
   "source": [
    "Let's create a table on our DB that is `account_num` by `num_title_bought`"
   ]
  },
  {
   "cell_type": "code",
   "execution_count": 59,
   "metadata": {},
   "outputs": [],
   "source": [
    "#  Create account counts table.\n",
    "query = \"\"\"\n",
    "    CREATE TABLE acct_cts AS\n",
    "    SELECT\n",
    "        account_num\n",
    "        ,COUNT(DISTINCT comic_title) num_title_bought \n",
    "    FROM \n",
    "        comic_trans \n",
    "    GROUP BY\n",
    "        account_num\n",
    "    ;\n",
    "\"\"\""
   ]
  },
  {
   "cell_type": "code",
   "execution_count": 60,
   "metadata": {},
   "outputs": [],
   "source": [
    "# Execute the query\n",
    "cur.execute(query)"
   ]
  },
  {
   "cell_type": "code",
   "execution_count": 61,
   "metadata": {},
   "outputs": [],
   "source": [
    "conn.commit()"
   ]
  },
  {
   "cell_type": "markdown",
   "metadata": {},
   "source": [
    "Check it."
   ]
  },
  {
   "cell_type": "code",
   "execution_count": 81,
   "metadata": {},
   "outputs": [],
   "source": [
    "#  Count records.\n",
    "query = \"\"\"\n",
    "    SELECT *\n",
    "    FROM acct_cts\n",
    "    --WHERE num_title_bought between 5 and 250\n",
    "    WHERE num_title_bought > 250 \n",
    "    ORDER BY num_title_bought DESC\n",
    "    ;\n",
    "\"\"\""
   ]
  },
  {
   "cell_type": "code",
   "execution_count": 82,
   "metadata": {},
   "outputs": [],
   "source": [
    "# Execute the query\n",
    "cur.execute(query)"
   ]
  },
  {
   "cell_type": "code",
   "execution_count": 83,
   "metadata": {},
   "outputs": [],
   "source": [
    "# Check results\n",
    "temp_df = pd.DataFrame(cur.fetchall())\n",
    "temp_df.columns = [col.name for col in cur.description]"
   ]
  },
  {
   "cell_type": "code",
   "execution_count": 84,
   "metadata": {
    "collapsed": true
   },
   "outputs": [
    {
     "data": {
      "text/html": [
       "<div>\n",
       "<style scoped>\n",
       "    .dataframe tbody tr th:only-of-type {\n",
       "        vertical-align: middle;\n",
       "    }\n",
       "\n",
       "    .dataframe tbody tr th {\n",
       "        vertical-align: top;\n",
       "    }\n",
       "\n",
       "    .dataframe thead th {\n",
       "        text-align: right;\n",
       "    }\n",
       "</style>\n",
       "<table border=\"1\" class=\"dataframe\">\n",
       "  <thead>\n",
       "    <tr style=\"text-align: right;\">\n",
       "      <th></th>\n",
       "      <th>account_num</th>\n",
       "      <th>num_title_bought</th>\n",
       "    </tr>\n",
       "  </thead>\n",
       "  <tbody>\n",
       "    <tr>\n",
       "      <th>0</th>\n",
       "      <td>00191</td>\n",
       "      <td>1504</td>\n",
       "    </tr>\n",
       "    <tr>\n",
       "      <th>1</th>\n",
       "      <td>00961</td>\n",
       "      <td>1114</td>\n",
       "    </tr>\n",
       "    <tr>\n",
       "      <th>2</th>\n",
       "      <td>01132</td>\n",
       "      <td>1023</td>\n",
       "    </tr>\n",
       "    <tr>\n",
       "      <th>3</th>\n",
       "      <td>01695</td>\n",
       "      <td>944</td>\n",
       "    </tr>\n",
       "    <tr>\n",
       "      <th>4</th>\n",
       "      <td>00134</td>\n",
       "      <td>925</td>\n",
       "    </tr>\n",
       "    <tr>\n",
       "      <th>5</th>\n",
       "      <td>00174</td>\n",
       "      <td>838</td>\n",
       "    </tr>\n",
       "    <tr>\n",
       "      <th>6</th>\n",
       "      <td>01047</td>\n",
       "      <td>730</td>\n",
       "    </tr>\n",
       "    <tr>\n",
       "      <th>7</th>\n",
       "      <td>01858</td>\n",
       "      <td>715</td>\n",
       "    </tr>\n",
       "    <tr>\n",
       "      <th>8</th>\n",
       "      <td>01275</td>\n",
       "      <td>694</td>\n",
       "    </tr>\n",
       "    <tr>\n",
       "      <th>9</th>\n",
       "      <td>00108</td>\n",
       "      <td>652</td>\n",
       "    </tr>\n",
       "    <tr>\n",
       "      <th>10</th>\n",
       "      <td>00237</td>\n",
       "      <td>631</td>\n",
       "    </tr>\n",
       "    <tr>\n",
       "      <th>11</th>\n",
       "      <td>00566</td>\n",
       "      <td>576</td>\n",
       "    </tr>\n",
       "    <tr>\n",
       "      <th>12</th>\n",
       "      <td>01626</td>\n",
       "      <td>565</td>\n",
       "    </tr>\n",
       "    <tr>\n",
       "      <th>13</th>\n",
       "      <td>00210</td>\n",
       "      <td>557</td>\n",
       "    </tr>\n",
       "    <tr>\n",
       "      <th>14</th>\n",
       "      <td>00226</td>\n",
       "      <td>557</td>\n",
       "    </tr>\n",
       "    <tr>\n",
       "      <th>15</th>\n",
       "      <td>00659</td>\n",
       "      <td>544</td>\n",
       "    </tr>\n",
       "    <tr>\n",
       "      <th>16</th>\n",
       "      <td>00906</td>\n",
       "      <td>535</td>\n",
       "    </tr>\n",
       "    <tr>\n",
       "      <th>17</th>\n",
       "      <td>00149</td>\n",
       "      <td>517</td>\n",
       "    </tr>\n",
       "    <tr>\n",
       "      <th>18</th>\n",
       "      <td>00054</td>\n",
       "      <td>510</td>\n",
       "    </tr>\n",
       "    <tr>\n",
       "      <th>19</th>\n",
       "      <td>00267</td>\n",
       "      <td>506</td>\n",
       "    </tr>\n",
       "    <tr>\n",
       "      <th>20</th>\n",
       "      <td>00578</td>\n",
       "      <td>500</td>\n",
       "    </tr>\n",
       "    <tr>\n",
       "      <th>21</th>\n",
       "      <td>00140</td>\n",
       "      <td>497</td>\n",
       "    </tr>\n",
       "    <tr>\n",
       "      <th>22</th>\n",
       "      <td>01213</td>\n",
       "      <td>487</td>\n",
       "    </tr>\n",
       "    <tr>\n",
       "      <th>23</th>\n",
       "      <td>00256</td>\n",
       "      <td>481</td>\n",
       "    </tr>\n",
       "    <tr>\n",
       "      <th>24</th>\n",
       "      <td>00037</td>\n",
       "      <td>464</td>\n",
       "    </tr>\n",
       "    <tr>\n",
       "      <th>25</th>\n",
       "      <td>00275</td>\n",
       "      <td>464</td>\n",
       "    </tr>\n",
       "    <tr>\n",
       "      <th>26</th>\n",
       "      <td>00298</td>\n",
       "      <td>462</td>\n",
       "    </tr>\n",
       "    <tr>\n",
       "      <th>27</th>\n",
       "      <td>00163</td>\n",
       "      <td>457</td>\n",
       "    </tr>\n",
       "    <tr>\n",
       "      <th>28</th>\n",
       "      <td>00017</td>\n",
       "      <td>433</td>\n",
       "    </tr>\n",
       "    <tr>\n",
       "      <th>29</th>\n",
       "      <td>00024</td>\n",
       "      <td>403</td>\n",
       "    </tr>\n",
       "    <tr>\n",
       "      <th>...</th>\n",
       "      <td>...</td>\n",
       "      <td>...</td>\n",
       "    </tr>\n",
       "    <tr>\n",
       "      <th>52</th>\n",
       "      <td>00330</td>\n",
       "      <td>317</td>\n",
       "    </tr>\n",
       "    <tr>\n",
       "      <th>53</th>\n",
       "      <td>00070</td>\n",
       "      <td>311</td>\n",
       "    </tr>\n",
       "    <tr>\n",
       "      <th>54</th>\n",
       "      <td>02525</td>\n",
       "      <td>311</td>\n",
       "    </tr>\n",
       "    <tr>\n",
       "      <th>55</th>\n",
       "      <td>00612</td>\n",
       "      <td>302</td>\n",
       "    </tr>\n",
       "    <tr>\n",
       "      <th>56</th>\n",
       "      <td>01152</td>\n",
       "      <td>302</td>\n",
       "    </tr>\n",
       "    <tr>\n",
       "      <th>57</th>\n",
       "      <td>01577</td>\n",
       "      <td>302</td>\n",
       "    </tr>\n",
       "    <tr>\n",
       "      <th>58</th>\n",
       "      <td>00217</td>\n",
       "      <td>296</td>\n",
       "    </tr>\n",
       "    <tr>\n",
       "      <th>59</th>\n",
       "      <td>00161</td>\n",
       "      <td>295</td>\n",
       "    </tr>\n",
       "    <tr>\n",
       "      <th>60</th>\n",
       "      <td>00951</td>\n",
       "      <td>294</td>\n",
       "    </tr>\n",
       "    <tr>\n",
       "      <th>61</th>\n",
       "      <td>00333</td>\n",
       "      <td>293</td>\n",
       "    </tr>\n",
       "    <tr>\n",
       "      <th>62</th>\n",
       "      <td>00569</td>\n",
       "      <td>288</td>\n",
       "    </tr>\n",
       "    <tr>\n",
       "      <th>63</th>\n",
       "      <td>00820</td>\n",
       "      <td>287</td>\n",
       "    </tr>\n",
       "    <tr>\n",
       "      <th>64</th>\n",
       "      <td>00536</td>\n",
       "      <td>284</td>\n",
       "    </tr>\n",
       "    <tr>\n",
       "      <th>65</th>\n",
       "      <td>00310</td>\n",
       "      <td>282</td>\n",
       "    </tr>\n",
       "    <tr>\n",
       "      <th>66</th>\n",
       "      <td>00133</td>\n",
       "      <td>282</td>\n",
       "    </tr>\n",
       "    <tr>\n",
       "      <th>67</th>\n",
       "      <td>00565</td>\n",
       "      <td>278</td>\n",
       "    </tr>\n",
       "    <tr>\n",
       "      <th>68</th>\n",
       "      <td>00760</td>\n",
       "      <td>272</td>\n",
       "    </tr>\n",
       "    <tr>\n",
       "      <th>69</th>\n",
       "      <td>00011</td>\n",
       "      <td>270</td>\n",
       "    </tr>\n",
       "    <tr>\n",
       "      <th>70</th>\n",
       "      <td>00972</td>\n",
       "      <td>270</td>\n",
       "    </tr>\n",
       "    <tr>\n",
       "      <th>71</th>\n",
       "      <td>01632</td>\n",
       "      <td>268</td>\n",
       "    </tr>\n",
       "    <tr>\n",
       "      <th>72</th>\n",
       "      <td>00069</td>\n",
       "      <td>268</td>\n",
       "    </tr>\n",
       "    <tr>\n",
       "      <th>73</th>\n",
       "      <td>00995</td>\n",
       "      <td>266</td>\n",
       "    </tr>\n",
       "    <tr>\n",
       "      <th>74</th>\n",
       "      <td>00099</td>\n",
       "      <td>261</td>\n",
       "    </tr>\n",
       "    <tr>\n",
       "      <th>75</th>\n",
       "      <td>00137</td>\n",
       "      <td>258</td>\n",
       "    </tr>\n",
       "    <tr>\n",
       "      <th>76</th>\n",
       "      <td>00236</td>\n",
       "      <td>255</td>\n",
       "    </tr>\n",
       "    <tr>\n",
       "      <th>77</th>\n",
       "      <td>00304</td>\n",
       "      <td>255</td>\n",
       "    </tr>\n",
       "    <tr>\n",
       "      <th>78</th>\n",
       "      <td>00880</td>\n",
       "      <td>252</td>\n",
       "    </tr>\n",
       "    <tr>\n",
       "      <th>79</th>\n",
       "      <td>00138</td>\n",
       "      <td>252</td>\n",
       "    </tr>\n",
       "    <tr>\n",
       "      <th>80</th>\n",
       "      <td>00060</td>\n",
       "      <td>252</td>\n",
       "    </tr>\n",
       "    <tr>\n",
       "      <th>81</th>\n",
       "      <td>01060</td>\n",
       "      <td>251</td>\n",
       "    </tr>\n",
       "  </tbody>\n",
       "</table>\n",
       "<p>82 rows × 2 columns</p>\n",
       "</div>"
      ],
      "text/plain": [
       "   account_num  num_title_bought\n",
       "0        00191              1504\n",
       "1        00961              1114\n",
       "2        01132              1023\n",
       "3        01695               944\n",
       "4        00134               925\n",
       "5        00174               838\n",
       "6        01047               730\n",
       "7        01858               715\n",
       "8        01275               694\n",
       "9        00108               652\n",
       "10       00237               631\n",
       "11       00566               576\n",
       "12       01626               565\n",
       "13       00210               557\n",
       "14       00226               557\n",
       "15       00659               544\n",
       "16       00906               535\n",
       "17       00149               517\n",
       "18       00054               510\n",
       "19       00267               506\n",
       "20       00578               500\n",
       "21       00140               497\n",
       "22       01213               487\n",
       "23       00256               481\n",
       "24       00037               464\n",
       "25       00275               464\n",
       "26       00298               462\n",
       "27       00163               457\n",
       "28       00017               433\n",
       "29       00024               403\n",
       "..         ...               ...\n",
       "52       00330               317\n",
       "53       00070               311\n",
       "54       02525               311\n",
       "55       00612               302\n",
       "56       01152               302\n",
       "57       01577               302\n",
       "58       00217               296\n",
       "59       00161               295\n",
       "60       00951               294\n",
       "61       00333               293\n",
       "62       00569               288\n",
       "63       00820               287\n",
       "64       00536               284\n",
       "65       00310               282\n",
       "66       00133               282\n",
       "67       00565               278\n",
       "68       00760               272\n",
       "69       00011               270\n",
       "70       00972               270\n",
       "71       01632               268\n",
       "72       00069               268\n",
       "73       00995               266\n",
       "74       00099               261\n",
       "75       00137               258\n",
       "76       00236               255\n",
       "77       00304               255\n",
       "78       00880               252\n",
       "79       00138               252\n",
       "80       00060               252\n",
       "81       01060               251\n",
       "\n",
       "[82 rows x 2 columns]"
      ]
     },
     "execution_count": 84,
     "metadata": {},
     "output_type": "execute_result"
    }
   ],
   "source": [
    "temp_df"
   ]
  },
  {
   "cell_type": "markdown",
   "metadata": {},
   "source": [
    "Should we also subset on dates to control for tastes changing over time?"
   ]
  },
  {
   "cell_type": "code",
   "execution_count": 89,
   "metadata": {},
   "outputs": [],
   "source": [
    "query = \"\"\"\n",
    "    SELECT * FROM comic_trans \n",
    "    WHERE date_sold >= '2018-01-01'\n",
    "    limit 10;\n",
    "\"\"\""
   ]
  },
  {
   "cell_type": "code",
   "execution_count": 90,
   "metadata": {},
   "outputs": [],
   "source": [
    "# Execute the query\n",
    "cur.execute(query)"
   ]
  },
  {
   "cell_type": "code",
   "execution_count": 91,
   "metadata": {},
   "outputs": [],
   "source": [
    "# Check results\n",
    "temp_df = pd.DataFrame(cur.fetchall())\n",
    "temp_df.columns = [col.name for col in cur.description]"
   ]
  },
  {
   "cell_type": "code",
   "execution_count": 92,
   "metadata": {},
   "outputs": [
    {
     "data": {
      "text/html": [
       "<div>\n",
       "<style scoped>\n",
       "    .dataframe tbody tr th:only-of-type {\n",
       "        vertical-align: middle;\n",
       "    }\n",
       "\n",
       "    .dataframe tbody tr th {\n",
       "        vertical-align: top;\n",
       "    }\n",
       "\n",
       "    .dataframe thead th {\n",
       "        text-align: right;\n",
       "    }\n",
       "</style>\n",
       "<table border=\"1\" class=\"dataframe\">\n",
       "  <thead>\n",
       "    <tr style=\"text-align: right;\">\n",
       "      <th></th>\n",
       "      <th>index</th>\n",
       "      <th>publisher</th>\n",
       "      <th>item_id</th>\n",
       "      <th>title_and_num</th>\n",
       "      <th>qty_sold</th>\n",
       "      <th>date_sold</th>\n",
       "      <th>account_num</th>\n",
       "      <th>comic_title</th>\n",
       "    </tr>\n",
       "  </thead>\n",
       "  <tbody>\n",
       "    <tr>\n",
       "      <th>0</th>\n",
       "      <td>471</td>\n",
       "      <td>Archie Comics</td>\n",
       "      <td>DCDL068591</td>\n",
       "      <td>Archie #27 Cvr A Mok</td>\n",
       "      <td>1</td>\n",
       "      <td>2018-01-17 12:07:25</td>\n",
       "      <td>02247</td>\n",
       "      <td>Archie (Archie)</td>\n",
       "    </tr>\n",
       "    <tr>\n",
       "      <th>1</th>\n",
       "      <td>472</td>\n",
       "      <td>Archie Comics</td>\n",
       "      <td>DCDL068591</td>\n",
       "      <td>Archie #27 Cvr A Mok</td>\n",
       "      <td>1</td>\n",
       "      <td>2018-01-19 12:18:23</td>\n",
       "      <td>01573</td>\n",
       "      <td>Archie (Archie)</td>\n",
       "    </tr>\n",
       "    <tr>\n",
       "      <th>2</th>\n",
       "      <td>473</td>\n",
       "      <td>Archie Comics</td>\n",
       "      <td>DCDL068591</td>\n",
       "      <td>Archie #27 Cvr A Mok</td>\n",
       "      <td>1</td>\n",
       "      <td>2018-01-21 10:28:06</td>\n",
       "      <td>00280</td>\n",
       "      <td>Archie (Archie)</td>\n",
       "    </tr>\n",
       "    <tr>\n",
       "      <th>3</th>\n",
       "      <td>474</td>\n",
       "      <td>Archie Comics</td>\n",
       "      <td>DCDL068591</td>\n",
       "      <td>Archie #27 Cvr A Mok</td>\n",
       "      <td>1</td>\n",
       "      <td>2018-01-18 17:02:55</td>\n",
       "      <td>02163</td>\n",
       "      <td>Archie (Archie)</td>\n",
       "    </tr>\n",
       "    <tr>\n",
       "      <th>4</th>\n",
       "      <td>475</td>\n",
       "      <td>Archie Comics</td>\n",
       "      <td>DCDL068591</td>\n",
       "      <td>Archie #27 Cvr A Mok</td>\n",
       "      <td>1</td>\n",
       "      <td>2018-01-12 14:18:12</td>\n",
       "      <td>00961</td>\n",
       "      <td>Archie (Archie)</td>\n",
       "    </tr>\n",
       "    <tr>\n",
       "      <th>5</th>\n",
       "      <td>476</td>\n",
       "      <td>Archie Comics</td>\n",
       "      <td>DCDL068591</td>\n",
       "      <td>Archie #27 Cvr A Mok</td>\n",
       "      <td>1</td>\n",
       "      <td>2018-01-18 17:57:15</td>\n",
       "      <td>00161</td>\n",
       "      <td>Archie (Archie)</td>\n",
       "    </tr>\n",
       "    <tr>\n",
       "      <th>6</th>\n",
       "      <td>477</td>\n",
       "      <td>Archie Comics</td>\n",
       "      <td>DCDL068591</td>\n",
       "      <td>Archie #27 Cvr A Mok</td>\n",
       "      <td>1</td>\n",
       "      <td>2018-02-22 13:43:41</td>\n",
       "      <td>02224</td>\n",
       "      <td>Archie (Archie)</td>\n",
       "    </tr>\n",
       "    <tr>\n",
       "      <th>7</th>\n",
       "      <td>478</td>\n",
       "      <td>Archie Comics</td>\n",
       "      <td>DCDL071881</td>\n",
       "      <td>Archie #28 Cvr A Mok</td>\n",
       "      <td>1</td>\n",
       "      <td>2018-02-26 17:36:16</td>\n",
       "      <td>02163</td>\n",
       "      <td>Archie (Archie)</td>\n",
       "    </tr>\n",
       "    <tr>\n",
       "      <th>8</th>\n",
       "      <td>479</td>\n",
       "      <td>Archie Comics</td>\n",
       "      <td>DCDL071881</td>\n",
       "      <td>Archie #28 Cvr A Mok</td>\n",
       "      <td>1</td>\n",
       "      <td>2018-02-18 10:05:33</td>\n",
       "      <td>00280</td>\n",
       "      <td>Archie (Archie)</td>\n",
       "    </tr>\n",
       "    <tr>\n",
       "      <th>9</th>\n",
       "      <td>480</td>\n",
       "      <td>Archie Comics</td>\n",
       "      <td>DCDL071881</td>\n",
       "      <td>Archie #28 Cvr A Mok</td>\n",
       "      <td>1</td>\n",
       "      <td>2018-02-16 14:49:33</td>\n",
       "      <td>02247</td>\n",
       "      <td>Archie (Archie)</td>\n",
       "    </tr>\n",
       "  </tbody>\n",
       "</table>\n",
       "</div>"
      ],
      "text/plain": [
       "   index      publisher     item_id         title_and_num  qty_sold  \\\n",
       "0    471  Archie Comics  DCDL068591  Archie #27 Cvr A Mok         1   \n",
       "1    472  Archie Comics  DCDL068591  Archie #27 Cvr A Mok         1   \n",
       "2    473  Archie Comics  DCDL068591  Archie #27 Cvr A Mok         1   \n",
       "3    474  Archie Comics  DCDL068591  Archie #27 Cvr A Mok         1   \n",
       "4    475  Archie Comics  DCDL068591  Archie #27 Cvr A Mok         1   \n",
       "5    476  Archie Comics  DCDL068591  Archie #27 Cvr A Mok         1   \n",
       "6    477  Archie Comics  DCDL068591  Archie #27 Cvr A Mok         1   \n",
       "7    478  Archie Comics  DCDL071881  Archie #28 Cvr A Mok         1   \n",
       "8    479  Archie Comics  DCDL071881  Archie #28 Cvr A Mok         1   \n",
       "9    480  Archie Comics  DCDL071881  Archie #28 Cvr A Mok         1   \n",
       "\n",
       "            date_sold account_num      comic_title  \n",
       "0 2018-01-17 12:07:25       02247  Archie (Archie)  \n",
       "1 2018-01-19 12:18:23       01573  Archie (Archie)  \n",
       "2 2018-01-21 10:28:06       00280  Archie (Archie)  \n",
       "3 2018-01-18 17:02:55       02163  Archie (Archie)  \n",
       "4 2018-01-12 14:18:12       00961  Archie (Archie)  \n",
       "5 2018-01-18 17:57:15       00161  Archie (Archie)  \n",
       "6 2018-02-22 13:43:41       02224  Archie (Archie)  \n",
       "7 2018-02-26 17:36:16       02163  Archie (Archie)  \n",
       "8 2018-02-18 10:05:33       00280  Archie (Archie)  \n",
       "9 2018-02-16 14:49:33       02247  Archie (Archie)  "
      ]
     },
     "execution_count": 92,
     "metadata": {},
     "output_type": "execute_result"
    }
   ],
   "source": [
    "temp_df"
   ]
  },
  {
   "cell_type": "markdown",
   "metadata": {},
   "source": [
    "Date filtering works. Super arbitrary? \n",
    "- Is there an effect from other pop culture influence:\n",
    "- Marvel movies? (e.g. Iron Man 2008, Avengers 2012, etc)\n",
    "\n",
    "I thnk safe for now is to just either take it all? or Just settle on some rule of thumb for now: e.g. 5 years.\n"
   ]
  },
  {
   "cell_type": "markdown",
   "metadata": {},
   "source": [
    "## Conclusions\n",
    "#### 2019.06.26 11am\n",
    "\n",
    "- set minimum at 5\n",
    "- set maximum at 250\n",
    "- No date filter"
   ]
  },
  {
   "cell_type": "code",
   "execution_count": 127,
   "metadata": {},
   "outputs": [],
   "source": [
    "min_titles = 5\n",
    "max_titles = 250"
   ]
  },
  {
   "cell_type": "code",
   "execution_count": 128,
   "metadata": {},
   "outputs": [],
   "source": [
    "query = \"\"\"\n",
    "    SELECT ct.* \n",
    "    FROM \n",
    "        comic_trans ct \n",
    "        INNER JOIN acct_cts ac on ct.account_num = ac.account_num\n",
    "    WHERE\n",
    "        ac.num_title_bought between {} and {};\n",
    "\"\"\".format(min_titles, max_titles)"
   ]
  },
  {
   "cell_type": "code",
   "execution_count": 129,
   "metadata": {},
   "outputs": [
    {
     "data": {
      "text/plain": [
       "'\\n    SELECT ct.* \\n    FROM \\n        comic_trans ct \\n        INNER JOIN acct_cts ac on ct.account_num = ac.account_num\\n    WHERE\\n        ac.num_title_bought between 5 and 250;\\n'"
      ]
     },
     "execution_count": 129,
     "metadata": {},
     "output_type": "execute_result"
    }
   ],
   "source": [
    "query"
   ]
  },
  {
   "cell_type": "code",
   "execution_count": 130,
   "metadata": {},
   "outputs": [],
   "source": [
    "# Execute the query\n",
    "cur.execute(query)"
   ]
  },
  {
   "cell_type": "code",
   "execution_count": 131,
   "metadata": {},
   "outputs": [],
   "source": [
    "# Check results\n",
    "temp_df = pd.DataFrame(cur.fetchall())\n",
    "temp_df.columns = [col.name for col in cur.description]"
   ]
  },
  {
   "cell_type": "markdown",
   "metadata": {},
   "source": [
    "conn.rollback()"
   ]
  },
  {
   "cell_type": "code",
   "execution_count": 132,
   "metadata": {
    "scrolled": true
   },
   "outputs": [
    {
     "data": {
      "text/html": [
       "<div>\n",
       "<style scoped>\n",
       "    .dataframe tbody tr th:only-of-type {\n",
       "        vertical-align: middle;\n",
       "    }\n",
       "\n",
       "    .dataframe tbody tr th {\n",
       "        vertical-align: top;\n",
       "    }\n",
       "\n",
       "    .dataframe thead th {\n",
       "        text-align: right;\n",
       "    }\n",
       "</style>\n",
       "<table border=\"1\" class=\"dataframe\">\n",
       "  <thead>\n",
       "    <tr style=\"text-align: right;\">\n",
       "      <th></th>\n",
       "      <th>index</th>\n",
       "      <th>publisher</th>\n",
       "      <th>item_id</th>\n",
       "      <th>title_and_num</th>\n",
       "      <th>qty_sold</th>\n",
       "      <th>date_sold</th>\n",
       "      <th>account_num</th>\n",
       "      <th>comic_title</th>\n",
       "    </tr>\n",
       "  </thead>\n",
       "  <tbody>\n",
       "    <tr>\n",
       "      <th>0</th>\n",
       "      <td>5</td>\n",
       "      <td>Amaze Ink Slave Labor Graphics</td>\n",
       "      <td>DCD416182</td>\n",
       "      <td>Royal Historian of Oz #1</td>\n",
       "      <td>1</td>\n",
       "      <td>2010-07-14 19:49:40</td>\n",
       "      <td>00399</td>\n",
       "      <td>Royal Historian of Oz (SLG)</td>\n",
       "    </tr>\n",
       "    <tr>\n",
       "      <th>1</th>\n",
       "      <td>7</td>\n",
       "      <td>Amaze Ink Slave Labor Graphics</td>\n",
       "      <td>DCD416182</td>\n",
       "      <td>Royal Historian of Oz #1</td>\n",
       "      <td>1</td>\n",
       "      <td>2010-10-31 16:38:39</td>\n",
       "      <td>00327</td>\n",
       "      <td>Royal Historian of Oz (SLG)</td>\n",
       "    </tr>\n",
       "    <tr>\n",
       "      <th>2</th>\n",
       "      <td>9</td>\n",
       "      <td>Amaze Ink Slave Labor Graphics</td>\n",
       "      <td>DCD423794</td>\n",
       "      <td>Royal Historian of Oz #2</td>\n",
       "      <td>1</td>\n",
       "      <td>2010-10-31 16:38:39</td>\n",
       "      <td>00327</td>\n",
       "      <td>Royal Historian of Oz (SLG)</td>\n",
       "    </tr>\n",
       "    <tr>\n",
       "      <th>3</th>\n",
       "      <td>12</td>\n",
       "      <td>Amaze Ink Slave Labor Graphics</td>\n",
       "      <td>DCD390709</td>\n",
       "      <td>Warlord of Io &amp; Other Stories</td>\n",
       "      <td>1</td>\n",
       "      <td>2014-10-01 12:24:07</td>\n",
       "      <td>01065</td>\n",
       "      <td>Warlord of Io &amp; Other Storie (SLG)</td>\n",
       "    </tr>\n",
       "    <tr>\n",
       "      <th>4</th>\n",
       "      <td>13</td>\n",
       "      <td>Archie Comics</td>\n",
       "      <td>DCD630105</td>\n",
       "      <td>Afterlife With Archie #1 2nd P</td>\n",
       "      <td>1</td>\n",
       "      <td>2014-01-23 19:36:29</td>\n",
       "      <td>01033</td>\n",
       "      <td>Afterlife With Archie (Archie)</td>\n",
       "    </tr>\n",
       "  </tbody>\n",
       "</table>\n",
       "</div>"
      ],
      "text/plain": [
       "   index                       publisher    item_id  \\\n",
       "0      5  Amaze Ink Slave Labor Graphics  DCD416182   \n",
       "1      7  Amaze Ink Slave Labor Graphics  DCD416182   \n",
       "2      9  Amaze Ink Slave Labor Graphics  DCD423794   \n",
       "3     12  Amaze Ink Slave Labor Graphics  DCD390709   \n",
       "4     13                   Archie Comics  DCD630105   \n",
       "\n",
       "                    title_and_num  qty_sold           date_sold account_num  \\\n",
       "0        Royal Historian of Oz #1         1 2010-07-14 19:49:40       00399   \n",
       "1        Royal Historian of Oz #1         1 2010-10-31 16:38:39       00327   \n",
       "2        Royal Historian of Oz #2         1 2010-10-31 16:38:39       00327   \n",
       "3   Warlord of Io & Other Stories         1 2014-10-01 12:24:07       01065   \n",
       "4  Afterlife With Archie #1 2nd P         1 2014-01-23 19:36:29       01033   \n",
       "\n",
       "                          comic_title  \n",
       "0         Royal Historian of Oz (SLG)  \n",
       "1         Royal Historian of Oz (SLG)  \n",
       "2         Royal Historian of Oz (SLG)  \n",
       "3  Warlord of Io & Other Storie (SLG)  \n",
       "4      Afterlife With Archie (Archie)  "
      ]
     },
     "execution_count": 132,
     "metadata": {},
     "output_type": "execute_result"
    }
   ],
   "source": [
    "temp_df.head()"
   ]
  },
  {
   "cell_type": "code",
   "execution_count": 133,
   "metadata": {},
   "outputs": [
    {
     "data": {
      "text/plain": [
       "(287234, 8)"
      ]
     },
     "execution_count": 133,
     "metadata": {},
     "output_type": "execute_result"
    }
   ],
   "source": [
    "temp_df.shape"
   ]
  },
  {
   "cell_type": "code",
   "execution_count": 134,
   "metadata": {},
   "outputs": [
    {
     "data": {
      "text/plain": [
       "-0.41428571428571426"
      ]
     },
     "execution_count": 134,
     "metadata": {},
     "output_type": "execute_result"
    }
   ],
   "source": [
    "287/490 - 1 "
   ]
  },
  {
   "cell_type": "markdown",
   "metadata": {},
   "source": [
    "Doing that filter would reduce our starting dataset by about 40%. Let's go with it and see what it looks like."
   ]
  },
  {
   "cell_type": "markdown",
   "metadata": {},
   "source": [
    "# Create Smaller Dataset"
   ]
  },
  {
   "cell_type": "markdown",
   "metadata": {},
   "source": [
    "Latest instance of the target table is `temp_df`. So just run with that.\n",
    "\n",
    "Drop `index`"
   ]
  },
  {
   "cell_type": "code",
   "execution_count": 135,
   "metadata": {},
   "outputs": [],
   "source": [
    "temp_df = temp_df.drop(['index'], axis=1)"
   ]
  },
  {
   "cell_type": "code",
   "execution_count": 137,
   "metadata": {},
   "outputs": [
    {
     "data": {
      "text/html": [
       "<div>\n",
       "<style scoped>\n",
       "    .dataframe tbody tr th:only-of-type {\n",
       "        vertical-align: middle;\n",
       "    }\n",
       "\n",
       "    .dataframe tbody tr th {\n",
       "        vertical-align: top;\n",
       "    }\n",
       "\n",
       "    .dataframe thead th {\n",
       "        text-align: right;\n",
       "    }\n",
       "</style>\n",
       "<table border=\"1\" class=\"dataframe\">\n",
       "  <thead>\n",
       "    <tr style=\"text-align: right;\">\n",
       "      <th></th>\n",
       "      <th>publisher</th>\n",
       "      <th>item_id</th>\n",
       "      <th>title_and_num</th>\n",
       "      <th>qty_sold</th>\n",
       "      <th>date_sold</th>\n",
       "      <th>account_num</th>\n",
       "      <th>comic_title</th>\n",
       "    </tr>\n",
       "  </thead>\n",
       "  <tbody>\n",
       "    <tr>\n",
       "      <th>0</th>\n",
       "      <td>Amaze Ink Slave Labor Graphics</td>\n",
       "      <td>DCD416182</td>\n",
       "      <td>Royal Historian of Oz #1</td>\n",
       "      <td>1</td>\n",
       "      <td>2010-07-14 19:49:40</td>\n",
       "      <td>00399</td>\n",
       "      <td>Royal Historian of Oz (SLG)</td>\n",
       "    </tr>\n",
       "    <tr>\n",
       "      <th>1</th>\n",
       "      <td>Amaze Ink Slave Labor Graphics</td>\n",
       "      <td>DCD416182</td>\n",
       "      <td>Royal Historian of Oz #1</td>\n",
       "      <td>1</td>\n",
       "      <td>2010-10-31 16:38:39</td>\n",
       "      <td>00327</td>\n",
       "      <td>Royal Historian of Oz (SLG)</td>\n",
       "    </tr>\n",
       "    <tr>\n",
       "      <th>2</th>\n",
       "      <td>Amaze Ink Slave Labor Graphics</td>\n",
       "      <td>DCD423794</td>\n",
       "      <td>Royal Historian of Oz #2</td>\n",
       "      <td>1</td>\n",
       "      <td>2010-10-31 16:38:39</td>\n",
       "      <td>00327</td>\n",
       "      <td>Royal Historian of Oz (SLG)</td>\n",
       "    </tr>\n",
       "    <tr>\n",
       "      <th>3</th>\n",
       "      <td>Amaze Ink Slave Labor Graphics</td>\n",
       "      <td>DCD390709</td>\n",
       "      <td>Warlord of Io &amp; Other Stories</td>\n",
       "      <td>1</td>\n",
       "      <td>2014-10-01 12:24:07</td>\n",
       "      <td>01065</td>\n",
       "      <td>Warlord of Io &amp; Other Storie (SLG)</td>\n",
       "    </tr>\n",
       "    <tr>\n",
       "      <th>4</th>\n",
       "      <td>Archie Comics</td>\n",
       "      <td>DCD630105</td>\n",
       "      <td>Afterlife With Archie #1 2nd P</td>\n",
       "      <td>1</td>\n",
       "      <td>2014-01-23 19:36:29</td>\n",
       "      <td>01033</td>\n",
       "      <td>Afterlife With Archie (Archie)</td>\n",
       "    </tr>\n",
       "  </tbody>\n",
       "</table>\n",
       "</div>"
      ],
      "text/plain": [
       "                        publisher    item_id                   title_and_num  \\\n",
       "0  Amaze Ink Slave Labor Graphics  DCD416182        Royal Historian of Oz #1   \n",
       "1  Amaze Ink Slave Labor Graphics  DCD416182        Royal Historian of Oz #1   \n",
       "2  Amaze Ink Slave Labor Graphics  DCD423794        Royal Historian of Oz #2   \n",
       "3  Amaze Ink Slave Labor Graphics  DCD390709   Warlord of Io & Other Stories   \n",
       "4                   Archie Comics  DCD630105  Afterlife With Archie #1 2nd P   \n",
       "\n",
       "   qty_sold           date_sold account_num  \\\n",
       "0         1 2010-07-14 19:49:40       00399   \n",
       "1         1 2010-10-31 16:38:39       00327   \n",
       "2         1 2010-10-31 16:38:39       00327   \n",
       "3         1 2014-10-01 12:24:07       01065   \n",
       "4         1 2014-01-23 19:36:29       01033   \n",
       "\n",
       "                          comic_title  \n",
       "0         Royal Historian of Oz (SLG)  \n",
       "1         Royal Historian of Oz (SLG)  \n",
       "2         Royal Historian of Oz (SLG)  \n",
       "3  Warlord of Io & Other Storie (SLG)  \n",
       "4      Afterlife With Archie (Archie)  "
      ]
     },
     "execution_count": 137,
     "metadata": {},
     "output_type": "execute_result"
    }
   ],
   "source": [
    "temp_df.head()"
   ]
  },
  {
   "cell_type": "code",
   "execution_count": 140,
   "metadata": {},
   "outputs": [],
   "source": [
    "temp_df.to_json('raw_data/trans_filtered.json', orient='records', lines=True)"
   ]
  },
  {
   "cell_type": "code",
   "execution_count": 141,
   "metadata": {},
   "outputs": [
    {
     "name": "stdout",
     "output_type": "stream",
     "text": [
      "{\"publisher\":\"Amaze Ink Slave Labor Graphics\",\"item_id\":\"DCD416182\",\"title_and_num\":\"Royal Historian of Oz #1\",\"qty_sold\":1,\"date_sold\":1279136980000,\"account_num\":\"00399\",\"comic_title\":\"Royal Historian of Oz (SLG)\"}\r\n",
      "{\"publisher\":\"Amaze Ink Slave Labor Graphics\",\"item_id\":\"DCD416182\",\"title_and_num\":\"Royal Historian of Oz #1\",\"qty_sold\":1,\"date_sold\":1288543119000,\"account_num\":\"00327\",\"comic_title\":\"Royal Historian of Oz (SLG)\"}\r\n",
      "{\"publisher\":\"Amaze Ink Slave Labor Graphics\",\"item_id\":\"DCD423794\",\"title_and_num\":\"Royal Historian of Oz #2\",\"qty_sold\":1,\"date_sold\":1288543119000,\"account_num\":\"00327\",\"comic_title\":\"Royal Historian of Oz (SLG)\"}\r\n",
      "{\"publisher\":\"Amaze Ink Slave Labor Graphics\",\"item_id\":\"DCD390709\",\"title_and_num\":\"Warlord of Io & Other Stories\",\"qty_sold\":1,\"date_sold\":1412166247000,\"account_num\":\"01065\",\"comic_title\":\"Warlord of Io & Other Storie (SLG)\"}\r\n",
      "{\"publisher\":\"Archie Comics\",\"item_id\":\"DCD630105\",\"title_and_num\":\"Afterlife With Archie #1 2nd P\",\"qty_sold\":1,\"date_sold\":1390505789000,\"account_num\":\"01033\",\"comic_title\":\"Afterlife With Archie (Archie)\"}\r\n",
      "{\"publisher\":\"Archie Comics\",\"item_id\":\"DCD630105\",\"title_and_num\":\"Afterlife With Archie #1 2nd P\",\"qty_sold\":1,\"date_sold\":1398947834000,\"account_num\":\"01333\",\"comic_title\":\"Afterlife With Archie (Archie)\"}\r\n",
      "{\"publisher\":\"Archie Comics\",\"item_id\":\"DCD630105\",\"title_and_num\":\"Afterlife With Archie #1 2nd P\",\"qty_sold\":1,\"date_sold\":1399904156000,\"account_num\":\"00946\",\"comic_title\":\"Afterlife With Archie (Archie)\"}\r\n",
      "{\"publisher\":\"Archie Comics\",\"item_id\":\"DCD630105\",\"title_and_num\":\"Afterlife With Archie #1 2nd P\",\"qty_sold\":1,\"date_sold\":1407954335000,\"account_num\":\"01278\",\"comic_title\":\"Afterlife With Archie (Archie)\"}\r\n",
      "{\"publisher\":\"Archie Comics\",\"item_id\":\"DCD630105\",\"title_and_num\":\"Afterlife With Archie #1 2nd P\",\"qty_sold\":1,\"date_sold\":1383751270000,\"account_num\":\"01212\",\"comic_title\":\"Afterlife With Archie (Archie)\"}\r\n",
      "{\"publisher\":\"Archie Comics\",\"item_id\":\"DCD630105\",\"title_and_num\":\"Afterlife With Archie #1 2nd P\",\"qty_sold\":1,\"date_sold\":1384353531000,\"account_num\":\"00877\",\"comic_title\":\"Afterlife With Archie (Archie)\"}\r\n"
     ]
    }
   ],
   "source": [
    "!head raw_data/trans_filtered.json"
   ]
  }
 ],
 "metadata": {
  "kernelspec": {
   "display_name": "Python 3",
   "language": "python",
   "name": "python3"
  },
  "language_info": {
   "codemirror_mode": {
    "name": "ipython",
    "version": 3
   },
   "file_extension": ".py",
   "mimetype": "text/x-python",
   "name": "python",
   "nbconvert_exporter": "python",
   "pygments_lexer": "ipython3",
   "version": "3.6.6"
  }
 },
 "nbformat": 4,
 "nbformat_minor": 2
}
