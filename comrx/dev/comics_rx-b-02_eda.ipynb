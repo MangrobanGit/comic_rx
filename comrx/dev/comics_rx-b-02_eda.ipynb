{
 "cells": [
  {
   "cell_type": "markdown",
   "metadata": {},
   "source": [
    "# EDA"
   ]
  },
  {
   "cell_type": "markdown",
   "metadata": {},
   "source": [
    "## Libraries"
   ]
  },
  {
   "cell_type": "code",
   "execution_count": 1,
   "metadata": {},
   "outputs": [],
   "source": [
    "%matplotlib inline\n",
    "%load_ext autoreload\n",
    "%autoreload 2  # 1 would be where you need to specify the files\n",
    "#%aimport data_fcns\n",
    "\n",
    "import pandas as pd  # dataframes\n",
    "import os\n",
    "import gspread_pandas\n",
    "from gspread_pandas import Spread, Client  # gsheets interaction\n",
    "\n",
    "# Data storage\n",
    "from sqlalchemy import create_engine  # SQL helper\n",
    "import psycopg2 as psql  #PostgreSQL DBs\n",
    "\n",
    "# Plotting\n",
    "import matplotlib.pyplot as plt\n",
    "import seaborn as sns"
   ]
  },
  {
   "cell_type": "code",
   "execution_count": 2,
   "metadata": {},
   "outputs": [],
   "source": [
    "import sys"
   ]
  },
  {
   "cell_type": "code",
   "execution_count": 3,
   "metadata": {},
   "outputs": [],
   "source": [
    "sys.path.append(\"..\")"
   ]
  },
  {
   "cell_type": "code",
   "execution_count": 4,
   "metadata": {},
   "outputs": [],
   "source": [
    "# Custom\n",
    "import data_fcns as dfc\n",
    "import keys  # Custom keys lib"
   ]
  },
  {
   "cell_type": "markdown",
   "metadata": {},
   "source": [
    "# Distribution of Accounts\n",
    "\n",
    "The distribution of acccounts may help influence the result. Let's try to identify:\n",
    "\n",
    "- \"Super accounts\" - e.g. one of the accounts is earmarked for eBay transactions.\n",
    "- One-time customers - Customers who only purchased once may cloud the data."
   ]
  },
  {
   "cell_type": "markdown",
   "metadata": {},
   "source": [
    "### Get transactions data"
   ]
  },
  {
   "cell_type": "code",
   "execution_count": 5,
   "metadata": {},
   "outputs": [
    {
     "data": {
      "text/plain": [
       "'/Users/werlindo/.secret/aws_ps_flatiron.json'"
      ]
     },
     "execution_count": 5,
     "metadata": {},
     "output_type": "execute_result"
    }
   ],
   "source": [
    "# Define path to secret\n",
    "secret_path_aws = os.path.join(os.environ['HOME'], '.secret',\n",
    "                               'aws_ps_flatiron.json')\n",
    "secret_path_aws"
   ]
  },
  {
   "cell_type": "code",
   "execution_count": 6,
   "metadata": {},
   "outputs": [],
   "source": [
    "aws_keys = keys.get_keys(secret_path_aws)\n",
    "user = aws_keys['user']\n",
    "ps = aws_keys['password']\n",
    "host = aws_keys['host']\n",
    "db = aws_keys['db_name']\n",
    "\n",
    "aws_ps_engine = ('postgresql://' + user + ':' + ps + '@' + host + '/' + db)"
   ]
  },
  {
   "cell_type": "code",
   "execution_count": 7,
   "metadata": {},
   "outputs": [],
   "source": [
    "# Setup PSQL connection\n",
    "conn = psql.connect(database=db,\n",
    "                    user=user,\n",
    "                    password=ps,\n",
    "                    host=host,\n",
    "                    port='5432')"
   ]
  },
  {
   "cell_type": "code",
   "execution_count": 8,
   "metadata": {},
   "outputs": [],
   "source": [
    "# Instantiate cursor\n",
    "cur = conn.cursor()"
   ]
  },
  {
   "cell_type": "code",
   "execution_count": 9,
   "metadata": {},
   "outputs": [],
   "source": [
    "#  Count records.\n",
    "query = \"\"\"\n",
    "    SELECT\n",
    "        account_num\n",
    "        ,COUNT(DISTINCT comic_title) num_title_bought \n",
    "    FROM \n",
    "        comic_trans \n",
    "    GROUP BY\n",
    "        account_num\n",
    "    ORDER BY \n",
    "        2 DESC\n",
    "    ;\n",
    "\"\"\""
   ]
  },
  {
   "cell_type": "code",
   "execution_count": 10,
   "metadata": {},
   "outputs": [],
   "source": [
    "# Execute the query\n",
    "cur.execute(query)"
   ]
  },
  {
   "cell_type": "code",
   "execution_count": 11,
   "metadata": {},
   "outputs": [],
   "source": [
    "# Check results\n",
    "temp_df = pd.DataFrame(cur.fetchall())\n",
    "temp_df.columns = [col.name for col in cur.description]"
   ]
  },
  {
   "cell_type": "code",
   "execution_count": 12,
   "metadata": {},
   "outputs": [
    {
     "data": {
      "text/html": [
       "<div>\n",
       "<style scoped>\n",
       "    .dataframe tbody tr th:only-of-type {\n",
       "        vertical-align: middle;\n",
       "    }\n",
       "\n",
       "    .dataframe tbody tr th {\n",
       "        vertical-align: top;\n",
       "    }\n",
       "\n",
       "    .dataframe thead th {\n",
       "        text-align: right;\n",
       "    }\n",
       "</style>\n",
       "<table border=\"1\" class=\"dataframe\">\n",
       "  <thead>\n",
       "    <tr style=\"text-align: right;\">\n",
       "      <th></th>\n",
       "      <th>account_num</th>\n",
       "      <th>num_title_bought</th>\n",
       "    </tr>\n",
       "  </thead>\n",
       "  <tbody>\n",
       "    <tr>\n",
       "      <td>0</td>\n",
       "      <td>00191</td>\n",
       "      <td>1504</td>\n",
       "    </tr>\n",
       "    <tr>\n",
       "      <td>1</td>\n",
       "      <td>00961</td>\n",
       "      <td>1114</td>\n",
       "    </tr>\n",
       "    <tr>\n",
       "      <td>2</td>\n",
       "      <td>01132</td>\n",
       "      <td>1023</td>\n",
       "    </tr>\n",
       "    <tr>\n",
       "      <td>3</td>\n",
       "      <td>01695</td>\n",
       "      <td>944</td>\n",
       "    </tr>\n",
       "    <tr>\n",
       "      <td>4</td>\n",
       "      <td>00134</td>\n",
       "      <td>925</td>\n",
       "    </tr>\n",
       "    <tr>\n",
       "      <td>5</td>\n",
       "      <td>00174</td>\n",
       "      <td>838</td>\n",
       "    </tr>\n",
       "    <tr>\n",
       "      <td>6</td>\n",
       "      <td>01047</td>\n",
       "      <td>730</td>\n",
       "    </tr>\n",
       "    <tr>\n",
       "      <td>7</td>\n",
       "      <td>01858</td>\n",
       "      <td>715</td>\n",
       "    </tr>\n",
       "    <tr>\n",
       "      <td>8</td>\n",
       "      <td>01275</td>\n",
       "      <td>694</td>\n",
       "    </tr>\n",
       "    <tr>\n",
       "      <td>9</td>\n",
       "      <td>00108</td>\n",
       "      <td>652</td>\n",
       "    </tr>\n",
       "  </tbody>\n",
       "</table>\n",
       "</div>"
      ],
      "text/plain": [
       "  account_num  num_title_bought\n",
       "0       00191              1504\n",
       "1       00961              1114\n",
       "2       01132              1023\n",
       "3       01695               944\n",
       "4       00134               925\n",
       "5       00174               838\n",
       "6       01047               730\n",
       "7       01858               715\n",
       "8       01275               694\n",
       "9       00108               652"
      ]
     },
     "execution_count": 12,
     "metadata": {},
     "output_type": "execute_result"
    }
   ],
   "source": [
    "temp_df.head(10)"
   ]
  },
  {
   "cell_type": "code",
   "execution_count": 13,
   "metadata": {},
   "outputs": [],
   "source": [
    "#  Count records.\n",
    "query = \"\"\"\n",
    "    SELECT * from comic_trans limit 10;\n",
    "\"\"\""
   ]
  },
  {
   "cell_type": "code",
   "execution_count": 14,
   "metadata": {},
   "outputs": [
    {
     "data": {
      "text/html": [
       "<div>\n",
       "<style scoped>\n",
       "    .dataframe tbody tr th:only-of-type {\n",
       "        vertical-align: middle;\n",
       "    }\n",
       "\n",
       "    .dataframe tbody tr th {\n",
       "        vertical-align: top;\n",
       "    }\n",
       "\n",
       "    .dataframe thead th {\n",
       "        text-align: right;\n",
       "    }\n",
       "</style>\n",
       "<table border=\"1\" class=\"dataframe\">\n",
       "  <thead>\n",
       "    <tr style=\"text-align: right;\">\n",
       "      <th></th>\n",
       "      <th>account_num</th>\n",
       "      <th>num_title_bought</th>\n",
       "    </tr>\n",
       "  </thead>\n",
       "  <tbody>\n",
       "    <tr>\n",
       "      <td>1707</td>\n",
       "      <td>01217</td>\n",
       "      <td>1</td>\n",
       "    </tr>\n",
       "    <tr>\n",
       "      <td>1708</td>\n",
       "      <td>03011</td>\n",
       "      <td>1</td>\n",
       "    </tr>\n",
       "    <tr>\n",
       "      <td>1709</td>\n",
       "      <td>00902</td>\n",
       "      <td>1</td>\n",
       "    </tr>\n",
       "    <tr>\n",
       "      <td>1710</td>\n",
       "      <td>00911</td>\n",
       "      <td>1</td>\n",
       "    </tr>\n",
       "    <tr>\n",
       "      <td>1711</td>\n",
       "      <td>01630</td>\n",
       "      <td>1</td>\n",
       "    </tr>\n",
       "    <tr>\n",
       "      <td>1712</td>\n",
       "      <td>00313</td>\n",
       "      <td>1</td>\n",
       "    </tr>\n",
       "    <tr>\n",
       "      <td>1713</td>\n",
       "      <td>00926</td>\n",
       "      <td>1</td>\n",
       "    </tr>\n",
       "    <tr>\n",
       "      <td>1714</td>\n",
       "      <td>00931</td>\n",
       "      <td>1</td>\n",
       "    </tr>\n",
       "    <tr>\n",
       "      <td>1715</td>\n",
       "      <td>03015</td>\n",
       "      <td>1</td>\n",
       "    </tr>\n",
       "    <tr>\n",
       "      <td>1716</td>\n",
       "      <td>03016</td>\n",
       "      <td>1</td>\n",
       "    </tr>\n",
       "  </tbody>\n",
       "</table>\n",
       "</div>"
      ],
      "text/plain": [
       "     account_num  num_title_bought\n",
       "1707       01217                 1\n",
       "1708       03011                 1\n",
       "1709       00902                 1\n",
       "1710       00911                 1\n",
       "1711       01630                 1\n",
       "1712       00313                 1\n",
       "1713       00926                 1\n",
       "1714       00931                 1\n",
       "1715       03015                 1\n",
       "1716       03016                 1"
      ]
     },
     "execution_count": 14,
     "metadata": {},
     "output_type": "execute_result"
    }
   ],
   "source": [
    "temp_df.tail(10)"
   ]
  },
  {
   "cell_type": "code",
   "execution_count": 15,
   "metadata": {},
   "outputs": [
    {
     "data": {
      "text/plain": [
       "(1717, 2)"
      ]
     },
     "execution_count": 15,
     "metadata": {},
     "output_type": "execute_result"
    }
   ],
   "source": [
    "temp_df.shape"
   ]
  },
  {
   "cell_type": "markdown",
   "metadata": {},
   "source": [
    "- There are 1.7K accounts who bought at least 1 title  \n",
    "- The top end doesn't seem as skewed as I thought it would, at least at first blush."
   ]
  },
  {
   "cell_type": "code",
   "execution_count": 16,
   "metadata": {},
   "outputs": [
    {
     "data": {
      "text/plain": [
       "<matplotlib.axes._subplots.AxesSubplot at 0x1a16a2ca58>"
      ]
     },
     "execution_count": 16,
     "metadata": {},
     "output_type": "execute_result"
    },
    {
     "data": {
      "image/png": "[encoded data removed]",
      "text/plain": [
       "<Figure size 432x288 with 1 Axes>"
      ]
     },
     "metadata": {
      "needs_background": "light"
     },
     "output_type": "display_data"
    }
   ],
   "source": [
    "sns.distplot(temp_df.num_title_bought)"
   ]
  },
  {
   "cell_type": "markdown",
   "metadata": {},
   "source": [
    "Well, don't really know what I meant by the prior comment re: skewness. I think what I mean is that my prior guess was that the 'top' account would number in the high thousands, though that was more of a, like I said, guess."
   ]
  },
  {
   "cell_type": "markdown",
   "metadata": {},
   "source": [
    "Could always just set up high and low thresholds, and just set them as get more info."
   ]
  },
  {
   "cell_type": "code",
   "execution_count": 17,
   "metadata": {},
   "outputs": [],
   "source": [
    "# Thresholds\n",
    "bottom = 1\n",
    "top = 100"
   ]
  },
  {
   "cell_type": "code",
   "execution_count": 18,
   "metadata": {},
   "outputs": [],
   "source": [
    "small_df = temp_df.loc[(temp_df.num_title_bought > bottom)\n",
    "                       & (temp_df.num_title_bought < top)]"
   ]
  },
  {
   "cell_type": "code",
   "execution_count": 19,
   "metadata": {},
   "outputs": [
    {
     "data": {
      "text/plain": [
       "<matplotlib.axes._subplots.AxesSubplot at 0x1a16e4eb70>"
      ]
     },
     "execution_count": 19,
     "metadata": {},
     "output_type": "execute_result"
    },
    {
     "data": {
      "image/png": "[encoded data removed]",
      "text/plain": [
       "<Figure size 432x288 with 1 Axes>"
      ]
     },
     "metadata": {
      "needs_background": "light"
     },
     "output_type": "display_data"
    }
   ],
   "source": [
    "sns.distplot(small_df.num_title_bought)"
   ]
  },
  {
   "cell_type": "code",
   "execution_count": 20,
   "metadata": {},
   "outputs": [
    {
     "data": {
      "text/plain": [
       "2     125\n",
       "3     108\n",
       "4      76\n",
       "6      51\n",
       "7      40\n",
       "5      39\n",
       "8      36\n",
       "9      36\n",
       "10     34\n",
       "11     27\n",
       "12     23\n",
       "18     20\n",
       "35     19\n",
       "19     17\n",
       "13     15\n",
       "20     15\n",
       "37     15\n",
       "23     14\n",
       "27     14\n",
       "15     14\n",
       "Name: num_title_bought, dtype: int64"
      ]
     },
     "execution_count": 20,
     "metadata": {},
     "output_type": "execute_result"
    }
   ],
   "source": [
    "small_df['num_title_bought'].value_counts().head(20)"
   ]
  },
  {
   "cell_type": "markdown",
   "metadata": {},
   "source": [
    "Definitely skewed. Just from visual inspection from playing around with the thresholds and looking at the `value_counts`, just set some arbitrary limits of:  \n",
    "- bottom: 5\n",
    "- top : 250"
   ]
  },
  {
   "cell_type": "markdown",
   "metadata": {},
   "source": [
    "Let's create a table on our DB that is `account_num` by `num_title_bought`"
   ]
  },
  {
   "cell_type": "markdown",
   "metadata": {},
   "source": [
    "#  Create account counts table."
   ]
  },
  {
   "cell_type": "code",
   "execution_count": 21,
   "metadata": {},
   "outputs": [],
   "source": [
    "# query = \"\"\"\n",
    "#     CREATE TABLE acct_cts AS\n",
    "#     SELECT\n",
    "#         account_num\n",
    "#         ,COUNT(DISTINCT comic_title) num_title_bought \n",
    "#     FROM \n",
    "#         comic_trans \n",
    "#     GROUP BY\n",
    "#         account_num\n",
    "#     ;\n",
    "# \"\"\""
   ]
  },
  {
   "cell_type": "code",
   "execution_count": 23,
   "metadata": {},
   "outputs": [],
   "source": [
    "# # Execute the query\n",
    "# cur.execute(query)"
   ]
  },
  {
   "cell_type": "code",
   "execution_count": 24,
   "metadata": {},
   "outputs": [],
   "source": [
    "# conn.commit()"
   ]
  },
  {
   "cell_type": "markdown",
   "metadata": {},
   "source": [
    "Check it."
   ]
  },
  {
   "cell_type": "code",
   "execution_count": 25,
   "metadata": {},
   "outputs": [],
   "source": [
    "#  Count records.\n",
    "query = \"\"\"\n",
    "    SELECT *\n",
    "    FROM acct_cts\n",
    "    --WHERE num_title_bought between 5 and 250\n",
    "    WHERE num_title_bought > 250 \n",
    "    ORDER BY num_title_bought DESC\n",
    "    ;\n",
    "\"\"\""
   ]
  },
  {
   "cell_type": "code",
   "execution_count": 26,
   "metadata": {},
   "outputs": [],
   "source": [
    "# Execute the query\n",
    "cur.execute(query)"
   ]
  },
  {
   "cell_type": "code",
   "execution_count": 27,
   "metadata": {},
   "outputs": [],
   "source": [
    "# Check results\n",
    "temp_df = pd.DataFrame(cur.fetchall())\n",
    "temp_df.columns = [col.name for col in cur.description]"
   ]
  },
  {
   "cell_type": "code",
   "execution_count": 28,
   "metadata": {},
   "outputs": [
    {
     "data": {
      "text/html": [
       "<div>\n",
       "<style scoped>\n",
       "    .dataframe tbody tr th:only-of-type {\n",
       "        vertical-align: middle;\n",
       "    }\n",
       "\n",
       "    .dataframe tbody tr th {\n",
       "        vertical-align: top;\n",
       "    }\n",
       "\n",
       "    .dataframe thead th {\n",
       "        text-align: right;\n",
       "    }\n",
       "</style>\n",
       "<table border=\"1\" class=\"dataframe\">\n",
       "  <thead>\n",
       "    <tr style=\"text-align: right;\">\n",
       "      <th></th>\n",
       "      <th>account_num</th>\n",
       "      <th>num_title_bought</th>\n",
       "    </tr>\n",
       "  </thead>\n",
       "  <tbody>\n",
       "    <tr>\n",
       "      <td>0</td>\n",
       "      <td>00191</td>\n",
       "      <td>1504</td>\n",
       "    </tr>\n",
       "    <tr>\n",
       "      <td>1</td>\n",
       "      <td>00961</td>\n",
       "      <td>1114</td>\n",
       "    </tr>\n",
       "    <tr>\n",
       "      <td>2</td>\n",
       "      <td>01132</td>\n",
       "      <td>1023</td>\n",
       "    </tr>\n",
       "    <tr>\n",
       "      <td>3</td>\n",
       "      <td>01695</td>\n",
       "      <td>944</td>\n",
       "    </tr>\n",
       "    <tr>\n",
       "      <td>4</td>\n",
       "      <td>00134</td>\n",
       "      <td>925</td>\n",
       "    </tr>\n",
       "    <tr>\n",
       "      <td>...</td>\n",
       "      <td>...</td>\n",
       "      <td>...</td>\n",
       "    </tr>\n",
       "    <tr>\n",
       "      <td>77</td>\n",
       "      <td>00304</td>\n",
       "      <td>255</td>\n",
       "    </tr>\n",
       "    <tr>\n",
       "      <td>78</td>\n",
       "      <td>00880</td>\n",
       "      <td>252</td>\n",
       "    </tr>\n",
       "    <tr>\n",
       "      <td>79</td>\n",
       "      <td>00138</td>\n",
       "      <td>252</td>\n",
       "    </tr>\n",
       "    <tr>\n",
       "      <td>80</td>\n",
       "      <td>00060</td>\n",
       "      <td>252</td>\n",
       "    </tr>\n",
       "    <tr>\n",
       "      <td>81</td>\n",
       "      <td>01060</td>\n",
       "      <td>251</td>\n",
       "    </tr>\n",
       "  </tbody>\n",
       "</table>\n",
       "<p>82 rows × 2 columns</p>\n",
       "</div>"
      ],
      "text/plain": [
       "   account_num  num_title_bought\n",
       "0        00191              1504\n",
       "1        00961              1114\n",
       "2        01132              1023\n",
       "3        01695               944\n",
       "4        00134               925\n",
       "..         ...               ...\n",
       "77       00304               255\n",
       "78       00880               252\n",
       "79       00138               252\n",
       "80       00060               252\n",
       "81       01060               251\n",
       "\n",
       "[82 rows x 2 columns]"
      ]
     },
     "execution_count": 28,
     "metadata": {},
     "output_type": "execute_result"
    }
   ],
   "source": [
    "temp_df"
   ]
  },
  {
   "cell_type": "markdown",
   "metadata": {},
   "source": [
    "Should we also subset on dates to control for tastes changing over time?"
   ]
  },
  {
   "cell_type": "code",
   "execution_count": 29,
   "metadata": {},
   "outputs": [],
   "source": [
    "query = \"\"\"\n",
    "    SELECT * FROM comic_trans \n",
    "    WHERE date_sold >= '2018-01-01'\n",
    "    limit 10;\n",
    "\"\"\""
   ]
  },
  {
   "cell_type": "code",
   "execution_count": 30,
   "metadata": {},
   "outputs": [],
   "source": [
    "# Execute the query\n",
    "cur.execute(query)"
   ]
  },
  {
   "cell_type": "code",
   "execution_count": 31,
   "metadata": {},
   "outputs": [],
   "source": [
    "# Check results\n",
    "temp_df = pd.DataFrame(cur.fetchall())\n",
    "temp_df.columns = [col.name for col in cur.description]"
   ]
  },
  {
   "cell_type": "code",
   "execution_count": 32,
   "metadata": {},
   "outputs": [
    {
     "data": {
      "text/html": [
       "<div>\n",
       "<style scoped>\n",
       "    .dataframe tbody tr th:only-of-type {\n",
       "        vertical-align: middle;\n",
       "    }\n",
       "\n",
       "    .dataframe tbody tr th {\n",
       "        vertical-align: top;\n",
       "    }\n",
       "\n",
       "    .dataframe thead th {\n",
       "        text-align: right;\n",
       "    }\n",
       "</style>\n",
       "<table border=\"1\" class=\"dataframe\">\n",
       "  <thead>\n",
       "    <tr style=\"text-align: right;\">\n",
       "      <th></th>\n",
       "      <th>index</th>\n",
       "      <th>publisher</th>\n",
       "      <th>item_id</th>\n",
       "      <th>title_and_num</th>\n",
       "      <th>qty_sold</th>\n",
       "      <th>date_sold</th>\n",
       "      <th>account_num</th>\n",
       "      <th>comic_title</th>\n",
       "    </tr>\n",
       "  </thead>\n",
       "  <tbody>\n",
       "    <tr>\n",
       "      <td>0</td>\n",
       "      <td>471</td>\n",
       "      <td>Archie Comics</td>\n",
       "      <td>DCDL068591</td>\n",
       "      <td>Archie #27 Cvr A Mok</td>\n",
       "      <td>1</td>\n",
       "      <td>2018-01-17 12:07:25</td>\n",
       "      <td>02247</td>\n",
       "      <td>Archie (Archie)</td>\n",
       "    </tr>\n",
       "    <tr>\n",
       "      <td>1</td>\n",
       "      <td>472</td>\n",
       "      <td>Archie Comics</td>\n",
       "      <td>DCDL068591</td>\n",
       "      <td>Archie #27 Cvr A Mok</td>\n",
       "      <td>1</td>\n",
       "      <td>2018-01-19 12:18:23</td>\n",
       "      <td>01573</td>\n",
       "      <td>Archie (Archie)</td>\n",
       "    </tr>\n",
       "    <tr>\n",
       "      <td>2</td>\n",
       "      <td>473</td>\n",
       "      <td>Archie Comics</td>\n",
       "      <td>DCDL068591</td>\n",
       "      <td>Archie #27 Cvr A Mok</td>\n",
       "      <td>1</td>\n",
       "      <td>2018-01-21 10:28:06</td>\n",
       "      <td>00280</td>\n",
       "      <td>Archie (Archie)</td>\n",
       "    </tr>\n",
       "    <tr>\n",
       "      <td>3</td>\n",
       "      <td>474</td>\n",
       "      <td>Archie Comics</td>\n",
       "      <td>DCDL068591</td>\n",
       "      <td>Archie #27 Cvr A Mok</td>\n",
       "      <td>1</td>\n",
       "      <td>2018-01-18 17:02:55</td>\n",
       "      <td>02163</td>\n",
       "      <td>Archie (Archie)</td>\n",
       "    </tr>\n",
       "    <tr>\n",
       "      <td>4</td>\n",
       "      <td>475</td>\n",
       "      <td>Archie Comics</td>\n",
       "      <td>DCDL068591</td>\n",
       "      <td>Archie #27 Cvr A Mok</td>\n",
       "      <td>1</td>\n",
       "      <td>2018-01-12 14:18:12</td>\n",
       "      <td>00961</td>\n",
       "      <td>Archie (Archie)</td>\n",
       "    </tr>\n",
       "    <tr>\n",
       "      <td>5</td>\n",
       "      <td>476</td>\n",
       "      <td>Archie Comics</td>\n",
       "      <td>DCDL068591</td>\n",
       "      <td>Archie #27 Cvr A Mok</td>\n",
       "      <td>1</td>\n",
       "      <td>2018-01-18 17:57:15</td>\n",
       "      <td>00161</td>\n",
       "      <td>Archie (Archie)</td>\n",
       "    </tr>\n",
       "    <tr>\n",
       "      <td>6</td>\n",
       "      <td>477</td>\n",
       "      <td>Archie Comics</td>\n",
       "      <td>DCDL068591</td>\n",
       "      <td>Archie #27 Cvr A Mok</td>\n",
       "      <td>1</td>\n",
       "      <td>2018-02-22 13:43:41</td>\n",
       "      <td>02224</td>\n",
       "      <td>Archie (Archie)</td>\n",
       "    </tr>\n",
       "    <tr>\n",
       "      <td>7</td>\n",
       "      <td>478</td>\n",
       "      <td>Archie Comics</td>\n",
       "      <td>DCDL071881</td>\n",
       "      <td>Archie #28 Cvr A Mok</td>\n",
       "      <td>1</td>\n",
       "      <td>2018-02-26 17:36:16</td>\n",
       "      <td>02163</td>\n",
       "      <td>Archie (Archie)</td>\n",
       "    </tr>\n",
       "    <tr>\n",
       "      <td>8</td>\n",
       "      <td>479</td>\n",
       "      <td>Archie Comics</td>\n",
       "      <td>DCDL071881</td>\n",
       "      <td>Archie #28 Cvr A Mok</td>\n",
       "      <td>1</td>\n",
       "      <td>2018-02-18 10:05:33</td>\n",
       "      <td>00280</td>\n",
       "      <td>Archie (Archie)</td>\n",
       "    </tr>\n",
       "    <tr>\n",
       "      <td>9</td>\n",
       "      <td>480</td>\n",
       "      <td>Archie Comics</td>\n",
       "      <td>DCDL071881</td>\n",
       "      <td>Archie #28 Cvr A Mok</td>\n",
       "      <td>1</td>\n",
       "      <td>2018-02-16 14:49:33</td>\n",
       "      <td>02247</td>\n",
       "      <td>Archie (Archie)</td>\n",
       "    </tr>\n",
       "  </tbody>\n",
       "</table>\n",
       "</div>"
      ],
      "text/plain": [
       "   index      publisher     item_id         title_and_num  qty_sold  \\\n",
       "0    471  Archie Comics  DCDL068591  Archie #27 Cvr A Mok         1   \n",
       "1    472  Archie Comics  DCDL068591  Archie #27 Cvr A Mok         1   \n",
       "2    473  Archie Comics  DCDL068591  Archie #27 Cvr A Mok         1   \n",
       "3    474  Archie Comics  DCDL068591  Archie #27 Cvr A Mok         1   \n",
       "4    475  Archie Comics  DCDL068591  Archie #27 Cvr A Mok         1   \n",
       "5    476  Archie Comics  DCDL068591  Archie #27 Cvr A Mok         1   \n",
       "6    477  Archie Comics  DCDL068591  Archie #27 Cvr A Mok         1   \n",
       "7    478  Archie Comics  DCDL071881  Archie #28 Cvr A Mok         1   \n",
       "8    479  Archie Comics  DCDL071881  Archie #28 Cvr A Mok         1   \n",
       "9    480  Archie Comics  DCDL071881  Archie #28 Cvr A Mok         1   \n",
       "\n",
       "            date_sold account_num      comic_title  \n",
       "0 2018-01-17 12:07:25       02247  Archie (Archie)  \n",
       "1 2018-01-19 12:18:23       01573  Archie (Archie)  \n",
       "2 2018-01-21 10:28:06       00280  Archie (Archie)  \n",
       "3 2018-01-18 17:02:55       02163  Archie (Archie)  \n",
       "4 2018-01-12 14:18:12       00961  Archie (Archie)  \n",
       "5 2018-01-18 17:57:15       00161  Archie (Archie)  \n",
       "6 2018-02-22 13:43:41       02224  Archie (Archie)  \n",
       "7 2018-02-26 17:36:16       02163  Archie (Archie)  \n",
       "8 2018-02-18 10:05:33       00280  Archie (Archie)  \n",
       "9 2018-02-16 14:49:33       02247  Archie (Archie)  "
      ]
     },
     "execution_count": 32,
     "metadata": {},
     "output_type": "execute_result"
    }
   ],
   "source": [
    "temp_df"
   ]
  },
  {
   "cell_type": "markdown",
   "metadata": {},
   "source": [
    "Date filtering works. Super arbitrary? \n",
    "- Is there an effect from other pop culture influence:\n",
    "- Marvel movies? (e.g. Iron Man 2008, Avengers 2012, etc)\n",
    "\n",
    "I thnk safe for now is to just either take it all? or Just settle on some rule of thumb for now: e.g. 5 years.\n"
   ]
  },
  {
   "cell_type": "markdown",
   "metadata": {},
   "source": [
    "## Conclusions\n",
    "#### 2019.06.26 11am\n",
    "\n",
    "- set minimum at 5\n",
    "- set maximum at ~~250~~ 300\n",
    "- No date filter"
   ]
  },
  {
   "cell_type": "code",
   "execution_count": 33,
   "metadata": {},
   "outputs": [],
   "source": [
    "min_titles = 5\n",
    "max_titles = 300"
   ]
  },
  {
   "cell_type": "code",
   "execution_count": 34,
   "metadata": {},
   "outputs": [],
   "source": [
    "query = \"\"\"\n",
    "    SELECT ct.* \n",
    "    FROM \n",
    "        comic_trans ct \n",
    "        INNER JOIN acct_cts ac on ct.account_num = ac.account_num\n",
    "    WHERE\n",
    "        ac.num_title_bought between {} and {};\n",
    "\"\"\".format(min_titles, max_titles)"
   ]
  },
  {
   "cell_type": "code",
   "execution_count": 35,
   "metadata": {},
   "outputs": [
    {
     "data": {
      "text/plain": [
       "'\\n    SELECT ct.* \\n    FROM \\n        comic_trans ct \\n        INNER JOIN acct_cts ac on ct.account_num = ac.account_num\\n    WHERE\\n        ac.num_title_bought between 5 and 300;\\n'"
      ]
     },
     "execution_count": 35,
     "metadata": {},
     "output_type": "execute_result"
    }
   ],
   "source": [
    "query"
   ]
  },
  {
   "cell_type": "code",
   "execution_count": 36,
   "metadata": {},
   "outputs": [],
   "source": [
    "# Execute the query\n",
    "cur.execute(query)"
   ]
  },
  {
   "cell_type": "code",
   "execution_count": 37,
   "metadata": {},
   "outputs": [],
   "source": [
    "# Check results\n",
    "temp_df = pd.DataFrame(cur.fetchall())\n",
    "temp_df.columns = [col.name for col in cur.description]"
   ]
  },
  {
   "cell_type": "code",
   "execution_count": 38,
   "metadata": {},
   "outputs": [],
   "source": [
    "# conn.rollback()"
   ]
  },
  {
   "cell_type": "code",
   "execution_count": 39,
   "metadata": {
    "scrolled": true
   },
   "outputs": [
    {
     "data": {
      "text/html": [
       "<div>\n",
       "<style scoped>\n",
       "    .dataframe tbody tr th:only-of-type {\n",
       "        vertical-align: middle;\n",
       "    }\n",
       "\n",
       "    .dataframe tbody tr th {\n",
       "        vertical-align: top;\n",
       "    }\n",
       "\n",
       "    .dataframe thead th {\n",
       "        text-align: right;\n",
       "    }\n",
       "</style>\n",
       "<table border=\"1\" class=\"dataframe\">\n",
       "  <thead>\n",
       "    <tr style=\"text-align: right;\">\n",
       "      <th></th>\n",
       "      <th>index</th>\n",
       "      <th>publisher</th>\n",
       "      <th>item_id</th>\n",
       "      <th>title_and_num</th>\n",
       "      <th>qty_sold</th>\n",
       "      <th>date_sold</th>\n",
       "      <th>account_num</th>\n",
       "      <th>comic_title</th>\n",
       "    </tr>\n",
       "  </thead>\n",
       "  <tbody>\n",
       "    <tr>\n",
       "      <td>0</td>\n",
       "      <td>5</td>\n",
       "      <td>Amaze Ink Slave Labor Graphics</td>\n",
       "      <td>DCD416182</td>\n",
       "      <td>Royal Historian of Oz #1</td>\n",
       "      <td>1</td>\n",
       "      <td>2010-07-14 19:49:40</td>\n",
       "      <td>00399</td>\n",
       "      <td>Royal Historian of Oz (SLG)</td>\n",
       "    </tr>\n",
       "    <tr>\n",
       "      <td>1</td>\n",
       "      <td>7</td>\n",
       "      <td>Amaze Ink Slave Labor Graphics</td>\n",
       "      <td>DCD416182</td>\n",
       "      <td>Royal Historian of Oz #1</td>\n",
       "      <td>1</td>\n",
       "      <td>2010-10-31 16:38:39</td>\n",
       "      <td>00327</td>\n",
       "      <td>Royal Historian of Oz (SLG)</td>\n",
       "    </tr>\n",
       "    <tr>\n",
       "      <td>2</td>\n",
       "      <td>9</td>\n",
       "      <td>Amaze Ink Slave Labor Graphics</td>\n",
       "      <td>DCD423794</td>\n",
       "      <td>Royal Historian of Oz #2</td>\n",
       "      <td>1</td>\n",
       "      <td>2010-10-31 16:38:39</td>\n",
       "      <td>00327</td>\n",
       "      <td>Royal Historian of Oz (SLG)</td>\n",
       "    </tr>\n",
       "    <tr>\n",
       "      <td>3</td>\n",
       "      <td>12</td>\n",
       "      <td>Amaze Ink Slave Labor Graphics</td>\n",
       "      <td>DCD390709</td>\n",
       "      <td>Warlord of Io &amp; Other Stories</td>\n",
       "      <td>1</td>\n",
       "      <td>2014-10-01 12:24:07</td>\n",
       "      <td>01065</td>\n",
       "      <td>Warlord of Io &amp; Other Storie (SLG)</td>\n",
       "    </tr>\n",
       "    <tr>\n",
       "      <td>4</td>\n",
       "      <td>13</td>\n",
       "      <td>Archie Comics</td>\n",
       "      <td>DCD630105</td>\n",
       "      <td>Afterlife With Archie #1 2nd P</td>\n",
       "      <td>1</td>\n",
       "      <td>2014-01-23 19:36:29</td>\n",
       "      <td>01033</td>\n",
       "      <td>Afterlife With Archie (Archie)</td>\n",
       "    </tr>\n",
       "  </tbody>\n",
       "</table>\n",
       "</div>"
      ],
      "text/plain": [
       "   index                       publisher    item_id  \\\n",
       "0      5  Amaze Ink Slave Labor Graphics  DCD416182   \n",
       "1      7  Amaze Ink Slave Labor Graphics  DCD416182   \n",
       "2      9  Amaze Ink Slave Labor Graphics  DCD423794   \n",
       "3     12  Amaze Ink Slave Labor Graphics  DCD390709   \n",
       "4     13                   Archie Comics  DCD630105   \n",
       "\n",
       "                    title_and_num  qty_sold           date_sold account_num  \\\n",
       "0        Royal Historian of Oz #1         1 2010-07-14 19:49:40       00399   \n",
       "1        Royal Historian of Oz #1         1 2010-10-31 16:38:39       00327   \n",
       "2        Royal Historian of Oz #2         1 2010-10-31 16:38:39       00327   \n",
       "3   Warlord of Io & Other Stories         1 2014-10-01 12:24:07       01065   \n",
       "4  Afterlife With Archie #1 2nd P         1 2014-01-23 19:36:29       01033   \n",
       "\n",
       "                          comic_title  \n",
       "0         Royal Historian of Oz (SLG)  \n",
       "1         Royal Historian of Oz (SLG)  \n",
       "2         Royal Historian of Oz (SLG)  \n",
       "3  Warlord of Io & Other Storie (SLG)  \n",
       "4      Afterlife With Archie (Archie)  "
      ]
     },
     "execution_count": 39,
     "metadata": {},
     "output_type": "execute_result"
    }
   ],
   "source": [
    "temp_df.head()"
   ]
  },
  {
   "cell_type": "code",
   "execution_count": 40,
   "metadata": {},
   "outputs": [
    {
     "data": {
      "text/plain": [
       "(327839, 8)"
      ]
     },
     "execution_count": 40,
     "metadata": {},
     "output_type": "execute_result"
    }
   ],
   "source": [
    "temp_df.shape"
   ]
  },
  {
   "cell_type": "code",
   "execution_count": 41,
   "metadata": {},
   "outputs": [
    {
     "data": {
      "text/plain": [
       "-0.3373737373737373"
      ]
     },
     "execution_count": 41,
     "metadata": {},
     "output_type": "execute_result"
    }
   ],
   "source": [
    "328 / 495 - 1"
   ]
  },
  {
   "cell_type": "markdown",
   "metadata": {},
   "source": [
    "Doing that filter would reduce our starting dataset by about 40%. Let's go with it and see what it looks like."
   ]
  },
  {
   "cell_type": "code",
   "execution_count": 44,
   "metadata": {},
   "outputs": [],
   "source": [
    "com_cts = pd.DataFrame(temp_df['comic_title'].value_counts())"
   ]
  },
  {
   "cell_type": "code",
   "execution_count": 45,
   "metadata": {},
   "outputs": [
    {
     "data": {
      "text/html": [
       "<div>\n",
       "<style scoped>\n",
       "    .dataframe tbody tr th:only-of-type {\n",
       "        vertical-align: middle;\n",
       "    }\n",
       "\n",
       "    .dataframe tbody tr th {\n",
       "        vertical-align: top;\n",
       "    }\n",
       "\n",
       "    .dataframe thead th {\n",
       "        text-align: right;\n",
       "    }\n",
       "</style>\n",
       "<table border=\"1\" class=\"dataframe\">\n",
       "  <thead>\n",
       "    <tr style=\"text-align: right;\">\n",
       "      <th></th>\n",
       "      <th>comic_title</th>\n",
       "    </tr>\n",
       "  </thead>\n",
       "  <tbody>\n",
       "    <tr>\n",
       "      <td>Batman (DC)</td>\n",
       "      <td>6580</td>\n",
       "    </tr>\n",
       "    <tr>\n",
       "      <td>Walking Dead (Image)</td>\n",
       "      <td>5051</td>\n",
       "    </tr>\n",
       "    <tr>\n",
       "      <td>Saga (Image)</td>\n",
       "      <td>4268</td>\n",
       "    </tr>\n",
       "    <tr>\n",
       "      <td>Amazing Spider-Man (Marvel)</td>\n",
       "      <td>3557</td>\n",
       "    </tr>\n",
       "    <tr>\n",
       "      <td>Uncanny X-Men (Marvel)</td>\n",
       "      <td>3161</td>\n",
       "    </tr>\n",
       "  </tbody>\n",
       "</table>\n",
       "</div>"
      ],
      "text/plain": [
       "                             comic_title\n",
       "Batman (DC)                         6580\n",
       "Walking Dead (Image)                5051\n",
       "Saga (Image)                        4268\n",
       "Amazing Spider-Man (Marvel)         3557\n",
       "Uncanny X-Men (Marvel)              3161"
      ]
     },
     "execution_count": 45,
     "metadata": {},
     "output_type": "execute_result"
    }
   ],
   "source": [
    "com_cts.head()"
   ]
  },
  {
   "cell_type": "code",
   "execution_count": 46,
   "metadata": {},
   "outputs": [
    {
     "data": {
      "text/plain": [
       "327839"
      ]
     },
     "execution_count": 46,
     "metadata": {},
     "output_type": "execute_result"
    }
   ],
   "source": [
    "com_cts['comic_title'].sum()"
   ]
  },
  {
   "cell_type": "markdown",
   "metadata": {},
   "source": [
    "#### # of `account_num` | `comic_title` pairings"
   ]
  },
  {
   "cell_type": "code",
   "execution_count": 47,
   "metadata": {},
   "outputs": [],
   "source": [
    "query = \"\"\"\n",
    "    SELECT\n",
    "        ac.account_num\n",
    "        ,comic_title\n",
    "    FROM \n",
    "        comic_trans ct \n",
    "        INNER JOIN acct_cts ac on ct.account_num = ac.account_num\n",
    "    WHERE\n",
    "        ac.num_title_bought between {} and {}\n",
    "    GROUP BY\n",
    "        ac.account_num\n",
    "        ,comic_title\n",
    "\"\"\".format(min_titles, max_titles)"
   ]
  },
  {
   "cell_type": "code",
   "execution_count": 48,
   "metadata": {},
   "outputs": [
    {
     "data": {
      "text/plain": [
       "'\\n    SELECT\\n        ac.account_num\\n        ,comic_title\\n    FROM \\n        comic_trans ct \\n        INNER JOIN acct_cts ac on ct.account_num = ac.account_num\\n    WHERE\\n        ac.num_title_bought between 5 and 300\\n    GROUP BY\\n        ac.account_num\\n        ,comic_title\\n'"
      ]
     },
     "execution_count": 48,
     "metadata": {},
     "output_type": "execute_result"
    }
   ],
   "source": [
    "query"
   ]
  },
  {
   "cell_type": "code",
   "execution_count": 49,
   "metadata": {},
   "outputs": [],
   "source": [
    "# Execute the query\n",
    "cur.execute(query)"
   ]
  },
  {
   "cell_type": "code",
   "execution_count": 50,
   "metadata": {},
   "outputs": [],
   "source": [
    "# Check results\n",
    "temp_df = pd.DataFrame(cur.fetchall())\n",
    "temp_df.columns = [col.name for col in cur.description]"
   ]
  },
  {
   "cell_type": "code",
   "execution_count": 51,
   "metadata": {},
   "outputs": [],
   "source": [
    "#conn.rollback()"
   ]
  },
  {
   "cell_type": "code",
   "execution_count": 52,
   "metadata": {
    "scrolled": true
   },
   "outputs": [
    {
     "data": {
      "text/html": [
       "<div>\n",
       "<style scoped>\n",
       "    .dataframe tbody tr th:only-of-type {\n",
       "        vertical-align: middle;\n",
       "    }\n",
       "\n",
       "    .dataframe tbody tr th {\n",
       "        vertical-align: top;\n",
       "    }\n",
       "\n",
       "    .dataframe thead th {\n",
       "        text-align: right;\n",
       "    }\n",
       "</style>\n",
       "<table border=\"1\" class=\"dataframe\">\n",
       "  <thead>\n",
       "    <tr style=\"text-align: right;\">\n",
       "      <th></th>\n",
       "      <th>account_num</th>\n",
       "      <th>comic_title</th>\n",
       "    </tr>\n",
       "  </thead>\n",
       "  <tbody>\n",
       "    <tr>\n",
       "      <td>0</td>\n",
       "      <td>00002</td>\n",
       "      <td>All New X-Men (Marvel)</td>\n",
       "    </tr>\n",
       "    <tr>\n",
       "      <td>1</td>\n",
       "      <td>00002</td>\n",
       "      <td>Amazing Spider-Man Annual (Marvel)</td>\n",
       "    </tr>\n",
       "    <tr>\n",
       "      <td>2</td>\n",
       "      <td>00002</td>\n",
       "      <td>Amazing Spider-Man (Marvel)</td>\n",
       "    </tr>\n",
       "    <tr>\n",
       "      <td>3</td>\n",
       "      <td>00002</td>\n",
       "      <td>A Plus X (Marvel)</td>\n",
       "    </tr>\n",
       "    <tr>\n",
       "      <td>4</td>\n",
       "      <td>00002</td>\n",
       "      <td>Astounding Wolf-Man (Image)</td>\n",
       "    </tr>\n",
       "  </tbody>\n",
       "</table>\n",
       "</div>"
      ],
      "text/plain": [
       "  account_num                         comic_title\n",
       "0       00002              All New X-Men (Marvel)\n",
       "1       00002  Amazing Spider-Man Annual (Marvel)\n",
       "2       00002         Amazing Spider-Man (Marvel)\n",
       "3       00002                   A Plus X (Marvel)\n",
       "4       00002         Astounding Wolf-Man (Image)"
      ]
     },
     "execution_count": 52,
     "metadata": {},
     "output_type": "execute_result"
    }
   ],
   "source": [
    "temp_df.head()"
   ]
  },
  {
   "cell_type": "code",
   "execution_count": 53,
   "metadata": {},
   "outputs": [
    {
     "data": {
      "text/plain": [
       "(61871, 2)"
      ]
     },
     "execution_count": 53,
     "metadata": {},
     "output_type": "execute_result"
    }
   ],
   "source": [
    "temp_df.shape"
   ]
  },
  {
   "cell_type": "code",
   "execution_count": 54,
   "metadata": {},
   "outputs": [
    {
     "data": {
      "text/plain": [
       "-0.3373737373737373"
      ]
     },
     "execution_count": 54,
     "metadata": {},
     "output_type": "execute_result"
    }
   ],
   "source": [
    "328 / 495 - 1"
   ]
  },
  {
   "cell_type": "markdown",
   "metadata": {},
   "source": [
    "# Create Smaller Dataset"
   ]
  },
  {
   "cell_type": "markdown",
   "metadata": {},
   "source": [
    "Latest instance of the target table is `temp_df`. So just run with that.\n",
    "\n",
    "Drop `index`"
   ]
  },
  {
   "cell_type": "code",
   "execution_count": 56,
   "metadata": {},
   "outputs": [],
   "source": [
    "#temp_df = temp_df.drop(['index'], axis=1)"
   ]
  },
  {
   "cell_type": "code",
   "execution_count": 57,
   "metadata": {},
   "outputs": [
    {
     "data": {
      "text/html": [
       "<div>\n",
       "<style scoped>\n",
       "    .dataframe tbody tr th:only-of-type {\n",
       "        vertical-align: middle;\n",
       "    }\n",
       "\n",
       "    .dataframe tbody tr th {\n",
       "        vertical-align: top;\n",
       "    }\n",
       "\n",
       "    .dataframe thead th {\n",
       "        text-align: right;\n",
       "    }\n",
       "</style>\n",
       "<table border=\"1\" class=\"dataframe\">\n",
       "  <thead>\n",
       "    <tr style=\"text-align: right;\">\n",
       "      <th></th>\n",
       "      <th>account_num</th>\n",
       "      <th>comic_title</th>\n",
       "    </tr>\n",
       "  </thead>\n",
       "  <tbody>\n",
       "    <tr>\n",
       "      <td>0</td>\n",
       "      <td>00002</td>\n",
       "      <td>All New X-Men (Marvel)</td>\n",
       "    </tr>\n",
       "    <tr>\n",
       "      <td>1</td>\n",
       "      <td>00002</td>\n",
       "      <td>Amazing Spider-Man Annual (Marvel)</td>\n",
       "    </tr>\n",
       "    <tr>\n",
       "      <td>2</td>\n",
       "      <td>00002</td>\n",
       "      <td>Amazing Spider-Man (Marvel)</td>\n",
       "    </tr>\n",
       "    <tr>\n",
       "      <td>3</td>\n",
       "      <td>00002</td>\n",
       "      <td>A Plus X (Marvel)</td>\n",
       "    </tr>\n",
       "    <tr>\n",
       "      <td>4</td>\n",
       "      <td>00002</td>\n",
       "      <td>Astounding Wolf-Man (Image)</td>\n",
       "    </tr>\n",
       "  </tbody>\n",
       "</table>\n",
       "</div>"
      ],
      "text/plain": [
       "  account_num                         comic_title\n",
       "0       00002              All New X-Men (Marvel)\n",
       "1       00002  Amazing Spider-Man Annual (Marvel)\n",
       "2       00002         Amazing Spider-Man (Marvel)\n",
       "3       00002                   A Plus X (Marvel)\n",
       "4       00002         Astounding Wolf-Man (Image)"
      ]
     },
     "execution_count": 57,
     "metadata": {},
     "output_type": "execute_result"
    }
   ],
   "source": [
    "temp_df.head()"
   ]
  },
  {
   "cell_type": "markdown",
   "metadata": {},
   "source": [
    "### Only uncomment below as needed."
   ]
  },
  {
   "cell_type": "code",
   "execution_count": 58,
   "metadata": {},
   "outputs": [],
   "source": [
    "#temp_df.to_json('raw_data/trans_filtered.json', orient='records', lines=True)"
   ]
  },
  {
   "cell_type": "code",
   "execution_count": 59,
   "metadata": {},
   "outputs": [
    {
     "name": "stdout",
     "output_type": "stream",
     "text": [
      "{\"publisher\":\"Amaze Ink Slave Labor Graphics\",\"item_id\":\"DCD416182\",\"title_and_num\":\"Royal Historian of Oz #1\",\"qty_sold\":1,\"date_sold\":1279136980000,\"account_num\":\"00399\",\"comic_title\":\"Royal Historian of Oz (SLG)\"}\n",
      "{\"publisher\":\"Amaze Ink Slave Labor Graphics\",\"item_id\":\"DCD416182\",\"title_and_num\":\"Royal Historian of Oz #1\",\"qty_sold\":1,\"date_sold\":1288543119000,\"account_num\":\"00327\",\"comic_title\":\"Royal Historian of Oz (SLG)\"}\n",
      "{\"publisher\":\"Amaze Ink Slave Labor Graphics\",\"item_id\":\"DCD423794\",\"title_and_num\":\"Royal Historian of Oz #2\",\"qty_sold\":1,\"date_sold\":1288543119000,\"account_num\":\"00327\",\"comic_title\":\"Royal Historian of Oz (SLG)\"}\n",
      "{\"publisher\":\"Amaze Ink Slave Labor Graphics\",\"item_id\":\"DCD390709\",\"title_and_num\":\"Warlord of Io & Other Stories\",\"qty_sold\":1,\"date_sold\":1412166247000,\"account_num\":\"01065\",\"comic_title\":\"Warlord of Io & Other Storie (SLG)\"}\n",
      "{\"publisher\":\"Archie Comics\",\"item_id\":\"DCD630105\",\"title_and_num\":\"Afterlife With Archie #1 2nd P\",\"qty_sold\":1,\"date_sold\":1390505789000,\"account_num\":\"01033\",\"comic_title\":\"Afterlife With Archie (Archie)\"}\n",
      "{\"publisher\":\"Archie Comics\",\"item_id\":\"DCD630105\",\"title_and_num\":\"Afterlife With Archie #1 2nd P\",\"qty_sold\":1,\"date_sold\":1398947834000,\"account_num\":\"01333\",\"comic_title\":\"Afterlife With Archie (Archie)\"}\n",
      "{\"publisher\":\"Archie Comics\",\"item_id\":\"DCD630105\",\"title_and_num\":\"Afterlife With Archie #1 2nd P\",\"qty_sold\":1,\"date_sold\":1399904156000,\"account_num\":\"00946\",\"comic_title\":\"Afterlife With Archie (Archie)\"}\n",
      "{\"publisher\":\"Archie Comics\",\"item_id\":\"DCD630105\",\"title_and_num\":\"Afterlife With Archie #1 2nd P\",\"qty_sold\":1,\"date_sold\":1407954335000,\"account_num\":\"01278\",\"comic_title\":\"Afterlife With Archie (Archie)\"}\n",
      "{\"publisher\":\"Archie Comics\",\"item_id\":\"DCD630105\",\"title_and_num\":\"Afterlife With Archie #1 2nd P\",\"qty_sold\":1,\"date_sold\":1383751270000,\"account_num\":\"01212\",\"comic_title\":\"Afterlife With Archie (Archie)\"}\n",
      "{\"publisher\":\"Archie Comics\",\"item_id\":\"DCD630105\",\"title_and_num\":\"Afterlife With Archie #1 2nd P\",\"qty_sold\":1,\"date_sold\":1384353531000,\"account_num\":\"00877\",\"comic_title\":\"Afterlife With Archie (Archie)\"}\n"
     ]
    }
   ],
   "source": [
    "!head raw_data/trans_filtered.json"
   ]
  },
  {
   "cell_type": "markdown",
   "metadata": {},
   "source": [
    "# Summary Metrics\n",
    "\n",
    "Let's take a breath and figure out the breatch of the data we have to work with.\n",
    "\n",
    "- Count of Transactions\n",
    "- Count of Unique Customers\n",
    "- Distribution of Purchases\n",
    "\n"
   ]
  },
  {
   "cell_type": "markdown",
   "metadata": {},
   "source": [
    "## Entire Dataset\n",
    "\n",
    "#### How many transactions?"
   ]
  },
  {
   "cell_type": "code",
   "execution_count": 60,
   "metadata": {},
   "outputs": [],
   "source": [
    "query = \"\"\"\n",
    "    SELECT count(*) \n",
    "    FROM \n",
    "        comic_trans ct \n",
    "    ;\n",
    "    \"\"\""
   ]
  },
  {
   "cell_type": "code",
   "execution_count": 61,
   "metadata": {},
   "outputs": [],
   "source": [
    "# Execute the query\n",
    "cur.execute(query)"
   ]
  },
  {
   "cell_type": "code",
   "execution_count": 62,
   "metadata": {},
   "outputs": [],
   "source": [
    "# Check results\n",
    "temp_df = pd.DataFrame(cur.fetchall())\n",
    "temp_df.columns = [col.name for col in cur.description]"
   ]
  },
  {
   "cell_type": "code",
   "execution_count": 63,
   "metadata": {},
   "outputs": [
    {
     "data": {
      "text/html": [
       "<div>\n",
       "<style scoped>\n",
       "    .dataframe tbody tr th:only-of-type {\n",
       "        vertical-align: middle;\n",
       "    }\n",
       "\n",
       "    .dataframe tbody tr th {\n",
       "        vertical-align: top;\n",
       "    }\n",
       "\n",
       "    .dataframe thead th {\n",
       "        text-align: right;\n",
       "    }\n",
       "</style>\n",
       "<table border=\"1\" class=\"dataframe\">\n",
       "  <thead>\n",
       "    <tr style=\"text-align: right;\">\n",
       "      <th></th>\n",
       "      <th>count</th>\n",
       "    </tr>\n",
       "  </thead>\n",
       "  <tbody>\n",
       "    <tr>\n",
       "      <td>0</td>\n",
       "      <td>494703</td>\n",
       "    </tr>\n",
       "  </tbody>\n",
       "</table>\n",
       "</div>"
      ],
      "text/plain": [
       "    count\n",
       "0  494703"
      ]
     },
     "execution_count": 63,
     "metadata": {},
     "output_type": "execute_result"
    }
   ],
   "source": [
    "temp_df"
   ]
  },
  {
   "cell_type": "markdown",
   "metadata": {},
   "source": [
    "#### How many Unique Customers?"
   ]
  },
  {
   "cell_type": "code",
   "execution_count": 64,
   "metadata": {},
   "outputs": [],
   "source": [
    "query = \"\"\"\n",
    "    SELECT \n",
    "        COUNT(DISTINCT account_num) AS NUM_ACCTS \n",
    "    FROM \n",
    "        comic_trans ct \n",
    "    ;\n",
    "    \"\"\""
   ]
  },
  {
   "cell_type": "code",
   "execution_count": 65,
   "metadata": {},
   "outputs": [],
   "source": [
    "# Execute the query\n",
    "cur.execute(query)"
   ]
  },
  {
   "cell_type": "code",
   "execution_count": 66,
   "metadata": {},
   "outputs": [],
   "source": [
    "# Check results\n",
    "temp_df = pd.DataFrame(cur.fetchall())\n",
    "temp_df.columns = [col.name for col in cur.description]"
   ]
  },
  {
   "cell_type": "code",
   "execution_count": 67,
   "metadata": {},
   "outputs": [
    {
     "data": {
      "text/html": [
       "<div>\n",
       "<style scoped>\n",
       "    .dataframe tbody tr th:only-of-type {\n",
       "        vertical-align: middle;\n",
       "    }\n",
       "\n",
       "    .dataframe tbody tr th {\n",
       "        vertical-align: top;\n",
       "    }\n",
       "\n",
       "    .dataframe thead th {\n",
       "        text-align: right;\n",
       "    }\n",
       "</style>\n",
       "<table border=\"1\" class=\"dataframe\">\n",
       "  <thead>\n",
       "    <tr style=\"text-align: right;\">\n",
       "      <th></th>\n",
       "      <th>num_accts</th>\n",
       "    </tr>\n",
       "  </thead>\n",
       "  <tbody>\n",
       "    <tr>\n",
       "      <td>0</td>\n",
       "      <td>1717</td>\n",
       "    </tr>\n",
       "  </tbody>\n",
       "</table>\n",
       "</div>"
      ],
      "text/plain": [
       "   num_accts\n",
       "0       1717"
      ]
     },
     "execution_count": 67,
     "metadata": {},
     "output_type": "execute_result"
    }
   ],
   "source": [
    "temp_df"
   ]
  },
  {
   "cell_type": "markdown",
   "metadata": {},
   "source": [
    "#### Distribution of Titles Bought"
   ]
  },
  {
   "cell_type": "code",
   "execution_count": 68,
   "metadata": {},
   "outputs": [],
   "source": [
    "#  Count records.\n",
    "query = \"\"\"\n",
    "    SELECT\n",
    "        account_num\n",
    "        ,COUNT(DISTINCT comic_title) num_title_bought \n",
    "    FROM \n",
    "        comic_trans \n",
    "    GROUP BY\n",
    "        account_num\n",
    "    ORDER BY \n",
    "        2 DESC\n",
    "    ;\n",
    "\"\"\""
   ]
  },
  {
   "cell_type": "code",
   "execution_count": 69,
   "metadata": {},
   "outputs": [],
   "source": [
    "# Execute the query\n",
    "cur.execute(query)"
   ]
  },
  {
   "cell_type": "code",
   "execution_count": 70,
   "metadata": {},
   "outputs": [],
   "source": [
    "# Check results\n",
    "temp_df = pd.DataFrame(cur.fetchall())\n",
    "temp_df.columns = [col.name for col in cur.description]"
   ]
  },
  {
   "cell_type": "code",
   "execution_count": 71,
   "metadata": {},
   "outputs": [
    {
     "data": {
      "text/plain": [
       "Text(0.5, 1.0, 'Distribution of # of Titles Bought')"
      ]
     },
     "execution_count": 71,
     "metadata": {},
     "output_type": "execute_result"
    },
    {
     "data": {
      "image/png": "[encoded data removed]",
      "text/plain": [
       "<Figure size 864x432 with 1 Axes>"
      ]
     },
     "metadata": {
      "needs_background": "light"
     },
     "output_type": "display_data"
    }
   ],
   "source": [
    "fig, ax = plt.subplots(figsize=(12, 6))\n",
    "\n",
    "sns.boxplot(data=temp_df, x='num_title_bought')\n",
    "ax.set_title(\"Distribution of # of Titles Bought\")"
   ]
  },
  {
   "cell_type": "code",
   "execution_count": 72,
   "metadata": {},
   "outputs": [
    {
     "data": {
      "text/plain": [
       "Text(0.5, 1.0, 'Distribution of # of Titles Bought')"
      ]
     },
     "execution_count": 72,
     "metadata": {},
     "output_type": "execute_result"
    },
    {
     "data": {
      "image/png": "[encoded data removed]",
      "text/plain": [
       "<Figure size 864x432 with 1 Axes>"
      ]
     },
     "metadata": {
      "needs_background": "light"
     },
     "output_type": "display_data"
    }
   ],
   "source": [
    "fig, ax = plt.subplots(figsize=(12, 6))\n",
    "\n",
    "sns.distplot(temp_df.num_title_bought)\n",
    "ax.set_title(\"Distribution of # of Titles Bought\")"
   ]
  },
  {
   "cell_type": "code",
   "execution_count": 73,
   "metadata": {},
   "outputs": [
    {
     "data": {
      "text/html": [
       "<div>\n",
       "<style scoped>\n",
       "    .dataframe tbody tr th:only-of-type {\n",
       "        vertical-align: middle;\n",
       "    }\n",
       "\n",
       "    .dataframe tbody tr th {\n",
       "        vertical-align: top;\n",
       "    }\n",
       "\n",
       "    .dataframe thead th {\n",
       "        text-align: right;\n",
       "    }\n",
       "</style>\n",
       "<table border=\"1\" class=\"dataframe\">\n",
       "  <thead>\n",
       "    <tr style=\"text-align: right;\">\n",
       "      <th></th>\n",
       "      <th>num_title_bought</th>\n",
       "    </tr>\n",
       "  </thead>\n",
       "  <tbody>\n",
       "    <tr>\n",
       "      <td>count</td>\n",
       "      <td>1717.000000</td>\n",
       "    </tr>\n",
       "    <tr>\n",
       "      <td>mean</td>\n",
       "      <td>53.638905</td>\n",
       "    </tr>\n",
       "    <tr>\n",
       "      <td>std</td>\n",
       "      <td>109.766430</td>\n",
       "    </tr>\n",
       "    <tr>\n",
       "      <td>min</td>\n",
       "      <td>1.000000</td>\n",
       "    </tr>\n",
       "    <tr>\n",
       "      <td>25%</td>\n",
       "      <td>3.000000</td>\n",
       "    </tr>\n",
       "    <tr>\n",
       "      <td>50%</td>\n",
       "      <td>12.000000</td>\n",
       "    </tr>\n",
       "    <tr>\n",
       "      <td>75%</td>\n",
       "      <td>51.000000</td>\n",
       "    </tr>\n",
       "    <tr>\n",
       "      <td>max</td>\n",
       "      <td>1504.000000</td>\n",
       "    </tr>\n",
       "  </tbody>\n",
       "</table>\n",
       "</div>"
      ],
      "text/plain": [
       "       num_title_bought\n",
       "count       1717.000000\n",
       "mean          53.638905\n",
       "std          109.766430\n",
       "min            1.000000\n",
       "25%            3.000000\n",
       "50%           12.000000\n",
       "75%           51.000000\n",
       "max         1504.000000"
      ]
     },
     "execution_count": 73,
     "metadata": {},
     "output_type": "execute_result"
    }
   ],
   "source": [
    "temp_df.describe()"
   ]
  },
  {
   "cell_type": "code",
   "execution_count": 74,
   "metadata": {},
   "outputs": [
    {
     "data": {
      "text/plain": [
       "account_num         1280.0\n",
       "num_title_bought      12.0\n",
       "dtype: float64"
      ]
     },
     "execution_count": 74,
     "metadata": {},
     "output_type": "execute_result"
    }
   ],
   "source": [
    "temp_df.median()"
   ]
  },
  {
   "cell_type": "markdown",
   "metadata": {},
   "source": [
    "## Reduced Dataset\n",
    "\n",
    "#### How many transactions?\n",
    "\n",
    "- set minimum at 5\n",
    "- set maximum at ~~250~~ 300\n",
    "- No date filter"
   ]
  },
  {
   "cell_type": "code",
   "execution_count": 75,
   "metadata": {},
   "outputs": [],
   "source": [
    "query = \"\"\"\n",
    "    SELECT ct.* \n",
    "    FROM \n",
    "        comic_trans ct \n",
    "        INNER JOIN acct_cts ac on ct.account_num = ac.account_num\n",
    "    WHERE\n",
    "        ac.num_title_bought between {} and {};\n",
    "\"\"\".format(min_titles, max_titles)"
   ]
  },
  {
   "cell_type": "code",
   "execution_count": 76,
   "metadata": {},
   "outputs": [],
   "source": [
    "# Execute the query\n",
    "cur.execute(query)"
   ]
  },
  {
   "cell_type": "code",
   "execution_count": 77,
   "metadata": {},
   "outputs": [],
   "source": [
    "# Check results\n",
    "temp_df = pd.DataFrame(cur.fetchall())\n",
    "temp_df.columns = [col.name for col in cur.description]"
   ]
  },
  {
   "cell_type": "code",
   "execution_count": 78,
   "metadata": {},
   "outputs": [
    {
     "data": {
      "text/plain": [
       "327839"
      ]
     },
     "execution_count": 78,
     "metadata": {},
     "output_type": "execute_result"
    }
   ],
   "source": [
    "temp_df.shape[0]"
   ]
  },
  {
   "cell_type": "code",
   "execution_count": 79,
   "metadata": {},
   "outputs": [
    {
     "name": "stdout",
     "output_type": "stream",
     "text": [
      "# of transactions reduced by -34%\n"
     ]
    }
   ],
   "source": [
    "print(\"# of transactions reduced by {:.0f}%\".format(\n",
    "    (temp_df.shape[0]/494703-1)*100))"
   ]
  },
  {
   "cell_type": "markdown",
   "metadata": {},
   "source": [
    "#### How many Unique Customers?"
   ]
  },
  {
   "cell_type": "code",
   "execution_count": 80,
   "metadata": {},
   "outputs": [
    {
     "data": {
      "text/plain": [
       "1071"
      ]
     },
     "execution_count": 80,
     "metadata": {},
     "output_type": "execute_result"
    }
   ],
   "source": [
    "temp_df['account_num'].nunique()"
   ]
  },
  {
   "cell_type": "code",
   "execution_count": 81,
   "metadata": {},
   "outputs": [
    {
     "name": "stdout",
     "output_type": "stream",
     "text": [
      "# of accounts reduced by -38%\n"
     ]
    }
   ],
   "source": [
    "print(\"# of accounts reduced by {:.0f}%\".format(\n",
    "    (temp_df['account_num'].nunique()/1717-1)*100))"
   ]
  },
  {
   "cell_type": "markdown",
   "metadata": {},
   "source": [
    "#### Distribution of Titles Bought"
   ]
  },
  {
   "cell_type": "code",
   "execution_count": 91,
   "metadata": {},
   "outputs": [],
   "source": [
    "#  Count records.\n",
    "query = \"\"\"\n",
    "    SELECT\n",
    "        ct.account_num\n",
    "        ,COUNT(DISTINCT comic_title) num_title_bought \n",
    "    FROM \n",
    "        comic_trans ct \n",
    "        INNER JOIN acct_cts ac on ct.account_num = ac.account_num\n",
    "    WHERE\n",
    "        ac.num_title_bought between {} and {}\n",
    "    GROUP BY\n",
    "        ct.account_num\n",
    "    ;\n",
    "    \"\"\".format(min_titles, max_titles)"
   ]
  },
  {
   "cell_type": "code",
   "execution_count": 92,
   "metadata": {},
   "outputs": [
    {
     "data": {
      "text/plain": [
       "'\\n    SELECT\\n        ct.account_num\\n        ,COUNT(DISTINCT comic_title) num_title_bought \\n    FROM \\n        comic_trans ct \\n        INNER JOIN acct_cts ac on ct.account_num = ac.account_num\\n    WHERE\\n        ac.num_title_bought between 5 and 300\\n    GROUP BY\\n        ct.account_num\\n    ;\\n    '"
      ]
     },
     "execution_count": 92,
     "metadata": {},
     "output_type": "execute_result"
    }
   ],
   "source": [
    "query"
   ]
  },
  {
   "cell_type": "code",
   "execution_count": 93,
   "metadata": {},
   "outputs": [],
   "source": [
    "# Execute the query\n",
    "cur.execute(query)"
   ]
  },
  {
   "cell_type": "code",
   "execution_count": 94,
   "metadata": {},
   "outputs": [],
   "source": [
    "# Check results\n",
    "temp_df = pd.DataFrame(cur.fetchall())\n",
    "temp_df.columns = [col.name for col in cur.description]"
   ]
  },
  {
   "cell_type": "code",
   "execution_count": 95,
   "metadata": {},
   "outputs": [
    {
     "data": {
      "text/plain": [
       "Text(0.5, 1.0, 'Distribution of # of Titles Bought')"
      ]
     },
     "execution_count": 95,
     "metadata": {},
     "output_type": "execute_result"
    },
    {
     "data": {
      "image/png": "[encoded data removed]",
      "text/plain": [
       "<Figure size 864x432 with 1 Axes>"
      ]
     },
     "metadata": {
      "needs_background": "light"
     },
     "output_type": "display_data"
    }
   ],
   "source": [
    "fig, ax = plt.subplots(figsize=(12, 6))\n",
    "\n",
    "sns.boxplot(data=temp_df, x='num_title_bought')\n",
    "ax.set_title(\"Distribution of # of Titles Bought\")"
   ]
  },
  {
   "cell_type": "code",
   "execution_count": 96,
   "metadata": {},
   "outputs": [
    {
     "data": {
      "image/png": "[encoded data removed]",
      "text/plain": [
       "<Figure size 864x360 with 1 Axes>"
      ]
     },
     "metadata": {
      "needs_background": "light"
     },
     "output_type": "display_data"
    }
   ],
   "source": [
    "fig, ax = plt.subplots(figsize=(12, 5))\n",
    "\n",
    "sns.distplot(temp_df.num_title_bought)\n",
    "ax.set_title(\"Distribution of # of Titles Bought\")\n",
    "plt.show()"
   ]
  },
  {
   "cell_type": "code",
   "execution_count": 97,
   "metadata": {},
   "outputs": [
    {
     "data": {
      "text/html": [
       "<div>\n",
       "<style scoped>\n",
       "    .dataframe tbody tr th:only-of-type {\n",
       "        vertical-align: middle;\n",
       "    }\n",
       "\n",
       "    .dataframe tbody tr th {\n",
       "        vertical-align: top;\n",
       "    }\n",
       "\n",
       "    .dataframe thead th {\n",
       "        text-align: right;\n",
       "    }\n",
       "</style>\n",
       "<table border=\"1\" class=\"dataframe\">\n",
       "  <thead>\n",
       "    <tr style=\"text-align: right;\">\n",
       "      <th></th>\n",
       "      <th>num_title_bought</th>\n",
       "    </tr>\n",
       "  </thead>\n",
       "  <tbody>\n",
       "    <tr>\n",
       "      <td>count</td>\n",
       "      <td>1071.000000</td>\n",
       "    </tr>\n",
       "    <tr>\n",
       "      <td>mean</td>\n",
       "      <td>57.769374</td>\n",
       "    </tr>\n",
       "    <tr>\n",
       "      <td>std</td>\n",
       "      <td>64.430677</td>\n",
       "    </tr>\n",
       "    <tr>\n",
       "      <td>min</td>\n",
       "      <td>5.000000</td>\n",
       "    </tr>\n",
       "    <tr>\n",
       "      <td>25%</td>\n",
       "      <td>12.000000</td>\n",
       "    </tr>\n",
       "    <tr>\n",
       "      <td>50%</td>\n",
       "      <td>33.000000</td>\n",
       "    </tr>\n",
       "    <tr>\n",
       "      <td>75%</td>\n",
       "      <td>80.000000</td>\n",
       "    </tr>\n",
       "    <tr>\n",
       "      <td>max</td>\n",
       "      <td>296.000000</td>\n",
       "    </tr>\n",
       "  </tbody>\n",
       "</table>\n",
       "</div>"
      ],
      "text/plain": [
       "       num_title_bought\n",
       "count       1071.000000\n",
       "mean          57.769374\n",
       "std           64.430677\n",
       "min            5.000000\n",
       "25%           12.000000\n",
       "50%           33.000000\n",
       "75%           80.000000\n",
       "max          296.000000"
      ]
     },
     "execution_count": 97,
     "metadata": {},
     "output_type": "execute_result"
    }
   ],
   "source": [
    "temp_df.describe()"
   ]
  },
  {
   "cell_type": "code",
   "execution_count": 98,
   "metadata": {},
   "outputs": [
    {
     "data": {
      "text/plain": [
       "61871"
      ]
     },
     "execution_count": 98,
     "metadata": {},
     "output_type": "execute_result"
    }
   ],
   "source": [
    "temp_df.num_title_bought.sum()"
   ]
  },
  {
   "cell_type": "markdown",
   "metadata": {},
   "source": [
    "#### Am I (161) in the small set?"
   ]
  },
  {
   "cell_type": "code",
   "execution_count": 99,
   "metadata": {},
   "outputs": [
    {
     "data": {
      "text/html": [
       "<div>\n",
       "<style scoped>\n",
       "    .dataframe tbody tr th:only-of-type {\n",
       "        vertical-align: middle;\n",
       "    }\n",
       "\n",
       "    .dataframe tbody tr th {\n",
       "        vertical-align: top;\n",
       "    }\n",
       "\n",
       "    .dataframe thead th {\n",
       "        text-align: right;\n",
       "    }\n",
       "</style>\n",
       "<table border=\"1\" class=\"dataframe\">\n",
       "  <thead>\n",
       "    <tr style=\"text-align: right;\">\n",
       "      <th></th>\n",
       "      <th>account_num</th>\n",
       "      <th>num_title_bought</th>\n",
       "    </tr>\n",
       "  </thead>\n",
       "  <tbody>\n",
       "    <tr>\n",
       "      <td>129</td>\n",
       "      <td>00161</td>\n",
       "      <td>295</td>\n",
       "    </tr>\n",
       "  </tbody>\n",
       "</table>\n",
       "</div>"
      ],
      "text/plain": [
       "    account_num  num_title_bought\n",
       "129       00161               295"
      ]
     },
     "execution_count": 99,
     "metadata": {},
     "output_type": "execute_result"
    }
   ],
   "source": [
    "temp_df.loc[temp_df['account_num'] == '00161']"
   ]
  },
  {
   "cell_type": "markdown",
   "metadata": {},
   "source": [
    "~~Nope. Oh boy.~~"
   ]
  },
  {
   "cell_type": "code",
   "execution_count": 100,
   "metadata": {},
   "outputs": [],
   "source": [
    "#  Count records.\n",
    "query = \"\"\"\n",
    "    SELECT\n",
    "        ct.account_num\n",
    "        ,COUNT(DISTINCT comic_title) num_title_bought \n",
    "    FROM \n",
    "        comic_trans ct \n",
    "        INNER JOIN acct_cts ac on ct.account_num = ac.account_num\n",
    "    WHERE\n",
    "        ct.account_num = '00161'\n",
    "    GROUP BY\n",
    "        ct.account_num\n",
    "    ;\n",
    "    \"\"\""
   ]
  },
  {
   "cell_type": "code",
   "execution_count": 101,
   "metadata": {},
   "outputs": [],
   "source": [
    "# Execute the query\n",
    "cur.execute(query)"
   ]
  },
  {
   "cell_type": "code",
   "execution_count": 102,
   "metadata": {},
   "outputs": [],
   "source": [
    "# Check results\n",
    "temp_df = pd.DataFrame(cur.fetchall())\n",
    "temp_df.columns = [col.name for col in cur.description]"
   ]
  },
  {
   "cell_type": "code",
   "execution_count": 103,
   "metadata": {
    "scrolled": true
   },
   "outputs": [
    {
     "data": {
      "text/html": [
       "<div>\n",
       "<style scoped>\n",
       "    .dataframe tbody tr th:only-of-type {\n",
       "        vertical-align: middle;\n",
       "    }\n",
       "\n",
       "    .dataframe tbody tr th {\n",
       "        vertical-align: top;\n",
       "    }\n",
       "\n",
       "    .dataframe thead th {\n",
       "        text-align: right;\n",
       "    }\n",
       "</style>\n",
       "<table border=\"1\" class=\"dataframe\">\n",
       "  <thead>\n",
       "    <tr style=\"text-align: right;\">\n",
       "      <th></th>\n",
       "      <th>account_num</th>\n",
       "      <th>num_title_bought</th>\n",
       "    </tr>\n",
       "  </thead>\n",
       "  <tbody>\n",
       "    <tr>\n",
       "      <td>0</td>\n",
       "      <td>00161</td>\n",
       "      <td>295</td>\n",
       "    </tr>\n",
       "  </tbody>\n",
       "</table>\n",
       "</div>"
      ],
      "text/plain": [
       "  account_num  num_title_bought\n",
       "0       00161               295"
      ]
     },
     "execution_count": 103,
     "metadata": {},
     "output_type": "execute_result"
    }
   ],
   "source": [
    "temp_df"
   ]
  },
  {
   "cell_type": "markdown",
   "metadata": {},
   "source": [
    "Ok, so maybe put the max threshold up to 300 so can at least have myself in there for sniff test purposes."
   ]
  }
 ],
 "metadata": {
  "kernelspec": {
   "display_name": "Python 3",
   "language": "python",
   "name": "python3"
  },
  "language_info": {
   "codemirror_mode": {
    "name": "ipython",
    "version": 3
   },
   "file_extension": ".py",
   "mimetype": "text/x-python",
   "name": "python",
   "nbconvert_exporter": "python",
   "pygments_lexer": "ipython3",
   "version": "3.6.9"
  }
 },
 "nbformat": 4,
 "nbformat_minor": 4
}
