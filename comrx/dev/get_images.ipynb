{
 "cells": [
  {
   "cell_type": "markdown",
   "metadata": {},
   "source": [
    "#### Goal\n",
    "Get images linked back to their titles"
   ]
  },
  {
   "cell_type": "code",
   "execution_count": 18,
   "metadata": {},
   "outputs": [],
   "source": [
    "import sys\n",
    "import os\n",
    "import pandas as pd\n",
    "\n",
    "# Data storage\n",
    "from sqlalchemy import create_engine # SQL helper\n",
    "import psycopg2 as psql #PostgreSQL DBs\n",
    "\n",
    "sys.path.append(\"..\")"
   ]
  },
  {
   "cell_type": "code",
   "execution_count": 89,
   "metadata": {},
   "outputs": [],
   "source": [
    "import keys\n",
    "import data_fcns as dfc"
   ]
  },
  {
   "cell_type": "markdown",
   "metadata": {},
   "source": [
    "Images directory:\n",
    "\n",
    "I set up an s3 bucket: https://comrx.s3-us-west-2.amazonaws.com/covers/"
   ]
  },
  {
   "cell_type": "code",
   "execution_count": 10,
   "metadata": {},
   "outputs": [
    {
     "data": {
      "text/plain": [
       "'/Users/werlindo/.secret/aws_ps_flatiron.json'"
      ]
     },
     "execution_count": 10,
     "metadata": {},
     "output_type": "execute_result"
    }
   ],
   "source": [
    "# Define path to secret\n",
    "secret_path_aws = os.path.join(os.environ['HOME'], '.secret', \n",
    "                           'aws_ps_flatiron.json')\n",
    "secret_path_aws"
   ]
  },
  {
   "cell_type": "code",
   "execution_count": 19,
   "metadata": {},
   "outputs": [],
   "source": [
    "# Define path to secret\n",
    "secret_path_aws = os.path.join(os.environ['HOME'], '.secret', \n",
    "                           'aws_ps_flatiron.json')\n",
    "secret_path_aws\n",
    "\n",
    "aws_keys = keys.get_keys(secret_path_aws)\n",
    "user = aws_keys['user']\n",
    "ps = aws_keys['password']\n",
    "host = aws_keys['host']\n",
    "db = aws_keys['db_name']\n",
    "\n",
    "aws_ps_engine = ('postgresql://' + user + ':' + ps + '@' + host + '/' + db)\n",
    "\n",
    "# Setup PSQL connection\n",
    "conn = psql.connect(\n",
    "    database=db,\n",
    "    user=user,\n",
    "    password=ps,\n",
    "    host=host,\n",
    "    port='5432'\n",
    ")"
   ]
  },
  {
   "cell_type": "code",
   "execution_count": 20,
   "metadata": {},
   "outputs": [],
   "source": [
    "# Instantiate cursor\n",
    "cur = conn.cursor()"
   ]
  },
  {
   "cell_type": "code",
   "execution_count": 53,
   "metadata": {},
   "outputs": [],
   "source": [
    "#  Count records.\n",
    "query = \"\"\"\n",
    "    SELECT * from comics LIMIT 100;\n",
    "\"\"\""
   ]
  },
  {
   "cell_type": "code",
   "execution_count": 50,
   "metadata": {},
   "outputs": [],
   "source": [
    "#  Count records.\n",
    "query_alter = \"\"\"\n",
    "    ALTER TABLE comics \n",
    "    ADD COLUMN img_url VARCHAR;\n",
    "\"\"\""
   ]
  },
  {
   "cell_type": "code",
   "execution_count": 30,
   "metadata": {},
   "outputs": [],
   "source": [
    "tables = \"\"\"\n",
    "SELECT table_name\n",
    "  FROM information_schema.tables\n",
    " WHERE table_schema='public'\n",
    "   AND table_type='BASE TABLE';\n",
    "   \"\"\""
   ]
  },
  {
   "cell_type": "markdown",
   "metadata": {},
   "source": [
    "ALTER TABLE table_name\n",
    "ADD COLUMN new_column_name data_type;"
   ]
  },
  {
   "cell_type": "code",
   "execution_count": 51,
   "metadata": {},
   "outputs": [],
   "source": [
    "# Execute the query\n",
    "cur.execute(query_alter)"
   ]
  },
  {
   "cell_type": "code",
   "execution_count": 54,
   "metadata": {},
   "outputs": [],
   "source": [
    "# Execute the query\n",
    "cur.execute(query)"
   ]
  },
  {
   "cell_type": "code",
   "execution_count": 55,
   "metadata": {},
   "outputs": [],
   "source": [
    "conn.commit()"
   ]
  },
  {
   "cell_type": "code",
   "execution_count": 56,
   "metadata": {},
   "outputs": [],
   "source": [
    "# Check results\n",
    "temp_df = pd.DataFrame(cur.fetchall())\n",
    "temp_df.columns = [col.name for col in cur.description]"
   ]
  },
  {
   "cell_type": "code",
   "execution_count": 69,
   "metadata": {},
   "outputs": [
    {
     "data": {
      "text/html": [
       "<div>\n",
       "<style scoped>\n",
       "    .dataframe tbody tr th:only-of-type {\n",
       "        vertical-align: middle;\n",
       "    }\n",
       "\n",
       "    .dataframe tbody tr th {\n",
       "        vertical-align: top;\n",
       "    }\n",
       "\n",
       "    .dataframe thead th {\n",
       "        text-align: right;\n",
       "    }\n",
       "</style>\n",
       "<table border=\"1\" class=\"dataframe\">\n",
       "  <thead>\n",
       "    <tr style=\"text-align: right;\">\n",
       "      <th></th>\n",
       "      <th>comic_id</th>\n",
       "      <th>comic_title</th>\n",
       "      <th>img_url</th>\n",
       "    </tr>\n",
       "  </thead>\n",
       "  <tbody>\n",
       "    <tr>\n",
       "      <th>0</th>\n",
       "      <td>1</td>\n",
       "      <td>0Secret Wars (Marvel)</td>\n",
       "      <td>None</td>\n",
       "    </tr>\n",
       "    <tr>\n",
       "      <th>1</th>\n",
       "      <td>2</td>\n",
       "      <td>100 Bullets Brother Lono (DC)</td>\n",
       "      <td>None</td>\n",
       "    </tr>\n",
       "    <tr>\n",
       "      <th>2</th>\n",
       "      <td>3</td>\n",
       "      <td>100 Penny Press Locke &amp; Key (IDW)</td>\n",
       "      <td>None</td>\n",
       "    </tr>\n",
       "    <tr>\n",
       "      <th>3</th>\n",
       "      <td>4</td>\n",
       "      <td>100 Penny Press Star Trek (IDW)</td>\n",
       "      <td>None</td>\n",
       "    </tr>\n",
       "    <tr>\n",
       "      <th>4</th>\n",
       "      <td>5</td>\n",
       "      <td>100 Penny Press Thunder Agent (IDW)</td>\n",
       "      <td>None</td>\n",
       "    </tr>\n",
       "  </tbody>\n",
       "</table>\n",
       "</div>"
      ],
      "text/plain": [
       "   comic_id                          comic_title img_url\n",
       "0         1                0Secret Wars (Marvel)    None\n",
       "1         2        100 Bullets Brother Lono (DC)    None\n",
       "2         3    100 Penny Press Locke & Key (IDW)    None\n",
       "3         4      100 Penny Press Star Trek (IDW)    None\n",
       "4         5  100 Penny Press Thunder Agent (IDW)    None"
      ]
     },
     "execution_count": 69,
     "metadata": {},
     "output_type": "execute_result"
    }
   ],
   "source": [
    "temp_df.head()"
   ]
  },
  {
   "cell_type": "markdown",
   "metadata": {},
   "source": [
    "Cool. Let's practice updating."
   ]
  },
  {
   "cell_type": "code",
   "execution_count": 74,
   "metadata": {},
   "outputs": [],
   "source": [
    "query_update = \"\"\"\n",
    "UPDATE comics SET img_url= 'https://comrx.s3-us-west-2.amazonaws.com/covers/wonder_woman.jpg'\n",
    "WHERE comic_title = 'Wonder Woman (DC)';\n",
    "\"\"\""
   ]
  },
  {
   "cell_type": "code",
   "execution_count": 80,
   "metadata": {},
   "outputs": [],
   "source": [
    "#  Count records.\n",
    "query = \"\"\"\n",
    "    SELECT * from comics WHERE comic_title = 'Wonder Woman (DC)';\n",
    "\"\"\""
   ]
  },
  {
   "cell_type": "code",
   "execution_count": 81,
   "metadata": {},
   "outputs": [],
   "source": [
    "# Execute the query\n",
    "cur.execute(query)"
   ]
  },
  {
   "cell_type": "code",
   "execution_count": 77,
   "metadata": {},
   "outputs": [],
   "source": [
    "# Execute the query\n",
    "cur.execute(query_update)"
   ]
  },
  {
   "cell_type": "code",
   "execution_count": 76,
   "metadata": {},
   "outputs": [],
   "source": [
    "conn.rollback()"
   ]
  },
  {
   "cell_type": "code",
   "execution_count": 78,
   "metadata": {},
   "outputs": [],
   "source": [
    "conn.commit()"
   ]
  },
  {
   "cell_type": "code",
   "execution_count": 82,
   "metadata": {},
   "outputs": [],
   "source": [
    "# Check results\n",
    "temp_df = pd.DataFrame(cur.fetchall())\n",
    "temp_df.columns = [col.name for col in cur.description]"
   ]
  },
  {
   "cell_type": "code",
   "execution_count": 83,
   "metadata": {},
   "outputs": [
    {
     "data": {
      "text/html": [
       "<div>\n",
       "<style scoped>\n",
       "    .dataframe tbody tr th:only-of-type {\n",
       "        vertical-align: middle;\n",
       "    }\n",
       "\n",
       "    .dataframe tbody tr th {\n",
       "        vertical-align: top;\n",
       "    }\n",
       "\n",
       "    .dataframe thead th {\n",
       "        text-align: right;\n",
       "    }\n",
       "</style>\n",
       "<table border=\"1\" class=\"dataframe\">\n",
       "  <thead>\n",
       "    <tr style=\"text-align: right;\">\n",
       "      <th></th>\n",
       "      <th>comic_id</th>\n",
       "      <th>comic_title</th>\n",
       "      <th>img_url</th>\n",
       "    </tr>\n",
       "  </thead>\n",
       "  <tbody>\n",
       "    <tr>\n",
       "      <th>0</th>\n",
       "      <td>7021</td>\n",
       "      <td>Wonder Woman (DC)</td>\n",
       "      <td>https://comrx.s3-us-west-2.amazonaws.com/cover...</td>\n",
       "    </tr>\n",
       "  </tbody>\n",
       "</table>\n",
       "</div>"
      ],
      "text/plain": [
       "   comic_id        comic_title  \\\n",
       "0      7021  Wonder Woman (DC)   \n",
       "\n",
       "                                             img_url  \n",
       "0  https://comrx.s3-us-west-2.amazonaws.com/cover...  "
      ]
     },
     "execution_count": 83,
     "metadata": {},
     "output_type": "execute_result"
    }
   ],
   "source": [
    "temp_df.head()"
   ]
  },
  {
   "cell_type": "markdown",
   "metadata": {},
   "source": [
    "Yay."
   ]
  },
  {
   "cell_type": "code",
   "execution_count": 58,
   "metadata": {
    "collapsed": true
   },
   "outputs": [
    {
     "name": "stdout",
     "output_type": "stream",
     "text": [
      "__init__.py\r\n",
      "\u001b[34marchive\u001b[m\u001b[m\r\n",
      "\u001b[34massets\u001b[m\u001b[m\r\n",
      "comic_recs_part.py\r\n",
      "comics_rx-1_data_prep.ipynb\r\n",
      "comics_rx-2_eda.ipynb\r\n",
      "comics_rx-3_als_all_data.ipynb\r\n",
      "comics_rx-4_als_reduced_data.ipynb\r\n",
      "comics_rx-5_pseudo_deploy.ipynb\r\n",
      "comics_rx-6_als_reduced_data_gs_cv.ipynb\r\n",
      "comics_rx-7_mvp_dev.ipynb\r\n",
      "comics_rx-8_recommender_poc.ipynb\r\n",
      "comics_rx-9_scrape_comic_covers.ipynb\r\n",
      "comics_rx-9_scrape_comic_covers_win.ipynb\r\n",
      "\u001b[34mdrivers\u001b[m\u001b[m\r\n",
      "get_images.ipynb\r\n",
      "\u001b[34mmodels\u001b[m\u001b[m\r\n",
      "\u001b[34mraw_data\u001b[m\u001b[m\r\n",
      "\u001b[34mreferences\u001b[m\u001b[m\r\n",
      "\u001b[34mscratch\u001b[m\u001b[m\r\n",
      "\u001b[34msupport_data\u001b[m\u001b[m\r\n",
      "\u001b[34mversions\u001b[m\u001b[m\r\n"
     ]
    }
   ],
   "source": [
    "!ls"
   ]
  },
  {
   "cell_type": "markdown",
   "metadata": {},
   "source": [
    "We need a crosswalk from `comic_title` to `img_url`. For that we need to rebuild the `title` I've been using to search on images, because that's what I've been using to label the jpegs."
   ]
  },
  {
   "cell_type": "code",
   "execution_count": 84,
   "metadata": {},
   "outputs": [],
   "source": [
    "#  Count records.\n",
    "query = \"\"\"\n",
    "    SELECT * from comic_trans;\n",
    "\"\"\""
   ]
  },
  {
   "cell_type": "code",
   "execution_count": 108,
   "metadata": {},
   "outputs": [],
   "source": [
    "# Execute the query\n",
    "cur.execute(query)"
   ]
  },
  {
   "cell_type": "code",
   "execution_count": 109,
   "metadata": {},
   "outputs": [],
   "source": [
    "# Check results\n",
    "temp_df = pd.DataFrame(cur.fetchall())\n",
    "temp_df.columns = [col.name for col in cur.description]"
   ]
  },
  {
   "cell_type": "code",
   "execution_count": 110,
   "metadata": {},
   "outputs": [
    {
     "data": {
      "text/html": [
       "<div>\n",
       "<style scoped>\n",
       "    .dataframe tbody tr th:only-of-type {\n",
       "        vertical-align: middle;\n",
       "    }\n",
       "\n",
       "    .dataframe tbody tr th {\n",
       "        vertical-align: top;\n",
       "    }\n",
       "\n",
       "    .dataframe thead th {\n",
       "        text-align: right;\n",
       "    }\n",
       "</style>\n",
       "<table border=\"1\" class=\"dataframe\">\n",
       "  <thead>\n",
       "    <tr style=\"text-align: right;\">\n",
       "      <th></th>\n",
       "      <th>index</th>\n",
       "      <th>publisher</th>\n",
       "      <th>item_id</th>\n",
       "      <th>title_and_num</th>\n",
       "      <th>qty_sold</th>\n",
       "      <th>date_sold</th>\n",
       "      <th>account_num</th>\n",
       "      <th>comic_title</th>\n",
       "    </tr>\n",
       "  </thead>\n",
       "  <tbody>\n",
       "    <tr>\n",
       "      <th>0</th>\n",
       "      <td>2</td>\n",
       "      <td>Amaze Ink Slave Labor Graphics</td>\n",
       "      <td>DCD151935</td>\n",
       "      <td>Filler Bunny #2</td>\n",
       "      <td>1</td>\n",
       "      <td>2011-08-14 18:01:03</td>\n",
       "      <td>00174</td>\n",
       "      <td>Filler Bunny (SLG)</td>\n",
       "    </tr>\n",
       "    <tr>\n",
       "      <th>1</th>\n",
       "      <td>3</td>\n",
       "      <td>Amaze Ink Slave Labor Graphics</td>\n",
       "      <td>DCD341726</td>\n",
       "      <td>Gargoyles #6</td>\n",
       "      <td>1</td>\n",
       "      <td>2012-06-22 14:11:37</td>\n",
       "      <td>00593</td>\n",
       "      <td>Gargoyles (SLG)</td>\n",
       "    </tr>\n",
       "    <tr>\n",
       "      <th>2</th>\n",
       "      <td>4</td>\n",
       "      <td>Amaze Ink Slave Labor Graphics</td>\n",
       "      <td>DCD416182</td>\n",
       "      <td>Royal Historian of Oz #1</td>\n",
       "      <td>1</td>\n",
       "      <td>2010-07-21 14:03:07</td>\n",
       "      <td>00226</td>\n",
       "      <td>Royal Historian of Oz (SLG)</td>\n",
       "    </tr>\n",
       "  </tbody>\n",
       "</table>\n",
       "</div>"
      ],
      "text/plain": [
       "   index                       publisher    item_id             title_and_num  \\\n",
       "0      2  Amaze Ink Slave Labor Graphics  DCD151935           Filler Bunny #2   \n",
       "1      3  Amaze Ink Slave Labor Graphics  DCD341726              Gargoyles #6   \n",
       "2      4  Amaze Ink Slave Labor Graphics  DCD416182  Royal Historian of Oz #1   \n",
       "\n",
       "   qty_sold           date_sold account_num                  comic_title  \n",
       "0         1 2011-08-14 18:01:03       00174           Filler Bunny (SLG)  \n",
       "1         1 2012-06-22 14:11:37       00593              Gargoyles (SLG)  \n",
       "2         1 2010-07-21 14:03:07       00226  Royal Historian of Oz (SLG)  "
      ]
     },
     "execution_count": 110,
     "metadata": {},
     "output_type": "execute_result"
    }
   ],
   "source": [
    "temp_df.head(3)"
   ]
  },
  {
   "cell_type": "code",
   "execution_count": 111,
   "metadata": {},
   "outputs": [],
   "source": [
    "temp_df['title'] = ( temp_df['title_and_num'].apply(dfc.cut_issue_num) )"
   ]
  },
  {
   "cell_type": "code",
   "execution_count": 112,
   "metadata": {},
   "outputs": [
    {
     "data": {
      "text/html": [
       "<div>\n",
       "<style scoped>\n",
       "    .dataframe tbody tr th:only-of-type {\n",
       "        vertical-align: middle;\n",
       "    }\n",
       "\n",
       "    .dataframe tbody tr th {\n",
       "        vertical-align: top;\n",
       "    }\n",
       "\n",
       "    .dataframe thead th {\n",
       "        text-align: right;\n",
       "    }\n",
       "</style>\n",
       "<table border=\"1\" class=\"dataframe\">\n",
       "  <thead>\n",
       "    <tr style=\"text-align: right;\">\n",
       "      <th></th>\n",
       "      <th>index</th>\n",
       "      <th>publisher</th>\n",
       "      <th>item_id</th>\n",
       "      <th>title_and_num</th>\n",
       "      <th>qty_sold</th>\n",
       "      <th>date_sold</th>\n",
       "      <th>account_num</th>\n",
       "      <th>comic_title</th>\n",
       "      <th>title</th>\n",
       "    </tr>\n",
       "  </thead>\n",
       "  <tbody>\n",
       "    <tr>\n",
       "      <th>0</th>\n",
       "      <td>2</td>\n",
       "      <td>Amaze Ink Slave Labor Graphics</td>\n",
       "      <td>DCD151935</td>\n",
       "      <td>Filler Bunny #2</td>\n",
       "      <td>1</td>\n",
       "      <td>2011-08-14 18:01:03</td>\n",
       "      <td>00174</td>\n",
       "      <td>Filler Bunny (SLG)</td>\n",
       "      <td>Filler Bunny</td>\n",
       "    </tr>\n",
       "    <tr>\n",
       "      <th>1</th>\n",
       "      <td>3</td>\n",
       "      <td>Amaze Ink Slave Labor Graphics</td>\n",
       "      <td>DCD341726</td>\n",
       "      <td>Gargoyles #6</td>\n",
       "      <td>1</td>\n",
       "      <td>2012-06-22 14:11:37</td>\n",
       "      <td>00593</td>\n",
       "      <td>Gargoyles (SLG)</td>\n",
       "      <td>Gargoyles</td>\n",
       "    </tr>\n",
       "    <tr>\n",
       "      <th>2</th>\n",
       "      <td>4</td>\n",
       "      <td>Amaze Ink Slave Labor Graphics</td>\n",
       "      <td>DCD416182</td>\n",
       "      <td>Royal Historian of Oz #1</td>\n",
       "      <td>1</td>\n",
       "      <td>2010-07-21 14:03:07</td>\n",
       "      <td>00226</td>\n",
       "      <td>Royal Historian of Oz (SLG)</td>\n",
       "      <td>Royal Historian of Oz</td>\n",
       "    </tr>\n",
       "    <tr>\n",
       "      <th>3</th>\n",
       "      <td>5</td>\n",
       "      <td>Amaze Ink Slave Labor Graphics</td>\n",
       "      <td>DCD416182</td>\n",
       "      <td>Royal Historian of Oz #1</td>\n",
       "      <td>1</td>\n",
       "      <td>2010-07-14 19:49:40</td>\n",
       "      <td>00399</td>\n",
       "      <td>Royal Historian of Oz (SLG)</td>\n",
       "      <td>Royal Historian of Oz</td>\n",
       "    </tr>\n",
       "    <tr>\n",
       "      <th>4</th>\n",
       "      <td>6</td>\n",
       "      <td>Amaze Ink Slave Labor Graphics</td>\n",
       "      <td>DCD416182</td>\n",
       "      <td>Royal Historian of Oz #1</td>\n",
       "      <td>1</td>\n",
       "      <td>2010-07-19 10:39:04</td>\n",
       "      <td>00237</td>\n",
       "      <td>Royal Historian of Oz (SLG)</td>\n",
       "      <td>Royal Historian of Oz</td>\n",
       "    </tr>\n",
       "  </tbody>\n",
       "</table>\n",
       "</div>"
      ],
      "text/plain": [
       "   index                       publisher    item_id             title_and_num  \\\n",
       "0      2  Amaze Ink Slave Labor Graphics  DCD151935           Filler Bunny #2   \n",
       "1      3  Amaze Ink Slave Labor Graphics  DCD341726              Gargoyles #6   \n",
       "2      4  Amaze Ink Slave Labor Graphics  DCD416182  Royal Historian of Oz #1   \n",
       "3      5  Amaze Ink Slave Labor Graphics  DCD416182  Royal Historian of Oz #1   \n",
       "4      6  Amaze Ink Slave Labor Graphics  DCD416182  Royal Historian of Oz #1   \n",
       "\n",
       "   qty_sold           date_sold account_num                  comic_title  \\\n",
       "0         1 2011-08-14 18:01:03       00174           Filler Bunny (SLG)   \n",
       "1         1 2012-06-22 14:11:37       00593              Gargoyles (SLG)   \n",
       "2         1 2010-07-21 14:03:07       00226  Royal Historian of Oz (SLG)   \n",
       "3         1 2010-07-14 19:49:40       00399  Royal Historian of Oz (SLG)   \n",
       "4         1 2010-07-19 10:39:04       00237  Royal Historian of Oz (SLG)   \n",
       "\n",
       "                   title  \n",
       "0           Filler Bunny  \n",
       "1              Gargoyles  \n",
       "2  Royal Historian of Oz  \n",
       "3  Royal Historian of Oz  \n",
       "4  Royal Historian of Oz  "
      ]
     },
     "execution_count": 112,
     "metadata": {},
     "output_type": "execute_result"
    }
   ],
   "source": [
    "temp_df.head()"
   ]
  },
  {
   "cell_type": "code",
   "execution_count": 113,
   "metadata": {},
   "outputs": [],
   "source": [
    "temp_df['title'] = (temp_df['title'].apply(lambda x : x.replace('&' ,'and'))\n",
    "                    .apply(lambda x : x.replace('?' ,''))\n",
    "                    .apply(lambda x : x.replace('/' ,' '))\n",
    "                   )"
   ]
  },
  {
   "cell_type": "code",
   "execution_count": 114,
   "metadata": {
    "scrolled": true
   },
   "outputs": [
    {
     "data": {
      "text/html": [
       "<div>\n",
       "<style scoped>\n",
       "    .dataframe tbody tr th:only-of-type {\n",
       "        vertical-align: middle;\n",
       "    }\n",
       "\n",
       "    .dataframe tbody tr th {\n",
       "        vertical-align: top;\n",
       "    }\n",
       "\n",
       "    .dataframe thead th {\n",
       "        text-align: right;\n",
       "    }\n",
       "</style>\n",
       "<table border=\"1\" class=\"dataframe\">\n",
       "  <thead>\n",
       "    <tr style=\"text-align: right;\">\n",
       "      <th></th>\n",
       "      <th>index</th>\n",
       "      <th>publisher</th>\n",
       "      <th>item_id</th>\n",
       "      <th>title_and_num</th>\n",
       "      <th>qty_sold</th>\n",
       "      <th>date_sold</th>\n",
       "      <th>account_num</th>\n",
       "      <th>comic_title</th>\n",
       "      <th>title</th>\n",
       "    </tr>\n",
       "  </thead>\n",
       "  <tbody>\n",
       "    <tr>\n",
       "      <th>0</th>\n",
       "      <td>2</td>\n",
       "      <td>Amaze Ink Slave Labor Graphics</td>\n",
       "      <td>DCD151935</td>\n",
       "      <td>Filler Bunny #2</td>\n",
       "      <td>1</td>\n",
       "      <td>2011-08-14 18:01:03</td>\n",
       "      <td>00174</td>\n",
       "      <td>Filler Bunny (SLG)</td>\n",
       "      <td>Filler Bunny</td>\n",
       "    </tr>\n",
       "    <tr>\n",
       "      <th>1</th>\n",
       "      <td>3</td>\n",
       "      <td>Amaze Ink Slave Labor Graphics</td>\n",
       "      <td>DCD341726</td>\n",
       "      <td>Gargoyles #6</td>\n",
       "      <td>1</td>\n",
       "      <td>2012-06-22 14:11:37</td>\n",
       "      <td>00593</td>\n",
       "      <td>Gargoyles (SLG)</td>\n",
       "      <td>Gargoyles</td>\n",
       "    </tr>\n",
       "    <tr>\n",
       "      <th>2</th>\n",
       "      <td>4</td>\n",
       "      <td>Amaze Ink Slave Labor Graphics</td>\n",
       "      <td>DCD416182</td>\n",
       "      <td>Royal Historian of Oz #1</td>\n",
       "      <td>1</td>\n",
       "      <td>2010-07-21 14:03:07</td>\n",
       "      <td>00226</td>\n",
       "      <td>Royal Historian of Oz (SLG)</td>\n",
       "      <td>Royal Historian of Oz</td>\n",
       "    </tr>\n",
       "    <tr>\n",
       "      <th>3</th>\n",
       "      <td>5</td>\n",
       "      <td>Amaze Ink Slave Labor Graphics</td>\n",
       "      <td>DCD416182</td>\n",
       "      <td>Royal Historian of Oz #1</td>\n",
       "      <td>1</td>\n",
       "      <td>2010-07-14 19:49:40</td>\n",
       "      <td>00399</td>\n",
       "      <td>Royal Historian of Oz (SLG)</td>\n",
       "      <td>Royal Historian of Oz</td>\n",
       "    </tr>\n",
       "    <tr>\n",
       "      <th>4</th>\n",
       "      <td>6</td>\n",
       "      <td>Amaze Ink Slave Labor Graphics</td>\n",
       "      <td>DCD416182</td>\n",
       "      <td>Royal Historian of Oz #1</td>\n",
       "      <td>1</td>\n",
       "      <td>2010-07-19 10:39:04</td>\n",
       "      <td>00237</td>\n",
       "      <td>Royal Historian of Oz (SLG)</td>\n",
       "      <td>Royal Historian of Oz</td>\n",
       "    </tr>\n",
       "  </tbody>\n",
       "</table>\n",
       "</div>"
      ],
      "text/plain": [
       "   index                       publisher    item_id             title_and_num  \\\n",
       "0      2  Amaze Ink Slave Labor Graphics  DCD151935           Filler Bunny #2   \n",
       "1      3  Amaze Ink Slave Labor Graphics  DCD341726              Gargoyles #6   \n",
       "2      4  Amaze Ink Slave Labor Graphics  DCD416182  Royal Historian of Oz #1   \n",
       "3      5  Amaze Ink Slave Labor Graphics  DCD416182  Royal Historian of Oz #1   \n",
       "4      6  Amaze Ink Slave Labor Graphics  DCD416182  Royal Historian of Oz #1   \n",
       "\n",
       "   qty_sold           date_sold account_num                  comic_title  \\\n",
       "0         1 2011-08-14 18:01:03       00174           Filler Bunny (SLG)   \n",
       "1         1 2012-06-22 14:11:37       00593              Gargoyles (SLG)   \n",
       "2         1 2010-07-21 14:03:07       00226  Royal Historian of Oz (SLG)   \n",
       "3         1 2010-07-14 19:49:40       00399  Royal Historian of Oz (SLG)   \n",
       "4         1 2010-07-19 10:39:04       00237  Royal Historian of Oz (SLG)   \n",
       "\n",
       "                   title  \n",
       "0           Filler Bunny  \n",
       "1              Gargoyles  \n",
       "2  Royal Historian of Oz  \n",
       "3  Royal Historian of Oz  \n",
       "4  Royal Historian of Oz  "
      ]
     },
     "execution_count": 114,
     "metadata": {},
     "output_type": "execute_result"
    }
   ],
   "source": [
    "temp_df.head()"
   ]
  },
  {
   "cell_type": "code",
   "execution_count": 115,
   "metadata": {},
   "outputs": [],
   "source": [
    "work = temp_df.groupby(['comic_title', 'title'], as_index=False).index.count()"
   ]
  },
  {
   "cell_type": "code",
   "execution_count": 116,
   "metadata": {},
   "outputs": [
    {
     "data": {
      "text/html": [
       "<div>\n",
       "<style scoped>\n",
       "    .dataframe tbody tr th:only-of-type {\n",
       "        vertical-align: middle;\n",
       "    }\n",
       "\n",
       "    .dataframe tbody tr th {\n",
       "        vertical-align: top;\n",
       "    }\n",
       "\n",
       "    .dataframe thead th {\n",
       "        text-align: right;\n",
       "    }\n",
       "</style>\n",
       "<table border=\"1\" class=\"dataframe\">\n",
       "  <thead>\n",
       "    <tr style=\"text-align: right;\">\n",
       "      <th></th>\n",
       "      <th>comic_title</th>\n",
       "      <th>title</th>\n",
       "      <th>index</th>\n",
       "    </tr>\n",
       "  </thead>\n",
       "  <tbody>\n",
       "    <tr>\n",
       "      <th>0</th>\n",
       "      <td>0Secret Wars (Marvel)</td>\n",
       "      <td>0Secret Wars</td>\n",
       "      <td>1</td>\n",
       "    </tr>\n",
       "    <tr>\n",
       "      <th>1</th>\n",
       "      <td>1 For $1 Abe Sapien (Dark Horse)</td>\n",
       "      <td>1 For $1 Abe Sapien</td>\n",
       "      <td>3</td>\n",
       "    </tr>\n",
       "    <tr>\n",
       "      <th>2</th>\n",
       "      <td>1 For $1 Action Philosopher (Dark Horse)</td>\n",
       "      <td>1 For $1 Action Philosopher</td>\n",
       "      <td>3</td>\n",
       "    </tr>\n",
       "    <tr>\n",
       "      <th>3</th>\n",
       "      <td>1 For $1 Avatar Last Airbende (Dark Horse)</td>\n",
       "      <td>1 For $1 Avatar Last Airbende</td>\n",
       "      <td>2</td>\n",
       "    </tr>\n",
       "    <tr>\n",
       "      <th>4</th>\n",
       "      <td>1 For $1 Axe Cop Bad Guy Eart (Dark Horse)</td>\n",
       "      <td>1 For $1 Axe Cop Bad Guy Eart</td>\n",
       "      <td>1</td>\n",
       "    </tr>\n",
       "  </tbody>\n",
       "</table>\n",
       "</div>"
      ],
      "text/plain": [
       "                                  comic_title                          title  \\\n",
       "0                       0Secret Wars (Marvel)                   0Secret Wars   \n",
       "1            1 For $1 Abe Sapien (Dark Horse)            1 For $1 Abe Sapien   \n",
       "2    1 For $1 Action Philosopher (Dark Horse)    1 For $1 Action Philosopher   \n",
       "3  1 For $1 Avatar Last Airbende (Dark Horse)  1 For $1 Avatar Last Airbende   \n",
       "4  1 For $1 Axe Cop Bad Guy Eart (Dark Horse)  1 For $1 Axe Cop Bad Guy Eart   \n",
       "\n",
       "   index  \n",
       "0      1  \n",
       "1      3  \n",
       "2      3  \n",
       "3      2  \n",
       "4      1  "
      ]
     },
     "execution_count": 116,
     "metadata": {},
     "output_type": "execute_result"
    }
   ],
   "source": [
    "work.head()"
   ]
  },
  {
   "cell_type": "code",
   "execution_count": 117,
   "metadata": {},
   "outputs": [
    {
     "data": {
      "text/plain": [
       "(7202, 3)"
      ]
     },
     "execution_count": 117,
     "metadata": {},
     "output_type": "execute_result"
    }
   ],
   "source": [
    "work.shape"
   ]
  },
  {
   "cell_type": "code",
   "execution_count": 150,
   "metadata": {},
   "outputs": [],
   "source": [
    "work['filename'] = work['title'].apply(lambda x: x.lower().replace(' ', '_')) + '.jpg'"
   ]
  },
  {
   "cell_type": "code",
   "execution_count": 134,
   "metadata": {},
   "outputs": [
    {
     "data": {
      "text/plain": [
       "'https://comrx.s3-us-west-2.amazonaws.com/covers/'"
      ]
     },
     "execution_count": 134,
     "metadata": {},
     "output_type": "execute_result"
    }
   ],
   "source": [
    "search_path = 'https://comrx.s3-us-west-2.amazonaws.com/covers/'\n",
    "search_path"
   ]
  },
  {
   "cell_type": "code",
   "execution_count": 151,
   "metadata": {},
   "outputs": [],
   "source": [
    "work['search_path'] = search_path + work['filename']"
   ]
  },
  {
   "cell_type": "code",
   "execution_count": 153,
   "metadata": {},
   "outputs": [
    {
     "data": {
      "text/plain": [
       "7011    https://comrx.s3-us-west-2.amazonaws.com/cover...\n",
       "7012    https://comrx.s3-us-west-2.amazonaws.com/cover...\n",
       "Name: search_path, dtype: object"
      ]
     },
     "execution_count": 153,
     "metadata": {},
     "output_type": "execute_result"
    }
   ],
   "source": [
    "work.loc[work['title']=='Wonder Woman']['search_path']"
   ]
  },
  {
   "cell_type": "code",
   "execution_count": 162,
   "metadata": {},
   "outputs": [
    {
     "data": {
      "text/plain": [
       "'wonder_woman.jpg'"
      ]
     },
     "execution_count": 162,
     "metadata": {},
     "output_type": "execute_result"
    }
   ],
   "source": [
    "work.loc[work['comic_title']=='Wonder Woman (DC)']['filename'].values[0]"
   ]
  },
  {
   "cell_type": "code",
   "execution_count": 152,
   "metadata": {},
   "outputs": [
    {
     "data": {
      "text/html": [
       "<div>\n",
       "<style scoped>\n",
       "    .dataframe tbody tr th:only-of-type {\n",
       "        vertical-align: middle;\n",
       "    }\n",
       "\n",
       "    .dataframe tbody tr th {\n",
       "        vertical-align: top;\n",
       "    }\n",
       "\n",
       "    .dataframe thead th {\n",
       "        text-align: right;\n",
       "    }\n",
       "</style>\n",
       "<table border=\"1\" class=\"dataframe\">\n",
       "  <thead>\n",
       "    <tr style=\"text-align: right;\">\n",
       "      <th></th>\n",
       "      <th>comic_title</th>\n",
       "      <th>title</th>\n",
       "      <th>index</th>\n",
       "      <th>search_path</th>\n",
       "      <th>filename</th>\n",
       "    </tr>\n",
       "  </thead>\n",
       "  <tbody>\n",
       "    <tr>\n",
       "      <th>0</th>\n",
       "      <td>0Secret Wars (Marvel)</td>\n",
       "      <td>0Secret Wars</td>\n",
       "      <td>1</td>\n",
       "      <td>https://comrx.s3-us-west-2.amazonaws.com/cover...</td>\n",
       "      <td>0secret_wars.jpg</td>\n",
       "    </tr>\n",
       "    <tr>\n",
       "      <th>1</th>\n",
       "      <td>1 For $1 Abe Sapien (Dark Horse)</td>\n",
       "      <td>1 For $1 Abe Sapien</td>\n",
       "      <td>3</td>\n",
       "      <td>https://comrx.s3-us-west-2.amazonaws.com/cover...</td>\n",
       "      <td>1_for_$1_abe_sapien.jpg</td>\n",
       "    </tr>\n",
       "    <tr>\n",
       "      <th>2</th>\n",
       "      <td>1 For $1 Action Philosopher (Dark Horse)</td>\n",
       "      <td>1 For $1 Action Philosopher</td>\n",
       "      <td>3</td>\n",
       "      <td>https://comrx.s3-us-west-2.amazonaws.com/cover...</td>\n",
       "      <td>1_for_$1_action_philosopher.jpg</td>\n",
       "    </tr>\n",
       "    <tr>\n",
       "      <th>3</th>\n",
       "      <td>1 For $1 Avatar Last Airbende (Dark Horse)</td>\n",
       "      <td>1 For $1 Avatar Last Airbende</td>\n",
       "      <td>2</td>\n",
       "      <td>https://comrx.s3-us-west-2.amazonaws.com/cover...</td>\n",
       "      <td>1_for_$1_avatar_last_airbende.jpg</td>\n",
       "    </tr>\n",
       "    <tr>\n",
       "      <th>4</th>\n",
       "      <td>1 For $1 Axe Cop Bad Guy Eart (Dark Horse)</td>\n",
       "      <td>1 For $1 Axe Cop Bad Guy Eart</td>\n",
       "      <td>1</td>\n",
       "      <td>https://comrx.s3-us-west-2.amazonaws.com/cover...</td>\n",
       "      <td>1_for_$1_axe_cop_bad_guy_eart.jpg</td>\n",
       "    </tr>\n",
       "  </tbody>\n",
       "</table>\n",
       "</div>"
      ],
      "text/plain": [
       "                                  comic_title                          title  \\\n",
       "0                       0Secret Wars (Marvel)                   0Secret Wars   \n",
       "1            1 For $1 Abe Sapien (Dark Horse)            1 For $1 Abe Sapien   \n",
       "2    1 For $1 Action Philosopher (Dark Horse)    1 For $1 Action Philosopher   \n",
       "3  1 For $1 Avatar Last Airbende (Dark Horse)  1 For $1 Avatar Last Airbende   \n",
       "4  1 For $1 Axe Cop Bad Guy Eart (Dark Horse)  1 For $1 Axe Cop Bad Guy Eart   \n",
       "\n",
       "   index                                        search_path  \\\n",
       "0      1  https://comrx.s3-us-west-2.amazonaws.com/cover...   \n",
       "1      3  https://comrx.s3-us-west-2.amazonaws.com/cover...   \n",
       "2      3  https://comrx.s3-us-west-2.amazonaws.com/cover...   \n",
       "3      2  https://comrx.s3-us-west-2.amazonaws.com/cover...   \n",
       "4      1  https://comrx.s3-us-west-2.amazonaws.com/cover...   \n",
       "\n",
       "                            filename  \n",
       "0                   0secret_wars.jpg  \n",
       "1            1_for_$1_abe_sapien.jpg  \n",
       "2    1_for_$1_action_philosopher.jpg  \n",
       "3  1_for_$1_avatar_last_airbende.jpg  \n",
       "4  1_for_$1_axe_cop_bad_guy_eart.jpg  "
      ]
     },
     "execution_count": 152,
     "metadata": {},
     "output_type": "execute_result"
    }
   ],
   "source": [
    "work.head()"
   ]
  },
  {
   "cell_type": "code",
   "execution_count": 202,
   "metadata": {},
   "outputs": [],
   "source": [
    "tests = ['Wonder Woman (DC)', 'Batman (DC)', 'X-Men (Marvel)', 'Werlindo']"
   ]
  },
  {
   "cell_type": "code",
   "execution_count": 60,
   "metadata": {},
   "outputs": [],
   "source": [
    "client = boto3.client('s3')"
   ]
  },
  {
   "cell_type": "code",
   "execution_count": 178,
   "metadata": {},
   "outputs": [],
   "source": [
    "ttl = 'wonder woman (dc)'\n",
    "url = 'www.overhere.com'"
   ]
  },
  {
   "cell_type": "code",
   "execution_count": 188,
   "metadata": {},
   "outputs": [],
   "source": [
    "ssql = (\"SELECT * FROM '\" + ttl + \"';\" + \n",
    "       \"WHERE huh \")"
   ]
  },
  {
   "cell_type": "code",
   "execution_count": 189,
   "metadata": {},
   "outputs": [
    {
     "data": {
      "text/plain": [
       "\"SELECT * FROM 'wonder woman (dc)';WHERE huh \""
      ]
     },
     "execution_count": 189,
     "metadata": {},
     "output_type": "execute_result"
    }
   ],
   "source": [
    "ssql"
   ]
  },
  {
   "cell_type": "code",
   "execution_count": 203,
   "metadata": {},
   "outputs": [
    {
     "name": "stdout",
     "output_type": "stream",
     "text": [
      "got wonder_woman.jpg\n",
      "https://comrx.s3-us-west-2.amazonaws.com/covers/wonder_woman.jpg\n",
      "UPDATE comics SET img_url = 'https://comrx.s3-us-west-2.amazonaws.com/covers/wonder_woman.jpg' WHERE comic_title = 'Wonder Woman (DC)';\n",
      "got batman.jpg\n",
      "https://comrx.s3-us-west-2.amazonaws.com/covers/batman.jpg\n",
      "UPDATE comics SET img_url = 'https://comrx.s3-us-west-2.amazonaws.com/covers/batman.jpg' WHERE comic_title = 'Batman (DC)';\n",
      "wut\n",
      "wut\n"
     ]
    }
   ],
   "source": [
    "for test in tests:\n",
    "    # Find file name\n",
    "    try:\n",
    "        got_filename = work.loc[work['comic_title']==test]['filename'].values[0]\n",
    "        client.head_object(Bucket='comrx', Key='covers/' + got_filename)\n",
    "        print('got ' + got_filename)\n",
    "        \n",
    "        # Update comics table on AWS\n",
    "        img_url = work.loc[work['comic_title']==test]['search_path'].values[0]\n",
    "        print(img_url)\n",
    "        \n",
    "        # Build query string\n",
    "        query_update = (\"UPDATE comics \" + \n",
    "                        \"SET img_url = '\" + img_url + \"' \" +\n",
    "                        \"WHERE comic_title = '\" + test +\n",
    "                        \"';\"\n",
    "                       )\n",
    "        print(query_update)\n",
    "        \n",
    "        # Execute query\n",
    "        cur.execute(query_update)\n",
    "        conn.commit()\n",
    "           \n",
    "    except:\n",
    "        pass\n",
    "        print('wut')\n",
    "#     print(test)\n",
    "#     print(work.loc[work['comic_title']==test]['filename'].values[0])\n",
    "    \n",
    "#         client.head_object(Bucket='comrx', Key='covers/wonder_woman.jpg')"
   ]
  },
  {
   "cell_type": "code",
   "execution_count": 194,
   "metadata": {},
   "outputs": [],
   "source": [
    "#  Count records.\n",
    "query = \"\"\"\n",
    "    SELECT * from comics WHERE comic_title = 'Wonder Woman (DC)';\n",
    "\"\"\""
   ]
  },
  {
   "cell_type": "code",
   "execution_count": 204,
   "metadata": {},
   "outputs": [],
   "source": [
    "#  Count records.\n",
    "query = \"\"\"\n",
    "    SELECT * from comics WHERE comic_title = 'Batman (DC)';\n",
    "\"\"\""
   ]
  },
  {
   "cell_type": "code",
   "execution_count": 205,
   "metadata": {},
   "outputs": [],
   "source": [
    "# Execute the query\n",
    "cur.execute(query)"
   ]
  },
  {
   "cell_type": "code",
   "execution_count": 206,
   "metadata": {},
   "outputs": [],
   "source": [
    "# Check results\n",
    "temp_df = pd.DataFrame(cur.fetchall())\n",
    "temp_df.columns = [col.name for col in cur.description]"
   ]
  },
  {
   "cell_type": "code",
   "execution_count": 207,
   "metadata": {},
   "outputs": [
    {
     "data": {
      "text/html": [
       "<div>\n",
       "<style scoped>\n",
       "    .dataframe tbody tr th:only-of-type {\n",
       "        vertical-align: middle;\n",
       "    }\n",
       "\n",
       "    .dataframe tbody tr th {\n",
       "        vertical-align: top;\n",
       "    }\n",
       "\n",
       "    .dataframe thead th {\n",
       "        text-align: right;\n",
       "    }\n",
       "</style>\n",
       "<table border=\"1\" class=\"dataframe\">\n",
       "  <thead>\n",
       "    <tr style=\"text-align: right;\">\n",
       "      <th></th>\n",
       "      <th>comic_id</th>\n",
       "      <th>comic_title</th>\n",
       "      <th>img_url</th>\n",
       "    </tr>\n",
       "  </thead>\n",
       "  <tbody>\n",
       "    <tr>\n",
       "      <th>0</th>\n",
       "      <td>610</td>\n",
       "      <td>Batman (DC)</td>\n",
       "      <td>https://comrx.s3-us-west-2.amazonaws.com/cover...</td>\n",
       "    </tr>\n",
       "  </tbody>\n",
       "</table>\n",
       "</div>"
      ],
      "text/plain": [
       "   comic_id  comic_title                                            img_url\n",
       "0       610  Batman (DC)  https://comrx.s3-us-west-2.amazonaws.com/cover..."
      ]
     },
     "execution_count": 207,
     "metadata": {},
     "output_type": "execute_result"
    }
   ],
   "source": [
    "temp_df.head()"
   ]
  },
  {
   "cell_type": "code",
   "execution_count": null,
   "metadata": {},
   "outputs": [],
   "source": [
    "\n",
    "    "
   ]
  },
  {
   "cell_type": "code",
   "execution_count": null,
   "metadata": {},
   "outputs": [],
   "source": []
  },
  {
   "cell_type": "code",
   "execution_count": 65,
   "metadata": {},
   "outputs": [],
   "source": [
    "ww = temp_df.loc[temp_df['comic_title']=='wonder_woman'].copy()"
   ]
  },
  {
   "cell_type": "code",
   "execution_count": 66,
   "metadata": {},
   "outputs": [
    {
     "data": {
      "text/html": [
       "<div>\n",
       "<style scoped>\n",
       "    .dataframe tbody tr th:only-of-type {\n",
       "        vertical-align: middle;\n",
       "    }\n",
       "\n",
       "    .dataframe tbody tr th {\n",
       "        vertical-align: top;\n",
       "    }\n",
       "\n",
       "    .dataframe thead th {\n",
       "        text-align: right;\n",
       "    }\n",
       "</style>\n",
       "<table border=\"1\" class=\"dataframe\">\n",
       "  <thead>\n",
       "    <tr style=\"text-align: right;\">\n",
       "      <th></th>\n",
       "      <th>comic_id</th>\n",
       "      <th>comic_title</th>\n",
       "      <th>img_url</th>\n",
       "    </tr>\n",
       "  </thead>\n",
       "  <tbody>\n",
       "  </tbody>\n",
       "</table>\n",
       "</div>"
      ],
      "text/plain": [
       "Empty DataFrame\n",
       "Columns: [comic_id, comic_title, img_url]\n",
       "Index: []"
      ]
     },
     "execution_count": 66,
     "metadata": {},
     "output_type": "execute_result"
    }
   ],
   "source": [
    "ww"
   ]
  },
  {
   "cell_type": "code",
   "execution_count": 59,
   "metadata": {},
   "outputs": [],
   "source": [
    "import boto3"
   ]
  },
  {
   "cell_type": "code",
   "execution_count": 60,
   "metadata": {},
   "outputs": [],
   "source": [
    "client = boto3.client('s3')"
   ]
  },
  {
   "cell_type": "code",
   "execution_count": 63,
   "metadata": {},
   "outputs": [
    {
     "data": {
      "text/plain": [
       "{'ResponseMetadata': {'RequestId': '9C4E154037F911A3',\n",
       "  'HostId': '7KFSE0MMYxxUCk5zx6jK0/erM7D7R/MRiML48f33/dmZ5l68BeTyvGdnalEyHbNYmb4JJDVTMNM=',\n",
       "  'HTTPStatusCode': 200,\n",
       "  'HTTPHeaders': {'x-amz-id-2': '7KFSE0MMYxxUCk5zx6jK0/erM7D7R/MRiML48f33/dmZ5l68BeTyvGdnalEyHbNYmb4JJDVTMNM=',\n",
       "   'x-amz-request-id': '9C4E154037F911A3',\n",
       "   'date': 'Sat, 06 Jul 2019 18:46:55 GMT',\n",
       "   'last-modified': 'Sat, 06 Jul 2019 18:17:08 GMT',\n",
       "   'etag': '\"22586bbc17033fe936f1f09a49687039\"',\n",
       "   'x-amz-version-id': 'Edfhk0i8IWNF5.ueHTy3Taw6rnozfnWe',\n",
       "   'accept-ranges': 'bytes',\n",
       "   'content-type': 'image/jpeg',\n",
       "   'content-length': '19300',\n",
       "   'server': 'AmazonS3'},\n",
       "  'RetryAttempts': 0},\n",
       " 'AcceptRanges': 'bytes',\n",
       " 'LastModified': datetime.datetime(2019, 7, 6, 18, 17, 8, tzinfo=tzutc()),\n",
       " 'ContentLength': 19300,\n",
       " 'ETag': '\"22586bbc17033fe936f1f09a49687039\"',\n",
       " 'VersionId': 'Edfhk0i8IWNF5.ueHTy3Taw6rnozfnWe',\n",
       " 'ContentType': 'image/jpeg',\n",
       " 'Metadata': {}}"
      ]
     },
     "execution_count": 63,
     "metadata": {},
     "output_type": "execute_result"
    }
   ],
   "source": [
    "client.head_object(Bucket='comrx', Key='covers/wonder_woman.jpg')"
   ]
  },
  {
   "cell_type": "code",
   "execution_count": null,
   "metadata": {},
   "outputs": [],
   "source": [
    "# enumerate local files recursively\n",
    "for root, dirs, files in os.walk(local_directory):\n",
    "\n",
    "    for filename in files:\n",
    "\n",
    "    # construct the full local path\n",
    "    #local_path = os.path.join(root, filename)\n",
    "\n",
    "    # construct the full Dropbox path\n",
    "    #relative_path = os.path.relpath(local_path, local_directory)\n",
    "#    s3_path = os.path.join(destination, relative_path)\n",
    "    s3_path = os.path.join(destination, filename)\n",
    "\n",
    "    # relative_path = os.path.relpath(os.path.join(root, filename))\n",
    "\n",
    "    print 'Searching \"%s\" in \"%s\"' % (s3_path, bucket)\n",
    "    try:\n",
    "        client.head_object(Bucket=bucket, Key=s3_path)"
   ]
  }
 ],
 "metadata": {
  "kernelspec": {
   "display_name": "Python 3",
   "language": "python",
   "name": "python3"
  },
  "language_info": {
   "codemirror_mode": {
    "name": "ipython",
    "version": 3
   },
   "file_extension": ".py",
   "mimetype": "text/x-python",
   "name": "python",
   "nbconvert_exporter": "python",
   "pygments_lexer": "ipython3",
   "version": "3.6.6"
  }
 },
 "nbformat": 4,
 "nbformat_minor": 2
}
