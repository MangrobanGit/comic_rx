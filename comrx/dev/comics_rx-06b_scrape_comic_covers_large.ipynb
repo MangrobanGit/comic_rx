{
 "cells": [
  {
   "cell_type": "markdown",
   "metadata": {},
   "source": [
    "# Scraping Comic Book Covers\n",
    "\n",
    "**Goal**: Scrape comic covers so can use them as visual touchstones for users in the app.\n"
   ]
  },
  {
   "cell_type": "markdown",
   "metadata": {},
   "source": [
    "### Libraries"
   ]
  },
  {
   "cell_type": "code",
   "execution_count": 1,
   "metadata": {},
   "outputs": [],
   "source": [
    "import psycopg2 as psql  # PostgreSQL DBs\n",
    "from sqlalchemy import create_engine  # SQL helper\n",
    "import pandas as pd\n",
    "import requests\n",
    "import random\n",
    "import time\n",
    "import os\n",
    "import sys\n",
    "# Selenium\n",
    "from selenium.webdriver import Firefox\n",
    "from selenium.webdriver.common.keys import Keys\n",
    "from selenium.webdriver.support.ui import Select\n",
    "from selenium.common.exceptions import NoSuchElementException\n",
    "from selenium.webdriver.firefox.options import Options\n",
    "options = Options()\n",
    "options.headless = False\n",
    "\n",
    "# Data storage"
   ]
  },
  {
   "cell_type": "code",
   "execution_count": 2,
   "metadata": {},
   "outputs": [],
   "source": [
    "sys.path.append(\"..\")"
   ]
  },
  {
   "cell_type": "code",
   "execution_count": 3,
   "metadata": {},
   "outputs": [],
   "source": [
    "# Custom\n",
    "import data_fcns as dfc\n",
    "import keys as keys  # Custom keys lib\n",
    "import comic_scraper as cs"
   ]
  },
  {
   "cell_type": "markdown",
   "metadata": {},
   "source": [
    "### Initialize Browser"
   ]
  },
  {
   "cell_type": "markdown",
   "metadata": {},
   "source": [
    "driver_exe_path = os.path.join(\n",
    "    os.getcwd(), 'drivers', 'geckodriver-windows.exe')"
   ]
  },
  {
   "cell_type": "code",
   "execution_count": 4,
   "metadata": {},
   "outputs": [],
   "source": [
    "driver_exe_path = os.path.join(\n",
    "    os.getcwd(), 'drivers', 'geckodriver')"
   ]
  },
  {
   "cell_type": "code",
   "execution_count": 5,
   "metadata": {},
   "outputs": [
    {
     "data": {
      "text/plain": [
       "'/Users/werlindo/Dropbox/flatiron/capstone/comics_rx/comrx/dev/drivers/geckodriver'"
      ]
     },
     "execution_count": 5,
     "metadata": {},
     "output_type": "execute_result"
    }
   ],
   "source": [
    "driver_exe_path"
   ]
  },
  {
   "cell_type": "markdown",
   "metadata": {},
   "source": [
    "ls drivers/"
   ]
  },
  {
   "cell_type": "code",
   "execution_count": 6,
   "metadata": {},
   "outputs": [],
   "source": [
    "browser = Firefox(options=options, executable_path=driver_exe_path)\n",
    "url = \"http://www.comicbookdb.com/\"\n",
    "browser.get(url)"
   ]
  },
  {
   "cell_type": "markdown",
   "metadata": {},
   "source": [
    "### Make list of Titles!\n",
    "\n",
    "Get list of titles to scrape covers."
   ]
  },
  {
   "cell_type": "code",
   "execution_count": 7,
   "metadata": {},
   "outputs": [
    {
     "data": {
      "text/plain": [
       "'/Users/werlindo/.secret/aws_ps_flatiron.json'"
      ]
     },
     "execution_count": 7,
     "metadata": {},
     "output_type": "execute_result"
    }
   ],
   "source": [
    "# Define path to secret\n",
    "secret_path_aws = os.path.join(os.environ['HOME'], '.secret',\n",
    "                               'aws_ps_flatiron.json')\n",
    "secret_path_aws"
   ]
  },
  {
   "cell_type": "code",
   "execution_count": 8,
   "metadata": {},
   "outputs": [],
   "source": [
    "aws_keys = keys.get_keys(secret_path_aws)\n",
    "user = aws_keys['user']\n",
    "ps = aws_keys['password']\n",
    "host = aws_keys['host']\n",
    "db = aws_keys['db_name']\n",
    "\n",
    "aws_ps_engine = ('postgresql://' + user + ':' + ps + '@' + host + '/' + db)\n",
    "\n",
    "# Setup PSQL connection\n",
    "conn = psql.connect(\n",
    "    database=db,\n",
    "    user=user,\n",
    "    password=ps,\n",
    "    host=host,\n",
    "    port='5432'\n",
    ")"
   ]
  },
  {
   "cell_type": "code",
   "execution_count": 9,
   "metadata": {},
   "outputs": [],
   "source": [
    "# Instantiate cursor\n",
    "cur = conn.cursor()"
   ]
  },
  {
   "cell_type": "code",
   "execution_count": 10,
   "metadata": {},
   "outputs": [],
   "source": [
    "#  Count records.\n",
    "query = \"\"\"\n",
    "    SELECT * from comic_trans;\n",
    "\"\"\""
   ]
  },
  {
   "cell_type": "code",
   "execution_count": 11,
   "metadata": {},
   "outputs": [],
   "source": [
    "# Execute the query\n",
    "cur.execute(query)"
   ]
  },
  {
   "cell_type": "code",
   "execution_count": 12,
   "metadata": {},
   "outputs": [],
   "source": [
    "# Check results\n",
    "temp_df = pd.DataFrame(cur.fetchall())\n",
    "temp_df.columns = [col.name for col in cur.description]"
   ]
  },
  {
   "cell_type": "code",
   "execution_count": 13,
   "metadata": {},
   "outputs": [
    {
     "data": {
      "text/html": [
       "<div>\n",
       "<style scoped>\n",
       "    .dataframe tbody tr th:only-of-type {\n",
       "        vertical-align: middle;\n",
       "    }\n",
       "\n",
       "    .dataframe tbody tr th {\n",
       "        vertical-align: top;\n",
       "    }\n",
       "\n",
       "    .dataframe thead th {\n",
       "        text-align: right;\n",
       "    }\n",
       "</style>\n",
       "<table border=\"1\" class=\"dataframe\">\n",
       "  <thead>\n",
       "    <tr style=\"text-align: right;\">\n",
       "      <th></th>\n",
       "      <th>index</th>\n",
       "      <th>publisher</th>\n",
       "      <th>item_id</th>\n",
       "      <th>title_and_num</th>\n",
       "      <th>qty_sold</th>\n",
       "      <th>date_sold</th>\n",
       "      <th>account_num</th>\n",
       "      <th>comic_title</th>\n",
       "    </tr>\n",
       "  </thead>\n",
       "  <tbody>\n",
       "    <tr>\n",
       "      <th>0</th>\n",
       "      <td>2</td>\n",
       "      <td>Amaze Ink Slave Labor Graphics</td>\n",
       "      <td>DCD151935</td>\n",
       "      <td>Filler Bunny #2</td>\n",
       "      <td>1</td>\n",
       "      <td>2011-08-14 18:01:03</td>\n",
       "      <td>00174</td>\n",
       "      <td>Filler Bunny (SLG)</td>\n",
       "    </tr>\n",
       "    <tr>\n",
       "      <th>1</th>\n",
       "      <td>3</td>\n",
       "      <td>Amaze Ink Slave Labor Graphics</td>\n",
       "      <td>DCD341726</td>\n",
       "      <td>Gargoyles #6</td>\n",
       "      <td>1</td>\n",
       "      <td>2012-06-22 14:11:37</td>\n",
       "      <td>00593</td>\n",
       "      <td>Gargoyles (SLG)</td>\n",
       "    </tr>\n",
       "    <tr>\n",
       "      <th>2</th>\n",
       "      <td>4</td>\n",
       "      <td>Amaze Ink Slave Labor Graphics</td>\n",
       "      <td>DCD416182</td>\n",
       "      <td>Royal Historian of Oz #1</td>\n",
       "      <td>1</td>\n",
       "      <td>2010-07-21 14:03:07</td>\n",
       "      <td>00226</td>\n",
       "      <td>Royal Historian of Oz (SLG)</td>\n",
       "    </tr>\n",
       "  </tbody>\n",
       "</table>\n",
       "</div>"
      ],
      "text/plain": [
       "   index                       publisher    item_id             title_and_num  \\\n",
       "0      2  Amaze Ink Slave Labor Graphics  DCD151935           Filler Bunny #2   \n",
       "1      3  Amaze Ink Slave Labor Graphics  DCD341726              Gargoyles #6   \n",
       "2      4  Amaze Ink Slave Labor Graphics  DCD416182  Royal Historian of Oz #1   \n",
       "\n",
       "   qty_sold           date_sold account_num                  comic_title  \n",
       "0         1 2011-08-14 18:01:03       00174           Filler Bunny (SLG)  \n",
       "1         1 2012-06-22 14:11:37       00593              Gargoyles (SLG)  \n",
       "2         1 2010-07-21 14:03:07       00226  Royal Historian of Oz (SLG)  "
      ]
     },
     "execution_count": 13,
     "metadata": {},
     "output_type": "execute_result"
    }
   ],
   "source": [
    "temp_df.head(3)"
   ]
  },
  {
   "cell_type": "code",
   "execution_count": 14,
   "metadata": {},
   "outputs": [],
   "source": [
    "temp_df['title'] = (temp_df['title_and_num'].apply(dfc.cut_issue_num))"
   ]
  },
  {
   "cell_type": "code",
   "execution_count": 15,
   "metadata": {},
   "outputs": [
    {
     "data": {
      "text/html": [
       "<div>\n",
       "<style scoped>\n",
       "    .dataframe tbody tr th:only-of-type {\n",
       "        vertical-align: middle;\n",
       "    }\n",
       "\n",
       "    .dataframe tbody tr th {\n",
       "        vertical-align: top;\n",
       "    }\n",
       "\n",
       "    .dataframe thead th {\n",
       "        text-align: right;\n",
       "    }\n",
       "</style>\n",
       "<table border=\"1\" class=\"dataframe\">\n",
       "  <thead>\n",
       "    <tr style=\"text-align: right;\">\n",
       "      <th></th>\n",
       "      <th>index</th>\n",
       "      <th>publisher</th>\n",
       "      <th>item_id</th>\n",
       "      <th>title_and_num</th>\n",
       "      <th>qty_sold</th>\n",
       "      <th>date_sold</th>\n",
       "      <th>account_num</th>\n",
       "      <th>comic_title</th>\n",
       "      <th>title</th>\n",
       "    </tr>\n",
       "  </thead>\n",
       "  <tbody>\n",
       "    <tr>\n",
       "      <th>0</th>\n",
       "      <td>2</td>\n",
       "      <td>Amaze Ink Slave Labor Graphics</td>\n",
       "      <td>DCD151935</td>\n",
       "      <td>Filler Bunny #2</td>\n",
       "      <td>1</td>\n",
       "      <td>2011-08-14 18:01:03</td>\n",
       "      <td>00174</td>\n",
       "      <td>Filler Bunny (SLG)</td>\n",
       "      <td>Filler Bunny</td>\n",
       "    </tr>\n",
       "    <tr>\n",
       "      <th>1</th>\n",
       "      <td>3</td>\n",
       "      <td>Amaze Ink Slave Labor Graphics</td>\n",
       "      <td>DCD341726</td>\n",
       "      <td>Gargoyles #6</td>\n",
       "      <td>1</td>\n",
       "      <td>2012-06-22 14:11:37</td>\n",
       "      <td>00593</td>\n",
       "      <td>Gargoyles (SLG)</td>\n",
       "      <td>Gargoyles</td>\n",
       "    </tr>\n",
       "    <tr>\n",
       "      <th>2</th>\n",
       "      <td>4</td>\n",
       "      <td>Amaze Ink Slave Labor Graphics</td>\n",
       "      <td>DCD416182</td>\n",
       "      <td>Royal Historian of Oz #1</td>\n",
       "      <td>1</td>\n",
       "      <td>2010-07-21 14:03:07</td>\n",
       "      <td>00226</td>\n",
       "      <td>Royal Historian of Oz (SLG)</td>\n",
       "      <td>Royal Historian of Oz</td>\n",
       "    </tr>\n",
       "    <tr>\n",
       "      <th>3</th>\n",
       "      <td>5</td>\n",
       "      <td>Amaze Ink Slave Labor Graphics</td>\n",
       "      <td>DCD416182</td>\n",
       "      <td>Royal Historian of Oz #1</td>\n",
       "      <td>1</td>\n",
       "      <td>2010-07-14 19:49:40</td>\n",
       "      <td>00399</td>\n",
       "      <td>Royal Historian of Oz (SLG)</td>\n",
       "      <td>Royal Historian of Oz</td>\n",
       "    </tr>\n",
       "    <tr>\n",
       "      <th>4</th>\n",
       "      <td>6</td>\n",
       "      <td>Amaze Ink Slave Labor Graphics</td>\n",
       "      <td>DCD416182</td>\n",
       "      <td>Royal Historian of Oz #1</td>\n",
       "      <td>1</td>\n",
       "      <td>2010-07-19 10:39:04</td>\n",
       "      <td>00237</td>\n",
       "      <td>Royal Historian of Oz (SLG)</td>\n",
       "      <td>Royal Historian of Oz</td>\n",
       "    </tr>\n",
       "  </tbody>\n",
       "</table>\n",
       "</div>"
      ],
      "text/plain": [
       "   index                       publisher    item_id             title_and_num  \\\n",
       "0      2  Amaze Ink Slave Labor Graphics  DCD151935           Filler Bunny #2   \n",
       "1      3  Amaze Ink Slave Labor Graphics  DCD341726              Gargoyles #6   \n",
       "2      4  Amaze Ink Slave Labor Graphics  DCD416182  Royal Historian of Oz #1   \n",
       "3      5  Amaze Ink Slave Labor Graphics  DCD416182  Royal Historian of Oz #1   \n",
       "4      6  Amaze Ink Slave Labor Graphics  DCD416182  Royal Historian of Oz #1   \n",
       "\n",
       "   qty_sold           date_sold account_num                  comic_title  \\\n",
       "0         1 2011-08-14 18:01:03       00174           Filler Bunny (SLG)   \n",
       "1         1 2012-06-22 14:11:37       00593              Gargoyles (SLG)   \n",
       "2         1 2010-07-21 14:03:07       00226  Royal Historian of Oz (SLG)   \n",
       "3         1 2010-07-14 19:49:40       00399  Royal Historian of Oz (SLG)   \n",
       "4         1 2010-07-19 10:39:04       00237  Royal Historian of Oz (SLG)   \n",
       "\n",
       "                   title  \n",
       "0           Filler Bunny  \n",
       "1              Gargoyles  \n",
       "2  Royal Historian of Oz  \n",
       "3  Royal Historian of Oz  \n",
       "4  Royal Historian of Oz  "
      ]
     },
     "execution_count": 15,
     "metadata": {},
     "output_type": "execute_result"
    }
   ],
   "source": [
    "temp_df.head()"
   ]
  },
  {
   "cell_type": "code",
   "execution_count": 16,
   "metadata": {},
   "outputs": [],
   "source": [
    "temp_df['title'] = (temp_df['title'].apply(lambda x: x.replace('&', 'and'))\n",
    "                    .apply(lambda x: x.replace('?', ''))\n",
    "                    .apply(lambda x: x.replace('/', ' '))\n",
    "                    )"
   ]
  },
  {
   "cell_type": "markdown",
   "metadata": {},
   "source": [
    "### We need to track the titles that need scraping."
   ]
  },
  {
   "cell_type": "code",
   "execution_count": 17,
   "metadata": {},
   "outputs": [],
   "source": [
    "titles = list(temp_df['title'].unique())"
   ]
  },
  {
   "cell_type": "code",
   "execution_count": 18,
   "metadata": {},
   "outputs": [],
   "source": [
    "titles_test = titles[:2]"
   ]
  },
  {
   "cell_type": "code",
   "execution_count": 19,
   "metadata": {},
   "outputs": [
    {
     "data": {
      "text/plain": [
       "['Filler Bunny', 'Gargoyles']"
      ]
     },
     "execution_count": 19,
     "metadata": {},
     "output_type": "execute_result"
    }
   ],
   "source": [
    "titles_test"
   ]
  },
  {
   "cell_type": "code",
   "execution_count": 21,
   "metadata": {},
   "outputs": [
    {
     "name": "stdout",
     "output_type": "stream",
     "text": [
      "Scraped 0.Filler Bunny!\n",
      "Scraped 1.Gargoyles!\n",
      "Total Runtime: 25.25 seconds\n"
     ]
    }
   ],
   "source": [
    "cs.scrape_series_covers(browser, titles_test)"
   ]
  },
  {
   "cell_type": "code",
   "execution_count": null,
   "metadata": {},
   "outputs": [],
   "source": []
  },
  {
   "cell_type": "code",
   "execution_count": null,
   "metadata": {},
   "outputs": [],
   "source": [
    "titles_test"
   ]
  },
  {
   "cell_type": "code",
   "execution_count": null,
   "metadata": {},
   "outputs": [],
   "source": [
    "test_title = 'Vampironica'"
   ]
  },
  {
   "cell_type": "code",
   "execution_count": null,
   "metadata": {},
   "outputs": [],
   "source": [
    "search_title(browser, test_title)"
   ]
  },
  {
   "cell_type": "code",
   "execution_count": null,
   "metadata": {},
   "outputs": [],
   "source": [
    "click_first_link(browser, test_title, True)"
   ]
  },
  {
   "cell_type": "code",
   "execution_count": null,
   "metadata": {},
   "outputs": [],
   "source": [
    "go_cover_gallery(browser)"
   ]
  },
  {
   "cell_type": "code",
   "execution_count": null,
   "metadata": {},
   "outputs": [],
   "source": [
    "click_first_image(browser)"
   ]
  },
  {
   "cell_type": "code",
   "execution_count": null,
   "metadata": {},
   "outputs": [],
   "source": [
    "click_cover_image(browser)"
   ]
  },
  {
   "cell_type": "code",
   "execution_count": null,
   "metadata": {},
   "outputs": [],
   "source": [
    "    \"\"\"\n",
    "Find the cover image and click it!\"\"\"\n",
    "cover_img_path = ('/html/body/table/tbody/tr[2]/td[3]/table/tbody/tr/' + \n",
    "                  'td/table[1]/tbody/tr[1]/td[1]/a[1]/img')"
   ]
  },
  {
   "cell_type": "code",
   "execution_count": null,
   "metadata": {},
   "outputs": [],
   "source": [
    "cover_img = browser.find_element_by_xpath(cover_img_path)"
   ]
  },
  {
   "cell_type": "code",
   "execution_count": null,
   "metadata": {},
   "outputs": [],
   "source": [
    "cover_img.click()"
   ]
  },
  {
   "cell_type": "code",
   "execution_count": null,
   "metadata": {},
   "outputs": [],
   "source": [
    "#    cover_img.click()\n",
    "url = cover_img.get_attribute('src')"
   ]
  },
  {
   "cell_type": "code",
   "execution_count": null,
   "metadata": {},
   "outputs": [],
   "source": [
    "cover_img.get_attribute"
   ]
  },
  {
   "cell_type": "code",
   "execution_count": null,
   "metadata": {},
   "outputs": [],
   "source": [
    "print(url)"
   ]
  },
  {
   "cell_type": "code",
   "execution_count": null,
   "metadata": {},
   "outputs": [],
   "source": [
    "cover_box_path = '/html/body/table/tbody/tr[2]/td[3]/table/tbody/tr/td/table[1]/tbody/tr[1]/td[1]/a[1]'\n",
    "\n",
    "cover_box = browser.find_element_by_xpath(cover_box_path)"
   ]
  },
  {
   "cell_type": "code",
   "execution_count": null,
   "metadata": {},
   "outputs": [],
   "source": [
    "url = cover_box.get_attribute('href')"
   ]
  },
  {
   "cell_type": "code",
   "execution_count": null,
   "metadata": {},
   "outputs": [],
   "source": []
  },
  {
   "cell_type": "code",
   "execution_count": null,
   "metadata": {},
   "outputs": [],
   "source": [
    "save_large_image(browser, test_title)"
   ]
  },
  {
   "cell_type": "markdown",
   "metadata": {},
   "source": [
    "### Update the code to scrape the large images."
   ]
  },
  {
   "cell_type": "code",
   "execution_count": null,
   "metadata": {},
   "outputs": [],
   "source": [
    "def scrape_series_covers(browser, titles):\n",
    "    \"\"\"Use Selenium to scrape images for comic book titles\"\"\"\n",
    "    start_time = time.time()\n",
    "\n",
    "    for idx, title in enumerate(titles):\n",
    "        # Search for the title\n",
    "        search_title(browser, title)\n",
    "        if not no_results_found(browser):\n",
    "            # Once on search results, just select first issue of results\n",
    "            click_first_link(browser, title, True)\n",
    "\n",
    "            # Go to the cover gallery of issue page\n",
    "            go_cover_gallery(browser)\n",
    "\n",
    "            # Once in cover gallery, just scrape the first image\n",
    "            try:\n",
    "#                 get_first_image(browser, title)\n",
    "                click_first_image(browser)\n",
    "                click_cover_image(browser)\n",
    "                save_large_image(browser, title)\n",
    "                print(\"Scraped {}.{}!\".format(idx, title))\n",
    "            except NoSuchElementException:\n",
    "                print(\"{}.{} was skipped. No covers were found.\"\n",
    "                      .format(idx, title))\n",
    "\n",
    "                # Go back to homepage so can do it again!\n",
    "                # go_back_home_comicbookdb(browser)\n",
    "        else:\n",
    "            print(\"{}.{} was skipped. No title matched.\".format(idx, title))\n",
    "            # Wait random time\n",
    "            time.sleep(2 + random.random()*5)\n",
    "\n",
    "    print('Total Runtime: {:.2f} seconds'.format(time.time() - start_time))\n",
    "\n",
    "#     print(\"All done!\")"
   ]
  },
  {
   "cell_type": "code",
   "execution_count": null,
   "metadata": {},
   "outputs": [],
   "source": [
    "def no_results_found(browser):\n",
    "    \"\"\"Return no result found if path fails\"\"\"\n",
    "    xpath = '/html/body/table/tbody/tr[2]/td[3]'\n",
    "    result = browser.find_element_by_xpath(xpath)\n",
    "    return result.text == 'No results found.'"
   ]
  },
  {
   "cell_type": "code",
   "execution_count": null,
   "metadata": {},
   "outputs": [],
   "source": [
    "def search_title(browser, title):\n",
    "    \"\"\"\n",
    "    Given Selenium browser obj and a comic title to search for\n",
    "    Enter title into search box and Search\n",
    "    \"\"\"\n",
    "    # Find search box and enter search text\n",
    "    text_area = browser.find_element_by_id('form_search')\n",
    "    text_area.send_keys(Keys.CONTROL, \"a\")\n",
    "    text_area.send_keys(title)\n",
    "\n",
    "    # Find Search type dropdown and make sure it says 'Title'\n",
    "    search_type = Select(browser.find_element_by_name('form_searchtype'))\n",
    "    search_type.select_by_value('Title')\n",
    "\n",
    "    # Push the search button!\n",
    "    sb_xpath = ('/html/body/table/tbody/tr[2]/td[1]' +\n",
    "                '/table/tbody/tr[4]/td/form/input[2]')\n",
    "    search_button = browser.find_element_by_xpath(sb_xpath)\n",
    "    search_button.click()"
   ]
  },
  {
   "cell_type": "code",
   "execution_count": null,
   "metadata": {},
   "outputs": [],
   "source": [
    "def search_site(browser, title):\n",
    "    \"\"\"\n",
    "    Given Selenium browser obj and a comic title to search for\n",
    "    Enter title into search box and Search\n",
    "    \"\"\"\n",
    "    # Find search box and enter search text\n",
    "    text_area = browser.find_element_by_id('form_search')\n",
    "    text_area.send_keys(Keys.CONTROL, \"a\")\n",
    "    text_area.send_keys(title)\n",
    "\n",
    "    # Find Search type dropdown and make sure it says 'Title'\n",
    "    # Push the search button!\n",
    "    sb_xpath = ('/html/body/table/tbody/tr[2]/td[1]' +\n",
    "                '/table/tbody/tr[4]/td/form/input[2]')\n",
    "    search_button = browser.find_element_by_xpath(sb_xpath)\n",
    "    search_button.click()"
   ]
  },
  {
   "cell_type": "code",
   "execution_count": null,
   "metadata": {},
   "outputs": [],
   "source": [
    "def click_first_link(browser, title, title_search_flag):\n",
    "    \"\"\"\n",
    "    Find first issue link and click it\n",
    "    \"\"\"\n",
    "    # Find first issue link in search results\n",
    "    if title_search_flag:\n",
    "        x_path = '/html/body/table/tbody/tr[2]/td[3]/a[1]'\n",
    "    else:\n",
    "        x_path = '/html/body/table/tbody/tr[2]/td[3]/table/tbody/tr/td/a[1]'\n",
    "\n",
    "    first_issue_link = browser.find_element_by_xpath(x_path)\n",
    "\n",
    "    # Click\n",
    "    first_issue_link.click()"
   ]
  },
  {
   "cell_type": "code",
   "execution_count": null,
   "metadata": {},
   "outputs": [],
   "source": [
    "def go_cover_gallery(browser):\n",
    "    \"\"\"\n",
    "    Click on Cover Gallery button\n",
    "    \"\"\"\n",
    "    gb_xpath = (\"/html/body/table/tbody/tr[2]/td[3]/table[1]\" +\n",
    "                \"/tbody/tr/td/a[4]/img\"\n",
    "                )\n",
    "    gb_xpath = '//a[img/@src=\"graphics/button_title_covergallery.gif\"]'\n",
    "\n",
    "    gallery_btn = browser.find_element_by_xpath(gb_xpath)\n",
    "    gallery_btn.click()"
   ]
  },
  {
   "cell_type": "code",
   "execution_count": null,
   "metadata": {},
   "outputs": [],
   "source": [
    "def click_first_image(browser):\n",
    "    \"\"\"\n",
    "    Find first image in cover gallery and click it!\n",
    "    \"\"\"\n",
    "    # Find first image\n",
    "    first_img_path = ('/html/body/table/tbody/tr[2]/td[3]/' +\n",
    "                      'table/tbody/tr[1]/td[1]/a/img')\n",
    "    first_img = browser.find_element_by_xpath(first_img_path)   \n",
    "    first_img.click()\n",
    "\n",
    "def click_cover_image(browser):\n",
    "    \"\"\"\n",
    "    Find the cover image and click it!\"\"\"\n",
    "    cover_img_path = ('/html/body/table/tbody/tr[2]/td[3]/table/tbody/tr/' + \n",
    "                      'td/table[1]/tbody/tr[1]/td[1]/a[1]/img')\n",
    "    cover_img = browser.find_element_by_xpath(cover_img_path)\n",
    "    cover_img.click()\n",
    "#     url = cover_img.get\n",
    "\n",
    "def save_large_image(browser, title):\n",
    "    \"\"\"\n",
    "    Assuming you are on page with large cover image, scrape it\n",
    "    \"\"\"\n",
    "#     cover_img_path = ('/html/body/img')\n",
    "#     cover_img = browser.find_element_by_xpath(cover_img_path)    \n",
    "\n",
    "    cover_box_path = ('/html/body/table/tbody/tr[2]/td[3]/table/tbody/tr/' + \n",
    "                      'td/table[1]/tbody/tr[1]/td[1]/a[1]')\n",
    "    cover_box = browser.find_element_by_xpath(cover_box_path)\n",
    "    url = cover_box.get_attribute('href')\n",
    "    \n",
    "    # Construct path and file name\n",
    "    filename = ('./raw_data/covers_large/' + title.replace(' ', '_').lower()\n",
    "                + '.jpg'\n",
    "                )\n",
    "\n",
    "    # Save the file in the file/path\n",
    "    scrape_image_url(url, filename)\n",
    "    \n",
    "\n",
    "def scrape_image_url(url, filename):\n",
    "    \"\"\"Save an image element as filename\"\"\"\n",
    "    response = requests.get(url)\n",
    "    img_data = response.content\n",
    "    with open(filename, 'wb') as f:\n",
    "        f.write(img_data)"
   ]
  },
  {
   "cell_type": "code",
   "execution_count": null,
   "metadata": {},
   "outputs": [],
   "source": [
    "def get_first_image(browser, title):\n",
    "    \"\"\"\n",
    "    Find first image in cover gallery and scrape it!\n",
    "    \"\"\"\n",
    "    # Find first image\n",
    "    first_img_path = ('/html/body/table/tbody/tr[2]/td[3]/' +\n",
    "                      'table/tbody/tr[1]/td[1]/a/img')\n",
    "    first_img = browser.find_element_by_xpath(first_img_path)\n",
    "    \n",
    "    \n",
    "    # Construct path and file name\n",
    "    filename = ('./raw_data/covers/' + title.replace(' ', '_').lower()\n",
    "                + '.jpg'\n",
    "                )\n",
    "\n",
    "    # Save the file in the file/path\n",
    "    scrape_image(first_img, filename)\n",
    "\n",
    "    return"
   ]
  },
  {
   "cell_type": "code",
   "execution_count": null,
   "metadata": {},
   "outputs": [],
   "source": [
    "def scrape_image(img, filename):\n",
    "    \"\"\"Save an image element as filename\"\"\"\n",
    "    response = requests.get(img.get_attribute('src'))\n",
    "    img_data = response.content\n",
    "    with open(filename, 'wb') as f:\n",
    "        f.write(img_data)"
   ]
  },
  {
   "cell_type": "code",
   "execution_count": null,
   "metadata": {},
   "outputs": [],
   "source": [
    "def go_back_home_comicbookdb(browser):\n",
    "    \"\"\"Go directly back to comicbookdb.com home via logolink\"\"\"\n",
    "    # Find image link to go back home\n",
    "    home_pg_xpath = ('/html/body/table/tbody/tr[1]/td/table/tbody' +\n",
    "                     '/tr[1]/td/table/tbody/tr/td[1]/a/img')\n",
    "    logo_btn = browser.find_element_by_xpath(home_pg_xpath)\n",
    "\n",
    "    # Click!\n",
    "    logo_btn.click()"
   ]
  },
  {
   "cell_type": "code",
   "execution_count": null,
   "metadata": {},
   "outputs": [],
   "source": []
  },
  {
   "cell_type": "code",
   "execution_count": null,
   "metadata": {},
   "outputs": [],
   "source": [
    "sample_titles = titles[:300]"
   ]
  },
  {
   "cell_type": "code",
   "execution_count": null,
   "metadata": {},
   "outputs": [],
   "source": [
    "sample_titles"
   ]
  },
  {
   "cell_type": "markdown",
   "metadata": {},
   "source": [
    "Get list, sorted by qty sold"
   ]
  },
  {
   "cell_type": "code",
   "execution_count": null,
   "metadata": {},
   "outputs": [],
   "source": [
    "qtys = temp_df.groupby(['title'], as_index=False).qty_sold.sum(\n",
    ").sort_values(by=['qty_sold'], ascending=False)"
   ]
  },
  {
   "cell_type": "code",
   "execution_count": null,
   "metadata": {},
   "outputs": [],
   "source": [
    "qtys.head()"
   ]
  },
  {
   "cell_type": "markdown",
   "metadata": {},
   "source": [
    "#### ...And scraping periodically fails. Have manually tracked the 'stopping' point."
   ]
  },
  {
   "cell_type": "code",
   "execution_count": null,
   "metadata": {},
   "outputs": [],
   "source": [
    "done_titles = titles[:300]"
   ]
  },
  {
   "cell_type": "code",
   "execution_count": null,
   "metadata": {},
   "outputs": [],
   "source": [
    "titles_needed_df = qtys.loc[~qtys['title'].isin(done_titles)]"
   ]
  },
  {
   "cell_type": "code",
   "execution_count": null,
   "metadata": {},
   "outputs": [],
   "source": [
    "titles_needed_df.shape"
   ]
  },
  {
   "cell_type": "code",
   "execution_count": null,
   "metadata": {},
   "outputs": [],
   "source": [
    "titles_need_list = list(titles_needed_df.title.unique())"
   ]
  },
  {
   "cell_type": "code",
   "execution_count": null,
   "metadata": {},
   "outputs": [],
   "source": [
    "# 367+246+151\n",
    "827+151+376+524+5+47+1662+3+162+155+15+295+927+143+60"
   ]
  },
  {
   "cell_type": "code",
   "execution_count": null,
   "metadata": {},
   "outputs": [],
   "source": [
    "new_start = 5352  # 1932"
   ]
  },
  {
   "cell_type": "code",
   "execution_count": null,
   "metadata": {},
   "outputs": [],
   "source": [
    "titles_searching = titles_need_list[new_start:]"
   ]
  },
  {
   "cell_type": "code",
   "execution_count": null,
   "metadata": {},
   "outputs": [],
   "source": [
    "titles_searching"
   ]
  },
  {
   "cell_type": "markdown",
   "metadata": {},
   "source": [
    "## It's the Scraping."
   ]
  },
  {
   "cell_type": "code",
   "execution_count": null,
   "metadata": {
    "scrolled": true
   },
   "outputs": [],
   "source": [
    "# for title in sample_titles:\n",
    "# #     print(title)\n",
    "cs.scrape_series_covers(browser, titles_searching)"
   ]
  }
 ],
 "metadata": {
  "kernelspec": {
   "display_name": "Python 3",
   "language": "python",
   "name": "python3"
  },
  "language_info": {
   "codemirror_mode": {
    "name": "ipython",
    "version": 3
   },
   "file_extension": ".py",
   "mimetype": "text/x-python",
   "name": "python",
   "nbconvert_exporter": "python",
   "pygments_lexer": "ipython3",
   "version": "3.6.6"
  }
 },
 "nbformat": 4,
 "nbformat_minor": 2
}
