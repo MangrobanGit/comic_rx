{
 "cells": [
  {
   "cell_type": "markdown",
   "metadata": {},
   "source": [
    "### Goal: Build functions to create user and rating matrices for creating recommendations for new users."
   ]
  },
  {
   "cell_type": "code",
   "execution_count": 1,
   "metadata": {},
   "outputs": [],
   "source": [
    "import pandas as pd\n",
    "import numpy as np"
   ]
  },
  {
   "cell_type": "code",
   "execution_count": 2,
   "metadata": {},
   "outputs": [],
   "source": [
    "pd.set_option('display.max_colwidth', -1)"
   ]
  },
  {
   "cell_type": "markdown",
   "metadata": {},
   "source": [
    "## Get modeled item factors"
   ]
  },
  {
   "cell_type": "code",
   "execution_count": 3,
   "metadata": {},
   "outputs": [],
   "source": [
    "comic_factors = pd.read_pickle('support_data/comics_factors_20190916.pkl')"
   ]
  },
  {
   "cell_type": "markdown",
   "metadata": {},
   "source": [
    "## Get user's comics\n",
    "\n",
    "Run through a few ID's and get lay of the land"
   ]
  },
  {
   "cell_type": "code",
   "execution_count": 4,
   "metadata": {},
   "outputs": [],
   "source": [
    "comic_ids = [2171, 2637]"
   ]
  },
  {
   "cell_type": "code",
   "execution_count": 5,
   "metadata": {},
   "outputs": [
    {
     "data": {
      "text/plain": [
       "features       [0.0, 0.0, 0.0, 0.0, 0.7724556922912598, 0.0, 0.0, 0.0, 0.0, 0.0, 0.08149779587984085, 0.0, 0.0, 0.2823905050754547, 0.0, 0.0, 0.0, 0.22249548137187958, 0.13321615755558014, 0.0, 0.0, 0.0, 0.0, 0.0, 0.16317979991436005, 0.047810930758714676, 0.0, 0.39404574036598206, 0.5858305096626282, 0.15400823950767517]\n",
       "comic_title    Fables (Vertigo)                                                                                                                                                                                                                                                                                                    \n",
       "img_url        https://comrx.s3-us-west-2.amazonaws.com/covers_large/fables.jpg                                                                                                                                                                                                                                                    \n",
       "Name: 2171, dtype: object"
      ]
     },
     "execution_count": 5,
     "metadata": {},
     "output_type": "execute_result"
    }
   ],
   "source": [
    "comic_factors.loc[2171]"
   ]
  },
  {
   "cell_type": "code",
   "execution_count": 6,
   "metadata": {},
   "outputs": [
    {
     "data": {
      "text/plain": [
       "features       [0.0, 0.0, 0.0, 0.0, 0.0, 0.0, 0.12191954255104065, 0.0, 0.8011226654052734, 0.0, 0.04013441130518913, 0.0, 0.028866415843367577, 0.0, 0.015712112188339233, 0.23378580808639526, 0.0, 0.1483168751001358, 0.0, 0.0, 0.0, 0.0, 0.0, 0.0, 0.23967689275741577, 0.8150233626365662, 0.0025834161788225174, 0.0, 0.029867107048630714, 0.0012574304128065705]\n",
       "comic_title    Gideon Falls (Image)                                                                                                                                                                                                                                                                                                                                      \n",
       "img_url        https://comrx.s3-us-west-2.amazonaws.com/covers_large/gideon_falls.jpg                                                                                                                                                                                                                                                                                    \n",
       "Name: 2637, dtype: object"
      ]
     },
     "execution_count": 6,
     "metadata": {},
     "output_type": "execute_result"
    }
   ],
   "source": [
    "comic_factors.loc[2637]"
   ]
  },
  {
   "cell_type": "markdown",
   "metadata": {},
   "source": [
    "## Support Functions"
   ]
  },
  {
   "cell_type": "code",
   "execution_count": 7,
   "metadata": {},
   "outputs": [],
   "source": [
    "def create_user_item_matrix(comic_ids, comic_factors):\n",
    "    \"\"\"\n",
    "    Given list of user's comic preferences\n",
    "    and a pandas df with item (comic) factors\n",
    "    create a item matrix for the user\n",
    "    \"\"\"\n",
    "    # Get rank\n",
    "    num_latent_factors = len(comic_factors.features.iloc[0])\n",
    "\n",
    "    # Initialize matrix\n",
    "    comics_mtx = np.zeros(shape=(len(comic_ids), num_latent_factors))\n",
    "\n",
    "    for index, comic in enumerate(comic_ids):\n",
    "        comics_mtx[index, :] = np.array(comic_factors.loc[comic, 'features'])\n",
    "\n",
    "    return comics_mtx"
   ]
  },
  {
   "cell_type": "markdown",
   "metadata": {},
   "source": [
    "##### Let's test"
   ]
  },
  {
   "cell_type": "code",
   "execution_count": 8,
   "metadata": {},
   "outputs": [],
   "source": [
    "item_mtx = create_user_item_matrix(comic_ids=comic_ids,\n",
    "                                   comic_factors=comic_factors)"
   ]
  },
  {
   "cell_type": "code",
   "execution_count": 9,
   "metadata": {},
   "outputs": [
    {
     "data": {
      "text/plain": [
       "(2, 30)"
      ]
     },
     "execution_count": 9,
     "metadata": {},
     "output_type": "execute_result"
    }
   ],
   "source": [
    "item_mtx.shape"
   ]
  },
  {
   "cell_type": "code",
   "execution_count": 10,
   "metadata": {},
   "outputs": [],
   "source": [
    "def create_user_impl_rate_matrix(comic_ids, ratings_list=None):\n",
    "    \"\"\"\n",
    "    Given item matrix\n",
    "    create implicit ratings matrix\n",
    "    \"\"\"\n",
    "    if ratings_list is None:\n",
    "        n = len(comic_ids)\n",
    "        imp_rat_mtx = np.ones((n, 1), 'int')\n",
    "    else:\n",
    "        imp_rat_mtx = np.array((ratings_list, )).T\n",
    "\n",
    "    return imp_rat_mtx"
   ]
  },
  {
   "cell_type": "markdown",
   "metadata": {},
   "source": [
    "##### Let's test"
   ]
  },
  {
   "cell_type": "code",
   "execution_count": 11,
   "metadata": {},
   "outputs": [],
   "source": [
    "rate_mtx = create_user_impl_rate_matrix(comic_ids=comic_ids, )"
   ]
  },
  {
   "cell_type": "code",
   "execution_count": 12,
   "metadata": {},
   "outputs": [
    {
     "data": {
      "text/plain": [
       "array([[1],\n",
       "       [1]])"
      ]
     },
     "execution_count": 12,
     "metadata": {},
     "output_type": "execute_result"
    }
   ],
   "source": [
    "rate_mtx"
   ]
  },
  {
   "cell_type": "code",
   "execution_count": 13,
   "metadata": {},
   "outputs": [],
   "source": [
    "def create_user_util_matrix(comics_matrix, user_rating_matrix):\n",
    "\n",
    "    util_mtx = np.linalg.lstsq(comics_matrix, user_rating_matrix, rcond=None)\n",
    "\n",
    "    # We just want the factors\n",
    "    util_mtx = util_mtx[0].reshape((comics_matrix.shape[1], ))\n",
    "\n",
    "    return util_mtx"
   ]
  },
  {
   "cell_type": "markdown",
   "metadata": {},
   "source": [
    "##### Let's test"
   ]
  },
  {
   "cell_type": "code",
   "execution_count": 14,
   "metadata": {},
   "outputs": [],
   "source": [
    "util_mtx = create_user_util_matrix(comics_matrix=item_mtx,\n",
    "                                   user_rating_matrix=rate_mtx)"
   ]
  },
  {
   "cell_type": "code",
   "execution_count": 15,
   "metadata": {},
   "outputs": [
    {
     "data": {
      "text/plain": [
       "array([0.        , 0.        , 0.        , 0.        , 0.54481941,\n",
       "       0.        , 0.07580164, 0.        , 0.49808597, 0.        ,\n",
       "       0.08243404, 0.        , 0.01794726, 0.19917237, 0.00976877,\n",
       "       0.14535281, 0.        , 0.2491417 , 0.09395846, 0.        ,\n",
       "       0.        , 0.        , 0.        , 0.        , 0.26410757,\n",
       "       0.54044997, 0.0016062 , 0.27792373, 0.43176054, 0.10940508])"
      ]
     },
     "execution_count": 15,
     "metadata": {},
     "output_type": "execute_result"
    }
   ],
   "source": [
    "util_mtx"
   ]
  },
  {
   "cell_type": "code",
   "execution_count": 16,
   "metadata": {},
   "outputs": [
    {
     "data": {
      "text/plain": [
       "(30,)"
      ]
     },
     "execution_count": 16,
     "metadata": {},
     "output_type": "execute_result"
    }
   ],
   "source": [
    "util_mtx.shape"
   ]
  },
  {
   "cell_type": "markdown",
   "metadata": {},
   "source": [
    "## Candidate Functions"
   ]
  },
  {
   "cell_type": "code",
   "execution_count": 17,
   "metadata": {},
   "outputs": [],
   "source": [
    "def make_n_comic_recommendations(comics, comic_factors, top_n):\n",
    "    # Create item matrix\n",
    "    comic_matrix = create_user_item_matrix(comic_ids=comics,\n",
    "                                           comic_factors=comic_factors)\n",
    "\n",
    "    # Create user matrix\n",
    "    user_matrix = create_user_impl_rate_matrix(comic_ids=comics)\n",
    "\n",
    "    # Create utility matrix\n",
    "    utility_matrix = create_user_util_matrix(comic_matrix, user_matrix)\n",
    "\n",
    "    # Update comic_factors dataframe for this user -> predicted scores!\n",
    "    cf = comic_factors.copy()\n",
    "    u = utility_matrix\n",
    "    cf['pred'] = cf['features'].apply(lambda x: np.dot(x, u))\n",
    "\n",
    "    # Get recommendations\n",
    "    top_n_df = cf.sort_values(by=['pred'], ascending=False).head(top_n).copy()\n",
    "    top_n_df.reset_index(inplace=True)\n",
    "    top_n_df = top_n_df.loc[:, ['comic_id', 'comic_title', 'img_url']].copy()\n",
    "\n",
    "    return top_n_df"
   ]
  },
  {
   "cell_type": "code",
   "execution_count": 18,
   "metadata": {},
   "outputs": [],
   "source": [
    "# This one, include score so can compare preds\n",
    "def make_n_comic_recommendations_dev(comics, comic_factors, top_n):\n",
    "    # Create item matrix\n",
    "    comic_matrix = create_user_item_matrix(comic_ids=comics,\n",
    "                                           comic_factors=comic_factors\n",
    "                                           )\n",
    "\n",
    "    # Create user matrix\n",
    "    user_matrix = create_user_impl_rate_matrix(comic_ids=comics)\n",
    "\n",
    "    # Create utility matrix\n",
    "    utility_matrix = create_user_util_matrix(comic_matrix, user_matrix)\n",
    "\n",
    "    # Update comic_factors dataframe for this user -> predicted scores!\n",
    "    cf = comic_factors.copy()\n",
    "    u = utility_matrix\n",
    "    cf['pred'] = cf['features'].apply(lambda x: np.dot(x, u))\n",
    "\n",
    "    # Get recommendations\n",
    "    top_n_df = cf.sort_values(by=['pred'], ascending=False).head(top_n).copy()\n",
    "    top_n_df.reset_index(inplace=True)\n",
    "    top_n_df = ( top_n_df.loc[:, ['comic_id', 'comic_title', 'img_url', 'pred']]\n",
    "                .copy())\n",
    "\n",
    "    return top_n_df"
   ]
  },
  {
   "cell_type": "code",
   "execution_count": 51,
   "metadata": {},
   "outputs": [],
   "source": [
    "def make_n_comic_recommendations(comics, comic_factors, top_n):\n",
    "    \"\"\"\n",
    "    Make n comic recommendations\n",
    "    Parameters\n",
    "    ----------\n",
    "    comics = list of comic ids (integers)\n",
    "    comic_factors = pandas dataframe with comic factors\n",
    "    top_n = integer, # of comic recommendations desired by user\n",
    "    Results\n",
    "    -------\n",
    "    Pandas Dataframe of n comic recommendations, sorted descending\n",
    "    by utility\n",
    "    \"\"\"\n",
    "    # Create item matrix\n",
    "    comic_matrix = create_user_item_matrix(comic_ids=comics,\n",
    "                                           comic_factors=comic_factors\n",
    "                                           )\n",
    "    # Create user matrix\n",
    "    user_matrix = create_user_impl_rate_matrix(comic_ids=comics)\n",
    "    # Create utility matrix\n",
    "    utility_matrix = create_user_util_matrix(comic_matrix, user_matrix)\n",
    "\n",
    "    # Update comic_factors dataframe for this user -> predicted scores!\n",
    "    cf = comic_factors.copy()\n",
    "    u = utility_matrix\n",
    "    cf['pred'] = cf['features'].apply(lambda x: np.dot(x, u))\n",
    "\n",
    "    # Get recommendations\n",
    "    top_n_df = cf.sort_values(by=['pred'], ascending=False).head(top_n+3).copy()\n",
    "    top_n_df.reset_index(inplace=True)\n",
    "    top_n_df = top_n_df.loc[:, ['comic_id', 'comic_title', 'img_url', 'pred']].copy()\n",
    "    top_n_df = top_n_df[~top_n_df['comic_id'].isin(comics)].head(top_n).copy()\n",
    "\n",
    "    return top_n_df"
   ]
  },
  {
   "cell_type": "markdown",
   "metadata": {},
   "source": [
    "##### Let's test"
   ]
  },
  {
   "cell_type": "code",
   "execution_count": 33,
   "metadata": {},
   "outputs": [
    {
     "data": {
      "text/plain": [
       "[2171, 2637]"
      ]
     },
     "execution_count": 33,
     "metadata": {},
     "output_type": "execute_result"
    }
   ],
   "source": [
    "comic_ids"
   ]
  },
  {
   "cell_type": "code",
   "execution_count": 41,
   "metadata": {},
   "outputs": [
    {
     "data": {
      "text/html": [
       "<div>\n",
       "<style scoped>\n",
       "    .dataframe tbody tr th:only-of-type {\n",
       "        vertical-align: middle;\n",
       "    }\n",
       "\n",
       "    .dataframe tbody tr th {\n",
       "        vertical-align: top;\n",
       "    }\n",
       "\n",
       "    .dataframe thead th {\n",
       "        text-align: right;\n",
       "    }\n",
       "</style>\n",
       "<table border=\"1\" class=\"dataframe\">\n",
       "  <thead>\n",
       "    <tr style=\"text-align: right;\">\n",
       "      <th></th>\n",
       "      <th>comic_id</th>\n",
       "      <th>comic_title</th>\n",
       "      <th>img_url</th>\n",
       "      <th>pred</th>\n",
       "    </tr>\n",
       "  </thead>\n",
       "  <tbody>\n",
       "    <tr>\n",
       "      <td>0</td>\n",
       "      <td>2171</td>\n",
       "      <td>Fables (Vertigo)</td>\n",
       "      <td>https://comrx.s3-us-west-2.amazonaws.com/covers_large/fables.jpg</td>\n",
       "      <td>1.000000</td>\n",
       "    </tr>\n",
       "    <tr>\n",
       "      <td>1</td>\n",
       "      <td>2637</td>\n",
       "      <td>Gideon Falls (Image)</td>\n",
       "      <td>https://comrx.s3-us-west-2.amazonaws.com/covers_large/gideon_falls.jpg</td>\n",
       "      <td>1.000000</td>\n",
       "    </tr>\n",
       "    <tr>\n",
       "      <td>2</td>\n",
       "      <td>5177</td>\n",
       "      <td>Royal City (Image)</td>\n",
       "      <td>https://comrx.s3-us-west-2.amazonaws.com/covers_large/royal_city.jpg</td>\n",
       "      <td>0.939948</td>\n",
       "    </tr>\n",
       "    <tr>\n",
       "      <td>3</td>\n",
       "      <td>88</td>\n",
       "      <td>Ad After Death Book 02 (of 3 (Image)</td>\n",
       "      <td>https://comrx.s3-us-west-2.amazonaws.com/covers_large/_no_cover_.jpg</td>\n",
       "      <td>0.885665</td>\n",
       "    </tr>\n",
       "    <tr>\n",
       "      <td>4</td>\n",
       "      <td>804</td>\n",
       "      <td>Black Hammer (Dark Horse)</td>\n",
       "      <td>https://comrx.s3-us-west-2.amazonaws.com/covers_large/black_hammer.jpg</td>\n",
       "      <td>0.876073</td>\n",
       "    </tr>\n",
       "    <tr>\n",
       "      <td>...</td>\n",
       "      <td>...</td>\n",
       "      <td>...</td>\n",
       "      <td>...</td>\n",
       "      <td>...</td>\n",
       "    </tr>\n",
       "    <tr>\n",
       "      <td>785</td>\n",
       "      <td>1718</td>\n",
       "      <td>Deadpools Art of War (Marvel)</td>\n",
       "      <td>https://comrx.s3-us-west-2.amazonaws.com/covers_large/_no_cover_.jpg</td>\n",
       "      <td>0.000995</td>\n",
       "    </tr>\n",
       "    <tr>\n",
       "      <td>786</td>\n",
       "      <td>3355</td>\n",
       "      <td>Inhumanity Spider-Man (Marvel)</td>\n",
       "      <td>https://comrx.s3-us-west-2.amazonaws.com/covers_large/inhumanity_spider-man.jpg</td>\n",
       "      <td>0.000940</td>\n",
       "    </tr>\n",
       "    <tr>\n",
       "      <td>787</td>\n",
       "      <td>2977</td>\n",
       "      <td>Hawkeye Vs Deadpool (Marvel)</td>\n",
       "      <td>https://comrx.s3-us-west-2.amazonaws.com/covers_large/hawkeye_vs_deadpool.jpg</td>\n",
       "      <td>0.000309</td>\n",
       "    </tr>\n",
       "    <tr>\n",
       "      <td>788</td>\n",
       "      <td>3479</td>\n",
       "      <td>Jem &amp; the Holograms (IDW)</td>\n",
       "      <td>https://comrx.s3-us-west-2.amazonaws.com/covers_large/jem_and_the_holograms.jpg</td>\n",
       "      <td>0.000000</td>\n",
       "    </tr>\n",
       "    <tr>\n",
       "      <td>789</td>\n",
       "      <td>4094</td>\n",
       "      <td>Marvel Rising Ms Marvel Squir (Marvel)</td>\n",
       "      <td>https://comrx.s3-us-west-2.amazonaws.com/covers_large/marvel_rising_ms_marvel_squir.jpg</td>\n",
       "      <td>0.000000</td>\n",
       "    </tr>\n",
       "  </tbody>\n",
       "</table>\n",
       "<p>790 rows × 4 columns</p>\n",
       "</div>"
      ],
      "text/plain": [
       "     comic_id                             comic_title  \\\n",
       "0    2171      Fables (Vertigo)                         \n",
       "1    2637      Gideon Falls (Image)                     \n",
       "2    5177      Royal City (Image)                       \n",
       "3    88        Ad After Death Book 02 (of 3 (Image)     \n",
       "4    804       Black Hammer (Dark Horse)                \n",
       "..   ...                             ...                \n",
       "785  1718      Deadpools Art of War (Marvel)            \n",
       "786  3355      Inhumanity Spider-Man (Marvel)           \n",
       "787  2977      Hawkeye Vs Deadpool (Marvel)             \n",
       "788  3479      Jem & the Holograms (IDW)                \n",
       "789  4094      Marvel Rising Ms Marvel Squir (Marvel)   \n",
       "\n",
       "                                                                                     img_url  \\\n",
       "0    https://comrx.s3-us-west-2.amazonaws.com/covers_large/fables.jpg                          \n",
       "1    https://comrx.s3-us-west-2.amazonaws.com/covers_large/gideon_falls.jpg                    \n",
       "2    https://comrx.s3-us-west-2.amazonaws.com/covers_large/royal_city.jpg                      \n",
       "3    https://comrx.s3-us-west-2.amazonaws.com/covers_large/_no_cover_.jpg                      \n",
       "4    https://comrx.s3-us-west-2.amazonaws.com/covers_large/black_hammer.jpg                    \n",
       "..                                                                      ...                    \n",
       "785  https://comrx.s3-us-west-2.amazonaws.com/covers_large/_no_cover_.jpg                      \n",
       "786  https://comrx.s3-us-west-2.amazonaws.com/covers_large/inhumanity_spider-man.jpg           \n",
       "787  https://comrx.s3-us-west-2.amazonaws.com/covers_large/hawkeye_vs_deadpool.jpg             \n",
       "788  https://comrx.s3-us-west-2.amazonaws.com/covers_large/jem_and_the_holograms.jpg           \n",
       "789  https://comrx.s3-us-west-2.amazonaws.com/covers_large/marvel_rising_ms_marvel_squir.jpg   \n",
       "\n",
       "         pred  \n",
       "0    1.000000  \n",
       "1    1.000000  \n",
       "2    0.939948  \n",
       "3    0.885665  \n",
       "4    0.876073  \n",
       "..        ...  \n",
       "785  0.000995  \n",
       "786  0.000940  \n",
       "787  0.000309  \n",
       "788  0.000000  \n",
       "789  0.000000  \n",
       "\n",
       "[790 rows x 4 columns]"
      ]
     },
     "execution_count": 41,
     "metadata": {},
     "output_type": "execute_result"
    }
   ],
   "source": [
    "t_df"
   ]
  },
  {
   "cell_type": "code",
   "execution_count": 38,
   "metadata": {},
   "outputs": [],
   "source": [
    "all_recs = t_df['comic_id'].to_list()"
   ]
  },
  {
   "cell_type": "code",
   "execution_count": 40,
   "metadata": {},
   "outputs": [
    {
     "data": {
      "text/plain": [
       "[2171, 2637]"
      ]
     },
     "execution_count": 40,
     "metadata": {},
     "output_type": "execute_result"
    }
   ],
   "source": [
    "list(set(comic_ids).intersection(set(all_recs)))"
   ]
  },
  {
   "cell_type": "code",
   "execution_count": 28,
   "metadata": {},
   "outputs": [],
   "source": [
    "t_df = make_n_comic_recommendations_dev(comics=comic_ids,\n",
    "                                        comic_factors=comic_factors,\n",
    "                                        top_n=10000)"
   ]
  },
  {
   "cell_type": "code",
   "execution_count": 29,
   "metadata": {},
   "outputs": [],
   "source": [
    "t_df = make_n_comic_recommendations(comics=comic_ids,\n",
    "                                        comic_factors=comic_factors,\n",
    "                                        top_n=10000)"
   ]
  },
  {
   "cell_type": "code",
   "execution_count": 30,
   "metadata": {},
   "outputs": [
    {
     "data": {
      "text/html": [
       "<div>\n",
       "<style scoped>\n",
       "    .dataframe tbody tr th:only-of-type {\n",
       "        vertical-align: middle;\n",
       "    }\n",
       "\n",
       "    .dataframe tbody tr th {\n",
       "        vertical-align: top;\n",
       "    }\n",
       "\n",
       "    .dataframe thead th {\n",
       "        text-align: right;\n",
       "    }\n",
       "</style>\n",
       "<table border=\"1\" class=\"dataframe\">\n",
       "  <thead>\n",
       "    <tr style=\"text-align: right;\">\n",
       "      <th></th>\n",
       "      <th>comic_id</th>\n",
       "      <th>comic_title</th>\n",
       "      <th>img_url</th>\n",
       "      <th>pred</th>\n",
       "    </tr>\n",
       "  </thead>\n",
       "  <tbody>\n",
       "    <tr>\n",
       "      <td>0</td>\n",
       "      <td>2171</td>\n",
       "      <td>Fables (Vertigo)</td>\n",
       "      <td>https://comrx.s3-us-west-2.amazonaws.com/covers_large/fables.jpg</td>\n",
       "      <td>1.0</td>\n",
       "    </tr>\n",
       "    <tr>\n",
       "      <td>1</td>\n",
       "      <td>2637</td>\n",
       "      <td>Gideon Falls (Image)</td>\n",
       "      <td>https://comrx.s3-us-west-2.amazonaws.com/covers_large/gideon_falls.jpg</td>\n",
       "      <td>1.0</td>\n",
       "    </tr>\n",
       "  </tbody>\n",
       "</table>\n",
       "</div>"
      ],
      "text/plain": [
       "   comic_id           comic_title  \\\n",
       "0  2171      Fables (Vertigo)       \n",
       "1  2637      Gideon Falls (Image)   \n",
       "\n",
       "                                                                  img_url  \\\n",
       "0  https://comrx.s3-us-west-2.amazonaws.com/covers_large/fables.jpg         \n",
       "1  https://comrx.s3-us-west-2.amazonaws.com/covers_large/gideon_falls.jpg   \n",
       "\n",
       "   pred  \n",
       "0  1.0   \n",
       "1  1.0   "
      ]
     },
     "execution_count": 30,
     "metadata": {},
     "output_type": "execute_result"
    }
   ],
   "source": [
    "t_df.loc[t_df['comic_id'].isin(comic_ids)]"
   ]
  },
  {
   "cell_type": "markdown",
   "metadata": {},
   "source": [
    "Well, the model definitely got the actuals correct!\n",
    "\n",
    "What about other preferred?"
   ]
  },
  {
   "cell_type": "code",
   "execution_count": 31,
   "metadata": {},
   "outputs": [
    {
     "data": {
      "text/html": [
       "<div>\n",
       "<style scoped>\n",
       "    .dataframe tbody tr th:only-of-type {\n",
       "        vertical-align: middle;\n",
       "    }\n",
       "\n",
       "    .dataframe tbody tr th {\n",
       "        vertical-align: top;\n",
       "    }\n",
       "\n",
       "    .dataframe thead th {\n",
       "        text-align: right;\n",
       "    }\n",
       "</style>\n",
       "<table border=\"1\" class=\"dataframe\">\n",
       "  <thead>\n",
       "    <tr style=\"text-align: right;\">\n",
       "      <th></th>\n",
       "      <th>comic_id</th>\n",
       "      <th>comic_title</th>\n",
       "      <th>img_url</th>\n",
       "      <th>pred</th>\n",
       "    </tr>\n",
       "  </thead>\n",
       "  <tbody>\n",
       "    <tr>\n",
       "      <td>0</td>\n",
       "      <td>2171</td>\n",
       "      <td>Fables (Vertigo)</td>\n",
       "      <td>https://comrx.s3-us-west-2.amazonaws.com/covers_large/fables.jpg</td>\n",
       "      <td>1.000000</td>\n",
       "    </tr>\n",
       "    <tr>\n",
       "      <td>1</td>\n",
       "      <td>2637</td>\n",
       "      <td>Gideon Falls (Image)</td>\n",
       "      <td>https://comrx.s3-us-west-2.amazonaws.com/covers_large/gideon_falls.jpg</td>\n",
       "      <td>1.000000</td>\n",
       "    </tr>\n",
       "    <tr>\n",
       "      <td>2</td>\n",
       "      <td>5177</td>\n",
       "      <td>Royal City (Image)</td>\n",
       "      <td>https://comrx.s3-us-west-2.amazonaws.com/covers_large/royal_city.jpg</td>\n",
       "      <td>0.939948</td>\n",
       "    </tr>\n",
       "    <tr>\n",
       "      <td>3</td>\n",
       "      <td>88</td>\n",
       "      <td>Ad After Death Book 02 (of 3 (Image)</td>\n",
       "      <td>https://comrx.s3-us-west-2.amazonaws.com/covers_large/_no_cover_.jpg</td>\n",
       "      <td>0.885665</td>\n",
       "    </tr>\n",
       "    <tr>\n",
       "      <td>4</td>\n",
       "      <td>804</td>\n",
       "      <td>Black Hammer (Dark Horse)</td>\n",
       "      <td>https://comrx.s3-us-west-2.amazonaws.com/covers_large/black_hammer.jpg</td>\n",
       "      <td>0.876073</td>\n",
       "    </tr>\n",
       "    <tr>\n",
       "      <td>5</td>\n",
       "      <td>87</td>\n",
       "      <td>Ad After Death Book 01 (of 3 (Image)</td>\n",
       "      <td>https://comrx.s3-us-west-2.amazonaws.com/covers_large/_no_cover_.jpg</td>\n",
       "      <td>0.842826</td>\n",
       "    </tr>\n",
       "    <tr>\n",
       "      <td>6</td>\n",
       "      <td>375</td>\n",
       "      <td>Ascender (Image)</td>\n",
       "      <td>https://comrx.s3-us-west-2.amazonaws.com/covers_large/ascender.jpg</td>\n",
       "      <td>0.822348</td>\n",
       "    </tr>\n",
       "    <tr>\n",
       "      <td>7</td>\n",
       "      <td>3700</td>\n",
       "      <td>Kill Or Be Killed (Image)</td>\n",
       "      <td>https://comrx.s3-us-west-2.amazonaws.com/covers_large/kill_or_be_killed.jpg</td>\n",
       "      <td>0.801815</td>\n",
       "    </tr>\n",
       "    <tr>\n",
       "      <td>8</td>\n",
       "      <td>542</td>\n",
       "      <td>Barrier (Image)</td>\n",
       "      <td>https://comrx.s3-us-west-2.amazonaws.com/covers_large/barrier.jpg</td>\n",
       "      <td>0.797027</td>\n",
       "    </tr>\n",
       "    <tr>\n",
       "      <td>9</td>\n",
       "      <td>3856</td>\n",
       "      <td>Leviathan (Image)</td>\n",
       "      <td>https://comrx.s3-us-west-2.amazonaws.com/covers_large/leviathan.jpg</td>\n",
       "      <td>0.779517</td>\n",
       "    </tr>\n",
       "    <tr>\n",
       "      <td>10</td>\n",
       "      <td>2174</td>\n",
       "      <td>Fairest (Vertigo)</td>\n",
       "      <td>https://comrx.s3-us-west-2.amazonaws.com/covers_large/fairest.jpg</td>\n",
       "      <td>0.769540</td>\n",
       "    </tr>\n",
       "    <tr>\n",
       "      <td>11</td>\n",
       "      <td>1401</td>\n",
       "      <td>Criminal (Image)</td>\n",
       "      <td>https://comrx.s3-us-west-2.amazonaws.com/covers_large/criminal.jpg</td>\n",
       "      <td>0.754673</td>\n",
       "    </tr>\n",
       "    <tr>\n",
       "      <td>12</td>\n",
       "      <td>4678</td>\n",
       "      <td>Outer Darkness (Image)</td>\n",
       "      <td>https://comrx.s3-us-west-2.amazonaws.com/covers_large/outer_darkness.jpg</td>\n",
       "      <td>0.744329</td>\n",
       "    </tr>\n",
       "    <tr>\n",
       "      <td>13</td>\n",
       "      <td>244</td>\n",
       "      <td>American Vampire (Vertigo)</td>\n",
       "      <td>https://comrx.s3-us-west-2.amazonaws.com/covers_large/american_vampire.jpg</td>\n",
       "      <td>0.741369</td>\n",
       "    </tr>\n",
       "    <tr>\n",
       "      <td>14</td>\n",
       "      <td>1233</td>\n",
       "      <td>Cinderella Fables Are Foreve (Vertigo)</td>\n",
       "      <td>https://comrx.s3-us-west-2.amazonaws.com/covers_large/cinderella_fables_are_foreve.jpg</td>\n",
       "      <td>0.739870</td>\n",
       "    </tr>\n",
       "    <tr>\n",
       "      <td>15</td>\n",
       "      <td>3920</td>\n",
       "      <td>Locke &amp; Key Small Worl (IDW)</td>\n",
       "      <td>https://comrx.s3-us-west-2.amazonaws.com/covers_large/_no_cover_.jpg</td>\n",
       "      <td>0.737507</td>\n",
       "    </tr>\n",
       "    <tr>\n",
       "      <td>16</td>\n",
       "      <td>241</td>\n",
       "      <td>American Vampire Lord of Nigh (Vertigo)</td>\n",
       "      <td>https://comrx.s3-us-west-2.amazonaws.com/covers_large/american_vampire_lord_of_nigh.jpg</td>\n",
       "      <td>0.729686</td>\n",
       "    </tr>\n",
       "    <tr>\n",
       "      <td>17</td>\n",
       "      <td>2950</td>\n",
       "      <td>Harrow County (Dark Horse)</td>\n",
       "      <td>https://comrx.s3-us-west-2.amazonaws.com/covers_large/harrow_county.jpg</td>\n",
       "      <td>0.728086</td>\n",
       "    </tr>\n",
       "    <tr>\n",
       "      <td>18</td>\n",
       "      <td>4987</td>\n",
       "      <td>Redlands (Image)</td>\n",
       "      <td>https://comrx.s3-us-west-2.amazonaws.com/covers_large/redlands.jpg</td>\n",
       "      <td>0.725713</td>\n",
       "    </tr>\n",
       "    <tr>\n",
       "      <td>19</td>\n",
       "      <td>89</td>\n",
       "      <td>Ad After Death Book 03 (of 3 (Image)</td>\n",
       "      <td>https://comrx.s3-us-west-2.amazonaws.com/covers_large/_no_cover_.jpg</td>\n",
       "      <td>0.718490</td>\n",
       "    </tr>\n",
       "  </tbody>\n",
       "</table>\n",
       "</div>"
      ],
      "text/plain": [
       "    comic_id                              comic_title  \\\n",
       "0   2171      Fables (Vertigo)                          \n",
       "1   2637      Gideon Falls (Image)                      \n",
       "2   5177      Royal City (Image)                        \n",
       "3   88        Ad After Death Book 02 (of 3 (Image)      \n",
       "4   804       Black Hammer (Dark Horse)                 \n",
       "5   87        Ad After Death Book 01 (of 3 (Image)      \n",
       "6   375       Ascender (Image)                          \n",
       "7   3700      Kill Or Be Killed (Image)                 \n",
       "8   542       Barrier (Image)                           \n",
       "9   3856      Leviathan (Image)                         \n",
       "10  2174      Fairest (Vertigo)                         \n",
       "11  1401      Criminal (Image)                          \n",
       "12  4678      Outer Darkness (Image)                    \n",
       "13  244       American Vampire (Vertigo)                \n",
       "14  1233      Cinderella Fables Are Foreve (Vertigo)    \n",
       "15  3920      Locke & Key Small Worl (IDW)              \n",
       "16  241       American Vampire Lord of Nigh (Vertigo)   \n",
       "17  2950      Harrow County (Dark Horse)                \n",
       "18  4987      Redlands (Image)                          \n",
       "19  89        Ad After Death Book 03 (of 3 (Image)      \n",
       "\n",
       "                                                                                    img_url  \\\n",
       "0   https://comrx.s3-us-west-2.amazonaws.com/covers_large/fables.jpg                          \n",
       "1   https://comrx.s3-us-west-2.amazonaws.com/covers_large/gideon_falls.jpg                    \n",
       "2   https://comrx.s3-us-west-2.amazonaws.com/covers_large/royal_city.jpg                      \n",
       "3   https://comrx.s3-us-west-2.amazonaws.com/covers_large/_no_cover_.jpg                      \n",
       "4   https://comrx.s3-us-west-2.amazonaws.com/covers_large/black_hammer.jpg                    \n",
       "5   https://comrx.s3-us-west-2.amazonaws.com/covers_large/_no_cover_.jpg                      \n",
       "6   https://comrx.s3-us-west-2.amazonaws.com/covers_large/ascender.jpg                        \n",
       "7   https://comrx.s3-us-west-2.amazonaws.com/covers_large/kill_or_be_killed.jpg               \n",
       "8   https://comrx.s3-us-west-2.amazonaws.com/covers_large/barrier.jpg                         \n",
       "9   https://comrx.s3-us-west-2.amazonaws.com/covers_large/leviathan.jpg                       \n",
       "10  https://comrx.s3-us-west-2.amazonaws.com/covers_large/fairest.jpg                         \n",
       "11  https://comrx.s3-us-west-2.amazonaws.com/covers_large/criminal.jpg                        \n",
       "12  https://comrx.s3-us-west-2.amazonaws.com/covers_large/outer_darkness.jpg                  \n",
       "13  https://comrx.s3-us-west-2.amazonaws.com/covers_large/american_vampire.jpg                \n",
       "14  https://comrx.s3-us-west-2.amazonaws.com/covers_large/cinderella_fables_are_foreve.jpg    \n",
       "15  https://comrx.s3-us-west-2.amazonaws.com/covers_large/_no_cover_.jpg                      \n",
       "16  https://comrx.s3-us-west-2.amazonaws.com/covers_large/american_vampire_lord_of_nigh.jpg   \n",
       "17  https://comrx.s3-us-west-2.amazonaws.com/covers_large/harrow_county.jpg                   \n",
       "18  https://comrx.s3-us-west-2.amazonaws.com/covers_large/redlands.jpg                        \n",
       "19  https://comrx.s3-us-west-2.amazonaws.com/covers_large/_no_cover_.jpg                      \n",
       "\n",
       "        pred  \n",
       "0   1.000000  \n",
       "1   1.000000  \n",
       "2   0.939948  \n",
       "3   0.885665  \n",
       "4   0.876073  \n",
       "5   0.842826  \n",
       "6   0.822348  \n",
       "7   0.801815  \n",
       "8   0.797027  \n",
       "9   0.779517  \n",
       "10  0.769540  \n",
       "11  0.754673  \n",
       "12  0.744329  \n",
       "13  0.741369  \n",
       "14  0.739870  \n",
       "15  0.737507  \n",
       "16  0.729686  \n",
       "17  0.728086  \n",
       "18  0.725713  \n",
       "19  0.718490  "
      ]
     },
     "execution_count": 31,
     "metadata": {},
     "output_type": "execute_result"
    }
   ],
   "source": [
    "t_df.sort_values(by=['pred'],ascending=False).head(20)"
   ]
  },
  {
   "cell_type": "markdown",
   "metadata": {},
   "source": [
    "### Get recommendations!\n"
   ]
  },
  {
   "cell_type": "code",
   "execution_count": 42,
   "metadata": {},
   "outputs": [],
   "source": [
    "top_n = 8"
   ]
  },
  {
   "cell_type": "code",
   "execution_count": 52,
   "metadata": {},
   "outputs": [
    {
     "data": {
      "text/html": [
       "<div>\n",
       "<style scoped>\n",
       "    .dataframe tbody tr th:only-of-type {\n",
       "        vertical-align: middle;\n",
       "    }\n",
       "\n",
       "    .dataframe tbody tr th {\n",
       "        vertical-align: top;\n",
       "    }\n",
       "\n",
       "    .dataframe thead th {\n",
       "        text-align: right;\n",
       "    }\n",
       "</style>\n",
       "<table border=\"1\" class=\"dataframe\">\n",
       "  <thead>\n",
       "    <tr style=\"text-align: right;\">\n",
       "      <th></th>\n",
       "      <th>comic_id</th>\n",
       "      <th>comic_title</th>\n",
       "      <th>img_url</th>\n",
       "      <th>pred</th>\n",
       "    </tr>\n",
       "  </thead>\n",
       "  <tbody>\n",
       "    <tr>\n",
       "      <td>2</td>\n",
       "      <td>5177</td>\n",
       "      <td>Royal City (Image)</td>\n",
       "      <td>https://comrx.s3-us-west-2.amazonaws.com/covers_large/royal_city.jpg</td>\n",
       "      <td>0.939948</td>\n",
       "    </tr>\n",
       "    <tr>\n",
       "      <td>3</td>\n",
       "      <td>88</td>\n",
       "      <td>Ad After Death Book 02 (of 3 (Image)</td>\n",
       "      <td>https://comrx.s3-us-west-2.amazonaws.com/covers_large/_no_cover_.jpg</td>\n",
       "      <td>0.885665</td>\n",
       "    </tr>\n",
       "    <tr>\n",
       "      <td>4</td>\n",
       "      <td>804</td>\n",
       "      <td>Black Hammer (Dark Horse)</td>\n",
       "      <td>https://comrx.s3-us-west-2.amazonaws.com/covers_large/black_hammer.jpg</td>\n",
       "      <td>0.876073</td>\n",
       "    </tr>\n",
       "    <tr>\n",
       "      <td>5</td>\n",
       "      <td>87</td>\n",
       "      <td>Ad After Death Book 01 (of 3 (Image)</td>\n",
       "      <td>https://comrx.s3-us-west-2.amazonaws.com/covers_large/_no_cover_.jpg</td>\n",
       "      <td>0.842826</td>\n",
       "    </tr>\n",
       "    <tr>\n",
       "      <td>6</td>\n",
       "      <td>375</td>\n",
       "      <td>Ascender (Image)</td>\n",
       "      <td>https://comrx.s3-us-west-2.amazonaws.com/covers_large/ascender.jpg</td>\n",
       "      <td>0.822348</td>\n",
       "    </tr>\n",
       "    <tr>\n",
       "      <td>7</td>\n",
       "      <td>3700</td>\n",
       "      <td>Kill Or Be Killed (Image)</td>\n",
       "      <td>https://comrx.s3-us-west-2.amazonaws.com/covers_large/kill_or_be_killed.jpg</td>\n",
       "      <td>0.801815</td>\n",
       "    </tr>\n",
       "    <tr>\n",
       "      <td>8</td>\n",
       "      <td>542</td>\n",
       "      <td>Barrier (Image)</td>\n",
       "      <td>https://comrx.s3-us-west-2.amazonaws.com/covers_large/barrier.jpg</td>\n",
       "      <td>0.797027</td>\n",
       "    </tr>\n",
       "    <tr>\n",
       "      <td>9</td>\n",
       "      <td>3856</td>\n",
       "      <td>Leviathan (Image)</td>\n",
       "      <td>https://comrx.s3-us-west-2.amazonaws.com/covers_large/leviathan.jpg</td>\n",
       "      <td>0.779517</td>\n",
       "    </tr>\n",
       "  </tbody>\n",
       "</table>\n",
       "</div>"
      ],
      "text/plain": [
       "   comic_id                           comic_title  \\\n",
       "2  5177      Royal City (Image)                     \n",
       "3  88        Ad After Death Book 02 (of 3 (Image)   \n",
       "4  804       Black Hammer (Dark Horse)              \n",
       "5  87        Ad After Death Book 01 (of 3 (Image)   \n",
       "6  375       Ascender (Image)                       \n",
       "7  3700      Kill Or Be Killed (Image)              \n",
       "8  542       Barrier (Image)                        \n",
       "9  3856      Leviathan (Image)                      \n",
       "\n",
       "                                                                       img_url  \\\n",
       "2  https://comrx.s3-us-west-2.amazonaws.com/covers_large/royal_city.jpg          \n",
       "3  https://comrx.s3-us-west-2.amazonaws.com/covers_large/_no_cover_.jpg          \n",
       "4  https://comrx.s3-us-west-2.amazonaws.com/covers_large/black_hammer.jpg        \n",
       "5  https://comrx.s3-us-west-2.amazonaws.com/covers_large/_no_cover_.jpg          \n",
       "6  https://comrx.s3-us-west-2.amazonaws.com/covers_large/ascender.jpg            \n",
       "7  https://comrx.s3-us-west-2.amazonaws.com/covers_large/kill_or_be_killed.jpg   \n",
       "8  https://comrx.s3-us-west-2.amazonaws.com/covers_large/barrier.jpg             \n",
       "9  https://comrx.s3-us-west-2.amazonaws.com/covers_large/leviathan.jpg           \n",
       "\n",
       "       pred  \n",
       "2  0.939948  \n",
       "3  0.885665  \n",
       "4  0.876073  \n",
       "5  0.842826  \n",
       "6  0.822348  \n",
       "7  0.801815  \n",
       "8  0.797027  \n",
       "9  0.779517  "
      ]
     },
     "execution_count": 52,
     "metadata": {},
     "output_type": "execute_result"
    }
   ],
   "source": [
    "results = make_n_comic_recommendations(comic_ids, comic_factors, top_n)\n",
    "\n",
    "results"
   ]
  },
  {
   "cell_type": "code",
   "execution_count": null,
   "metadata": {},
   "outputs": [],
   "source": []
  }
 ],
 "metadata": {
  "kernelspec": {
   "display_name": "Python 3",
   "language": "python",
   "name": "python3"
  },
  "language_info": {
   "codemirror_mode": {
    "name": "ipython",
    "version": 3
   },
   "file_extension": ".py",
   "mimetype": "text/x-python",
   "name": "python",
   "nbconvert_exporter": "python",
   "pygments_lexer": "ipython3",
   "version": "3.6.9"
  }
 },
 "nbformat": 4,
 "nbformat_minor": 2
}
