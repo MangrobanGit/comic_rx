{
 "cells": [
  {
   "cell_type": "markdown",
   "metadata": {},
   "source": [
    "### Goal: Build functions to create user and rating matrices for creating recommendations for new users."
   ]
  },
  {
   "cell_type": "code",
   "execution_count": 1,
   "metadata": {},
   "outputs": [],
   "source": [
    "import pandas as pd\n",
    "import numpy as np"
   ]
  },
  {
   "cell_type": "code",
   "execution_count": 2,
   "metadata": {},
   "outputs": [],
   "source": [
    "pd.set_option('display.max_colwidth', -1)"
   ]
  },
  {
   "cell_type": "markdown",
   "metadata": {},
   "source": [
    "## Get modeled item factors"
   ]
  },
  {
   "cell_type": "code",
   "execution_count": 3,
   "metadata": {},
   "outputs": [],
   "source": [
    "comic_factors = pd.read_pickle('support_data/comics_factors_20190922.pkl')"
   ]
  },
  {
   "cell_type": "markdown",
   "metadata": {},
   "source": [
    "## Get user's comics\n",
    "\n",
    "Run through a few ID's and get lay of the land"
   ]
  },
  {
   "cell_type": "code",
   "execution_count": 4,
   "metadata": {},
   "outputs": [],
   "source": [
    "comic_ids = [2171, 2637]"
   ]
  },
  {
   "cell_type": "code",
   "execution_count": 5,
   "metadata": {},
   "outputs": [
    {
     "data": {
      "text/plain": [
       "features       [0.342639684677124, 0.03126022219657898, 0.0, 0.0, 0.0, 0.045879755169153214, 0.17573542892932892, 0.0, 0.0, 0.0, 0.0, 0.05083069950342178, 0.05866716429591179, 0.28402474522590637, 0.06713326275348663, 0.0, 0.0, 0.07417029142379761, 0.08532290160655975, 0.02406342327594757, 0.0, 0.07196555286645889, 0.03717091679573059, 0.0, 0.0, 0.07209593802690506, 0.0, 0.0, 0.0, 0.0, 0.0, 0.0, 0.10203561186790466, 0.04380370303988457, 0.0, 0.0, 0.9630250930786133, 0.011226463131606579, 0.1936074048280716, 0.0, 0.0, 0.07123088091611862, 0.0, 0.026249762624502182, 0.0, 0.0, 0.0, 0.0, 0.03487923741340637, 0.05583704262971878, 0.0, 0.0, 0.16586895287036896, 0.0, 0.0, 0.0, 0.0, 0.0, 0.04705991595983505, 0.0, 0.0, 0.0, 0.04671696573495865, 0.0, 0.04685097932815552, 0.13326099514961243, 0.012874503619968891, 0.0, 0.21109816431999207, 0.0, 0.09588998556137085, 0.07766803354024887, 0.0, 0.09917107969522476, 0.17262506484985352]\n",
       "comic_title    Fables (Vertigo)                                                                                                                                                                                                                                                                                                                                                                                                                                                                                                                                                                                                                                                                                                                                                                                                                                                                                                                                       \n",
       "img_url        https://comrx.s3-us-west-2.amazonaws.com/covers_large/fables.jpg                                                                                                                                                                                                                                                                                                                                                                                                                                                                                                                                                                                                                                                                                                                                                                                                                                                                                       \n",
       "Name: 2171, dtype: object"
      ]
     },
     "execution_count": 5,
     "metadata": {},
     "output_type": "execute_result"
    }
   ],
   "source": [
    "comic_factors.loc[2171]"
   ]
  },
  {
   "cell_type": "code",
   "execution_count": 6,
   "metadata": {},
   "outputs": [
    {
     "data": {
      "text/plain": [
       "features       [0.0, 0.0, 0.08305294811725616, 0.012130191549658775, 0.0, 0.0, 0.0031040313187986612, 0.0289621502161026, 0.34123972058296204, 0.0, 0.0, 0.0, 0.0, 0.0, 0.0, 0.0, 0.10401508957147598, 0.04464671388268471, 0.6006190776824951, 0.0, 0.026817915961146355, 0.0, 0.4803149700164795, 0.04294275864958763, 0.003088663099333644, 0.0, 0.0, 0.05587412044405937, 0.0, 0.0977565124630928, 0.0, 0.05319792777299881, 0.07775762677192688, 0.01118086650967598, 0.0, 0.0, 0.08575610816478729, 0.0, 0.0, 0.0, 0.08722236007452011, 0.0, 0.0, 0.0, 0.0, 0.05645575001835823, 0.6026164293289185, 0.0, 0.0, 0.0, 0.05969555303454399, 0.020829834043979645, 0.0, 0.0, 0.06889747083187103, 0.0, 0.0, 0.0, 0.008961442857980728, 0.04409479349851608, 0.0, 0.04654395207762718, 0.0, 0.29225966334342957, 0.028942612931132317, 0.043887875974178314, 0.0, 0.0024360367096960545, 0.0, 0.0, 0.0, 0.2581982910633087, 0.0, 0.15150916576385498, 0.10771816223859787]\n",
       "comic_title    Gideon Falls (Image)                                                                                                                                                                                                                                                                                                                                                                                                                                                                                                                                                                                                                                                                                                                                                                                                                                                                                                                                        \n",
       "img_url        https://comrx.s3-us-west-2.amazonaws.com/covers_large/gideon_falls.jpg                                                                                                                                                                                                                                                                                                                                                                                                                                                                                                                                                                                                                                                                                                                                                                                                                                                                                      \n",
       "Name: 2637, dtype: object"
      ]
     },
     "execution_count": 6,
     "metadata": {},
     "output_type": "execute_result"
    }
   ],
   "source": [
    "comic_factors.loc[2637]"
   ]
  },
  {
   "cell_type": "markdown",
   "metadata": {},
   "source": [
    "## Support Functions"
   ]
  },
  {
   "cell_type": "code",
   "execution_count": 7,
   "metadata": {},
   "outputs": [],
   "source": [
    "def create_user_item_matrix(comic_ids, comic_factors):\n",
    "    \"\"\"\n",
    "    Given list of user's comic preferences\n",
    "    and a pandas df with item (comic) factors\n",
    "    create a item matrix for the user\n",
    "    \"\"\"\n",
    "    # Get rank\n",
    "    num_latent_factors = len(comic_factors.features.iloc[0])\n",
    "\n",
    "    # Initialize matrix\n",
    "    comics_mtx = np.zeros(shape=(len(comic_ids), num_latent_factors))\n",
    "\n",
    "    for index, comic in enumerate(comic_ids):\n",
    "        comics_mtx[index, :] = np.array(comic_factors.loc[comic, 'features'])\n",
    "\n",
    "    return comics_mtx"
   ]
  },
  {
   "cell_type": "markdown",
   "metadata": {},
   "source": [
    "##### Let's test"
   ]
  },
  {
   "cell_type": "code",
   "execution_count": 8,
   "metadata": {},
   "outputs": [],
   "source": [
    "item_mtx = create_user_item_matrix(comic_ids=comic_ids,\n",
    "                                   comic_factors=comic_factors)"
   ]
  },
  {
   "cell_type": "code",
   "execution_count": 9,
   "metadata": {},
   "outputs": [
    {
     "data": {
      "text/plain": [
       "(2, 75)"
      ]
     },
     "execution_count": 9,
     "metadata": {},
     "output_type": "execute_result"
    }
   ],
   "source": [
    "item_mtx.shape"
   ]
  },
  {
   "cell_type": "code",
   "execution_count": 10,
   "metadata": {},
   "outputs": [],
   "source": [
    "def create_user_impl_rate_matrix(comic_ids, ratings_list=None):\n",
    "    \"\"\"\n",
    "    Given item matrix\n",
    "    create implicit ratings matrix\n",
    "    \"\"\"\n",
    "    if ratings_list is None:\n",
    "        n = len(comic_ids)\n",
    "        imp_rat_mtx = np.ones((n, 1), 'int')\n",
    "    else:\n",
    "        imp_rat_mtx = np.array((ratings_list, )).T\n",
    "\n",
    "    return imp_rat_mtx"
   ]
  },
  {
   "cell_type": "markdown",
   "metadata": {},
   "source": [
    "##### Let's test"
   ]
  },
  {
   "cell_type": "code",
   "execution_count": 11,
   "metadata": {},
   "outputs": [],
   "source": [
    "rate_mtx = create_user_impl_rate_matrix(comic_ids=comic_ids, )"
   ]
  },
  {
   "cell_type": "code",
   "execution_count": 12,
   "metadata": {},
   "outputs": [
    {
     "data": {
      "text/plain": [
       "array([[1],\n",
       "       [1]])"
      ]
     },
     "execution_count": 12,
     "metadata": {},
     "output_type": "execute_result"
    }
   ],
   "source": [
    "rate_mtx"
   ]
  },
  {
   "cell_type": "code",
   "execution_count": 13,
   "metadata": {},
   "outputs": [],
   "source": [
    "def create_user_util_matrix(comics_matrix, user_rating_matrix):\n",
    "\n",
    "    util_mtx = np.linalg.lstsq(comics_matrix, user_rating_matrix, rcond=None)\n",
    "\n",
    "    # We just want the factors\n",
    "    util_mtx = util_mtx[0].reshape((comics_matrix.shape[1], ))\n",
    "\n",
    "    return util_mtx"
   ]
  },
  {
   "cell_type": "markdown",
   "metadata": {},
   "source": [
    "##### Let's test"
   ]
  },
  {
   "cell_type": "code",
   "execution_count": 14,
   "metadata": {},
   "outputs": [],
   "source": [
    "util_mtx = create_user_util_matrix(comics_matrix=item_mtx,\n",
    "                                   user_rating_matrix=rate_mtx)"
   ]
  },
  {
   "cell_type": "code",
   "execution_count": 15,
   "metadata": {},
   "outputs": [
    {
     "data": {
      "text/plain": [
       "array([0.20815568, 0.01899077, 0.05363835, 0.00783408, 0.        ,\n",
       "       0.02787223, 0.10876502, 0.01870472, 0.22038392, 0.        ,\n",
       "       0.        , 0.03087996, 0.03564066, 0.17254675, 0.04078386,\n",
       "       0.        , 0.06717639, 0.07389323, 0.43973388, 0.01461868,\n",
       "       0.0173199 , 0.04371951, 0.33278488, 0.02773386, 0.00199476,\n",
       "       0.04379872, 0.        , 0.03608536, 0.        , 0.06313439,\n",
       "       0.        , 0.03435698, 0.1122057 , 0.03383199, 0.        ,\n",
       "       0.        , 0.64042771, 0.00682014, 0.11761767, 0.        ,\n",
       "       0.05633109, 0.04327319, 0.        , 0.01594689, 0.        ,\n",
       "       0.03646099, 0.38918966, 0.        , 0.02118935, 0.03392134,\n",
       "       0.03855337, 0.0134526 , 0.10076639, 0.        , 0.04449627,\n",
       "       0.        , 0.        , 0.        , 0.03437678, 0.02847788,\n",
       "       0.        , 0.03005963, 0.02838084, 0.18875097, 0.04715435,\n",
       "       0.10930111, 0.00782134, 0.00157327, 0.12824341, 0.        ,\n",
       "       0.05825375, 0.21393681, 0.        , 0.15809667, 0.17443873])"
      ]
     },
     "execution_count": 15,
     "metadata": {},
     "output_type": "execute_result"
    }
   ],
   "source": [
    "util_mtx"
   ]
  },
  {
   "cell_type": "code",
   "execution_count": 16,
   "metadata": {},
   "outputs": [
    {
     "data": {
      "text/plain": [
       "(75,)"
      ]
     },
     "execution_count": 16,
     "metadata": {},
     "output_type": "execute_result"
    }
   ],
   "source": [
    "util_mtx.shape"
   ]
  },
  {
   "cell_type": "markdown",
   "metadata": {},
   "source": [
    "## Candidate Functions"
   ]
  },
  {
   "cell_type": "code",
   "execution_count": 17,
   "metadata": {},
   "outputs": [],
   "source": [
    "def make_n_comic_recommendations(comics, comic_factors, top_n):\n",
    "    # Create item matrix\n",
    "    comic_matrix = create_user_item_matrix(comic_ids=comics,\n",
    "                                           comic_factors=comic_factors)\n",
    "\n",
    "    # Create user matrix\n",
    "    user_matrix = create_user_impl_rate_matrix(comic_ids=comics)\n",
    "\n",
    "    # Create utility matrix\n",
    "    utility_matrix = create_user_util_matrix(comic_matrix, user_matrix)\n",
    "\n",
    "    # Update comic_factors dataframe for this user -> predicted scores!\n",
    "    cf = comic_factors.copy()\n",
    "    u = utility_matrix\n",
    "    cf['pred'] = cf['features'].apply(lambda x: np.dot(x, u))\n",
    "\n",
    "    # Get recommendations\n",
    "    top_n_df = cf.sort_values(by=['pred'], ascending=False).head(top_n).copy()\n",
    "    top_n_df.reset_index(inplace=True)\n",
    "    top_n_df = top_n_df.loc[:, ['comic_id', 'comic_title', 'img_url']].copy()\n",
    "\n",
    "    return top_n_df"
   ]
  },
  {
   "cell_type": "code",
   "execution_count": 18,
   "metadata": {},
   "outputs": [],
   "source": [
    "# This one, include score so can compare preds\n",
    "def make_n_comic_recommendations_dev(comics, comic_factors, top_n):\n",
    "    # Create item matrix\n",
    "    comic_matrix = create_user_item_matrix(comic_ids=comics,\n",
    "                                           comic_factors=comic_factors\n",
    "                                           )\n",
    "\n",
    "    # Create user matrix\n",
    "    user_matrix = create_user_impl_rate_matrix(comic_ids=comics)\n",
    "\n",
    "    # Create utility matrix\n",
    "    utility_matrix = create_user_util_matrix(comic_matrix, user_matrix)\n",
    "\n",
    "    # Update comic_factors dataframe for this user -> predicted scores!\n",
    "    cf = comic_factors.copy()\n",
    "    u = utility_matrix\n",
    "    cf['pred'] = cf['features'].apply(lambda x: np.dot(x, u))\n",
    "\n",
    "    # Get recommendations\n",
    "    top_n_df = cf.sort_values(by=['pred'], ascending=False).head(top_n).copy()\n",
    "    top_n_df.reset_index(inplace=True)\n",
    "    top_n_df = ( top_n_df.loc[:, ['comic_id', 'comic_title', 'img_url', 'pred']]\n",
    "                .copy())\n",
    "\n",
    "    return top_n_df"
   ]
  },
  {
   "cell_type": "code",
   "execution_count": 19,
   "metadata": {},
   "outputs": [],
   "source": [
    "def make_n_comic_recommendations(comics, comic_factors, top_n):\n",
    "    \"\"\"\n",
    "    Make n comic recommendations\n",
    "    Parameters\n",
    "    ----------\n",
    "    comics = list of comic ids (integers)\n",
    "    comic_factors = pandas dataframe with comic factors\n",
    "    top_n = integer, # of comic recommendations desired by user\n",
    "    Results\n",
    "    -------\n",
    "    Pandas Dataframe of n comic recommendations, sorted descending\n",
    "    by utility\n",
    "    \"\"\"\n",
    "    # Create item matrix\n",
    "    comic_matrix = create_user_item_matrix(comic_ids=comics,\n",
    "                                           comic_factors=comic_factors\n",
    "                                           )\n",
    "    # Create user matrix\n",
    "    user_matrix = create_user_impl_rate_matrix(comic_ids=comics)\n",
    "    # Create utility matrix\n",
    "    utility_matrix = create_user_util_matrix(comic_matrix, user_matrix)\n",
    "\n",
    "    # Update comic_factors dataframe for this user -> predicted scores!\n",
    "    cf = comic_factors.copy()\n",
    "    u = utility_matrix\n",
    "    cf['pred'] = cf['features'].apply(lambda x: np.dot(x, u))\n",
    "\n",
    "    # Get recommendations\n",
    "    top_n_df = cf.sort_values(by=['pred'], ascending=False).head(top_n+3).copy()\n",
    "    top_n_df.reset_index(inplace=True)\n",
    "    top_n_df = top_n_df.loc[:, ['comic_id', 'comic_title', 'img_url', 'pred']].copy()\n",
    "    top_n_df = top_n_df[~top_n_df['comic_id'].isin(comics)].head(top_n).copy()\n",
    "\n",
    "    return top_n_df"
   ]
  },
  {
   "cell_type": "markdown",
   "metadata": {},
   "source": [
    "##### Let's test"
   ]
  },
  {
   "cell_type": "code",
   "execution_count": 33,
   "metadata": {},
   "outputs": [
    {
     "data": {
      "text/plain": [
       "[2171, 2637]"
      ]
     },
     "execution_count": 33,
     "metadata": {},
     "output_type": "execute_result"
    }
   ],
   "source": [
    "comic_ids"
   ]
  },
  {
   "cell_type": "code",
   "execution_count": 39,
   "metadata": {},
   "outputs": [],
   "source": [
    "t_df = make_n_comic_recommendations(comics=comic_ids,\n",
    "                                        comic_factors=comic_factors,\n",
    "                                        top_n=10)"
   ]
  },
  {
   "cell_type": "code",
   "execution_count": 42,
   "metadata": {},
   "outputs": [],
   "source": [
    "all_recs = t_df['comic_id'].to_list()"
   ]
  },
  {
   "cell_type": "code",
   "execution_count": 43,
   "metadata": {},
   "outputs": [
    {
     "data": {
      "text/plain": [
       "[3917, 3908, 3913, 5177, 3912, 87, 2170, 804, 88, 375]"
      ]
     },
     "execution_count": 43,
     "metadata": {},
     "output_type": "execute_result"
    }
   ],
   "source": [
    "all_recs"
   ]
  },
  {
   "cell_type": "code",
   "execution_count": 44,
   "metadata": {},
   "outputs": [
    {
     "data": {
      "text/plain": [
       "[]"
      ]
     },
     "execution_count": 44,
     "metadata": {},
     "output_type": "execute_result"
    }
   ],
   "source": [
    "list(set(comic_ids).intersection(set(all_recs)))"
   ]
  },
  {
   "cell_type": "code",
   "execution_count": 45,
   "metadata": {},
   "outputs": [
    {
     "data": {
      "text/html": [
       "<div>\n",
       "<style scoped>\n",
       "    .dataframe tbody tr th:only-of-type {\n",
       "        vertical-align: middle;\n",
       "    }\n",
       "\n",
       "    .dataframe tbody tr th {\n",
       "        vertical-align: top;\n",
       "    }\n",
       "\n",
       "    .dataframe thead th {\n",
       "        text-align: right;\n",
       "    }\n",
       "</style>\n",
       "<table border=\"1\" class=\"dataframe\">\n",
       "  <thead>\n",
       "    <tr style=\"text-align: right;\">\n",
       "      <th></th>\n",
       "      <th>comic_id</th>\n",
       "      <th>comic_title</th>\n",
       "      <th>img_url</th>\n",
       "      <th>pred</th>\n",
       "    </tr>\n",
       "  </thead>\n",
       "  <tbody>\n",
       "  </tbody>\n",
       "</table>\n",
       "</div>"
      ],
      "text/plain": [
       "Empty DataFrame\n",
       "Columns: [comic_id, comic_title, img_url, pred]\n",
       "Index: []"
      ]
     },
     "execution_count": 45,
     "metadata": {},
     "output_type": "execute_result"
    }
   ],
   "source": [
    "t_df.loc[t_df['comic_id'].isin(comic_ids)]"
   ]
  },
  {
   "cell_type": "markdown",
   "metadata": {},
   "source": [
    "Well, the model definitely got the actuals correct!\n",
    "\n",
    "What about other preferred?"
   ]
  },
  {
   "cell_type": "code",
   "execution_count": 47,
   "metadata": {},
   "outputs": [
    {
     "data": {
      "text/html": [
       "<div>\n",
       "<style scoped>\n",
       "    .dataframe tbody tr th:only-of-type {\n",
       "        vertical-align: middle;\n",
       "    }\n",
       "\n",
       "    .dataframe tbody tr th {\n",
       "        vertical-align: top;\n",
       "    }\n",
       "\n",
       "    .dataframe thead th {\n",
       "        text-align: right;\n",
       "    }\n",
       "</style>\n",
       "<table border=\"1\" class=\"dataframe\">\n",
       "  <thead>\n",
       "    <tr style=\"text-align: right;\">\n",
       "      <th></th>\n",
       "      <th>comic_id</th>\n",
       "      <th>comic_title</th>\n",
       "      <th>img_url</th>\n",
       "      <th>pred</th>\n",
       "    </tr>\n",
       "  </thead>\n",
       "  <tbody>\n",
       "    <tr>\n",
       "      <td>2</td>\n",
       "      <td>3917</td>\n",
       "      <td>Locke &amp; Key Omega (IDW)</td>\n",
       "      <td>https://comrx.s3-us-west-2.amazonaws.com/covers_large/_no_cover_.jpg</td>\n",
       "      <td>0.825663</td>\n",
       "    </tr>\n",
       "    <tr>\n",
       "      <td>3</td>\n",
       "      <td>3908</td>\n",
       "      <td>Locke &amp; Key Alpha (IDW)</td>\n",
       "      <td>https://comrx.s3-us-west-2.amazonaws.com/covers_large/_no_cover_.jpg</td>\n",
       "      <td>0.810999</td>\n",
       "    </tr>\n",
       "    <tr>\n",
       "      <td>4</td>\n",
       "      <td>3913</td>\n",
       "      <td>Locke &amp; Key Guide To Known Ke (IDW)</td>\n",
       "      <td>https://comrx.s3-us-west-2.amazonaws.com/covers_large/_no_cover_.jpg</td>\n",
       "      <td>0.798321</td>\n",
       "    </tr>\n",
       "    <tr>\n",
       "      <td>5</td>\n",
       "      <td>5177</td>\n",
       "      <td>Royal City (Image)</td>\n",
       "      <td>https://comrx.s3-us-west-2.amazonaws.com/covers_large/royal_city.jpg</td>\n",
       "      <td>0.786595</td>\n",
       "    </tr>\n",
       "    <tr>\n",
       "      <td>6</td>\n",
       "      <td>3912</td>\n",
       "      <td>Locke &amp; Key Grindhouse One Sh (IDW)</td>\n",
       "      <td>https://comrx.s3-us-west-2.amazonaws.com/covers_large/_no_cover_.jpg</td>\n",
       "      <td>0.777381</td>\n",
       "    </tr>\n",
       "    <tr>\n",
       "      <td>7</td>\n",
       "      <td>87</td>\n",
       "      <td>Ad After Death Book 01 (of 3 (Image)</td>\n",
       "      <td>https://comrx.s3-us-west-2.amazonaws.com/covers_large/_no_cover_.jpg</td>\n",
       "      <td>0.759182</td>\n",
       "    </tr>\n",
       "    <tr>\n",
       "      <td>8</td>\n",
       "      <td>2170</td>\n",
       "      <td>Fables the Wolf Among Us (Vertigo)</td>\n",
       "      <td>https://comrx.s3-us-west-2.amazonaws.com/covers_large/fables_the_wolf_among_us.jpg</td>\n",
       "      <td>0.749015</td>\n",
       "    </tr>\n",
       "    <tr>\n",
       "      <td>9</td>\n",
       "      <td>804</td>\n",
       "      <td>Black Hammer (Dark Horse)</td>\n",
       "      <td>https://comrx.s3-us-west-2.amazonaws.com/covers_large/black_hammer.jpg</td>\n",
       "      <td>0.740564</td>\n",
       "    </tr>\n",
       "    <tr>\n",
       "      <td>10</td>\n",
       "      <td>88</td>\n",
       "      <td>Ad After Death Book 02 (of 3 (Image)</td>\n",
       "      <td>https://comrx.s3-us-west-2.amazonaws.com/covers_large/_no_cover_.jpg</td>\n",
       "      <td>0.728179</td>\n",
       "    </tr>\n",
       "    <tr>\n",
       "      <td>11</td>\n",
       "      <td>375</td>\n",
       "      <td>Ascender (Image)</td>\n",
       "      <td>https://comrx.s3-us-west-2.amazonaws.com/covers_large/ascender.jpg</td>\n",
       "      <td>0.719430</td>\n",
       "    </tr>\n",
       "  </tbody>\n",
       "</table>\n",
       "</div>"
      ],
      "text/plain": [
       "    comic_id                           comic_title  \\\n",
       "2   3917      Locke & Key Omega (IDW)                \n",
       "3   3908      Locke & Key Alpha (IDW)                \n",
       "4   3913      Locke & Key Guide To Known Ke (IDW)    \n",
       "5   5177      Royal City (Image)                     \n",
       "6   3912      Locke & Key Grindhouse One Sh (IDW)    \n",
       "7   87        Ad After Death Book 01 (of 3 (Image)   \n",
       "8   2170      Fables the Wolf Among Us (Vertigo)     \n",
       "9   804       Black Hammer (Dark Horse)              \n",
       "10  88        Ad After Death Book 02 (of 3 (Image)   \n",
       "11  375       Ascender (Image)                       \n",
       "\n",
       "                                                                               img_url  \\\n",
       "2   https://comrx.s3-us-west-2.amazonaws.com/covers_large/_no_cover_.jpg                 \n",
       "3   https://comrx.s3-us-west-2.amazonaws.com/covers_large/_no_cover_.jpg                 \n",
       "4   https://comrx.s3-us-west-2.amazonaws.com/covers_large/_no_cover_.jpg                 \n",
       "5   https://comrx.s3-us-west-2.amazonaws.com/covers_large/royal_city.jpg                 \n",
       "6   https://comrx.s3-us-west-2.amazonaws.com/covers_large/_no_cover_.jpg                 \n",
       "7   https://comrx.s3-us-west-2.amazonaws.com/covers_large/_no_cover_.jpg                 \n",
       "8   https://comrx.s3-us-west-2.amazonaws.com/covers_large/fables_the_wolf_among_us.jpg   \n",
       "9   https://comrx.s3-us-west-2.amazonaws.com/covers_large/black_hammer.jpg               \n",
       "10  https://comrx.s3-us-west-2.amazonaws.com/covers_large/_no_cover_.jpg                 \n",
       "11  https://comrx.s3-us-west-2.amazonaws.com/covers_large/ascender.jpg                   \n",
       "\n",
       "        pred  \n",
       "2   0.825663  \n",
       "3   0.810999  \n",
       "4   0.798321  \n",
       "5   0.786595  \n",
       "6   0.777381  \n",
       "7   0.759182  \n",
       "8   0.749015  \n",
       "9   0.740564  \n",
       "10  0.728179  \n",
       "11  0.719430  "
      ]
     },
     "execution_count": 47,
     "metadata": {},
     "output_type": "execute_result"
    }
   ],
   "source": [
    "t_df.sort_values(by=['pred'],ascending=False).head(20)"
   ]
  },
  {
   "cell_type": "markdown",
   "metadata": {},
   "source": [
    "### Get recommendations!\n"
   ]
  },
  {
   "cell_type": "code",
   "execution_count": 48,
   "metadata": {},
   "outputs": [],
   "source": [
    "top_n = 8"
   ]
  },
  {
   "cell_type": "code",
   "execution_count": 50,
   "metadata": {},
   "outputs": [
    {
     "data": {
      "text/html": [
       "<div>\n",
       "<style scoped>\n",
       "    .dataframe tbody tr th:only-of-type {\n",
       "        vertical-align: middle;\n",
       "    }\n",
       "\n",
       "    .dataframe tbody tr th {\n",
       "        vertical-align: top;\n",
       "    }\n",
       "\n",
       "    .dataframe thead th {\n",
       "        text-align: right;\n",
       "    }\n",
       "</style>\n",
       "<table border=\"1\" class=\"dataframe\">\n",
       "  <thead>\n",
       "    <tr style=\"text-align: right;\">\n",
       "      <th></th>\n",
       "      <th>comic_id</th>\n",
       "      <th>comic_title</th>\n",
       "      <th>img_url</th>\n",
       "      <th>pred</th>\n",
       "    </tr>\n",
       "  </thead>\n",
       "  <tbody>\n",
       "    <tr>\n",
       "      <td>2</td>\n",
       "      <td>3917</td>\n",
       "      <td>Locke &amp; Key Omega (IDW)</td>\n",
       "      <td>https://comrx.s3-us-west-2.amazonaws.com/covers_large/_no_cover_.jpg</td>\n",
       "      <td>0.825663</td>\n",
       "    </tr>\n",
       "    <tr>\n",
       "      <td>3</td>\n",
       "      <td>3908</td>\n",
       "      <td>Locke &amp; Key Alpha (IDW)</td>\n",
       "      <td>https://comrx.s3-us-west-2.amazonaws.com/covers_large/_no_cover_.jpg</td>\n",
       "      <td>0.810999</td>\n",
       "    </tr>\n",
       "    <tr>\n",
       "      <td>4</td>\n",
       "      <td>3913</td>\n",
       "      <td>Locke &amp; Key Guide To Known Ke (IDW)</td>\n",
       "      <td>https://comrx.s3-us-west-2.amazonaws.com/covers_large/_no_cover_.jpg</td>\n",
       "      <td>0.798321</td>\n",
       "    </tr>\n",
       "    <tr>\n",
       "      <td>5</td>\n",
       "      <td>5177</td>\n",
       "      <td>Royal City (Image)</td>\n",
       "      <td>https://comrx.s3-us-west-2.amazonaws.com/covers_large/royal_city.jpg</td>\n",
       "      <td>0.786595</td>\n",
       "    </tr>\n",
       "    <tr>\n",
       "      <td>6</td>\n",
       "      <td>3912</td>\n",
       "      <td>Locke &amp; Key Grindhouse One Sh (IDW)</td>\n",
       "      <td>https://comrx.s3-us-west-2.amazonaws.com/covers_large/_no_cover_.jpg</td>\n",
       "      <td>0.777381</td>\n",
       "    </tr>\n",
       "    <tr>\n",
       "      <td>7</td>\n",
       "      <td>87</td>\n",
       "      <td>Ad After Death Book 01 (of 3 (Image)</td>\n",
       "      <td>https://comrx.s3-us-west-2.amazonaws.com/covers_large/_no_cover_.jpg</td>\n",
       "      <td>0.759182</td>\n",
       "    </tr>\n",
       "    <tr>\n",
       "      <td>8</td>\n",
       "      <td>2170</td>\n",
       "      <td>Fables the Wolf Among Us (Vertigo)</td>\n",
       "      <td>https://comrx.s3-us-west-2.amazonaws.com/covers_large/fables_the_wolf_among_us.jpg</td>\n",
       "      <td>0.749015</td>\n",
       "    </tr>\n",
       "    <tr>\n",
       "      <td>9</td>\n",
       "      <td>804</td>\n",
       "      <td>Black Hammer (Dark Horse)</td>\n",
       "      <td>https://comrx.s3-us-west-2.amazonaws.com/covers_large/black_hammer.jpg</td>\n",
       "      <td>0.740564</td>\n",
       "    </tr>\n",
       "  </tbody>\n",
       "</table>\n",
       "</div>"
      ],
      "text/plain": [
       "   comic_id                           comic_title  \\\n",
       "2  3917      Locke & Key Omega (IDW)                \n",
       "3  3908      Locke & Key Alpha (IDW)                \n",
       "4  3913      Locke & Key Guide To Known Ke (IDW)    \n",
       "5  5177      Royal City (Image)                     \n",
       "6  3912      Locke & Key Grindhouse One Sh (IDW)    \n",
       "7  87        Ad After Death Book 01 (of 3 (Image)   \n",
       "8  2170      Fables the Wolf Among Us (Vertigo)     \n",
       "9  804       Black Hammer (Dark Horse)              \n",
       "\n",
       "                                                                              img_url  \\\n",
       "2  https://comrx.s3-us-west-2.amazonaws.com/covers_large/_no_cover_.jpg                 \n",
       "3  https://comrx.s3-us-west-2.amazonaws.com/covers_large/_no_cover_.jpg                 \n",
       "4  https://comrx.s3-us-west-2.amazonaws.com/covers_large/_no_cover_.jpg                 \n",
       "5  https://comrx.s3-us-west-2.amazonaws.com/covers_large/royal_city.jpg                 \n",
       "6  https://comrx.s3-us-west-2.amazonaws.com/covers_large/_no_cover_.jpg                 \n",
       "7  https://comrx.s3-us-west-2.amazonaws.com/covers_large/_no_cover_.jpg                 \n",
       "8  https://comrx.s3-us-west-2.amazonaws.com/covers_large/fables_the_wolf_among_us.jpg   \n",
       "9  https://comrx.s3-us-west-2.amazonaws.com/covers_large/black_hammer.jpg               \n",
       "\n",
       "       pred  \n",
       "2  0.825663  \n",
       "3  0.810999  \n",
       "4  0.798321  \n",
       "5  0.786595  \n",
       "6  0.777381  \n",
       "7  0.759182  \n",
       "8  0.749015  \n",
       "9  0.740564  "
      ]
     },
     "execution_count": 50,
     "metadata": {},
     "output_type": "execute_result"
    }
   ],
   "source": [
    "results = make_n_comic_recommendations(comic_ids, comic_factors, top_n)\n",
    "\n",
    "results"
   ]
  }
 ],
 "metadata": {
  "kernelspec": {
   "display_name": "Python 3",
   "language": "python",
   "name": "python3"
  },
  "language_info": {
   "codemirror_mode": {
    "name": "ipython",
    "version": 3
   },
   "file_extension": ".py",
   "mimetype": "text/x-python",
   "name": "python",
   "nbconvert_exporter": "python",
   "pygments_lexer": "ipython3",
   "version": "3.6.9"
  }
 },
 "nbformat": 4,
 "nbformat_minor": 2
}
