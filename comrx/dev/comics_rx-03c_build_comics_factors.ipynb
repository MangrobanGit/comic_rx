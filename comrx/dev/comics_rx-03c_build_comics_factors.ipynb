{
 "cells": [
  {
   "cell_type": "markdown",
   "metadata": {},
   "source": [
    "## Packages"
   ]
  },
  {
   "cell_type": "code",
   "execution_count": 18,
   "metadata": {},
   "outputs": [],
   "source": [
    "import pandas as pd\n",
    "import numpy as np\n",
    "from pyspark.sql import SparkSession"
   ]
  },
  {
   "cell_type": "markdown",
   "metadata": {},
   "source": [
    "## Options"
   ]
  },
  {
   "cell_type": "code",
   "execution_count": 12,
   "metadata": {},
   "outputs": [],
   "source": [
    "# So that items in pandas columns don't show truncated values \n",
    "pd.set_option('display.max_colwidth', -1)"
   ]
  },
  {
   "cell_type": "markdown",
   "metadata": {},
   "source": [
    "## Create Official item factors matrix or dataframe"
   ]
  },
  {
   "cell_type": "code",
   "execution_count": 5,
   "metadata": {},
   "outputs": [],
   "source": [
    "item_factors_df = pd.read_pickle('support_data/item_factors.pkl')"
   ]
  },
  {
   "cell_type": "code",
   "execution_count": 13,
   "metadata": {},
   "outputs": [
    {
     "data": {
      "text/html": [
       "<div>\n",
       "<style scoped>\n",
       "    .dataframe tbody tr th:only-of-type {\n",
       "        vertical-align: middle;\n",
       "    }\n",
       "\n",
       "    .dataframe tbody tr th {\n",
       "        vertical-align: top;\n",
       "    }\n",
       "\n",
       "    .dataframe thead th {\n",
       "        text-align: right;\n",
       "    }\n",
       "</style>\n",
       "<table border=\"1\" class=\"dataframe\">\n",
       "  <thead>\n",
       "    <tr style=\"text-align: right;\">\n",
       "      <th></th>\n",
       "      <th>id</th>\n",
       "      <th>features</th>\n",
       "    </tr>\n",
       "  </thead>\n",
       "  <tbody>\n",
       "    <tr>\n",
       "      <th>0</th>\n",
       "      <td>10</td>\n",
       "      <td>[-0.7526867389678955, -0.21263617277145386, -1.1569229364395142, 0.19937847554683685, 0.16002951562404633]</td>\n",
       "    </tr>\n",
       "    <tr>\n",
       "      <th>1</th>\n",
       "      <td>20</td>\n",
       "      <td>[-0.3515812158584595, 0.4757572114467621, -1.2307846546173096, 0.5941579341888428, -0.11247903108596802]</td>\n",
       "    </tr>\n",
       "    <tr>\n",
       "      <th>2</th>\n",
       "      <td>30</td>\n",
       "      <td>[0.1806577742099762, -0.48153993487358093, -0.9925048351287842, -0.04510089382529259, -0.6085895299911499]</td>\n",
       "    </tr>\n",
       "    <tr>\n",
       "      <th>3</th>\n",
       "      <td>40</td>\n",
       "      <td>[-0.06164746731519699, -0.23286470770835876, -0.20415398478507996, 0.3465690016746521, -1.2049529552459717]</td>\n",
       "    </tr>\n",
       "    <tr>\n",
       "      <th>4</th>\n",
       "      <td>50</td>\n",
       "      <td>[-0.4028661251068115, -0.3713889420032501, -1.1736090183258057, 0.15386144816875458, 0.5422862768173218]</td>\n",
       "    </tr>\n",
       "  </tbody>\n",
       "</table>\n",
       "</div>"
      ],
      "text/plain": [
       "   id  \\\n",
       "0  10   \n",
       "1  20   \n",
       "2  30   \n",
       "3  40   \n",
       "4  50   \n",
       "\n",
       "                                                                                                      features  \n",
       "0  [-0.7526867389678955, -0.21263617277145386, -1.1569229364395142, 0.19937847554683685, 0.16002951562404633]   \n",
       "1  [-0.3515812158584595, 0.4757572114467621, -1.2307846546173096, 0.5941579341888428, -0.11247903108596802]     \n",
       "2  [0.1806577742099762, -0.48153993487358093, -0.9925048351287842, -0.04510089382529259, -0.6085895299911499]   \n",
       "3  [-0.06164746731519699, -0.23286470770835876, -0.20415398478507996, 0.3465690016746521, -1.2049529552459717]  \n",
       "4  [-0.4028661251068115, -0.3713889420032501, -1.1736090183258057, 0.15386144816875458, 0.5422862768173218]     "
      ]
     },
     "execution_count": 13,
     "metadata": {},
     "output_type": "execute_result"
    }
   ],
   "source": [
    "item_factors_df.head()"
   ]
  },
  {
   "cell_type": "markdown",
   "metadata": {},
   "source": [
    "## For comics info, use the comics_df list we already built for spark"
   ]
  },
  {
   "cell_type": "code",
   "execution_count": 22,
   "metadata": {},
   "outputs": [],
   "source": [
    "# spark config\n",
    "spark = SparkSession.builder.appName(\"comic recommendation\").config(\n",
    "    \"spark.driver.maxResultSize\", \"1g\").config(\n",
    "    \"spark.driver.memory\", \"1g\").config(\n",
    "    \"spark.executor.memory\", \"4g\").config(\n",
    "    \"spark.master\", \"local[*]\").getOrCreate()\n",
    "# get spark context\n",
    "#sc = spark.sparkContext"
   ]
  },
  {
   "cell_type": "markdown",
   "metadata": {},
   "source": [
    "#### Read in json of comics data"
   ]
  },
  {
   "cell_type": "code",
   "execution_count": 24,
   "metadata": {},
   "outputs": [],
   "source": [
    "comics_pdf = spark.read.json('support_data/comics.json').toPandas()"
   ]
  },
  {
   "cell_type": "code",
   "execution_count": 25,
   "metadata": {},
   "outputs": [
    {
     "data": {
      "text/html": [
       "<div>\n",
       "<style scoped>\n",
       "    .dataframe tbody tr th:only-of-type {\n",
       "        vertical-align: middle;\n",
       "    }\n",
       "\n",
       "    .dataframe tbody tr th {\n",
       "        vertical-align: top;\n",
       "    }\n",
       "\n",
       "    .dataframe thead th {\n",
       "        text-align: right;\n",
       "    }\n",
       "</style>\n",
       "<table border=\"1\" class=\"dataframe\">\n",
       "  <thead>\n",
       "    <tr style=\"text-align: right;\">\n",
       "      <th></th>\n",
       "      <th>comic_id</th>\n",
       "      <th>comic_title</th>\n",
       "      <th>img_url</th>\n",
       "    </tr>\n",
       "  </thead>\n",
       "  <tbody>\n",
       "    <tr>\n",
       "      <th>0</th>\n",
       "      <td>17</td>\n",
       "      <td>1 For $1 Axe Cop Bad Guy Eart (Dark Horse)</td>\n",
       "      <td>https://comrx.s3-us-west-2.amazonaws.com/covers/_no_cover_.jpg</td>\n",
       "    </tr>\n",
       "    <tr>\n",
       "      <th>1</th>\n",
       "      <td>20</td>\n",
       "      <td>1 For $1 Conan the Barbarian (Dark Horse)</td>\n",
       "      <td>https://comrx.s3-us-west-2.amazonaws.com/covers/_no_cover_.jpg</td>\n",
       "    </tr>\n",
       "    <tr>\n",
       "      <th>2</th>\n",
       "      <td>22</td>\n",
       "      <td>1 For $1 Mass Effect Foundati (Dark Horse)</td>\n",
       "      <td>https://comrx.s3-us-west-2.amazonaws.com/covers/_no_cover_.jpg</td>\n",
       "    </tr>\n",
       "    <tr>\n",
       "      <th>3</th>\n",
       "      <td>24</td>\n",
       "      <td>1 For $1 Star Wars Legacy (Dark Horse)</td>\n",
       "      <td>https://comrx.s3-us-west-2.amazonaws.com/covers/_no_cover_.jpg</td>\n",
       "    </tr>\n",
       "    <tr>\n",
       "      <th>4</th>\n",
       "      <td>27</td>\n",
       "      <td>1 For $1 Usagi Yojimb (Dark Horse)</td>\n",
       "      <td>https://comrx.s3-us-west-2.amazonaws.com/covers/_no_cover_.jpg</td>\n",
       "    </tr>\n",
       "  </tbody>\n",
       "</table>\n",
       "</div>"
      ],
      "text/plain": [
       "   comic_id                                 comic_title  \\\n",
       "0  17        1 For $1 Axe Cop Bad Guy Eart (Dark Horse)   \n",
       "1  20        1 For $1 Conan the Barbarian (Dark Horse)    \n",
       "2  22        1 For $1 Mass Effect Foundati (Dark Horse)   \n",
       "3  24        1 For $1 Star Wars Legacy (Dark Horse)       \n",
       "4  27        1 For $1 Usagi Yojimb (Dark Horse)           \n",
       "\n",
       "                                                          img_url  \n",
       "0  https://comrx.s3-us-west-2.amazonaws.com/covers/_no_cover_.jpg  \n",
       "1  https://comrx.s3-us-west-2.amazonaws.com/covers/_no_cover_.jpg  \n",
       "2  https://comrx.s3-us-west-2.amazonaws.com/covers/_no_cover_.jpg  \n",
       "3  https://comrx.s3-us-west-2.amazonaws.com/covers/_no_cover_.jpg  \n",
       "4  https://comrx.s3-us-west-2.amazonaws.com/covers/_no_cover_.jpg  "
      ]
     },
     "execution_count": 25,
     "metadata": {},
     "output_type": "execute_result"
    }
   ],
   "source": [
    "comics_pdf.head()"
   ]
  },
  {
   "cell_type": "markdown",
   "metadata": {},
   "source": [
    "## Merge item factors and comics"
   ]
  },
  {
   "cell_type": "code",
   "execution_count": 28,
   "metadata": {},
   "outputs": [],
   "source": [
    "# Change column names for item_factors_df\n",
    "item_factors_df.columns = ['comic_id', 'features']"
   ]
  },
  {
   "cell_type": "code",
   "execution_count": 29,
   "metadata": {},
   "outputs": [],
   "source": [
    "combo = item_factors_df.merge(comics_pdf, left_on='comic_id', right_on='comic_id', how='inner', )"
   ]
  },
  {
   "cell_type": "code",
   "execution_count": 30,
   "metadata": {},
   "outputs": [],
   "source": [
    "combo.set_index(['comic_id'], inplace=True)"
   ]
  },
  {
   "cell_type": "code",
   "execution_count": 32,
   "metadata": {},
   "outputs": [
    {
     "data": {
      "text/html": [
       "<div>\n",
       "<style scoped>\n",
       "    .dataframe tbody tr th:only-of-type {\n",
       "        vertical-align: middle;\n",
       "    }\n",
       "\n",
       "    .dataframe tbody tr th {\n",
       "        vertical-align: top;\n",
       "    }\n",
       "\n",
       "    .dataframe thead th {\n",
       "        text-align: right;\n",
       "    }\n",
       "</style>\n",
       "<table border=\"1\" class=\"dataframe\">\n",
       "  <thead>\n",
       "    <tr style=\"text-align: right;\">\n",
       "      <th></th>\n",
       "      <th>features</th>\n",
       "      <th>comic_title</th>\n",
       "      <th>img_url</th>\n",
       "    </tr>\n",
       "    <tr>\n",
       "      <th>comic_id</th>\n",
       "      <th></th>\n",
       "      <th></th>\n",
       "      <th></th>\n",
       "    </tr>\n",
       "  </thead>\n",
       "  <tbody>\n",
       "    <tr>\n",
       "      <th>10</th>\n",
       "      <td>[-0.7526867389678955, -0.21263617277145386, -1.1569229364395142, 0.19937847554683685, 0.16002951562404633]</td>\n",
       "      <td>13th Artifact One Sho (Topcow)</td>\n",
       "      <td>https://comrx.s3-us-west-2.amazonaws.com/covers/_no_cover_.jpg</td>\n",
       "    </tr>\n",
       "    <tr>\n",
       "      <th>20</th>\n",
       "      <td>[-0.3515812158584595, 0.4757572114467621, -1.2307846546173096, 0.5941579341888428, -0.11247903108596802]</td>\n",
       "      <td>1 For $1 Conan the Barbarian (Dark Horse)</td>\n",
       "      <td>https://comrx.s3-us-west-2.amazonaws.com/covers/_no_cover_.jpg</td>\n",
       "    </tr>\n",
       "    <tr>\n",
       "      <th>30</th>\n",
       "      <td>[0.1806577742099762, -0.48153993487358093, -0.9925048351287842, -0.04510089382529259, -0.6085895299911499]</td>\n",
       "      <td>21st Century Tank Girl (Other)</td>\n",
       "      <td>https://comrx.s3-us-west-2.amazonaws.com/covers/21st_century_tank_girl.jpg</td>\n",
       "    </tr>\n",
       "    <tr>\n",
       "      <th>40</th>\n",
       "      <td>[-0.06164746731519699, -0.23286470770835876, -0.20415398478507996, 0.3465690016746521, -1.2049529552459717]</td>\n",
       "      <td>4001 Ad (Other)</td>\n",
       "      <td>https://comrx.s3-us-west-2.amazonaws.com/covers/4001_ad.jpg</td>\n",
       "    </tr>\n",
       "    <tr>\n",
       "      <th>50</th>\n",
       "      <td>[-0.4028661251068115, -0.3713889420032501, -1.1736090183258057, 0.15386144816875458, 0.5422862768173218]</td>\n",
       "      <td>68 Homefront (Image)</td>\n",
       "      <td>https://comrx.s3-us-west-2.amazonaws.com/covers/68_homefront.jpg</td>\n",
       "    </tr>\n",
       "  </tbody>\n",
       "</table>\n",
       "</div>"
      ],
      "text/plain": [
       "                                                                                                             features  \\\n",
       "comic_id                                                                                                                \n",
       "10        [-0.7526867389678955, -0.21263617277145386, -1.1569229364395142, 0.19937847554683685, 0.16002951562404633]    \n",
       "20        [-0.3515812158584595, 0.4757572114467621, -1.2307846546173096, 0.5941579341888428, -0.11247903108596802]      \n",
       "30        [0.1806577742099762, -0.48153993487358093, -0.9925048351287842, -0.04510089382529259, -0.6085895299911499]    \n",
       "40        [-0.06164746731519699, -0.23286470770835876, -0.20415398478507996, 0.3465690016746521, -1.2049529552459717]   \n",
       "50        [-0.4028661251068115, -0.3713889420032501, -1.1736090183258057, 0.15386144816875458, 0.5422862768173218]      \n",
       "\n",
       "                                        comic_title  \\\n",
       "comic_id                                              \n",
       "10        13th Artifact One Sho (Topcow)              \n",
       "20        1 For $1 Conan the Barbarian (Dark Horse)   \n",
       "30        21st Century Tank Girl (Other)              \n",
       "40        4001 Ad (Other)                             \n",
       "50        68 Homefront (Image)                        \n",
       "\n",
       "                                                                             img_url  \n",
       "comic_id                                                                              \n",
       "10        https://comrx.s3-us-west-2.amazonaws.com/covers/_no_cover_.jpg              \n",
       "20        https://comrx.s3-us-west-2.amazonaws.com/covers/_no_cover_.jpg              \n",
       "30        https://comrx.s3-us-west-2.amazonaws.com/covers/21st_century_tank_girl.jpg  \n",
       "40        https://comrx.s3-us-west-2.amazonaws.com/covers/4001_ad.jpg                 \n",
       "50        https://comrx.s3-us-west-2.amazonaws.com/covers/68_homefront.jpg            "
      ]
     },
     "execution_count": 32,
     "metadata": {},
     "output_type": "execute_result"
    }
   ],
   "source": [
    "combo.head()"
   ]
  },
  {
   "cell_type": "code",
   "execution_count": 33,
   "metadata": {},
   "outputs": [
    {
     "data": {
      "text/html": [
       "<div>\n",
       "<style scoped>\n",
       "    .dataframe tbody tr th:only-of-type {\n",
       "        vertical-align: middle;\n",
       "    }\n",
       "\n",
       "    .dataframe tbody tr th {\n",
       "        vertical-align: top;\n",
       "    }\n",
       "\n",
       "    .dataframe thead th {\n",
       "        text-align: right;\n",
       "    }\n",
       "</style>\n",
       "<table border=\"1\" class=\"dataframe\">\n",
       "  <thead>\n",
       "    <tr style=\"text-align: right;\">\n",
       "      <th></th>\n",
       "      <th>comic_id</th>\n",
       "      <th>comic_title</th>\n",
       "      <th>img_url</th>\n",
       "    </tr>\n",
       "  </thead>\n",
       "  <tbody>\n",
       "    <tr>\n",
       "      <th>1</th>\n",
       "      <td>20</td>\n",
       "      <td>1 For $1 Conan the Barbarian (Dark Horse)</td>\n",
       "      <td>https://comrx.s3-us-west-2.amazonaws.com/covers/_no_cover_.jpg</td>\n",
       "    </tr>\n",
       "  </tbody>\n",
       "</table>\n",
       "</div>"
      ],
      "text/plain": [
       "   comic_id                                comic_title  \\\n",
       "1  20        1 For $1 Conan the Barbarian (Dark Horse)   \n",
       "\n",
       "                                                          img_url  \n",
       "1  https://comrx.s3-us-west-2.amazonaws.com/covers/_no_cover_.jpg  "
      ]
     },
     "execution_count": 33,
     "metadata": {},
     "output_type": "execute_result"
    }
   ],
   "source": [
    "comics_pdf.loc[comics_pdf['comic_id']==20]"
   ]
  },
  {
   "cell_type": "code",
   "execution_count": 35,
   "metadata": {},
   "outputs": [
    {
     "data": {
      "text/plain": [
       "(6028, 3)"
      ]
     },
     "execution_count": 35,
     "metadata": {},
     "output_type": "execute_result"
    }
   ],
   "source": [
    "combo.shape"
   ]
  },
  {
   "cell_type": "markdown",
   "metadata": {},
   "source": [
    "## Create pickle file"
   ]
  },
  {
   "cell_type": "code",
   "execution_count": 36,
   "metadata": {},
   "outputs": [],
   "source": [
    "combo.to_pickle('support_data/comics_factors_201908.pkl')"
   ]
  },
  {
   "cell_type": "markdown",
   "metadata": {},
   "source": [
    "# Test 2019.08.12 fix"
   ]
  },
  {
   "cell_type": "code",
   "execution_count": 37,
   "metadata": {},
   "outputs": [],
   "source": [
    "# Read new pickle"
   ]
  },
  {
   "cell_type": "code",
   "execution_count": 38,
   "metadata": {},
   "outputs": [],
   "source": [
    "cf_new = pd.read_pickle('support_data/comics_factors_201908.pkl')"
   ]
  },
  {
   "cell_type": "code",
   "execution_count": null,
   "metadata": {},
   "outputs": [],
   "source": [
    "# Read old pickle "
   ]
  },
  {
   "cell_type": "code",
   "execution_count": 39,
   "metadata": {},
   "outputs": [],
   "source": [
    "cf_old = pd.read_pickle('support_data/comics_factors.pkl')"
   ]
  },
  {
   "cell_type": "code",
   "execution_count": 40,
   "metadata": {},
   "outputs": [
    {
     "data": {
      "text/plain": [
       "(6028, 3)"
      ]
     },
     "execution_count": 40,
     "metadata": {},
     "output_type": "execute_result"
    }
   ],
   "source": [
    "cf_new.shape"
   ]
  },
  {
   "cell_type": "code",
   "execution_count": 41,
   "metadata": {},
   "outputs": [
    {
     "data": {
      "text/plain": [
       "(6028, 3)"
      ]
     },
     "execution_count": 41,
     "metadata": {},
     "output_type": "execute_result"
    }
   ],
   "source": [
    "cf_old.shape"
   ]
  },
  {
   "cell_type": "code",
   "execution_count": 43,
   "metadata": {},
   "outputs": [
    {
     "data": {
      "text/html": [
       "<div>\n",
       "<style scoped>\n",
       "    .dataframe tbody tr th:only-of-type {\n",
       "        vertical-align: middle;\n",
       "    }\n",
       "\n",
       "    .dataframe tbody tr th {\n",
       "        vertical-align: top;\n",
       "    }\n",
       "\n",
       "    .dataframe thead th {\n",
       "        text-align: right;\n",
       "    }\n",
       "</style>\n",
       "<table border=\"1\" class=\"dataframe\">\n",
       "  <thead>\n",
       "    <tr style=\"text-align: right;\">\n",
       "      <th></th>\n",
       "      <th>features</th>\n",
       "      <th>comic_title</th>\n",
       "      <th>img_url</th>\n",
       "    </tr>\n",
       "    <tr>\n",
       "      <th>comic_id</th>\n",
       "      <th></th>\n",
       "      <th></th>\n",
       "      <th></th>\n",
       "    </tr>\n",
       "  </thead>\n",
       "  <tbody>\n",
       "    <tr>\n",
       "      <th>10</th>\n",
       "      <td>[-0.7526867389678955, -0.21263617277145386, -1.1569229364395142, 0.19937847554683685, 0.16002951562404633]</td>\n",
       "      <td>13th Artifact One Sho (Topcow)</td>\n",
       "      <td>https://comrx.s3-us-west-2.amazonaws.com/covers/_no_cover_.jpg</td>\n",
       "    </tr>\n",
       "    <tr>\n",
       "      <th>20</th>\n",
       "      <td>[-0.3515812158584595, 0.4757572114467621, -1.2307846546173096, 0.5941579341888428, -0.11247903108596802]</td>\n",
       "      <td>1 For $1 Conan the Barbarian (Dark Horse)</td>\n",
       "      <td>https://comrx.s3-us-west-2.amazonaws.com/covers/_no_cover_.jpg</td>\n",
       "    </tr>\n",
       "    <tr>\n",
       "      <th>30</th>\n",
       "      <td>[0.1806577742099762, -0.48153993487358093, -0.9925048351287842, -0.04510089382529259, -0.6085895299911499]</td>\n",
       "      <td>21st Century Tank Girl (Other)</td>\n",
       "      <td>https://comrx.s3-us-west-2.amazonaws.com/covers/21st_century_tank_girl.jpg</td>\n",
       "    </tr>\n",
       "    <tr>\n",
       "      <th>40</th>\n",
       "      <td>[-0.06164746731519699, -0.23286470770835876, -0.20415398478507996, 0.3465690016746521, -1.2049529552459717]</td>\n",
       "      <td>4001 Ad (Other)</td>\n",
       "      <td>https://comrx.s3-us-west-2.amazonaws.com/covers/4001_ad.jpg</td>\n",
       "    </tr>\n",
       "    <tr>\n",
       "      <th>50</th>\n",
       "      <td>[-0.4028661251068115, -0.3713889420032501, -1.1736090183258057, 0.15386144816875458, 0.5422862768173218]</td>\n",
       "      <td>68 Homefront (Image)</td>\n",
       "      <td>https://comrx.s3-us-west-2.amazonaws.com/covers/68_homefront.jpg</td>\n",
       "    </tr>\n",
       "  </tbody>\n",
       "</table>\n",
       "</div>"
      ],
      "text/plain": [
       "                                                                                                             features  \\\n",
       "comic_id                                                                                                                \n",
       "10        [-0.7526867389678955, -0.21263617277145386, -1.1569229364395142, 0.19937847554683685, 0.16002951562404633]    \n",
       "20        [-0.3515812158584595, 0.4757572114467621, -1.2307846546173096, 0.5941579341888428, -0.11247903108596802]      \n",
       "30        [0.1806577742099762, -0.48153993487358093, -0.9925048351287842, -0.04510089382529259, -0.6085895299911499]    \n",
       "40        [-0.06164746731519699, -0.23286470770835876, -0.20415398478507996, 0.3465690016746521, -1.2049529552459717]   \n",
       "50        [-0.4028661251068115, -0.3713889420032501, -1.1736090183258057, 0.15386144816875458, 0.5422862768173218]      \n",
       "\n",
       "                                        comic_title  \\\n",
       "comic_id                                              \n",
       "10        13th Artifact One Sho (Topcow)              \n",
       "20        1 For $1 Conan the Barbarian (Dark Horse)   \n",
       "30        21st Century Tank Girl (Other)              \n",
       "40        4001 Ad (Other)                             \n",
       "50        68 Homefront (Image)                        \n",
       "\n",
       "                                                                             img_url  \n",
       "comic_id                                                                              \n",
       "10        https://comrx.s3-us-west-2.amazonaws.com/covers/_no_cover_.jpg              \n",
       "20        https://comrx.s3-us-west-2.amazonaws.com/covers/_no_cover_.jpg              \n",
       "30        https://comrx.s3-us-west-2.amazonaws.com/covers/21st_century_tank_girl.jpg  \n",
       "40        https://comrx.s3-us-west-2.amazonaws.com/covers/4001_ad.jpg                 \n",
       "50        https://comrx.s3-us-west-2.amazonaws.com/covers/68_homefront.jpg            "
      ]
     },
     "execution_count": 43,
     "metadata": {},
     "output_type": "execute_result"
    }
   ],
   "source": [
    "cf_new.head()"
   ]
  },
  {
   "cell_type": "code",
   "execution_count": 44,
   "metadata": {},
   "outputs": [
    {
     "data": {
      "text/html": [
       "<div>\n",
       "<style scoped>\n",
       "    .dataframe tbody tr th:only-of-type {\n",
       "        vertical-align: middle;\n",
       "    }\n",
       "\n",
       "    .dataframe tbody tr th {\n",
       "        vertical-align: top;\n",
       "    }\n",
       "\n",
       "    .dataframe thead th {\n",
       "        text-align: right;\n",
       "    }\n",
       "</style>\n",
       "<table border=\"1\" class=\"dataframe\">\n",
       "  <thead>\n",
       "    <tr style=\"text-align: right;\">\n",
       "      <th></th>\n",
       "      <th>features</th>\n",
       "      <th>comic_title</th>\n",
       "      <th>img_url</th>\n",
       "    </tr>\n",
       "    <tr>\n",
       "      <th>comic_id</th>\n",
       "      <th></th>\n",
       "      <th></th>\n",
       "      <th></th>\n",
       "    </tr>\n",
       "  </thead>\n",
       "  <tbody>\n",
       "    <tr>\n",
       "      <th>10</th>\n",
       "      <td>[-0.7526867389678955, -0.21263617277145386, -1.1569229364395142, 0.19937847554683685, 0.16002951562404633]</td>\n",
       "      <td>13th Artifact One Sho (Topcow)</td>\n",
       "      <td>https://comrx.s3-us-west-2.amazonaws.com/covers/_no_cover_.jpg</td>\n",
       "    </tr>\n",
       "    <tr>\n",
       "      <th>20</th>\n",
       "      <td>[-0.3515812158584595, 0.4757572114467621, -1.2307846546173096, 0.5941579341888428, -0.11247903108596802]</td>\n",
       "      <td>1 For $1 Conan the Barbarian (Dark Horse)</td>\n",
       "      <td>https://comrx.s3-us-west-2.amazonaws.com/covers/_no_cover_.jpg</td>\n",
       "    </tr>\n",
       "    <tr>\n",
       "      <th>30</th>\n",
       "      <td>[0.1806577742099762, -0.48153993487358093, -0.9925048351287842, -0.04510089382529259, -0.6085895299911499]</td>\n",
       "      <td>21st Century Tank Girl (Other)</td>\n",
       "      <td>https://comrx.s3-us-west-2.amazonaws.com/covers/21st_century_tank_girl.jpg</td>\n",
       "    </tr>\n",
       "    <tr>\n",
       "      <th>40</th>\n",
       "      <td>[-0.06164746731519699, -0.23286470770835876, -0.20415398478507996, 0.3465690016746521, -1.2049529552459717]</td>\n",
       "      <td>4001 Ad (Other)</td>\n",
       "      <td>https://comrx.s3-us-west-2.amazonaws.com/covers/4001_ad.jpg</td>\n",
       "    </tr>\n",
       "    <tr>\n",
       "      <th>50</th>\n",
       "      <td>[-0.4028661251068115, -0.3713889420032501, -1.1736090183258057, 0.15386144816875458, 0.5422862768173218]</td>\n",
       "      <td>68 Homefront (Image)</td>\n",
       "      <td>https://comrx.s3-us-west-2.amazonaws.com/covers/68_homefront.jpg</td>\n",
       "    </tr>\n",
       "  </tbody>\n",
       "</table>\n",
       "</div>"
      ],
      "text/plain": [
       "                                                                                                             features  \\\n",
       "comic_id                                                                                                                \n",
       "10        [-0.7526867389678955, -0.21263617277145386, -1.1569229364395142, 0.19937847554683685, 0.16002951562404633]    \n",
       "20        [-0.3515812158584595, 0.4757572114467621, -1.2307846546173096, 0.5941579341888428, -0.11247903108596802]      \n",
       "30        [0.1806577742099762, -0.48153993487358093, -0.9925048351287842, -0.04510089382529259, -0.6085895299911499]    \n",
       "40        [-0.06164746731519699, -0.23286470770835876, -0.20415398478507996, 0.3465690016746521, -1.2049529552459717]   \n",
       "50        [-0.4028661251068115, -0.3713889420032501, -1.1736090183258057, 0.15386144816875458, 0.5422862768173218]      \n",
       "\n",
       "                                        comic_title  \\\n",
       "comic_id                                              \n",
       "10        13th Artifact One Sho (Topcow)              \n",
       "20        1 For $1 Conan the Barbarian (Dark Horse)   \n",
       "30        21st Century Tank Girl (Other)              \n",
       "40        4001 Ad (Other)                             \n",
       "50        68 Homefront (Image)                        \n",
       "\n",
       "                                                                             img_url  \n",
       "comic_id                                                                              \n",
       "10        https://comrx.s3-us-west-2.amazonaws.com/covers/_no_cover_.jpg              \n",
       "20        https://comrx.s3-us-west-2.amazonaws.com/covers/_no_cover_.jpg              \n",
       "30        https://comrx.s3-us-west-2.amazonaws.com/covers/21st_century_tank_girl.jpg  \n",
       "40        https://comrx.s3-us-west-2.amazonaws.com/covers/4001_ad.jpg                 \n",
       "50        https://comrx.s3-us-west-2.amazonaws.com/covers/68_homefront.jpg            "
      ]
     },
     "execution_count": 44,
     "metadata": {},
     "output_type": "execute_result"
    }
   ],
   "source": [
    "cf_old.head()"
   ]
  },
  {
   "cell_type": "code",
   "execution_count": null,
   "metadata": {},
   "outputs": [],
   "source": []
  }
 ],
 "metadata": {
  "kernelspec": {
   "display_name": "Python 3",
   "language": "python",
   "name": "python3"
  },
  "language_info": {
   "codemirror_mode": {
    "name": "ipython",
    "version": 3
   },
   "file_extension": ".py",
   "mimetype": "text/x-python",
   "name": "python",
   "nbconvert_exporter": "python",
   "pygments_lexer": "ipython3",
   "version": "3.6.6"
  }
 },
 "nbformat": 4,
 "nbformat_minor": 2
}
