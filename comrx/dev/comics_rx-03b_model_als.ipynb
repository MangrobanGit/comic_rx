{
 "cells": [
  {
   "cell_type": "markdown",
   "metadata": {},
   "source": [
    "# Comics Rx\n",
    "## [A comic book recommendation system](https://github.com/MangrobanGit/comics_rx)\n",
    "<img src=\"https://images.unsplash.com/photo-1514329926535-7f6dbfbfb114?ixlib=rb-1.2.1&ixid=eyJhcHBfaWQiOjEyMDd9&auto=format&fit=crop&w=2850&q=80\" width=\"400\" align='left'>"
   ]
  },
  {
   "cell_type": "markdown",
   "metadata": {},
   "source": [
    "---"
   ]
  },
  {
   "cell_type": "markdown",
   "metadata": {},
   "source": [
    "# Reduced Data: Grid Search + Cross-Validation\n",
    "\n",
    "This time, as explored in the EDA NB, let's consider removing customers who we feel have too few or too many purchases to influence the model in the intended way.\n",
    "\n",
    "Examples:\n",
    "- Too few - Customers who have only bought 1 comic (series).\n",
    "- Too many - Customers with > 1000 series (for example, think all eBay customers are rolled into one account number)."
   ]
  },
  {
   "cell_type": "markdown",
   "metadata": {},
   "source": [
    "# Libraries"
   ]
  },
  {
   "cell_type": "code",
   "execution_count": 4,
   "metadata": {},
   "outputs": [
    {
     "name": "stdout",
     "output_type": "stream",
     "text": [
      "The autoreload extension is already loaded. To reload it, use:\n",
      "  %reload_ext autoreload\n"
     ]
    }
   ],
   "source": [
    "%matplotlib inline\n",
    "%load_ext autoreload\n",
    "# %autoreload 1 #would be where you need to specify the files\n",
    "# %aimport comic_recs\n",
    "\n",
    "import pandas as pd # dataframes\n",
    "import os\n",
    "import pickle\n",
    "import numpy as np\n",
    "\n",
    "# Data storage\n",
    "from sqlalchemy import create_engine # SQL helper\n",
    "import psycopg2 as psql #PostgreSQL DBs\n",
    "\n",
    "# import Spark methods\n",
    "import pyspark\n",
    "from pyspark.sql import SparkSession\n",
    "from pyspark.ml.evaluation import RegressionEvaluator\n",
    "# from pyspark.sql.types import (StructType, StructField, IntegerType\n",
    "#                                ,FloatType, LongType, StringType)\n",
    "from pyspark.sql.types import *\n",
    "\n",
    "import pyspark.sql.functions as F\n",
    "from pyspark.sql.functions import col, explode, lit, isnan, when, count\n",
    "from pyspark.ml.recommendation import ALS, ALSModel\n",
    "from pyspark.ml.evaluation import RegressionEvaluator\n",
    "from pyspark.ml.tuning import (CrossValidator, ParamGridBuilder, \n",
    "                               TrainValidationSplit)\n",
    "from pyspark.ml.evaluation import BinaryClassificationEvaluator\n",
    "from pyspark.sql import DataFrame\n",
    "from pyspark import SparkConf\n",
    "from pyspark.sql import SQLContext\n",
    "\n",
    "# Plotting\n",
    "import seaborn as sns\n",
    "import matplotlib.pyplot as plt"
   ]
  },
  {
   "cell_type": "code",
   "execution_count": 5,
   "metadata": {},
   "outputs": [],
   "source": [
    "import sys"
   ]
  },
  {
   "cell_type": "code",
   "execution_count": 6,
   "metadata": {},
   "outputs": [],
   "source": [
    "sys.path.append('..')"
   ]
  },
  {
   "cell_type": "code",
   "execution_count": 7,
   "metadata": {},
   "outputs": [],
   "source": [
    "# Custom\n",
    "import data_fcns as dfc\n",
    "import keys  # Custom keys lib\n",
    "import comic_recs as cr\n",
    "\n",
    "import time\n",
    "import itertools\n",
    "from functools import reduce\n",
    "import numpy as np"
   ]
  },
  {
   "cell_type": "markdown",
   "metadata": {},
   "source": [
    "### Configure Spark"
   ]
  },
  {
   "cell_type": "code",
   "execution_count": 8,
   "metadata": {},
   "outputs": [],
   "source": [
    "conf = SparkConf()\n",
    "\n",
    "# Laptop config\n",
    "# conf = (conf.setMaster('local[*]')\n",
    "# #         .set('spark.executor.memory', '1G') #https://stackoverflow.com/questions/48523629/spark-pyspark-an-error-occurred-while-trying-to-connect-to-the-java-server-127\n",
    "#         .set('spark.driver.memory', '7G')\n",
    "#         .set('spark.driver.maxResultSize', '2G'))\n",
    "# #         .set('spark.executor.memory', '1G')\n",
    "# #         .set('spark.driver.memory', '10G')\n",
    "# #         .set('spark.driver.maxResultSize', '5G'))\n",
    "\n",
    "# AWS instance config\n",
    "conf = (conf.setMaster('local[*]')\n",
    "        .set('spark.driver.memory', '25G')\n",
    "        .set('spark.driver.maxResultSize', '4G'))\n",
    "#         .set('spark.executor.memory', '1G') #https://stackoverflow.com/questions/48523629/spark-pyspark-an-error-occurred-while-trying-to-connect-to-the-java-server-127\n",
    "#         .set('spark.driver.memory', '10G')\n",
    "#         .set('spark.driver.maxResultSize', '5G')\n",
    "#         )\n",
    "\n",
    "sc = pyspark.SparkContext().getOrCreate(conf=conf)\n",
    "\n",
    "sql_context = SQLContext(sc)\n",
    "\n",
    "sc.setCheckpointDir('./checkpoints')\n",
    "# spark.sparkContext.setCheckpointDir(\"hdfs://datalake/check_point_directory/als\")"
   ]
  },
  {
   "cell_type": "markdown",
   "metadata": {},
   "source": [
    "## Import Data\n",
    "\n",
    "We've previously set aside the dataset into a `json` file."
   ]
  },
  {
   "cell_type": "code",
   "execution_count": 9,
   "metadata": {},
   "outputs": [],
   "source": [
    "# We have previously created a version of the transactions table \n",
    "# and filtered it down.\n",
    "sold = sql_context.read.json('raw_data/als_input_filtered_190915.json')"
   ]
  },
  {
   "cell_type": "code",
   "execution_count": 10,
   "metadata": {},
   "outputs": [
    {
     "data": {
      "text/plain": [
       "DataFrame[account_id: bigint, bought: bigint, comic_id: bigint]"
      ]
     },
     "execution_count": 10,
     "metadata": {},
     "output_type": "execute_result"
    }
   ],
   "source": [
    "# Persist the data\n",
    "sold.persist()"
   ]
  },
  {
   "cell_type": "code",
   "execution_count": 11,
   "metadata": {},
   "outputs": [
    {
     "data": {
      "text/plain": [
       "846090"
      ]
     },
     "execution_count": 11,
     "metadata": {},
     "output_type": "execute_result"
    }
   ],
   "source": [
    "sold.count()"
   ]
  },
  {
   "cell_type": "markdown",
   "metadata": {},
   "source": [
    "### ALS Model\n",
    "\n",
    "Let's start with  train/test split."
   ]
  },
  {
   "cell_type": "code",
   "execution_count": 12,
   "metadata": {},
   "outputs": [],
   "source": [
    "random_seed = 41916"
   ]
  },
  {
   "cell_type": "code",
   "execution_count": 13,
   "metadata": {},
   "outputs": [],
   "source": [
    "# Split data into training and test set\n",
    "(train, test) = sold.randomSplit([.75, .25], seed=random_seed)"
   ]
  },
  {
   "cell_type": "code",
   "execution_count": 14,
   "metadata": {},
   "outputs": [
    {
     "data": {
      "text/plain": [
       "634635"
      ]
     },
     "execution_count": 14,
     "metadata": {},
     "output_type": "execute_result"
    }
   ],
   "source": [
    "train.count()"
   ]
  },
  {
   "cell_type": "markdown",
   "metadata": {},
   "source": [
    "Make sure shapes make sense."
   ]
  },
  {
   "cell_type": "code",
   "execution_count": 15,
   "metadata": {},
   "outputs": [
    {
     "name": "stdout",
     "output_type": "stream",
     "text": [
      "634635 3\n"
     ]
    }
   ],
   "source": [
    "print(train.count(), len(train.columns))"
   ]
  },
  {
   "cell_type": "code",
   "execution_count": 16,
   "metadata": {},
   "outputs": [
    {
     "name": "stdout",
     "output_type": "stream",
     "text": [
      "211455 3\n"
     ]
    }
   ],
   "source": [
    "print(test.count(), len(test.columns))"
   ]
  },
  {
   "cell_type": "markdown",
   "metadata": {},
   "source": [
    "## New Grid Search"
   ]
  },
  {
   "cell_type": "code",
   "execution_count": 14,
   "metadata": {},
   "outputs": [],
   "source": [
    "# # hyper-param config\n",
    "# max_iters = [20, 25, 30]\n",
    "# ranks = [5, 10, 20, 25]\n",
    "# reg_params = [.05, .10, .15]\n",
    "# alphas = [5, 25, 40]"
   ]
  },
  {
   "cell_type": "code",
   "execution_count": 15,
   "metadata": {},
   "outputs": [],
   "source": [
    "# # hyper-param config\n",
    "# max_iters = [30, 40]\n",
    "# ranks = [25, 30]\n",
    "# reg_params = [.15, .25]\n",
    "# alphas = [5]"
   ]
  },
  {
   "cell_type": "code",
   "execution_count": 16,
   "metadata": {},
   "outputs": [],
   "source": [
    "# # hyper-param config\n",
    "# max_iters = [30]\n",
    "# ranks = [5, 10]\n",
    "# reg_params = [.25, .30]\n",
    "# alphas = [5]"
   ]
  },
  {
   "cell_type": "code",
   "execution_count": 17,
   "metadata": {},
   "outputs": [],
   "source": [
    "# # hyper-param config\n",
    "# max_iters = [40]\n",
    "# ranks = [30]\n",
    "# reg_params = [.25]\n",
    "# alphas = [5]"
   ]
  },
  {
   "cell_type": "code",
   "execution_count": 24,
   "metadata": {},
   "outputs": [],
   "source": [
    "# hyper-param config\n",
    "max_iters = [20, 30, 40]\n",
    "ranks = [5, 20, 40, 75, 90]\n",
    "reg_params = [.01, .05, .25, .50]\n",
    "alphas = [5, 25, 40]"
   ]
  },
  {
   "cell_type": "markdown",
   "metadata": {},
   "source": [
    "These will be user, item and rating columns, respectively, for our dataset.\n",
    "- `account_id`\n",
    "- `comic_id`\n",
    "- `bought`"
   ]
  },
  {
   "cell_type": "code",
   "execution_count": 25,
   "metadata": {},
   "outputs": [],
   "source": [
    "model_list = cr.create_als_models_list(userCol=\"account_id\", itemCol=\"comic_id\"\n",
    "                                    ,ratingCol=\"bought\"\n",
    "                                    ,ranks=ranks\n",
    "                                    ,max_iters=max_iters\n",
    "                                    ,reg_params=reg_params\n",
    "                                    ,alphas=alphas\n",
    "                                    ,seed=random_seed\n",
    "                                   )"
   ]
  },
  {
   "cell_type": "code",
   "execution_count": 26,
   "metadata": {},
   "outputs": [
    {
     "data": {
      "text/plain": [
       "[ALS_e3a5f70111f2,\n",
       " ALS_31dc9c1bea61,\n",
       " ALS_694004ec4b4b,\n",
       " ALS_ed72acb68625,\n",
       " ALS_ae4b80e5ecc7,\n",
       " ALS_1e0c52379461,\n",
       " ALS_b4897fb196e8,\n",
       " ALS_80779c63492d,\n",
       " ALS_2fb14632d6a5,\n",
       " ALS_19a02ec671f5,\n",
       " ALS_c6ebc286ba0e,\n",
       " ALS_972979b7c85e,\n",
       " ALS_425396e875b3,\n",
       " ALS_452fdf3dc88c,\n",
       " ALS_48e163559d45,\n",
       " ALS_075d19fb6a15,\n",
       " ALS_875880ca3008,\n",
       " ALS_8a9498c65b20,\n",
       " ALS_60feabebffc0,\n",
       " ALS_45c17e2ba59c,\n",
       " ALS_ca7726e251d6,\n",
       " ALS_ba583b9fa9c8,\n",
       " ALS_836eb445a7cb,\n",
       " ALS_514b35eb5433,\n",
       " ALS_5f656bdb60f0,\n",
       " ALS_819ac2c567e0,\n",
       " ALS_94c735e565c9,\n",
       " ALS_432ba0124b90,\n",
       " ALS_f74aa46e7340,\n",
       " ALS_69095198ccef,\n",
       " ALS_9f58bb37d8a6,\n",
       " ALS_0175224aa5e7,\n",
       " ALS_d547ac6327bf,\n",
       " ALS_f2abed616a70,\n",
       " ALS_13e297914a1b,\n",
       " ALS_1d7d650d0b2c,\n",
       " ALS_1a077cc9524a,\n",
       " ALS_dcbaa2160472,\n",
       " ALS_9b9fbbf9f4e1,\n",
       " ALS_e929417bef58,\n",
       " ALS_22fe5f9efc4e,\n",
       " ALS_7de90eeb71f5,\n",
       " ALS_fdf1d5902e0e,\n",
       " ALS_0768543d717a,\n",
       " ALS_bcafc5a2400b,\n",
       " ALS_ef9b5521eb47,\n",
       " ALS_ec324f68d299,\n",
       " ALS_fce2a4cf2405,\n",
       " ALS_97213ba87c2b,\n",
       " ALS_fc3924fd668c,\n",
       " ALS_79c83c34e408,\n",
       " ALS_bc44f23ee90e,\n",
       " ALS_8b0381b57bb5,\n",
       " ALS_de123c986c17,\n",
       " ALS_41eb158499f4,\n",
       " ALS_485f75985401,\n",
       " ALS_acd0e3abe37c,\n",
       " ALS_3c268f7b4588,\n",
       " ALS_24e7d76e2b1c,\n",
       " ALS_38f7f53ae6e6,\n",
       " ALS_4653821bd0b4,\n",
       " ALS_48f90538ac2f,\n",
       " ALS_f80970e4014f,\n",
       " ALS_95994c656a35,\n",
       " ALS_e154cd7f68f9,\n",
       " ALS_86032435bb98,\n",
       " ALS_e92df8cf7ae6,\n",
       " ALS_846dced6bb97,\n",
       " ALS_676b6397f86b,\n",
       " ALS_2e163dae6a3e,\n",
       " ALS_543f21375c39,\n",
       " ALS_480bdf0fb7e0,\n",
       " ALS_69ec222cae15,\n",
       " ALS_ea092373e063,\n",
       " ALS_f5275db8de7a,\n",
       " ALS_e5285abb6ea5,\n",
       " ALS_1754bc09e44b,\n",
       " ALS_72805573401a,\n",
       " ALS_db6ea8aee90d,\n",
       " ALS_e1825e168ace,\n",
       " ALS_e875aa178fa3,\n",
       " ALS_ee7055dbdaf6,\n",
       " ALS_1b65af5f77fa,\n",
       " ALS_f34e2b2d8278,\n",
       " ALS_73403c36b87d,\n",
       " ALS_fb68c4af443c,\n",
       " ALS_fc18fe5d51fa,\n",
       " ALS_78ee13a0735e,\n",
       " ALS_7eaff39edba4,\n",
       " ALS_6c6b3fcd2d90,\n",
       " ALS_cd8140636030,\n",
       " ALS_d69021421338,\n",
       " ALS_d350c91aa260,\n",
       " ALS_41140d52e7e9,\n",
       " ALS_ffa1600939cf,\n",
       " ALS_ddf1bd821ada,\n",
       " ALS_b492ddbdc2ff,\n",
       " ALS_a5146a81a12e,\n",
       " ALS_fa482c2de41e,\n",
       " ALS_8e5b05ad7c9f,\n",
       " ALS_714f4f404222,\n",
       " ALS_da2dac5aa7e4,\n",
       " ALS_9b5174eabaf4,\n",
       " ALS_81639087e28f,\n",
       " ALS_e4fde57a053d,\n",
       " ALS_999cdd2cd194,\n",
       " ALS_1950a07a6d8b,\n",
       " ALS_bcd42692c33d,\n",
       " ALS_78027b3ff195,\n",
       " ALS_f79dc24cdb22,\n",
       " ALS_01769c9147b7,\n",
       " ALS_d77d247344e6,\n",
       " ALS_e5642fb7a905,\n",
       " ALS_ffb654c8456e,\n",
       " ALS_d1c564abc9bb,\n",
       " ALS_42abea0f2c38,\n",
       " ALS_6b619afbc327,\n",
       " ALS_1215311d8b60,\n",
       " ALS_4922b4182b19,\n",
       " ALS_f1836f4a898a,\n",
       " ALS_a8be41cf69fc,\n",
       " ALS_56d024f05f6e,\n",
       " ALS_ddd4bbd08cdb,\n",
       " ALS_43574947a25a,\n",
       " ALS_3adc19c6e2df,\n",
       " ALS_80acac92eee4,\n",
       " ALS_75abafc605d1,\n",
       " ALS_161faa32cc6d,\n",
       " ALS_18d0ce9ea475,\n",
       " ALS_6545d4739892,\n",
       " ALS_fb4f22a12893,\n",
       " ALS_08d802654b72,\n",
       " ALS_c78486963acd,\n",
       " ALS_f27c8034b341,\n",
       " ALS_9628d7d4b6e0,\n",
       " ALS_e385ab59555f,\n",
       " ALS_cc8ba4b571b1,\n",
       " ALS_baa63e6e22bf,\n",
       " ALS_2717ce1765fb,\n",
       " ALS_d8b027e37760,\n",
       " ALS_6e5570f44f0b,\n",
       " ALS_28e1c28695c3,\n",
       " ALS_4b7ca6df1c3f,\n",
       " ALS_e33bd5f845a0,\n",
       " ALS_2384ff6528cd,\n",
       " ALS_72e006b8b44c,\n",
       " ALS_5394b8727d8b,\n",
       " ALS_514e81a24fcd,\n",
       " ALS_8a0fae52eb8e,\n",
       " ALS_1b208a4f7a2d,\n",
       " ALS_6e335a0ba6c9,\n",
       " ALS_50e41a55a252,\n",
       " ALS_4c23ba0d91f6,\n",
       " ALS_20cad1ca502d,\n",
       " ALS_589cd9d3ef4b,\n",
       " ALS_767c708d5390,\n",
       " ALS_f5d8632b8658,\n",
       " ALS_7e35ee986760,\n",
       " ALS_89f758a53176,\n",
       " ALS_a1ce24ccdfe7,\n",
       " ALS_f4a036d5b84c,\n",
       " ALS_dd334e3f4d7f,\n",
       " ALS_ebfa7f114e28,\n",
       " ALS_4a8a4d91b1e6,\n",
       " ALS_5d93106a120c,\n",
       " ALS_37856a71a5f5,\n",
       " ALS_0f1a1bf5b063,\n",
       " ALS_bf9d49efcff2,\n",
       " ALS_128cf35e0c62,\n",
       " ALS_a2dc151d3c17,\n",
       " ALS_424f6b99838f,\n",
       " ALS_122ad59f6845,\n",
       " ALS_8381326ebb5e,\n",
       " ALS_898daad182b5,\n",
       " ALS_3acaa5bc4587,\n",
       " ALS_22ab6ae87ea1,\n",
       " ALS_94a468f7daa7,\n",
       " ALS_6132a1ad4836,\n",
       " ALS_5d4185ef740e,\n",
       " ALS_7d95d261e436]"
      ]
     },
     "execution_count": 26,
     "metadata": {},
     "output_type": "execute_result"
    }
   ],
   "source": [
    "model_list"
   ]
  },
  {
   "cell_type": "markdown",
   "metadata": {},
   "source": [
    "Check that model list has proper number of combinations."
   ]
  },
  {
   "cell_type": "code",
   "execution_count": 27,
   "metadata": {},
   "outputs": [
    {
     "data": {
      "text/plain": [
       "180"
      ]
     },
     "execution_count": 27,
     "metadata": {},
     "output_type": "execute_result"
    }
   ],
   "source": [
    "len(model_list)"
   ]
  },
  {
   "cell_type": "code",
   "execution_count": 22,
   "metadata": {},
   "outputs": [
    {
     "name": "stdout",
     "output_type": "stream",
     "text": [
      "True\n"
     ]
    }
   ],
   "source": [
    "print( len(model_list) == (len(max_iters)*len(ranks)*len(reg_params)*len(alphas)) )"
   ]
  },
  {
   "cell_type": "markdown",
   "metadata": {},
   "source": [
    "### Manual Cross-Validation"
   ]
  },
  {
   "cell_type": "markdown",
   "metadata": {},
   "source": [
    "## Metrics"
   ]
  },
  {
   "cell_type": "code",
   "execution_count": 23,
   "metadata": {
    "scrolled": false
   },
   "outputs": [
    {
     "name": "stdout",
     "output_type": "stream",
     "text": [
      "Validation ROEM #1: 0.19869719550926318\n",
      "Validation ROEM #2: 0.19433399830675785\n",
      "Validation ROEM #3: 0.19657179442552847\n",
      "Validation ROEM #4: 0.19727919618163878\n",
      "Validation ROEM #5: 0.19135726332450673\n",
      "Validation ROEM #6: 0.19600523404055623\n",
      "Validation ROEM #7: 0.19613417381855794\n",
      "Validation ROEM #8: 0.1883132407551012\n",
      "Validation ROEM #9: 0.19068610498273622\n",
      "Validation ROEM #10: 0.19615494652631793\n",
      "Validation ROEM #11: 0.18812054171315873\n",
      "Validation ROEM #12: 0.19001151310123257\n",
      "Validation ROEM #13: 0.19825515409629393\n",
      "Validation ROEM #14: 0.19304004913991987\n",
      "Validation ROEM #15: 0.1965050670149716\n",
      "Validation ROEM #16: 0.1970328332908752\n",
      "Validation ROEM #17: 0.18878406923020186\n",
      "Validation ROEM #18: 0.19591794813692\n",
      "Validation ROEM #19: 0.1959248359391219\n",
      "Validation ROEM #20: 0.18704623543343596\n",
      "Validation ROEM #21: 0.18922641743172072\n",
      "Validation ROEM #22: 0.19526198351646434\n",
      "Validation ROEM #23: 0.1863824686096206\n",
      "Validation ROEM #24: 0.18846383383383283\n",
      "Validation ROEM #25: 0.198025496252141\n",
      "Validation ROEM #26: 0.1906751340864852\n",
      "Validation ROEM #27: 0.19643678132352987\n",
      "Validation ROEM #28: 0.19689867566986063\n",
      "Validation ROEM #29: 0.18785367693721092\n",
      "Validation ROEM #30: 0.19603752316454168\n",
      "Validation ROEM #31: 0.1955061835510456\n",
      "Validation ROEM #32: 0.18680058611370237\n",
      "Validation ROEM #33: 0.18849218258607184\n",
      "Validation ROEM #34: 0.1949507109962805\n",
      "Validation ROEM #35: 0.18582064781433663\n",
      "Validation ROEM #36: 0.18742785146220364\n",
      "Validation ROEM #37: 0.16256128500725991\n",
      "Validation ROEM #38: 0.1693418128465961\n",
      "Validation ROEM #39: 0.17454742877017132\n",
      "Validation ROEM #40: 0.16135093942514084\n",
      "Validation ROEM #41: 0.16824405585870328\n",
      "Validation ROEM #42: 0.17360051401416857\n",
      "Validation ROEM #43: 0.15702812798158136\n",
      "Validation ROEM #44: 0.16234362255969917\n",
      "Validation ROEM #45: 0.1704970777618662\n",
      "Validation ROEM #46: 0.15476147818943692\n",
      "Validation ROEM #47: 0.15976447823409076\n",
      "Validation ROEM #48: 0.16454688018539304\n",
      "Validation ROEM #49: 0.1605023336992497\n",
      "Validation ROEM #50: 0.16742091819021435\n",
      "Validation ROEM #51: 0.1728514619528549\n",
      "Validation ROEM #52: 0.15998056989459378\n",
      "Validation ROEM #53: 0.16646046009876334\n",
      "Validation ROEM #54: 0.1721781735138344\n",
      "Validation ROEM #55: 0.15635990853707799\n",
      "Validation ROEM #56: 0.16175711136607845\n",
      "Validation ROEM #57: 0.16833208213291637\n",
      "Validation ROEM #58: 0.15385623247376423\n",
      "Validation ROEM #59: 0.15934123600092773\n",
      "Validation ROEM #60: 0.16265266009265403\n",
      "Validation ROEM #61: 0.15946931265136083\n",
      "Validation ROEM #62: 0.16651533759661372\n",
      "Validation ROEM #63: 0.1716084832531742\n",
      "Validation ROEM #64: 0.1593121785177368\n",
      "Validation ROEM #65: 0.16535966959688758\n",
      "Validation ROEM #66: 0.1706958264898215\n",
      "Validation ROEM #67: 0.15638641343612913\n",
      "Validation ROEM #68: 0.16126973376735057\n",
      "Validation ROEM #69: 0.16654040072634363\n",
      "Validation ROEM #70: 0.15289794481314395\n",
      "Validation ROEM #71: 0.15802703229685225\n",
      "Validation ROEM #72: 0.16159072346036887\n",
      "Validation ROEM #73: 0.16075684953397018\n",
      "Validation ROEM #74: 0.16911615243282221\n",
      "Validation ROEM #75: 0.1751503586046194\n",
      "Validation ROEM #76: 0.1567024410843265\n",
      "Validation ROEM #77: 0.16668873391116612\n",
      "Validation ROEM #78: 0.17236996357431666\n",
      "Validation ROEM #79: 0.14873550101924113\n",
      "Validation ROEM #80: 0.16084248628387346\n",
      "Validation ROEM #81: 0.16500791566777584\n",
      "Validation ROEM #82: 0.14615422121300053\n",
      "Validation ROEM #83: 0.15403580614145956\n",
      "Validation ROEM #84: 0.1585226453886225\n",
      "Validation ROEM #85: 0.15819827881862247\n",
      "Validation ROEM #86: 0.16624685430263778\n",
      "Validation ROEM #87: 0.17443418770456381\n",
      "Validation ROEM #88: 0.15383579543112405\n",
      "Validation ROEM #89: 0.16385181470018986\n",
      "Validation ROEM #90: 0.17178207070183843\n",
      "Validation ROEM #91: 0.1482894567489812\n",
      "Validation ROEM #92: 0.15884421351786313\n",
      "Validation ROEM #93: 0.1636738334679026\n",
      "Validation ROEM #94: 0.14518525614274103\n",
      "Validation ROEM #95: 0.15245092997540535\n",
      "Validation ROEM #96: 0.15731880454321998\n",
      "Validation ROEM #97: 0.15635453659439744\n",
      "Validation ROEM #98: 0.16548469195181809\n",
      "Validation ROEM #99: 0.17332462925026987\n",
      "Validation ROEM #100: 0.15401431853125516\n",
      "Validation ROEM #101: 0.1646241912893568\n",
      "Validation ROEM #102: 0.17058678855374043\n",
      "Validation ROEM #103: 0.14795197768702661\n",
      "Validation ROEM #104: 0.1576772254865911\n",
      "Validation ROEM #105: 0.1632003643694191\n",
      "Validation ROEM #106: 0.14492920494176464\n",
      "Validation ROEM #107: 0.1521721739075589\n",
      "Validation ROEM #108: 0.15679585289174328\n",
      "Validation ROEM #109: 0.17191886917720473\n",
      "Validation ROEM #110: 0.17891286935612988\n",
      "Validation ROEM #111: 0.1842359963395563\n",
      "Validation ROEM #112: 0.16410002008908997\n",
      "Validation ROEM #113: 0.1777363679650096\n",
      "Validation ROEM #114: 0.18391370519001357\n",
      "Validation ROEM #115: 0.14567469182164894\n",
      "Validation ROEM #116: 0.16323778714570236\n",
      "Validation ROEM #117: 0.17192573770121664\n",
      "Validation ROEM #118: 0.1398769422989481\n",
      "Validation ROEM #119: 0.15175414237451887\n",
      "Validation ROEM #120: 0.15818852545367473\n",
      "Validation ROEM #121: 0.1706429145226407\n",
      "Validation ROEM #122: 0.17743752362957424\n",
      "Validation ROEM #123: 0.18415621609689045\n",
      "Validation ROEM #124: 0.1617782635048357\n",
      "Validation ROEM #125: 0.1763514189728216\n",
      "Validation ROEM #126: 0.18146581351937793\n",
      "Validation ROEM #127: 0.14531905433002082\n",
      "Validation ROEM #128: 0.16232401359418872\n",
      "Validation ROEM #129: 0.16883262594383677\n",
      "Validation ROEM #130: 0.13906913234688428\n",
      "Validation ROEM #131: 0.1504787213562829\n",
      "Validation ROEM #132: 0.156086271152419\n",
      "Validation ROEM #133: 0.16911185339027632\n",
      "Validation ROEM #134: 0.17782082058904744\n",
      "Validation ROEM #135: 0.1824867037662242\n",
      "Validation ROEM #136: 0.1604311128855675\n",
      "Validation ROEM #137: 0.17574700483734645\n",
      "Validation ROEM #138: 0.18028939700733396\n",
      "Validation ROEM #139: 0.14469411866724283\n",
      "Validation ROEM #140: 0.16101996148789147\n",
      "Validation ROEM #141: 0.16640653067264166\n",
      "Validation ROEM #142: 0.1390945813998646\n",
      "Validation ROEM #143: 0.14997325542801077\n",
      "Validation ROEM #144: 0.15563589430085295\n",
      "Validation ROEM #145: 0.17267465761060175\n",
      "Validation ROEM #146: 0.18631935697301888\n",
      "Validation ROEM #147: 0.1903947249814274\n",
      "Validation ROEM #148: 0.16501722918819942\n",
      "Validation ROEM #149: 0.18272878799944875\n",
      "Validation ROEM #150: 0.1873484100887364\n",
      "Validation ROEM #151: 0.14571270644611092\n",
      "Validation ROEM #152: 0.16503085842975465\n",
      "Validation ROEM #153: 0.17267005346147124\n",
      "Validation ROEM #154: 0.13922173180552436\n",
      "Validation ROEM #155: 0.15240366184657061\n",
      "Validation ROEM #156: 0.15789438858487834\n",
      "Validation ROEM #157: 0.1723145548485252\n",
      "Validation ROEM #158: 0.1858656251650314\n",
      "Validation ROEM #159: 0.18811716769070688\n",
      "Validation ROEM #160: 0.16449299904789227\n",
      "Validation ROEM #161: 0.18181623591540075\n",
      "Validation ROEM #162: 0.1866020744824621\n",
      "Validation ROEM #163: 0.14642019099739104\n",
      "Validation ROEM #164: 0.16232452870392824\n",
      "Validation ROEM #165: 0.1712226692177676\n",
      "Validation ROEM #166: 0.13852784668764523\n",
      "Validation ROEM #167: 0.15088391550703772\n",
      "Validation ROEM #168: 0.1554892253644075\n",
      "Validation ROEM #169: 0.17202964309132313\n",
      "Validation ROEM #170: 0.1851603367415795\n",
      "Validation ROEM #171: 0.18833869936441358\n",
      "Validation ROEM #172: 0.16465799898808303\n",
      "Validation ROEM #173: 0.18174918097043571\n",
      "Validation ROEM #174: 0.1856065556715767\n",
      "Validation ROEM #175: 0.14553933839429514\n",
      "Validation ROEM #176: 0.16262360356487238\n",
      "Validation ROEM #177: 0.1696564275971037\n",
      "Validation ROEM #178: 0.1383817704950063\n",
      "Validation ROEM #179: 0.1502832194162518\n",
      "Validation ROEM #180: 0.15448852713685005\n",
      "Total Runtime: 3961.60 seconds\n"
     ]
    }
   ],
   "source": [
    "ROEMs = cr.get_ROEMs(sql_context, model_list, train, test, 'account_id'\n",
    "                     ,'bought')"
   ]
  },
  {
   "cell_type": "code",
   "execution_count": 24,
   "metadata": {},
   "outputs": [
    {
     "name": "stdout",
     "output_type": "stream",
     "text": [
      "Index of smallest error: 177\n",
      "Smallest error:  0.1383817704950063\n"
     ]
    }
   ],
   "source": [
    "best_model = cr.get_best_model(ROEMs, model_list)"
   ]
  },
  {
   "cell_type": "code",
   "execution_count": 25,
   "metadata": {},
   "outputs": [
    {
     "data": {
      "text/plain": [
       "ALS_811ff35a261b"
      ]
     },
     "execution_count": 25,
     "metadata": {},
     "output_type": "execute_result"
    }
   ],
   "source": [
    "best_model"
   ]
  },
  {
   "cell_type": "markdown",
   "metadata": {},
   "source": [
    "## Extracting Parameters"
   ]
  },
  {
   "cell_type": "code",
   "execution_count": 26,
   "metadata": {},
   "outputs": [
    {
     "name": "stdout",
     "output_type": "stream",
     "text": [
      "alpha: 5.0\n",
      "reg param: 0.5\n",
      "max iter: 40\n",
      "rank: 90\n"
     ]
    }
   ],
   "source": [
    "# Extract the best_modelel parameters\n",
    "print('alpha: {}'.format(best_model.getAlpha()))\n",
    "print('reg param: {}'.format(best_model.getRegParam()))\n",
    "print('max iter: {}'.format(best_model.getMaxIter()))\n",
    "print('rank: {}'.format(best_model.getRank()))"
   ]
  },
  {
   "cell_type": "code",
   "execution_count": 31,
   "metadata": {},
   "outputs": [],
   "source": [
    "mod_alphas = [mod.getAlpha() for mod in model_list]\n",
    "mod_reg_params = [mod.getRegParam() for mod in model_list]\n",
    "mod_ranks = [mod.getRank() for mod in model_list]\n",
    "mod_max_iters = [mod.getMaxIter() for mod in model_list]\n"
   ]
  },
  {
   "cell_type": "markdown",
   "metadata": {},
   "source": [
    "Upon inspection of the ROEM history, it appears that the best model lies along the edge of our grid, so we could potentially try other parameter values beyond. For example, the best model has a rank of 40, but we only tried rank values up to 40. We could potentially try higher values. "
   ]
  },
  {
   "cell_type": "markdown",
   "metadata": {},
   "source": [
    "### Assemble the model metrics and error metrics into pandas dataframe"
   ]
  },
  {
   "cell_type": "code",
   "execution_count": null,
   "metadata": {},
   "outputs": [],
   "source": [
    "with open('support_data/roems_20190922.pkl', 'wb') as f:\n",
    "    pickle.dump(ROEMs, f)\n",
    "    "
   ]
  },
  {
   "cell_type": "code",
   "execution_count": 17,
   "metadata": {},
   "outputs": [],
   "source": [
    "pickle_in = open(\"support_data/roems_20190922.pkl\",\"rb\")\n",
    "ROEMSs_load = pickle.load(pickle_in)"
   ]
  },
  {
   "cell_type": "code",
   "execution_count": 32,
   "metadata": {},
   "outputs": [],
   "source": [
    "model_dict = {'alpha': mod_alphas\n",
    "              ,'reg_param': mod_reg_params\n",
    "              ,'rank': mod_ranks\n",
    "              ,'max_iter': mod_max_iters\n",
    "              ,'ROEM': ROEMs\n",
    "}"
   ]
  },
  {
   "cell_type": "code",
   "execution_count": 64,
   "metadata": {},
   "outputs": [],
   "source": [
    "model_df = pd.DataFrame(model_dict)"
   ]
  },
  {
   "cell_type": "code",
   "execution_count": 65,
   "metadata": {},
   "outputs": [],
   "source": [
    "model_df = model_df.sort_values(by=['ROEM'])"
   ]
  },
  {
   "cell_type": "code",
   "execution_count": 66,
   "metadata": {},
   "outputs": [],
   "source": [
    "model_df['enumer'] = list(range(1,len(model_df)+1))"
   ]
  },
  {
   "cell_type": "code",
   "execution_count": 68,
   "metadata": {},
   "outputs": [
    {
     "data": {
      "text/html": [
       "<div>\n",
       "<style scoped>\n",
       "    .dataframe tbody tr th:only-of-type {\n",
       "        vertical-align: middle;\n",
       "    }\n",
       "\n",
       "    .dataframe tbody tr th {\n",
       "        vertical-align: top;\n",
       "    }\n",
       "\n",
       "    .dataframe thead th {\n",
       "        text-align: right;\n",
       "    }\n",
       "</style>\n",
       "<table border=\"1\" class=\"dataframe\">\n",
       "  <thead>\n",
       "    <tr style=\"text-align: right;\">\n",
       "      <th></th>\n",
       "      <th>alpha</th>\n",
       "      <th>reg_param</th>\n",
       "      <th>rank</th>\n",
       "      <th>max_iter</th>\n",
       "      <th>ROEM</th>\n",
       "      <th>enumer</th>\n",
       "    </tr>\n",
       "  </thead>\n",
       "  <tbody>\n",
       "    <tr>\n",
       "      <td>177</td>\n",
       "      <td>5.0</td>\n",
       "      <td>0.50</td>\n",
       "      <td>90</td>\n",
       "      <td>40</td>\n",
       "      <td>0.138382</td>\n",
       "      <td>1</td>\n",
       "    </tr>\n",
       "    <tr>\n",
       "      <td>165</td>\n",
       "      <td>5.0</td>\n",
       "      <td>0.50</td>\n",
       "      <td>90</td>\n",
       "      <td>30</td>\n",
       "      <td>0.138528</td>\n",
       "      <td>2</td>\n",
       "    </tr>\n",
       "    <tr>\n",
       "      <td>129</td>\n",
       "      <td>5.0</td>\n",
       "      <td>0.50</td>\n",
       "      <td>75</td>\n",
       "      <td>30</td>\n",
       "      <td>0.139069</td>\n",
       "      <td>3</td>\n",
       "    </tr>\n",
       "    <tr>\n",
       "      <td>141</td>\n",
       "      <td>5.0</td>\n",
       "      <td>0.50</td>\n",
       "      <td>75</td>\n",
       "      <td>40</td>\n",
       "      <td>0.139095</td>\n",
       "      <td>4</td>\n",
       "    </tr>\n",
       "    <tr>\n",
       "      <td>153</td>\n",
       "      <td>5.0</td>\n",
       "      <td>0.50</td>\n",
       "      <td>90</td>\n",
       "      <td>20</td>\n",
       "      <td>0.139222</td>\n",
       "      <td>5</td>\n",
       "    </tr>\n",
       "    <tr>\n",
       "      <td>117</td>\n",
       "      <td>5.0</td>\n",
       "      <td>0.50</td>\n",
       "      <td>75</td>\n",
       "      <td>20</td>\n",
       "      <td>0.139877</td>\n",
       "      <td>6</td>\n",
       "    </tr>\n",
       "    <tr>\n",
       "      <td>138</td>\n",
       "      <td>5.0</td>\n",
       "      <td>0.25</td>\n",
       "      <td>75</td>\n",
       "      <td>40</td>\n",
       "      <td>0.144694</td>\n",
       "      <td>7</td>\n",
       "    </tr>\n",
       "    <tr>\n",
       "      <td>105</td>\n",
       "      <td>5.0</td>\n",
       "      <td>0.50</td>\n",
       "      <td>40</td>\n",
       "      <td>40</td>\n",
       "      <td>0.144929</td>\n",
       "      <td>8</td>\n",
       "    </tr>\n",
       "    <tr>\n",
       "      <td>93</td>\n",
       "      <td>5.0</td>\n",
       "      <td>0.50</td>\n",
       "      <td>40</td>\n",
       "      <td>30</td>\n",
       "      <td>0.145185</td>\n",
       "      <td>9</td>\n",
       "    </tr>\n",
       "    <tr>\n",
       "      <td>126</td>\n",
       "      <td>5.0</td>\n",
       "      <td>0.25</td>\n",
       "      <td>75</td>\n",
       "      <td>30</td>\n",
       "      <td>0.145319</td>\n",
       "      <td>10</td>\n",
       "    </tr>\n",
       "  </tbody>\n",
       "</table>\n",
       "</div>"
      ],
      "text/plain": [
       "     alpha  reg_param  rank  max_iter      ROEM  enumer\n",
       "177    5.0       0.50    90        40  0.138382       1\n",
       "165    5.0       0.50    90        30  0.138528       2\n",
       "129    5.0       0.50    75        30  0.139069       3\n",
       "141    5.0       0.50    75        40  0.139095       4\n",
       "153    5.0       0.50    90        20  0.139222       5\n",
       "117    5.0       0.50    75        20  0.139877       6\n",
       "138    5.0       0.25    75        40  0.144694       7\n",
       "105    5.0       0.50    40        40  0.144929       8\n",
       "93     5.0       0.50    40        30  0.145185       9\n",
       "126    5.0       0.25    75        30  0.145319      10"
      ]
     },
     "execution_count": 68,
     "metadata": {},
     "output_type": "execute_result"
    }
   ],
   "source": [
    "model_df.head(10)"
   ]
  },
  {
   "cell_type": "markdown",
   "metadata": {},
   "source": [
    "The top 6 models appears to pretty tightly clustered in ROEM. In this case I will opt to use the model that's not on the edge of the grid. I think index 129 will do."
   ]
  },
  {
   "cell_type": "code",
   "execution_count": 70,
   "metadata": {},
   "outputs": [],
   "source": [
    "best_model = model_list[129]"
   ]
  },
  {
   "cell_type": "code",
   "execution_count": 71,
   "metadata": {},
   "outputs": [
    {
     "name": "stdout",
     "output_type": "stream",
     "text": [
      "alpha: 5.0\n",
      "reg param: 0.5\n",
      "max iter: 30\n",
      "rank: 75\n"
     ]
    }
   ],
   "source": [
    "# Extract the best_modelel parameters\n",
    "print('alpha: {}'.format(best_model.getAlpha()))\n",
    "print('reg param: {}'.format(best_model.getRegParam()))\n",
    "print('max iter: {}'.format(best_model.getMaxIter()))\n",
    "print('rank: {}'.format(best_model.getRank()))"
   ]
  },
  {
   "cell_type": "markdown",
   "metadata": {},
   "source": [
    "#### Save the best model"
   ]
  },
  {
   "cell_type": "code",
   "execution_count": 72,
   "metadata": {},
   "outputs": [],
   "source": [
    "!rm -rf models/best_model_use_20190922/"
   ]
  },
  {
   "cell_type": "code",
   "execution_count": 73,
   "metadata": {},
   "outputs": [],
   "source": [
    "best_model.save('models/best_model_use_20190922')"
   ]
  },
  {
   "cell_type": "markdown",
   "metadata": {},
   "source": [
    "## Cross-Validation\n",
    "\n",
    "Perform 5-fold cross-validation"
   ]
  },
  {
   "cell_type": "code",
   "execution_count": 75,
   "metadata": {},
   "outputs": [],
   "source": [
    "errors = []"
   ]
  },
  {
   "cell_type": "code",
   "execution_count": 76,
   "metadata": {},
   "outputs": [],
   "source": [
    "foldlist = cr.create_spark_5_fold_set(train, seed=random_seed)"
   ]
  },
  {
   "cell_type": "code",
   "execution_count": 77,
   "metadata": {},
   "outputs": [],
   "source": [
    "errors = cr.perform_cv(foldlist, best_model, sql_context, \n",
    "                       'account_id', 'bought')"
   ]
  },
  {
   "cell_type": "code",
   "execution_count": 78,
   "metadata": {},
   "outputs": [
    {
     "data": {
      "text/plain": [
       "[0.152455197544284,\n",
       " 0.1596836579518168,\n",
       " 0.15677413940453713,\n",
       " 0.15669430633872505,\n",
       " 0.1517828824930433]"
      ]
     },
     "execution_count": 78,
     "metadata": {},
     "output_type": "execute_result"
    }
   ],
   "source": [
    "errors"
   ]
  },
  {
   "cell_type": "code",
   "execution_count": 91,
   "metadata": {},
   "outputs": [
    {
     "name": "stdout",
     "output_type": "stream",
     "text": [
      "CV errors range: 0.155 (+/- 0.006)\n"
     ]
    }
   ],
   "source": [
    "print(\"CV errors range: %0.3f (+/- %0.3f)\" % (np.mean(errors), \n",
    "                                              np.std(errors) * 2))"
   ]
  },
  {
   "cell_type": "markdown",
   "metadata": {},
   "source": [
    "Seems pretty stable, which helps alleviate some over-fitting concerns."
   ]
  },
  {
   "cell_type": "markdown",
   "metadata": {},
   "source": [
    "## Test the Candidate Model\n",
    "\n",
    "Test vs our holdout set."
   ]
  },
  {
   "cell_type": "code",
   "execution_count": 80,
   "metadata": {},
   "outputs": [],
   "source": [
    "model_fitted = best_model.fit(train)"
   ]
  },
  {
   "cell_type": "code",
   "execution_count": 81,
   "metadata": {},
   "outputs": [
    {
     "data": {
      "text/plain": [
       "0.13845788390498442"
      ]
     },
     "execution_count": 81,
     "metadata": {},
     "output_type": "execute_result"
    }
   ],
   "source": [
    "# get predictions on test\n",
    "test_preds = model_fitted.transform(test)\n",
    "\n",
    "# Evaluate test\n",
    "test_roem = cr.calculate_ROEM(sql_context, test_preds, 'account_id', 'bought')\n",
    "test_roem"
   ]
  },
  {
   "cell_type": "markdown",
   "metadata": {},
   "source": [
    "Weird that test error is lower than train...but not too far off. Let's run with it for now."
   ]
  },
  {
   "cell_type": "markdown",
   "metadata": {},
   "source": [
    "## Get Factors"
   ]
  },
  {
   "cell_type": "markdown",
   "metadata": {},
   "source": [
    "#### Save the item factors for future use!"
   ]
  },
  {
   "cell_type": "code",
   "execution_count": 82,
   "metadata": {},
   "outputs": [],
   "source": [
    "item_factors = model_fitted.itemFactors.toPandas()"
   ]
  },
  {
   "cell_type": "code",
   "execution_count": 83,
   "metadata": {},
   "outputs": [
    {
     "data": {
      "text/plain": [
       "(790, 2)"
      ]
     },
     "execution_count": 83,
     "metadata": {},
     "output_type": "execute_result"
    }
   ],
   "source": [
    "item_factors.shape"
   ]
  },
  {
   "cell_type": "code",
   "execution_count": 84,
   "metadata": {},
   "outputs": [],
   "source": [
    "item_factors.to_pickle(\"support_data/item_factors_20190922.pkl\")"
   ]
  },
  {
   "cell_type": "code",
   "execution_count": 85,
   "metadata": {},
   "outputs": [],
   "source": [
    "pd.set_option('display.max_colwidth', -1)"
   ]
  },
  {
   "cell_type": "code",
   "execution_count": 86,
   "metadata": {},
   "outputs": [
    {
     "data": {
      "text/html": [
       "<div>\n",
       "<style scoped>\n",
       "    .dataframe tbody tr th:only-of-type {\n",
       "        vertical-align: middle;\n",
       "    }\n",
       "\n",
       "    .dataframe tbody tr th {\n",
       "        vertical-align: top;\n",
       "    }\n",
       "\n",
       "    .dataframe thead th {\n",
       "        text-align: right;\n",
       "    }\n",
       "</style>\n",
       "<table border=\"1\" class=\"dataframe\">\n",
       "  <thead>\n",
       "    <tr style=\"text-align: right;\">\n",
       "      <th></th>\n",
       "      <th>id</th>\n",
       "      <th>features</th>\n",
       "    </tr>\n",
       "  </thead>\n",
       "  <tbody>\n",
       "    <tr>\n",
       "      <td>0</td>\n",
       "      <td>60</td>\n",
       "      <td>[0.0, 0.0, 0.0, 0.0826452448964119, 0.0, 0.0, 0.0, 0.0, 0.039434973150491714, 0.0, 0.0, 0.0, 0.0, 0.0, 0.0, 0.9948146939277649, 0.0, 0.0, 0.2473047822713852, 0.02167966403067112, 0.0, 0.0, 0.0, 0.0, 0.0, 0.0, 0.0, 0.059246089309453964, 0.03268354758620262, 0.0, 0.10995704680681229, 0.0, 0.07982633262872696, 0.0, 0.0, 0.0, 0.0, 0.0, 0.0, 0.0, 0.0, 0.0, 0.0, 0.0, 0.015057926997542381, 0.011894325725734234, 0.0, 0.0, 0.0, 0.0, 0.0, 0.06303215771913528, 0.0, 0.0, 0.0, 0.0, 0.0, 0.033097922801971436, 0.031103042885661125, 0.028060728684067726, 0.01773754693567753, 0.0, 0.0, 0.0, 0.0, 0.0, 0.0, 0.0, 0.0, 0.0, 0.0, 0.0, 0.0, 0.19910746812820435, 0.0]</td>\n",
       "    </tr>\n",
       "    <tr>\n",
       "      <td>1</td>\n",
       "      <td>80</td>\n",
       "      <td>[0.0, 0.0, 0.0, 0.0033040973357856274, 0.0, 0.0, 0.0, 0.0, 0.009639354422688484, 0.0, 0.0, 0.0, 0.0, 0.0, 0.0, 0.01085046399384737, 0.0, 0.0, 0.0, 0.0, 0.0, 0.4813947081565857, 0.0, 0.0, 0.0, 0.0, 0.0, 0.0, 0.0, 0.024865329265594482, 0.0, 0.0, 0.0, 0.0, 0.33433255553245544, 0.14560888707637787, 0.0, 0.0, 0.0, 0.0, 0.0, 0.0, 0.0, 0.0, 0.6264654994010925, 0.0, 0.0, 0.0, 0.0, 0.0, 0.0, 0.0, 0.0, 0.0, 0.0, 0.1923040896654129, 0.0, 0.0, 0.06339741498231888, 0.0, 0.0, 0.005075078923255205, 0.0, 0.0, 0.0, 0.0, 0.0, 0.128806933760643, 0.0, 0.0, 0.05120192840695381, 0.0, 0.0, 0.02547549456357956, 0.0]</td>\n",
       "    </tr>\n",
       "    <tr>\n",
       "      <td>2</td>\n",
       "      <td>110</td>\n",
       "      <td>[0.0, 0.009681249968707561, 0.3157486915588379, 0.035485029220581055, 0.08428007364273071, 0.05139074847102165, 0.010632488876581192, 0.010384040884673595, 0.0, 0.004306851886212826, 0.1360526829957962, 0.0, 0.0, 0.0, 0.0, 0.11445901542901993, 0.0, 0.02609862945973873, 0.08677253127098083, 0.0, 0.1700509786605835, 0.01852649636566639, 0.01742601953446865, 0.0, 0.052328720688819885, 0.0, 0.08754375576972961, 0.0, 0.0, 0.05530954897403717, 0.0, 0.0, 0.0, 0.0, 0.0, 0.0, 0.10496184229850769, 0.022573139518499374, 0.0, 0.06583559513092041, 0.09494148939847946, 0.0, 0.0831538662314415, 0.0, 0.03067944385111332, 0.036219604313373566, 0.016076000407338142, 0.07238824665546417, 0.0, 0.031701963394880295, 0.012026206590235233, 0.0, 0.0, 0.0, 0.0, 0.0, 0.06698817759752274, 0.3719470500946045, 0.0, 0.0, 0.03545656055212021, 0.0, 0.0, 0.0, 0.0, 0.0, 0.06538882851600647, 0.10146535187959671, 1.110505223274231, 0.0, 0.07677265256643295, 0.0401727668941021, 0.028192708268761635, 0.0, 0.0]</td>\n",
       "    </tr>\n",
       "    <tr>\n",
       "      <td>3</td>\n",
       "      <td>200</td>\n",
       "      <td>[0.0, 0.0, 0.0008219783194363117, 0.05931999906897545, 0.0017522152047604322, 0.060892585664987564, 0.0, 0.5071122050285339, 0.1063532903790474, 0.005306006409227848, 0.005510434973984957, 0.0, 0.014103081077337265, 0.0, 0.0, 0.0897526741027832, 0.1523221731185913, 0.0, 0.11788218468427658, 0.0, 0.0, 0.10728922486305237, 0.010851364582777023, 0.011304203420877457, 0.0, 0.0, 0.027045346796512604, 0.02051759511232376, 0.11239876598119736, 0.004266583826392889, 0.06424926221370697, 0.011516495607793331, 0.06823383271694183, 0.0, 0.0, 0.07253396511077881, 0.0, 0.0, 0.0, 0.0, 0.0, 0.0, 0.1502048820257187, 0.10489537566900253, 0.09956609457731247, 0.0, 0.0, 0.010047723539173603, 0.08179843425750732, 0.0, 0.13192865252494812, 0.016740024089813232, 0.0, 0.07769604027271271, 0.1828979104757309, 0.0, 0.0, 0.0, 0.0, 0.2341715395450592, 0.002455874113366008, 0.5527805685997009, 0.03604438528418541, 0.11876046657562256, 0.0, 0.0, 0.584153950214386, 0.0851968452334404, 0.03369034081697464, 0.06624818593263626, 0.0, 0.0, 0.05054672062397003, 0.05392900109291077, 0.0]</td>\n",
       "    </tr>\n",
       "    <tr>\n",
       "      <td>4</td>\n",
       "      <td>240</td>\n",
       "      <td>[0.0, 0.2235216647386551, 0.0, 0.0, 0.0, 0.0, 0.0, 0.07523377239704132, 0.15706036984920502, 0.02980225533246994, 0.0, 0.0, 0.0, 0.03824526444077492, 0.0, 0.0, 0.0, 0.0, 0.0, 0.0, 0.0, 0.17709434032440186, 0.0, 0.0, 0.098581463098526, 0.0, 0.1592487245798111, 0.0, 0.1055234745144844, 0.059581972658634186, 0.0, 0.1497793197631836, 0.07032154500484467, 0.0, 0.10109743475914001, 0.0, 0.0, 0.0, 0.0, 0.0, 0.0, 0.0, 0.11361673474311829, 0.0, 0.0, 0.0, 0.09224706143140793, 0.2049531638622284, 0.0, 0.0, 0.0, 0.11741948872804642, 0.0, 0.0004655775846913457, 0.0, 0.0, 0.0, 0.0, 0.0, 0.0, 0.0, 0.0, 0.0, 0.0, 0.0, 0.0, 0.042575541883707047, 0.0, 0.0, 0.9192661643028259, 0.0, 0.0, 0.0, 0.0, 0.0653487965464592]</td>\n",
       "    </tr>\n",
       "  </tbody>\n",
       "</table>\n",
       "</div>"
      ],
      "text/plain": [
       "    id  \\\n",
       "0  60    \n",
       "1  80    \n",
       "2  110   \n",
       "3  200   \n",
       "4  240   \n",
       "\n",
       "                                                                                                                                                                                                                                                                                                                                                                                                                                                                                                                                                                                                                                                                                                                                                                                                                                                                                                                                                                                                                                                                                                       features  \n",
       "0  [0.0, 0.0, 0.0, 0.0826452448964119, 0.0, 0.0, 0.0, 0.0, 0.039434973150491714, 0.0, 0.0, 0.0, 0.0, 0.0, 0.0, 0.9948146939277649, 0.0, 0.0, 0.2473047822713852, 0.02167966403067112, 0.0, 0.0, 0.0, 0.0, 0.0, 0.0, 0.0, 0.059246089309453964, 0.03268354758620262, 0.0, 0.10995704680681229, 0.0, 0.07982633262872696, 0.0, 0.0, 0.0, 0.0, 0.0, 0.0, 0.0, 0.0, 0.0, 0.0, 0.0, 0.015057926997542381, 0.011894325725734234, 0.0, 0.0, 0.0, 0.0, 0.0, 0.06303215771913528, 0.0, 0.0, 0.0, 0.0, 0.0, 0.033097922801971436, 0.031103042885661125, 0.028060728684067726, 0.01773754693567753, 0.0, 0.0, 0.0, 0.0, 0.0, 0.0, 0.0, 0.0, 0.0, 0.0, 0.0, 0.0, 0.19910746812820435, 0.0]                                                                                                                                                                                                                                                                                                                                                                                                                                   \n",
       "1  [0.0, 0.0, 0.0, 0.0033040973357856274, 0.0, 0.0, 0.0, 0.0, 0.009639354422688484, 0.0, 0.0, 0.0, 0.0, 0.0, 0.0, 0.01085046399384737, 0.0, 0.0, 0.0, 0.0, 0.0, 0.4813947081565857, 0.0, 0.0, 0.0, 0.0, 0.0, 0.0, 0.0, 0.024865329265594482, 0.0, 0.0, 0.0, 0.0, 0.33433255553245544, 0.14560888707637787, 0.0, 0.0, 0.0, 0.0, 0.0, 0.0, 0.0, 0.0, 0.6264654994010925, 0.0, 0.0, 0.0, 0.0, 0.0, 0.0, 0.0, 0.0, 0.0, 0.0, 0.1923040896654129, 0.0, 0.0, 0.06339741498231888, 0.0, 0.0, 0.005075078923255205, 0.0, 0.0, 0.0, 0.0, 0.0, 0.128806933760643, 0.0, 0.0, 0.05120192840695381, 0.0, 0.0, 0.02547549456357956, 0.0]                                                                                                                                                                                                                                                                                                                                                                                                                                                                                       \n",
       "2  [0.0, 0.009681249968707561, 0.3157486915588379, 0.035485029220581055, 0.08428007364273071, 0.05139074847102165, 0.010632488876581192, 0.010384040884673595, 0.0, 0.004306851886212826, 0.1360526829957962, 0.0, 0.0, 0.0, 0.0, 0.11445901542901993, 0.0, 0.02609862945973873, 0.08677253127098083, 0.0, 0.1700509786605835, 0.01852649636566639, 0.01742601953446865, 0.0, 0.052328720688819885, 0.0, 0.08754375576972961, 0.0, 0.0, 0.05530954897403717, 0.0, 0.0, 0.0, 0.0, 0.0, 0.0, 0.10496184229850769, 0.022573139518499374, 0.0, 0.06583559513092041, 0.09494148939847946, 0.0, 0.0831538662314415, 0.0, 0.03067944385111332, 0.036219604313373566, 0.016076000407338142, 0.07238824665546417, 0.0, 0.031701963394880295, 0.012026206590235233, 0.0, 0.0, 0.0, 0.0, 0.0, 0.06698817759752274, 0.3719470500946045, 0.0, 0.0, 0.03545656055212021, 0.0, 0.0, 0.0, 0.0, 0.0, 0.06538882851600647, 0.10146535187959671, 1.110505223274231, 0.0, 0.07677265256643295, 0.0401727668941021, 0.028192708268761635, 0.0, 0.0]                                                                                   \n",
       "3  [0.0, 0.0, 0.0008219783194363117, 0.05931999906897545, 0.0017522152047604322, 0.060892585664987564, 0.0, 0.5071122050285339, 0.1063532903790474, 0.005306006409227848, 0.005510434973984957, 0.0, 0.014103081077337265, 0.0, 0.0, 0.0897526741027832, 0.1523221731185913, 0.0, 0.11788218468427658, 0.0, 0.0, 0.10728922486305237, 0.010851364582777023, 0.011304203420877457, 0.0, 0.0, 0.027045346796512604, 0.02051759511232376, 0.11239876598119736, 0.004266583826392889, 0.06424926221370697, 0.011516495607793331, 0.06823383271694183, 0.0, 0.0, 0.07253396511077881, 0.0, 0.0, 0.0, 0.0, 0.0, 0.0, 0.1502048820257187, 0.10489537566900253, 0.09956609457731247, 0.0, 0.0, 0.010047723539173603, 0.08179843425750732, 0.0, 0.13192865252494812, 0.016740024089813232, 0.0, 0.07769604027271271, 0.1828979104757309, 0.0, 0.0, 0.0, 0.0, 0.2341715395450592, 0.002455874113366008, 0.5527805685997009, 0.03604438528418541, 0.11876046657562256, 0.0, 0.0, 0.584153950214386, 0.0851968452334404, 0.03369034081697464, 0.06624818593263626, 0.0, 0.0, 0.05054672062397003, 0.05392900109291077, 0.0]  \n",
       "4  [0.0, 0.2235216647386551, 0.0, 0.0, 0.0, 0.0, 0.0, 0.07523377239704132, 0.15706036984920502, 0.02980225533246994, 0.0, 0.0, 0.0, 0.03824526444077492, 0.0, 0.0, 0.0, 0.0, 0.0, 0.0, 0.0, 0.17709434032440186, 0.0, 0.0, 0.098581463098526, 0.0, 0.1592487245798111, 0.0, 0.1055234745144844, 0.059581972658634186, 0.0, 0.1497793197631836, 0.07032154500484467, 0.0, 0.10109743475914001, 0.0, 0.0, 0.0, 0.0, 0.0, 0.0, 0.0, 0.11361673474311829, 0.0, 0.0, 0.0, 0.09224706143140793, 0.2049531638622284, 0.0, 0.0, 0.0, 0.11741948872804642, 0.0, 0.0004655775846913457, 0.0, 0.0, 0.0, 0.0, 0.0, 0.0, 0.0, 0.0, 0.0, 0.0, 0.0, 0.0, 0.042575541883707047, 0.0, 0.0, 0.9192661643028259, 0.0, 0.0, 0.0, 0.0, 0.0653487965464592]                                                                                                                                                                                                                                                                                                                                                                            "
      ]
     },
     "execution_count": 86,
     "metadata": {},
     "output_type": "execute_result"
    }
   ],
   "source": [
    "item_factors.head()"
   ]
  },
  {
   "cell_type": "markdown",
   "metadata": {},
   "source": [
    "## Test Retrieving the Factors"
   ]
  },
  {
   "cell_type": "code",
   "execution_count": 87,
   "metadata": {},
   "outputs": [],
   "source": [
    "unpickled_items = pd.read_pickle('support_data/item_factors_20190922.pkl')"
   ]
  },
  {
   "cell_type": "code",
   "execution_count": 88,
   "metadata": {},
   "outputs": [
    {
     "data": {
      "text/html": [
       "<div>\n",
       "<style scoped>\n",
       "    .dataframe tbody tr th:only-of-type {\n",
       "        vertical-align: middle;\n",
       "    }\n",
       "\n",
       "    .dataframe tbody tr th {\n",
       "        vertical-align: top;\n",
       "    }\n",
       "\n",
       "    .dataframe thead th {\n",
       "        text-align: right;\n",
       "    }\n",
       "</style>\n",
       "<table border=\"1\" class=\"dataframe\">\n",
       "  <thead>\n",
       "    <tr style=\"text-align: right;\">\n",
       "      <th></th>\n",
       "      <th>id</th>\n",
       "      <th>features</th>\n",
       "    </tr>\n",
       "  </thead>\n",
       "  <tbody>\n",
       "    <tr>\n",
       "      <td>0</td>\n",
       "      <td>60</td>\n",
       "      <td>[0.0, 0.0, 0.0, 0.0826452448964119, 0.0, 0.0, 0.0, 0.0, 0.039434973150491714, 0.0, 0.0, 0.0, 0.0, 0.0, 0.0, 0.9948146939277649, 0.0, 0.0, 0.2473047822713852, 0.02167966403067112, 0.0, 0.0, 0.0, 0.0, 0.0, 0.0, 0.0, 0.059246089309453964, 0.03268354758620262, 0.0, 0.10995704680681229, 0.0, 0.07982633262872696, 0.0, 0.0, 0.0, 0.0, 0.0, 0.0, 0.0, 0.0, 0.0, 0.0, 0.0, 0.015057926997542381, 0.011894325725734234, 0.0, 0.0, 0.0, 0.0, 0.0, 0.06303215771913528, 0.0, 0.0, 0.0, 0.0, 0.0, 0.033097922801971436, 0.031103042885661125, 0.028060728684067726, 0.01773754693567753, 0.0, 0.0, 0.0, 0.0, 0.0, 0.0, 0.0, 0.0, 0.0, 0.0, 0.0, 0.0, 0.19910746812820435, 0.0]</td>\n",
       "    </tr>\n",
       "    <tr>\n",
       "      <td>1</td>\n",
       "      <td>80</td>\n",
       "      <td>[0.0, 0.0, 0.0, 0.0033040973357856274, 0.0, 0.0, 0.0, 0.0, 0.009639354422688484, 0.0, 0.0, 0.0, 0.0, 0.0, 0.0, 0.01085046399384737, 0.0, 0.0, 0.0, 0.0, 0.0, 0.4813947081565857, 0.0, 0.0, 0.0, 0.0, 0.0, 0.0, 0.0, 0.024865329265594482, 0.0, 0.0, 0.0, 0.0, 0.33433255553245544, 0.14560888707637787, 0.0, 0.0, 0.0, 0.0, 0.0, 0.0, 0.0, 0.0, 0.6264654994010925, 0.0, 0.0, 0.0, 0.0, 0.0, 0.0, 0.0, 0.0, 0.0, 0.0, 0.1923040896654129, 0.0, 0.0, 0.06339741498231888, 0.0, 0.0, 0.005075078923255205, 0.0, 0.0, 0.0, 0.0, 0.0, 0.128806933760643, 0.0, 0.0, 0.05120192840695381, 0.0, 0.0, 0.02547549456357956, 0.0]</td>\n",
       "    </tr>\n",
       "    <tr>\n",
       "      <td>2</td>\n",
       "      <td>110</td>\n",
       "      <td>[0.0, 0.009681249968707561, 0.3157486915588379, 0.035485029220581055, 0.08428007364273071, 0.05139074847102165, 0.010632488876581192, 0.010384040884673595, 0.0, 0.004306851886212826, 0.1360526829957962, 0.0, 0.0, 0.0, 0.0, 0.11445901542901993, 0.0, 0.02609862945973873, 0.08677253127098083, 0.0, 0.1700509786605835, 0.01852649636566639, 0.01742601953446865, 0.0, 0.052328720688819885, 0.0, 0.08754375576972961, 0.0, 0.0, 0.05530954897403717, 0.0, 0.0, 0.0, 0.0, 0.0, 0.0, 0.10496184229850769, 0.022573139518499374, 0.0, 0.06583559513092041, 0.09494148939847946, 0.0, 0.0831538662314415, 0.0, 0.03067944385111332, 0.036219604313373566, 0.016076000407338142, 0.07238824665546417, 0.0, 0.031701963394880295, 0.012026206590235233, 0.0, 0.0, 0.0, 0.0, 0.0, 0.06698817759752274, 0.3719470500946045, 0.0, 0.0, 0.03545656055212021, 0.0, 0.0, 0.0, 0.0, 0.0, 0.06538882851600647, 0.10146535187959671, 1.110505223274231, 0.0, 0.07677265256643295, 0.0401727668941021, 0.028192708268761635, 0.0, 0.0]</td>\n",
       "    </tr>\n",
       "    <tr>\n",
       "      <td>3</td>\n",
       "      <td>200</td>\n",
       "      <td>[0.0, 0.0, 0.0008219783194363117, 0.05931999906897545, 0.0017522152047604322, 0.060892585664987564, 0.0, 0.5071122050285339, 0.1063532903790474, 0.005306006409227848, 0.005510434973984957, 0.0, 0.014103081077337265, 0.0, 0.0, 0.0897526741027832, 0.1523221731185913, 0.0, 0.11788218468427658, 0.0, 0.0, 0.10728922486305237, 0.010851364582777023, 0.011304203420877457, 0.0, 0.0, 0.027045346796512604, 0.02051759511232376, 0.11239876598119736, 0.004266583826392889, 0.06424926221370697, 0.011516495607793331, 0.06823383271694183, 0.0, 0.0, 0.07253396511077881, 0.0, 0.0, 0.0, 0.0, 0.0, 0.0, 0.1502048820257187, 0.10489537566900253, 0.09956609457731247, 0.0, 0.0, 0.010047723539173603, 0.08179843425750732, 0.0, 0.13192865252494812, 0.016740024089813232, 0.0, 0.07769604027271271, 0.1828979104757309, 0.0, 0.0, 0.0, 0.0, 0.2341715395450592, 0.002455874113366008, 0.5527805685997009, 0.03604438528418541, 0.11876046657562256, 0.0, 0.0, 0.584153950214386, 0.0851968452334404, 0.03369034081697464, 0.06624818593263626, 0.0, 0.0, 0.05054672062397003, 0.05392900109291077, 0.0]</td>\n",
       "    </tr>\n",
       "    <tr>\n",
       "      <td>4</td>\n",
       "      <td>240</td>\n",
       "      <td>[0.0, 0.2235216647386551, 0.0, 0.0, 0.0, 0.0, 0.0, 0.07523377239704132, 0.15706036984920502, 0.02980225533246994, 0.0, 0.0, 0.0, 0.03824526444077492, 0.0, 0.0, 0.0, 0.0, 0.0, 0.0, 0.0, 0.17709434032440186, 0.0, 0.0, 0.098581463098526, 0.0, 0.1592487245798111, 0.0, 0.1055234745144844, 0.059581972658634186, 0.0, 0.1497793197631836, 0.07032154500484467, 0.0, 0.10109743475914001, 0.0, 0.0, 0.0, 0.0, 0.0, 0.0, 0.0, 0.11361673474311829, 0.0, 0.0, 0.0, 0.09224706143140793, 0.2049531638622284, 0.0, 0.0, 0.0, 0.11741948872804642, 0.0, 0.0004655775846913457, 0.0, 0.0, 0.0, 0.0, 0.0, 0.0, 0.0, 0.0, 0.0, 0.0, 0.0, 0.0, 0.042575541883707047, 0.0, 0.0, 0.9192661643028259, 0.0, 0.0, 0.0, 0.0, 0.0653487965464592]</td>\n",
       "    </tr>\n",
       "  </tbody>\n",
       "</table>\n",
       "</div>"
      ],
      "text/plain": [
       "    id  \\\n",
       "0  60    \n",
       "1  80    \n",
       "2  110   \n",
       "3  200   \n",
       "4  240   \n",
       "\n",
       "                                                                                                                                                                                                                                                                                                                                                                                                                                                                                                                                                                                                                                                                                                                                                                                                                                                                                                                                                                                                                                                                                                       features  \n",
       "0  [0.0, 0.0, 0.0, 0.0826452448964119, 0.0, 0.0, 0.0, 0.0, 0.039434973150491714, 0.0, 0.0, 0.0, 0.0, 0.0, 0.0, 0.9948146939277649, 0.0, 0.0, 0.2473047822713852, 0.02167966403067112, 0.0, 0.0, 0.0, 0.0, 0.0, 0.0, 0.0, 0.059246089309453964, 0.03268354758620262, 0.0, 0.10995704680681229, 0.0, 0.07982633262872696, 0.0, 0.0, 0.0, 0.0, 0.0, 0.0, 0.0, 0.0, 0.0, 0.0, 0.0, 0.015057926997542381, 0.011894325725734234, 0.0, 0.0, 0.0, 0.0, 0.0, 0.06303215771913528, 0.0, 0.0, 0.0, 0.0, 0.0, 0.033097922801971436, 0.031103042885661125, 0.028060728684067726, 0.01773754693567753, 0.0, 0.0, 0.0, 0.0, 0.0, 0.0, 0.0, 0.0, 0.0, 0.0, 0.0, 0.0, 0.19910746812820435, 0.0]                                                                                                                                                                                                                                                                                                                                                                                                                                   \n",
       "1  [0.0, 0.0, 0.0, 0.0033040973357856274, 0.0, 0.0, 0.0, 0.0, 0.009639354422688484, 0.0, 0.0, 0.0, 0.0, 0.0, 0.0, 0.01085046399384737, 0.0, 0.0, 0.0, 0.0, 0.0, 0.4813947081565857, 0.0, 0.0, 0.0, 0.0, 0.0, 0.0, 0.0, 0.024865329265594482, 0.0, 0.0, 0.0, 0.0, 0.33433255553245544, 0.14560888707637787, 0.0, 0.0, 0.0, 0.0, 0.0, 0.0, 0.0, 0.0, 0.6264654994010925, 0.0, 0.0, 0.0, 0.0, 0.0, 0.0, 0.0, 0.0, 0.0, 0.0, 0.1923040896654129, 0.0, 0.0, 0.06339741498231888, 0.0, 0.0, 0.005075078923255205, 0.0, 0.0, 0.0, 0.0, 0.0, 0.128806933760643, 0.0, 0.0, 0.05120192840695381, 0.0, 0.0, 0.02547549456357956, 0.0]                                                                                                                                                                                                                                                                                                                                                                                                                                                                                       \n",
       "2  [0.0, 0.009681249968707561, 0.3157486915588379, 0.035485029220581055, 0.08428007364273071, 0.05139074847102165, 0.010632488876581192, 0.010384040884673595, 0.0, 0.004306851886212826, 0.1360526829957962, 0.0, 0.0, 0.0, 0.0, 0.11445901542901993, 0.0, 0.02609862945973873, 0.08677253127098083, 0.0, 0.1700509786605835, 0.01852649636566639, 0.01742601953446865, 0.0, 0.052328720688819885, 0.0, 0.08754375576972961, 0.0, 0.0, 0.05530954897403717, 0.0, 0.0, 0.0, 0.0, 0.0, 0.0, 0.10496184229850769, 0.022573139518499374, 0.0, 0.06583559513092041, 0.09494148939847946, 0.0, 0.0831538662314415, 0.0, 0.03067944385111332, 0.036219604313373566, 0.016076000407338142, 0.07238824665546417, 0.0, 0.031701963394880295, 0.012026206590235233, 0.0, 0.0, 0.0, 0.0, 0.0, 0.06698817759752274, 0.3719470500946045, 0.0, 0.0, 0.03545656055212021, 0.0, 0.0, 0.0, 0.0, 0.0, 0.06538882851600647, 0.10146535187959671, 1.110505223274231, 0.0, 0.07677265256643295, 0.0401727668941021, 0.028192708268761635, 0.0, 0.0]                                                                                   \n",
       "3  [0.0, 0.0, 0.0008219783194363117, 0.05931999906897545, 0.0017522152047604322, 0.060892585664987564, 0.0, 0.5071122050285339, 0.1063532903790474, 0.005306006409227848, 0.005510434973984957, 0.0, 0.014103081077337265, 0.0, 0.0, 0.0897526741027832, 0.1523221731185913, 0.0, 0.11788218468427658, 0.0, 0.0, 0.10728922486305237, 0.010851364582777023, 0.011304203420877457, 0.0, 0.0, 0.027045346796512604, 0.02051759511232376, 0.11239876598119736, 0.004266583826392889, 0.06424926221370697, 0.011516495607793331, 0.06823383271694183, 0.0, 0.0, 0.07253396511077881, 0.0, 0.0, 0.0, 0.0, 0.0, 0.0, 0.1502048820257187, 0.10489537566900253, 0.09956609457731247, 0.0, 0.0, 0.010047723539173603, 0.08179843425750732, 0.0, 0.13192865252494812, 0.016740024089813232, 0.0, 0.07769604027271271, 0.1828979104757309, 0.0, 0.0, 0.0, 0.0, 0.2341715395450592, 0.002455874113366008, 0.5527805685997009, 0.03604438528418541, 0.11876046657562256, 0.0, 0.0, 0.584153950214386, 0.0851968452334404, 0.03369034081697464, 0.06624818593263626, 0.0, 0.0, 0.05054672062397003, 0.05392900109291077, 0.0]  \n",
       "4  [0.0, 0.2235216647386551, 0.0, 0.0, 0.0, 0.0, 0.0, 0.07523377239704132, 0.15706036984920502, 0.02980225533246994, 0.0, 0.0, 0.0, 0.03824526444077492, 0.0, 0.0, 0.0, 0.0, 0.0, 0.0, 0.0, 0.17709434032440186, 0.0, 0.0, 0.098581463098526, 0.0, 0.1592487245798111, 0.0, 0.1055234745144844, 0.059581972658634186, 0.0, 0.1497793197631836, 0.07032154500484467, 0.0, 0.10109743475914001, 0.0, 0.0, 0.0, 0.0, 0.0, 0.0, 0.0, 0.11361673474311829, 0.0, 0.0, 0.0, 0.09224706143140793, 0.2049531638622284, 0.0, 0.0, 0.0, 0.11741948872804642, 0.0, 0.0004655775846913457, 0.0, 0.0, 0.0, 0.0, 0.0, 0.0, 0.0, 0.0, 0.0, 0.0, 0.0, 0.0, 0.042575541883707047, 0.0, 0.0, 0.9192661643028259, 0.0, 0.0, 0.0, 0.0, 0.0653487965464592]                                                                                                                                                                                                                                                                                                                                                                            "
      ]
     },
     "execution_count": 88,
     "metadata": {},
     "output_type": "execute_result"
    }
   ],
   "source": [
    "unpickled_items.head()"
   ]
  },
  {
   "cell_type": "markdown",
   "metadata": {},
   "source": [
    "---"
   ]
  }
 ],
 "metadata": {
  "kernelspec": {
   "display_name": "Python 3",
   "language": "python",
   "name": "python3"
  },
  "language_info": {
   "codemirror_mode": {
    "name": "ipython",
    "version": 3
   },
   "file_extension": ".py",
   "mimetype": "text/x-python",
   "name": "python",
   "nbconvert_exporter": "python",
   "pygments_lexer": "ipython3",
   "version": "3.6.9"
  }
 },
 "nbformat": 4,
 "nbformat_minor": 4
}
