{
 "cells": [
  {
   "cell_type": "markdown",
   "metadata": {},
   "source": [
    "# Comics Rx\n",
    "## [A comic book recommendation system](https://github.com/MangrobanGit/comics_rx)\n",
    "<img src=\"https://images.unsplash.com/photo-1514329926535-7f6dbfbfb114?ixlib=rb-1.2.1&ixid=eyJhcHBfaWQiOjEyMDd9&auto=format&fit=crop&w=2850&q=80\" width=\"400\" align='left'>"
   ]
  },
  {
   "cell_type": "markdown",
   "metadata": {},
   "source": [
    "---"
   ]
  },
  {
   "cell_type": "markdown",
   "metadata": {},
   "source": [
    "# Reduced Data: Grid Search + Cross-Validation\n",
    "\n",
    "This time, as explored in the EDA NB, let's consider removing customers who we feel have too few or too many purchases to influence the model in the intended way.\n",
    "\n",
    "Examples:\n",
    "- Too few - Customers who have only bought 1 comic (series).\n",
    "- Too many - Customers with > 1000 series (for example, think all eBay customers are rolled into one account number)."
   ]
  },
  {
   "cell_type": "markdown",
   "metadata": {},
   "source": [
    "# Libraries"
   ]
  },
  {
   "cell_type": "code",
   "execution_count": 44,
   "metadata": {},
   "outputs": [
    {
     "name": "stdout",
     "output_type": "stream",
     "text": [
      "The autoreload extension is already loaded. To reload it, use:\n",
      "  %reload_ext autoreload\n"
     ]
    }
   ],
   "source": [
    "%matplotlib inline\n",
    "%load_ext autoreload\n",
    "# %autoreload 1 #would be where you need to specify the files\n",
    "# %aimport comic_recs\n",
    "\n",
    "import pandas as pd # dataframes\n",
    "import os\n",
    "import pickle\n",
    "import numpy as np\n",
    "\n",
    "# Data storage\n",
    "from sqlalchemy import create_engine # SQL helper\n",
    "import psycopg2 as psql #PostgreSQL DBs\n",
    "\n",
    "# import Spark methods\n",
    "import pyspark\n",
    "from pyspark.sql import SparkSession\n",
    "from pyspark.ml.evaluation import RegressionEvaluator\n",
    "# from pyspark.sql.types import (StructType, StructField, IntegerType\n",
    "#                                ,FloatType, LongType, StringType)\n",
    "from pyspark.sql.types import *\n",
    "\n",
    "import pyspark.sql.functions as F\n",
    "from pyspark.sql.functions import col, explode, lit, isnan, when, count\n",
    "from pyspark.ml.recommendation import ALS, ALSModel\n",
    "from pyspark.ml.evaluation import RegressionEvaluator\n",
    "from pyspark.ml.tuning import (CrossValidator, ParamGridBuilder, \n",
    "                               TrainValidationSplit)\n",
    "from pyspark.ml.evaluation import BinaryClassificationEvaluator\n",
    "from pyspark.sql import DataFrame\n",
    "from pyspark import SparkConf\n",
    "from pyspark.sql import SQLContext\n",
    "\n",
    "# Plotting\n",
    "import seaborn as sns\n",
    "import matplotlib.pyplot as plt"
   ]
  },
  {
   "cell_type": "code",
   "execution_count": 2,
   "metadata": {},
   "outputs": [],
   "source": [
    "import sys"
   ]
  },
  {
   "cell_type": "code",
   "execution_count": 3,
   "metadata": {},
   "outputs": [],
   "source": [
    "sys.path.append('..')"
   ]
  },
  {
   "cell_type": "code",
   "execution_count": 4,
   "metadata": {},
   "outputs": [],
   "source": [
    "# Custom\n",
    "import data_fcns as dfc\n",
    "import keys  # Custom keys lib\n",
    "import comic_recs as cr\n",
    "\n",
    "import time\n",
    "import itertools\n",
    "from functools import reduce\n",
    "import numpy as np"
   ]
  },
  {
   "cell_type": "markdown",
   "metadata": {},
   "source": [
    "### Configure Spark"
   ]
  },
  {
   "cell_type": "code",
   "execution_count": 5,
   "metadata": {},
   "outputs": [],
   "source": [
    "conf = SparkConf()\n",
    "\n",
    "# Laptop config\n",
    "conf = (conf.setMaster('local[*]')\n",
    "#         .set('spark.executor.memory', '1G') #https://stackoverflow.com/questions/48523629/spark-pyspark-an-error-occurred-while-trying-to-connect-to-the-java-server-127\n",
    "        .set('spark.driver.memory', '7G')\n",
    "        .set('spark.driver.maxResultSize', '2G'))\n",
    "#         .set('spark.executor.memory', '1G')\n",
    "#         .set('spark.driver.memory', '10G')\n",
    "#         .set('spark.driver.maxResultSize', '5G'))\n",
    "\n",
    "# AWS instance config\n",
    "#conf = (conf.setMaster('local[*]')\n",
    "#         .set('spark.driver.memory', '25G')\n",
    "#         .set('spark.driver.maxResultSize', '4G'))\n",
    "#         .set('spark.executor.memory', '1G') #https://stackoverflow.com/questions/48523629/spark-pyspark-an-error-occurred-while-trying-to-connect-to-the-java-server-127\n",
    "#         .set('spark.driver.memory', '10G')\n",
    "#         .set('spark.driver.maxResultSize', '5G'))\n",
    "\n",
    "sc = pyspark.SparkContext().getOrCreate(conf=conf)\n",
    "\n",
    "sql_context = SQLContext(sc)\n",
    "\n",
    "sc.setCheckpointDir('./checkpoints')\n",
    "# spark.sparkContext.setCheckpointDir(\"hdfs://datalake/check_point_directory/als\")"
   ]
  },
  {
   "cell_type": "markdown",
   "metadata": {},
   "source": [
    "## Import Data\n",
    "\n",
    "We've previously set aside the dataset into a `json` file."
   ]
  },
  {
   "cell_type": "code",
   "execution_count": 6,
   "metadata": {},
   "outputs": [],
   "source": [
    "# We have previously created a version of the transactions table \n",
    "# and filtered it down.\n",
    "sold = sql_context.read.json('raw_data/als_input_filtered_190915.json')"
   ]
  },
  {
   "cell_type": "code",
   "execution_count": 7,
   "metadata": {},
   "outputs": [
    {
     "data": {
      "text/plain": [
       "DataFrame[account_id: bigint, bought: bigint, comic_id: bigint]"
      ]
     },
     "execution_count": 7,
     "metadata": {},
     "output_type": "execute_result"
    }
   ],
   "source": [
    "# Persist the data\n",
    "sold.persist()"
   ]
  },
  {
   "cell_type": "code",
   "execution_count": 8,
   "metadata": {},
   "outputs": [
    {
     "data": {
      "text/plain": [
       "846090"
      ]
     },
     "execution_count": 8,
     "metadata": {},
     "output_type": "execute_result"
    }
   ],
   "source": [
    "sold.count()"
   ]
  },
  {
   "cell_type": "markdown",
   "metadata": {},
   "source": [
    "### ALS Model\n",
    "\n",
    "Let's start with  train/test split."
   ]
  },
  {
   "cell_type": "code",
   "execution_count": 9,
   "metadata": {},
   "outputs": [],
   "source": [
    "random_seed = 41916"
   ]
  },
  {
   "cell_type": "code",
   "execution_count": 10,
   "metadata": {},
   "outputs": [],
   "source": [
    "# Split data into training and test set\n",
    "(train, test) = sold.randomSplit([.75, .25], seed=random_seed)"
   ]
  },
  {
   "cell_type": "code",
   "execution_count": 11,
   "metadata": {},
   "outputs": [
    {
     "data": {
      "text/plain": [
       "634635"
      ]
     },
     "execution_count": 11,
     "metadata": {},
     "output_type": "execute_result"
    }
   ],
   "source": [
    "train.count()"
   ]
  },
  {
   "cell_type": "markdown",
   "metadata": {},
   "source": [
    "Make sure shapes make sense."
   ]
  },
  {
   "cell_type": "code",
   "execution_count": 12,
   "metadata": {},
   "outputs": [
    {
     "name": "stdout",
     "output_type": "stream",
     "text": [
      "634635 3\n"
     ]
    }
   ],
   "source": [
    "print(train.count(), len(train.columns))"
   ]
  },
  {
   "cell_type": "code",
   "execution_count": 13,
   "metadata": {},
   "outputs": [
    {
     "name": "stdout",
     "output_type": "stream",
     "text": [
      "211455 3\n"
     ]
    }
   ],
   "source": [
    "print(test.count(), len(test.columns))"
   ]
  },
  {
   "cell_type": "markdown",
   "metadata": {},
   "source": [
    "## New Grid Search"
   ]
  },
  {
   "cell_type": "code",
   "execution_count": 14,
   "metadata": {},
   "outputs": [],
   "source": [
    "# # hyper-param config\n",
    "# max_iters = [20, 25, 30]\n",
    "# ranks = [5, 10, 20, 25]\n",
    "# reg_params = [.05, .10, .15]\n",
    "# alphas = [5, 25, 40]"
   ]
  },
  {
   "cell_type": "code",
   "execution_count": 15,
   "metadata": {},
   "outputs": [],
   "source": [
    "# # hyper-param config\n",
    "# max_iters = [30, 40]\n",
    "# ranks = [25, 30]\n",
    "# reg_params = [.15, .25]\n",
    "# alphas = [5]"
   ]
  },
  {
   "cell_type": "code",
   "execution_count": 16,
   "metadata": {},
   "outputs": [],
   "source": [
    "# # hyper-param config\n",
    "# max_iters = [30]\n",
    "# ranks = [5, 10]\n",
    "# reg_params = [.25, .30]\n",
    "# alphas = [5]"
   ]
  },
  {
   "cell_type": "code",
   "execution_count": 17,
   "metadata": {},
   "outputs": [],
   "source": [
    "# hyper-param config\n",
    "max_iters = [40]\n",
    "ranks = [30]\n",
    "reg_params = [.25]\n",
    "alphas = [5]"
   ]
  },
  {
   "cell_type": "code",
   "execution_count": 18,
   "metadata": {},
   "outputs": [],
   "source": [
    "# hyper-param config\n",
    "max_iters = [20, 30, 40]\n",
    "ranks = [5, 10, 20, 30, 40]\n",
    "reg_params = [.05, .10, .25, .50]\n",
    "alphas = [5, 25, 40, 100]"
   ]
  },
  {
   "cell_type": "markdown",
   "metadata": {},
   "source": [
    "These will be user, item and rating columns, respectively, for our dataset.\n",
    "- `account_id`\n",
    "- `comic_id`\n",
    "- `bought`"
   ]
  },
  {
   "cell_type": "code",
   "execution_count": 19,
   "metadata": {},
   "outputs": [],
   "source": [
    "model_list = cr.create_als_models_list(userCol=\"account_id\", itemCol=\"comic_id\"\n",
    "                                    ,ratingCol=\"bought\"\n",
    "                                    ,ranks=ranks\n",
    "                                    ,max_iters=max_iters\n",
    "                                    ,reg_params=reg_params\n",
    "                                    ,alphas=alphas\n",
    "                                    ,seed=random_seed\n",
    "                                   )"
   ]
  },
  {
   "cell_type": "code",
   "execution_count": 20,
   "metadata": {},
   "outputs": [
    {
     "data": {
      "text/plain": [
       "[ALS_79970e79f6cb,\n",
       " ALS_36fb60fe80ff,\n",
       " ALS_4c53f475ea6d,\n",
       " ALS_cb761e2de513,\n",
       " ALS_f329e3e61c85,\n",
       " ALS_d6224b2689ab,\n",
       " ALS_44f7779cd04d,\n",
       " ALS_4e9c3f2f923d,\n",
       " ALS_459cd49bfb27,\n",
       " ALS_9cd396141376,\n",
       " ALS_499143b3f40a,\n",
       " ALS_e3bacf56e376,\n",
       " ALS_e7b9cc3808d7,\n",
       " ALS_c6995e303e61,\n",
       " ALS_765102bce857,\n",
       " ALS_d370b59dba4a,\n",
       " ALS_51e15e7eec31,\n",
       " ALS_a9ba7b084d0b,\n",
       " ALS_500f4e5ad35d,\n",
       " ALS_5f0d08e4e572,\n",
       " ALS_6b491b2bc51d,\n",
       " ALS_9514f6fc5eeb,\n",
       " ALS_b52dee8b4a91,\n",
       " ALS_48ba9ac9a032,\n",
       " ALS_de3d55cf13a4,\n",
       " ALS_fcaadd240aad,\n",
       " ALS_4e9f85414c64,\n",
       " ALS_d25f5e7ab87d,\n",
       " ALS_23f8293b4735,\n",
       " ALS_3338019de999,\n",
       " ALS_1701253e9f27,\n",
       " ALS_8ca308eecc68,\n",
       " ALS_9c64703b2d41,\n",
       " ALS_aa13c41fdac8,\n",
       " ALS_819b19bb30fa,\n",
       " ALS_70ecb63eb816,\n",
       " ALS_22bc63bd0810,\n",
       " ALS_2314a58ba707,\n",
       " ALS_fa84db690a83,\n",
       " ALS_484469a8c4af,\n",
       " ALS_ddb6c3207234,\n",
       " ALS_758207d8d05f,\n",
       " ALS_5fe45e276b3a,\n",
       " ALS_c88b9cf7c0eb,\n",
       " ALS_d9a27a3d4e2f,\n",
       " ALS_0dd8e357f9d0,\n",
       " ALS_9b87d7b09620,\n",
       " ALS_066d71ef1872,\n",
       " ALS_6fda87ef82e5,\n",
       " ALS_e6c1302dbbfa,\n",
       " ALS_d0874540e6c8,\n",
       " ALS_be11e95b3bf1,\n",
       " ALS_92392930df5e,\n",
       " ALS_e7b2362e4b09,\n",
       " ALS_c69defdcb703,\n",
       " ALS_5897ae1972cb,\n",
       " ALS_a5c4c881dad6,\n",
       " ALS_b53bef48ea27,\n",
       " ALS_3a1c8cd40a32,\n",
       " ALS_1b51cc583d74,\n",
       " ALS_21818388c801,\n",
       " ALS_682874c10892,\n",
       " ALS_e35ab80bef1c,\n",
       " ALS_4eb4ef78a0f3,\n",
       " ALS_d8362a4d51aa,\n",
       " ALS_e5eccb7df5df,\n",
       " ALS_738ed1afb92d,\n",
       " ALS_1a6c6ba7edd7,\n",
       " ALS_8a2beec668f7,\n",
       " ALS_c239f0f28dac,\n",
       " ALS_8078a795de55,\n",
       " ALS_dc64155e8ffc,\n",
       " ALS_1930af85e753,\n",
       " ALS_4eab34f0c059,\n",
       " ALS_83253325d51f,\n",
       " ALS_25a6d43fb314,\n",
       " ALS_bea6246f2d51,\n",
       " ALS_ed326c95db29,\n",
       " ALS_cc1f92e01880,\n",
       " ALS_efb1ee302774,\n",
       " ALS_1efff56e0b91,\n",
       " ALS_fc87bcc81b8d,\n",
       " ALS_dd6ec0b82756,\n",
       " ALS_1874c2ebd35b,\n",
       " ALS_12979070cc3d,\n",
       " ALS_7c9a404772e4,\n",
       " ALS_e77776bd03eb,\n",
       " ALS_40116279ca6b,\n",
       " ALS_8164ea0e9628,\n",
       " ALS_093ec5931431,\n",
       " ALS_9ad027decbca,\n",
       " ALS_967c7dab0397,\n",
       " ALS_cdc6105c0103,\n",
       " ALS_dfad64ccf9ae,\n",
       " ALS_5da6984e5ecb,\n",
       " ALS_6f481b3fc53f,\n",
       " ALS_7d34200fb2ed,\n",
       " ALS_172070b54155,\n",
       " ALS_1cef2a674984,\n",
       " ALS_e22b60f0064b,\n",
       " ALS_a31ee3539e01,\n",
       " ALS_343285a36717,\n",
       " ALS_db5e0afed8aa,\n",
       " ALS_185586ff1596,\n",
       " ALS_b9862d78469b,\n",
       " ALS_788201802467,\n",
       " ALS_d8689ce39c57,\n",
       " ALS_8a25cafd2455,\n",
       " ALS_a81023768f54,\n",
       " ALS_822cd447a9eb,\n",
       " ALS_a791f7c4446e,\n",
       " ALS_17bdeaa124aa,\n",
       " ALS_2e47d3bbec30,\n",
       " ALS_50263b4d0f7d,\n",
       " ALS_49aee184998f,\n",
       " ALS_a15135b8d3cf,\n",
       " ALS_d64c362352a9,\n",
       " ALS_6c7b3e5a2606,\n",
       " ALS_f61c47af110b,\n",
       " ALS_5ab2844f8073,\n",
       " ALS_227a8dffb7b3,\n",
       " ALS_c57e7a9bd6f7,\n",
       " ALS_45f23ae5e8d3,\n",
       " ALS_9917ccd2191b,\n",
       " ALS_39cbbc68f365,\n",
       " ALS_917601991214,\n",
       " ALS_1648750b1815,\n",
       " ALS_8eb7de921f35,\n",
       " ALS_9fe7b15196e9,\n",
       " ALS_0a996120e882,\n",
       " ALS_56bb1640d8e7,\n",
       " ALS_c63795e35676,\n",
       " ALS_3770ab7b7309,\n",
       " ALS_03c7aa318b4f,\n",
       " ALS_ca7582424005,\n",
       " ALS_336149d7256a,\n",
       " ALS_a3ee5b77e7d5,\n",
       " ALS_ab664bbb7cd2,\n",
       " ALS_083a0ba0e8c1,\n",
       " ALS_88ac50c3fe1e,\n",
       " ALS_c617248c11a7,\n",
       " ALS_692e9b15533d,\n",
       " ALS_cab9221cd022,\n",
       " ALS_095853368050,\n",
       " ALS_12a4ab9290ba,\n",
       " ALS_2fe1e430894b,\n",
       " ALS_b05e76bee121,\n",
       " ALS_e3c5ca91ac41,\n",
       " ALS_7386f2a04b72,\n",
       " ALS_83c835677226,\n",
       " ALS_9edb60b0f940,\n",
       " ALS_1a732cb2de7c,\n",
       " ALS_420b56801dff,\n",
       " ALS_2a4342337304,\n",
       " ALS_3fe09e757b0d,\n",
       " ALS_057935d4f5c2,\n",
       " ALS_75113504ce30,\n",
       " ALS_9da179f0c645,\n",
       " ALS_c9a32ec87609,\n",
       " ALS_7765b58b2796,\n",
       " ALS_ac35a7513df5,\n",
       " ALS_0db7f57924f7,\n",
       " ALS_fb4f8e4f6c5b,\n",
       " ALS_16c3eff5be96,\n",
       " ALS_df0ba9d22db0,\n",
       " ALS_67e4a1ebe70c,\n",
       " ALS_6045748222cc,\n",
       " ALS_51639e474efc,\n",
       " ALS_ae9c3e12c2c8,\n",
       " ALS_cfb6b9e9e81b,\n",
       " ALS_510ef6eeb21d,\n",
       " ALS_078ea9310d3b,\n",
       " ALS_acc322080745,\n",
       " ALS_0f70c3724ee9,\n",
       " ALS_ce772725755d,\n",
       " ALS_887536e2819e,\n",
       " ALS_d91792a93c1e,\n",
       " ALS_53bf77aa19be,\n",
       " ALS_39158a246584,\n",
       " ALS_a0596287ac27,\n",
       " ALS_cb2f6668e3ec,\n",
       " ALS_2938be4d3a25,\n",
       " ALS_4f51c514b3fc,\n",
       " ALS_24f1673772fb,\n",
       " ALS_29d8bc17d097,\n",
       " ALS_2b5ee979cf87,\n",
       " ALS_b510d23b8291,\n",
       " ALS_7e7293879f4a,\n",
       " ALS_c0743b2c4cd9,\n",
       " ALS_a99ee54e4549,\n",
       " ALS_6d0867b1d5d9,\n",
       " ALS_f4b4f2dfda23,\n",
       " ALS_c39542e75e40,\n",
       " ALS_323ee1dba02f,\n",
       " ALS_c218261c4945,\n",
       " ALS_740b8fbf48ab,\n",
       " ALS_5556b1d5955d,\n",
       " ALS_013db0e6da48,\n",
       " ALS_73d810438182,\n",
       " ALS_a45e4d3f04dd,\n",
       " ALS_79d7c21fb938,\n",
       " ALS_6f736080c14e,\n",
       " ALS_3c864720cd4b,\n",
       " ALS_1cbe3becbc71,\n",
       " ALS_18bcf83d86f9,\n",
       " ALS_74a15b4f2f6e,\n",
       " ALS_af156e7e6275,\n",
       " ALS_d019b426f67f,\n",
       " ALS_07f1b4363ee6,\n",
       " ALS_7ca92635a332,\n",
       " ALS_3e451963e4ac,\n",
       " ALS_ae65d643abb3,\n",
       " ALS_bab241659e20,\n",
       " ALS_9a519d7d28ad,\n",
       " ALS_8f00acc4ca83,\n",
       " ALS_708fd5b117e6,\n",
       " ALS_3df4a3472ba2,\n",
       " ALS_2e65dfb20509,\n",
       " ALS_b3a628997b87,\n",
       " ALS_ca2e19c56739,\n",
       " ALS_c60f2df81674,\n",
       " ALS_16a6123ca7b8,\n",
       " ALS_43fe15ab8a47,\n",
       " ALS_1ad307ceb354,\n",
       " ALS_581e4de11230,\n",
       " ALS_33f00aeaf1aa,\n",
       " ALS_dfa98d603728,\n",
       " ALS_b0ff07a5dc71,\n",
       " ALS_75932f987bf4,\n",
       " ALS_9f3512d8c914,\n",
       " ALS_4ee3e5caea9c,\n",
       " ALS_ec2cdcecd0e8,\n",
       " ALS_20ceb709d87e,\n",
       " ALS_70b1aa7ce469,\n",
       " ALS_8dd5f7199fe6,\n",
       " ALS_9c3ce2eede67,\n",
       " ALS_19b8fd7da8d9,\n",
       " ALS_fb4183996897,\n",
       " ALS_400560fb2468,\n",
       " ALS_4f762418d092]"
      ]
     },
     "execution_count": 20,
     "metadata": {},
     "output_type": "execute_result"
    }
   ],
   "source": [
    "model_list"
   ]
  },
  {
   "cell_type": "markdown",
   "metadata": {},
   "source": [
    "Check that model list has proper number of combinations."
   ]
  },
  {
   "cell_type": "code",
   "execution_count": 21,
   "metadata": {},
   "outputs": [
    {
     "name": "stdout",
     "output_type": "stream",
     "text": [
      "True\n"
     ]
    }
   ],
   "source": [
    "print( len(model_list) == (len(max_iters)*len(ranks)*len(reg_params)*len(alphas)) )"
   ]
  },
  {
   "cell_type": "markdown",
   "metadata": {},
   "source": [
    "### Manual Cross-Validation"
   ]
  },
  {
   "cell_type": "markdown",
   "metadata": {},
   "source": [
    "## Metrics"
   ]
  },
  {
   "cell_type": "code",
   "execution_count": 22,
   "metadata": {},
   "outputs": [
    {
     "name": "stdout",
     "output_type": "stream",
     "text": [
      "Validation ROEM #1: 0.19134561177973972\n",
      "Validation ROEM #2: 0.1876827427285817\n",
      "Validation ROEM #3: 0.19027737320136165\n",
      "Validation ROEM #4: 0.1991636965010482\n",
      "Validation ROEM #5: 0.1911200435745735\n",
      "Validation ROEM #6: 0.1875977122338758\n",
      "Validation ROEM #7: 0.1901276534870648\n",
      "Validation ROEM #8: 0.19864277974489786\n",
      "Validation ROEM #9: 0.19036813296278882\n",
      "Validation ROEM #10: 0.18731592423295831\n",
      "Validation ROEM #11: 0.18964788669034244\n",
      "Validation ROEM #12: 0.19760961970279622\n",
      "Validation ROEM #13: 0.18963968337402312\n",
      "Validation ROEM #14: 0.18642287740761168\n",
      "Validation ROEM #15: 0.18877627951442777\n",
      "Validation ROEM #16: 0.196313141311891\n",
      "Validation ROEM #17: 0.1915670227116951\n",
      "Validation ROEM #18: 0.18737775309120064\n",
      "Validation ROEM #19: 0.18893069369280546\n",
      "Validation ROEM #20: 0.19861632820624128\n",
      "Validation ROEM #21: 0.19123698354570431\n",
      "Validation ROEM #22: 0.1872404442235986\n",
      "Validation ROEM #23: 0.18872956698659393\n",
      "Validation ROEM #24: 0.19820594332349661\n",
      "Validation ROEM #25: 0.19064365444460707\n",
      "Validation ROEM #26: 0.1867614759790312\n",
      "Validation ROEM #27: 0.1883153002696283\n",
      "Validation ROEM #28: 0.19726599619708549\n",
      "Validation ROEM #29: 0.18984161012144682\n",
      "Validation ROEM #30: 0.18596510393683446\n",
      "Validation ROEM #31: 0.1875889537467064\n",
      "Validation ROEM #32: 0.19594814225642881\n",
      "Validation ROEM #33: 0.19167722211534124\n",
      "Validation ROEM #34: 0.18735593337346973\n",
      "Validation ROEM #35: 0.18853163052427566\n",
      "Validation ROEM #36: 0.19831409021150884\n",
      "Validation ROEM #37: 0.19136154547103723\n",
      "Validation ROEM #38: 0.18723252084227018\n",
      "Validation ROEM #39: 0.18834638352293373\n",
      "Validation ROEM #40: 0.19796935883642006\n",
      "Validation ROEM #41: 0.19078859782447466\n",
      "Validation ROEM #42: 0.18660913259565937\n",
      "Validation ROEM #43: 0.18779854373694208\n",
      "Validation ROEM #44: 0.1974208086793552\n",
      "Validation ROEM #45: 0.18991730131867895\n",
      "Validation ROEM #46: 0.18578707831785468\n",
      "Validation ROEM #47: 0.1869201095841107\n",
      "Validation ROEM #48: 0.19610506408448275\n",
      "Validation ROEM #49: 0.16999794890084743\n",
      "Validation ROEM #50: 0.16905751045509423\n",
      "Validation ROEM #51: 0.1726832014201298\n",
      "Validation ROEM #52: 0.18206045435125015\n",
      "Validation ROEM #53: 0.16918770625864973\n",
      "Validation ROEM #54: 0.16875475889023622\n",
      "Validation ROEM #55: 0.17209748062518634\n",
      "Validation ROEM #56: 0.18140355517597292\n",
      "Validation ROEM #57: 0.16875222629390882\n",
      "Validation ROEM #58: 0.16788640798866983\n",
      "Validation ROEM #59: 0.17096655814062345\n",
      "Validation ROEM #60: 0.17993746636592256\n",
      "Validation ROEM #61: 0.16666936952835792\n",
      "Validation ROEM #62: 0.16646602407216535\n",
      "Validation ROEM #63: 0.16951270600422289\n",
      "Validation ROEM #64: 0.17787084698625102\n",
      "Validation ROEM #65: 0.16996967623364145\n",
      "Validation ROEM #66: 0.16890324167998597\n",
      "Validation ROEM #67: 0.1718891248808691\n",
      "Validation ROEM #68: 0.18170600565321637\n",
      "Validation ROEM #69: 0.16942095961571924\n",
      "Validation ROEM #70: 0.16861748793485798\n",
      "Validation ROEM #71: 0.171123842845409\n",
      "Validation ROEM #72: 0.1811741914240262\n",
      "Validation ROEM #73: 0.1686797885764359\n",
      "Validation ROEM #74: 0.1676069000266333\n",
      "Validation ROEM #75: 0.1699346847615133\n",
      "Validation ROEM #76: 0.1797958868259319\n",
      "Validation ROEM #77: 0.166910026094162\n",
      "Validation ROEM #78: 0.16651344108807056\n",
      "Validation ROEM #79: 0.16915784748446547\n",
      "Validation ROEM #80: 0.17748318543697528\n",
      "Validation ROEM #81: 0.170025635648913\n",
      "Validation ROEM #82: 0.16903764872967106\n",
      "Validation ROEM #83: 0.17169388348558456\n",
      "Validation ROEM #84: 0.18211214235162346\n",
      "Validation ROEM #85: 0.16932986876353395\n",
      "Validation ROEM #86: 0.16877615566027815\n",
      "Validation ROEM #87: 0.171180223461368\n",
      "Validation ROEM #88: 0.1816629976526925\n",
      "Validation ROEM #89: 0.1687232676638696\n",
      "Validation ROEM #90: 0.1678387010646405\n",
      "Validation ROEM #91: 0.17010761768115346\n",
      "Validation ROEM #92: 0.18027298772587444\n",
      "Validation ROEM #93: 0.16688288502592608\n",
      "Validation ROEM #94: 0.16677049452006865\n",
      "Validation ROEM #95: 0.16900264802322862\n",
      "Validation ROEM #96: 0.17764524238784832\n",
      "Validation ROEM #97: 0.15884340478440404\n",
      "Validation ROEM #98: 0.16552282423545972\n",
      "Validation ROEM #99: 0.17023417136893776\n",
      "Validation ROEM #100: 0.18364823700828176\n",
      "Validation ROEM #101: 0.15784202141326084\n",
      "Validation ROEM #102: 0.16456818583979718\n",
      "Validation ROEM #103: 0.16961649151650945\n",
      "Validation ROEM #104: 0.1820531238512556\n",
      "Validation ROEM #105: 0.15617429920754142\n",
      "Validation ROEM #106: 0.16224311342873407\n",
      "Validation ROEM #107: 0.16760208611002983\n",
      "Validation ROEM #108: 0.17929861315788548\n",
      "Validation ROEM #109: 0.15510810809671707\n",
      "Validation ROEM #110: 0.1595237563263738\n",
      "Validation ROEM #111: 0.16468741303030163\n",
      "Validation ROEM #112: 0.17626179293848437\n",
      "Validation ROEM #113: 0.15900973840965965\n",
      "Validation ROEM #114: 0.16439153878115545\n",
      "Validation ROEM #115: 0.16835153119875595\n",
      "Validation ROEM #116: 0.1812398644931622\n",
      "Validation ROEM #117: 0.15776332393875428\n",
      "Validation ROEM #118: 0.1631967259478904\n",
      "Validation ROEM #119: 0.1673229651227152\n",
      "Validation ROEM #120: 0.1802795899653994\n",
      "Validation ROEM #121: 0.1552757541546176\n",
      "Validation ROEM #122: 0.16020345402799743\n",
      "Validation ROEM #123: 0.16515270883384975\n",
      "Validation ROEM #124: 0.17674050614989031\n",
      "Validation ROEM #125: 0.15446357886475798\n",
      "Validation ROEM #126: 0.1582204545296898\n",
      "Validation ROEM #127: 0.16298499905392613\n",
      "Validation ROEM #128: 0.17389207094188353\n",
      "Validation ROEM #129: 0.15912396582292543\n",
      "Validation ROEM #130: 0.16330445880129332\n",
      "Validation ROEM #131: 0.16788513429475582\n",
      "Validation ROEM #132: 0.1800187919857539\n",
      "Validation ROEM #133: 0.1577756494617273\n",
      "Validation ROEM #134: 0.162068705269332\n",
      "Validation ROEM #135: 0.1668155531896607\n",
      "Validation ROEM #136: 0.17904028440939432\n",
      "Validation ROEM #137: 0.15510115621494402\n",
      "Validation ROEM #138: 0.1595696418766565\n",
      "Validation ROEM #139: 0.1652588700350067\n",
      "Validation ROEM #140: 0.17544240240190256\n",
      "Validation ROEM #141: 0.15446731983258333\n",
      "Validation ROEM #142: 0.15827233275398794\n",
      "Validation ROEM #143: 0.1621979056461525\n",
      "Validation ROEM #144: 0.17201695600702838\n",
      "Validation ROEM #145: 0.1566180002886315\n",
      "Validation ROEM #146: 0.1645364855548662\n",
      "Validation ROEM #147: 0.16913788072686023\n",
      "Validation ROEM #148: 0.18378573506054127\n",
      "Validation ROEM #149: 0.15477355443867472\n",
      "Validation ROEM #150: 0.16353293098818197\n",
      "Validation ROEM #151: 0.16757325981898127\n",
      "Validation ROEM #152: 0.18133181805021661\n",
      "Validation ROEM #153: 0.15019190618779144\n",
      "Validation ROEM #154: 0.16055908709048683\n",
      "Validation ROEM #155: 0.16540056005060963\n",
      "Validation ROEM #156: 0.17811109694748642\n",
      "Validation ROEM #157: 0.14698705972130066\n",
      "Validation ROEM #158: 0.1559362939561485\n",
      "Validation ROEM #159: 0.16149353855188267\n",
      "Validation ROEM #160: 0.17372842171263114\n",
      "Validation ROEM #161: 0.15656222156617328\n",
      "Validation ROEM #162: 0.16432170821167047\n",
      "Validation ROEM #163: 0.16728634650498697\n",
      "Validation ROEM #164: 0.1821722290745934\n",
      "Validation ROEM #165: 0.1543257986170253\n",
      "Validation ROEM #166: 0.16307146077109\n",
      "Validation ROEM #167: 0.16552175042414247\n",
      "Validation ROEM #168: 0.18009102189831863\n",
      "Validation ROEM #169: 0.15000671983415217\n",
      "Validation ROEM #170: 0.15993553509218966\n",
      "Validation ROEM #171: 0.164116478001082\n",
      "Validation ROEM #172: 0.17728613830827147\n",
      "Validation ROEM #173: 0.14630585861089146\n",
      "Validation ROEM #174: 0.1552903246020896\n",
      "Validation ROEM #175: 0.16043742707992795\n",
      "Validation ROEM #176: 0.17205131888753789\n",
      "Validation ROEM #177: 0.15656262013613292\n",
      "Validation ROEM #178: 0.16434892972365453\n",
      "Validation ROEM #179: 0.1674661974994562\n",
      "Validation ROEM #180: 0.1819696431513822\n",
      "Validation ROEM #181: 0.1537740045320219\n",
      "Validation ROEM #182: 0.16319648585096813\n",
      "Validation ROEM #183: 0.16533065369971447\n",
      "Validation ROEM #184: 0.17978949673329453\n",
      "Validation ROEM #185: 0.1498369831362858\n",
      "Validation ROEM #186: 0.15955687283918685\n",
      "Validation ROEM #187: 0.1633616059287257\n",
      "Validation ROEM #188: 0.1760854195958911\n",
      "Validation ROEM #189: 0.1462943437596239\n",
      "Validation ROEM #190: 0.1544443539576734\n",
      "Validation ROEM #191: 0.15983840128131535\n",
      "Validation ROEM #192: 0.17170423429889353\n",
      "Validation ROEM #193: 0.15740609365832944\n",
      "Validation ROEM #194: 0.16672177157737605\n",
      "Validation ROEM #195: 0.17093703631064414\n",
      "Validation ROEM #196: 0.182475735077687\n",
      "Validation ROEM #197: 0.15420611284048358\n",
      "Validation ROEM #198: 0.16490172552769292\n",
      "Validation ROEM #199: 0.16812986620781817\n",
      "Validation ROEM #200: 0.18044934477944158\n"
     ]
    },
    {
     "name": "stdout",
     "output_type": "stream",
     "text": [
      "Validation ROEM #201: 0.15052866369042966\n",
      "Validation ROEM #202: 0.16008203235813376\n",
      "Validation ROEM #203: 0.16377216999624922\n",
      "Validation ROEM #204: 0.17746391506687387\n",
      "Validation ROEM #205: 0.14580436253465356\n",
      "Validation ROEM #206: 0.15380954461969978\n",
      "Validation ROEM #207: 0.1595373829676186\n",
      "Validation ROEM #208: 0.1725142245742679\n",
      "Validation ROEM #209: 0.15605785602901012\n",
      "Validation ROEM #210: 0.16353772415423032\n",
      "Validation ROEM #211: 0.16703357023573942\n",
      "Validation ROEM #212: 0.17870261668808135\n",
      "Validation ROEM #213: 0.15233017289579692\n",
      "Validation ROEM #214: 0.1628771427669606\n",
      "Validation ROEM #215: 0.16636002621602572\n",
      "Validation ROEM #216: 0.17746494129771298\n",
      "Validation ROEM #217: 0.1479837168570861\n",
      "Validation ROEM #218: 0.15680033439118243\n",
      "Validation ROEM #219: 0.1614193672355894\n",
      "Validation ROEM #220: 0.1754934940541338\n",
      "Validation ROEM #221: 0.1445386306765583\n",
      "Validation ROEM #222: 0.15135169042916002\n",
      "Validation ROEM #223: 0.15727258162213203\n",
      "Validation ROEM #224: 0.1709135699029346\n",
      "Validation ROEM #225: 0.1550064192821004\n",
      "Validation ROEM #226: 0.16291854558736113\n",
      "Validation ROEM #227: 0.16617176010025922\n",
      "Validation ROEM #228: 0.17742810519558833\n",
      "Validation ROEM #229: 0.15119360329826415\n",
      "Validation ROEM #230: 0.16150846795300033\n",
      "Validation ROEM #231: 0.16616705815239993\n",
      "Validation ROEM #232: 0.17612963010047739\n",
      "Validation ROEM #233: 0.1465521840515551\n",
      "Validation ROEM #234: 0.15627742699384878\n",
      "Validation ROEM #235: 0.16047963937670262\n",
      "Validation ROEM #236: 0.17422761374354528\n",
      "Validation ROEM #237: 0.14376224135570556\n",
      "Validation ROEM #238: 0.1506616850790252\n",
      "Validation ROEM #239: 0.15584031450120478\n",
      "Validation ROEM #240: 0.16998095469387367\n",
      "Total Runtime: 9022.61 seconds\n"
     ]
    }
   ],
   "source": [
    "ROEMs = cr.get_ROEMs(sql_context, model_list, train, test, 'account_id'\n",
    "                     ,'bought')"
   ]
  },
  {
   "cell_type": "code",
   "execution_count": 23,
   "metadata": {},
   "outputs": [
    {
     "name": "stdout",
     "output_type": "stream",
     "text": [
      "Index of smallest error: 236\n",
      "Smallest error:  0.14376224135570556\n"
     ]
    }
   ],
   "source": [
    "best_model = cr.get_best_model(ROEMs, model_list)"
   ]
  },
  {
   "cell_type": "code",
   "execution_count": 24,
   "metadata": {},
   "outputs": [
    {
     "data": {
      "text/plain": [
       "ALS_19b8fd7da8d9"
      ]
     },
     "execution_count": 24,
     "metadata": {},
     "output_type": "execute_result"
    }
   ],
   "source": [
    "best_model"
   ]
  },
  {
   "cell_type": "markdown",
   "metadata": {},
   "source": [
    "## Extracting Parameters"
   ]
  },
  {
   "cell_type": "code",
   "execution_count": 25,
   "metadata": {},
   "outputs": [
    {
     "name": "stdout",
     "output_type": "stream",
     "text": [
      "alpha: 5.0\n",
      "reg param: 0.5\n",
      "max iter: 40\n",
      "rank: 40\n"
     ]
    }
   ],
   "source": [
    "# Extract the best_modelel parameters\n",
    "print('alpha: {}'.format(best_model.getAlpha()))\n",
    "print('reg param: {}'.format(best_model.getRegParam()))\n",
    "print('max iter: {}'.format(best_model.getMaxIter()))\n",
    "print('rank: {}'.format(best_model.getRank()))"
   ]
  },
  {
   "cell_type": "markdown",
   "metadata": {},
   "source": [
    "Upon inspection of the ROEM history, it appears that the best model lies along the edge of our grid, so we could potentially try other parameter values beyond. For example, the best model has a rank of 40, but we only tried rank values up to 40. We could potentially try higher values. "
   ]
  },
  {
   "cell_type": "code",
   "execution_count": 51,
   "metadata": {},
   "outputs": [],
   "source": [
    "# hyper-param config\n",
    "max_iters = [40]\n",
    "ranks = [50, 60, 70,80,90,100]\n",
    "reg_params = [.50]\n",
    "alphas = [5]"
   ]
  },
  {
   "cell_type": "code",
   "execution_count": 52,
   "metadata": {},
   "outputs": [],
   "source": [
    "model_list_2 = cr.create_als_models_list(userCol=\"account_id\", itemCol=\"comic_id\"\n",
    "                                    ,ratingCol=\"bought\"\n",
    "                                    ,ranks=ranks\n",
    "                                    ,max_iters=max_iters\n",
    "                                    ,reg_params=reg_params\n",
    "                                    ,alphas=alphas\n",
    "                                    ,seed=random_seed\n",
    "                                   )"
   ]
  },
  {
   "cell_type": "code",
   "execution_count": 53,
   "metadata": {},
   "outputs": [
    {
     "data": {
      "text/plain": [
       "[ALS_ad358955846a,\n",
       " ALS_ee84f3b4c2e4,\n",
       " ALS_4df92cfa740f,\n",
       " ALS_a8a7288967a9,\n",
       " ALS_d36ce52fbb3a,\n",
       " ALS_0d06e48eb652]"
      ]
     },
     "execution_count": 53,
     "metadata": {},
     "output_type": "execute_result"
    }
   ],
   "source": [
    "model_list_2"
   ]
  },
  {
   "cell_type": "code",
   "execution_count": 54,
   "metadata": {},
   "outputs": [
    {
     "name": "stdout",
     "output_type": "stream",
     "text": [
      "Validation ROEM #1: 0.14222735436507208\n",
      "Validation ROEM #2: 0.1395159364006137\n",
      "Validation ROEM #3: 0.13762273722934018\n",
      "Validation ROEM #4: 0.1378879958535668\n",
      "Validation ROEM #5: 0.1385916411905225\n",
      "Validation ROEM #6: 0.1358331508405915\n",
      "Total Runtime: 520.75 seconds\n"
     ]
    }
   ],
   "source": [
    "ROEMs_2 = cr.get_ROEMs(sql_context, model_list_2, train, test, 'account_id'\n",
    "                     ,'bought')"
   ]
  },
  {
   "cell_type": "code",
   "execution_count": 26,
   "metadata": {},
   "outputs": [],
   "source": [
    "!rm -rf models/best_model_use_20190921/"
   ]
  },
  {
   "cell_type": "code",
   "execution_count": 27,
   "metadata": {},
   "outputs": [],
   "source": [
    "best_model.save('models/best_model_use_20190921')"
   ]
  },
  {
   "cell_type": "code",
   "execution_count": 28,
   "metadata": {},
   "outputs": [],
   "source": [
    "# with open('support_data/best_model_20190916a.pkl', 'wb') as f:\n",
    "#     pickle.dump(best_model, f)\n",
    "    \n",
    "# # Example - load pickle\n",
    "# # pickle_in = open(\"support_data/params_errs_rd1.pkl\",\"rb\")\n",
    "# # pe1 = pickle.load(pickle_in)\n",
    "\n",
    "#### Use this to reload the Grid Search results\n",
    "\n",
    "# pickle_in = open('support_data/params_errs_20190912d.pkl', 'rb')\n",
    "# params_errs_4 = pickle.load(pickle_in)\n",
    "                         "
   ]
  },
  {
   "cell_type": "markdown",
   "metadata": {},
   "source": [
    "## Cross-Validation\n",
    "\n",
    "Perform 5-fold cross-validation"
   ]
  },
  {
   "cell_type": "code",
   "execution_count": 29,
   "metadata": {},
   "outputs": [],
   "source": [
    "errors = []"
   ]
  },
  {
   "cell_type": "code",
   "execution_count": 30,
   "metadata": {},
   "outputs": [],
   "source": [
    "foldlist = cr.create_spark_5_fold_set(train, seed=random_seed)"
   ]
  },
  {
   "cell_type": "code",
   "execution_count": 31,
   "metadata": {},
   "outputs": [],
   "source": [
    "errors = cr.perform_cv(foldlist, best_model, sql_context, \n",
    "                       'account_id', 'bought')"
   ]
  },
  {
   "cell_type": "code",
   "execution_count": 32,
   "metadata": {},
   "outputs": [
    {
     "data": {
      "text/plain": [
       "[0.15581960057027952,\n",
       " 0.1637829108738509,\n",
       " 0.1602362185414189,\n",
       " 0.16010871159309842,\n",
       " 0.15467930302872307]"
      ]
     },
     "execution_count": 32,
     "metadata": {},
     "output_type": "execute_result"
    }
   ],
   "source": [
    "errors"
   ]
  },
  {
   "cell_type": "code",
   "execution_count": 33,
   "metadata": {},
   "outputs": [
    {
     "name": "stdout",
     "output_type": "stream",
     "text": [
      "CV errors range: 0.16 (+/- 0.01)\n"
     ]
    }
   ],
   "source": [
    "print(\"CV errors range: %0.2f (+/- %0.2f)\" % (np.mean(errors), \n",
    "                                              np.std(errors) * 2))"
   ]
  },
  {
   "cell_type": "markdown",
   "metadata": {},
   "source": [
    "Seems pretty stable, which helps alleviate some over-fitting concerns."
   ]
  },
  {
   "cell_type": "markdown",
   "metadata": {},
   "source": [
    "## Test the Candidate Model\n",
    "\n",
    "Test vs our holdout set."
   ]
  },
  {
   "cell_type": "code",
   "execution_count": 34,
   "metadata": {},
   "outputs": [],
   "source": [
    "model_fitted = best_model.fit(train)"
   ]
  },
  {
   "cell_type": "code",
   "execution_count": 35,
   "metadata": {},
   "outputs": [
    {
     "data": {
      "text/plain": [
       "0.14376224135570556"
      ]
     },
     "execution_count": 35,
     "metadata": {},
     "output_type": "execute_result"
    }
   ],
   "source": [
    "# get predictions on test\n",
    "test_preds = model_fitted.transform(test)\n",
    "\n",
    "# Evaluate test\n",
    "test_roem = cr.calculate_ROEM(sql_context, test_preds, 'account_id', 'bought')\n",
    "test_roem"
   ]
  },
  {
   "cell_type": "markdown",
   "metadata": {},
   "source": [
    "Weird that test error is lower than train...but not too far off. Let's run with it for now."
   ]
  },
  {
   "cell_type": "markdown",
   "metadata": {},
   "source": [
    "## Get Factors"
   ]
  },
  {
   "cell_type": "markdown",
   "metadata": {},
   "source": [
    "#### Save the item factors for future use!"
   ]
  },
  {
   "cell_type": "code",
   "execution_count": 36,
   "metadata": {},
   "outputs": [],
   "source": [
    "item_factors = model_fitted.itemFactors.toPandas()"
   ]
  },
  {
   "cell_type": "code",
   "execution_count": 37,
   "metadata": {},
   "outputs": [
    {
     "data": {
      "text/plain": [
       "(790, 2)"
      ]
     },
     "execution_count": 37,
     "metadata": {},
     "output_type": "execute_result"
    }
   ],
   "source": [
    "item_factors.shape"
   ]
  },
  {
   "cell_type": "code",
   "execution_count": 38,
   "metadata": {},
   "outputs": [],
   "source": [
    "item_factors.to_pickle(\"support_data/item_factors_20190921.pkl\")"
   ]
  },
  {
   "cell_type": "code",
   "execution_count": 39,
   "metadata": {},
   "outputs": [],
   "source": [
    "pd.set_option('display.max_colwidth', -1)"
   ]
  },
  {
   "cell_type": "code",
   "execution_count": 40,
   "metadata": {},
   "outputs": [
    {
     "data": {
      "text/html": [
       "<div>\n",
       "<style scoped>\n",
       "    .dataframe tbody tr th:only-of-type {\n",
       "        vertical-align: middle;\n",
       "    }\n",
       "\n",
       "    .dataframe tbody tr th {\n",
       "        vertical-align: top;\n",
       "    }\n",
       "\n",
       "    .dataframe thead th {\n",
       "        text-align: right;\n",
       "    }\n",
       "</style>\n",
       "<table border=\"1\" class=\"dataframe\">\n",
       "  <thead>\n",
       "    <tr style=\"text-align: right;\">\n",
       "      <th></th>\n",
       "      <th>id</th>\n",
       "      <th>features</th>\n",
       "    </tr>\n",
       "  </thead>\n",
       "  <tbody>\n",
       "    <tr>\n",
       "      <td>0</td>\n",
       "      <td>60</td>\n",
       "      <td>[0.0, 0.09691153466701508, 0.0, 0.0, 0.0, 0.0, 0.0, 0.0, 0.9247387647628784, 0.22059233486652374, 0.19497373700141907, 0.0, 0.042765721678733826, 0.03034142404794693, 0.029857859015464783, 0.0, 0.0, 0.0, 0.0, 0.0, 0.0, 0.031502947211265564, 0.0, 0.0, 0.0, 0.0, 0.0, 0.0, 0.0, 0.0, 0.0, 0.0, 0.0, 0.0, 0.0, 0.0, 0.0, 0.0, 0.0, 0.0]</td>\n",
       "    </tr>\n",
       "    <tr>\n",
       "      <td>1</td>\n",
       "      <td>80</td>\n",
       "      <td>[0.19948233664035797, 0.0, 0.0, 0.0, 0.0, 0.0, 0.0, 0.0, 0.0, 0.011016706004738808, 0.0, 0.0, 0.0, 0.0, 0.0, 0.0, 0.0, 0.7027317881584167, 0.5134339928627014, 0.07132630050182343, 0.0, 0.05733124539256096, 0.0, 0.0, 0.019320594146847725, 0.0, 0.0, 0.0, 0.0, 0.0, 0.0, 0.0, 0.0, 0.0, 0.0, 0.044546954333782196, 0.029083142057061195, 0.0, 0.0, 0.0]</td>\n",
       "    </tr>\n",
       "    <tr>\n",
       "      <td>2</td>\n",
       "      <td>110</td>\n",
       "      <td>[0.0480114184319973, 0.31068646907806396, 0.02289436198771, 0.09501194953918457, 0.0, 0.0, 0.031020918861031532, 0.010718177072703838, 0.12014016509056091, 0.0, 0.09404737502336502, 0.0, 0.1620231568813324, 0.0, 0.0, 0.17322424054145813, 0.00905819982290268, 0.05470167472958565, 0.029735198244452477, 0.19797469675540924, 0.0, 0.0, 0.9482471346855164, 0.0, 0.06473582237958908, 0.0, 0.0, 0.09959202259778976, 0.014015444554388523, 0.0922638326883316, 0.22466379404067993, 0.0, 0.0, 0.004506054800003767, 0.0, 0.0, 0.008835907094180584, 0.07381134480237961, 0.0, 0.0]</td>\n",
       "    </tr>\n",
       "    <tr>\n",
       "      <td>3</td>\n",
       "      <td>200</td>\n",
       "      <td>[0.3273434340953827, 0.0, 0.060207005590200424, 0.0, 0.07319775968790054, 0.0, 0.08091767132282257, 0.0, 0.0638691782951355, 0.18519440293312073, 0.1623028814792633, 0.054778750985860825, 0.040024399757385254, 0.15281657874584198, 0.0, 0.006157767493277788, 0.0, 0.0, 0.11726079136133194, 0.0, 0.0, 0.0, 0.05401604622602463, 0.2168269157409668, 0.030285200104117393, 0.0, 0.005972058512270451, 0.0, 0.03901968523859978, 0.0, 0.0065006474032998085, 0.0, 0.11510273814201355, 0.0, 0.10229922831058502, 0.008200216107070446, 0.8732324242591858, 0.0, 0.1593346893787384, 0.1595969945192337]</td>\n",
       "    </tr>\n",
       "    <tr>\n",
       "      <td>4</td>\n",
       "      <td>240</td>\n",
       "      <td>[0.5348109602928162, 0.0, 0.017858237028121948, 0.015814248472452164, 0.0, 0.0, 0.0, 0.4094351530075073, 0.0, 0.09783218801021576, 0.0, 0.0, 0.0, 0.12842048704624176, 0.2638329863548279, 0.0, 0.26992252469062805, 0.0, 0.0, 0.02826196327805519, 0.0, 0.0, 0.0, 0.0, 0.09313179552555084, 0.0, 0.0, 0.04362291097640991, 0.0, 0.0, 0.0, 0.0, 0.0, 0.07889299094676971, 0.0, 0.0, 0.0, 0.0, 0.43136391043663025, 0.0]</td>\n",
       "    </tr>\n",
       "  </tbody>\n",
       "</table>\n",
       "</div>"
      ],
      "text/plain": [
       "    id  \\\n",
       "0  60    \n",
       "1  80    \n",
       "2  110   \n",
       "3  200   \n",
       "4  240   \n",
       "\n",
       "                                                                                                                                                                                                                                                                                                                                                                                                                                                                                                                                                                                                     features  \n",
       "0  [0.0, 0.09691153466701508, 0.0, 0.0, 0.0, 0.0, 0.0, 0.0, 0.9247387647628784, 0.22059233486652374, 0.19497373700141907, 0.0, 0.042765721678733826, 0.03034142404794693, 0.029857859015464783, 0.0, 0.0, 0.0, 0.0, 0.0, 0.0, 0.031502947211265564, 0.0, 0.0, 0.0, 0.0, 0.0, 0.0, 0.0, 0.0, 0.0, 0.0, 0.0, 0.0, 0.0, 0.0, 0.0, 0.0, 0.0, 0.0]                                                                                                                                                                                                                                                                  \n",
       "1  [0.19948233664035797, 0.0, 0.0, 0.0, 0.0, 0.0, 0.0, 0.0, 0.0, 0.011016706004738808, 0.0, 0.0, 0.0, 0.0, 0.0, 0.0, 0.0, 0.7027317881584167, 0.5134339928627014, 0.07132630050182343, 0.0, 0.05733124539256096, 0.0, 0.0, 0.019320594146847725, 0.0, 0.0, 0.0, 0.0, 0.0, 0.0, 0.0, 0.0, 0.0, 0.0, 0.044546954333782196, 0.029083142057061195, 0.0, 0.0, 0.0]                                                                                                                                                                                                                                                  \n",
       "2  [0.0480114184319973, 0.31068646907806396, 0.02289436198771, 0.09501194953918457, 0.0, 0.0, 0.031020918861031532, 0.010718177072703838, 0.12014016509056091, 0.0, 0.09404737502336502, 0.0, 0.1620231568813324, 0.0, 0.0, 0.17322424054145813, 0.00905819982290268, 0.05470167472958565, 0.029735198244452477, 0.19797469675540924, 0.0, 0.0, 0.9482471346855164, 0.0, 0.06473582237958908, 0.0, 0.0, 0.09959202259778976, 0.014015444554388523, 0.0922638326883316, 0.22466379404067993, 0.0, 0.0, 0.004506054800003767, 0.0, 0.0, 0.008835907094180584, 0.07381134480237961, 0.0, 0.0]                     \n",
       "3  [0.3273434340953827, 0.0, 0.060207005590200424, 0.0, 0.07319775968790054, 0.0, 0.08091767132282257, 0.0, 0.0638691782951355, 0.18519440293312073, 0.1623028814792633, 0.054778750985860825, 0.040024399757385254, 0.15281657874584198, 0.0, 0.006157767493277788, 0.0, 0.0, 0.11726079136133194, 0.0, 0.0, 0.0, 0.05401604622602463, 0.2168269157409668, 0.030285200104117393, 0.0, 0.005972058512270451, 0.0, 0.03901968523859978, 0.0, 0.0065006474032998085, 0.0, 0.11510273814201355, 0.0, 0.10229922831058502, 0.008200216107070446, 0.8732324242591858, 0.0, 0.1593346893787384, 0.1595969945192337]  \n",
       "4  [0.5348109602928162, 0.0, 0.017858237028121948, 0.015814248472452164, 0.0, 0.0, 0.0, 0.4094351530075073, 0.0, 0.09783218801021576, 0.0, 0.0, 0.0, 0.12842048704624176, 0.2638329863548279, 0.0, 0.26992252469062805, 0.0, 0.0, 0.02826196327805519, 0.0, 0.0, 0.0, 0.0, 0.09313179552555084, 0.0, 0.0, 0.04362291097640991, 0.0, 0.0, 0.0, 0.0, 0.0, 0.07889299094676971, 0.0, 0.0, 0.0, 0.0, 0.43136391043663025, 0.0]                                                                                                                                                                                     "
      ]
     },
     "execution_count": 40,
     "metadata": {},
     "output_type": "execute_result"
    }
   ],
   "source": [
    "item_factors.head()"
   ]
  },
  {
   "cell_type": "markdown",
   "metadata": {},
   "source": [
    "### Test Retrieving the Factors"
   ]
  },
  {
   "cell_type": "code",
   "execution_count": 41,
   "metadata": {},
   "outputs": [],
   "source": [
    "unpickled_items = pd.read_pickle('support_data/item_factors_20190921.pkl')"
   ]
  },
  {
   "cell_type": "code",
   "execution_count": 42,
   "metadata": {},
   "outputs": [
    {
     "data": {
      "text/html": [
       "<div>\n",
       "<style scoped>\n",
       "    .dataframe tbody tr th:only-of-type {\n",
       "        vertical-align: middle;\n",
       "    }\n",
       "\n",
       "    .dataframe tbody tr th {\n",
       "        vertical-align: top;\n",
       "    }\n",
       "\n",
       "    .dataframe thead th {\n",
       "        text-align: right;\n",
       "    }\n",
       "</style>\n",
       "<table border=\"1\" class=\"dataframe\">\n",
       "  <thead>\n",
       "    <tr style=\"text-align: right;\">\n",
       "      <th></th>\n",
       "      <th>id</th>\n",
       "      <th>features</th>\n",
       "    </tr>\n",
       "  </thead>\n",
       "  <tbody>\n",
       "    <tr>\n",
       "      <td>0</td>\n",
       "      <td>60</td>\n",
       "      <td>[0.0, 0.09691153466701508, 0.0, 0.0, 0.0, 0.0, 0.0, 0.0, 0.9247387647628784, 0.22059233486652374, 0.19497373700141907, 0.0, 0.042765721678733826, 0.03034142404794693, 0.029857859015464783, 0.0, 0.0, 0.0, 0.0, 0.0, 0.0, 0.031502947211265564, 0.0, 0.0, 0.0, 0.0, 0.0, 0.0, 0.0, 0.0, 0.0, 0.0, 0.0, 0.0, 0.0, 0.0, 0.0, 0.0, 0.0, 0.0]</td>\n",
       "    </tr>\n",
       "    <tr>\n",
       "      <td>1</td>\n",
       "      <td>80</td>\n",
       "      <td>[0.19948233664035797, 0.0, 0.0, 0.0, 0.0, 0.0, 0.0, 0.0, 0.0, 0.011016706004738808, 0.0, 0.0, 0.0, 0.0, 0.0, 0.0, 0.0, 0.7027317881584167, 0.5134339928627014, 0.07132630050182343, 0.0, 0.05733124539256096, 0.0, 0.0, 0.019320594146847725, 0.0, 0.0, 0.0, 0.0, 0.0, 0.0, 0.0, 0.0, 0.0, 0.0, 0.044546954333782196, 0.029083142057061195, 0.0, 0.0, 0.0]</td>\n",
       "    </tr>\n",
       "    <tr>\n",
       "      <td>2</td>\n",
       "      <td>110</td>\n",
       "      <td>[0.0480114184319973, 0.31068646907806396, 0.02289436198771, 0.09501194953918457, 0.0, 0.0, 0.031020918861031532, 0.010718177072703838, 0.12014016509056091, 0.0, 0.09404737502336502, 0.0, 0.1620231568813324, 0.0, 0.0, 0.17322424054145813, 0.00905819982290268, 0.05470167472958565, 0.029735198244452477, 0.19797469675540924, 0.0, 0.0, 0.9482471346855164, 0.0, 0.06473582237958908, 0.0, 0.0, 0.09959202259778976, 0.014015444554388523, 0.0922638326883316, 0.22466379404067993, 0.0, 0.0, 0.004506054800003767, 0.0, 0.0, 0.008835907094180584, 0.07381134480237961, 0.0, 0.0]</td>\n",
       "    </tr>\n",
       "    <tr>\n",
       "      <td>3</td>\n",
       "      <td>200</td>\n",
       "      <td>[0.3273434340953827, 0.0, 0.060207005590200424, 0.0, 0.07319775968790054, 0.0, 0.08091767132282257, 0.0, 0.0638691782951355, 0.18519440293312073, 0.1623028814792633, 0.054778750985860825, 0.040024399757385254, 0.15281657874584198, 0.0, 0.006157767493277788, 0.0, 0.0, 0.11726079136133194, 0.0, 0.0, 0.0, 0.05401604622602463, 0.2168269157409668, 0.030285200104117393, 0.0, 0.005972058512270451, 0.0, 0.03901968523859978, 0.0, 0.0065006474032998085, 0.0, 0.11510273814201355, 0.0, 0.10229922831058502, 0.008200216107070446, 0.8732324242591858, 0.0, 0.1593346893787384, 0.1595969945192337]</td>\n",
       "    </tr>\n",
       "    <tr>\n",
       "      <td>4</td>\n",
       "      <td>240</td>\n",
       "      <td>[0.5348109602928162, 0.0, 0.017858237028121948, 0.015814248472452164, 0.0, 0.0, 0.0, 0.4094351530075073, 0.0, 0.09783218801021576, 0.0, 0.0, 0.0, 0.12842048704624176, 0.2638329863548279, 0.0, 0.26992252469062805, 0.0, 0.0, 0.02826196327805519, 0.0, 0.0, 0.0, 0.0, 0.09313179552555084, 0.0, 0.0, 0.04362291097640991, 0.0, 0.0, 0.0, 0.0, 0.0, 0.07889299094676971, 0.0, 0.0, 0.0, 0.0, 0.43136391043663025, 0.0]</td>\n",
       "    </tr>\n",
       "  </tbody>\n",
       "</table>\n",
       "</div>"
      ],
      "text/plain": [
       "    id  \\\n",
       "0  60    \n",
       "1  80    \n",
       "2  110   \n",
       "3  200   \n",
       "4  240   \n",
       "\n",
       "                                                                                                                                                                                                                                                                                                                                                                                                                                                                                                                                                                                                     features  \n",
       "0  [0.0, 0.09691153466701508, 0.0, 0.0, 0.0, 0.0, 0.0, 0.0, 0.9247387647628784, 0.22059233486652374, 0.19497373700141907, 0.0, 0.042765721678733826, 0.03034142404794693, 0.029857859015464783, 0.0, 0.0, 0.0, 0.0, 0.0, 0.0, 0.031502947211265564, 0.0, 0.0, 0.0, 0.0, 0.0, 0.0, 0.0, 0.0, 0.0, 0.0, 0.0, 0.0, 0.0, 0.0, 0.0, 0.0, 0.0, 0.0]                                                                                                                                                                                                                                                                  \n",
       "1  [0.19948233664035797, 0.0, 0.0, 0.0, 0.0, 0.0, 0.0, 0.0, 0.0, 0.011016706004738808, 0.0, 0.0, 0.0, 0.0, 0.0, 0.0, 0.0, 0.7027317881584167, 0.5134339928627014, 0.07132630050182343, 0.0, 0.05733124539256096, 0.0, 0.0, 0.019320594146847725, 0.0, 0.0, 0.0, 0.0, 0.0, 0.0, 0.0, 0.0, 0.0, 0.0, 0.044546954333782196, 0.029083142057061195, 0.0, 0.0, 0.0]                                                                                                                                                                                                                                                  \n",
       "2  [0.0480114184319973, 0.31068646907806396, 0.02289436198771, 0.09501194953918457, 0.0, 0.0, 0.031020918861031532, 0.010718177072703838, 0.12014016509056091, 0.0, 0.09404737502336502, 0.0, 0.1620231568813324, 0.0, 0.0, 0.17322424054145813, 0.00905819982290268, 0.05470167472958565, 0.029735198244452477, 0.19797469675540924, 0.0, 0.0, 0.9482471346855164, 0.0, 0.06473582237958908, 0.0, 0.0, 0.09959202259778976, 0.014015444554388523, 0.0922638326883316, 0.22466379404067993, 0.0, 0.0, 0.004506054800003767, 0.0, 0.0, 0.008835907094180584, 0.07381134480237961, 0.0, 0.0]                     \n",
       "3  [0.3273434340953827, 0.0, 0.060207005590200424, 0.0, 0.07319775968790054, 0.0, 0.08091767132282257, 0.0, 0.0638691782951355, 0.18519440293312073, 0.1623028814792633, 0.054778750985860825, 0.040024399757385254, 0.15281657874584198, 0.0, 0.006157767493277788, 0.0, 0.0, 0.11726079136133194, 0.0, 0.0, 0.0, 0.05401604622602463, 0.2168269157409668, 0.030285200104117393, 0.0, 0.005972058512270451, 0.0, 0.03901968523859978, 0.0, 0.0065006474032998085, 0.0, 0.11510273814201355, 0.0, 0.10229922831058502, 0.008200216107070446, 0.8732324242591858, 0.0, 0.1593346893787384, 0.1595969945192337]  \n",
       "4  [0.5348109602928162, 0.0, 0.017858237028121948, 0.015814248472452164, 0.0, 0.0, 0.0, 0.4094351530075073, 0.0, 0.09783218801021576, 0.0, 0.0, 0.0, 0.12842048704624176, 0.2638329863548279, 0.0, 0.26992252469062805, 0.0, 0.0, 0.02826196327805519, 0.0, 0.0, 0.0, 0.0, 0.09313179552555084, 0.0, 0.0, 0.04362291097640991, 0.0, 0.0, 0.0, 0.0, 0.0, 0.07889299094676971, 0.0, 0.0, 0.0, 0.0, 0.43136391043663025, 0.0]                                                                                                                                                                                     "
      ]
     },
     "execution_count": 42,
     "metadata": {},
     "output_type": "execute_result"
    }
   ],
   "source": [
    "unpickled_items.head()"
   ]
  },
  {
   "cell_type": "markdown",
   "metadata": {},
   "source": [
    "---"
   ]
  }
 ],
 "metadata": {
  "kernelspec": {
   "display_name": "Python 3",
   "language": "python",
   "name": "python3"
  },
  "language_info": {
   "codemirror_mode": {
    "name": "ipython",
    "version": 3
   },
   "file_extension": ".py",
   "mimetype": "text/x-python",
   "name": "python",
   "nbconvert_exporter": "python",
   "pygments_lexer": "ipython3",
   "version": "3.6.9"
  }
 },
 "nbformat": 4,
 "nbformat_minor": 4
}
