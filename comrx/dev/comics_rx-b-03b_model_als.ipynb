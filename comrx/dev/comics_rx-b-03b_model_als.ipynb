{
 "cells": [
  {
   "cell_type": "markdown",
   "metadata": {},
   "source": [
    "# Comics Rx\n",
    "## [A comic book recommendation system](https://github.com/MangrobanGit/comics_rx)\n",
    "<img src=\"https://images.unsplash.com/photo-1514329926535-7f6dbfbfb114?ixlib=rb-1.2.1&ixid=eyJhcHBfaWQiOjEyMDd9&auto=format&fit=crop&w=2850&q=80\" width=\"400\" align='left'>"
   ]
  },
  {
   "cell_type": "markdown",
   "metadata": {},
   "source": [
    "---"
   ]
  },
  {
   "cell_type": "markdown",
   "metadata": {},
   "source": [
    "# Reduced Data: Grid Search + Cross-Validation\n",
    "\n",
    "This time, as explored in the EDA NB, let's consider removing customers who we feel have too few or too many purchases to influence the model in the intended way.\n",
    "\n",
    "Examples:\n",
    "- Too few - Customers who have only bought 1 comic (series).\n",
    "- Too many - Customers with > 1000 series (for example, think all eBay customers are rolled into one account number)."
   ]
  },
  {
   "cell_type": "markdown",
   "metadata": {},
   "source": [
    "# Libraries"
   ]
  },
  {
   "cell_type": "code",
   "execution_count": 1,
   "metadata": {},
   "outputs": [],
   "source": [
    "%matplotlib inline\n",
    "%load_ext autoreload\n",
    "# %autoreload 1 #would be where you need to specify the files\n",
    "# %aimport comic_recs\n",
    "\n",
    "import pandas as pd # dataframes\n",
    "import os\n",
    "import pickle\n",
    "import numpy as np\n",
    "\n",
    "# Data storage\n",
    "from sqlalchemy import create_engine # SQL helper\n",
    "import psycopg2 as psql #PostgreSQL DBs\n",
    "\n",
    "# import Spark methods\n",
    "import pyspark\n",
    "from pyspark.sql import SparkSession\n",
    "from pyspark.ml.evaluation import RegressionEvaluator\n",
    "# from pyspark.sql.types import (StructType, StructField, IntegerType\n",
    "#                                ,FloatType, LongType, StringType)\n",
    "from pyspark.sql.types import *\n",
    "\n",
    "import pyspark.sql.functions as F\n",
    "from pyspark.sql.functions import col, explode, lit, isnan, when, count\n",
    "from pyspark.ml.recommendation import ALS, ALSModel\n",
    "from pyspark.ml.evaluation import RegressionEvaluator\n",
    "from pyspark.ml.tuning import (CrossValidator, ParamGridBuilder, \n",
    "                               TrainValidationSplit)\n",
    "from pyspark.ml.evaluation import BinaryClassificationEvaluator\n",
    "from pyspark.sql import DataFrame\n",
    "from pyspark import SparkConf\n",
    "from pyspark.sql import SQLContext\n",
    "\n",
    "# Plotting\n",
    "import seaborn as sns\n",
    "import matplotlib.pyplot as plt"
   ]
  },
  {
   "cell_type": "code",
   "execution_count": 2,
   "metadata": {},
   "outputs": [],
   "source": [
    "import sys"
   ]
  },
  {
   "cell_type": "code",
   "execution_count": 3,
   "metadata": {},
   "outputs": [],
   "source": [
    "sys.path.append('..')"
   ]
  },
  {
   "cell_type": "code",
   "execution_count": 4,
   "metadata": {},
   "outputs": [],
   "source": [
    "# Custom\n",
    "import data_fcns as dfc\n",
    "import keys  # Custom keys lib\n",
    "import comic_recs as cr\n",
    "\n",
    "import time\n",
    "import itertools\n",
    "from functools import reduce\n",
    "import numpy as np"
   ]
  },
  {
   "cell_type": "markdown",
   "metadata": {},
   "source": [
    "### Configure Spark"
   ]
  },
  {
   "cell_type": "code",
   "execution_count": 5,
   "metadata": {},
   "outputs": [],
   "source": [
    "conf = SparkConf()\n",
    "\n",
    "# Laptop config\n",
    "# conf = (conf.setMaster('local[*]')\n",
    "# #         .set('spark.executor.memory', '1G') #https://stackoverflow.com/questions/48523629/spark-pyspark-an-error-occurred-while-trying-to-connect-to-the-java-server-127\n",
    "#         .set('spark.driver.memory', '7G')\n",
    "#         .set('spark.driver.maxResultSize', '2G'))\n",
    "# #         .set('spark.executor.memory', '1G')\n",
    "# #         .set('spark.driver.memory', '10G')\n",
    "# #         .set('spark.driver.maxResultSize', '5G'))\n",
    "\n",
    "# AWS instance config\n",
    "conf = (conf.setMaster('local[*]')\n",
    "        .set('spark.driver.memory', '25G')\n",
    "        .set('spark.driver.maxResultSize', '4G'))\n",
    "#         .set('spark.executor.memory', '1G') #https://stackoverflow.com/questions/48523629/spark-pyspark-an-error-occurred-while-trying-to-connect-to-the-java-server-127\n",
    "#         .set('spark.driver.memory', '10G')\n",
    "#         .set('spark.driver.maxResultSize', '5G')\n",
    "#         )\n",
    "\n",
    "sc = pyspark.SparkContext().getOrCreate(conf=conf)\n",
    "\n",
    "sql_context = SQLContext(sc)\n",
    "\n",
    "sc.setCheckpointDir('./checkpoints')\n",
    "# spark.sparkContext.setCheckpointDir(\"hdfs://datalake/check_point_directory/als\")"
   ]
  },
  {
   "cell_type": "markdown",
   "metadata": {},
   "source": [
    "## Import Data\n",
    "\n",
    "We've previously set aside the dataset into a `json` file."
   ]
  },
  {
   "cell_type": "code",
   "execution_count": 6,
   "metadata": {},
   "outputs": [],
   "source": [
    "# We have previously created a version of the transactions table \n",
    "# and filtered it down.\n",
    "sold = sql_context.read.json('raw_data/als_input_filtered_190915.json')"
   ]
  },
  {
   "cell_type": "code",
   "execution_count": 7,
   "metadata": {},
   "outputs": [
    {
     "data": {
      "text/plain": [
       "DataFrame[account_id: bigint, bought: bigint, comic_id: bigint]"
      ]
     },
     "execution_count": 7,
     "metadata": {},
     "output_type": "execute_result"
    }
   ],
   "source": [
    "# Persist the data\n",
    "sold.persist()"
   ]
  },
  {
   "cell_type": "code",
   "execution_count": 8,
   "metadata": {},
   "outputs": [
    {
     "data": {
      "text/plain": [
       "846090"
      ]
     },
     "execution_count": 8,
     "metadata": {},
     "output_type": "execute_result"
    }
   ],
   "source": [
    "sold.count()"
   ]
  },
  {
   "cell_type": "markdown",
   "metadata": {},
   "source": [
    "### ALS Model\n",
    "\n",
    "Let's start with  train/test split."
   ]
  },
  {
   "cell_type": "code",
   "execution_count": 9,
   "metadata": {},
   "outputs": [],
   "source": [
    "random_seed = 41916"
   ]
  },
  {
   "cell_type": "code",
   "execution_count": 10,
   "metadata": {},
   "outputs": [],
   "source": [
    "# Split data into training and test set\n",
    "(train, test) = sold.randomSplit([.75, .25], seed=random_seed)"
   ]
  },
  {
   "cell_type": "code",
   "execution_count": 11,
   "metadata": {},
   "outputs": [
    {
     "data": {
      "text/plain": [
       "634611"
      ]
     },
     "execution_count": 11,
     "metadata": {},
     "output_type": "execute_result"
    }
   ],
   "source": [
    "train.count()"
   ]
  },
  {
   "cell_type": "markdown",
   "metadata": {},
   "source": [
    "Make sure shapes make sense."
   ]
  },
  {
   "cell_type": "code",
   "execution_count": 12,
   "metadata": {},
   "outputs": [
    {
     "name": "stdout",
     "output_type": "stream",
     "text": [
      "634611 3\n"
     ]
    }
   ],
   "source": [
    "print(train.count(), len(train.columns))"
   ]
  },
  {
   "cell_type": "code",
   "execution_count": 13,
   "metadata": {},
   "outputs": [
    {
     "name": "stdout",
     "output_type": "stream",
     "text": [
      "211479 3\n"
     ]
    }
   ],
   "source": [
    "print(test.count(), len(test.columns))"
   ]
  },
  {
   "cell_type": "markdown",
   "metadata": {},
   "source": [
    "## New Grid Search"
   ]
  },
  {
   "cell_type": "code",
   "execution_count": 14,
   "metadata": {},
   "outputs": [],
   "source": [
    "# # hyper-param config\n",
    "# max_iters = [20, 25, 30]\n",
    "# ranks = [5, 10, 20, 25]\n",
    "# reg_params = [.05, .10, .15]\n",
    "# alphas = [5, 25, 40]"
   ]
  },
  {
   "cell_type": "code",
   "execution_count": 15,
   "metadata": {},
   "outputs": [],
   "source": [
    "# # hyper-param config\n",
    "# max_iters = [30, 40]\n",
    "# ranks = [25, 30]\n",
    "# reg_params = [.15, .25]\n",
    "# alphas = [5]"
   ]
  },
  {
   "cell_type": "code",
   "execution_count": 16,
   "metadata": {},
   "outputs": [],
   "source": [
    "# # hyper-param config\n",
    "# max_iters = [30]\n",
    "# ranks = [5, 10]\n",
    "# reg_params = [.25, .30]\n",
    "# alphas = [5]"
   ]
  },
  {
   "cell_type": "code",
   "execution_count": 17,
   "metadata": {},
   "outputs": [],
   "source": [
    "# # hyper-param config\n",
    "# max_iters = [40]\n",
    "# ranks = [30]\n",
    "# reg_params = [.25]\n",
    "# alphas = [5]"
   ]
  },
  {
   "cell_type": "code",
   "execution_count": 18,
   "metadata": {},
   "outputs": [],
   "source": [
    "# hyper-param config\n",
    "max_iters = [20, 30, 40]\n",
    "ranks = [5, 20, 40, 75, 90]\n",
    "reg_params = [.01, .05, .25, .50]\n",
    "alphas = [5, 25, 40]"
   ]
  },
  {
   "cell_type": "markdown",
   "metadata": {},
   "source": [
    "These will be user, item and rating columns, respectively, for our dataset.\n",
    "- `account_id`\n",
    "- `comic_id`\n",
    "- `bought`"
   ]
  },
  {
   "cell_type": "code",
   "execution_count": 19,
   "metadata": {},
   "outputs": [],
   "source": [
    "model_list = cr.create_als_models_list(userCol=\"account_id\", itemCol=\"comic_id\"\n",
    "                                    ,ratingCol=\"bought\"\n",
    "                                    ,ranks=ranks\n",
    "                                    ,max_iters=max_iters\n",
    "                                    ,reg_params=reg_params\n",
    "                                    ,alphas=alphas\n",
    "                                    ,seed=random_seed\n",
    "                                   )"
   ]
  },
  {
   "cell_type": "code",
   "execution_count": 20,
   "metadata": {},
   "outputs": [
    {
     "data": {
      "text/plain": [
       "[ALS_a38b5deb7934,\n",
       " ALS_1d09ae4c4ab8,\n",
       " ALS_89fba2a23277,\n",
       " ALS_cce04348d9b1,\n",
       " ALS_3d96ac14b31c,\n",
       " ALS_02685777cc09,\n",
       " ALS_6455fc87288b,\n",
       " ALS_1539214a5498,\n",
       " ALS_2a5b04385925,\n",
       " ALS_c1e1ed2e9411,\n",
       " ALS_5a8bcfceb432,\n",
       " ALS_bb46bc889a61,\n",
       " ALS_db3e8445535e,\n",
       " ALS_b59c592b37a9,\n",
       " ALS_d63f59b8ee08,\n",
       " ALS_ae6420552114,\n",
       " ALS_af827d939681,\n",
       " ALS_0d5bda0a7713,\n",
       " ALS_1c2f927d2fa7,\n",
       " ALS_da398bd93330,\n",
       " ALS_eea1341627f7,\n",
       " ALS_2d1404b50896,\n",
       " ALS_58bdcad76150,\n",
       " ALS_07f722caad5a,\n",
       " ALS_63ba164474b7,\n",
       " ALS_fbfed798284c,\n",
       " ALS_0b391e9600ef,\n",
       " ALS_d007494608ff,\n",
       " ALS_a0ac24bf6b89,\n",
       " ALS_59fec5649f10,\n",
       " ALS_1a0cc077ba9d,\n",
       " ALS_0ac11900aaa1,\n",
       " ALS_5481dd96a657,\n",
       " ALS_de651fe4cd78,\n",
       " ALS_953178fa4c21,\n",
       " ALS_cce38a94a94d,\n",
       " ALS_bfff356a7bcc,\n",
       " ALS_80bdb93ef14b,\n",
       " ALS_e345363764b2,\n",
       " ALS_08a97ea2ba89,\n",
       " ALS_909a79d768c0,\n",
       " ALS_c2d137a5d135,\n",
       " ALS_7f4fdfb9b078,\n",
       " ALS_138cd7c42acb,\n",
       " ALS_79ef2e830947,\n",
       " ALS_1ff30e54591d,\n",
       " ALS_53f493318a13,\n",
       " ALS_12b163d0a265,\n",
       " ALS_304ffa96289d,\n",
       " ALS_1cf4e77667f2,\n",
       " ALS_a4314c909c88,\n",
       " ALS_5c3b790b60fa,\n",
       " ALS_68f7da75ccea,\n",
       " ALS_2d743df94082,\n",
       " ALS_2ba211b0e4d0,\n",
       " ALS_5afae2d4dae6,\n",
       " ALS_a32ae1664f95,\n",
       " ALS_677c39b10c9b,\n",
       " ALS_67402d9a391a,\n",
       " ALS_6d67fbc30e1e,\n",
       " ALS_5f164f23fb3f,\n",
       " ALS_16d992955821,\n",
       " ALS_05ad4f22572c,\n",
       " ALS_09e912bc9b54,\n",
       " ALS_acbf1760d5ef,\n",
       " ALS_d22fadfef4b7,\n",
       " ALS_3758f0a23ba3,\n",
       " ALS_487687d3d380,\n",
       " ALS_e21599abd245,\n",
       " ALS_68a52be89e38,\n",
       " ALS_fb8cb68efb63,\n",
       " ALS_80b268386aba,\n",
       " ALS_6514ee0523dc,\n",
       " ALS_626dc144f2ae,\n",
       " ALS_a7665f32ffc6,\n",
       " ALS_744694be639b,\n",
       " ALS_ee55f22565c8,\n",
       " ALS_0858efc6bf03,\n",
       " ALS_3304582f9c57,\n",
       " ALS_f25e853cbeea,\n",
       " ALS_895b00505a57,\n",
       " ALS_aea21d23348b,\n",
       " ALS_ee89f172a39f,\n",
       " ALS_d893e2eac4cd,\n",
       " ALS_983ee203e1fa,\n",
       " ALS_878f3bf7d27a,\n",
       " ALS_bd273733a2ef,\n",
       " ALS_cef8880d4c06,\n",
       " ALS_08744b505246,\n",
       " ALS_22a8801b7084,\n",
       " ALS_560141355ae1,\n",
       " ALS_785c51192075,\n",
       " ALS_a746e7e833a5,\n",
       " ALS_2384083046a6,\n",
       " ALS_5f36ca6e2b7d,\n",
       " ALS_b27ae3b572ea,\n",
       " ALS_79a20cd25ddf,\n",
       " ALS_43ded6fbf60d,\n",
       " ALS_89d5b777235a,\n",
       " ALS_29fd4f5fc940,\n",
       " ALS_863ccde605e6,\n",
       " ALS_0fc3fbcf7bea,\n",
       " ALS_c1b4a5d8908c,\n",
       " ALS_3c8e9cfa5aff,\n",
       " ALS_88d6e4e10b0a,\n",
       " ALS_c9778ac15af1,\n",
       " ALS_30f86214de8d,\n",
       " ALS_b9956f400734,\n",
       " ALS_08e97655d953,\n",
       " ALS_de6f4343e369,\n",
       " ALS_214a725171f0,\n",
       " ALS_b993fbfeac19,\n",
       " ALS_537ac3405abc,\n",
       " ALS_b221a969e2d4,\n",
       " ALS_729c26afbf43,\n",
       " ALS_e352bc58617f,\n",
       " ALS_1da46adb4265,\n",
       " ALS_c85dde76f1c8,\n",
       " ALS_fa06d75e5a26,\n",
       " ALS_a49a2f717c4c,\n",
       " ALS_2951e1a8fed4,\n",
       " ALS_999c8f2dfabb,\n",
       " ALS_5bbeaf36ae55,\n",
       " ALS_6455a8227a91,\n",
       " ALS_904150d716b5,\n",
       " ALS_3bafcc897f9f,\n",
       " ALS_ee0cd6e8eb69,\n",
       " ALS_cd21e022fa41,\n",
       " ALS_f511c841cf1f,\n",
       " ALS_82066cbbb3a8,\n",
       " ALS_90d36f5b49fa,\n",
       " ALS_031435129bca,\n",
       " ALS_2c1eba15f215,\n",
       " ALS_0f0c99adad14,\n",
       " ALS_236d4825aaf8,\n",
       " ALS_427cb1a698c0,\n",
       " ALS_6b46fd1b68bd,\n",
       " ALS_59d63bd3193d,\n",
       " ALS_0777109ada9a,\n",
       " ALS_9bfbfe8194d4,\n",
       " ALS_cc463bd3fc48,\n",
       " ALS_2d5cd0833294,\n",
       " ALS_5404e2d4b456,\n",
       " ALS_eeed2005b463,\n",
       " ALS_69514db8cbd5,\n",
       " ALS_4006791ac61b,\n",
       " ALS_c9e6fda26f56,\n",
       " ALS_815efa508cfb,\n",
       " ALS_57441977e361,\n",
       " ALS_c1f6d31c107f,\n",
       " ALS_5b67d2cdd9ef,\n",
       " ALS_22bf9784389f,\n",
       " ALS_86587b293691,\n",
       " ALS_c8859ae5a13e,\n",
       " ALS_a2573f13b69b,\n",
       " ALS_838db276a597,\n",
       " ALS_0e8928d79219,\n",
       " ALS_1ba7beccff52,\n",
       " ALS_fbd22e45d567,\n",
       " ALS_8f2a3dcca952,\n",
       " ALS_25dcc0a41705,\n",
       " ALS_4022fad760cb,\n",
       " ALS_ffb8da01436b,\n",
       " ALS_8f56bce02d5d,\n",
       " ALS_9288c76996c5,\n",
       " ALS_55874d926ccd,\n",
       " ALS_7d9fe35e3acb,\n",
       " ALS_f78e46b53d21,\n",
       " ALS_ea4a05e8c952,\n",
       " ALS_81182f7753a7,\n",
       " ALS_f45144b00813,\n",
       " ALS_c861fc853273,\n",
       " ALS_703209c94e78,\n",
       " ALS_42b3bfaf1df9,\n",
       " ALS_854780da4f88,\n",
       " ALS_cd218069ec50,\n",
       " ALS_77bfbd804c68,\n",
       " ALS_811ff35a261b,\n",
       " ALS_7dd20dd71243,\n",
       " ALS_62804a94e4da]"
      ]
     },
     "execution_count": 20,
     "metadata": {},
     "output_type": "execute_result"
    }
   ],
   "source": [
    "model_list"
   ]
  },
  {
   "cell_type": "markdown",
   "metadata": {},
   "source": [
    "Check that model list has proper number of combinations."
   ]
  },
  {
   "cell_type": "code",
   "execution_count": 21,
   "metadata": {},
   "outputs": [
    {
     "data": {
      "text/plain": [
       "180"
      ]
     },
     "execution_count": 21,
     "metadata": {},
     "output_type": "execute_result"
    }
   ],
   "source": [
    "len(model_list)"
   ]
  },
  {
   "cell_type": "code",
   "execution_count": 22,
   "metadata": {},
   "outputs": [
    {
     "name": "stdout",
     "output_type": "stream",
     "text": [
      "True\n"
     ]
    }
   ],
   "source": [
    "print( len(model_list) == (len(max_iters)*len(ranks)*len(reg_params)*len(alphas)) )"
   ]
  },
  {
   "cell_type": "markdown",
   "metadata": {},
   "source": [
    "### Manual Cross-Validation"
   ]
  },
  {
   "cell_type": "markdown",
   "metadata": {},
   "source": [
    "## Metrics"
   ]
  },
  {
   "cell_type": "code",
   "execution_count": 23,
   "metadata": {
    "scrolled": false
   },
   "outputs": [
    {
     "name": "stdout",
     "output_type": "stream",
     "text": [
      "Validation ROEM #1: 0.19869719550926318\n",
      "Validation ROEM #2: 0.19433399830675785\n",
      "Validation ROEM #3: 0.19657179442552847\n",
      "Validation ROEM #4: 0.19727919618163878\n",
      "Validation ROEM #5: 0.19135726332450673\n",
      "Validation ROEM #6: 0.19600523404055623\n",
      "Validation ROEM #7: 0.19613417381855794\n",
      "Validation ROEM #8: 0.1883132407551012\n",
      "Validation ROEM #9: 0.19068610498273622\n",
      "Validation ROEM #10: 0.19615494652631793\n",
      "Validation ROEM #11: 0.18812054171315873\n",
      "Validation ROEM #12: 0.19001151310123257\n",
      "Validation ROEM #13: 0.19825515409629393\n",
      "Validation ROEM #14: 0.19304004913991987\n",
      "Validation ROEM #15: 0.1965050670149716\n",
      "Validation ROEM #16: 0.1970328332908752\n",
      "Validation ROEM #17: 0.18878406923020186\n",
      "Validation ROEM #18: 0.19591794813692\n",
      "Validation ROEM #19: 0.1959248359391219\n",
      "Validation ROEM #20: 0.18704623543343596\n",
      "Validation ROEM #21: 0.18922641743172072\n",
      "Validation ROEM #22: 0.19526198351646434\n",
      "Validation ROEM #23: 0.1863824686096206\n",
      "Validation ROEM #24: 0.18846383383383283\n",
      "Validation ROEM #25: 0.198025496252141\n",
      "Validation ROEM #26: 0.1906751340864852\n",
      "Validation ROEM #27: 0.19643678132352987\n",
      "Validation ROEM #28: 0.19689867566986063\n",
      "Validation ROEM #29: 0.18785367693721092\n",
      "Validation ROEM #30: 0.19603752316454168\n",
      "Validation ROEM #31: 0.1955061835510456\n",
      "Validation ROEM #32: 0.18680058611370237\n",
      "Validation ROEM #33: 0.18849218258607184\n",
      "Validation ROEM #34: 0.1949507109962805\n",
      "Validation ROEM #35: 0.18582064781433663\n",
      "Validation ROEM #36: 0.18742785146220364\n",
      "Validation ROEM #37: 0.16256128500725991\n",
      "Validation ROEM #38: 0.1693418128465961\n",
      "Validation ROEM #39: 0.17454742877017132\n",
      "Validation ROEM #40: 0.16135093942514084\n",
      "Validation ROEM #41: 0.16824405585870328\n",
      "Validation ROEM #42: 0.17360051401416857\n",
      "Validation ROEM #43: 0.15702812798158136\n",
      "Validation ROEM #44: 0.16234362255969917\n",
      "Validation ROEM #45: 0.1704970777618662\n",
      "Validation ROEM #46: 0.15476147818943692\n",
      "Validation ROEM #47: 0.15976447823409076\n",
      "Validation ROEM #48: 0.16454688018539304\n",
      "Validation ROEM #49: 0.1605023336992497\n",
      "Validation ROEM #50: 0.16742091819021435\n",
      "Validation ROEM #51: 0.1728514619528549\n",
      "Validation ROEM #52: 0.15998056989459378\n",
      "Validation ROEM #53: 0.16646046009876334\n",
      "Validation ROEM #54: 0.1721781735138344\n",
      "Validation ROEM #55: 0.15635990853707799\n",
      "Validation ROEM #56: 0.16175711136607845\n",
      "Validation ROEM #57: 0.16833208213291637\n",
      "Validation ROEM #58: 0.15385623247376423\n",
      "Validation ROEM #59: 0.15934123600092773\n",
      "Validation ROEM #60: 0.16265266009265403\n",
      "Validation ROEM #61: 0.15946931265136083\n",
      "Validation ROEM #62: 0.16651533759661372\n",
      "Validation ROEM #63: 0.1716084832531742\n",
      "Validation ROEM #64: 0.1593121785177368\n",
      "Validation ROEM #65: 0.16535966959688758\n",
      "Validation ROEM #66: 0.1706958264898215\n",
      "Validation ROEM #67: 0.15638641343612913\n",
      "Validation ROEM #68: 0.16126973376735057\n",
      "Validation ROEM #69: 0.16654040072634363\n",
      "Validation ROEM #70: 0.15289794481314395\n",
      "Validation ROEM #71: 0.15802703229685225\n",
      "Validation ROEM #72: 0.16159072346036887\n",
      "Validation ROEM #73: 0.16075684953397018\n",
      "Validation ROEM #74: 0.16911615243282221\n",
      "Validation ROEM #75: 0.1751503586046194\n",
      "Validation ROEM #76: 0.1567024410843265\n",
      "Validation ROEM #77: 0.16668873391116612\n",
      "Validation ROEM #78: 0.17236996357431666\n",
      "Validation ROEM #79: 0.14873550101924113\n",
      "Validation ROEM #80: 0.16084248628387346\n",
      "Validation ROEM #81: 0.16500791566777584\n",
      "Validation ROEM #82: 0.14615422121300053\n",
      "Validation ROEM #83: 0.15403580614145956\n",
      "Validation ROEM #84: 0.1585226453886225\n",
      "Validation ROEM #85: 0.15819827881862247\n",
      "Validation ROEM #86: 0.16624685430263778\n",
      "Validation ROEM #87: 0.17443418770456381\n",
      "Validation ROEM #88: 0.15383579543112405\n",
      "Validation ROEM #89: 0.16385181470018986\n",
      "Validation ROEM #90: 0.17178207070183843\n",
      "Validation ROEM #91: 0.1482894567489812\n",
      "Validation ROEM #92: 0.15884421351786313\n",
      "Validation ROEM #93: 0.1636738334679026\n",
      "Validation ROEM #94: 0.14518525614274103\n",
      "Validation ROEM #95: 0.15245092997540535\n",
      "Validation ROEM #96: 0.15731880454321998\n",
      "Validation ROEM #97: 0.15635453659439744\n",
      "Validation ROEM #98: 0.16548469195181809\n",
      "Validation ROEM #99: 0.17332462925026987\n",
      "Validation ROEM #100: 0.15401431853125516\n",
      "Validation ROEM #101: 0.1646241912893568\n",
      "Validation ROEM #102: 0.17058678855374043\n",
      "Validation ROEM #103: 0.14795197768702661\n",
      "Validation ROEM #104: 0.1576772254865911\n",
      "Validation ROEM #105: 0.1632003643694191\n",
      "Validation ROEM #106: 0.14492920494176464\n",
      "Validation ROEM #107: 0.1521721739075589\n",
      "Validation ROEM #108: 0.15679585289174328\n",
      "Validation ROEM #109: 0.17191886917720473\n",
      "Validation ROEM #110: 0.17891286935612988\n",
      "Validation ROEM #111: 0.1842359963395563\n",
      "Validation ROEM #112: 0.16410002008908997\n",
      "Validation ROEM #113: 0.1777363679650096\n",
      "Validation ROEM #114: 0.18391370519001357\n",
      "Validation ROEM #115: 0.14567469182164894\n",
      "Validation ROEM #116: 0.16323778714570236\n",
      "Validation ROEM #117: 0.17192573770121664\n",
      "Validation ROEM #118: 0.1398769422989481\n",
      "Validation ROEM #119: 0.15175414237451887\n",
      "Validation ROEM #120: 0.15818852545367473\n",
      "Validation ROEM #121: 0.1706429145226407\n",
      "Validation ROEM #122: 0.17743752362957424\n",
      "Validation ROEM #123: 0.18415621609689045\n",
      "Validation ROEM #124: 0.1617782635048357\n",
      "Validation ROEM #125: 0.1763514189728216\n",
      "Validation ROEM #126: 0.18146581351937793\n",
      "Validation ROEM #127: 0.14531905433002082\n",
      "Validation ROEM #128: 0.16232401359418872\n",
      "Validation ROEM #129: 0.16883262594383677\n",
      "Validation ROEM #130: 0.13906913234688428\n",
      "Validation ROEM #131: 0.1504787213562829\n",
      "Validation ROEM #132: 0.156086271152419\n",
      "Validation ROEM #133: 0.16911185339027632\n",
      "Validation ROEM #134: 0.17782082058904744\n",
      "Validation ROEM #135: 0.1824867037662242\n",
      "Validation ROEM #136: 0.1604311128855675\n",
      "Validation ROEM #137: 0.17574700483734645\n",
      "Validation ROEM #138: 0.18028939700733396\n",
      "Validation ROEM #139: 0.14469411866724283\n",
      "Validation ROEM #140: 0.16101996148789147\n",
      "Validation ROEM #141: 0.16640653067264166\n",
      "Validation ROEM #142: 0.1390945813998646\n",
      "Validation ROEM #143: 0.14997325542801077\n",
      "Validation ROEM #144: 0.15563589430085295\n",
      "Validation ROEM #145: 0.17267465761060175\n",
      "Validation ROEM #146: 0.18631935697301888\n",
      "Validation ROEM #147: 0.1903947249814274\n",
      "Validation ROEM #148: 0.16501722918819942\n",
      "Validation ROEM #149: 0.18272878799944875\n",
      "Validation ROEM #150: 0.1873484100887364\n",
      "Validation ROEM #151: 0.14571270644611092\n",
      "Validation ROEM #152: 0.16503085842975465\n",
      "Validation ROEM #153: 0.17267005346147124\n",
      "Validation ROEM #154: 0.13922173180552436\n",
      "Validation ROEM #155: 0.15240366184657061\n",
      "Validation ROEM #156: 0.15789438858487834\n",
      "Validation ROEM #157: 0.1723145548485252\n",
      "Validation ROEM #158: 0.1858656251650314\n",
      "Validation ROEM #159: 0.18811716769070688\n",
      "Validation ROEM #160: 0.16449299904789227\n",
      "Validation ROEM #161: 0.18181623591540075\n",
      "Validation ROEM #162: 0.1866020744824621\n",
      "Validation ROEM #163: 0.14642019099739104\n",
      "Validation ROEM #164: 0.16232452870392824\n",
      "Validation ROEM #165: 0.1712226692177676\n",
      "Validation ROEM #166: 0.13852784668764523\n",
      "Validation ROEM #167: 0.15088391550703772\n",
      "Validation ROEM #168: 0.1554892253644075\n",
      "Validation ROEM #169: 0.17202964309132313\n",
      "Validation ROEM #170: 0.1851603367415795\n",
      "Validation ROEM #171: 0.18833869936441358\n",
      "Validation ROEM #172: 0.16465799898808303\n",
      "Validation ROEM #173: 0.18174918097043571\n",
      "Validation ROEM #174: 0.1856065556715767\n",
      "Validation ROEM #175: 0.14553933839429514\n",
      "Validation ROEM #176: 0.16262360356487238\n",
      "Validation ROEM #177: 0.1696564275971037\n",
      "Validation ROEM #178: 0.1383817704950063\n",
      "Validation ROEM #179: 0.1502832194162518\n",
      "Validation ROEM #180: 0.15448852713685005\n",
      "Total Runtime: 3961.60 seconds\n"
     ]
    }
   ],
   "source": [
    "ROEMs = cr.get_ROEMs(sql_context, model_list, train, test, 'account_id'\n",
    "                     ,'bought')"
   ]
  },
  {
   "cell_type": "code",
   "execution_count": 24,
   "metadata": {},
   "outputs": [
    {
     "name": "stdout",
     "output_type": "stream",
     "text": [
      "Index of smallest error: 177\n",
      "Smallest error:  0.1383817704950063\n"
     ]
    }
   ],
   "source": [
    "best_model = cr.get_best_model(ROEMs, model_list)"
   ]
  },
  {
   "cell_type": "code",
   "execution_count": 25,
   "metadata": {},
   "outputs": [
    {
     "data": {
      "text/plain": [
       "ALS_811ff35a261b"
      ]
     },
     "execution_count": 25,
     "metadata": {},
     "output_type": "execute_result"
    }
   ],
   "source": [
    "best_model"
   ]
  },
  {
   "cell_type": "markdown",
   "metadata": {},
   "source": [
    "## Extracting Parameters"
   ]
  },
  {
   "cell_type": "code",
   "execution_count": 26,
   "metadata": {},
   "outputs": [
    {
     "name": "stdout",
     "output_type": "stream",
     "text": [
      "alpha: 5.0\n",
      "reg param: 0.5\n",
      "max iter: 40\n",
      "rank: 90\n"
     ]
    }
   ],
   "source": [
    "# Extract the best_modelel parameters\n",
    "print('alpha: {}'.format(best_model.getAlpha()))\n",
    "print('reg param: {}'.format(best_model.getRegParam()))\n",
    "print('max iter: {}'.format(best_model.getMaxIter()))\n",
    "print('rank: {}'.format(best_model.getRank()))"
   ]
  },
  {
   "cell_type": "markdown",
   "metadata": {},
   "source": [
    "Upon inspection of the ROEM history, it appears that the best model lies along the edge of our grid, so we could potentially try other parameter values beyond. For example, the best model has a rank of 40, but we only tried rank values up to 40. We could potentially try higher values. "
   ]
  },
  {
   "cell_type": "code",
   "execution_count": 49,
   "metadata": {},
   "outputs": [],
   "source": [
    "with open('support_data/roems_20190922.pkl', 'wb') as f:\n",
    "    pickle.dump(ROEMs, f)\n",
    "    \n",
    "# Example - load pickle\n",
    "# pickle_in = open(\"support_data/params_errs_rd1.pkl\",\"rb\")\n",
    "# pe1 = pickle.load(pickle_in)"
   ]
  },
  {
   "cell_type": "markdown",
   "metadata": {},
   "source": [
    "---"
   ]
  },
  {
   "cell_type": "markdown",
   "metadata": {},
   "source": [
    "---"
   ]
  },
  {
   "cell_type": "markdown",
   "metadata": {},
   "source": [
    "---"
   ]
  },
  {
   "cell_type": "markdown",
   "metadata": {},
   "source": [
    "---"
   ]
  },
  {
   "cell_type": "code",
   "execution_count": null,
   "metadata": {},
   "outputs": [],
   "source": []
  },
  {
   "cell_type": "code",
   "execution_count": null,
   "metadata": {},
   "outputs": [],
   "source": []
  },
  {
   "cell_type": "code",
   "execution_count": 33,
   "metadata": {},
   "outputs": [],
   "source": [
    "### Use this to reload the Grid Search results\n",
    "\n",
    "pickle_in = open('support_data/params_errs_20190912d.pkl', 'rb')\n",
    "params_errs_4 = pickle.load(pickle_in)\n",
    "                         "
   ]
  },
  {
   "cell_type": "code",
   "execution_count": 27,
   "metadata": {},
   "outputs": [],
   "source": [
    "# # hyper-param config\n",
    "# max_iters = [40]\n",
    "# ranks = [50, 60, 70,80,90,100]\n",
    "# reg_params = [.50]\n",
    "# alphas = [5]"
   ]
  },
  {
   "cell_type": "code",
   "execution_count": 28,
   "metadata": {},
   "outputs": [],
   "source": [
    "# model_list_2 = cr.create_als_models_list(userCol=\"account_id\", itemCol=\"comic_id\"\n",
    "#                                     ,ratingCol=\"bought\"\n",
    "#                                     ,ranks=ranks\n",
    "#                                     ,max_iters=max_iters\n",
    "#                                     ,reg_params=reg_params\n",
    "#                                     ,alphas=alphas\n",
    "#                                     ,seed=random_seed\n",
    "#                                    )"
   ]
  },
  {
   "cell_type": "code",
   "execution_count": 29,
   "metadata": {},
   "outputs": [],
   "source": [
    "# model_list_2"
   ]
  },
  {
   "cell_type": "code",
   "execution_count": 30,
   "metadata": {},
   "outputs": [],
   "source": [
    "# ROEMs_2 = cr.get_ROEMs(sql_context, model_list_2, train, test, 'account_id'\n",
    "#                      ,'bought')"
   ]
  },
  {
   "cell_type": "markdown",
   "metadata": {},
   "source": [
    "#### Save the best model"
   ]
  },
  {
   "cell_type": "code",
   "execution_count": 31,
   "metadata": {},
   "outputs": [],
   "source": [
    "!rm -rf models/best_model_use_20190922/"
   ]
  },
  {
   "cell_type": "code",
   "execution_count": 32,
   "metadata": {},
   "outputs": [],
   "source": [
    "best_model.save('models/best_model_use_20190922')"
   ]
  },
  {
   "cell_type": "code",
   "execution_count": 33,
   "metadata": {},
   "outputs": [],
   "source": [
    "# with open('support_data/best_model_20190916a.pkl', 'wb') as f:\n",
    "#     pickle.dump(best_model, f)c\n",
    "    \n",
    "# # Example - load pickle\n",
    "# # pickle_in = open(\"support_data/params_errs_rd1.pkl\",\"rb\")\n",
    "# # pe1 = pickle.load(pickle_in)\n",
    "\n",
    "#### Use this to reload the Grid Search results\n",
    "\n",
    "# pickle_in = open('support_data/params_errs_20190912d.pkl', 'rb')\n",
    "# params_errs_4 = pickle.load(pickle_in)\n",
    "                         "
   ]
  },
  {
   "cell_type": "markdown",
   "metadata": {},
   "source": [
    "## Cross-Validation\n",
    "\n",
    "Perform 5-fold cross-validation"
   ]
  },
  {
   "cell_type": "code",
   "execution_count": 34,
   "metadata": {},
   "outputs": [],
   "source": [
    "errors = []"
   ]
  },
  {
   "cell_type": "code",
   "execution_count": 35,
   "metadata": {},
   "outputs": [],
   "source": [
    "foldlist = cr.create_spark_5_fold_set(train, seed=random_seed)"
   ]
  },
  {
   "cell_type": "code",
   "execution_count": 36,
   "metadata": {},
   "outputs": [],
   "source": [
    "errors = cr.perform_cv(foldlist, best_model, sql_context, \n",
    "                       'account_id', 'bought')"
   ]
  },
  {
   "cell_type": "code",
   "execution_count": 37,
   "metadata": {},
   "outputs": [
    {
     "data": {
      "text/plain": [
       "[0.15406753911315962,\n",
       " 0.1579989782174029,\n",
       " 0.16129332990395598,\n",
       " 0.15466179803591276,\n",
       " 0.15237903469248276]"
      ]
     },
     "execution_count": 37,
     "metadata": {},
     "output_type": "execute_result"
    }
   ],
   "source": [
    "errors"
   ]
  },
  {
   "cell_type": "code",
   "execution_count": 38,
   "metadata": {},
   "outputs": [
    {
     "name": "stdout",
     "output_type": "stream",
     "text": [
      "CV errors range: 0.16 (+/- 0.01)\n"
     ]
    }
   ],
   "source": [
    "print(\"CV errors range: %0.2f (+/- %0.2f)\" % (np.mean(errors), \n",
    "                                              np.std(errors) * 2))"
   ]
  },
  {
   "cell_type": "markdown",
   "metadata": {},
   "source": [
    "Seems pretty stable, which helps alleviate some over-fitting concerns."
   ]
  },
  {
   "cell_type": "markdown",
   "metadata": {},
   "source": [
    "## Test the Candidate Model\n",
    "\n",
    "Test vs our holdout set."
   ]
  },
  {
   "cell_type": "code",
   "execution_count": 39,
   "metadata": {},
   "outputs": [],
   "source": [
    "model_fitted = best_model.fit(train)"
   ]
  },
  {
   "cell_type": "code",
   "execution_count": 40,
   "metadata": {},
   "outputs": [
    {
     "data": {
      "text/plain": [
       "0.1383823245662665"
      ]
     },
     "execution_count": 40,
     "metadata": {},
     "output_type": "execute_result"
    }
   ],
   "source": [
    "# get predictions on test\n",
    "test_preds = model_fitted.transform(test)\n",
    "\n",
    "# Evaluate test\n",
    "test_roem = cr.calculate_ROEM(sql_context, test_preds, 'account_id', 'bought')\n",
    "test_roem"
   ]
  },
  {
   "cell_type": "markdown",
   "metadata": {},
   "source": [
    "Weird that test error is lower than train...but not too far off. Let's run with it for now."
   ]
  },
  {
   "cell_type": "markdown",
   "metadata": {},
   "source": [
    "## Get Factors"
   ]
  },
  {
   "cell_type": "markdown",
   "metadata": {},
   "source": [
    "#### Save the item factors for future use!"
   ]
  },
  {
   "cell_type": "code",
   "execution_count": 41,
   "metadata": {},
   "outputs": [],
   "source": [
    "item_factors = model_fitted.itemFactors.toPandas()"
   ]
  },
  {
   "cell_type": "code",
   "execution_count": 42,
   "metadata": {},
   "outputs": [
    {
     "data": {
      "text/plain": [
       "(790, 2)"
      ]
     },
     "execution_count": 42,
     "metadata": {},
     "output_type": "execute_result"
    }
   ],
   "source": [
    "item_factors.shape"
   ]
  },
  {
   "cell_type": "code",
   "execution_count": 43,
   "metadata": {},
   "outputs": [],
   "source": [
    "item_factors.to_pickle(\"support_data/item_factors_20190922.pkl\")"
   ]
  },
  {
   "cell_type": "code",
   "execution_count": 44,
   "metadata": {},
   "outputs": [],
   "source": [
    "pd.set_option('display.max_colwidth', -1)"
   ]
  },
  {
   "cell_type": "code",
   "execution_count": 45,
   "metadata": {},
   "outputs": [
    {
     "data": {
      "text/html": [
       "<div>\n",
       "<style scoped>\n",
       "    .dataframe tbody tr th:only-of-type {\n",
       "        vertical-align: middle;\n",
       "    }\n",
       "\n",
       "    .dataframe tbody tr th {\n",
       "        vertical-align: top;\n",
       "    }\n",
       "\n",
       "    .dataframe thead th {\n",
       "        text-align: right;\n",
       "    }\n",
       "</style>\n",
       "<table border=\"1\" class=\"dataframe\">\n",
       "  <thead>\n",
       "    <tr style=\"text-align: right;\">\n",
       "      <th></th>\n",
       "      <th>id</th>\n",
       "      <th>features</th>\n",
       "    </tr>\n",
       "  </thead>\n",
       "  <tbody>\n",
       "    <tr>\n",
       "      <th>0</th>\n",
       "      <td>60</td>\n",
       "      <td>[0.0, 0.0, 0.0, 0.0, 0.0, 0.10508554428815842, 0.0, 0.0, 0.01896611973643303, 0.0, 0.021102655678987503, 0.0, 0.0, 0.12686343491077423, 0.0, 0.0, 0.0, 0.022148169577121735, 0.06328777968883514, 0.0, 0.0, 0.0, 0.0, 0.0, 0.0, 0.007707503624260426, 0.0, 0.0, 0.0, 0.0, 0.005374941509217024, 0.0, 0.0, 0.0, 0.0, 0.0, 0.0, 0.05052958056330681, 0.011220408603549004, 0.0, 0.0, 0.0, 0.0, 0.0, 0.11506464332342148, 0.0, 0.0, 0.0, 0.17163017392158508, 0.0, 0.0, 0.0, 0.0, 0.0, 0.0, 0.0, 0.0, 0.006456415634602308, 0.0, 0.015349343419075012, 0.03107871301472187, 0.0, 0.0, 0.0, 0.0, 0.0, 0.27092358469963074, 0.0, 0.0, 0.0, 0.0, 0.0, 0.0, 0.0, 0.025583656504750252, 0.0, 0.0, 0.0, 1.0591641664505005, 0.053221795707941055, 0.0, 0.0, 0.0, 0.05408709496259689, 0.0, 0.0, 0.0, 0.0, 0.0, 0.0]</td>\n",
       "    </tr>\n",
       "    <tr>\n",
       "      <th>1</th>\n",
       "      <td>80</td>\n",
       "      <td>[0.0, 0.0, 0.7849878072738647, 0.0, 0.0, 0.0, 0.0, 0.0, 0.0, 0.0, 0.0, 0.0, 0.0, 0.0, 0.0, 0.0, 0.0, 0.007554573006927967, 0.0, 0.0, 0.0, 0.0, 0.0, 0.0, 0.0, 0.03375270217657089, 0.0, 0.0, 0.0, 0.0, 0.0, 0.0, 0.0, 0.0, 0.0, 0.032801661640405655, 0.0, 0.0, 0.0, 0.0, 0.0, 0.0, 0.0, 0.007697138469666243, 0.0026825189124792814, 0.3475143313407898, 0.0, 0.0, 0.0, 0.0, 0.0, 0.0013996687484905124, 0.23373940587043762, 0.0, 0.0, 0.0, 0.0, 0.0, 0.0, 0.0, 0.0, 0.0, 0.0, 0.13523250818252563, 0.0, 0.0, 0.0, 0.0, 0.2887299656867981, 0.0, 0.0, 0.050097063183784485, 0.0, 0.0, 0.0, 0.0, 0.0, 0.0, 0.03493104502558708, 0.001645353389903903, 0.0, 0.0, 0.0, 0.0, 0.0, 0.0, 0.006978376302868128, 0.1833251565694809, 0.0, 0.2944970726966858]</td>\n",
       "    </tr>\n",
       "    <tr>\n",
       "      <th>2</th>\n",
       "      <td>110</td>\n",
       "      <td>[0.0, 0.009271303191781044, 0.10891015827655792, 0.0, 0.13306932151317596, 0.05098634958267212, 0.0, 0.13732244074344635, 0.0, 0.0, 0.0, 0.028821595013141632, 0.0, 0.0, 0.0, 0.0, 0.0, 0.07727650552988052, 0.03552515059709549, 0.0, 0.07095742225646973, 0.019442008808255196, 0.0, 0.0, 0.11037711054086685, 0.0, 0.036816131323575974, 0.0, 0.0, 0.0, 0.004124191589653492, 0.0, 0.0, 0.06366446614265442, 0.0, 0.1691473424434662, 0.0, 0.11646460741758347, 0.026325108483433723, 0.10757080465555191, 0.0, 0.0, 0.09786222130060196, 0.0, 0.0, 0.0, 0.24123691022396088, 0.0, 0.0974075123667717, 0.00572208920493722, 0.04230774939060211, 0.0, 0.0, 0.1211944967508316, 0.0, 0.12937264144420624, 0.0, 0.013567048124969006, 0.10788469761610031, 0.0, 0.14548610150814056, 0.0, 0.026104725897312164, 0.0, 0.0, 0.0, 0.0, 0.0, 0.0, 0.0, 0.049218542873859406, 0.023167787119746208, 0.0, 0.0, 0.0, 0.0, 0.1114007905125618, 0.018687862902879715, 0.24303512275218964, 0.0, 0.03269924968481064, 0.0, 0.05001208558678627, 0.0, 0.9555280208587646, 0.006476032547652721, 0.0, 0.0, 0.0, 0.02301095426082611]</td>\n",
       "    </tr>\n",
       "    <tr>\n",
       "      <th>3</th>\n",
       "      <td>200</td>\n",
       "      <td>[0.0, 0.0, 0.0850071832537651, 0.0, 0.02213653363287449, 0.14085043966770172, 0.15863579511642456, 0.004325373098254204, 0.11111370474100113, 0.0, 0.0231711957603693, 0.08182089030742645, 0.03496762365102768, 0.0, 0.0, 0.4592816233634949, 0.0, 0.0, 0.0, 0.006540149915963411, 0.0, 0.0, 0.0, 0.07584462314844131, 0.0, 0.04479466751217842, 0.0, 0.0, 0.41409534215927124, 0.43086376786231995, 0.0609794519841671, 0.0, 0.0, 0.39998140931129456, 0.0, 0.0, 0.24202348291873932, 0.0, 0.0, 0.0, 0.0, 0.0, 0.0, 0.0, 0.05694151669740677, 0.011646406725049019, 0.0, 0.0, 0.0014159881975501776, 0.0, 0.0, 0.0, 0.0, 0.0, 0.0, 0.0, 0.2927549183368683, 0.0, 0.01944093406200409, 0.06915950775146484, 0.0542009063065052, 0.2722710967063904, 0.0, 0.019780602306127548, 0.0896054357290268, 0.0, 0.06598655134439468, 0.0, 0.08831866085529327, 0.11044882237911224, 0.0, 0.0, 0.0, 0.04315662011504173, 0.05128350108861923, 0.0, 0.04392204061150551, 0.0, 0.0, 0.11121310293674469, 0.0, 0.0, 0.0, 0.13005110621452332, 0.003682937705889344, 0.03534753620624542, 0.0, 0.039060257375240326, 0.21271245181560516, 0.03203374892473221]</td>\n",
       "    </tr>\n",
       "    <tr>\n",
       "      <th>4</th>\n",
       "      <td>240</td>\n",
       "      <td>[0.0, 0.006236200220882893, 0.07662233710289001, 0.0, 0.0, 0.0, 0.17395563423633575, 0.016023196280002594, 1.1460156440734863, 0.0, 0.040674254298210144, 0.04191849008202553, 0.0, 0.0, 0.0, 0.02772504836320877, 0.0, 0.0, 0.0, 0.0, 0.0, 0.0, 0.0, 0.0, 0.022924458608031273, 0.0, 0.0, 0.0, 0.0, 0.0, 0.09561432898044586, 0.0, 0.05442854389548302, 0.0, 0.0, 0.006152234971523285, 0.0, 0.0, 0.0, 0.0, 0.0, 0.0, 0.0035191953647881746, 0.0, 0.10176217555999756, 0.0, 0.024802198633551598, 0.09737961739301682, 0.08313409984111786, 0.0, 0.0, 0.013248143717646599, 0.0, 0.0, 0.0, 0.0, 0.023684736341238022, 0.0, 0.062348321080207825, 0.04877636954188347, 0.0, 0.002678714459761977, 0.0, 0.043682437390089035, 0.0, 0.011407598853111267, 0.0, 0.0, 0.007639996707439423, 0.0, 0.0, 0.0, 0.0, 0.0, 0.09532628953456879, 0.0, 0.0, 0.11772248148918152, 0.0, 0.05401892960071564, 0.0, 0.0, 0.0, 0.0, 0.0, 0.0, 0.0, 0.013841362670063972, 0.07206224650144577, 0.28968578577041626]</td>\n",
       "    </tr>\n",
       "  </tbody>\n",
       "</table>\n",
       "</div>"
      ],
      "text/plain": [
       "    id  \\\n",
       "0  60    \n",
       "1  80    \n",
       "2  110   \n",
       "3  200   \n",
       "4  240   \n",
       "\n",
       "                                                                                                                                                                                                                                                                                                                                                                                                                                                                                                                                                                                                                                                                                                                                                                                                                                                                                                                                                                                                                                                                                                                                             features  \n",
       "0  [0.0, 0.0, 0.0, 0.0, 0.0, 0.10508554428815842, 0.0, 0.0, 0.01896611973643303, 0.0, 0.021102655678987503, 0.0, 0.0, 0.12686343491077423, 0.0, 0.0, 0.0, 0.022148169577121735, 0.06328777968883514, 0.0, 0.0, 0.0, 0.0, 0.0, 0.0, 0.007707503624260426, 0.0, 0.0, 0.0, 0.0, 0.005374941509217024, 0.0, 0.0, 0.0, 0.0, 0.0, 0.0, 0.05052958056330681, 0.011220408603549004, 0.0, 0.0, 0.0, 0.0, 0.0, 0.11506464332342148, 0.0, 0.0, 0.0, 0.17163017392158508, 0.0, 0.0, 0.0, 0.0, 0.0, 0.0, 0.0, 0.0, 0.006456415634602308, 0.0, 0.015349343419075012, 0.03107871301472187, 0.0, 0.0, 0.0, 0.0, 0.0, 0.27092358469963074, 0.0, 0.0, 0.0, 0.0, 0.0, 0.0, 0.0, 0.025583656504750252, 0.0, 0.0, 0.0, 1.0591641664505005, 0.053221795707941055, 0.0, 0.0, 0.0, 0.05408709496259689, 0.0, 0.0, 0.0, 0.0, 0.0, 0.0]                                                                                                                                                                                                                                                                                                                                          \n",
       "1  [0.0, 0.0, 0.7849878072738647, 0.0, 0.0, 0.0, 0.0, 0.0, 0.0, 0.0, 0.0, 0.0, 0.0, 0.0, 0.0, 0.0, 0.0, 0.007554573006927967, 0.0, 0.0, 0.0, 0.0, 0.0, 0.0, 0.0, 0.03375270217657089, 0.0, 0.0, 0.0, 0.0, 0.0, 0.0, 0.0, 0.0, 0.0, 0.032801661640405655, 0.0, 0.0, 0.0, 0.0, 0.0, 0.0, 0.0, 0.007697138469666243, 0.0026825189124792814, 0.3475143313407898, 0.0, 0.0, 0.0, 0.0, 0.0, 0.0013996687484905124, 0.23373940587043762, 0.0, 0.0, 0.0, 0.0, 0.0, 0.0, 0.0, 0.0, 0.0, 0.0, 0.13523250818252563, 0.0, 0.0, 0.0, 0.0, 0.2887299656867981, 0.0, 0.0, 0.050097063183784485, 0.0, 0.0, 0.0, 0.0, 0.0, 0.0, 0.03493104502558708, 0.001645353389903903, 0.0, 0.0, 0.0, 0.0, 0.0, 0.0, 0.006978376302868128, 0.1833251565694809, 0.0, 0.2944970726966858]                                                                                                                                                                                                                                                                                                                                                                                             \n",
       "2  [0.0, 0.009271303191781044, 0.10891015827655792, 0.0, 0.13306932151317596, 0.05098634958267212, 0.0, 0.13732244074344635, 0.0, 0.0, 0.0, 0.028821595013141632, 0.0, 0.0, 0.0, 0.0, 0.0, 0.07727650552988052, 0.03552515059709549, 0.0, 0.07095742225646973, 0.019442008808255196, 0.0, 0.0, 0.11037711054086685, 0.0, 0.036816131323575974, 0.0, 0.0, 0.0, 0.004124191589653492, 0.0, 0.0, 0.06366446614265442, 0.0, 0.1691473424434662, 0.0, 0.11646460741758347, 0.026325108483433723, 0.10757080465555191, 0.0, 0.0, 0.09786222130060196, 0.0, 0.0, 0.0, 0.24123691022396088, 0.0, 0.0974075123667717, 0.00572208920493722, 0.04230774939060211, 0.0, 0.0, 0.1211944967508316, 0.0, 0.12937264144420624, 0.0, 0.013567048124969006, 0.10788469761610031, 0.0, 0.14548610150814056, 0.0, 0.026104725897312164, 0.0, 0.0, 0.0, 0.0, 0.0, 0.0, 0.0, 0.049218542873859406, 0.023167787119746208, 0.0, 0.0, 0.0, 0.0, 0.1114007905125618, 0.018687862902879715, 0.24303512275218964, 0.0, 0.03269924968481064, 0.0, 0.05001208558678627, 0.0, 0.9555280208587646, 0.006476032547652721, 0.0, 0.0, 0.0, 0.02301095426082611]                           \n",
       "3  [0.0, 0.0, 0.0850071832537651, 0.0, 0.02213653363287449, 0.14085043966770172, 0.15863579511642456, 0.004325373098254204, 0.11111370474100113, 0.0, 0.0231711957603693, 0.08182089030742645, 0.03496762365102768, 0.0, 0.0, 0.4592816233634949, 0.0, 0.0, 0.0, 0.006540149915963411, 0.0, 0.0, 0.0, 0.07584462314844131, 0.0, 0.04479466751217842, 0.0, 0.0, 0.41409534215927124, 0.43086376786231995, 0.0609794519841671, 0.0, 0.0, 0.39998140931129456, 0.0, 0.0, 0.24202348291873932, 0.0, 0.0, 0.0, 0.0, 0.0, 0.0, 0.0, 0.05694151669740677, 0.011646406725049019, 0.0, 0.0, 0.0014159881975501776, 0.0, 0.0, 0.0, 0.0, 0.0, 0.0, 0.0, 0.2927549183368683, 0.0, 0.01944093406200409, 0.06915950775146484, 0.0542009063065052, 0.2722710967063904, 0.0, 0.019780602306127548, 0.0896054357290268, 0.0, 0.06598655134439468, 0.0, 0.08831866085529327, 0.11044882237911224, 0.0, 0.0, 0.0, 0.04315662011504173, 0.05128350108861923, 0.0, 0.04392204061150551, 0.0, 0.0, 0.11121310293674469, 0.0, 0.0, 0.0, 0.13005110621452332, 0.003682937705889344, 0.03534753620624542, 0.0, 0.039060257375240326, 0.21271245181560516, 0.03203374892473221]  \n",
       "4  [0.0, 0.006236200220882893, 0.07662233710289001, 0.0, 0.0, 0.0, 0.17395563423633575, 0.016023196280002594, 1.1460156440734863, 0.0, 0.040674254298210144, 0.04191849008202553, 0.0, 0.0, 0.0, 0.02772504836320877, 0.0, 0.0, 0.0, 0.0, 0.0, 0.0, 0.0, 0.0, 0.022924458608031273, 0.0, 0.0, 0.0, 0.0, 0.0, 0.09561432898044586, 0.0, 0.05442854389548302, 0.0, 0.0, 0.006152234971523285, 0.0, 0.0, 0.0, 0.0, 0.0, 0.0, 0.0035191953647881746, 0.0, 0.10176217555999756, 0.0, 0.024802198633551598, 0.09737961739301682, 0.08313409984111786, 0.0, 0.0, 0.013248143717646599, 0.0, 0.0, 0.0, 0.0, 0.023684736341238022, 0.0, 0.062348321080207825, 0.04877636954188347, 0.0, 0.002678714459761977, 0.0, 0.043682437390089035, 0.0, 0.011407598853111267, 0.0, 0.0, 0.007639996707439423, 0.0, 0.0, 0.0, 0.0, 0.0, 0.09532628953456879, 0.0, 0.0, 0.11772248148918152, 0.0, 0.05401892960071564, 0.0, 0.0, 0.0, 0.0, 0.0, 0.0, 0.0, 0.013841362670063972, 0.07206224650144577, 0.28968578577041626]                                                                                                                                                   "
      ]
     },
     "execution_count": 45,
     "metadata": {},
     "output_type": "execute_result"
    }
   ],
   "source": [
    "item_factors.head()"
   ]
  },
  {
   "cell_type": "markdown",
   "metadata": {},
   "source": [
    "## Test Retrieving the Factors"
   ]
  },
  {
   "cell_type": "code",
   "execution_count": 46,
   "metadata": {},
   "outputs": [],
   "source": [
    "unpickled_items = pd.read_pickle('support_data/item_factors_20190922.pkl')"
   ]
  },
  {
   "cell_type": "code",
   "execution_count": 47,
   "metadata": {},
   "outputs": [
    {
     "data": {
      "text/html": [
       "<div>\n",
       "<style scoped>\n",
       "    .dataframe tbody tr th:only-of-type {\n",
       "        vertical-align: middle;\n",
       "    }\n",
       "\n",
       "    .dataframe tbody tr th {\n",
       "        vertical-align: top;\n",
       "    }\n",
       "\n",
       "    .dataframe thead th {\n",
       "        text-align: right;\n",
       "    }\n",
       "</style>\n",
       "<table border=\"1\" class=\"dataframe\">\n",
       "  <thead>\n",
       "    <tr style=\"text-align: right;\">\n",
       "      <th></th>\n",
       "      <th>id</th>\n",
       "      <th>features</th>\n",
       "    </tr>\n",
       "  </thead>\n",
       "  <tbody>\n",
       "    <tr>\n",
       "      <th>0</th>\n",
       "      <td>60</td>\n",
       "      <td>[0.0, 0.0, 0.0, 0.0, 0.0, 0.10508554428815842, 0.0, 0.0, 0.01896611973643303, 0.0, 0.021102655678987503, 0.0, 0.0, 0.12686343491077423, 0.0, 0.0, 0.0, 0.022148169577121735, 0.06328777968883514, 0.0, 0.0, 0.0, 0.0, 0.0, 0.0, 0.007707503624260426, 0.0, 0.0, 0.0, 0.0, 0.005374941509217024, 0.0, 0.0, 0.0, 0.0, 0.0, 0.0, 0.05052958056330681, 0.011220408603549004, 0.0, 0.0, 0.0, 0.0, 0.0, 0.11506464332342148, 0.0, 0.0, 0.0, 0.17163017392158508, 0.0, 0.0, 0.0, 0.0, 0.0, 0.0, 0.0, 0.0, 0.006456415634602308, 0.0, 0.015349343419075012, 0.03107871301472187, 0.0, 0.0, 0.0, 0.0, 0.0, 0.27092358469963074, 0.0, 0.0, 0.0, 0.0, 0.0, 0.0, 0.0, 0.025583656504750252, 0.0, 0.0, 0.0, 1.0591641664505005, 0.053221795707941055, 0.0, 0.0, 0.0, 0.05408709496259689, 0.0, 0.0, 0.0, 0.0, 0.0, 0.0]</td>\n",
       "    </tr>\n",
       "    <tr>\n",
       "      <th>1</th>\n",
       "      <td>80</td>\n",
       "      <td>[0.0, 0.0, 0.7849878072738647, 0.0, 0.0, 0.0, 0.0, 0.0, 0.0, 0.0, 0.0, 0.0, 0.0, 0.0, 0.0, 0.0, 0.0, 0.007554573006927967, 0.0, 0.0, 0.0, 0.0, 0.0, 0.0, 0.0, 0.03375270217657089, 0.0, 0.0, 0.0, 0.0, 0.0, 0.0, 0.0, 0.0, 0.0, 0.032801661640405655, 0.0, 0.0, 0.0, 0.0, 0.0, 0.0, 0.0, 0.007697138469666243, 0.0026825189124792814, 0.3475143313407898, 0.0, 0.0, 0.0, 0.0, 0.0, 0.0013996687484905124, 0.23373940587043762, 0.0, 0.0, 0.0, 0.0, 0.0, 0.0, 0.0, 0.0, 0.0, 0.0, 0.13523250818252563, 0.0, 0.0, 0.0, 0.0, 0.2887299656867981, 0.0, 0.0, 0.050097063183784485, 0.0, 0.0, 0.0, 0.0, 0.0, 0.0, 0.03493104502558708, 0.001645353389903903, 0.0, 0.0, 0.0, 0.0, 0.0, 0.0, 0.006978376302868128, 0.1833251565694809, 0.0, 0.2944970726966858]</td>\n",
       "    </tr>\n",
       "    <tr>\n",
       "      <th>2</th>\n",
       "      <td>110</td>\n",
       "      <td>[0.0, 0.009271303191781044, 0.10891015827655792, 0.0, 0.13306932151317596, 0.05098634958267212, 0.0, 0.13732244074344635, 0.0, 0.0, 0.0, 0.028821595013141632, 0.0, 0.0, 0.0, 0.0, 0.0, 0.07727650552988052, 0.03552515059709549, 0.0, 0.07095742225646973, 0.019442008808255196, 0.0, 0.0, 0.11037711054086685, 0.0, 0.036816131323575974, 0.0, 0.0, 0.0, 0.004124191589653492, 0.0, 0.0, 0.06366446614265442, 0.0, 0.1691473424434662, 0.0, 0.11646460741758347, 0.026325108483433723, 0.10757080465555191, 0.0, 0.0, 0.09786222130060196, 0.0, 0.0, 0.0, 0.24123691022396088, 0.0, 0.0974075123667717, 0.00572208920493722, 0.04230774939060211, 0.0, 0.0, 0.1211944967508316, 0.0, 0.12937264144420624, 0.0, 0.013567048124969006, 0.10788469761610031, 0.0, 0.14548610150814056, 0.0, 0.026104725897312164, 0.0, 0.0, 0.0, 0.0, 0.0, 0.0, 0.0, 0.049218542873859406, 0.023167787119746208, 0.0, 0.0, 0.0, 0.0, 0.1114007905125618, 0.018687862902879715, 0.24303512275218964, 0.0, 0.03269924968481064, 0.0, 0.05001208558678627, 0.0, 0.9555280208587646, 0.006476032547652721, 0.0, 0.0, 0.0, 0.02301095426082611]</td>\n",
       "    </tr>\n",
       "    <tr>\n",
       "      <th>3</th>\n",
       "      <td>200</td>\n",
       "      <td>[0.0, 0.0, 0.0850071832537651, 0.0, 0.02213653363287449, 0.14085043966770172, 0.15863579511642456, 0.004325373098254204, 0.11111370474100113, 0.0, 0.0231711957603693, 0.08182089030742645, 0.03496762365102768, 0.0, 0.0, 0.4592816233634949, 0.0, 0.0, 0.0, 0.006540149915963411, 0.0, 0.0, 0.0, 0.07584462314844131, 0.0, 0.04479466751217842, 0.0, 0.0, 0.41409534215927124, 0.43086376786231995, 0.0609794519841671, 0.0, 0.0, 0.39998140931129456, 0.0, 0.0, 0.24202348291873932, 0.0, 0.0, 0.0, 0.0, 0.0, 0.0, 0.0, 0.05694151669740677, 0.011646406725049019, 0.0, 0.0, 0.0014159881975501776, 0.0, 0.0, 0.0, 0.0, 0.0, 0.0, 0.0, 0.2927549183368683, 0.0, 0.01944093406200409, 0.06915950775146484, 0.0542009063065052, 0.2722710967063904, 0.0, 0.019780602306127548, 0.0896054357290268, 0.0, 0.06598655134439468, 0.0, 0.08831866085529327, 0.11044882237911224, 0.0, 0.0, 0.0, 0.04315662011504173, 0.05128350108861923, 0.0, 0.04392204061150551, 0.0, 0.0, 0.11121310293674469, 0.0, 0.0, 0.0, 0.13005110621452332, 0.003682937705889344, 0.03534753620624542, 0.0, 0.039060257375240326, 0.21271245181560516, 0.03203374892473221]</td>\n",
       "    </tr>\n",
       "    <tr>\n",
       "      <th>4</th>\n",
       "      <td>240</td>\n",
       "      <td>[0.0, 0.006236200220882893, 0.07662233710289001, 0.0, 0.0, 0.0, 0.17395563423633575, 0.016023196280002594, 1.1460156440734863, 0.0, 0.040674254298210144, 0.04191849008202553, 0.0, 0.0, 0.0, 0.02772504836320877, 0.0, 0.0, 0.0, 0.0, 0.0, 0.0, 0.0, 0.0, 0.022924458608031273, 0.0, 0.0, 0.0, 0.0, 0.0, 0.09561432898044586, 0.0, 0.05442854389548302, 0.0, 0.0, 0.006152234971523285, 0.0, 0.0, 0.0, 0.0, 0.0, 0.0, 0.0035191953647881746, 0.0, 0.10176217555999756, 0.0, 0.024802198633551598, 0.09737961739301682, 0.08313409984111786, 0.0, 0.0, 0.013248143717646599, 0.0, 0.0, 0.0, 0.0, 0.023684736341238022, 0.0, 0.062348321080207825, 0.04877636954188347, 0.0, 0.002678714459761977, 0.0, 0.043682437390089035, 0.0, 0.011407598853111267, 0.0, 0.0, 0.007639996707439423, 0.0, 0.0, 0.0, 0.0, 0.0, 0.09532628953456879, 0.0, 0.0, 0.11772248148918152, 0.0, 0.05401892960071564, 0.0, 0.0, 0.0, 0.0, 0.0, 0.0, 0.0, 0.013841362670063972, 0.07206224650144577, 0.28968578577041626]</td>\n",
       "    </tr>\n",
       "  </tbody>\n",
       "</table>\n",
       "</div>"
      ],
      "text/plain": [
       "    id  \\\n",
       "0  60    \n",
       "1  80    \n",
       "2  110   \n",
       "3  200   \n",
       "4  240   \n",
       "\n",
       "                                                                                                                                                                                                                                                                                                                                                                                                                                                                                                                                                                                                                                                                                                                                                                                                                                                                                                                                                                                                                                                                                                                                             features  \n",
       "0  [0.0, 0.0, 0.0, 0.0, 0.0, 0.10508554428815842, 0.0, 0.0, 0.01896611973643303, 0.0, 0.021102655678987503, 0.0, 0.0, 0.12686343491077423, 0.0, 0.0, 0.0, 0.022148169577121735, 0.06328777968883514, 0.0, 0.0, 0.0, 0.0, 0.0, 0.0, 0.007707503624260426, 0.0, 0.0, 0.0, 0.0, 0.005374941509217024, 0.0, 0.0, 0.0, 0.0, 0.0, 0.0, 0.05052958056330681, 0.011220408603549004, 0.0, 0.0, 0.0, 0.0, 0.0, 0.11506464332342148, 0.0, 0.0, 0.0, 0.17163017392158508, 0.0, 0.0, 0.0, 0.0, 0.0, 0.0, 0.0, 0.0, 0.006456415634602308, 0.0, 0.015349343419075012, 0.03107871301472187, 0.0, 0.0, 0.0, 0.0, 0.0, 0.27092358469963074, 0.0, 0.0, 0.0, 0.0, 0.0, 0.0, 0.0, 0.025583656504750252, 0.0, 0.0, 0.0, 1.0591641664505005, 0.053221795707941055, 0.0, 0.0, 0.0, 0.05408709496259689, 0.0, 0.0, 0.0, 0.0, 0.0, 0.0]                                                                                                                                                                                                                                                                                                                                          \n",
       "1  [0.0, 0.0, 0.7849878072738647, 0.0, 0.0, 0.0, 0.0, 0.0, 0.0, 0.0, 0.0, 0.0, 0.0, 0.0, 0.0, 0.0, 0.0, 0.007554573006927967, 0.0, 0.0, 0.0, 0.0, 0.0, 0.0, 0.0, 0.03375270217657089, 0.0, 0.0, 0.0, 0.0, 0.0, 0.0, 0.0, 0.0, 0.0, 0.032801661640405655, 0.0, 0.0, 0.0, 0.0, 0.0, 0.0, 0.0, 0.007697138469666243, 0.0026825189124792814, 0.3475143313407898, 0.0, 0.0, 0.0, 0.0, 0.0, 0.0013996687484905124, 0.23373940587043762, 0.0, 0.0, 0.0, 0.0, 0.0, 0.0, 0.0, 0.0, 0.0, 0.0, 0.13523250818252563, 0.0, 0.0, 0.0, 0.0, 0.2887299656867981, 0.0, 0.0, 0.050097063183784485, 0.0, 0.0, 0.0, 0.0, 0.0, 0.0, 0.03493104502558708, 0.001645353389903903, 0.0, 0.0, 0.0, 0.0, 0.0, 0.0, 0.006978376302868128, 0.1833251565694809, 0.0, 0.2944970726966858]                                                                                                                                                                                                                                                                                                                                                                                             \n",
       "2  [0.0, 0.009271303191781044, 0.10891015827655792, 0.0, 0.13306932151317596, 0.05098634958267212, 0.0, 0.13732244074344635, 0.0, 0.0, 0.0, 0.028821595013141632, 0.0, 0.0, 0.0, 0.0, 0.0, 0.07727650552988052, 0.03552515059709549, 0.0, 0.07095742225646973, 0.019442008808255196, 0.0, 0.0, 0.11037711054086685, 0.0, 0.036816131323575974, 0.0, 0.0, 0.0, 0.004124191589653492, 0.0, 0.0, 0.06366446614265442, 0.0, 0.1691473424434662, 0.0, 0.11646460741758347, 0.026325108483433723, 0.10757080465555191, 0.0, 0.0, 0.09786222130060196, 0.0, 0.0, 0.0, 0.24123691022396088, 0.0, 0.0974075123667717, 0.00572208920493722, 0.04230774939060211, 0.0, 0.0, 0.1211944967508316, 0.0, 0.12937264144420624, 0.0, 0.013567048124969006, 0.10788469761610031, 0.0, 0.14548610150814056, 0.0, 0.026104725897312164, 0.0, 0.0, 0.0, 0.0, 0.0, 0.0, 0.0, 0.049218542873859406, 0.023167787119746208, 0.0, 0.0, 0.0, 0.0, 0.1114007905125618, 0.018687862902879715, 0.24303512275218964, 0.0, 0.03269924968481064, 0.0, 0.05001208558678627, 0.0, 0.9555280208587646, 0.006476032547652721, 0.0, 0.0, 0.0, 0.02301095426082611]                           \n",
       "3  [0.0, 0.0, 0.0850071832537651, 0.0, 0.02213653363287449, 0.14085043966770172, 0.15863579511642456, 0.004325373098254204, 0.11111370474100113, 0.0, 0.0231711957603693, 0.08182089030742645, 0.03496762365102768, 0.0, 0.0, 0.4592816233634949, 0.0, 0.0, 0.0, 0.006540149915963411, 0.0, 0.0, 0.0, 0.07584462314844131, 0.0, 0.04479466751217842, 0.0, 0.0, 0.41409534215927124, 0.43086376786231995, 0.0609794519841671, 0.0, 0.0, 0.39998140931129456, 0.0, 0.0, 0.24202348291873932, 0.0, 0.0, 0.0, 0.0, 0.0, 0.0, 0.0, 0.05694151669740677, 0.011646406725049019, 0.0, 0.0, 0.0014159881975501776, 0.0, 0.0, 0.0, 0.0, 0.0, 0.0, 0.0, 0.2927549183368683, 0.0, 0.01944093406200409, 0.06915950775146484, 0.0542009063065052, 0.2722710967063904, 0.0, 0.019780602306127548, 0.0896054357290268, 0.0, 0.06598655134439468, 0.0, 0.08831866085529327, 0.11044882237911224, 0.0, 0.0, 0.0, 0.04315662011504173, 0.05128350108861923, 0.0, 0.04392204061150551, 0.0, 0.0, 0.11121310293674469, 0.0, 0.0, 0.0, 0.13005110621452332, 0.003682937705889344, 0.03534753620624542, 0.0, 0.039060257375240326, 0.21271245181560516, 0.03203374892473221]  \n",
       "4  [0.0, 0.006236200220882893, 0.07662233710289001, 0.0, 0.0, 0.0, 0.17395563423633575, 0.016023196280002594, 1.1460156440734863, 0.0, 0.040674254298210144, 0.04191849008202553, 0.0, 0.0, 0.0, 0.02772504836320877, 0.0, 0.0, 0.0, 0.0, 0.0, 0.0, 0.0, 0.0, 0.022924458608031273, 0.0, 0.0, 0.0, 0.0, 0.0, 0.09561432898044586, 0.0, 0.05442854389548302, 0.0, 0.0, 0.006152234971523285, 0.0, 0.0, 0.0, 0.0, 0.0, 0.0, 0.0035191953647881746, 0.0, 0.10176217555999756, 0.0, 0.024802198633551598, 0.09737961739301682, 0.08313409984111786, 0.0, 0.0, 0.013248143717646599, 0.0, 0.0, 0.0, 0.0, 0.023684736341238022, 0.0, 0.062348321080207825, 0.04877636954188347, 0.0, 0.002678714459761977, 0.0, 0.043682437390089035, 0.0, 0.011407598853111267, 0.0, 0.0, 0.007639996707439423, 0.0, 0.0, 0.0, 0.0, 0.0, 0.09532628953456879, 0.0, 0.0, 0.11772248148918152, 0.0, 0.05401892960071564, 0.0, 0.0, 0.0, 0.0, 0.0, 0.0, 0.0, 0.013841362670063972, 0.07206224650144577, 0.28968578577041626]                                                                                                                                                   "
      ]
     },
     "execution_count": 47,
     "metadata": {},
     "output_type": "execute_result"
    }
   ],
   "source": [
    "unpickled_items.head()"
   ]
  },
  {
   "cell_type": "markdown",
   "metadata": {},
   "source": [
    "---"
   ]
  }
 ],
 "metadata": {
  "kernelspec": {
   "display_name": "Python 3",
   "language": "python",
   "name": "python3"
  },
  "language_info": {
   "codemirror_mode": {
    "name": "ipython",
    "version": 3
   },
   "file_extension": ".py",
   "mimetype": "text/x-python",
   "name": "python",
   "nbconvert_exporter": "python",
   "pygments_lexer": "ipython3",
   "version": "3.7.3"
  }
 },
 "nbformat": 4,
 "nbformat_minor": 4
}
