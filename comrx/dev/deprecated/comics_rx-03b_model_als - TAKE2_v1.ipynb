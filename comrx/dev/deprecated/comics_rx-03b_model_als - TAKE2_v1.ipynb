{
 "cells": [
  {
   "cell_type": "markdown",
   "metadata": {},
   "source": [
    "# Comics Rx\n",
    "## [A comic book recommendation system](https://github.com/MangrobanGit/comics_rx)\n",
    "<img src=\"https://images.unsplash.com/photo-1514329926535-7f6dbfbfb114?ixlib=rb-1.2.1&ixid=eyJhcHBfaWQiOjEyMDd9&auto=format&fit=crop&w=2850&q=80\" width=\"400\" align='left'>"
   ]
  },
  {
   "cell_type": "markdown",
   "metadata": {},
   "source": [
    "---"
   ]
  },
  {
   "cell_type": "markdown",
   "metadata": {},
   "source": [
    "# Reduced Data: Grid Search + Cross-Validation\n",
    "\n",
    "This time, as explored in the EDA NB, let's consider removing customers who we feel have too few or too many purchases to influence the model in the intended way.\n",
    "\n",
    "Examples:\n",
    "- Too few - Customers who have only bought 1 comic (series).\n",
    "- Too many - Customers with > 1000 series (for example, think all eBay customers are rolled into one account number)."
   ]
  },
  {
   "cell_type": "markdown",
   "metadata": {},
   "source": [
    "# Libraries"
   ]
  },
  {
   "cell_type": "code",
   "execution_count": 1,
   "metadata": {},
   "outputs": [],
   "source": [
    "%matplotlib inline\n",
    "%load_ext autoreload\n",
    "# %autoreload 1 #would be where you need to specify the files\n",
    "# %aimport comic_recs\n",
    "\n",
    "import pandas as pd # dataframes\n",
    "import os\n",
    "import pickle\n",
    "\n",
    "# Data storage\n",
    "from sqlalchemy import create_engine # SQL helper\n",
    "#import psycopg2 as psql #PostgreSQL DBs\n",
    "\n",
    "# import necessary libraries\n",
    "import pyspark\n",
    "from pyspark.sql import SparkSession\n",
    "from pyspark.ml.evaluation import RegressionEvaluator\n",
    "# from pyspark.sql.types import (StructType, StructField, IntegerType\n",
    "#                                ,FloatType, LongType, StringType)\n",
    "from pyspark.sql.types import *\n",
    "\n",
    "import pyspark.sql.functions as F\n",
    "from pyspark.sql.functions import col, explode, lit, isnan, when, count\n",
    "from pyspark.ml.recommendation import ALS, ALSModel\n",
    "from pyspark.ml.evaluation import RegressionEvaluator\n",
    "from pyspark.ml.tuning import (CrossValidator, ParamGridBuilder, \n",
    "                               TrainValidationSplit)\n",
    "from pyspark.ml.evaluation import BinaryClassificationEvaluator\n",
    "from pyspark.sql import DataFrame\n",
    "\n",
    "# Plotting\n",
    "import seaborn as sns\n",
    "import matplotlib.pyplot as plt"
   ]
  },
  {
   "cell_type": "code",
   "execution_count": 2,
   "metadata": {},
   "outputs": [],
   "source": [
    "import sys"
   ]
  },
  {
   "cell_type": "code",
   "execution_count": 3,
   "metadata": {},
   "outputs": [],
   "source": [
    "sys.path.append('..')"
   ]
  },
  {
   "cell_type": "code",
   "execution_count": 4,
   "metadata": {},
   "outputs": [],
   "source": [
    "# Custom\n",
    "import data_fcns as dfc\n",
    "import keys  # Custom keys lib\n",
    "import comic_recs as cr\n",
    "\n",
    "import time\n",
    "import itertools\n",
    "from functools import reduce\n",
    "import numpy as np"
   ]
  },
  {
   "cell_type": "code",
   "execution_count": 5,
   "metadata": {},
   "outputs": [],
   "source": [
    "from pyspark import SparkConf\n",
    "\n",
    "conf = SparkConf()\n",
    "\n",
    "conf = (conf.setMaster('local[*]')\n",
    "#         .set('spark.executor.memory', '1G') #https://stackoverflow.com/questions/48523629/spark-pyspark-an-error-occurred-while-trying-to-connect-to-the-java-server-127\n",
    "        .set('spark.driver.memory', '7G')\n",
    "        .set('spark.driver.maxResultSize', '2G'))\n",
    "#         .set('spark.executor.memory', '1G')\n",
    "#         .set('spark.driver.memory', '10G')\n",
    "#         .set('spark.driver.maxResultSize', '5G'))\n",
    "\n",
    "sc = pyspark.SparkContext().getOrCreate(conf=conf)\n",
    "\n",
    "from pyspark.sql import SQLContext\n",
    "sql_context = SQLContext(sc)\n",
    "\n",
    "sc.setCheckpointDir('./checkpoints')\n",
    "\n",
    "# spark.sparkContext.setCheckpointDir(\"hdfs://datalake/check_point_directory/als\")"
   ]
  },
  {
   "cell_type": "code",
   "execution_count": 6,
   "metadata": {},
   "outputs": [],
   "source": [
    "# # spark config\n",
    "# spark = pyspark.sql.SparkSession \\\n",
    "#     .builder \\\n",
    "#     .appName(\"comic recs\") \\\n",
    "#     .config(\"spark.driver.maxResultSize\", \"8g\") \\\n",
    "#     .config(\"spark.driver.memory\", \"8g\") \\\n",
    "#     .config(\"spark.executor.memory\", \"8g\") \\\n",
    "#     .config(\"spark.master\", \"local[*]\") \\\n",
    "#     .getOrCreate()"
   ]
  },
  {
   "cell_type": "markdown",
   "metadata": {},
   "source": [
    "# instantiate SparkSession object\n",
    "spark = pyspark.sql.SparkSession.builder.master(\"local[*]\").getOrCreate()\n",
    "# spark = SparkSession.builder.master(\"local\").getOrCreate()"
   ]
  },
  {
   "cell_type": "markdown",
   "metadata": {},
   "source": [
    "# spark config\n",
    "spark = pyspark.sql.SparkSession \\\n",
    "    .builder \\\n",
    "    .appName(\"movie recommendation\") \\\n",
    "    .config(\"spark.driver.maxResultSize\", \"1g\") \\\n",
    "    .config(\"spark.driver.memory\", \"1g\") \\\n",
    "    .config(\"spark.executor.memory\", \"20g\") \\\n",
    "    .config(\"spark.master\", \"local[*]\") \\\n",
    "    .getOrCreate()"
   ]
  },
  {
   "cell_type": "markdown",
   "metadata": {},
   "source": [
    "## Import Data\n",
    "\n",
    "We've previously set aside the dataset into a `json` file."
   ]
  },
  {
   "cell_type": "code",
   "execution_count": 7,
   "metadata": {},
   "outputs": [],
   "source": [
    "#!ls"
   ]
  },
  {
   "cell_type": "code",
   "execution_count": 8,
   "metadata": {},
   "outputs": [],
   "source": [
    "# We have previously created a version of the transactions table \n",
    "# and filtered it down.\n",
    "sold = sql_context.read.json('raw_data/als_input_filtered.json')"
   ]
  },
  {
   "cell_type": "code",
   "execution_count": 9,
   "metadata": {},
   "outputs": [
    {
     "data": {
      "text/plain": [
       "DataFrame[account_id: bigint, bought: bigint, comic_id: bigint]"
      ]
     },
     "execution_count": 9,
     "metadata": {},
     "output_type": "execute_result"
    }
   ],
   "source": [
    "# Persist the data\n",
    "sold.persist()"
   ]
  },
  {
   "cell_type": "code",
   "execution_count": 10,
   "metadata": {},
   "outputs": [
    {
     "data": {
      "text/plain": [
       "61871"
      ]
     },
     "execution_count": 10,
     "metadata": {},
     "output_type": "execute_result"
    }
   ],
   "source": [
    "sold.count()"
   ]
  },
  {
   "cell_type": "markdown",
   "metadata": {},
   "source": [
    "### ALS Model\n",
    "\n",
    "Let's start with  train/test split."
   ]
  },
  {
   "cell_type": "code",
   "execution_count": 11,
   "metadata": {},
   "outputs": [],
   "source": [
    "random_seed = 1234"
   ]
  },
  {
   "cell_type": "code",
   "execution_count": 12,
   "metadata": {},
   "outputs": [],
   "source": [
    "# Split data into training and test set\n",
    "(train, test) = sold.randomSplit([.75, .25], seed=random_seed)"
   ]
  },
  {
   "cell_type": "markdown",
   "metadata": {},
   "source": [
    "Make sure shapes make sense."
   ]
  },
  {
   "cell_type": "code",
   "execution_count": 13,
   "metadata": {},
   "outputs": [
    {
     "name": "stdout",
     "output_type": "stream",
     "text": [
      "46417 3\n"
     ]
    }
   ],
   "source": [
    "print(train.count(), len(train.columns))"
   ]
  },
  {
   "cell_type": "code",
   "execution_count": 14,
   "metadata": {},
   "outputs": [
    {
     "name": "stdout",
     "output_type": "stream",
     "text": [
      "15454 3\n"
     ]
    }
   ],
   "source": [
    "print(test.count(), len(test.columns))"
   ]
  },
  {
   "cell_type": "code",
   "execution_count": 15,
   "metadata": {},
   "outputs": [],
   "source": [
    "# Evaluate the model by computing the RMSE on the test data\n",
    "eval_reg = RegressionEvaluator(metricName=\"rmse\"\n",
    "                               , labelCol=\"bought\"\n",
    "                               , predictionCol=\"prediction\")"
   ]
  },
  {
   "cell_type": "markdown",
   "metadata": {},
   "source": [
    "### Grid Search"
   ]
  },
  {
   "cell_type": "markdown",
   "metadata": {},
   "source": [
    "Let's further subset into test and validation sets."
   ]
  },
  {
   "cell_type": "code",
   "execution_count": 16,
   "metadata": {},
   "outputs": [],
   "source": [
    "# Split data into training and validation sets\n",
    "(gs_train, gs_val) = train.randomSplit([(1-(1/3)), (1/3)], seed=random_seed)"
   ]
  },
  {
   "cell_type": "code",
   "execution_count": 17,
   "metadata": {},
   "outputs": [
    {
     "name": "stdout",
     "output_type": "stream",
     "text": [
      "30854 3\n"
     ]
    }
   ],
   "source": [
    "print(gs_train.count(), len(gs_train.columns))"
   ]
  },
  {
   "cell_type": "code",
   "execution_count": 18,
   "metadata": {},
   "outputs": [
    {
     "name": "stdout",
     "output_type": "stream",
     "text": [
      "15563 3\n"
     ]
    }
   ],
   "source": [
    "print(gs_val.count(), len(gs_val.columns))"
   ]
  },
  {
   "cell_type": "code",
   "execution_count": 19,
   "metadata": {},
   "outputs": [],
   "source": [
    "# hyper-param config\n",
    "num_iterations = [5, 10, 20]\n",
    "ranks = [5, 10, 20]\n",
    "reg_params = [0.01, 0.1, 1]\n",
    "alphas = [5, 25, 40]"
   ]
  },
  {
   "cell_type": "code",
   "execution_count": 20,
   "metadata": {},
   "outputs": [
    {
     "name": "stdout",
     "output_type": "stream",
     "text": [
      "5 iterations, 5 latent factors, regularization=0.01, and alpha @ 5 : validation error is 0.7929\n",
      "5 iterations, 5 latent factors, regularization=0.01, and alpha @ 25 : validation error is 0.6206\n",
      "5 iterations, 5 latent factors, regularization=0.01, and alpha @ 40 : validation error is 0.5692\n",
      "5 iterations, 10 latent factors, regularization=0.01, and alpha @ 5 : validation error is 0.7784\n",
      "5 iterations, 10 latent factors, regularization=0.01, and alpha @ 25 : validation error is 0.6227\n",
      "5 iterations, 10 latent factors, regularization=0.01, and alpha @ 40 : validation error is 0.5823\n",
      "5 iterations, 20 latent factors, regularization=0.01, and alpha @ 5 : validation error is 0.7807\n",
      "5 iterations, 20 latent factors, regularization=0.01, and alpha @ 25 : validation error is 0.6634\n",
      "5 iterations, 20 latent factors, regularization=0.01, and alpha @ 40 : validation error is 0.6403\n",
      "5 iterations, 5 latent factors, regularization=0.1, and alpha @ 5 : validation error is 0.7972\n",
      "5 iterations, 5 latent factors, regularization=0.1, and alpha @ 25 : validation error is 0.6237\n",
      "5 iterations, 5 latent factors, regularization=0.1, and alpha @ 40 : validation error is 0.5704\n",
      "5 iterations, 10 latent factors, regularization=0.1, and alpha @ 5 : validation error is 0.7847\n",
      "5 iterations, 10 latent factors, regularization=0.1, and alpha @ 25 : validation error is 0.6234\n",
      "5 iterations, 10 latent factors, regularization=0.1, and alpha @ 40 : validation error is 0.5819\n",
      "5 iterations, 20 latent factors, regularization=0.1, and alpha @ 5 : validation error is 0.7849\n",
      "5 iterations, 20 latent factors, regularization=0.1, and alpha @ 25 : validation error is 0.6605\n",
      "5 iterations, 20 latent factors, regularization=0.1, and alpha @ 40 : validation error is 0.6365\n",
      "5 iterations, 5 latent factors, regularization=1, and alpha @ 5 : validation error is 0.8320\n",
      "5 iterations, 5 latent factors, regularization=1, and alpha @ 25 : validation error is 0.6319\n",
      "5 iterations, 5 latent factors, regularization=1, and alpha @ 40 : validation error is 0.5767\n",
      "5 iterations, 10 latent factors, regularization=1, and alpha @ 5 : validation error is 0.8184\n",
      "5 iterations, 10 latent factors, regularization=1, and alpha @ 25 : validation error is 0.6283\n",
      "5 iterations, 10 latent factors, regularization=1, and alpha @ 40 : validation error is 0.5812\n",
      "5 iterations, 20 latent factors, regularization=1, and alpha @ 5 : validation error is 0.8120\n",
      "5 iterations, 20 latent factors, regularization=1, and alpha @ 25 : validation error is 0.6478\n",
      "5 iterations, 20 latent factors, regularization=1, and alpha @ 40 : validation error is 0.6158\n",
      "10 iterations, 5 latent factors, regularization=0.01, and alpha @ 5 : validation error is 0.7857\n",
      "10 iterations, 5 latent factors, regularization=0.01, and alpha @ 25 : validation error is 0.6085\n",
      "10 iterations, 5 latent factors, regularization=0.01, and alpha @ 40 : validation error is 0.5535\n",
      "10 iterations, 10 latent factors, regularization=0.01, and alpha @ 5 : validation error is 0.7707\n",
      "10 iterations, 10 latent factors, regularization=0.01, and alpha @ 25 : validation error is 0.6115\n",
      "10 iterations, 10 latent factors, regularization=0.01, and alpha @ 40 : validation error is 0.5693\n",
      "10 iterations, 20 latent factors, regularization=0.01, and alpha @ 5 : validation error is 0.7725\n",
      "10 iterations, 20 latent factors, regularization=0.01, and alpha @ 25 : validation error is 0.6480\n",
      "10 iterations, 20 latent factors, regularization=0.01, and alpha @ 40 : validation error is 0.6223\n",
      "10 iterations, 5 latent factors, regularization=0.1, and alpha @ 5 : validation error is 0.7885\n",
      "10 iterations, 5 latent factors, regularization=0.1, and alpha @ 25 : validation error is 0.6117\n",
      "10 iterations, 5 latent factors, regularization=0.1, and alpha @ 40 : validation error is 0.5551\n",
      "10 iterations, 10 latent factors, regularization=0.1, and alpha @ 5 : validation error is 0.7737\n",
      "10 iterations, 10 latent factors, regularization=0.1, and alpha @ 25 : validation error is 0.6126\n",
      "10 iterations, 10 latent factors, regularization=0.1, and alpha @ 40 : validation error is 0.5692\n",
      "10 iterations, 20 latent factors, regularization=0.1, and alpha @ 5 : validation error is 0.7737\n",
      "10 iterations, 20 latent factors, regularization=0.1, and alpha @ 25 : validation error is 0.6453\n",
      "10 iterations, 20 latent factors, regularization=0.1, and alpha @ 40 : validation error is 0.6187\n",
      "10 iterations, 5 latent factors, regularization=1, and alpha @ 5 : validation error is 0.8276\n",
      "10 iterations, 5 latent factors, regularization=1, and alpha @ 25 : validation error is 0.6188\n",
      "10 iterations, 5 latent factors, regularization=1, and alpha @ 40 : validation error is 0.5606\n",
      "10 iterations, 10 latent factors, regularization=1, and alpha @ 5 : validation error is 0.8133\n",
      "10 iterations, 10 latent factors, regularization=1, and alpha @ 25 : validation error is 0.6152\n",
      "10 iterations, 10 latent factors, regularization=1, and alpha @ 40 : validation error is 0.5681\n",
      "10 iterations, 20 latent factors, regularization=1, and alpha @ 5 : validation error is 0.8063\n",
      "10 iterations, 20 latent factors, regularization=1, and alpha @ 25 : validation error is 0.6321\n",
      "10 iterations, 20 latent factors, regularization=1, and alpha @ 40 : validation error is 0.5990\n",
      "20 iterations, 5 latent factors, regularization=0.01, and alpha @ 5 : validation error is 0.7842\n",
      "20 iterations, 5 latent factors, regularization=0.01, and alpha @ 25 : validation error is 0.6058\n",
      "20 iterations, 5 latent factors, regularization=0.01, and alpha @ 40 : validation error is 0.5487\n",
      "20 iterations, 10 latent factors, regularization=0.01, and alpha @ 5 : validation error is 0.7670\n",
      "20 iterations, 10 latent factors, regularization=0.01, and alpha @ 25 : validation error is 0.6053\n",
      "20 iterations, 10 latent factors, regularization=0.01, and alpha @ 40 : validation error is 0.5611\n",
      "20 iterations, 20 latent factors, regularization=0.01, and alpha @ 5 : validation error is 0.7692\n",
      "20 iterations, 20 latent factors, regularization=0.01, and alpha @ 25 : validation error is 0.6410\n",
      "20 iterations, 20 latent factors, regularization=0.01, and alpha @ 40 : validation error is 0.6134\n",
      "20 iterations, 5 latent factors, regularization=0.1, and alpha @ 5 : validation error is 0.7861\n",
      "20 iterations, 5 latent factors, regularization=0.1, and alpha @ 25 : validation error is 0.6082\n",
      "20 iterations, 5 latent factors, regularization=0.1, and alpha @ 40 : validation error is 0.5502\n",
      "20 iterations, 10 latent factors, regularization=0.1, and alpha @ 5 : validation error is 0.7686\n",
      "20 iterations, 10 latent factors, regularization=0.1, and alpha @ 25 : validation error is 0.6063\n",
      "20 iterations, 10 latent factors, regularization=0.1, and alpha @ 40 : validation error is 0.5611\n",
      "20 iterations, 20 latent factors, regularization=0.1, and alpha @ 5 : validation error is 0.7683\n",
      "20 iterations, 20 latent factors, regularization=0.1, and alpha @ 25 : validation error is 0.6384\n",
      "20 iterations, 20 latent factors, regularization=0.1, and alpha @ 40 : validation error is 0.6101\n",
      "20 iterations, 5 latent factors, regularization=1, and alpha @ 5 : validation error is 0.8269\n",
      "20 iterations, 5 latent factors, regularization=1, and alpha @ 25 : validation error is 0.6144\n",
      "20 iterations, 5 latent factors, regularization=1, and alpha @ 40 : validation error is 0.5546\n",
      "20 iterations, 10 latent factors, regularization=1, and alpha @ 5 : validation error is 0.8116\n",
      "20 iterations, 10 latent factors, regularization=1, and alpha @ 25 : validation error is 0.6098\n",
      "20 iterations, 10 latent factors, regularization=1, and alpha @ 40 : validation error is 0.5603\n",
      "20 iterations, 20 latent factors, regularization=1, and alpha @ 5 : validation error is 0.8041\n",
      "20 iterations, 20 latent factors, regularization=1, and alpha @ 25 : validation error is 0.6264\n",
      "20 iterations, 20 latent factors, regularization=1, and alpha @ 40 : validation error is 0.5921\n",
      "Total Runtime: 1152.25 seconds\n"
     ]
    }
   ],
   "source": [
    "# grid search and select best model\n",
    "start_time = time.time()\n",
    "final_model, params_errs = cr.train_ALS(gs_train, gs_val, eval_reg, \n",
    "                                        num_iterations, reg_params, \n",
    "                                        ranks, alphas)\n",
    "\n",
    "print ('Total Runtime: {:.2f} seconds'.format(time.time() - start_time))"
   ]
  },
  {
   "cell_type": "markdown",
   "metadata": {},
   "source": [
    "Save the descriptive results"
   ]
  },
  {
   "cell_type": "code",
   "execution_count": 21,
   "metadata": {},
   "outputs": [],
   "source": [
    "param_errs_rd_1 = params_errs"
   ]
  },
  {
   "cell_type": "code",
   "execution_count": 22,
   "metadata": {},
   "outputs": [],
   "source": [
    "with open('support_data/params_errs_20190912a.pkl', 'wb') as f:\n",
    "    pickle.dump(param_errs_rd_1, f)\n",
    "    \n",
    "# Example - load pickle\n",
    "# pickle_in = open(\"support_data/params_errs_rd1.pkl\",\"rb\")\n",
    "# pe1 = pickle.load(pickle_in)"
   ]
  },
  {
   "cell_type": "markdown",
   "metadata": {},
   "source": [
    "#### Use this to reload the Grid Search results"
   ]
  },
  {
   "cell_type": "code",
   "execution_count": 23,
   "metadata": {},
   "outputs": [],
   "source": [
    "pickle_in = open('support_data/params_errs_20190912a.pkl', 'rb')\n",
    "params_errs_1 = pickle.load(pickle_in)\n",
    "                         "
   ]
  },
  {
   "cell_type": "markdown",
   "metadata": {},
   "source": [
    "Hmmm. Let's put `params_errs_1` into a dataframe and find the model with the lowest error!"
   ]
  },
  {
   "cell_type": "code",
   "execution_count": 24,
   "metadata": {},
   "outputs": [],
   "source": [
    "gs_cols = ['max_iters', 'reg', 'rank', 'alpha', 'rmse']"
   ]
  },
  {
   "cell_type": "code",
   "execution_count": 25,
   "metadata": {},
   "outputs": [],
   "source": [
    "gs_df = pd.DataFrame(params_errs_1, columns=gs_cols)"
   ]
  },
  {
   "cell_type": "code",
   "execution_count": 26,
   "metadata": {},
   "outputs": [
    {
     "data": {
      "text/html": [
       "<div>\n",
       "<style scoped>\n",
       "    .dataframe tbody tr th:only-of-type {\n",
       "        vertical-align: middle;\n",
       "    }\n",
       "\n",
       "    .dataframe tbody tr th {\n",
       "        vertical-align: top;\n",
       "    }\n",
       "\n",
       "    .dataframe thead th {\n",
       "        text-align: right;\n",
       "    }\n",
       "</style>\n",
       "<table border=\"1\" class=\"dataframe\">\n",
       "  <thead>\n",
       "    <tr style=\"text-align: right;\">\n",
       "      <th></th>\n",
       "      <th>max_iters</th>\n",
       "      <th>reg</th>\n",
       "      <th>rank</th>\n",
       "      <th>alpha</th>\n",
       "      <th>rmse</th>\n",
       "    </tr>\n",
       "  </thead>\n",
       "  <tbody>\n",
       "    <tr>\n",
       "      <td>0</td>\n",
       "      <td>5</td>\n",
       "      <td>0.01</td>\n",
       "      <td>5</td>\n",
       "      <td>5</td>\n",
       "      <td>0.792942</td>\n",
       "    </tr>\n",
       "    <tr>\n",
       "      <td>1</td>\n",
       "      <td>5</td>\n",
       "      <td>0.01</td>\n",
       "      <td>5</td>\n",
       "      <td>25</td>\n",
       "      <td>0.620634</td>\n",
       "    </tr>\n",
       "    <tr>\n",
       "      <td>2</td>\n",
       "      <td>5</td>\n",
       "      <td>0.01</td>\n",
       "      <td>5</td>\n",
       "      <td>40</td>\n",
       "      <td>0.569212</td>\n",
       "    </tr>\n",
       "    <tr>\n",
       "      <td>3</td>\n",
       "      <td>5</td>\n",
       "      <td>0.01</td>\n",
       "      <td>10</td>\n",
       "      <td>5</td>\n",
       "      <td>0.778440</td>\n",
       "    </tr>\n",
       "    <tr>\n",
       "      <td>4</td>\n",
       "      <td>5</td>\n",
       "      <td>0.01</td>\n",
       "      <td>10</td>\n",
       "      <td>25</td>\n",
       "      <td>0.622656</td>\n",
       "    </tr>\n",
       "  </tbody>\n",
       "</table>\n",
       "</div>"
      ],
      "text/plain": [
       "   max_iters   reg  rank  alpha      rmse\n",
       "0          5  0.01     5      5  0.792942\n",
       "1          5  0.01     5     25  0.620634\n",
       "2          5  0.01     5     40  0.569212\n",
       "3          5  0.01    10      5  0.778440\n",
       "4          5  0.01    10     25  0.622656"
      ]
     },
     "execution_count": 26,
     "metadata": {},
     "output_type": "execute_result"
    }
   ],
   "source": [
    "gs_df.head()"
   ]
  },
  {
   "cell_type": "code",
   "execution_count": null,
   "metadata": {},
   "outputs": [],
   "source": []
  },
  {
   "cell_type": "code",
   "execution_count": 27,
   "metadata": {},
   "outputs": [],
   "source": [
    "min_err = gs_df.rmse.min()"
   ]
  },
  {
   "cell_type": "code",
   "execution_count": 28,
   "metadata": {},
   "outputs": [],
   "source": [
    "min_df = gs_df.loc[gs_df['rmse']==min_err]"
   ]
  },
  {
   "cell_type": "code",
   "execution_count": 29,
   "metadata": {},
   "outputs": [
    {
     "data": {
      "text/html": [
       "<div>\n",
       "<style scoped>\n",
       "    .dataframe tbody tr th:only-of-type {\n",
       "        vertical-align: middle;\n",
       "    }\n",
       "\n",
       "    .dataframe tbody tr th {\n",
       "        vertical-align: top;\n",
       "    }\n",
       "\n",
       "    .dataframe thead th {\n",
       "        text-align: right;\n",
       "    }\n",
       "</style>\n",
       "<table border=\"1\" class=\"dataframe\">\n",
       "  <thead>\n",
       "    <tr style=\"text-align: right;\">\n",
       "      <th></th>\n",
       "      <th>max_iters</th>\n",
       "      <th>reg</th>\n",
       "      <th>rank</th>\n",
       "      <th>alpha</th>\n",
       "      <th>rmse</th>\n",
       "    </tr>\n",
       "  </thead>\n",
       "  <tbody>\n",
       "    <tr>\n",
       "      <td>56</td>\n",
       "      <td>20</td>\n",
       "      <td>0.01</td>\n",
       "      <td>5</td>\n",
       "      <td>40</td>\n",
       "      <td>0.54872</td>\n",
       "    </tr>\n",
       "  </tbody>\n",
       "</table>\n",
       "</div>"
      ],
      "text/plain": [
       "    max_iters   reg  rank  alpha     rmse\n",
       "56         20  0.01     5     40  0.54872"
      ]
     },
     "execution_count": 29,
     "metadata": {},
     "output_type": "execute_result"
    }
   ],
   "source": [
    "min_df"
   ]
  },
  {
   "cell_type": "code",
   "execution_count": 30,
   "metadata": {},
   "outputs": [],
   "source": [
    "best_max_iter = min_df['max_iters'].iloc[0]\n",
    "best_reg = min_df['reg'].iloc[0]\n",
    "best_rank = min_df['rank'].iloc[0]\n",
    "best_alpha = min_df['alpha'].iloc[0]"
   ]
  },
  {
   "cell_type": "markdown",
   "metadata": {},
   "source": [
    "Let's do some visual comparisons."
   ]
  },
  {
   "cell_type": "code",
   "execution_count": 31,
   "metadata": {},
   "outputs": [],
   "source": [
    "gs_rank_match = (gs_df['rank']==best_rank)\n",
    "gs_reg_match = (gs_df['reg']==best_reg)\n",
    "gs_iter_match = (gs_df['max_iters']==best_max_iter)\n",
    "gs_alpha_match = (gs_df['alpha']==best_alpha)"
   ]
  },
  {
   "cell_type": "code",
   "execution_count": 32,
   "metadata": {},
   "outputs": [],
   "source": [
    "gs_vary_rank = gs_df.loc[(gs_reg_match & gs_iter_match & gs_alpha_match),:]"
   ]
  },
  {
   "cell_type": "code",
   "execution_count": 33,
   "metadata": {},
   "outputs": [
    {
     "data": {
      "text/html": [
       "<div>\n",
       "<style scoped>\n",
       "    .dataframe tbody tr th:only-of-type {\n",
       "        vertical-align: middle;\n",
       "    }\n",
       "\n",
       "    .dataframe tbody tr th {\n",
       "        vertical-align: top;\n",
       "    }\n",
       "\n",
       "    .dataframe thead th {\n",
       "        text-align: right;\n",
       "    }\n",
       "</style>\n",
       "<table border=\"1\" class=\"dataframe\">\n",
       "  <thead>\n",
       "    <tr style=\"text-align: right;\">\n",
       "      <th></th>\n",
       "      <th>max_iters</th>\n",
       "      <th>reg</th>\n",
       "      <th>rank</th>\n",
       "      <th>alpha</th>\n",
       "      <th>rmse</th>\n",
       "    </tr>\n",
       "  </thead>\n",
       "  <tbody>\n",
       "    <tr>\n",
       "      <td>56</td>\n",
       "      <td>20</td>\n",
       "      <td>0.01</td>\n",
       "      <td>5</td>\n",
       "      <td>40</td>\n",
       "      <td>0.548720</td>\n",
       "    </tr>\n",
       "    <tr>\n",
       "      <td>59</td>\n",
       "      <td>20</td>\n",
       "      <td>0.01</td>\n",
       "      <td>10</td>\n",
       "      <td>40</td>\n",
       "      <td>0.561128</td>\n",
       "    </tr>\n",
       "    <tr>\n",
       "      <td>62</td>\n",
       "      <td>20</td>\n",
       "      <td>0.01</td>\n",
       "      <td>20</td>\n",
       "      <td>40</td>\n",
       "      <td>0.613422</td>\n",
       "    </tr>\n",
       "  </tbody>\n",
       "</table>\n",
       "</div>"
      ],
      "text/plain": [
       "    max_iters   reg  rank  alpha      rmse\n",
       "56         20  0.01     5     40  0.548720\n",
       "59         20  0.01    10     40  0.561128\n",
       "62         20  0.01    20     40  0.613422"
      ]
     },
     "execution_count": 33,
     "metadata": {},
     "output_type": "execute_result"
    }
   ],
   "source": [
    "gs_vary_rank"
   ]
  },
  {
   "cell_type": "code",
   "execution_count": 34,
   "metadata": {},
   "outputs": [],
   "source": [
    "gs_vary_alpha = gs_df.loc[(gs_reg_match & gs_iter_match & gs_rank_match),:]"
   ]
  },
  {
   "cell_type": "code",
   "execution_count": 35,
   "metadata": {},
   "outputs": [
    {
     "data": {
      "text/html": [
       "<div>\n",
       "<style scoped>\n",
       "    .dataframe tbody tr th:only-of-type {\n",
       "        vertical-align: middle;\n",
       "    }\n",
       "\n",
       "    .dataframe tbody tr th {\n",
       "        vertical-align: top;\n",
       "    }\n",
       "\n",
       "    .dataframe thead th {\n",
       "        text-align: right;\n",
       "    }\n",
       "</style>\n",
       "<table border=\"1\" class=\"dataframe\">\n",
       "  <thead>\n",
       "    <tr style=\"text-align: right;\">\n",
       "      <th></th>\n",
       "      <th>max_iters</th>\n",
       "      <th>reg</th>\n",
       "      <th>rank</th>\n",
       "      <th>alpha</th>\n",
       "      <th>rmse</th>\n",
       "    </tr>\n",
       "  </thead>\n",
       "  <tbody>\n",
       "    <tr>\n",
       "      <td>54</td>\n",
       "      <td>20</td>\n",
       "      <td>0.01</td>\n",
       "      <td>5</td>\n",
       "      <td>5</td>\n",
       "      <td>0.784188</td>\n",
       "    </tr>\n",
       "    <tr>\n",
       "      <td>55</td>\n",
       "      <td>20</td>\n",
       "      <td>0.01</td>\n",
       "      <td>5</td>\n",
       "      <td>25</td>\n",
       "      <td>0.605789</td>\n",
       "    </tr>\n",
       "    <tr>\n",
       "      <td>56</td>\n",
       "      <td>20</td>\n",
       "      <td>0.01</td>\n",
       "      <td>5</td>\n",
       "      <td>40</td>\n",
       "      <td>0.548720</td>\n",
       "    </tr>\n",
       "  </tbody>\n",
       "</table>\n",
       "</div>"
      ],
      "text/plain": [
       "    max_iters   reg  rank  alpha      rmse\n",
       "54         20  0.01     5      5  0.784188\n",
       "55         20  0.01     5     25  0.605789\n",
       "56         20  0.01     5     40  0.548720"
      ]
     },
     "execution_count": 35,
     "metadata": {},
     "output_type": "execute_result"
    }
   ],
   "source": [
    "gs_vary_alpha"
   ]
  },
  {
   "cell_type": "code",
   "execution_count": 36,
   "metadata": {},
   "outputs": [],
   "source": [
    "gs_vary_reg = gs_df.loc[(gs_alpha_match & gs_iter_match & gs_rank_match),:]"
   ]
  },
  {
   "cell_type": "code",
   "execution_count": 37,
   "metadata": {},
   "outputs": [
    {
     "data": {
      "text/html": [
       "<div>\n",
       "<style scoped>\n",
       "    .dataframe tbody tr th:only-of-type {\n",
       "        vertical-align: middle;\n",
       "    }\n",
       "\n",
       "    .dataframe tbody tr th {\n",
       "        vertical-align: top;\n",
       "    }\n",
       "\n",
       "    .dataframe thead th {\n",
       "        text-align: right;\n",
       "    }\n",
       "</style>\n",
       "<table border=\"1\" class=\"dataframe\">\n",
       "  <thead>\n",
       "    <tr style=\"text-align: right;\">\n",
       "      <th></th>\n",
       "      <th>max_iters</th>\n",
       "      <th>reg</th>\n",
       "      <th>rank</th>\n",
       "      <th>alpha</th>\n",
       "      <th>rmse</th>\n",
       "    </tr>\n",
       "  </thead>\n",
       "  <tbody>\n",
       "    <tr>\n",
       "      <td>56</td>\n",
       "      <td>20</td>\n",
       "      <td>0.01</td>\n",
       "      <td>5</td>\n",
       "      <td>40</td>\n",
       "      <td>0.548720</td>\n",
       "    </tr>\n",
       "    <tr>\n",
       "      <td>65</td>\n",
       "      <td>20</td>\n",
       "      <td>0.10</td>\n",
       "      <td>5</td>\n",
       "      <td>40</td>\n",
       "      <td>0.550177</td>\n",
       "    </tr>\n",
       "    <tr>\n",
       "      <td>74</td>\n",
       "      <td>20</td>\n",
       "      <td>1.00</td>\n",
       "      <td>5</td>\n",
       "      <td>40</td>\n",
       "      <td>0.554570</td>\n",
       "    </tr>\n",
       "  </tbody>\n",
       "</table>\n",
       "</div>"
      ],
      "text/plain": [
       "    max_iters   reg  rank  alpha      rmse\n",
       "56         20  0.01     5     40  0.548720\n",
       "65         20  0.10     5     40  0.550177\n",
       "74         20  1.00     5     40  0.554570"
      ]
     },
     "execution_count": 37,
     "metadata": {},
     "output_type": "execute_result"
    }
   ],
   "source": [
    "gs_vary_reg"
   ]
  },
  {
   "cell_type": "code",
   "execution_count": 38,
   "metadata": {},
   "outputs": [],
   "source": [
    "gs_vary_iter = gs_df.loc[(gs_alpha_match & gs_reg_match & gs_rank_match),:]"
   ]
  },
  {
   "cell_type": "code",
   "execution_count": 39,
   "metadata": {},
   "outputs": [
    {
     "data": {
      "text/html": [
       "<div>\n",
       "<style scoped>\n",
       "    .dataframe tbody tr th:only-of-type {\n",
       "        vertical-align: middle;\n",
       "    }\n",
       "\n",
       "    .dataframe tbody tr th {\n",
       "        vertical-align: top;\n",
       "    }\n",
       "\n",
       "    .dataframe thead th {\n",
       "        text-align: right;\n",
       "    }\n",
       "</style>\n",
       "<table border=\"1\" class=\"dataframe\">\n",
       "  <thead>\n",
       "    <tr style=\"text-align: right;\">\n",
       "      <th></th>\n",
       "      <th>max_iters</th>\n",
       "      <th>reg</th>\n",
       "      <th>rank</th>\n",
       "      <th>alpha</th>\n",
       "      <th>rmse</th>\n",
       "    </tr>\n",
       "  </thead>\n",
       "  <tbody>\n",
       "    <tr>\n",
       "      <td>2</td>\n",
       "      <td>5</td>\n",
       "      <td>0.01</td>\n",
       "      <td>5</td>\n",
       "      <td>40</td>\n",
       "      <td>0.569212</td>\n",
       "    </tr>\n",
       "    <tr>\n",
       "      <td>29</td>\n",
       "      <td>10</td>\n",
       "      <td>0.01</td>\n",
       "      <td>5</td>\n",
       "      <td>40</td>\n",
       "      <td>0.553523</td>\n",
       "    </tr>\n",
       "    <tr>\n",
       "      <td>56</td>\n",
       "      <td>20</td>\n",
       "      <td>0.01</td>\n",
       "      <td>5</td>\n",
       "      <td>40</td>\n",
       "      <td>0.548720</td>\n",
       "    </tr>\n",
       "  </tbody>\n",
       "</table>\n",
       "</div>"
      ],
      "text/plain": [
       "    max_iters   reg  rank  alpha      rmse\n",
       "2           5  0.01     5     40  0.569212\n",
       "29         10  0.01     5     40  0.553523\n",
       "56         20  0.01     5     40  0.548720"
      ]
     },
     "execution_count": 39,
     "metadata": {},
     "output_type": "execute_result"
    }
   ],
   "source": [
    "gs_vary_iter"
   ]
  },
  {
   "cell_type": "markdown",
   "metadata": {},
   "source": [
    "So quick inspection on these, lets:\n",
    "- Keep `rank` = 5  \n",
    "- Stick with regularization parameter at `0.01`.  \n",
    "- Max iterations it seems will plateau, but let's investigate going up to maybe 30 or so.\n",
    "- Looking like going higher on alpha might lower RMSE more.\n"
   ]
  },
  {
   "cell_type": "markdown",
   "metadata": {},
   "source": [
    "So let's go through another grid of parameters."
   ]
  },
  {
   "cell_type": "code",
   "execution_count": 40,
   "metadata": {},
   "outputs": [],
   "source": [
    "# hyper-param config\n",
    "num_iterations = [20, 30, 40]\n",
    "ranks = [5]\n",
    "reg_params = [0.01]\n",
    "alphas = [40, 50, 100]"
   ]
  },
  {
   "cell_type": "code",
   "execution_count": 47,
   "metadata": {},
   "outputs": [
    {
     "name": "stdout",
     "output_type": "stream",
     "text": [
      "20 iterations, 5 latent factors, regularization=0.01, and alpha @ 50 : validation error is 0.5237\n",
      "20 iterations, 5 latent factors, regularization=0.01, and alpha @ 100 : validation error is 0.4548\n",
      "20 iterations, 5 latent factors, regularization=0.01, and alpha @ 500 : validation error is 0.3652\n",
      "20 iterations, 5 latent factors, regularization=0.01, and alpha @ 1000 : validation error is 0.3617\n",
      "20 iterations, 5 latent factors, regularization=0.01, and alpha @ 1500 : validation error is 0.3666\n",
      "20 iterations, 5 latent factors, regularization=0.01, and alpha @ 2000 : validation error is 0.3751\n",
      "Total Runtime: 108.67 seconds\n"
     ]
    }
   ],
   "source": [
    "# grid search and select best model\n",
    "start_time = time.time()\n",
    "final_model, params_errs_2 = cr.train_ALS(gs_train, gs_val, eval_reg, \n",
    "                                        num_iterations, reg_params, \n",
    "                                        ranks, alphas)\n",
    "\n",
    "print ('Total Runtime: {:.2f} seconds'.format(time.time() - start_time))"
   ]
  },
  {
   "cell_type": "code",
   "execution_count": 50,
   "metadata": {},
   "outputs": [],
   "source": [
    "with open('support_data/params_errs_20190912b.pkl', 'wb') as f:\n",
    "    pickle.dump(params_errs_2, f)\n",
    "    \n",
    "# Example - load pickle\n",
    "# pickle_in = open(\"support_data/params_errs_rd1.pkl\",\"rb\")\n",
    "# pe1 = pickle.load(pickle_in)"
   ]
  },
  {
   "cell_type": "markdown",
   "metadata": {},
   "source": [
    "#### Use this to reload the Grid Search results"
   ]
  },
  {
   "cell_type": "code",
   "execution_count": 51,
   "metadata": {},
   "outputs": [],
   "source": [
    "pickle_in = open('support_data/params_errs_20190912b.pkl', 'rb')\n",
    "params_errs_2 = pickle.load(pickle_in)\n",
    "                         "
   ]
  },
  {
   "cell_type": "markdown",
   "metadata": {},
   "source": [
    "Increasing iterations doesn't seem t materially improve RMSE, but increasing alpha does. So let's try a large range of alphas.\n"
   ]
  },
  {
   "cell_type": "code",
   "execution_count": 52,
   "metadata": {},
   "outputs": [],
   "source": [
    "num_iterations = [20]\n",
    "alphas = [50, 100, 500, 1000, 1500, 2000]"
   ]
  },
  {
   "cell_type": "code",
   "execution_count": 53,
   "metadata": {},
   "outputs": [
    {
     "name": "stdout",
     "output_type": "stream",
     "text": [
      "20 iterations, 5 latent factors, regularization=0.01, and alpha @ 50 : validation error is 0.5237\n",
      "20 iterations, 5 latent factors, regularization=0.01, and alpha @ 100 : validation error is 0.4548\n",
      "20 iterations, 5 latent factors, regularization=0.01, and alpha @ 500 : validation error is 0.3652\n",
      "20 iterations, 5 latent factors, regularization=0.01, and alpha @ 1000 : validation error is 0.3617\n",
      "20 iterations, 5 latent factors, regularization=0.01, and alpha @ 1500 : validation error is 0.3666\n",
      "20 iterations, 5 latent factors, regularization=0.01, and alpha @ 2000 : validation error is 0.3751\n",
      "Total Runtime: 118.80 seconds\n"
     ]
    }
   ],
   "source": [
    "# grid search and select best model\n",
    "start_time = time.time()\n",
    "final_model, params_errs_3 = cr.train_ALS(gs_train, gs_val, eval_reg, \n",
    "                                        num_iterations, reg_params, \n",
    "                                        ranks, alphas)\n",
    "\n",
    "print ('Total Runtime: {:.2f} seconds'.format(time.time() - start_time))"
   ]
  },
  {
   "cell_type": "code",
   "execution_count": 56,
   "metadata": {},
   "outputs": [],
   "source": [
    "with open('support_data/params_errs_20190912c.pkl', 'wb') as f:\n",
    "    pickle.dump(params_errs_3, f)\n",
    "    \n",
    "# Example - load pickle\n",
    "# pickle_in = open(\"support_data/params_errs_rd1.pkl\",\"rb\")\n",
    "# pe1 = pickle.load(pickle_in)"
   ]
  },
  {
   "cell_type": "markdown",
   "metadata": {},
   "source": [
    "#### Use this to reload the Grid Search results"
   ]
  },
  {
   "cell_type": "code",
   "execution_count": 57,
   "metadata": {},
   "outputs": [],
   "source": [
    "pickle_in = open('support_data/params_errs_20190912c.pkl', 'rb')\n",
    "params_errs_3 = pickle.load(pickle_in)\n",
    "                         "
   ]
  },
  {
   "cell_type": "markdown",
   "metadata": {},
   "source": [
    "So it appears that `alpha` = 1000 is where min RMSE is so far. For due diligence let's look at fewer latent factors."
   ]
  },
  {
   "cell_type": "code",
   "execution_count": 62,
   "metadata": {},
   "outputs": [],
   "source": [
    "ranks = [2,3,4,5,10,20,30,50]\n",
    "alphas = [1000]"
   ]
  },
  {
   "cell_type": "code",
   "execution_count": 63,
   "metadata": {},
   "outputs": [
    {
     "name": "stdout",
     "output_type": "stream",
     "text": [
      "20 iterations, 2 latent factors, regularization=0.01, and alpha @ 1000 : validation error is 0.3165\n",
      "20 iterations, 3 latent factors, regularization=0.01, and alpha @ 1000 : validation error is 0.2945\n",
      "20 iterations, 4 latent factors, regularization=0.01, and alpha @ 1000 : validation error is 0.3171\n",
      "20 iterations, 5 latent factors, regularization=0.01, and alpha @ 1000 : validation error is 0.3617\n",
      "20 iterations, 10 latent factors, regularization=0.01, and alpha @ 1000 : validation error is 0.4623\n",
      "20 iterations, 20 latent factors, regularization=0.01, and alpha @ 1000 : validation error is 0.6114\n",
      "20 iterations, 30 latent factors, regularization=0.01, and alpha @ 1000 : validation error is 0.6833\n",
      "20 iterations, 50 latent factors, regularization=0.01, and alpha @ 1000 : validation error is 0.7310\n",
      "Total Runtime: 208.69 seconds\n"
     ]
    }
   ],
   "source": [
    "# grid search and select best model\n",
    "start_time = time.time()\n",
    "final_model, params_errs_4 = cr.train_ALS(gs_train, gs_val, eval_reg, \n",
    "                                        num_iterations, reg_params, \n",
    "                                        ranks, alphas)\n",
    "\n",
    "print ('Total Runtime: {:.2f} seconds'.format(time.time() - start_time))"
   ]
  },
  {
   "cell_type": "code",
   "execution_count": 64,
   "metadata": {},
   "outputs": [],
   "source": [
    "with open('support_data/params_errs_20190912d.pkl', 'wb') as f:\n",
    "    pickle.dump(params_errs_4, f)\n",
    "    \n",
    "# Example - load pickle\n",
    "# pickle_in = open(\"support_data/params_errs_rd1.pkl\",\"rb\")\n",
    "# pe1 = pickle.load(pickle_in)"
   ]
  },
  {
   "cell_type": "markdown",
   "metadata": {},
   "source": [
    "#### Use this to reload the Grid Search results"
   ]
  },
  {
   "cell_type": "code",
   "execution_count": 65,
   "metadata": {},
   "outputs": [],
   "source": [
    "pickle_in = open('support_data/params_errs_20190912d.pkl', 'rb')\n",
    "params_errs_4 = pickle.load(pickle_in)\n",
    "                         "
   ]
  },
  {
   "cell_type": "markdown",
   "metadata": {},
   "source": [
    "Looks like 3 is the number of latent factors that minimizes RMSE. \n",
    "\n",
    "Let's put together a final run grid that we can use to compare different hyperparameter combinations."
   ]
  },
  {
   "cell_type": "code",
   "execution_count": 66,
   "metadata": {},
   "outputs": [],
   "source": [
    "# hyper-param config\n",
    "num_iterations = [10, 20, 30]\n",
    "ranks = [3,5,10]\n",
    "reg_params = [0.01, 0.1,0.5]\n",
    "alphas = [40, 50, 100, 1000, 2000]"
   ]
  },
  {
   "cell_type": "code",
   "execution_count": 67,
   "metadata": {},
   "outputs": [
    {
     "name": "stdout",
     "output_type": "stream",
     "text": [
      "10 iterations, 3 latent factors, regularization=0.01, and alpha @ 40 : validation error is 0.5627\n",
      "10 iterations, 3 latent factors, regularization=0.01, and alpha @ 50 : validation error is 0.5341\n",
      "10 iterations, 3 latent factors, regularization=0.01, and alpha @ 100 : validation error is 0.4497\n",
      "10 iterations, 3 latent factors, regularization=0.01, and alpha @ 1000 : validation error is 0.3162\n",
      "10 iterations, 3 latent factors, regularization=0.01, and alpha @ 2000 : validation error is 0.3316\n",
      "10 iterations, 5 latent factors, regularization=0.01, and alpha @ 40 : validation error is 0.5535\n",
      "10 iterations, 5 latent factors, regularization=0.01, and alpha @ 50 : validation error is 0.5290\n",
      "10 iterations, 5 latent factors, regularization=0.01, and alpha @ 100 : validation error is 0.4625\n",
      "10 iterations, 5 latent factors, regularization=0.01, and alpha @ 1000 : validation error is 0.3846\n",
      "10 iterations, 5 latent factors, regularization=0.01, and alpha @ 2000 : validation error is 0.3941\n",
      "10 iterations, 10 latent factors, regularization=0.01, and alpha @ 40 : validation error is 0.5693\n",
      "10 iterations, 10 latent factors, regularization=0.01, and alpha @ 50 : validation error is 0.5514\n",
      "10 iterations, 10 latent factors, regularization=0.01, and alpha @ 100 : validation error is 0.5075\n",
      "10 iterations, 10 latent factors, regularization=0.01, and alpha @ 1000 : validation error is 0.4882\n",
      "10 iterations, 10 latent factors, regularization=0.01, and alpha @ 2000 : validation error is 0.5094\n",
      "10 iterations, 3 latent factors, regularization=0.1, and alpha @ 40 : validation error is 0.5655\n",
      "10 iterations, 3 latent factors, regularization=0.1, and alpha @ 50 : validation error is 0.5362\n",
      "10 iterations, 3 latent factors, regularization=0.1, and alpha @ 100 : validation error is 0.4503\n",
      "10 iterations, 3 latent factors, regularization=0.1, and alpha @ 1000 : validation error is 0.3159\n",
      "10 iterations, 3 latent factors, regularization=0.1, and alpha @ 2000 : validation error is 0.3313\n",
      "10 iterations, 5 latent factors, regularization=0.1, and alpha @ 40 : validation error is 0.5551\n",
      "10 iterations, 5 latent factors, regularization=0.1, and alpha @ 50 : validation error is 0.5301\n",
      "10 iterations, 5 latent factors, regularization=0.1, and alpha @ 100 : validation error is 0.4625\n",
      "10 iterations, 5 latent factors, regularization=0.1, and alpha @ 1000 : validation error is 0.3839\n",
      "10 iterations, 5 latent factors, regularization=0.1, and alpha @ 2000 : validation error is 0.3933\n",
      "10 iterations, 10 latent factors, regularization=0.1, and alpha @ 40 : validation error is 0.5692\n",
      "10 iterations, 10 latent factors, regularization=0.1, and alpha @ 50 : validation error is 0.5509\n",
      "10 iterations, 10 latent factors, regularization=0.1, and alpha @ 100 : validation error is 0.5064\n",
      "10 iterations, 10 latent factors, regularization=0.1, and alpha @ 1000 : validation error is 0.4857\n",
      "10 iterations, 10 latent factors, regularization=0.1, and alpha @ 2000 : validation error is 0.5068\n",
      "10 iterations, 3 latent factors, regularization=0.5, and alpha @ 40 : validation error is 0.5702\n",
      "10 iterations, 3 latent factors, regularization=0.5, and alpha @ 50 : validation error is 0.5407\n",
      "10 iterations, 3 latent factors, regularization=0.5, and alpha @ 100 : validation error is 0.4527\n",
      "10 iterations, 3 latent factors, regularization=0.5, and alpha @ 1000 : validation error is 0.3146\n",
      "10 iterations, 3 latent factors, regularization=0.5, and alpha @ 2000 : validation error is 0.3298\n",
      "10 iterations, 5 latent factors, regularization=0.5, and alpha @ 40 : validation error is 0.5586\n",
      "10 iterations, 5 latent factors, regularization=0.5, and alpha @ 50 : validation error is 0.5328\n",
      "10 iterations, 5 latent factors, regularization=0.5, and alpha @ 100 : validation error is 0.4627\n",
      "10 iterations, 5 latent factors, regularization=0.5, and alpha @ 1000 : validation error is 0.3811\n",
      "10 iterations, 5 latent factors, regularization=0.5, and alpha @ 2000 : validation error is 0.3902\n",
      "10 iterations, 10 latent factors, regularization=0.5, and alpha @ 40 : validation error is 0.5688\n",
      "10 iterations, 10 latent factors, regularization=0.5, and alpha @ 50 : validation error is 0.5494\n",
      "10 iterations, 10 latent factors, regularization=0.5, and alpha @ 100 : validation error is 0.5022\n",
      "10 iterations, 10 latent factors, regularization=0.5, and alpha @ 1000 : validation error is 0.4760\n",
      "10 iterations, 10 latent factors, regularization=0.5, and alpha @ 2000 : validation error is 0.4963\n",
      "20 iterations, 3 latent factors, regularization=0.01, and alpha @ 40 : validation error is 0.5626\n",
      "20 iterations, 3 latent factors, regularization=0.01, and alpha @ 50 : validation error is 0.5340\n",
      "20 iterations, 3 latent factors, regularization=0.01, and alpha @ 100 : validation error is 0.4491\n",
      "20 iterations, 3 latent factors, regularization=0.01, and alpha @ 1000 : validation error is 0.2945\n",
      "20 iterations, 3 latent factors, regularization=0.01, and alpha @ 2000 : validation error is 0.3005\n",
      "20 iterations, 5 latent factors, regularization=0.01, and alpha @ 40 : validation error is 0.5487\n",
      "20 iterations, 5 latent factors, regularization=0.01, and alpha @ 50 : validation error is 0.5237\n",
      "20 iterations, 5 latent factors, regularization=0.01, and alpha @ 100 : validation error is 0.4548\n",
      "20 iterations, 5 latent factors, regularization=0.01, and alpha @ 1000 : validation error is 0.3617\n",
      "20 iterations, 5 latent factors, regularization=0.01, and alpha @ 2000 : validation error is 0.3751\n",
      "20 iterations, 10 latent factors, regularization=0.01, and alpha @ 40 : validation error is 0.5611\n",
      "20 iterations, 10 latent factors, regularization=0.01, and alpha @ 50 : validation error is 0.5425\n",
      "20 iterations, 10 latent factors, regularization=0.01, and alpha @ 100 : validation error is 0.4968\n",
      "20 iterations, 10 latent factors, regularization=0.01, and alpha @ 1000 : validation error is 0.4623\n",
      "20 iterations, 10 latent factors, regularization=0.01, and alpha @ 2000 : validation error is 0.4827\n",
      "20 iterations, 3 latent factors, regularization=0.1, and alpha @ 40 : validation error is 0.5648\n",
      "20 iterations, 3 latent factors, regularization=0.1, and alpha @ 50 : validation error is 0.5357\n",
      "20 iterations, 3 latent factors, regularization=0.1, and alpha @ 100 : validation error is 0.4497\n",
      "20 iterations, 3 latent factors, regularization=0.1, and alpha @ 1000 : validation error is 0.2942\n",
      "20 iterations, 3 latent factors, regularization=0.1, and alpha @ 2000 : validation error is 0.3000\n",
      "20 iterations, 5 latent factors, regularization=0.1, and alpha @ 40 : validation error is 0.5502\n",
      "20 iterations, 5 latent factors, regularization=0.1, and alpha @ 50 : validation error is 0.5247\n",
      "20 iterations, 5 latent factors, regularization=0.1, and alpha @ 100 : validation error is 0.4550\n",
      "20 iterations, 5 latent factors, regularization=0.1, and alpha @ 1000 : validation error is 0.3612\n",
      "20 iterations, 5 latent factors, regularization=0.1, and alpha @ 2000 : validation error is 0.3742\n",
      "20 iterations, 10 latent factors, regularization=0.1, and alpha @ 40 : validation error is 0.5611\n",
      "20 iterations, 10 latent factors, regularization=0.1, and alpha @ 50 : validation error is 0.5422\n",
      "20 iterations, 10 latent factors, regularization=0.1, and alpha @ 100 : validation error is 0.4958\n",
      "20 iterations, 10 latent factors, regularization=0.1, and alpha @ 1000 : validation error is 0.4597\n",
      "20 iterations, 10 latent factors, regularization=0.1, and alpha @ 2000 : validation error is 0.4794\n",
      "20 iterations, 3 latent factors, regularization=0.5, and alpha @ 40 : validation error is 0.5674\n",
      "20 iterations, 3 latent factors, regularization=0.5, and alpha @ 50 : validation error is 0.5383\n",
      "20 iterations, 3 latent factors, regularization=0.5, and alpha @ 100 : validation error is 0.4515\n",
      "20 iterations, 3 latent factors, regularization=0.5, and alpha @ 1000 : validation error is 0.2931\n",
      "20 iterations, 3 latent factors, regularization=0.5, and alpha @ 2000 : validation error is 0.2981\n",
      "20 iterations, 5 latent factors, regularization=0.5, and alpha @ 40 : validation error is 0.5524\n",
      "20 iterations, 5 latent factors, regularization=0.5, and alpha @ 50 : validation error is 0.5265\n",
      "20 iterations, 5 latent factors, regularization=0.5, and alpha @ 100 : validation error is 0.4553\n",
      "20 iterations, 5 latent factors, regularization=0.5, and alpha @ 1000 : validation error is 0.3589\n",
      "20 iterations, 5 latent factors, regularization=0.5, and alpha @ 2000 : validation error is 0.3704\n",
      "20 iterations, 10 latent factors, regularization=0.5, and alpha @ 40 : validation error is 0.5604\n",
      "20 iterations, 10 latent factors, regularization=0.5, and alpha @ 50 : validation error is 0.5407\n",
      "20 iterations, 10 latent factors, regularization=0.5, and alpha @ 100 : validation error is 0.4918\n",
      "20 iterations, 10 latent factors, regularization=0.5, and alpha @ 1000 : validation error is 0.4502\n",
      "20 iterations, 10 latent factors, regularization=0.5, and alpha @ 2000 : validation error is 0.4668\n",
      "30 iterations, 3 latent factors, regularization=0.01, and alpha @ 40 : validation error is 0.5626\n",
      "30 iterations, 3 latent factors, regularization=0.01, and alpha @ 50 : validation error is 0.5340\n",
      "30 iterations, 3 latent factors, regularization=0.01, and alpha @ 100 : validation error is 0.4492\n",
      "30 iterations, 3 latent factors, regularization=0.01, and alpha @ 1000 : validation error is 0.2882\n",
      "30 iterations, 3 latent factors, regularization=0.01, and alpha @ 2000 : validation error is 0.2917\n",
      "30 iterations, 5 latent factors, regularization=0.01, and alpha @ 40 : validation error is 0.5486\n",
      "30 iterations, 5 latent factors, regularization=0.01, and alpha @ 50 : validation error is 0.5234\n",
      "30 iterations, 5 latent factors, regularization=0.01, and alpha @ 100 : validation error is 0.4536\n",
      "30 iterations, 5 latent factors, regularization=0.01, and alpha @ 1000 : validation error is 0.3516\n",
      "30 iterations, 5 latent factors, regularization=0.01, and alpha @ 2000 : validation error is 0.3608\n",
      "30 iterations, 10 latent factors, regularization=0.01, and alpha @ 40 : validation error is 0.5583\n",
      "30 iterations, 10 latent factors, regularization=0.01, and alpha @ 50 : validation error is 0.5394\n",
      "30 iterations, 10 latent factors, regularization=0.01, and alpha @ 100 : validation error is 0.4924\n",
      "30 iterations, 10 latent factors, regularization=0.01, and alpha @ 1000 : validation error is 0.4541\n",
      "30 iterations, 10 latent factors, regularization=0.01, and alpha @ 2000 : validation error is 0.4698\n",
      "30 iterations, 3 latent factors, regularization=0.1, and alpha @ 40 : validation error is 0.5644\n",
      "30 iterations, 3 latent factors, regularization=0.1, and alpha @ 50 : validation error is 0.5355\n",
      "30 iterations, 3 latent factors, regularization=0.1, and alpha @ 100 : validation error is 0.4497\n",
      "30 iterations, 3 latent factors, regularization=0.1, and alpha @ 1000 : validation error is 0.2878\n",
      "30 iterations, 3 latent factors, regularization=0.1, and alpha @ 2000 : validation error is 0.2913\n",
      "30 iterations, 5 latent factors, regularization=0.1, and alpha @ 40 : validation error is 0.5498\n",
      "30 iterations, 5 latent factors, regularization=0.1, and alpha @ 50 : validation error is 0.5243\n",
      "30 iterations, 5 latent factors, regularization=0.1, and alpha @ 100 : validation error is 0.4538\n",
      "30 iterations, 5 latent factors, regularization=0.1, and alpha @ 1000 : validation error is 0.3509\n",
      "30 iterations, 5 latent factors, regularization=0.1, and alpha @ 2000 : validation error is 0.3599\n",
      "30 iterations, 10 latent factors, regularization=0.1, and alpha @ 40 : validation error is 0.5583\n",
      "30 iterations, 10 latent factors, regularization=0.1, and alpha @ 50 : validation error is 0.5391\n",
      "30 iterations, 10 latent factors, regularization=0.1, and alpha @ 100 : validation error is 0.4914\n",
      "30 iterations, 10 latent factors, regularization=0.1, and alpha @ 1000 : validation error is 0.4516\n",
      "30 iterations, 10 latent factors, regularization=0.1, and alpha @ 2000 : validation error is 0.4664\n",
      "30 iterations, 3 latent factors, regularization=0.5, and alpha @ 40 : validation error is 0.5663\n",
      "30 iterations, 3 latent factors, regularization=0.5, and alpha @ 50 : validation error is 0.5373\n",
      "30 iterations, 3 latent factors, regularization=0.5, and alpha @ 100 : validation error is 0.4512\n",
      "30 iterations, 3 latent factors, regularization=0.5, and alpha @ 1000 : validation error is 0.2863\n",
      "30 iterations, 3 latent factors, regularization=0.5, and alpha @ 2000 : validation error is 0.2894\n",
      "30 iterations, 5 latent factors, regularization=0.5, and alpha @ 40 : validation error is 0.5513\n",
      "30 iterations, 5 latent factors, regularization=0.5, and alpha @ 50 : validation error is 0.5255\n",
      "30 iterations, 5 latent factors, regularization=0.5, and alpha @ 100 : validation error is 0.4540\n",
      "30 iterations, 5 latent factors, regularization=0.5, and alpha @ 1000 : validation error is 0.3482\n",
      "30 iterations, 5 latent factors, regularization=0.5, and alpha @ 2000 : validation error is 0.3563\n",
      "30 iterations, 10 latent factors, regularization=0.5, and alpha @ 40 : validation error is 0.5571\n",
      "30 iterations, 10 latent factors, regularization=0.5, and alpha @ 50 : validation error is 0.5373\n",
      "30 iterations, 10 latent factors, regularization=0.5, and alpha @ 100 : validation error is 0.4877\n",
      "30 iterations, 10 latent factors, regularization=0.5, and alpha @ 1000 : validation error is 0.4432\n",
      "30 iterations, 10 latent factors, regularization=0.5, and alpha @ 2000 : validation error is 0.4541\n",
      "Total Runtime: 3159.24 seconds\n"
     ]
    }
   ],
   "source": [
    "# grid search and select best model\n",
    "start_time = time.time()\n",
    "final_model, params_errs_5 = cr.train_ALS(gs_train, gs_val, eval_reg, \n",
    "                                        num_iterations, reg_params, \n",
    "                                        ranks, alphas)\n",
    "\n",
    "print ('Total Runtime: {:.2f} seconds'.format(time.time() - start_time))"
   ]
  },
  {
   "cell_type": "code",
   "execution_count": 68,
   "metadata": {},
   "outputs": [],
   "source": [
    "with open('support_data/params_errs_20190912e.pkl', 'wb') as f:\n",
    "    pickle.dump(params_errs_5, f)\n",
    "    \n",
    "# Example - load pickle\n",
    "# pickle_in = open(\"support_data/params_errs_rd1.pkl\",\"rb\")\n",
    "# pe1 = pickle.load(pickle_in)"
   ]
  },
  {
   "cell_type": "markdown",
   "metadata": {},
   "source": [
    "#### Use this to reload the Grid Search results"
   ]
  },
  {
   "cell_type": "code",
   "execution_count": 69,
   "metadata": {},
   "outputs": [],
   "source": [
    "pickle_in = open('support_data/params_errs_20190912e.pkl', 'rb')\n",
    "params_errs_5 = pickle.load(pickle_in)\n",
    "                         "
   ]
  },
  {
   "cell_type": "code",
   "execution_count": 91,
   "metadata": {},
   "outputs": [],
   "source": [
    "# hyper-param config\n",
    "num_iterations = [20]\n",
    "ranks = [3]\n",
    "reg_params = [0.01, 0.1,0.5,0.7,1]\n",
    "alphas = [1000]"
   ]
  },
  {
   "cell_type": "code",
   "execution_count": 92,
   "metadata": {},
   "outputs": [
    {
     "name": "stdout",
     "output_type": "stream",
     "text": [
      "20 iterations, 3 latent factors, regularization=0.01, and alpha @ 1000 : validation error is 0.2945\n",
      "20 iterations, 3 latent factors, regularization=0.1, and alpha @ 1000 : validation error is 0.2942\n",
      "20 iterations, 3 latent factors, regularization=0.5, and alpha @ 1000 : validation error is 0.2931\n",
      "20 iterations, 3 latent factors, regularization=0.7, and alpha @ 1000 : validation error is 0.2926\n",
      "20 iterations, 3 latent factors, regularization=1, and alpha @ 1000 : validation error is 0.2919\n",
      "Total Runtime: 196.97 seconds\n"
     ]
    }
   ],
   "source": [
    "# grid search and select best model\n",
    "start_time = time.time()\n",
    "final_model, params_errs_x = cr.train_ALS(gs_train, gs_val, eval_reg, \n",
    "                                        num_iterations, reg_params, \n",
    "                                        ranks, alphas)\n",
    "\n",
    "print ('Total Runtime: {:.2f} seconds'.format(time.time() - start_time))"
   ]
  },
  {
   "cell_type": "code",
   "execution_count": null,
   "metadata": {},
   "outputs": [],
   "source": [
    "d = ALS()"
   ]
  },
  {
   "cell_type": "code",
   "execution_count": 71,
   "metadata": {},
   "outputs": [],
   "source": [
    "gs_cols = ['max_iters', 'reg', 'rank', 'alpha', 'rmse']"
   ]
  },
  {
   "cell_type": "code",
   "execution_count": 73,
   "metadata": {},
   "outputs": [],
   "source": [
    "gs_df = pd.DataFrame(params_errs_5, columns=gs_cols)"
   ]
  },
  {
   "cell_type": "code",
   "execution_count": 74,
   "metadata": {},
   "outputs": [
    {
     "data": {
      "text/html": [
       "<div>\n",
       "<style scoped>\n",
       "    .dataframe tbody tr th:only-of-type {\n",
       "        vertical-align: middle;\n",
       "    }\n",
       "\n",
       "    .dataframe tbody tr th {\n",
       "        vertical-align: top;\n",
       "    }\n",
       "\n",
       "    .dataframe thead th {\n",
       "        text-align: right;\n",
       "    }\n",
       "</style>\n",
       "<table border=\"1\" class=\"dataframe\">\n",
       "  <thead>\n",
       "    <tr style=\"text-align: right;\">\n",
       "      <th></th>\n",
       "      <th>max_iters</th>\n",
       "      <th>reg</th>\n",
       "      <th>rank</th>\n",
       "      <th>alpha</th>\n",
       "      <th>rmse</th>\n",
       "    </tr>\n",
       "  </thead>\n",
       "  <tbody>\n",
       "    <tr>\n",
       "      <td>0</td>\n",
       "      <td>10</td>\n",
       "      <td>0.01</td>\n",
       "      <td>3</td>\n",
       "      <td>40</td>\n",
       "      <td>0.562700</td>\n",
       "    </tr>\n",
       "    <tr>\n",
       "      <td>1</td>\n",
       "      <td>10</td>\n",
       "      <td>0.01</td>\n",
       "      <td>3</td>\n",
       "      <td>50</td>\n",
       "      <td>0.534133</td>\n",
       "    </tr>\n",
       "    <tr>\n",
       "      <td>2</td>\n",
       "      <td>10</td>\n",
       "      <td>0.01</td>\n",
       "      <td>3</td>\n",
       "      <td>100</td>\n",
       "      <td>0.449696</td>\n",
       "    </tr>\n",
       "    <tr>\n",
       "      <td>3</td>\n",
       "      <td>10</td>\n",
       "      <td>0.01</td>\n",
       "      <td>3</td>\n",
       "      <td>1000</td>\n",
       "      <td>0.316171</td>\n",
       "    </tr>\n",
       "    <tr>\n",
       "      <td>4</td>\n",
       "      <td>10</td>\n",
       "      <td>0.01</td>\n",
       "      <td>3</td>\n",
       "      <td>2000</td>\n",
       "      <td>0.331627</td>\n",
       "    </tr>\n",
       "  </tbody>\n",
       "</table>\n",
       "</div>"
      ],
      "text/plain": [
       "   max_iters   reg  rank  alpha      rmse\n",
       "0         10  0.01     3     40  0.562700\n",
       "1         10  0.01     3     50  0.534133\n",
       "2         10  0.01     3    100  0.449696\n",
       "3         10  0.01     3   1000  0.316171\n",
       "4         10  0.01     3   2000  0.331627"
      ]
     },
     "execution_count": 74,
     "metadata": {},
     "output_type": "execute_result"
    }
   ],
   "source": [
    "gs_df.head()"
   ]
  },
  {
   "cell_type": "code",
   "execution_count": 75,
   "metadata": {},
   "outputs": [],
   "source": [
    "min_err = gs_df.rmse.min()"
   ]
  },
  {
   "cell_type": "code",
   "execution_count": 76,
   "metadata": {},
   "outputs": [],
   "source": [
    "min_df = gs_df.loc[gs_df['rmse']==min_err]"
   ]
  },
  {
   "cell_type": "code",
   "execution_count": 77,
   "metadata": {},
   "outputs": [
    {
     "data": {
      "text/html": [
       "<div>\n",
       "<style scoped>\n",
       "    .dataframe tbody tr th:only-of-type {\n",
       "        vertical-align: middle;\n",
       "    }\n",
       "\n",
       "    .dataframe tbody tr th {\n",
       "        vertical-align: top;\n",
       "    }\n",
       "\n",
       "    .dataframe thead th {\n",
       "        text-align: right;\n",
       "    }\n",
       "</style>\n",
       "<table border=\"1\" class=\"dataframe\">\n",
       "  <thead>\n",
       "    <tr style=\"text-align: right;\">\n",
       "      <th></th>\n",
       "      <th>max_iters</th>\n",
       "      <th>reg</th>\n",
       "      <th>rank</th>\n",
       "      <th>alpha</th>\n",
       "      <th>rmse</th>\n",
       "    </tr>\n",
       "  </thead>\n",
       "  <tbody>\n",
       "    <tr>\n",
       "      <td>123</td>\n",
       "      <td>30</td>\n",
       "      <td>0.5</td>\n",
       "      <td>3</td>\n",
       "      <td>1000</td>\n",
       "      <td>0.286317</td>\n",
       "    </tr>\n",
       "  </tbody>\n",
       "</table>\n",
       "</div>"
      ],
      "text/plain": [
       "     max_iters  reg  rank  alpha      rmse\n",
       "123         30  0.5     3   1000  0.286317"
      ]
     },
     "execution_count": 77,
     "metadata": {},
     "output_type": "execute_result"
    }
   ],
   "source": [
    "min_df"
   ]
  },
  {
   "cell_type": "code",
   "execution_count": 78,
   "metadata": {},
   "outputs": [],
   "source": [
    "best_max_iter = min_df['max_iters'].iloc[0]\n",
    "best_reg = min_df['reg'].iloc[0]\n",
    "best_rank = min_df['rank'].iloc[0]\n",
    "best_alpha = min_df['alpha'].iloc[0]"
   ]
  },
  {
   "cell_type": "markdown",
   "metadata": {},
   "source": [
    "Let's do some visual comparisons."
   ]
  },
  {
   "cell_type": "code",
   "execution_count": 79,
   "metadata": {},
   "outputs": [],
   "source": [
    "gs_rank_match = (gs_df['rank']==best_rank)\n",
    "gs_reg_match = (gs_df['reg']==best_reg)\n",
    "gs_iter_match = (gs_df['max_iters']==best_max_iter)\n",
    "gs_alpha_match = (gs_df['alpha']==best_alpha)"
   ]
  },
  {
   "cell_type": "code",
   "execution_count": 80,
   "metadata": {},
   "outputs": [],
   "source": [
    "gs_vary_rank = gs_df.loc[(gs_reg_match & gs_iter_match & gs_alpha_match),:]"
   ]
  },
  {
   "cell_type": "code",
   "execution_count": 81,
   "metadata": {},
   "outputs": [
    {
     "data": {
      "text/html": [
       "<div>\n",
       "<style scoped>\n",
       "    .dataframe tbody tr th:only-of-type {\n",
       "        vertical-align: middle;\n",
       "    }\n",
       "\n",
       "    .dataframe tbody tr th {\n",
       "        vertical-align: top;\n",
       "    }\n",
       "\n",
       "    .dataframe thead th {\n",
       "        text-align: right;\n",
       "    }\n",
       "</style>\n",
       "<table border=\"1\" class=\"dataframe\">\n",
       "  <thead>\n",
       "    <tr style=\"text-align: right;\">\n",
       "      <th></th>\n",
       "      <th>max_iters</th>\n",
       "      <th>reg</th>\n",
       "      <th>rank</th>\n",
       "      <th>alpha</th>\n",
       "      <th>rmse</th>\n",
       "    </tr>\n",
       "  </thead>\n",
       "  <tbody>\n",
       "    <tr>\n",
       "      <td>123</td>\n",
       "      <td>30</td>\n",
       "      <td>0.5</td>\n",
       "      <td>3</td>\n",
       "      <td>1000</td>\n",
       "      <td>0.286317</td>\n",
       "    </tr>\n",
       "    <tr>\n",
       "      <td>128</td>\n",
       "      <td>30</td>\n",
       "      <td>0.5</td>\n",
       "      <td>5</td>\n",
       "      <td>1000</td>\n",
       "      <td>0.348228</td>\n",
       "    </tr>\n",
       "    <tr>\n",
       "      <td>133</td>\n",
       "      <td>30</td>\n",
       "      <td>0.5</td>\n",
       "      <td>10</td>\n",
       "      <td>1000</td>\n",
       "      <td>0.443154</td>\n",
       "    </tr>\n",
       "  </tbody>\n",
       "</table>\n",
       "</div>"
      ],
      "text/plain": [
       "     max_iters  reg  rank  alpha      rmse\n",
       "123         30  0.5     3   1000  0.286317\n",
       "128         30  0.5     5   1000  0.348228\n",
       "133         30  0.5    10   1000  0.443154"
      ]
     },
     "execution_count": 81,
     "metadata": {},
     "output_type": "execute_result"
    }
   ],
   "source": [
    "gs_vary_rank"
   ]
  },
  {
   "cell_type": "code",
   "execution_count": 82,
   "metadata": {},
   "outputs": [],
   "source": [
    "gs_vary_alpha = gs_df.loc[(gs_reg_match & gs_iter_match & gs_rank_match),:]"
   ]
  },
  {
   "cell_type": "code",
   "execution_count": 83,
   "metadata": {},
   "outputs": [
    {
     "data": {
      "text/html": [
       "<div>\n",
       "<style scoped>\n",
       "    .dataframe tbody tr th:only-of-type {\n",
       "        vertical-align: middle;\n",
       "    }\n",
       "\n",
       "    .dataframe tbody tr th {\n",
       "        vertical-align: top;\n",
       "    }\n",
       "\n",
       "    .dataframe thead th {\n",
       "        text-align: right;\n",
       "    }\n",
       "</style>\n",
       "<table border=\"1\" class=\"dataframe\">\n",
       "  <thead>\n",
       "    <tr style=\"text-align: right;\">\n",
       "      <th></th>\n",
       "      <th>max_iters</th>\n",
       "      <th>reg</th>\n",
       "      <th>rank</th>\n",
       "      <th>alpha</th>\n",
       "      <th>rmse</th>\n",
       "    </tr>\n",
       "  </thead>\n",
       "  <tbody>\n",
       "    <tr>\n",
       "      <td>120</td>\n",
       "      <td>30</td>\n",
       "      <td>0.5</td>\n",
       "      <td>3</td>\n",
       "      <td>40</td>\n",
       "      <td>0.566319</td>\n",
       "    </tr>\n",
       "    <tr>\n",
       "      <td>121</td>\n",
       "      <td>30</td>\n",
       "      <td>0.5</td>\n",
       "      <td>3</td>\n",
       "      <td>50</td>\n",
       "      <td>0.537345</td>\n",
       "    </tr>\n",
       "    <tr>\n",
       "      <td>122</td>\n",
       "      <td>30</td>\n",
       "      <td>0.5</td>\n",
       "      <td>3</td>\n",
       "      <td>100</td>\n",
       "      <td>0.451159</td>\n",
       "    </tr>\n",
       "    <tr>\n",
       "      <td>123</td>\n",
       "      <td>30</td>\n",
       "      <td>0.5</td>\n",
       "      <td>3</td>\n",
       "      <td>1000</td>\n",
       "      <td>0.286317</td>\n",
       "    </tr>\n",
       "    <tr>\n",
       "      <td>124</td>\n",
       "      <td>30</td>\n",
       "      <td>0.5</td>\n",
       "      <td>3</td>\n",
       "      <td>2000</td>\n",
       "      <td>0.289433</td>\n",
       "    </tr>\n",
       "  </tbody>\n",
       "</table>\n",
       "</div>"
      ],
      "text/plain": [
       "     max_iters  reg  rank  alpha      rmse\n",
       "120         30  0.5     3     40  0.566319\n",
       "121         30  0.5     3     50  0.537345\n",
       "122         30  0.5     3    100  0.451159\n",
       "123         30  0.5     3   1000  0.286317\n",
       "124         30  0.5     3   2000  0.289433"
      ]
     },
     "execution_count": 83,
     "metadata": {},
     "output_type": "execute_result"
    }
   ],
   "source": [
    "gs_vary_alpha"
   ]
  },
  {
   "cell_type": "code",
   "execution_count": 84,
   "metadata": {},
   "outputs": [],
   "source": [
    "gs_vary_reg = gs_df.loc[(gs_alpha_match & gs_iter_match & gs_rank_match),:]"
   ]
  },
  {
   "cell_type": "code",
   "execution_count": 85,
   "metadata": {},
   "outputs": [
    {
     "data": {
      "text/html": [
       "<div>\n",
       "<style scoped>\n",
       "    .dataframe tbody tr th:only-of-type {\n",
       "        vertical-align: middle;\n",
       "    }\n",
       "\n",
       "    .dataframe tbody tr th {\n",
       "        vertical-align: top;\n",
       "    }\n",
       "\n",
       "    .dataframe thead th {\n",
       "        text-align: right;\n",
       "    }\n",
       "</style>\n",
       "<table border=\"1\" class=\"dataframe\">\n",
       "  <thead>\n",
       "    <tr style=\"text-align: right;\">\n",
       "      <th></th>\n",
       "      <th>max_iters</th>\n",
       "      <th>reg</th>\n",
       "      <th>rank</th>\n",
       "      <th>alpha</th>\n",
       "      <th>rmse</th>\n",
       "    </tr>\n",
       "  </thead>\n",
       "  <tbody>\n",
       "    <tr>\n",
       "      <td>93</td>\n",
       "      <td>30</td>\n",
       "      <td>0.01</td>\n",
       "      <td>3</td>\n",
       "      <td>1000</td>\n",
       "      <td>0.288157</td>\n",
       "    </tr>\n",
       "    <tr>\n",
       "      <td>108</td>\n",
       "      <td>30</td>\n",
       "      <td>0.10</td>\n",
       "      <td>3</td>\n",
       "      <td>1000</td>\n",
       "      <td>0.287841</td>\n",
       "    </tr>\n",
       "    <tr>\n",
       "      <td>123</td>\n",
       "      <td>30</td>\n",
       "      <td>0.50</td>\n",
       "      <td>3</td>\n",
       "      <td>1000</td>\n",
       "      <td>0.286317</td>\n",
       "    </tr>\n",
       "  </tbody>\n",
       "</table>\n",
       "</div>"
      ],
      "text/plain": [
       "     max_iters   reg  rank  alpha      rmse\n",
       "93          30  0.01     3   1000  0.288157\n",
       "108         30  0.10     3   1000  0.287841\n",
       "123         30  0.50     3   1000  0.286317"
      ]
     },
     "execution_count": 85,
     "metadata": {},
     "output_type": "execute_result"
    }
   ],
   "source": [
    "gs_vary_reg"
   ]
  },
  {
   "cell_type": "code",
   "execution_count": 86,
   "metadata": {},
   "outputs": [],
   "source": [
    "gs_vary_iter = gs_df.loc[(gs_alpha_match & gs_reg_match & gs_rank_match),:]"
   ]
  },
  {
   "cell_type": "code",
   "execution_count": 87,
   "metadata": {},
   "outputs": [
    {
     "data": {
      "text/html": [
       "<div>\n",
       "<style scoped>\n",
       "    .dataframe tbody tr th:only-of-type {\n",
       "        vertical-align: middle;\n",
       "    }\n",
       "\n",
       "    .dataframe tbody tr th {\n",
       "        vertical-align: top;\n",
       "    }\n",
       "\n",
       "    .dataframe thead th {\n",
       "        text-align: right;\n",
       "    }\n",
       "</style>\n",
       "<table border=\"1\" class=\"dataframe\">\n",
       "  <thead>\n",
       "    <tr style=\"text-align: right;\">\n",
       "      <th></th>\n",
       "      <th>max_iters</th>\n",
       "      <th>reg</th>\n",
       "      <th>rank</th>\n",
       "      <th>alpha</th>\n",
       "      <th>rmse</th>\n",
       "    </tr>\n",
       "  </thead>\n",
       "  <tbody>\n",
       "    <tr>\n",
       "      <td>33</td>\n",
       "      <td>10</td>\n",
       "      <td>0.5</td>\n",
       "      <td>3</td>\n",
       "      <td>1000</td>\n",
       "      <td>0.314592</td>\n",
       "    </tr>\n",
       "    <tr>\n",
       "      <td>78</td>\n",
       "      <td>20</td>\n",
       "      <td>0.5</td>\n",
       "      <td>3</td>\n",
       "      <td>1000</td>\n",
       "      <td>0.293104</td>\n",
       "    </tr>\n",
       "    <tr>\n",
       "      <td>123</td>\n",
       "      <td>30</td>\n",
       "      <td>0.5</td>\n",
       "      <td>3</td>\n",
       "      <td>1000</td>\n",
       "      <td>0.286317</td>\n",
       "    </tr>\n",
       "  </tbody>\n",
       "</table>\n",
       "</div>"
      ],
      "text/plain": [
       "     max_iters  reg  rank  alpha      rmse\n",
       "33          10  0.5     3   1000  0.314592\n",
       "78          20  0.5     3   1000  0.293104\n",
       "123         30  0.5     3   1000  0.286317"
      ]
     },
     "execution_count": 87,
     "metadata": {},
     "output_type": "execute_result"
    }
   ],
   "source": [
    "gs_vary_iter"
   ]
  },
  {
   "cell_type": "code",
   "execution_count": 89,
   "metadata": {},
   "outputs": [
    {
     "data": {
      "text/html": [
       "<div>\n",
       "<style scoped>\n",
       "    .dataframe tbody tr th:only-of-type {\n",
       "        vertical-align: middle;\n",
       "    }\n",
       "\n",
       "    .dataframe tbody tr th {\n",
       "        vertical-align: top;\n",
       "    }\n",
       "\n",
       "    .dataframe thead th {\n",
       "        text-align: right;\n",
       "    }\n",
       "</style>\n",
       "<table border=\"1\" class=\"dataframe\">\n",
       "  <thead>\n",
       "    <tr style=\"text-align: right;\">\n",
       "      <th></th>\n",
       "      <th>max_iters</th>\n",
       "      <th>reg</th>\n",
       "      <th>rank</th>\n",
       "      <th>alpha</th>\n",
       "      <th>rmse</th>\n",
       "    </tr>\n",
       "  </thead>\n",
       "  <tbody>\n",
       "    <tr>\n",
       "      <td>123</td>\n",
       "      <td>30</td>\n",
       "      <td>0.50</td>\n",
       "      <td>3</td>\n",
       "      <td>1000</td>\n",
       "      <td>0.286317</td>\n",
       "    </tr>\n",
       "    <tr>\n",
       "      <td>108</td>\n",
       "      <td>30</td>\n",
       "      <td>0.10</td>\n",
       "      <td>3</td>\n",
       "      <td>1000</td>\n",
       "      <td>0.287841</td>\n",
       "    </tr>\n",
       "    <tr>\n",
       "      <td>93</td>\n",
       "      <td>30</td>\n",
       "      <td>0.01</td>\n",
       "      <td>3</td>\n",
       "      <td>1000</td>\n",
       "      <td>0.288157</td>\n",
       "    </tr>\n",
       "    <tr>\n",
       "      <td>124</td>\n",
       "      <td>30</td>\n",
       "      <td>0.50</td>\n",
       "      <td>3</td>\n",
       "      <td>2000</td>\n",
       "      <td>0.289433</td>\n",
       "    </tr>\n",
       "    <tr>\n",
       "      <td>109</td>\n",
       "      <td>30</td>\n",
       "      <td>0.10</td>\n",
       "      <td>3</td>\n",
       "      <td>2000</td>\n",
       "      <td>0.291274</td>\n",
       "    </tr>\n",
       "    <tr>\n",
       "      <td>94</td>\n",
       "      <td>30</td>\n",
       "      <td>0.01</td>\n",
       "      <td>3</td>\n",
       "      <td>2000</td>\n",
       "      <td>0.291709</td>\n",
       "    </tr>\n",
       "    <tr>\n",
       "      <td>78</td>\n",
       "      <td>20</td>\n",
       "      <td>0.50</td>\n",
       "      <td>3</td>\n",
       "      <td>1000</td>\n",
       "      <td>0.293104</td>\n",
       "    </tr>\n",
       "    <tr>\n",
       "      <td>63</td>\n",
       "      <td>20</td>\n",
       "      <td>0.10</td>\n",
       "      <td>3</td>\n",
       "      <td>1000</td>\n",
       "      <td>0.294238</td>\n",
       "    </tr>\n",
       "    <tr>\n",
       "      <td>48</td>\n",
       "      <td>20</td>\n",
       "      <td>0.01</td>\n",
       "      <td>3</td>\n",
       "      <td>1000</td>\n",
       "      <td>0.294528</td>\n",
       "    </tr>\n",
       "    <tr>\n",
       "      <td>79</td>\n",
       "      <td>20</td>\n",
       "      <td>0.50</td>\n",
       "      <td>3</td>\n",
       "      <td>2000</td>\n",
       "      <td>0.298120</td>\n",
       "    </tr>\n",
       "  </tbody>\n",
       "</table>\n",
       "</div>"
      ],
      "text/plain": [
       "     max_iters   reg  rank  alpha      rmse\n",
       "123         30  0.50     3   1000  0.286317\n",
       "108         30  0.10     3   1000  0.287841\n",
       "93          30  0.01     3   1000  0.288157\n",
       "124         30  0.50     3   2000  0.289433\n",
       "109         30  0.10     3   2000  0.291274\n",
       "94          30  0.01     3   2000  0.291709\n",
       "78          20  0.50     3   1000  0.293104\n",
       "63          20  0.10     3   1000  0.294238\n",
       "48          20  0.01     3   1000  0.294528\n",
       "79          20  0.50     3   2000  0.298120"
      ]
     },
     "execution_count": 89,
     "metadata": {},
     "output_type": "execute_result"
    }
   ],
   "source": [
    "gs_df.sort_values(['rmse']).head(10)"
   ]
  },
  {
   "cell_type": "markdown",
   "metadata": {},
   "source": [
    "So quick inspection on these, lets:\n",
    "- keep `rank` = 5\n",
    "- When compared to all the other combos, the differences in `alpha`s seem to not really move the needle > 500. so let's just call it `1000`\n",
    "- Keep `maxIter` at `20`; experience to date with my assets seems to show 20 is max capability before technical difficulties arise.\n",
    "- Similar with `alpha`, the marginal change in error due to changing `reg` is really small. So let's just assume the default `.01`.\n",
    "\n",
    "So, that means we are done selecting! We may really be pushing overfitting."
   ]
  },
  {
   "cell_type": "markdown",
   "metadata": {},
   "source": [
    "One last thing, let chart change in RMSE over change in alpha."
   ]
  },
  {
   "cell_type": "code",
   "execution_count": null,
   "metadata": {},
   "outputs": [],
   "source": [
    "alpha_graph_df = gs_vary_alpha.copy()"
   ]
  },
  {
   "cell_type": "code",
   "execution_count": null,
   "metadata": {},
   "outputs": [],
   "source": [
    "alpha_graph_df['params_desc'] = (\n",
    "                                '\\u03B1=' + alpha_graph_df['alpha'].map(str) \n",
    "                                )\n",
    "                                 "
   ]
  },
  {
   "cell_type": "code",
   "execution_count": null,
   "metadata": {},
   "outputs": [],
   "source": [
    "alpha_graph_df"
   ]
  },
  {
   "cell_type": "code",
   "execution_count": 70,
   "metadata": {},
   "outputs": [
    {
     "ename": "NameError",
     "evalue": "name 'alpha_graph_df' is not defined",
     "output_type": "error",
     "traceback": [
      "\u001b[0;31m---------------------------------------------------------------------------\u001b[0m",
      "\u001b[0;31mNameError\u001b[0m                                 Traceback (most recent call last)",
      "\u001b[0;32m<ipython-input-70-c477c2bd1a2d>\u001b[0m in \u001b[0;36m<module>\u001b[0;34m\u001b[0m\n\u001b[1;32m      7\u001b[0m \u001b[0msns\u001b[0m\u001b[0;34m.\u001b[0m\u001b[0mset_color_codes\u001b[0m\u001b[0;34m(\u001b[0m\u001b[0;34m\"pastel\"\u001b[0m\u001b[0;34m)\u001b[0m\u001b[0;34m\u001b[0m\u001b[0;34m\u001b[0m\u001b[0m\n\u001b[1;32m      8\u001b[0m \u001b[0;34m\u001b[0m\u001b[0m\n\u001b[0;32m----> 9\u001b[0;31m \u001b[0mvalues\u001b[0m \u001b[0;34m=\u001b[0m \u001b[0malpha_graph_df\u001b[0m\u001b[0;34m[\u001b[0m\u001b[0;34m'params_desc'\u001b[0m\u001b[0;34m]\u001b[0m\u001b[0;34m.\u001b[0m\u001b[0mtolist\u001b[0m\u001b[0;34m(\u001b[0m\u001b[0;34m)\u001b[0m\u001b[0;34m\u001b[0m\u001b[0;34m\u001b[0m\u001b[0m\n\u001b[0m\u001b[1;32m     10\u001b[0m \u001b[0;34m\u001b[0m\u001b[0m\n\u001b[1;32m     11\u001b[0m \u001b[0mclrs\u001b[0m \u001b[0;34m=\u001b[0m \u001b[0;34m[\u001b[0m\u001b[0;34m'salmon'\u001b[0m \u001b[0;32mif\u001b[0m \u001b[0;34m(\u001b[0m\u001b[0my\u001b[0m \u001b[0;34m==\u001b[0m \u001b[0;34m'\\u03B1=1000'\u001b[0m\u001b[0;34m)\u001b[0m \u001b[0;32melse\u001b[0m \u001b[0;34m'steelblue'\u001b[0m \u001b[0;32mfor\u001b[0m \u001b[0my\u001b[0m \u001b[0;32min\u001b[0m \u001b[0mvalues\u001b[0m \u001b[0;34m]\u001b[0m\u001b[0;34m\u001b[0m\u001b[0;34m\u001b[0m\u001b[0m\n",
      "\u001b[0;31mNameError\u001b[0m: name 'alpha_graph_df' is not defined"
     ]
    },
    {
     "data": {
      "image/png": "[encoded data removed]",
      "text/plain": [
       "<Figure size 720x720 with 1 Axes>"
      ]
     },
     "metadata": {},
     "output_type": "display_data"
    }
   ],
   "source": [
    "sns.set(style=\"whitegrid\")\n",
    "sns.set(font_scale=2)\n",
    "\n",
    "fig, ax = plt.subplots(figsize=(10, 10))\n",
    "\n",
    "# Plot RMSE\n",
    "sns.set_color_codes(\"pastel\")\n",
    "\n",
    "values = alpha_graph_df['params_desc'].tolist()\n",
    "\n",
    "clrs = ['salmon' if (y == '\\u03B1=1000') else 'steelblue' for y in values ]\n",
    "\n",
    "s = sns.barplot(x=\"rmse\", y=\"params_desc\", data=alpha_graph_df,\n",
    "                label=\"RMSE\",\n",
    "                palette=clrs)\n",
    "\n",
    "# Add a legend and informative axis label\n",
    "\n",
    "xlabel = \"Max Iterations: \" + str(best_max_iter) + \" | Latent Factors: \" + str(best_rank)\n",
    "# xlabel\n",
    "\n",
    "\n",
    "ax.legend(ncol=2, loc=\"lower right\", frameon=True)\n",
    "ax.set(ylabel=\"\",\n",
    "       xlabel=xlabel)\n",
    "ax.set_title(\"Change in Error over Alpha\")\n",
    "\n",
    "sns.despine(left=True, bottom=True)\n",
    "fig = s.get_figure()\n",
    "# fig.savefig('support_data/alphas_20190905.png') "
   ]
  },
  {
   "cell_type": "markdown",
   "metadata": {},
   "source": [
    "---"
   ]
  },
  {
   "cell_type": "markdown",
   "metadata": {},
   "source": [
    "---"
   ]
  },
  {
   "cell_type": "markdown",
   "metadata": {},
   "source": [
    "---"
   ]
  },
  {
   "cell_type": "markdown",
   "metadata": {},
   "source": [
    "---"
   ]
  },
  {
   "cell_type": "markdown",
   "metadata": {},
   "source": [
    "---"
   ]
  },
  {
   "cell_type": "markdown",
   "metadata": {},
   "source": [
    "---"
   ]
  },
  {
   "cell_type": "code",
   "execution_count": null,
   "metadata": {},
   "outputs": [],
   "source": []
  },
  {
   "cell_type": "code",
   "execution_count": null,
   "metadata": {},
   "outputs": [],
   "source": []
  },
  {
   "cell_type": "markdown",
   "metadata": {},
   "source": [
    "One last thing, let's chart change in RMSE over change in alpha."
   ]
  },
  {
   "cell_type": "code",
   "execution_count": null,
   "metadata": {},
   "outputs": [],
   "source": [
    "alpha_graph_df = gs_vary_alpha.copy()"
   ]
  },
  {
   "cell_type": "code",
   "execution_count": null,
   "metadata": {},
   "outputs": [],
   "source": [
    "alpha_graph_df['params_desc'] = (\n",
    "                                '\\u03B1=' + alpha_graph_df['alpha'].map(str) \n",
    "                                )\n",
    "                                 "
   ]
  },
  {
   "cell_type": "code",
   "execution_count": null,
   "metadata": {},
   "outputs": [],
   "source": [
    "alpha_graph_df"
   ]
  },
  {
   "cell_type": "code",
   "execution_count": null,
   "metadata": {},
   "outputs": [],
   "source": [
    "sns.set(style=\"whitegrid\")\n",
    "sns.set(font_scale=2)\n",
    "\n",
    "fig, ax = plt.subplots(figsize=(10, 10))\n",
    "\n",
    "# Plot RMSE\n",
    "sns.set_color_codes(\"pastel\")\n",
    "\n",
    "values = alpha_graph_df['params_desc'].tolist()\n",
    "\n",
    "clrs = ['salmon' if (y == '\\u03B1=1000') else 'steelblue' for y in values ]\n",
    "\n",
    "s = sns.barplot(x=\"rmse\", y=\"params_desc\", data=alpha_graph_df,\n",
    "                label=\"RMSE\",\n",
    "                palette=clrs)\n",
    "\n",
    "# Add a legend and informative axis label\n",
    "\n",
    "xlabel = \"Max Iterations: \" + str(best_max_iter) + \" | Latent Factors: \" + str(best_rank)\n",
    "# xlabel\n",
    "\n",
    "\n",
    "ax.legend(ncol=2, loc=\"lower right\", frameon=True)\n",
    "ax.set(ylabel=\"\",\n",
    "       xlabel=xlabel)\n",
    "ax.set_title(\"Change in Error over Alpha\")\n",
    "\n",
    "sns.despine(left=True, bottom=True)\n",
    "fig = s.get_figure()\n",
    "fig.savefig('support_data/alphas_20190905.png') "
   ]
  },
  {
   "cell_type": "markdown",
   "metadata": {},
   "source": [
    "Note those that iterations = 35 is the max of our grid."
   ]
  },
  {
   "cell_type": "code",
   "execution_count": null,
   "metadata": {},
   "outputs": [],
   "source": [
    "# hyper-param config\n",
    "num_iterations = [20, 25, 40]\n",
    "ranks = [4,5]\n",
    "reg_params = [0.01, 0.1]\n",
    "alphas = [40, 50, 100]"
   ]
  },
  {
   "cell_type": "code",
   "execution_count": null,
   "metadata": {},
   "outputs": [],
   "source": [
    "# grid search and select best model\n",
    "start_time = time.time()\n",
    "final_model, params_errs = cr.train_ALS(gs_train, gs_val, eval_reg, \n",
    "                                        num_iterations, reg_params, \n",
    "                                        ranks, alphas)\n",
    "\n",
    "print ('Total Runtime: {:.2f} seconds'.format(time.time() - start_time))"
   ]
  },
  {
   "cell_type": "code",
   "execution_count": null,
   "metadata": {},
   "outputs": [],
   "source": [
    "param_errs_rd_2 = params_errs"
   ]
  },
  {
   "cell_type": "code",
   "execution_count": null,
   "metadata": {},
   "outputs": [],
   "source": [
    "with open('support_data/params_errs_20190907b.pkl', 'wb') as f:\n",
    "    pickle.dump(param_errs_rd_2, f)\n",
    "    \n",
    "# Example - load picklea\n",
    "# pickle_in = open(\"support_data/params_errs_rd1.pkl\",\"rb\")\n",
    "# pe1 = pickle.load(pickle_in)"
   ]
  },
  {
   "cell_type": "markdown",
   "metadata": {},
   "source": [
    "#### Use this to reload the Grid Search results"
   ]
  },
  {
   "cell_type": "code",
   "execution_count": null,
   "metadata": {},
   "outputs": [],
   "source": [
    "pickle_in = open('support_data/params_errs_20190907b.pkl', 'rb')\n",
    "params_errs_2 = pickle.load(pickle_in)\n",
    "                         "
   ]
  },
  {
   "cell_type": "code",
   "execution_count": null,
   "metadata": {},
   "outputs": [],
   "source": [
    "gs_cols = ['max_iters', 'reg', 'rank', 'alpha', 'rmse']"
   ]
  },
  {
   "cell_type": "code",
   "execution_count": null,
   "metadata": {},
   "outputs": [],
   "source": [
    "gs_df = pd.DataFrame(params_errs_2, columns=gs_cols)"
   ]
  },
  {
   "cell_type": "code",
   "execution_count": null,
   "metadata": {},
   "outputs": [],
   "source": [
    "gs_df.head()"
   ]
  },
  {
   "cell_type": "code",
   "execution_count": null,
   "metadata": {},
   "outputs": [],
   "source": [
    "min_err = gs_df.rmse.min()"
   ]
  },
  {
   "cell_type": "code",
   "execution_count": null,
   "metadata": {},
   "outputs": [],
   "source": [
    "min_df = gs_df.loc[gs_df['rmse']==min_err]"
   ]
  },
  {
   "cell_type": "code",
   "execution_count": null,
   "metadata": {},
   "outputs": [],
   "source": [
    "min_df"
   ]
  },
  {
   "cell_type": "code",
   "execution_count": null,
   "metadata": {},
   "outputs": [],
   "source": [
    "best_max_iter = min_df['max_iters'].iloc[0]\n",
    "best_reg = min_df['reg'].iloc[0]\n",
    "best_rank = min_df['rank'].iloc[0]\n",
    "best_alpha = min_df['alpha'].iloc[0]"
   ]
  },
  {
   "cell_type": "markdown",
   "metadata": {},
   "source": [
    "Let's do some visual comparisons."
   ]
  },
  {
   "cell_type": "code",
   "execution_count": null,
   "metadata": {},
   "outputs": [],
   "source": [
    "gs_rank_match = (gs_df['rank']==best_rank)\n",
    "gs_reg_match = (gs_df['reg']==best_reg)\n",
    "gs_iter_match = (gs_df['max_iters']==best_max_iter)\n",
    "gs_alpha_match = (gs_df['alpha']==best_alpha)"
   ]
  },
  {
   "cell_type": "code",
   "execution_count": null,
   "metadata": {},
   "outputs": [],
   "source": [
    "gs_vary_rank = gs_df.loc[(gs_reg_match & gs_iter_match & gs_alpha_match),:]"
   ]
  },
  {
   "cell_type": "code",
   "execution_count": null,
   "metadata": {},
   "outputs": [],
   "source": [
    "gs_vary_rank"
   ]
  },
  {
   "cell_type": "code",
   "execution_count": null,
   "metadata": {},
   "outputs": [],
   "source": [
    "gs_vary_alpha = gs_df.loc[(gs_reg_match & gs_iter_match & gs_rank_match),:]"
   ]
  },
  {
   "cell_type": "code",
   "execution_count": null,
   "metadata": {},
   "outputs": [],
   "source": [
    "gs_vary_alpha"
   ]
  },
  {
   "cell_type": "code",
   "execution_count": null,
   "metadata": {},
   "outputs": [],
   "source": [
    "gs_vary_reg = gs_df.loc[(gs_alpha_match & gs_iter_match & gs_rank_match),:]"
   ]
  },
  {
   "cell_type": "code",
   "execution_count": null,
   "metadata": {},
   "outputs": [],
   "source": [
    "gs_vary_reg"
   ]
  },
  {
   "cell_type": "code",
   "execution_count": null,
   "metadata": {},
   "outputs": [],
   "source": [
    "gs_vary_iter = gs_df.loc[(gs_alpha_match & gs_reg_match & gs_rank_match),:]"
   ]
  },
  {
   "cell_type": "code",
   "execution_count": null,
   "metadata": {},
   "outputs": [],
   "source": [
    "gs_vary_iter"
   ]
  },
  {
   "cell_type": "markdown",
   "metadata": {},
   "source": [
    "So quick inspection on these, lets:\n",
    "- keep `rank` = 5\n",
    "- When compared to all the other combos, the differences in `alpha`s seem to not really move the needle > 500. so let's just call it `1000`\n",
    "- Keep `maxIter` at `20`; experience to date with my assets seems to show 20 is max capability before technical difficulties arise.\n",
    "- Similar with `alpha`, the marginal change in error due to changing `reg` is really small. So let's just assume the default `.01`.\n",
    "\n",
    "So, that means we are done selecting! We may really be pushing overfitting."
   ]
  },
  {
   "cell_type": "markdown",
   "metadata": {},
   "source": [
    "One last thing, let chart change in RMSE over change in alpha."
   ]
  },
  {
   "cell_type": "code",
   "execution_count": null,
   "metadata": {},
   "outputs": [],
   "source": [
    "alpha_graph_df = gs_vary_alpha.copy()"
   ]
  },
  {
   "cell_type": "code",
   "execution_count": null,
   "metadata": {},
   "outputs": [],
   "source": [
    "alpha_graph_df['params_desc'] = (\n",
    "                                '\\u03B1=' + alpha_graph_df['alpha'].map(str) \n",
    "                                )\n",
    "                                 "
   ]
  },
  {
   "cell_type": "code",
   "execution_count": null,
   "metadata": {},
   "outputs": [],
   "source": [
    "alpha_graph_df"
   ]
  },
  {
   "cell_type": "code",
   "execution_count": null,
   "metadata": {},
   "outputs": [],
   "source": [
    "sns.set(style=\"whitegrid\")\n",
    "sns.set(font_scale=2)\n",
    "\n",
    "fig, ax = plt.subplots(figsize=(10, 10))\n",
    "\n",
    "# Plot RMSE\n",
    "sns.set_color_codes(\"pastel\")\n",
    "\n",
    "values = alpha_graph_df['params_desc'].tolist()\n",
    "\n",
    "clrs = ['salmon' if (y == '\\u03B1=1000') else 'steelblue' for y in values ]\n",
    "\n",
    "s = sns.barplot(x=\"rmse\", y=\"params_desc\", data=alpha_graph_df,\n",
    "                label=\"RMSE\",\n",
    "                palette=clrs)\n",
    "\n",
    "# Add a legend and informative axis label\n",
    "\n",
    "xlabel = \"Max Iterations: \" + str(best_max_iter) + \" | Latent Factors: \" + str(best_rank)\n",
    "# xlabel\n",
    "\n",
    "\n",
    "ax.legend(ncol=2, loc=\"lower right\", frameon=True)\n",
    "ax.set(ylabel=\"\",\n",
    "       xlabel=xlabel)\n",
    "ax.set_title(\"Change in Error over Alpha\")\n",
    "\n",
    "sns.despine(left=True, bottom=True)\n",
    "fig = s.get_figure()\n",
    "#fig.savefig('support_data/alphas_20190905.png') "
   ]
  },
  {
   "cell_type": "code",
   "execution_count": null,
   "metadata": {},
   "outputs": [],
   "source": []
  },
  {
   "cell_type": "code",
   "execution_count": null,
   "metadata": {},
   "outputs": [],
   "source": [
    "# hyper-param config\n",
    "num_iterations = [20]\n",
    "ranks = [3,4]\n",
    "reg_params = [0.01]\n",
    "alphas = [100, 500, 1000, 1500]"
   ]
  },
  {
   "cell_type": "code",
   "execution_count": null,
   "metadata": {},
   "outputs": [],
   "source": [
    "# grid search and select best model\n",
    "start_time = time.time()\n",
    "final_model, params_errs = cr.train_ALS(gs_train, gs_val, eval_reg, \n",
    "                                        num_iterations, reg_params, \n",
    "                                        ranks, alphas)\n",
    "\n",
    "print ('Total Runtime: {:.2f} seconds'.format(time.time() - start_time))"
   ]
  },
  {
   "cell_type": "code",
   "execution_count": null,
   "metadata": {},
   "outputs": [],
   "source": []
  },
  {
   "cell_type": "code",
   "execution_count": null,
   "metadata": {},
   "outputs": [],
   "source": []
  },
  {
   "cell_type": "code",
   "execution_count": null,
   "metadata": {},
   "outputs": [],
   "source": []
  },
  {
   "cell_type": "code",
   "execution_count": null,
   "metadata": {},
   "outputs": [],
   "source": []
  },
  {
   "cell_type": "code",
   "execution_count": null,
   "metadata": {},
   "outputs": [],
   "source": []
  },
  {
   "cell_type": "code",
   "execution_count": null,
   "metadata": {},
   "outputs": [],
   "source": []
  },
  {
   "cell_type": "code",
   "execution_count": null,
   "metadata": {},
   "outputs": [],
   "source": []
  },
  {
   "cell_type": "code",
   "execution_count": null,
   "metadata": {},
   "outputs": [],
   "source": [
    "# hyper-param config\n",
    "num_iterations = [30, 50, 75, 100]\n",
    "ranks = [5]\n",
    "reg_params = [1, 5, 10]\n",
    "alphas = [1000]"
   ]
  },
  {
   "cell_type": "code",
   "execution_count": null,
   "metadata": {},
   "outputs": [],
   "source": [
    "# grid search and select best model\n",
    "start_time = time.time()\n",
    "final_model, params_errs = cr.train_ALS(gs_train, gs_val, eval_reg, \n",
    "                                        num_iterations, reg_params, \n",
    "                                        ranks, alphas)\n",
    "\n",
    "print ('Total Runtime: {:.2f} seconds'.format(time.time() - start_time))"
   ]
  },
  {
   "cell_type": "markdown",
   "metadata": {},
   "source": [
    "**OK**. Let's call it good. \n",
    "\n",
    "## Results \n",
    "Looks like the best parameters we could find are:\n",
    "- `maxIter` = 20\n",
    "- `rank` = 5\n",
    "- `regParam` = 0.1 (default)\n",
    "- `alpha` = 1000\n",
    "\n",
    "Let's cross-validate this candidate model."
   ]
  },
  {
   "cell_type": "markdown",
   "metadata": {},
   "source": [
    "## Cross Validation\n",
    "\n",
    "Let's cross-validate because we didn't actually do it in the grid search. We want to make sure that the selected model is not overfitting.\n",
    "\n",
    "The built-in cross validator in `Spark` keeps breaking when I try to use it, so let's build our own function."
   ]
  },
  {
   "cell_type": "code",
   "execution_count": null,
   "metadata": {},
   "outputs": [],
   "source": [
    "k = 10"
   ]
  },
  {
   "cell_type": "code",
   "execution_count": null,
   "metadata": {},
   "outputs": [],
   "source": [
    "folds = cr.get_spark_k_folds(train, k=k, random_seed=random_seed)"
   ]
  },
  {
   "cell_type": "code",
   "execution_count": null,
   "metadata": {},
   "outputs": [],
   "source": [
    "# Create ALS instance for cv with our chosen parametrs\n",
    "als_cv = ALS(maxIter=best_max_iter,\n",
    "          rank=best_rank,\n",
    "          userCol='account_id',\n",
    "          itemCol='comic_id',\n",
    "          ratingCol='bought',\n",
    "          implicitPrefs=True,\n",
    "          regParam=best_reg,\n",
    "          alpha=best_alpha,\n",
    "          coldStartStrategy='drop', # we want to drop so can get through CV\n",
    "          seed=random_seed)"
   ]
  },
  {
   "cell_type": "code",
   "execution_count": null,
   "metadata": {},
   "outputs": [],
   "source": [
    "errors = cr.get_cv_errors(folds, als_cv, eval_reg)"
   ]
  },
  {
   "cell_type": "code",
   "execution_count": null,
   "metadata": {},
   "outputs": [],
   "source": [
    "# Make sure that # of errors = k\n",
    "k == len(errors)"
   ]
  },
  {
   "cell_type": "code",
   "execution_count": null,
   "metadata": {},
   "outputs": [],
   "source": [
    "print(\"Accuracy: %0.2f (+/- %0.2f)\" % (np.mean(errors), np.std(errors) * 2))"
   ]
  },
  {
   "cell_type": "markdown",
   "metadata": {},
   "source": [
    "Looks stable. Let's go with it."
   ]
  },
  {
   "cell_type": "markdown",
   "metadata": {},
   "source": [
    "## Test the Candidate Model\n",
    "\n",
    "Test vs our holdout set."
   ]
  },
  {
   "cell_type": "code",
   "execution_count": null,
   "metadata": {},
   "outputs": [],
   "source": [
    "best_max_iter = 20\n",
    "best_reg = 0.1\n",
    "best_rank = 5\n",
    "best_alpha = 1000"
   ]
  },
  {
   "cell_type": "code",
   "execution_count": null,
   "metadata": {},
   "outputs": [],
   "source": [
    "# Create ALS instance and fit model\n",
    "als = ALS(maxIter=best_max_iter,\n",
    "          rank=best_rank,\n",
    "          userCol='account_id',\n",
    "          itemCol='comic_id',\n",
    "          ratingCol='bought',\n",
    "          implicitPrefs=True,\n",
    "          regParam=best_reg,\n",
    "          alpha=best_alpha,\n",
    "          coldStartStrategy='drop', # To get our eval\n",
    "          seed=random_seed)\n",
    "model_use = als.fit(train)"
   ]
  },
  {
   "cell_type": "code",
   "execution_count": null,
   "metadata": {},
   "outputs": [],
   "source": [
    "# get predictions on test\n",
    "test_preds = model_use.transform(test)\n",
    "\n",
    "# Evaluate test\n",
    "test_rmse = eval_reg.evaluate(test_preds)\n",
    "test_rmse"
   ]
  },
  {
   "cell_type": "markdown",
   "metadata": {},
   "source": [
    "Well, this is unexpected. Test error being noticeably lower than train error usually indicates an unknown fit. Since we trained on 'train' data we would expect test error to be at minimum as worse AND _probably_ a little worse than train. Not less than.\n",
    "\n",
    "It's not THAT much better, but need to make note of it. For now we need to move on."
   ]
  },
  {
   "cell_type": "code",
   "execution_count": null,
   "metadata": {},
   "outputs": [],
   "source": [
    "# Create ALS instance and fit model\n",
    "als = ALS(maxIter=best_max_iter,\n",
    "          rank=best_rank,\n",
    "          userCol='account_id',\n",
    "          itemCol='comic_id',\n",
    "          ratingCol='bought',\n",
    "          implicitPrefs=True,\n",
    "          regParam=best_reg,\n",
    "          alpha=best_alpha,\n",
    "          coldStartStrategy='nan', # To get our eval\n",
    "          seed=random_seed)\n",
    "model_use = als.fit(train)"
   ]
  },
  {
   "cell_type": "markdown",
   "metadata": {},
   "source": [
    "#### Save the item factors for future use!"
   ]
  },
  {
   "cell_type": "code",
   "execution_count": null,
   "metadata": {},
   "outputs": [],
   "source": [
    "item_factors = model_use.itemFactors.toPandas()"
   ]
  },
  {
   "cell_type": "code",
   "execution_count": null,
   "metadata": {},
   "outputs": [],
   "source": [
    "item_factors.shape"
   ]
  },
  {
   "cell_type": "code",
   "execution_count": null,
   "metadata": {},
   "outputs": [],
   "source": [
    "!ls"
   ]
  },
  {
   "cell_type": "code",
   "execution_count": null,
   "metadata": {},
   "outputs": [],
   "source": [
    "item_factors.to_pickle(\"support_data/item_factors.pkl\")"
   ]
  },
  {
   "cell_type": "code",
   "execution_count": null,
   "metadata": {},
   "outputs": [],
   "source": [
    "pd.set_option('display.max_colwidth', -1)"
   ]
  },
  {
   "cell_type": "code",
   "execution_count": null,
   "metadata": {},
   "outputs": [],
   "source": [
    "item_factors.head()"
   ]
  },
  {
   "cell_type": "markdown",
   "metadata": {},
   "source": [
    "Test unpickle"
   ]
  },
  {
   "cell_type": "code",
   "execution_count": null,
   "metadata": {},
   "outputs": [],
   "source": [
    "unpickled_items = pd.read_pickle('support_data/item_factors.pkl')"
   ]
  },
  {
   "cell_type": "markdown",
   "metadata": {},
   "source": [
    "### Get Top N recommendations for Single User"
   ]
  },
  {
   "cell_type": "markdown",
   "metadata": {},
   "source": [
    "Let's make a reference list of `account_id`'s, for testing purposes."
   ]
  },
  {
   "cell_type": "code",
   "execution_count": null,
   "metadata": {},
   "outputs": [],
   "source": [
    "n_to_test = 2\n",
    "\n",
    "users = (sold.select(als.getUserCol())\n",
    "                          .sample(False\n",
    "                                  ,n_to_test/sold.count()\n",
    "                                  )\n",
    "        )\n",
    "users.persist()\n",
    "users.show(2)"
   ]
  },
  {
   "cell_type": "markdown",
   "metadata": {},
   "source": [
    "We developed and wrote the functionality out to a function in `comic_recs.py`"
   ]
  },
  {
   "cell_type": "markdown",
   "metadata": {},
   "source": [
    "###  Testing function!\n",
    "\n",
    "- Pass the function to a pandas dataframe. \n",
    "- Function will ask for an account_id.\n",
    "- Will return top n, n defined in parameters."
   ]
  },
  {
   "cell_type": "code",
   "execution_count": null,
   "metadata": {},
   "outputs": [],
   "source": [
    "top_n_df = cr.get_top_n_new_recs(spark=spark, model=model_use, topn=5)\n",
    "top_n_df"
   ]
  },
  {
   "cell_type": "code",
   "execution_count": null,
   "metadata": {},
   "outputs": [],
   "source": [
    "top_n_df = cr.get_top_n_new_recs(spark=spark, model=model_use, topn=5)\n",
    "top_n_df"
   ]
  },
  {
   "cell_type": "code",
   "execution_count": null,
   "metadata": {},
   "outputs": [],
   "source": [
    "top_n_df = cr.get_top_n_new_recs(spark=spark, model=model_use, topn=10)\n",
    "top_n_df"
   ]
  },
  {
   "cell_type": "markdown",
   "metadata": {},
   "source": [
    "## Conclusions\n",
    "- Seems realistic? Only three tests, but the results seem 'individualized' in the sense that there is no overlap between the sets (albeit small samples)."
   ]
  },
  {
   "cell_type": "markdown",
   "metadata": {},
   "source": [
    "## Save the Model!"
   ]
  },
  {
   "cell_type": "code",
   "execution_count": null,
   "metadata": {},
   "outputs": [],
   "source": [
    "model_use.save('models/als_use')"
   ]
  },
  {
   "cell_type": "markdown",
   "metadata": {},
   "source": [
    "## Retrieving Saved Model"
   ]
  },
  {
   "cell_type": "code",
   "execution_count": null,
   "metadata": {},
   "outputs": [],
   "source": [
    "comic_rec_model = ALSModel.load('models/als_use')"
   ]
  },
  {
   "cell_type": "code",
   "execution_count": null,
   "metadata": {},
   "outputs": [],
   "source": [
    "top_n_df = cr.get_top_n_new_recs(spark=spark, model=comic_rec_model, topn=10)\n",
    "top_n_df"
   ]
  }
 ],
 "metadata": {
  "kernelspec": {
   "display_name": "Python 3",
   "language": "python",
   "name": "python3"
  },
  "language_info": {
   "codemirror_mode": {
    "name": "ipython",
    "version": 3
   },
   "file_extension": ".py",
   "mimetype": "text/x-python",
   "name": "python",
   "nbconvert_exporter": "python",
   "pygments_lexer": "ipython3",
   "version": "3.6.9"
  }
 },
 "nbformat": 4,
 "nbformat_minor": 4
}
