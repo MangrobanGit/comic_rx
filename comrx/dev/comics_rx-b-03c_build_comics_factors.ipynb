{
 "cells": [
  {
   "cell_type": "markdown",
   "metadata": {},
   "source": [
    "## Packages"
   ]
  },
  {
   "cell_type": "code",
   "execution_count": 1,
   "metadata": {},
   "outputs": [],
   "source": [
    "import numpy as np\n",
    "import sys\n",
    "import os\n",
    "import pandas as pd\n",
    "import boto3\n",
    "\n",
    "# Data storage\n",
    "from sqlalchemy import create_engine  # SQL helper\n",
    "import psycopg2 as psql  # PostgreSQL DBs\n",
    "\n",
    "sys.path.append(\"..\")"
   ]
  },
  {
   "cell_type": "code",
   "execution_count": 2,
   "metadata": {},
   "outputs": [],
   "source": [
    "import keys\n",
    "import data_fcns as dfc"
   ]
  },
  {
   "cell_type": "markdown",
   "metadata": {},
   "source": [
    "## Options"
   ]
  },
  {
   "cell_type": "code",
   "execution_count": 3,
   "metadata": {},
   "outputs": [],
   "source": [
    "# So that items in pandas columns don't show truncated values \n",
    "pd.set_option('display.max_colwidth', -1)"
   ]
  },
  {
   "cell_type": "markdown",
   "metadata": {},
   "source": [
    "## Create Official item factors matrix or dataframe"
   ]
  },
  {
   "cell_type": "code",
   "execution_count": 4,
   "metadata": {},
   "outputs": [],
   "source": [
    "item_factors_df = pd.read_pickle('support_data/item_factors_20190922.pkl')"
   ]
  },
  {
   "cell_type": "code",
   "execution_count": 5,
   "metadata": {
    "scrolled": true
   },
   "outputs": [
    {
     "data": {
      "text/html": [
       "<div>\n",
       "<style scoped>\n",
       "    .dataframe tbody tr th:only-of-type {\n",
       "        vertical-align: middle;\n",
       "    }\n",
       "\n",
       "    .dataframe tbody tr th {\n",
       "        vertical-align: top;\n",
       "    }\n",
       "\n",
       "    .dataframe thead th {\n",
       "        text-align: right;\n",
       "    }\n",
       "</style>\n",
       "<table border=\"1\" class=\"dataframe\">\n",
       "  <thead>\n",
       "    <tr style=\"text-align: right;\">\n",
       "      <th></th>\n",
       "      <th>id</th>\n",
       "      <th>features</th>\n",
       "    </tr>\n",
       "  </thead>\n",
       "  <tbody>\n",
       "    <tr>\n",
       "      <td>0</td>\n",
       "      <td>60</td>\n",
       "      <td>[0.0, 0.0, 0.0, 0.0826452448964119, 0.0, 0.0, 0.0, 0.0, 0.039434973150491714, 0.0, 0.0, 0.0, 0.0, 0.0, 0.0, 0.9948146939277649, 0.0, 0.0, 0.2473047822713852, 0.02167966403067112, 0.0, 0.0, 0.0, 0.0, 0.0, 0.0, 0.0, 0.059246089309453964, 0.03268354758620262, 0.0, 0.10995704680681229, 0.0, 0.07982633262872696, 0.0, 0.0, 0.0, 0.0, 0.0, 0.0, 0.0, 0.0, 0.0, 0.0, 0.0, 0.015057926997542381, 0.011894325725734234, 0.0, 0.0, 0.0, 0.0, 0.0, 0.06303215771913528, 0.0, 0.0, 0.0, 0.0, 0.0, 0.033097922801971436, 0.031103042885661125, 0.028060728684067726, 0.01773754693567753, 0.0, 0.0, 0.0, 0.0, 0.0, 0.0, 0.0, 0.0, 0.0, 0.0, 0.0, 0.0, 0.19910746812820435, 0.0]</td>\n",
       "    </tr>\n",
       "    <tr>\n",
       "      <td>1</td>\n",
       "      <td>80</td>\n",
       "      <td>[0.0, 0.0, 0.0, 0.0033040973357856274, 0.0, 0.0, 0.0, 0.0, 0.009639354422688484, 0.0, 0.0, 0.0, 0.0, 0.0, 0.0, 0.01085046399384737, 0.0, 0.0, 0.0, 0.0, 0.0, 0.4813947081565857, 0.0, 0.0, 0.0, 0.0, 0.0, 0.0, 0.0, 0.024865329265594482, 0.0, 0.0, 0.0, 0.0, 0.33433255553245544, 0.14560888707637787, 0.0, 0.0, 0.0, 0.0, 0.0, 0.0, 0.0, 0.0, 0.6264654994010925, 0.0, 0.0, 0.0, 0.0, 0.0, 0.0, 0.0, 0.0, 0.0, 0.0, 0.1923040896654129, 0.0, 0.0, 0.06339741498231888, 0.0, 0.0, 0.005075078923255205, 0.0, 0.0, 0.0, 0.0, 0.0, 0.128806933760643, 0.0, 0.0, 0.05120192840695381, 0.0, 0.0, 0.02547549456357956, 0.0]</td>\n",
       "    </tr>\n",
       "    <tr>\n",
       "      <td>2</td>\n",
       "      <td>110</td>\n",
       "      <td>[0.0, 0.009681249968707561, 0.3157486915588379, 0.035485029220581055, 0.08428007364273071, 0.05139074847102165, 0.010632488876581192, 0.010384040884673595, 0.0, 0.004306851886212826, 0.1360526829957962, 0.0, 0.0, 0.0, 0.0, 0.11445901542901993, 0.0, 0.02609862945973873, 0.08677253127098083, 0.0, 0.1700509786605835, 0.01852649636566639, 0.01742601953446865, 0.0, 0.052328720688819885, 0.0, 0.08754375576972961, 0.0, 0.0, 0.05530954897403717, 0.0, 0.0, 0.0, 0.0, 0.0, 0.0, 0.10496184229850769, 0.022573139518499374, 0.0, 0.06583559513092041, 0.09494148939847946, 0.0, 0.0831538662314415, 0.0, 0.03067944385111332, 0.036219604313373566, 0.016076000407338142, 0.07238824665546417, 0.0, 0.031701963394880295, 0.012026206590235233, 0.0, 0.0, 0.0, 0.0, 0.0, 0.06698817759752274, 0.3719470500946045, 0.0, 0.0, 0.03545656055212021, 0.0, 0.0, 0.0, 0.0, 0.0, 0.06538882851600647, 0.10146535187959671, 1.110505223274231, 0.0, 0.07677265256643295, 0.0401727668941021, 0.028192708268761635, 0.0, 0.0]</td>\n",
       "    </tr>\n",
       "    <tr>\n",
       "      <td>3</td>\n",
       "      <td>200</td>\n",
       "      <td>[0.0, 0.0, 0.0008219783194363117, 0.05931999906897545, 0.0017522152047604322, 0.060892585664987564, 0.0, 0.5071122050285339, 0.1063532903790474, 0.005306006409227848, 0.005510434973984957, 0.0, 0.014103081077337265, 0.0, 0.0, 0.0897526741027832, 0.1523221731185913, 0.0, 0.11788218468427658, 0.0, 0.0, 0.10728922486305237, 0.010851364582777023, 0.011304203420877457, 0.0, 0.0, 0.027045346796512604, 0.02051759511232376, 0.11239876598119736, 0.004266583826392889, 0.06424926221370697, 0.011516495607793331, 0.06823383271694183, 0.0, 0.0, 0.07253396511077881, 0.0, 0.0, 0.0, 0.0, 0.0, 0.0, 0.1502048820257187, 0.10489537566900253, 0.09956609457731247, 0.0, 0.0, 0.010047723539173603, 0.08179843425750732, 0.0, 0.13192865252494812, 0.016740024089813232, 0.0, 0.07769604027271271, 0.1828979104757309, 0.0, 0.0, 0.0, 0.0, 0.2341715395450592, 0.002455874113366008, 0.5527805685997009, 0.03604438528418541, 0.11876046657562256, 0.0, 0.0, 0.584153950214386, 0.0851968452334404, 0.03369034081697464, 0.06624818593263626, 0.0, 0.0, 0.05054672062397003, 0.05392900109291077, 0.0]</td>\n",
       "    </tr>\n",
       "    <tr>\n",
       "      <td>4</td>\n",
       "      <td>240</td>\n",
       "      <td>[0.0, 0.2235216647386551, 0.0, 0.0, 0.0, 0.0, 0.0, 0.07523377239704132, 0.15706036984920502, 0.02980225533246994, 0.0, 0.0, 0.0, 0.03824526444077492, 0.0, 0.0, 0.0, 0.0, 0.0, 0.0, 0.0, 0.17709434032440186, 0.0, 0.0, 0.098581463098526, 0.0, 0.1592487245798111, 0.0, 0.1055234745144844, 0.059581972658634186, 0.0, 0.1497793197631836, 0.07032154500484467, 0.0, 0.10109743475914001, 0.0, 0.0, 0.0, 0.0, 0.0, 0.0, 0.0, 0.11361673474311829, 0.0, 0.0, 0.0, 0.09224706143140793, 0.2049531638622284, 0.0, 0.0, 0.0, 0.11741948872804642, 0.0, 0.0004655775846913457, 0.0, 0.0, 0.0, 0.0, 0.0, 0.0, 0.0, 0.0, 0.0, 0.0, 0.0, 0.0, 0.042575541883707047, 0.0, 0.0, 0.9192661643028259, 0.0, 0.0, 0.0, 0.0, 0.0653487965464592]</td>\n",
       "    </tr>\n",
       "  </tbody>\n",
       "</table>\n",
       "</div>"
      ],
      "text/plain": [
       "    id  \\\n",
       "0  60    \n",
       "1  80    \n",
       "2  110   \n",
       "3  200   \n",
       "4  240   \n",
       "\n",
       "                                                                                                                                                                                                                                                                                                                                                                                                                                                                                                                                                                                                                                                                                                                                                                                                                                                                                                                                                                                                                                                                                                       features  \n",
       "0  [0.0, 0.0, 0.0, 0.0826452448964119, 0.0, 0.0, 0.0, 0.0, 0.039434973150491714, 0.0, 0.0, 0.0, 0.0, 0.0, 0.0, 0.9948146939277649, 0.0, 0.0, 0.2473047822713852, 0.02167966403067112, 0.0, 0.0, 0.0, 0.0, 0.0, 0.0, 0.0, 0.059246089309453964, 0.03268354758620262, 0.0, 0.10995704680681229, 0.0, 0.07982633262872696, 0.0, 0.0, 0.0, 0.0, 0.0, 0.0, 0.0, 0.0, 0.0, 0.0, 0.0, 0.015057926997542381, 0.011894325725734234, 0.0, 0.0, 0.0, 0.0, 0.0, 0.06303215771913528, 0.0, 0.0, 0.0, 0.0, 0.0, 0.033097922801971436, 0.031103042885661125, 0.028060728684067726, 0.01773754693567753, 0.0, 0.0, 0.0, 0.0, 0.0, 0.0, 0.0, 0.0, 0.0, 0.0, 0.0, 0.0, 0.19910746812820435, 0.0]                                                                                                                                                                                                                                                                                                                                                                                                                                   \n",
       "1  [0.0, 0.0, 0.0, 0.0033040973357856274, 0.0, 0.0, 0.0, 0.0, 0.009639354422688484, 0.0, 0.0, 0.0, 0.0, 0.0, 0.0, 0.01085046399384737, 0.0, 0.0, 0.0, 0.0, 0.0, 0.4813947081565857, 0.0, 0.0, 0.0, 0.0, 0.0, 0.0, 0.0, 0.024865329265594482, 0.0, 0.0, 0.0, 0.0, 0.33433255553245544, 0.14560888707637787, 0.0, 0.0, 0.0, 0.0, 0.0, 0.0, 0.0, 0.0, 0.6264654994010925, 0.0, 0.0, 0.0, 0.0, 0.0, 0.0, 0.0, 0.0, 0.0, 0.0, 0.1923040896654129, 0.0, 0.0, 0.06339741498231888, 0.0, 0.0, 0.005075078923255205, 0.0, 0.0, 0.0, 0.0, 0.0, 0.128806933760643, 0.0, 0.0, 0.05120192840695381, 0.0, 0.0, 0.02547549456357956, 0.0]                                                                                                                                                                                                                                                                                                                                                                                                                                                                                       \n",
       "2  [0.0, 0.009681249968707561, 0.3157486915588379, 0.035485029220581055, 0.08428007364273071, 0.05139074847102165, 0.010632488876581192, 0.010384040884673595, 0.0, 0.004306851886212826, 0.1360526829957962, 0.0, 0.0, 0.0, 0.0, 0.11445901542901993, 0.0, 0.02609862945973873, 0.08677253127098083, 0.0, 0.1700509786605835, 0.01852649636566639, 0.01742601953446865, 0.0, 0.052328720688819885, 0.0, 0.08754375576972961, 0.0, 0.0, 0.05530954897403717, 0.0, 0.0, 0.0, 0.0, 0.0, 0.0, 0.10496184229850769, 0.022573139518499374, 0.0, 0.06583559513092041, 0.09494148939847946, 0.0, 0.0831538662314415, 0.0, 0.03067944385111332, 0.036219604313373566, 0.016076000407338142, 0.07238824665546417, 0.0, 0.031701963394880295, 0.012026206590235233, 0.0, 0.0, 0.0, 0.0, 0.0, 0.06698817759752274, 0.3719470500946045, 0.0, 0.0, 0.03545656055212021, 0.0, 0.0, 0.0, 0.0, 0.0, 0.06538882851600647, 0.10146535187959671, 1.110505223274231, 0.0, 0.07677265256643295, 0.0401727668941021, 0.028192708268761635, 0.0, 0.0]                                                                                   \n",
       "3  [0.0, 0.0, 0.0008219783194363117, 0.05931999906897545, 0.0017522152047604322, 0.060892585664987564, 0.0, 0.5071122050285339, 0.1063532903790474, 0.005306006409227848, 0.005510434973984957, 0.0, 0.014103081077337265, 0.0, 0.0, 0.0897526741027832, 0.1523221731185913, 0.0, 0.11788218468427658, 0.0, 0.0, 0.10728922486305237, 0.010851364582777023, 0.011304203420877457, 0.0, 0.0, 0.027045346796512604, 0.02051759511232376, 0.11239876598119736, 0.004266583826392889, 0.06424926221370697, 0.011516495607793331, 0.06823383271694183, 0.0, 0.0, 0.07253396511077881, 0.0, 0.0, 0.0, 0.0, 0.0, 0.0, 0.1502048820257187, 0.10489537566900253, 0.09956609457731247, 0.0, 0.0, 0.010047723539173603, 0.08179843425750732, 0.0, 0.13192865252494812, 0.016740024089813232, 0.0, 0.07769604027271271, 0.1828979104757309, 0.0, 0.0, 0.0, 0.0, 0.2341715395450592, 0.002455874113366008, 0.5527805685997009, 0.03604438528418541, 0.11876046657562256, 0.0, 0.0, 0.584153950214386, 0.0851968452334404, 0.03369034081697464, 0.06624818593263626, 0.0, 0.0, 0.05054672062397003, 0.05392900109291077, 0.0]  \n",
       "4  [0.0, 0.2235216647386551, 0.0, 0.0, 0.0, 0.0, 0.0, 0.07523377239704132, 0.15706036984920502, 0.02980225533246994, 0.0, 0.0, 0.0, 0.03824526444077492, 0.0, 0.0, 0.0, 0.0, 0.0, 0.0, 0.0, 0.17709434032440186, 0.0, 0.0, 0.098581463098526, 0.0, 0.1592487245798111, 0.0, 0.1055234745144844, 0.059581972658634186, 0.0, 0.1497793197631836, 0.07032154500484467, 0.0, 0.10109743475914001, 0.0, 0.0, 0.0, 0.0, 0.0, 0.0, 0.0, 0.11361673474311829, 0.0, 0.0, 0.0, 0.09224706143140793, 0.2049531638622284, 0.0, 0.0, 0.0, 0.11741948872804642, 0.0, 0.0004655775846913457, 0.0, 0.0, 0.0, 0.0, 0.0, 0.0, 0.0, 0.0, 0.0, 0.0, 0.0, 0.0, 0.042575541883707047, 0.0, 0.0, 0.9192661643028259, 0.0, 0.0, 0.0, 0.0, 0.0653487965464592]                                                                                                                                                                                                                                                                                                                                                                            "
      ]
     },
     "execution_count": 5,
     "metadata": {},
     "output_type": "execute_result"
    }
   ],
   "source": [
    "item_factors_df.head()"
   ]
  },
  {
   "cell_type": "markdown",
   "metadata": {},
   "source": [
    "## Get comics data from DB"
   ]
  },
  {
   "cell_type": "code",
   "execution_count": 6,
   "metadata": {},
   "outputs": [],
   "source": [
    "# Define path to secret\n",
    "secret_path_aws = os.path.join(os.environ['HOME'], '.secret',\n",
    "                               'aws_ps_flatiron.json')\n",
    "secret_path_aws\n",
    "\n",
    "aws_keys = keys.get_keys(secret_path_aws)\n",
    "user = aws_keys['user']\n",
    "ps = aws_keys['password']\n",
    "host = aws_keys['host']\n",
    "db = aws_keys['db_name']\n",
    "\n",
    "aws_ps_engine = ('postgresql://' + user + ':' + ps + '@' + host + '/' + db)\n",
    "\n",
    "# Setup PSQL connection\n",
    "conn = psql.connect(\n",
    "    database=db,\n",
    "    user=user,\n",
    "    password=ps,\n",
    "    host=host,\n",
    "    port='5432'\n",
    ")"
   ]
  },
  {
   "cell_type": "code",
   "execution_count": 7,
   "metadata": {},
   "outputs": [],
   "source": [
    "# Instantiate cursor\n",
    "cur = conn.cursor()"
   ]
  },
  {
   "cell_type": "code",
   "execution_count": 8,
   "metadata": {},
   "outputs": [],
   "source": [
    "#  Count records.\n",
    "query = \"\"\"\n",
    "    SELECT * FROM comics \n",
    "\"\"\"\n",
    "\n",
    "# Execute the query\n",
    "cur.execute(query)\n",
    "\n",
    "conn.commit()"
   ]
  },
  {
   "cell_type": "code",
   "execution_count": 9,
   "metadata": {},
   "outputs": [],
   "source": [
    "# Check results\n",
    "comics_pdf = pd.DataFrame(cur.fetchall())\n",
    "comics_pdf.columns = [col.name for col in cur.description]"
   ]
  },
  {
   "cell_type": "code",
   "execution_count": 10,
   "metadata": {},
   "outputs": [
    {
     "data": {
      "text/html": [
       "<div>\n",
       "<style scoped>\n",
       "    .dataframe tbody tr th:only-of-type {\n",
       "        vertical-align: middle;\n",
       "    }\n",
       "\n",
       "    .dataframe tbody tr th {\n",
       "        vertical-align: top;\n",
       "    }\n",
       "\n",
       "    .dataframe thead th {\n",
       "        text-align: right;\n",
       "    }\n",
       "</style>\n",
       "<table border=\"1\" class=\"dataframe\">\n",
       "  <thead>\n",
       "    <tr style=\"text-align: right;\">\n",
       "      <th></th>\n",
       "      <th>comic_id</th>\n",
       "      <th>comic_title</th>\n",
       "      <th>img_url</th>\n",
       "      <th>lrg_img_url</th>\n",
       "    </tr>\n",
       "  </thead>\n",
       "  <tbody>\n",
       "    <tr>\n",
       "      <td>0</td>\n",
       "      <td>235</td>\n",
       "      <td>Amber Blake (IDW)</td>\n",
       "      <td>https://comrx.s3-us-west-2.amazonaws.com/covers/amber_blake.jpg</td>\n",
       "      <td>https://comrx.s3-us-west-2.amazonaws.com/covers_large/amber_blake.jpg</td>\n",
       "    </tr>\n",
       "    <tr>\n",
       "      <td>1</td>\n",
       "      <td>358</td>\n",
       "      <td>Armor Hunters Bloodshot (Other)</td>\n",
       "      <td>https://comrx.s3-us-west-2.amazonaws.com/covers/armor_hunters_bloodshot.jpg</td>\n",
       "      <td>https://comrx.s3-us-west-2.amazonaws.com/covers_large/armor_hunters_bloodshot.jpg</td>\n",
       "    </tr>\n",
       "    <tr>\n",
       "      <td>2</td>\n",
       "      <td>500</td>\n",
       "      <td>A Year of Marvels Unbeatable (Marvel)</td>\n",
       "      <td>https://comrx.s3-us-west-2.amazonaws.com/covers/a_year_of_marvels_unbeatable.jpg</td>\n",
       "      <td>https://comrx.s3-us-west-2.amazonaws.com/covers_large/a_year_of_marvels_unbeatable.jpg</td>\n",
       "    </tr>\n",
       "    <tr>\n",
       "      <td>3</td>\n",
       "      <td>711</td>\n",
       "      <td>Beef (Image)</td>\n",
       "      <td>https://comrx.s3-us-west-2.amazonaws.com/covers/beef.jpg</td>\n",
       "      <td>https://comrx.s3-us-west-2.amazonaws.com/covers_large/beef.jpg</td>\n",
       "    </tr>\n",
       "    <tr>\n",
       "      <td>4</td>\n",
       "      <td>726</td>\n",
       "      <td>Belladonna (Avatar)</td>\n",
       "      <td>https://comrx.s3-us-west-2.amazonaws.com/covers/belladonna.jpg</td>\n",
       "      <td>https://comrx.s3-us-west-2.amazonaws.com/covers_large/belladonna.jpg</td>\n",
       "    </tr>\n",
       "  </tbody>\n",
       "</table>\n",
       "</div>"
      ],
      "text/plain": [
       "   comic_id                            comic_title  \\\n",
       "0  235       Amber Blake (IDW)                       \n",
       "1  358       Armor Hunters Bloodshot (Other)         \n",
       "2  500       A Year of Marvels Unbeatable (Marvel)   \n",
       "3  711       Beef (Image)                            \n",
       "4  726       Belladonna (Avatar)                     \n",
       "\n",
       "                                                                            img_url  \\\n",
       "0  https://comrx.s3-us-west-2.amazonaws.com/covers/amber_blake.jpg                    \n",
       "1  https://comrx.s3-us-west-2.amazonaws.com/covers/armor_hunters_bloodshot.jpg        \n",
       "2  https://comrx.s3-us-west-2.amazonaws.com/covers/a_year_of_marvels_unbeatable.jpg   \n",
       "3  https://comrx.s3-us-west-2.amazonaws.com/covers/beef.jpg                           \n",
       "4  https://comrx.s3-us-west-2.amazonaws.com/covers/belladonna.jpg                     \n",
       "\n",
       "                                                                              lrg_img_url  \n",
       "0  https://comrx.s3-us-west-2.amazonaws.com/covers_large/amber_blake.jpg                   \n",
       "1  https://comrx.s3-us-west-2.amazonaws.com/covers_large/armor_hunters_bloodshot.jpg       \n",
       "2  https://comrx.s3-us-west-2.amazonaws.com/covers_large/a_year_of_marvels_unbeatable.jpg  \n",
       "3  https://comrx.s3-us-west-2.amazonaws.com/covers_large/beef.jpg                          \n",
       "4  https://comrx.s3-us-west-2.amazonaws.com/covers_large/belladonna.jpg                    "
      ]
     },
     "execution_count": 10,
     "metadata": {},
     "output_type": "execute_result"
    }
   ],
   "source": [
    "comics_pdf.head()"
   ]
  },
  {
   "cell_type": "code",
   "execution_count": 11,
   "metadata": {},
   "outputs": [
    {
     "data": {
      "text/plain": [
       "(7202, 4)"
      ]
     },
     "execution_count": 11,
     "metadata": {},
     "output_type": "execute_result"
    }
   ],
   "source": [
    "comics_pdf.shape"
   ]
  },
  {
   "cell_type": "code",
   "execution_count": 12,
   "metadata": {},
   "outputs": [
    {
     "data": {
      "text/html": [
       "<div>\n",
       "<style scoped>\n",
       "    .dataframe tbody tr th:only-of-type {\n",
       "        vertical-align: middle;\n",
       "    }\n",
       "\n",
       "    .dataframe tbody tr th {\n",
       "        vertical-align: top;\n",
       "    }\n",
       "\n",
       "    .dataframe thead th {\n",
       "        text-align: right;\n",
       "    }\n",
       "</style>\n",
       "<table border=\"1\" class=\"dataframe\">\n",
       "  <thead>\n",
       "    <tr style=\"text-align: right;\">\n",
       "      <th></th>\n",
       "      <th>comic_id</th>\n",
       "      <th>comic_title</th>\n",
       "      <th>img_url</th>\n",
       "      <th>lrg_img_url</th>\n",
       "    </tr>\n",
       "  </thead>\n",
       "  <tbody>\n",
       "    <tr>\n",
       "      <td>0</td>\n",
       "      <td>235</td>\n",
       "      <td>Amber Blake (IDW)</td>\n",
       "      <td>https://comrx.s3-us-west-2.amazonaws.com/covers/amber_blake.jpg</td>\n",
       "      <td>https://comrx.s3-us-west-2.amazonaws.com/covers_large/amber_blake.jpg</td>\n",
       "    </tr>\n",
       "    <tr>\n",
       "      <td>1</td>\n",
       "      <td>358</td>\n",
       "      <td>Armor Hunters Bloodshot (Other)</td>\n",
       "      <td>https://comrx.s3-us-west-2.amazonaws.com/covers/armor_hunters_bloodshot.jpg</td>\n",
       "      <td>https://comrx.s3-us-west-2.amazonaws.com/covers_large/armor_hunters_bloodshot.jpg</td>\n",
       "    </tr>\n",
       "    <tr>\n",
       "      <td>2</td>\n",
       "      <td>500</td>\n",
       "      <td>A Year of Marvels Unbeatable (Marvel)</td>\n",
       "      <td>https://comrx.s3-us-west-2.amazonaws.com/covers/a_year_of_marvels_unbeatable.jpg</td>\n",
       "      <td>https://comrx.s3-us-west-2.amazonaws.com/covers_large/a_year_of_marvels_unbeatable.jpg</td>\n",
       "    </tr>\n",
       "    <tr>\n",
       "      <td>3</td>\n",
       "      <td>711</td>\n",
       "      <td>Beef (Image)</td>\n",
       "      <td>https://comrx.s3-us-west-2.amazonaws.com/covers/beef.jpg</td>\n",
       "      <td>https://comrx.s3-us-west-2.amazonaws.com/covers_large/beef.jpg</td>\n",
       "    </tr>\n",
       "    <tr>\n",
       "      <td>4</td>\n",
       "      <td>726</td>\n",
       "      <td>Belladonna (Avatar)</td>\n",
       "      <td>https://comrx.s3-us-west-2.amazonaws.com/covers/belladonna.jpg</td>\n",
       "      <td>https://comrx.s3-us-west-2.amazonaws.com/covers_large/belladonna.jpg</td>\n",
       "    </tr>\n",
       "  </tbody>\n",
       "</table>\n",
       "</div>"
      ],
      "text/plain": [
       "   comic_id                            comic_title  \\\n",
       "0  235       Amber Blake (IDW)                       \n",
       "1  358       Armor Hunters Bloodshot (Other)         \n",
       "2  500       A Year of Marvels Unbeatable (Marvel)   \n",
       "3  711       Beef (Image)                            \n",
       "4  726       Belladonna (Avatar)                     \n",
       "\n",
       "                                                                            img_url  \\\n",
       "0  https://comrx.s3-us-west-2.amazonaws.com/covers/amber_blake.jpg                    \n",
       "1  https://comrx.s3-us-west-2.amazonaws.com/covers/armor_hunters_bloodshot.jpg        \n",
       "2  https://comrx.s3-us-west-2.amazonaws.com/covers/a_year_of_marvels_unbeatable.jpg   \n",
       "3  https://comrx.s3-us-west-2.amazonaws.com/covers/beef.jpg                           \n",
       "4  https://comrx.s3-us-west-2.amazonaws.com/covers/belladonna.jpg                     \n",
       "\n",
       "                                                                              lrg_img_url  \n",
       "0  https://comrx.s3-us-west-2.amazonaws.com/covers_large/amber_blake.jpg                   \n",
       "1  https://comrx.s3-us-west-2.amazonaws.com/covers_large/armor_hunters_bloodshot.jpg       \n",
       "2  https://comrx.s3-us-west-2.amazonaws.com/covers_large/a_year_of_marvels_unbeatable.jpg  \n",
       "3  https://comrx.s3-us-west-2.amazonaws.com/covers_large/beef.jpg                          \n",
       "4  https://comrx.s3-us-west-2.amazonaws.com/covers_large/belladonna.jpg                    "
      ]
     },
     "execution_count": 12,
     "metadata": {},
     "output_type": "execute_result"
    }
   ],
   "source": [
    "comics_pdf.head()"
   ]
  },
  {
   "cell_type": "markdown",
   "metadata": {},
   "source": [
    "### Need to reduce to comics with counts >= 20"
   ]
  },
  {
   "cell_type": "code",
   "execution_count": 13,
   "metadata": {},
   "outputs": [],
   "source": [
    "comic_ids = pd.read_json('raw_data/comic_ids.json',orient='records', lines=True )"
   ]
  },
  {
   "cell_type": "code",
   "execution_count": 14,
   "metadata": {},
   "outputs": [
    {
     "data": {
      "text/plain": [
       "(790, 1)"
      ]
     },
     "execution_count": 14,
     "metadata": {},
     "output_type": "execute_result"
    }
   ],
   "source": [
    "comic_ids.shape"
   ]
  },
  {
   "cell_type": "code",
   "execution_count": 15,
   "metadata": {},
   "outputs": [],
   "source": [
    "comics_pdf_small = comics_pdf.merge(comic_ids, left_on='comic_id', right_on='comic_id', how='inner', )"
   ]
  },
  {
   "cell_type": "code",
   "execution_count": 16,
   "metadata": {},
   "outputs": [
    {
     "data": {
      "text/plain": [
       "(7202, 4)"
      ]
     },
     "execution_count": 16,
     "metadata": {},
     "output_type": "execute_result"
    }
   ],
   "source": [
    "comics_pdf.shape"
   ]
  },
  {
   "cell_type": "code",
   "execution_count": 17,
   "metadata": {},
   "outputs": [
    {
     "data": {
      "text/plain": [
       "(790, 4)"
      ]
     },
     "execution_count": 17,
     "metadata": {},
     "output_type": "execute_result"
    }
   ],
   "source": [
    "comics_pdf_small.shape"
   ]
  },
  {
   "cell_type": "code",
   "execution_count": 18,
   "metadata": {},
   "outputs": [
    {
     "data": {
      "text/html": [
       "<div>\n",
       "<style scoped>\n",
       "    .dataframe tbody tr th:only-of-type {\n",
       "        vertical-align: middle;\n",
       "    }\n",
       "\n",
       "    .dataframe tbody tr th {\n",
       "        vertical-align: top;\n",
       "    }\n",
       "\n",
       "    .dataframe thead th {\n",
       "        text-align: right;\n",
       "    }\n",
       "</style>\n",
       "<table border=\"1\" class=\"dataframe\">\n",
       "  <thead>\n",
       "    <tr style=\"text-align: right;\">\n",
       "      <th></th>\n",
       "      <th>comic_id</th>\n",
       "      <th>comic_title</th>\n",
       "      <th>img_url</th>\n",
       "      <th>lrg_img_url</th>\n",
       "    </tr>\n",
       "  </thead>\n",
       "  <tbody>\n",
       "    <tr>\n",
       "      <td>0</td>\n",
       "      <td>1316</td>\n",
       "      <td>Conan the Barbarian (Dark Horse)</td>\n",
       "      <td>https://comrx.s3-us-west-2.amazonaws.com/covers/_no_cover_.jpg</td>\n",
       "      <td>https://comrx.s3-us-west-2.amazonaws.com/covers_large/_no_cover_.jpg</td>\n",
       "    </tr>\n",
       "    <tr>\n",
       "      <td>1</td>\n",
       "      <td>1634</td>\n",
       "      <td>Dceased (DC)</td>\n",
       "      <td>https://comrx.s3-us-west-2.amazonaws.com/covers/dceased.jpg</td>\n",
       "      <td>https://comrx.s3-us-west-2.amazonaws.com/covers_large/dceased.jpg</td>\n",
       "    </tr>\n",
       "    <tr>\n",
       "      <td>2</td>\n",
       "      <td>2400</td>\n",
       "      <td>From Under Mountains (Image)</td>\n",
       "      <td>https://comrx.s3-us-west-2.amazonaws.com/covers/from_under_mountains.jpg</td>\n",
       "      <td>https://comrx.s3-us-west-2.amazonaws.com/covers_large/from_under_mountains.jpg</td>\n",
       "    </tr>\n",
       "    <tr>\n",
       "      <td>3</td>\n",
       "      <td>2986</td>\n",
       "      <td>Head Lopper (Image)</td>\n",
       "      <td>https://comrx.s3-us-west-2.amazonaws.com/covers/head_lopper.jpg</td>\n",
       "      <td>https://comrx.s3-us-west-2.amazonaws.com/covers_large/head_lopper.jpg</td>\n",
       "    </tr>\n",
       "    <tr>\n",
       "      <td>4</td>\n",
       "      <td>6348</td>\n",
       "      <td>Tmnt Ongoing (IDW)</td>\n",
       "      <td>https://comrx.s3-us-west-2.amazonaws.com/covers/_no_cover_.jpg</td>\n",
       "      <td>https://comrx.s3-us-west-2.amazonaws.com/covers_large/_no_cover_.jpg</td>\n",
       "    </tr>\n",
       "  </tbody>\n",
       "</table>\n",
       "</div>"
      ],
      "text/plain": [
       "   comic_id                       comic_title  \\\n",
       "0  1316      Conan the Barbarian (Dark Horse)   \n",
       "1  1634      Dceased (DC)                       \n",
       "2  2400      From Under Mountains (Image)       \n",
       "3  2986      Head Lopper (Image)                \n",
       "4  6348      Tmnt Ongoing (IDW)                 \n",
       "\n",
       "                                                                    img_url  \\\n",
       "0  https://comrx.s3-us-west-2.amazonaws.com/covers/_no_cover_.jpg             \n",
       "1  https://comrx.s3-us-west-2.amazonaws.com/covers/dceased.jpg                \n",
       "2  https://comrx.s3-us-west-2.amazonaws.com/covers/from_under_mountains.jpg   \n",
       "3  https://comrx.s3-us-west-2.amazonaws.com/covers/head_lopper.jpg            \n",
       "4  https://comrx.s3-us-west-2.amazonaws.com/covers/_no_cover_.jpg             \n",
       "\n",
       "                                                                      lrg_img_url  \n",
       "0  https://comrx.s3-us-west-2.amazonaws.com/covers_large/_no_cover_.jpg            \n",
       "1  https://comrx.s3-us-west-2.amazonaws.com/covers_large/dceased.jpg               \n",
       "2  https://comrx.s3-us-west-2.amazonaws.com/covers_large/from_under_mountains.jpg  \n",
       "3  https://comrx.s3-us-west-2.amazonaws.com/covers_large/head_lopper.jpg           \n",
       "4  https://comrx.s3-us-west-2.amazonaws.com/covers_large/_no_cover_.jpg            "
      ]
     },
     "execution_count": 18,
     "metadata": {},
     "output_type": "execute_result"
    }
   ],
   "source": [
    "comics_pdf_small.head()"
   ]
  },
  {
   "cell_type": "markdown",
   "metadata": {},
   "source": [
    "## Merge item factors and comics"
   ]
  },
  {
   "cell_type": "code",
   "execution_count": 19,
   "metadata": {},
   "outputs": [],
   "source": [
    "# Change column names for item_factors_df\n",
    "item_factors_df.columns = ['comic_id', 'features']"
   ]
  },
  {
   "cell_type": "code",
   "execution_count": 20,
   "metadata": {},
   "outputs": [],
   "source": [
    "combo = item_factors_df.merge(comics_pdf_small, left_on='comic_id', right_on='comic_id', how='inner', )"
   ]
  },
  {
   "cell_type": "code",
   "execution_count": 21,
   "metadata": {},
   "outputs": [],
   "source": [
    "combo.set_index(['comic_id'], inplace=True)"
   ]
  },
  {
   "cell_type": "code",
   "execution_count": 22,
   "metadata": {},
   "outputs": [
    {
     "data": {
      "text/html": [
       "<div>\n",
       "<style scoped>\n",
       "    .dataframe tbody tr th:only-of-type {\n",
       "        vertical-align: middle;\n",
       "    }\n",
       "\n",
       "    .dataframe tbody tr th {\n",
       "        vertical-align: top;\n",
       "    }\n",
       "\n",
       "    .dataframe thead th {\n",
       "        text-align: right;\n",
       "    }\n",
       "</style>\n",
       "<table border=\"1\" class=\"dataframe\">\n",
       "  <thead>\n",
       "    <tr style=\"text-align: right;\">\n",
       "      <th></th>\n",
       "      <th>features</th>\n",
       "      <th>comic_title</th>\n",
       "      <th>img_url</th>\n",
       "      <th>lrg_img_url</th>\n",
       "    </tr>\n",
       "    <tr>\n",
       "      <th>comic_id</th>\n",
       "      <th></th>\n",
       "      <th></th>\n",
       "      <th></th>\n",
       "      <th></th>\n",
       "    </tr>\n",
       "  </thead>\n",
       "  <tbody>\n",
       "    <tr>\n",
       "      <td>60</td>\n",
       "      <td>[0.0, 0.0, 0.0, 0.0826452448964119, 0.0, 0.0, 0.0, 0.0, 0.039434973150491714, 0.0, 0.0, 0.0, 0.0, 0.0, 0.0, 0.9948146939277649, 0.0, 0.0, 0.2473047822713852, 0.02167966403067112, 0.0, 0.0, 0.0, 0.0, 0.0, 0.0, 0.0, 0.059246089309453964, 0.03268354758620262, 0.0, 0.10995704680681229, 0.0, 0.07982633262872696, 0.0, 0.0, 0.0, 0.0, 0.0, 0.0, 0.0, 0.0, 0.0, 0.0, 0.0, 0.015057926997542381, 0.011894325725734234, 0.0, 0.0, 0.0, 0.0, 0.0, 0.06303215771913528, 0.0, 0.0, 0.0, 0.0, 0.0, 0.033097922801971436, 0.031103042885661125, 0.028060728684067726, 0.01773754693567753, 0.0, 0.0, 0.0, 0.0, 0.0, 0.0, 0.0, 0.0, 0.0, 0.0, 0.0, 0.0, 0.19910746812820435, 0.0]</td>\n",
       "      <td>8house (Image)</td>\n",
       "      <td>https://comrx.s3-us-west-2.amazonaws.com/covers/8house.jpg</td>\n",
       "      <td>https://comrx.s3-us-west-2.amazonaws.com/covers_large/8house.jpg</td>\n",
       "    </tr>\n",
       "    <tr>\n",
       "      <td>80</td>\n",
       "      <td>[0.0, 0.0, 0.0, 0.0033040973357856274, 0.0, 0.0, 0.0, 0.0, 0.009639354422688484, 0.0, 0.0, 0.0, 0.0, 0.0, 0.0, 0.01085046399384737, 0.0, 0.0, 0.0, 0.0, 0.0, 0.4813947081565857, 0.0, 0.0, 0.0, 0.0, 0.0, 0.0, 0.0, 0.024865329265594482, 0.0, 0.0, 0.0, 0.0, 0.33433255553245544, 0.14560888707637787, 0.0, 0.0, 0.0, 0.0, 0.0, 0.0, 0.0, 0.0, 0.6264654994010925, 0.0, 0.0, 0.0, 0.0, 0.0, 0.0, 0.0, 0.0, 0.0, 0.0, 0.1923040896654129, 0.0, 0.0, 0.06339741498231888, 0.0, 0.0, 0.005075078923255205, 0.0, 0.0, 0.0, 0.0, 0.0, 0.128806933760643, 0.0, 0.0, 0.05120192840695381, 0.0, 0.0, 0.02547549456357956, 0.0]</td>\n",
       "      <td>Action Comics Annual (DC)</td>\n",
       "      <td>https://comrx.s3-us-west-2.amazonaws.com/covers/_no_cover_.jpg</td>\n",
       "      <td>https://comrx.s3-us-west-2.amazonaws.com/covers_large/_no_cover_.jpg</td>\n",
       "    </tr>\n",
       "    <tr>\n",
       "      <td>110</td>\n",
       "      <td>[0.0, 0.009681249968707561, 0.3157486915588379, 0.035485029220581055, 0.08428007364273071, 0.05139074847102165, 0.010632488876581192, 0.010384040884673595, 0.0, 0.004306851886212826, 0.1360526829957962, 0.0, 0.0, 0.0, 0.0, 0.11445901542901993, 0.0, 0.02609862945973873, 0.08677253127098083, 0.0, 0.1700509786605835, 0.01852649636566639, 0.01742601953446865, 0.0, 0.052328720688819885, 0.0, 0.08754375576972961, 0.0, 0.0, 0.05530954897403717, 0.0, 0.0, 0.0, 0.0, 0.0, 0.0, 0.10496184229850769, 0.022573139518499374, 0.0, 0.06583559513092041, 0.09494148939847946, 0.0, 0.0831538662314415, 0.0, 0.03067944385111332, 0.036219604313373566, 0.016076000407338142, 0.07238824665546417, 0.0, 0.031701963394880295, 0.012026206590235233, 0.0, 0.0, 0.0, 0.0, 0.0, 0.06698817759752274, 0.3719470500946045, 0.0, 0.0, 0.03545656055212021, 0.0, 0.0, 0.0, 0.0, 0.0, 0.06538882851600647, 0.10146535187959671, 1.110505223274231, 0.0, 0.07677265256643295, 0.0401727668941021, 0.028192708268761635, 0.0, 0.0]</td>\n",
       "      <td>Adventure Time (Boom)</td>\n",
       "      <td>https://comrx.s3-us-west-2.amazonaws.com/covers/adventure_time.jpg</td>\n",
       "      <td>https://comrx.s3-us-west-2.amazonaws.com/covers_large/adventure_time.jpg</td>\n",
       "    </tr>\n",
       "    <tr>\n",
       "      <td>200</td>\n",
       "      <td>[0.0, 0.0, 0.0008219783194363117, 0.05931999906897545, 0.0017522152047604322, 0.060892585664987564, 0.0, 0.5071122050285339, 0.1063532903790474, 0.005306006409227848, 0.005510434973984957, 0.0, 0.014103081077337265, 0.0, 0.0, 0.0897526741027832, 0.1523221731185913, 0.0, 0.11788218468427658, 0.0, 0.0, 0.10728922486305237, 0.010851364582777023, 0.011304203420877457, 0.0, 0.0, 0.027045346796512604, 0.02051759511232376, 0.11239876598119736, 0.004266583826392889, 0.06424926221370697, 0.011516495607793331, 0.06823383271694183, 0.0, 0.0, 0.07253396511077881, 0.0, 0.0, 0.0, 0.0, 0.0, 0.0, 0.1502048820257187, 0.10489537566900253, 0.09956609457731247, 0.0, 0.0, 0.010047723539173603, 0.08179843425750732, 0.0, 0.13192865252494812, 0.016740024089813232, 0.0, 0.07769604027271271, 0.1828979104757309, 0.0, 0.0, 0.0, 0.0, 0.2341715395450592, 0.002455874113366008, 0.5527805685997009, 0.03604438528418541, 0.11876046657562256, 0.0, 0.0, 0.584153950214386, 0.0851968452334404, 0.03369034081697464, 0.06624818593263626, 0.0, 0.0, 0.05054672062397003, 0.05392900109291077, 0.0]</td>\n",
       "      <td>All Star Batman (DC)</td>\n",
       "      <td>https://comrx.s3-us-west-2.amazonaws.com/covers/all_star_batman.jpg</td>\n",
       "      <td>https://comrx.s3-us-west-2.amazonaws.com/covers_large/all_star_batman.jpg</td>\n",
       "    </tr>\n",
       "    <tr>\n",
       "      <td>240</td>\n",
       "      <td>[0.0, 0.2235216647386551, 0.0, 0.0, 0.0, 0.0, 0.0, 0.07523377239704132, 0.15706036984920502, 0.02980225533246994, 0.0, 0.0, 0.0, 0.03824526444077492, 0.0, 0.0, 0.0, 0.0, 0.0, 0.0, 0.0, 0.17709434032440186, 0.0, 0.0, 0.098581463098526, 0.0, 0.1592487245798111, 0.0, 0.1055234745144844, 0.059581972658634186, 0.0, 0.1497793197631836, 0.07032154500484467, 0.0, 0.10109743475914001, 0.0, 0.0, 0.0, 0.0, 0.0, 0.0, 0.0, 0.11361673474311829, 0.0, 0.0, 0.0, 0.09224706143140793, 0.2049531638622284, 0.0, 0.0, 0.0, 0.11741948872804642, 0.0, 0.0004655775846913457, 0.0, 0.0, 0.0, 0.0, 0.0, 0.0, 0.0, 0.0, 0.0, 0.0, 0.0, 0.0, 0.042575541883707047, 0.0, 0.0, 0.9192661643028259, 0.0, 0.0, 0.0, 0.0, 0.0653487965464592]</td>\n",
       "      <td>American Vampire Anthology (Vertigo)</td>\n",
       "      <td>https://comrx.s3-us-west-2.amazonaws.com/covers/american_vampire_anthology.jpg</td>\n",
       "      <td>https://comrx.s3-us-west-2.amazonaws.com/covers_large/american_vampire_anthology.jpg</td>\n",
       "    </tr>\n",
       "  </tbody>\n",
       "</table>\n",
       "</div>"
      ],
      "text/plain": [
       "                                                                                                                                                                                                                                                                                                                                                                                                                                                                                                                                                                                                                                                                                                                                                                                                                                                                                                                                                                                                                                                                                                              features  \\\n",
       "comic_id                                                                                                                                                                                                                                                                                                                                                                                                                                                                                                                                                                                                                                                                                                                                                                                                                                                                                                                                                                                                                                                                                                                 \n",
       "60        [0.0, 0.0, 0.0, 0.0826452448964119, 0.0, 0.0, 0.0, 0.0, 0.039434973150491714, 0.0, 0.0, 0.0, 0.0, 0.0, 0.0, 0.9948146939277649, 0.0, 0.0, 0.2473047822713852, 0.02167966403067112, 0.0, 0.0, 0.0, 0.0, 0.0, 0.0, 0.0, 0.059246089309453964, 0.03268354758620262, 0.0, 0.10995704680681229, 0.0, 0.07982633262872696, 0.0, 0.0, 0.0, 0.0, 0.0, 0.0, 0.0, 0.0, 0.0, 0.0, 0.0, 0.015057926997542381, 0.011894325725734234, 0.0, 0.0, 0.0, 0.0, 0.0, 0.06303215771913528, 0.0, 0.0, 0.0, 0.0, 0.0, 0.033097922801971436, 0.031103042885661125, 0.028060728684067726, 0.01773754693567753, 0.0, 0.0, 0.0, 0.0, 0.0, 0.0, 0.0, 0.0, 0.0, 0.0, 0.0, 0.0, 0.19910746812820435, 0.0]                                                                                                                                                                                                                                                                                                                                                                                                                                    \n",
       "80        [0.0, 0.0, 0.0, 0.0033040973357856274, 0.0, 0.0, 0.0, 0.0, 0.009639354422688484, 0.0, 0.0, 0.0, 0.0, 0.0, 0.0, 0.01085046399384737, 0.0, 0.0, 0.0, 0.0, 0.0, 0.4813947081565857, 0.0, 0.0, 0.0, 0.0, 0.0, 0.0, 0.0, 0.024865329265594482, 0.0, 0.0, 0.0, 0.0, 0.33433255553245544, 0.14560888707637787, 0.0, 0.0, 0.0, 0.0, 0.0, 0.0, 0.0, 0.0, 0.6264654994010925, 0.0, 0.0, 0.0, 0.0, 0.0, 0.0, 0.0, 0.0, 0.0, 0.0, 0.1923040896654129, 0.0, 0.0, 0.06339741498231888, 0.0, 0.0, 0.005075078923255205, 0.0, 0.0, 0.0, 0.0, 0.0, 0.128806933760643, 0.0, 0.0, 0.05120192840695381, 0.0, 0.0, 0.02547549456357956, 0.0]                                                                                                                                                                                                                                                                                                                                                                                                                                                                                        \n",
       "110       [0.0, 0.009681249968707561, 0.3157486915588379, 0.035485029220581055, 0.08428007364273071, 0.05139074847102165, 0.010632488876581192, 0.010384040884673595, 0.0, 0.004306851886212826, 0.1360526829957962, 0.0, 0.0, 0.0, 0.0, 0.11445901542901993, 0.0, 0.02609862945973873, 0.08677253127098083, 0.0, 0.1700509786605835, 0.01852649636566639, 0.01742601953446865, 0.0, 0.052328720688819885, 0.0, 0.08754375576972961, 0.0, 0.0, 0.05530954897403717, 0.0, 0.0, 0.0, 0.0, 0.0, 0.0, 0.10496184229850769, 0.022573139518499374, 0.0, 0.06583559513092041, 0.09494148939847946, 0.0, 0.0831538662314415, 0.0, 0.03067944385111332, 0.036219604313373566, 0.016076000407338142, 0.07238824665546417, 0.0, 0.031701963394880295, 0.012026206590235233, 0.0, 0.0, 0.0, 0.0, 0.0, 0.06698817759752274, 0.3719470500946045, 0.0, 0.0, 0.03545656055212021, 0.0, 0.0, 0.0, 0.0, 0.0, 0.06538882851600647, 0.10146535187959671, 1.110505223274231, 0.0, 0.07677265256643295, 0.0401727668941021, 0.028192708268761635, 0.0, 0.0]                                                                                    \n",
       "200       [0.0, 0.0, 0.0008219783194363117, 0.05931999906897545, 0.0017522152047604322, 0.060892585664987564, 0.0, 0.5071122050285339, 0.1063532903790474, 0.005306006409227848, 0.005510434973984957, 0.0, 0.014103081077337265, 0.0, 0.0, 0.0897526741027832, 0.1523221731185913, 0.0, 0.11788218468427658, 0.0, 0.0, 0.10728922486305237, 0.010851364582777023, 0.011304203420877457, 0.0, 0.0, 0.027045346796512604, 0.02051759511232376, 0.11239876598119736, 0.004266583826392889, 0.06424926221370697, 0.011516495607793331, 0.06823383271694183, 0.0, 0.0, 0.07253396511077881, 0.0, 0.0, 0.0, 0.0, 0.0, 0.0, 0.1502048820257187, 0.10489537566900253, 0.09956609457731247, 0.0, 0.0, 0.010047723539173603, 0.08179843425750732, 0.0, 0.13192865252494812, 0.016740024089813232, 0.0, 0.07769604027271271, 0.1828979104757309, 0.0, 0.0, 0.0, 0.0, 0.2341715395450592, 0.002455874113366008, 0.5527805685997009, 0.03604438528418541, 0.11876046657562256, 0.0, 0.0, 0.584153950214386, 0.0851968452334404, 0.03369034081697464, 0.06624818593263626, 0.0, 0.0, 0.05054672062397003, 0.05392900109291077, 0.0]   \n",
       "240       [0.0, 0.2235216647386551, 0.0, 0.0, 0.0, 0.0, 0.0, 0.07523377239704132, 0.15706036984920502, 0.02980225533246994, 0.0, 0.0, 0.0, 0.03824526444077492, 0.0, 0.0, 0.0, 0.0, 0.0, 0.0, 0.0, 0.17709434032440186, 0.0, 0.0, 0.098581463098526, 0.0, 0.1592487245798111, 0.0, 0.1055234745144844, 0.059581972658634186, 0.0, 0.1497793197631836, 0.07032154500484467, 0.0, 0.10109743475914001, 0.0, 0.0, 0.0, 0.0, 0.0, 0.0, 0.0, 0.11361673474311829, 0.0, 0.0, 0.0, 0.09224706143140793, 0.2049531638622284, 0.0, 0.0, 0.0, 0.11741948872804642, 0.0, 0.0004655775846913457, 0.0, 0.0, 0.0, 0.0, 0.0, 0.0, 0.0, 0.0, 0.0, 0.0, 0.0, 0.0, 0.042575541883707047, 0.0, 0.0, 0.9192661643028259, 0.0, 0.0, 0.0, 0.0, 0.0653487965464592]                                                                                                                                                                                                                                                                                                                                                                             \n",
       "\n",
       "                                   comic_title  \\\n",
       "comic_id                                         \n",
       "60        8house (Image)                         \n",
       "80        Action Comics Annual (DC)              \n",
       "110       Adventure Time (Boom)                  \n",
       "200       All Star Batman (DC)                   \n",
       "240       American Vampire Anthology (Vertigo)   \n",
       "\n",
       "                                                                                 img_url  \\\n",
       "comic_id                                                                                   \n",
       "60        https://comrx.s3-us-west-2.amazonaws.com/covers/8house.jpg                       \n",
       "80        https://comrx.s3-us-west-2.amazonaws.com/covers/_no_cover_.jpg                   \n",
       "110       https://comrx.s3-us-west-2.amazonaws.com/covers/adventure_time.jpg               \n",
       "200       https://comrx.s3-us-west-2.amazonaws.com/covers/all_star_batman.jpg              \n",
       "240       https://comrx.s3-us-west-2.amazonaws.com/covers/american_vampire_anthology.jpg   \n",
       "\n",
       "                                                                                   lrg_img_url  \n",
       "comic_id                                                                                        \n",
       "60        https://comrx.s3-us-west-2.amazonaws.com/covers_large/8house.jpg                      \n",
       "80        https://comrx.s3-us-west-2.amazonaws.com/covers_large/_no_cover_.jpg                  \n",
       "110       https://comrx.s3-us-west-2.amazonaws.com/covers_large/adventure_time.jpg              \n",
       "200       https://comrx.s3-us-west-2.amazonaws.com/covers_large/all_star_batman.jpg             \n",
       "240       https://comrx.s3-us-west-2.amazonaws.com/covers_large/american_vampire_anthology.jpg  "
      ]
     },
     "execution_count": 22,
     "metadata": {},
     "output_type": "execute_result"
    }
   ],
   "source": [
    "combo.head()"
   ]
  },
  {
   "cell_type": "code",
   "execution_count": 23,
   "metadata": {},
   "outputs": [
    {
     "data": {
      "text/html": [
       "<div>\n",
       "<style scoped>\n",
       "    .dataframe tbody tr th:only-of-type {\n",
       "        vertical-align: middle;\n",
       "    }\n",
       "\n",
       "    .dataframe tbody tr th {\n",
       "        vertical-align: top;\n",
       "    }\n",
       "\n",
       "    .dataframe thead th {\n",
       "        text-align: right;\n",
       "    }\n",
       "</style>\n",
       "<table border=\"1\" class=\"dataframe\">\n",
       "  <thead>\n",
       "    <tr style=\"text-align: right;\">\n",
       "      <th></th>\n",
       "      <th>comic_id</th>\n",
       "      <th>comic_title</th>\n",
       "      <th>img_url</th>\n",
       "      <th>lrg_img_url</th>\n",
       "    </tr>\n",
       "  </thead>\n",
       "  <tbody>\n",
       "    <tr>\n",
       "      <td>105</td>\n",
       "      <td>20</td>\n",
       "      <td>1 For $1 Conan the Barbarian (Dark Horse)</td>\n",
       "      <td>https://comrx.s3-us-west-2.amazonaws.com/covers/_no_cover_.jpg</td>\n",
       "      <td>https://comrx.s3-us-west-2.amazonaws.com/covers_large/_no_cover_.jpg</td>\n",
       "    </tr>\n",
       "  </tbody>\n",
       "</table>\n",
       "</div>"
      ],
      "text/plain": [
       "     comic_id                                comic_title  \\\n",
       "105  20        1 For $1 Conan the Barbarian (Dark Horse)   \n",
       "\n",
       "                                                            img_url  \\\n",
       "105  https://comrx.s3-us-west-2.amazonaws.com/covers/_no_cover_.jpg   \n",
       "\n",
       "                                                              lrg_img_url  \n",
       "105  https://comrx.s3-us-west-2.amazonaws.com/covers_large/_no_cover_.jpg  "
      ]
     },
     "execution_count": 23,
     "metadata": {},
     "output_type": "execute_result"
    }
   ],
   "source": [
    "comics_pdf.loc[comics_pdf['comic_id']==20]"
   ]
  },
  {
   "cell_type": "code",
   "execution_count": 24,
   "metadata": {},
   "outputs": [
    {
     "data": {
      "text/plain": [
       "(790, 4)"
      ]
     },
     "execution_count": 24,
     "metadata": {},
     "output_type": "execute_result"
    }
   ],
   "source": [
    "combo.shape"
   ]
  },
  {
   "cell_type": "code",
   "execution_count": 25,
   "metadata": {},
   "outputs": [],
   "source": [
    "combo.drop(['img_url'], axis=1, inplace=True)"
   ]
  },
  {
   "cell_type": "code",
   "execution_count": 26,
   "metadata": {},
   "outputs": [
    {
     "data": {
      "text/plain": [
       "(790, 3)"
      ]
     },
     "execution_count": 26,
     "metadata": {},
     "output_type": "execute_result"
    }
   ],
   "source": [
    "combo.shape"
   ]
  },
  {
   "cell_type": "code",
   "execution_count": 27,
   "metadata": {},
   "outputs": [
    {
     "data": {
      "text/html": [
       "<div>\n",
       "<style scoped>\n",
       "    .dataframe tbody tr th:only-of-type {\n",
       "        vertical-align: middle;\n",
       "    }\n",
       "\n",
       "    .dataframe tbody tr th {\n",
       "        vertical-align: top;\n",
       "    }\n",
       "\n",
       "    .dataframe thead th {\n",
       "        text-align: right;\n",
       "    }\n",
       "</style>\n",
       "<table border=\"1\" class=\"dataframe\">\n",
       "  <thead>\n",
       "    <tr style=\"text-align: right;\">\n",
       "      <th></th>\n",
       "      <th>features</th>\n",
       "      <th>comic_title</th>\n",
       "      <th>lrg_img_url</th>\n",
       "    </tr>\n",
       "    <tr>\n",
       "      <th>comic_id</th>\n",
       "      <th></th>\n",
       "      <th></th>\n",
       "      <th></th>\n",
       "    </tr>\n",
       "  </thead>\n",
       "  <tbody>\n",
       "    <tr>\n",
       "      <td>60</td>\n",
       "      <td>[0.0, 0.0, 0.0, 0.0826452448964119, 0.0, 0.0, 0.0, 0.0, 0.039434973150491714, 0.0, 0.0, 0.0, 0.0, 0.0, 0.0, 0.9948146939277649, 0.0, 0.0, 0.2473047822713852, 0.02167966403067112, 0.0, 0.0, 0.0, 0.0, 0.0, 0.0, 0.0, 0.059246089309453964, 0.03268354758620262, 0.0, 0.10995704680681229, 0.0, 0.07982633262872696, 0.0, 0.0, 0.0, 0.0, 0.0, 0.0, 0.0, 0.0, 0.0, 0.0, 0.0, 0.015057926997542381, 0.011894325725734234, 0.0, 0.0, 0.0, 0.0, 0.0, 0.06303215771913528, 0.0, 0.0, 0.0, 0.0, 0.0, 0.033097922801971436, 0.031103042885661125, 0.028060728684067726, 0.01773754693567753, 0.0, 0.0, 0.0, 0.0, 0.0, 0.0, 0.0, 0.0, 0.0, 0.0, 0.0, 0.0, 0.19910746812820435, 0.0]</td>\n",
       "      <td>8house (Image)</td>\n",
       "      <td>https://comrx.s3-us-west-2.amazonaws.com/covers_large/8house.jpg</td>\n",
       "    </tr>\n",
       "    <tr>\n",
       "      <td>80</td>\n",
       "      <td>[0.0, 0.0, 0.0, 0.0033040973357856274, 0.0, 0.0, 0.0, 0.0, 0.009639354422688484, 0.0, 0.0, 0.0, 0.0, 0.0, 0.0, 0.01085046399384737, 0.0, 0.0, 0.0, 0.0, 0.0, 0.4813947081565857, 0.0, 0.0, 0.0, 0.0, 0.0, 0.0, 0.0, 0.024865329265594482, 0.0, 0.0, 0.0, 0.0, 0.33433255553245544, 0.14560888707637787, 0.0, 0.0, 0.0, 0.0, 0.0, 0.0, 0.0, 0.0, 0.6264654994010925, 0.0, 0.0, 0.0, 0.0, 0.0, 0.0, 0.0, 0.0, 0.0, 0.0, 0.1923040896654129, 0.0, 0.0, 0.06339741498231888, 0.0, 0.0, 0.005075078923255205, 0.0, 0.0, 0.0, 0.0, 0.0, 0.128806933760643, 0.0, 0.0, 0.05120192840695381, 0.0, 0.0, 0.02547549456357956, 0.0]</td>\n",
       "      <td>Action Comics Annual (DC)</td>\n",
       "      <td>https://comrx.s3-us-west-2.amazonaws.com/covers_large/_no_cover_.jpg</td>\n",
       "    </tr>\n",
       "    <tr>\n",
       "      <td>110</td>\n",
       "      <td>[0.0, 0.009681249968707561, 0.3157486915588379, 0.035485029220581055, 0.08428007364273071, 0.05139074847102165, 0.010632488876581192, 0.010384040884673595, 0.0, 0.004306851886212826, 0.1360526829957962, 0.0, 0.0, 0.0, 0.0, 0.11445901542901993, 0.0, 0.02609862945973873, 0.08677253127098083, 0.0, 0.1700509786605835, 0.01852649636566639, 0.01742601953446865, 0.0, 0.052328720688819885, 0.0, 0.08754375576972961, 0.0, 0.0, 0.05530954897403717, 0.0, 0.0, 0.0, 0.0, 0.0, 0.0, 0.10496184229850769, 0.022573139518499374, 0.0, 0.06583559513092041, 0.09494148939847946, 0.0, 0.0831538662314415, 0.0, 0.03067944385111332, 0.036219604313373566, 0.016076000407338142, 0.07238824665546417, 0.0, 0.031701963394880295, 0.012026206590235233, 0.0, 0.0, 0.0, 0.0, 0.0, 0.06698817759752274, 0.3719470500946045, 0.0, 0.0, 0.03545656055212021, 0.0, 0.0, 0.0, 0.0, 0.0, 0.06538882851600647, 0.10146535187959671, 1.110505223274231, 0.0, 0.07677265256643295, 0.0401727668941021, 0.028192708268761635, 0.0, 0.0]</td>\n",
       "      <td>Adventure Time (Boom)</td>\n",
       "      <td>https://comrx.s3-us-west-2.amazonaws.com/covers_large/adventure_time.jpg</td>\n",
       "    </tr>\n",
       "    <tr>\n",
       "      <td>200</td>\n",
       "      <td>[0.0, 0.0, 0.0008219783194363117, 0.05931999906897545, 0.0017522152047604322, 0.060892585664987564, 0.0, 0.5071122050285339, 0.1063532903790474, 0.005306006409227848, 0.005510434973984957, 0.0, 0.014103081077337265, 0.0, 0.0, 0.0897526741027832, 0.1523221731185913, 0.0, 0.11788218468427658, 0.0, 0.0, 0.10728922486305237, 0.010851364582777023, 0.011304203420877457, 0.0, 0.0, 0.027045346796512604, 0.02051759511232376, 0.11239876598119736, 0.004266583826392889, 0.06424926221370697, 0.011516495607793331, 0.06823383271694183, 0.0, 0.0, 0.07253396511077881, 0.0, 0.0, 0.0, 0.0, 0.0, 0.0, 0.1502048820257187, 0.10489537566900253, 0.09956609457731247, 0.0, 0.0, 0.010047723539173603, 0.08179843425750732, 0.0, 0.13192865252494812, 0.016740024089813232, 0.0, 0.07769604027271271, 0.1828979104757309, 0.0, 0.0, 0.0, 0.0, 0.2341715395450592, 0.002455874113366008, 0.5527805685997009, 0.03604438528418541, 0.11876046657562256, 0.0, 0.0, 0.584153950214386, 0.0851968452334404, 0.03369034081697464, 0.06624818593263626, 0.0, 0.0, 0.05054672062397003, 0.05392900109291077, 0.0]</td>\n",
       "      <td>All Star Batman (DC)</td>\n",
       "      <td>https://comrx.s3-us-west-2.amazonaws.com/covers_large/all_star_batman.jpg</td>\n",
       "    </tr>\n",
       "    <tr>\n",
       "      <td>240</td>\n",
       "      <td>[0.0, 0.2235216647386551, 0.0, 0.0, 0.0, 0.0, 0.0, 0.07523377239704132, 0.15706036984920502, 0.02980225533246994, 0.0, 0.0, 0.0, 0.03824526444077492, 0.0, 0.0, 0.0, 0.0, 0.0, 0.0, 0.0, 0.17709434032440186, 0.0, 0.0, 0.098581463098526, 0.0, 0.1592487245798111, 0.0, 0.1055234745144844, 0.059581972658634186, 0.0, 0.1497793197631836, 0.07032154500484467, 0.0, 0.10109743475914001, 0.0, 0.0, 0.0, 0.0, 0.0, 0.0, 0.0, 0.11361673474311829, 0.0, 0.0, 0.0, 0.09224706143140793, 0.2049531638622284, 0.0, 0.0, 0.0, 0.11741948872804642, 0.0, 0.0004655775846913457, 0.0, 0.0, 0.0, 0.0, 0.0, 0.0, 0.0, 0.0, 0.0, 0.0, 0.0, 0.0, 0.042575541883707047, 0.0, 0.0, 0.9192661643028259, 0.0, 0.0, 0.0, 0.0, 0.0653487965464592]</td>\n",
       "      <td>American Vampire Anthology (Vertigo)</td>\n",
       "      <td>https://comrx.s3-us-west-2.amazonaws.com/covers_large/american_vampire_anthology.jpg</td>\n",
       "    </tr>\n",
       "  </tbody>\n",
       "</table>\n",
       "</div>"
      ],
      "text/plain": [
       "                                                                                                                                                                                                                                                                                                                                                                                                                                                                                                                                                                                                                                                                                                                                                                                                                                                                                                                                                                                                                                                                                                              features  \\\n",
       "comic_id                                                                                                                                                                                                                                                                                                                                                                                                                                                                                                                                                                                                                                                                                                                                                                                                                                                                                                                                                                                                                                                                                                                 \n",
       "60        [0.0, 0.0, 0.0, 0.0826452448964119, 0.0, 0.0, 0.0, 0.0, 0.039434973150491714, 0.0, 0.0, 0.0, 0.0, 0.0, 0.0, 0.9948146939277649, 0.0, 0.0, 0.2473047822713852, 0.02167966403067112, 0.0, 0.0, 0.0, 0.0, 0.0, 0.0, 0.0, 0.059246089309453964, 0.03268354758620262, 0.0, 0.10995704680681229, 0.0, 0.07982633262872696, 0.0, 0.0, 0.0, 0.0, 0.0, 0.0, 0.0, 0.0, 0.0, 0.0, 0.0, 0.015057926997542381, 0.011894325725734234, 0.0, 0.0, 0.0, 0.0, 0.0, 0.06303215771913528, 0.0, 0.0, 0.0, 0.0, 0.0, 0.033097922801971436, 0.031103042885661125, 0.028060728684067726, 0.01773754693567753, 0.0, 0.0, 0.0, 0.0, 0.0, 0.0, 0.0, 0.0, 0.0, 0.0, 0.0, 0.0, 0.19910746812820435, 0.0]                                                                                                                                                                                                                                                                                                                                                                                                                                    \n",
       "80        [0.0, 0.0, 0.0, 0.0033040973357856274, 0.0, 0.0, 0.0, 0.0, 0.009639354422688484, 0.0, 0.0, 0.0, 0.0, 0.0, 0.0, 0.01085046399384737, 0.0, 0.0, 0.0, 0.0, 0.0, 0.4813947081565857, 0.0, 0.0, 0.0, 0.0, 0.0, 0.0, 0.0, 0.024865329265594482, 0.0, 0.0, 0.0, 0.0, 0.33433255553245544, 0.14560888707637787, 0.0, 0.0, 0.0, 0.0, 0.0, 0.0, 0.0, 0.0, 0.6264654994010925, 0.0, 0.0, 0.0, 0.0, 0.0, 0.0, 0.0, 0.0, 0.0, 0.0, 0.1923040896654129, 0.0, 0.0, 0.06339741498231888, 0.0, 0.0, 0.005075078923255205, 0.0, 0.0, 0.0, 0.0, 0.0, 0.128806933760643, 0.0, 0.0, 0.05120192840695381, 0.0, 0.0, 0.02547549456357956, 0.0]                                                                                                                                                                                                                                                                                                                                                                                                                                                                                        \n",
       "110       [0.0, 0.009681249968707561, 0.3157486915588379, 0.035485029220581055, 0.08428007364273071, 0.05139074847102165, 0.010632488876581192, 0.010384040884673595, 0.0, 0.004306851886212826, 0.1360526829957962, 0.0, 0.0, 0.0, 0.0, 0.11445901542901993, 0.0, 0.02609862945973873, 0.08677253127098083, 0.0, 0.1700509786605835, 0.01852649636566639, 0.01742601953446865, 0.0, 0.052328720688819885, 0.0, 0.08754375576972961, 0.0, 0.0, 0.05530954897403717, 0.0, 0.0, 0.0, 0.0, 0.0, 0.0, 0.10496184229850769, 0.022573139518499374, 0.0, 0.06583559513092041, 0.09494148939847946, 0.0, 0.0831538662314415, 0.0, 0.03067944385111332, 0.036219604313373566, 0.016076000407338142, 0.07238824665546417, 0.0, 0.031701963394880295, 0.012026206590235233, 0.0, 0.0, 0.0, 0.0, 0.0, 0.06698817759752274, 0.3719470500946045, 0.0, 0.0, 0.03545656055212021, 0.0, 0.0, 0.0, 0.0, 0.0, 0.06538882851600647, 0.10146535187959671, 1.110505223274231, 0.0, 0.07677265256643295, 0.0401727668941021, 0.028192708268761635, 0.0, 0.0]                                                                                    \n",
       "200       [0.0, 0.0, 0.0008219783194363117, 0.05931999906897545, 0.0017522152047604322, 0.060892585664987564, 0.0, 0.5071122050285339, 0.1063532903790474, 0.005306006409227848, 0.005510434973984957, 0.0, 0.014103081077337265, 0.0, 0.0, 0.0897526741027832, 0.1523221731185913, 0.0, 0.11788218468427658, 0.0, 0.0, 0.10728922486305237, 0.010851364582777023, 0.011304203420877457, 0.0, 0.0, 0.027045346796512604, 0.02051759511232376, 0.11239876598119736, 0.004266583826392889, 0.06424926221370697, 0.011516495607793331, 0.06823383271694183, 0.0, 0.0, 0.07253396511077881, 0.0, 0.0, 0.0, 0.0, 0.0, 0.0, 0.1502048820257187, 0.10489537566900253, 0.09956609457731247, 0.0, 0.0, 0.010047723539173603, 0.08179843425750732, 0.0, 0.13192865252494812, 0.016740024089813232, 0.0, 0.07769604027271271, 0.1828979104757309, 0.0, 0.0, 0.0, 0.0, 0.2341715395450592, 0.002455874113366008, 0.5527805685997009, 0.03604438528418541, 0.11876046657562256, 0.0, 0.0, 0.584153950214386, 0.0851968452334404, 0.03369034081697464, 0.06624818593263626, 0.0, 0.0, 0.05054672062397003, 0.05392900109291077, 0.0]   \n",
       "240       [0.0, 0.2235216647386551, 0.0, 0.0, 0.0, 0.0, 0.0, 0.07523377239704132, 0.15706036984920502, 0.02980225533246994, 0.0, 0.0, 0.0, 0.03824526444077492, 0.0, 0.0, 0.0, 0.0, 0.0, 0.0, 0.0, 0.17709434032440186, 0.0, 0.0, 0.098581463098526, 0.0, 0.1592487245798111, 0.0, 0.1055234745144844, 0.059581972658634186, 0.0, 0.1497793197631836, 0.07032154500484467, 0.0, 0.10109743475914001, 0.0, 0.0, 0.0, 0.0, 0.0, 0.0, 0.0, 0.11361673474311829, 0.0, 0.0, 0.0, 0.09224706143140793, 0.2049531638622284, 0.0, 0.0, 0.0, 0.11741948872804642, 0.0, 0.0004655775846913457, 0.0, 0.0, 0.0, 0.0, 0.0, 0.0, 0.0, 0.0, 0.0, 0.0, 0.0, 0.0, 0.042575541883707047, 0.0, 0.0, 0.9192661643028259, 0.0, 0.0, 0.0, 0.0, 0.0653487965464592]                                                                                                                                                                                                                                                                                                                                                                             \n",
       "\n",
       "                                   comic_title  \\\n",
       "comic_id                                         \n",
       "60        8house (Image)                         \n",
       "80        Action Comics Annual (DC)              \n",
       "110       Adventure Time (Boom)                  \n",
       "200       All Star Batman (DC)                   \n",
       "240       American Vampire Anthology (Vertigo)   \n",
       "\n",
       "                                                                                   lrg_img_url  \n",
       "comic_id                                                                                        \n",
       "60        https://comrx.s3-us-west-2.amazonaws.com/covers_large/8house.jpg                      \n",
       "80        https://comrx.s3-us-west-2.amazonaws.com/covers_large/_no_cover_.jpg                  \n",
       "110       https://comrx.s3-us-west-2.amazonaws.com/covers_large/adventure_time.jpg              \n",
       "200       https://comrx.s3-us-west-2.amazonaws.com/covers_large/all_star_batman.jpg             \n",
       "240       https://comrx.s3-us-west-2.amazonaws.com/covers_large/american_vampire_anthology.jpg  "
      ]
     },
     "execution_count": 27,
     "metadata": {},
     "output_type": "execute_result"
    }
   ],
   "source": [
    "combo.head()"
   ]
  },
  {
   "cell_type": "code",
   "execution_count": 28,
   "metadata": {},
   "outputs": [],
   "source": [
    "combo.columns = ['features', 'comic_title', 'img_url']"
   ]
  },
  {
   "cell_type": "code",
   "execution_count": 29,
   "metadata": {},
   "outputs": [
    {
     "data": {
      "text/html": [
       "<div>\n",
       "<style scoped>\n",
       "    .dataframe tbody tr th:only-of-type {\n",
       "        vertical-align: middle;\n",
       "    }\n",
       "\n",
       "    .dataframe tbody tr th {\n",
       "        vertical-align: top;\n",
       "    }\n",
       "\n",
       "    .dataframe thead th {\n",
       "        text-align: right;\n",
       "    }\n",
       "</style>\n",
       "<table border=\"1\" class=\"dataframe\">\n",
       "  <thead>\n",
       "    <tr style=\"text-align: right;\">\n",
       "      <th></th>\n",
       "      <th>features</th>\n",
       "      <th>comic_title</th>\n",
       "      <th>img_url</th>\n",
       "    </tr>\n",
       "    <tr>\n",
       "      <th>comic_id</th>\n",
       "      <th></th>\n",
       "      <th></th>\n",
       "      <th></th>\n",
       "    </tr>\n",
       "  </thead>\n",
       "  <tbody>\n",
       "    <tr>\n",
       "      <td>60</td>\n",
       "      <td>[0.0, 0.0, 0.0, 0.0826452448964119, 0.0, 0.0, 0.0, 0.0, 0.039434973150491714, 0.0, 0.0, 0.0, 0.0, 0.0, 0.0, 0.9948146939277649, 0.0, 0.0, 0.2473047822713852, 0.02167966403067112, 0.0, 0.0, 0.0, 0.0, 0.0, 0.0, 0.0, 0.059246089309453964, 0.03268354758620262, 0.0, 0.10995704680681229, 0.0, 0.07982633262872696, 0.0, 0.0, 0.0, 0.0, 0.0, 0.0, 0.0, 0.0, 0.0, 0.0, 0.0, 0.015057926997542381, 0.011894325725734234, 0.0, 0.0, 0.0, 0.0, 0.0, 0.06303215771913528, 0.0, 0.0, 0.0, 0.0, 0.0, 0.033097922801971436, 0.031103042885661125, 0.028060728684067726, 0.01773754693567753, 0.0, 0.0, 0.0, 0.0, 0.0, 0.0, 0.0, 0.0, 0.0, 0.0, 0.0, 0.0, 0.19910746812820435, 0.0]</td>\n",
       "      <td>8house (Image)</td>\n",
       "      <td>https://comrx.s3-us-west-2.amazonaws.com/covers_large/8house.jpg</td>\n",
       "    </tr>\n",
       "    <tr>\n",
       "      <td>80</td>\n",
       "      <td>[0.0, 0.0, 0.0, 0.0033040973357856274, 0.0, 0.0, 0.0, 0.0, 0.009639354422688484, 0.0, 0.0, 0.0, 0.0, 0.0, 0.0, 0.01085046399384737, 0.0, 0.0, 0.0, 0.0, 0.0, 0.4813947081565857, 0.0, 0.0, 0.0, 0.0, 0.0, 0.0, 0.0, 0.024865329265594482, 0.0, 0.0, 0.0, 0.0, 0.33433255553245544, 0.14560888707637787, 0.0, 0.0, 0.0, 0.0, 0.0, 0.0, 0.0, 0.0, 0.6264654994010925, 0.0, 0.0, 0.0, 0.0, 0.0, 0.0, 0.0, 0.0, 0.0, 0.0, 0.1923040896654129, 0.0, 0.0, 0.06339741498231888, 0.0, 0.0, 0.005075078923255205, 0.0, 0.0, 0.0, 0.0, 0.0, 0.128806933760643, 0.0, 0.0, 0.05120192840695381, 0.0, 0.0, 0.02547549456357956, 0.0]</td>\n",
       "      <td>Action Comics Annual (DC)</td>\n",
       "      <td>https://comrx.s3-us-west-2.amazonaws.com/covers_large/_no_cover_.jpg</td>\n",
       "    </tr>\n",
       "    <tr>\n",
       "      <td>110</td>\n",
       "      <td>[0.0, 0.009681249968707561, 0.3157486915588379, 0.035485029220581055, 0.08428007364273071, 0.05139074847102165, 0.010632488876581192, 0.010384040884673595, 0.0, 0.004306851886212826, 0.1360526829957962, 0.0, 0.0, 0.0, 0.0, 0.11445901542901993, 0.0, 0.02609862945973873, 0.08677253127098083, 0.0, 0.1700509786605835, 0.01852649636566639, 0.01742601953446865, 0.0, 0.052328720688819885, 0.0, 0.08754375576972961, 0.0, 0.0, 0.05530954897403717, 0.0, 0.0, 0.0, 0.0, 0.0, 0.0, 0.10496184229850769, 0.022573139518499374, 0.0, 0.06583559513092041, 0.09494148939847946, 0.0, 0.0831538662314415, 0.0, 0.03067944385111332, 0.036219604313373566, 0.016076000407338142, 0.07238824665546417, 0.0, 0.031701963394880295, 0.012026206590235233, 0.0, 0.0, 0.0, 0.0, 0.0, 0.06698817759752274, 0.3719470500946045, 0.0, 0.0, 0.03545656055212021, 0.0, 0.0, 0.0, 0.0, 0.0, 0.06538882851600647, 0.10146535187959671, 1.110505223274231, 0.0, 0.07677265256643295, 0.0401727668941021, 0.028192708268761635, 0.0, 0.0]</td>\n",
       "      <td>Adventure Time (Boom)</td>\n",
       "      <td>https://comrx.s3-us-west-2.amazonaws.com/covers_large/adventure_time.jpg</td>\n",
       "    </tr>\n",
       "    <tr>\n",
       "      <td>200</td>\n",
       "      <td>[0.0, 0.0, 0.0008219783194363117, 0.05931999906897545, 0.0017522152047604322, 0.060892585664987564, 0.0, 0.5071122050285339, 0.1063532903790474, 0.005306006409227848, 0.005510434973984957, 0.0, 0.014103081077337265, 0.0, 0.0, 0.0897526741027832, 0.1523221731185913, 0.0, 0.11788218468427658, 0.0, 0.0, 0.10728922486305237, 0.010851364582777023, 0.011304203420877457, 0.0, 0.0, 0.027045346796512604, 0.02051759511232376, 0.11239876598119736, 0.004266583826392889, 0.06424926221370697, 0.011516495607793331, 0.06823383271694183, 0.0, 0.0, 0.07253396511077881, 0.0, 0.0, 0.0, 0.0, 0.0, 0.0, 0.1502048820257187, 0.10489537566900253, 0.09956609457731247, 0.0, 0.0, 0.010047723539173603, 0.08179843425750732, 0.0, 0.13192865252494812, 0.016740024089813232, 0.0, 0.07769604027271271, 0.1828979104757309, 0.0, 0.0, 0.0, 0.0, 0.2341715395450592, 0.002455874113366008, 0.5527805685997009, 0.03604438528418541, 0.11876046657562256, 0.0, 0.0, 0.584153950214386, 0.0851968452334404, 0.03369034081697464, 0.06624818593263626, 0.0, 0.0, 0.05054672062397003, 0.05392900109291077, 0.0]</td>\n",
       "      <td>All Star Batman (DC)</td>\n",
       "      <td>https://comrx.s3-us-west-2.amazonaws.com/covers_large/all_star_batman.jpg</td>\n",
       "    </tr>\n",
       "    <tr>\n",
       "      <td>240</td>\n",
       "      <td>[0.0, 0.2235216647386551, 0.0, 0.0, 0.0, 0.0, 0.0, 0.07523377239704132, 0.15706036984920502, 0.02980225533246994, 0.0, 0.0, 0.0, 0.03824526444077492, 0.0, 0.0, 0.0, 0.0, 0.0, 0.0, 0.0, 0.17709434032440186, 0.0, 0.0, 0.098581463098526, 0.0, 0.1592487245798111, 0.0, 0.1055234745144844, 0.059581972658634186, 0.0, 0.1497793197631836, 0.07032154500484467, 0.0, 0.10109743475914001, 0.0, 0.0, 0.0, 0.0, 0.0, 0.0, 0.0, 0.11361673474311829, 0.0, 0.0, 0.0, 0.09224706143140793, 0.2049531638622284, 0.0, 0.0, 0.0, 0.11741948872804642, 0.0, 0.0004655775846913457, 0.0, 0.0, 0.0, 0.0, 0.0, 0.0, 0.0, 0.0, 0.0, 0.0, 0.0, 0.0, 0.042575541883707047, 0.0, 0.0, 0.9192661643028259, 0.0, 0.0, 0.0, 0.0, 0.0653487965464592]</td>\n",
       "      <td>American Vampire Anthology (Vertigo)</td>\n",
       "      <td>https://comrx.s3-us-west-2.amazonaws.com/covers_large/american_vampire_anthology.jpg</td>\n",
       "    </tr>\n",
       "  </tbody>\n",
       "</table>\n",
       "</div>"
      ],
      "text/plain": [
       "                                                                                                                                                                                                                                                                                                                                                                                                                                                                                                                                                                                                                                                                                                                                                                                                                                                                                                                                                                                                                                                                                                              features  \\\n",
       "comic_id                                                                                                                                                                                                                                                                                                                                                                                                                                                                                                                                                                                                                                                                                                                                                                                                                                                                                                                                                                                                                                                                                                                 \n",
       "60        [0.0, 0.0, 0.0, 0.0826452448964119, 0.0, 0.0, 0.0, 0.0, 0.039434973150491714, 0.0, 0.0, 0.0, 0.0, 0.0, 0.0, 0.9948146939277649, 0.0, 0.0, 0.2473047822713852, 0.02167966403067112, 0.0, 0.0, 0.0, 0.0, 0.0, 0.0, 0.0, 0.059246089309453964, 0.03268354758620262, 0.0, 0.10995704680681229, 0.0, 0.07982633262872696, 0.0, 0.0, 0.0, 0.0, 0.0, 0.0, 0.0, 0.0, 0.0, 0.0, 0.0, 0.015057926997542381, 0.011894325725734234, 0.0, 0.0, 0.0, 0.0, 0.0, 0.06303215771913528, 0.0, 0.0, 0.0, 0.0, 0.0, 0.033097922801971436, 0.031103042885661125, 0.028060728684067726, 0.01773754693567753, 0.0, 0.0, 0.0, 0.0, 0.0, 0.0, 0.0, 0.0, 0.0, 0.0, 0.0, 0.0, 0.19910746812820435, 0.0]                                                                                                                                                                                                                                                                                                                                                                                                                                    \n",
       "80        [0.0, 0.0, 0.0, 0.0033040973357856274, 0.0, 0.0, 0.0, 0.0, 0.009639354422688484, 0.0, 0.0, 0.0, 0.0, 0.0, 0.0, 0.01085046399384737, 0.0, 0.0, 0.0, 0.0, 0.0, 0.4813947081565857, 0.0, 0.0, 0.0, 0.0, 0.0, 0.0, 0.0, 0.024865329265594482, 0.0, 0.0, 0.0, 0.0, 0.33433255553245544, 0.14560888707637787, 0.0, 0.0, 0.0, 0.0, 0.0, 0.0, 0.0, 0.0, 0.6264654994010925, 0.0, 0.0, 0.0, 0.0, 0.0, 0.0, 0.0, 0.0, 0.0, 0.0, 0.1923040896654129, 0.0, 0.0, 0.06339741498231888, 0.0, 0.0, 0.005075078923255205, 0.0, 0.0, 0.0, 0.0, 0.0, 0.128806933760643, 0.0, 0.0, 0.05120192840695381, 0.0, 0.0, 0.02547549456357956, 0.0]                                                                                                                                                                                                                                                                                                                                                                                                                                                                                        \n",
       "110       [0.0, 0.009681249968707561, 0.3157486915588379, 0.035485029220581055, 0.08428007364273071, 0.05139074847102165, 0.010632488876581192, 0.010384040884673595, 0.0, 0.004306851886212826, 0.1360526829957962, 0.0, 0.0, 0.0, 0.0, 0.11445901542901993, 0.0, 0.02609862945973873, 0.08677253127098083, 0.0, 0.1700509786605835, 0.01852649636566639, 0.01742601953446865, 0.0, 0.052328720688819885, 0.0, 0.08754375576972961, 0.0, 0.0, 0.05530954897403717, 0.0, 0.0, 0.0, 0.0, 0.0, 0.0, 0.10496184229850769, 0.022573139518499374, 0.0, 0.06583559513092041, 0.09494148939847946, 0.0, 0.0831538662314415, 0.0, 0.03067944385111332, 0.036219604313373566, 0.016076000407338142, 0.07238824665546417, 0.0, 0.031701963394880295, 0.012026206590235233, 0.0, 0.0, 0.0, 0.0, 0.0, 0.06698817759752274, 0.3719470500946045, 0.0, 0.0, 0.03545656055212021, 0.0, 0.0, 0.0, 0.0, 0.0, 0.06538882851600647, 0.10146535187959671, 1.110505223274231, 0.0, 0.07677265256643295, 0.0401727668941021, 0.028192708268761635, 0.0, 0.0]                                                                                    \n",
       "200       [0.0, 0.0, 0.0008219783194363117, 0.05931999906897545, 0.0017522152047604322, 0.060892585664987564, 0.0, 0.5071122050285339, 0.1063532903790474, 0.005306006409227848, 0.005510434973984957, 0.0, 0.014103081077337265, 0.0, 0.0, 0.0897526741027832, 0.1523221731185913, 0.0, 0.11788218468427658, 0.0, 0.0, 0.10728922486305237, 0.010851364582777023, 0.011304203420877457, 0.0, 0.0, 0.027045346796512604, 0.02051759511232376, 0.11239876598119736, 0.004266583826392889, 0.06424926221370697, 0.011516495607793331, 0.06823383271694183, 0.0, 0.0, 0.07253396511077881, 0.0, 0.0, 0.0, 0.0, 0.0, 0.0, 0.1502048820257187, 0.10489537566900253, 0.09956609457731247, 0.0, 0.0, 0.010047723539173603, 0.08179843425750732, 0.0, 0.13192865252494812, 0.016740024089813232, 0.0, 0.07769604027271271, 0.1828979104757309, 0.0, 0.0, 0.0, 0.0, 0.2341715395450592, 0.002455874113366008, 0.5527805685997009, 0.03604438528418541, 0.11876046657562256, 0.0, 0.0, 0.584153950214386, 0.0851968452334404, 0.03369034081697464, 0.06624818593263626, 0.0, 0.0, 0.05054672062397003, 0.05392900109291077, 0.0]   \n",
       "240       [0.0, 0.2235216647386551, 0.0, 0.0, 0.0, 0.0, 0.0, 0.07523377239704132, 0.15706036984920502, 0.02980225533246994, 0.0, 0.0, 0.0, 0.03824526444077492, 0.0, 0.0, 0.0, 0.0, 0.0, 0.0, 0.0, 0.17709434032440186, 0.0, 0.0, 0.098581463098526, 0.0, 0.1592487245798111, 0.0, 0.1055234745144844, 0.059581972658634186, 0.0, 0.1497793197631836, 0.07032154500484467, 0.0, 0.10109743475914001, 0.0, 0.0, 0.0, 0.0, 0.0, 0.0, 0.0, 0.11361673474311829, 0.0, 0.0, 0.0, 0.09224706143140793, 0.2049531638622284, 0.0, 0.0, 0.0, 0.11741948872804642, 0.0, 0.0004655775846913457, 0.0, 0.0, 0.0, 0.0, 0.0, 0.0, 0.0, 0.0, 0.0, 0.0, 0.0, 0.0, 0.042575541883707047, 0.0, 0.0, 0.9192661643028259, 0.0, 0.0, 0.0, 0.0, 0.0653487965464592]                                                                                                                                                                                                                                                                                                                                                                             \n",
       "\n",
       "                                   comic_title  \\\n",
       "comic_id                                         \n",
       "60        8house (Image)                         \n",
       "80        Action Comics Annual (DC)              \n",
       "110       Adventure Time (Boom)                  \n",
       "200       All Star Batman (DC)                   \n",
       "240       American Vampire Anthology (Vertigo)   \n",
       "\n",
       "                                                                                       img_url  \n",
       "comic_id                                                                                        \n",
       "60        https://comrx.s3-us-west-2.amazonaws.com/covers_large/8house.jpg                      \n",
       "80        https://comrx.s3-us-west-2.amazonaws.com/covers_large/_no_cover_.jpg                  \n",
       "110       https://comrx.s3-us-west-2.amazonaws.com/covers_large/adventure_time.jpg              \n",
       "200       https://comrx.s3-us-west-2.amazonaws.com/covers_large/all_star_batman.jpg             \n",
       "240       https://comrx.s3-us-west-2.amazonaws.com/covers_large/american_vampire_anthology.jpg  "
      ]
     },
     "execution_count": 29,
     "metadata": {},
     "output_type": "execute_result"
    }
   ],
   "source": [
    "combo.head()"
   ]
  },
  {
   "cell_type": "markdown",
   "metadata": {},
   "source": [
    "## Create pickle file"
   ]
  },
  {
   "cell_type": "code",
   "execution_count": 43,
   "metadata": {},
   "outputs": [],
   "source": [
    "#combo.to_pickle('support_data/comics_factors_201908.pkl')"
   ]
  },
  {
   "cell_type": "code",
   "execution_count": 30,
   "metadata": {},
   "outputs": [],
   "source": [
    "combo.to_pickle('support_data/comics_factors_20190922.pkl')"
   ]
  },
  {
   "cell_type": "markdown",
   "metadata": {},
   "source": [
    "# Test 2019.08.12 fix"
   ]
  },
  {
   "cell_type": "code",
   "execution_count": 63,
   "metadata": {},
   "outputs": [],
   "source": [
    "# Read new pickle"
   ]
  },
  {
   "cell_type": "code",
   "execution_count": 32,
   "metadata": {},
   "outputs": [],
   "source": [
    "cf_new = pd.read_pickle('support_data/comics_factors_20190922.pkl')"
   ]
  },
  {
   "cell_type": "code",
   "execution_count": 33,
   "metadata": {},
   "outputs": [],
   "source": [
    "# Read old pickle "
   ]
  },
  {
   "cell_type": "code",
   "execution_count": 34,
   "metadata": {},
   "outputs": [],
   "source": [
    "cf_old = pd.read_pickle('support_data/comics_factors.pkl')"
   ]
  },
  {
   "cell_type": "code",
   "execution_count": 35,
   "metadata": {},
   "outputs": [
    {
     "data": {
      "text/plain": [
       "(790, 3)"
      ]
     },
     "execution_count": 35,
     "metadata": {},
     "output_type": "execute_result"
    }
   ],
   "source": [
    "cf_new.shape"
   ]
  },
  {
   "cell_type": "code",
   "execution_count": 37,
   "metadata": {},
   "outputs": [
    {
     "data": {
      "text/plain": [
       "(6028, 3)"
      ]
     },
     "execution_count": 37,
     "metadata": {},
     "output_type": "execute_result"
    }
   ],
   "source": [
    "cf_old.shape"
   ]
  },
  {
   "cell_type": "code",
   "execution_count": 38,
   "metadata": {},
   "outputs": [
    {
     "data": {
      "text/html": [
       "<div>\n",
       "<style scoped>\n",
       "    .dataframe tbody tr th:only-of-type {\n",
       "        vertical-align: middle;\n",
       "    }\n",
       "\n",
       "    .dataframe tbody tr th {\n",
       "        vertical-align: top;\n",
       "    }\n",
       "\n",
       "    .dataframe thead th {\n",
       "        text-align: right;\n",
       "    }\n",
       "</style>\n",
       "<table border=\"1\" class=\"dataframe\">\n",
       "  <thead>\n",
       "    <tr style=\"text-align: right;\">\n",
       "      <th></th>\n",
       "      <th>features</th>\n",
       "      <th>comic_title</th>\n",
       "      <th>img_url</th>\n",
       "    </tr>\n",
       "    <tr>\n",
       "      <th>comic_id</th>\n",
       "      <th></th>\n",
       "      <th></th>\n",
       "      <th></th>\n",
       "    </tr>\n",
       "  </thead>\n",
       "  <tbody>\n",
       "    <tr>\n",
       "      <td>60</td>\n",
       "      <td>[0.0, 0.0, 0.0, 0.0826452448964119, 0.0, 0.0, 0.0, 0.0, 0.039434973150491714, 0.0, 0.0, 0.0, 0.0, 0.0, 0.0, 0.9948146939277649, 0.0, 0.0, 0.2473047822713852, 0.02167966403067112, 0.0, 0.0, 0.0, 0.0, 0.0, 0.0, 0.0, 0.059246089309453964, 0.03268354758620262, 0.0, 0.10995704680681229, 0.0, 0.07982633262872696, 0.0, 0.0, 0.0, 0.0, 0.0, 0.0, 0.0, 0.0, 0.0, 0.0, 0.0, 0.015057926997542381, 0.011894325725734234, 0.0, 0.0, 0.0, 0.0, 0.0, 0.06303215771913528, 0.0, 0.0, 0.0, 0.0, 0.0, 0.033097922801971436, 0.031103042885661125, 0.028060728684067726, 0.01773754693567753, 0.0, 0.0, 0.0, 0.0, 0.0, 0.0, 0.0, 0.0, 0.0, 0.0, 0.0, 0.0, 0.19910746812820435, 0.0]</td>\n",
       "      <td>8house (Image)</td>\n",
       "      <td>https://comrx.s3-us-west-2.amazonaws.com/covers_large/8house.jpg</td>\n",
       "    </tr>\n",
       "    <tr>\n",
       "      <td>80</td>\n",
       "      <td>[0.0, 0.0, 0.0, 0.0033040973357856274, 0.0, 0.0, 0.0, 0.0, 0.009639354422688484, 0.0, 0.0, 0.0, 0.0, 0.0, 0.0, 0.01085046399384737, 0.0, 0.0, 0.0, 0.0, 0.0, 0.4813947081565857, 0.0, 0.0, 0.0, 0.0, 0.0, 0.0, 0.0, 0.024865329265594482, 0.0, 0.0, 0.0, 0.0, 0.33433255553245544, 0.14560888707637787, 0.0, 0.0, 0.0, 0.0, 0.0, 0.0, 0.0, 0.0, 0.6264654994010925, 0.0, 0.0, 0.0, 0.0, 0.0, 0.0, 0.0, 0.0, 0.0, 0.0, 0.1923040896654129, 0.0, 0.0, 0.06339741498231888, 0.0, 0.0, 0.005075078923255205, 0.0, 0.0, 0.0, 0.0, 0.0, 0.128806933760643, 0.0, 0.0, 0.05120192840695381, 0.0, 0.0, 0.02547549456357956, 0.0]</td>\n",
       "      <td>Action Comics Annual (DC)</td>\n",
       "      <td>https://comrx.s3-us-west-2.amazonaws.com/covers_large/_no_cover_.jpg</td>\n",
       "    </tr>\n",
       "    <tr>\n",
       "      <td>110</td>\n",
       "      <td>[0.0, 0.009681249968707561, 0.3157486915588379, 0.035485029220581055, 0.08428007364273071, 0.05139074847102165, 0.010632488876581192, 0.010384040884673595, 0.0, 0.004306851886212826, 0.1360526829957962, 0.0, 0.0, 0.0, 0.0, 0.11445901542901993, 0.0, 0.02609862945973873, 0.08677253127098083, 0.0, 0.1700509786605835, 0.01852649636566639, 0.01742601953446865, 0.0, 0.052328720688819885, 0.0, 0.08754375576972961, 0.0, 0.0, 0.05530954897403717, 0.0, 0.0, 0.0, 0.0, 0.0, 0.0, 0.10496184229850769, 0.022573139518499374, 0.0, 0.06583559513092041, 0.09494148939847946, 0.0, 0.0831538662314415, 0.0, 0.03067944385111332, 0.036219604313373566, 0.016076000407338142, 0.07238824665546417, 0.0, 0.031701963394880295, 0.012026206590235233, 0.0, 0.0, 0.0, 0.0, 0.0, 0.06698817759752274, 0.3719470500946045, 0.0, 0.0, 0.03545656055212021, 0.0, 0.0, 0.0, 0.0, 0.0, 0.06538882851600647, 0.10146535187959671, 1.110505223274231, 0.0, 0.07677265256643295, 0.0401727668941021, 0.028192708268761635, 0.0, 0.0]</td>\n",
       "      <td>Adventure Time (Boom)</td>\n",
       "      <td>https://comrx.s3-us-west-2.amazonaws.com/covers_large/adventure_time.jpg</td>\n",
       "    </tr>\n",
       "    <tr>\n",
       "      <td>200</td>\n",
       "      <td>[0.0, 0.0, 0.0008219783194363117, 0.05931999906897545, 0.0017522152047604322, 0.060892585664987564, 0.0, 0.5071122050285339, 0.1063532903790474, 0.005306006409227848, 0.005510434973984957, 0.0, 0.014103081077337265, 0.0, 0.0, 0.0897526741027832, 0.1523221731185913, 0.0, 0.11788218468427658, 0.0, 0.0, 0.10728922486305237, 0.010851364582777023, 0.011304203420877457, 0.0, 0.0, 0.027045346796512604, 0.02051759511232376, 0.11239876598119736, 0.004266583826392889, 0.06424926221370697, 0.011516495607793331, 0.06823383271694183, 0.0, 0.0, 0.07253396511077881, 0.0, 0.0, 0.0, 0.0, 0.0, 0.0, 0.1502048820257187, 0.10489537566900253, 0.09956609457731247, 0.0, 0.0, 0.010047723539173603, 0.08179843425750732, 0.0, 0.13192865252494812, 0.016740024089813232, 0.0, 0.07769604027271271, 0.1828979104757309, 0.0, 0.0, 0.0, 0.0, 0.2341715395450592, 0.002455874113366008, 0.5527805685997009, 0.03604438528418541, 0.11876046657562256, 0.0, 0.0, 0.584153950214386, 0.0851968452334404, 0.03369034081697464, 0.06624818593263626, 0.0, 0.0, 0.05054672062397003, 0.05392900109291077, 0.0]</td>\n",
       "      <td>All Star Batman (DC)</td>\n",
       "      <td>https://comrx.s3-us-west-2.amazonaws.com/covers_large/all_star_batman.jpg</td>\n",
       "    </tr>\n",
       "    <tr>\n",
       "      <td>240</td>\n",
       "      <td>[0.0, 0.2235216647386551, 0.0, 0.0, 0.0, 0.0, 0.0, 0.07523377239704132, 0.15706036984920502, 0.02980225533246994, 0.0, 0.0, 0.0, 0.03824526444077492, 0.0, 0.0, 0.0, 0.0, 0.0, 0.0, 0.0, 0.17709434032440186, 0.0, 0.0, 0.098581463098526, 0.0, 0.1592487245798111, 0.0, 0.1055234745144844, 0.059581972658634186, 0.0, 0.1497793197631836, 0.07032154500484467, 0.0, 0.10109743475914001, 0.0, 0.0, 0.0, 0.0, 0.0, 0.0, 0.0, 0.11361673474311829, 0.0, 0.0, 0.0, 0.09224706143140793, 0.2049531638622284, 0.0, 0.0, 0.0, 0.11741948872804642, 0.0, 0.0004655775846913457, 0.0, 0.0, 0.0, 0.0, 0.0, 0.0, 0.0, 0.0, 0.0, 0.0, 0.0, 0.0, 0.042575541883707047, 0.0, 0.0, 0.9192661643028259, 0.0, 0.0, 0.0, 0.0, 0.0653487965464592]</td>\n",
       "      <td>American Vampire Anthology (Vertigo)</td>\n",
       "      <td>https://comrx.s3-us-west-2.amazonaws.com/covers_large/american_vampire_anthology.jpg</td>\n",
       "    </tr>\n",
       "  </tbody>\n",
       "</table>\n",
       "</div>"
      ],
      "text/plain": [
       "                                                                                                                                                                                                                                                                                                                                                                                                                                                                                                                                                                                                                                                                                                                                                                                                                                                                                                                                                                                                                                                                                                              features  \\\n",
       "comic_id                                                                                                                                                                                                                                                                                                                                                                                                                                                                                                                                                                                                                                                                                                                                                                                                                                                                                                                                                                                                                                                                                                                 \n",
       "60        [0.0, 0.0, 0.0, 0.0826452448964119, 0.0, 0.0, 0.0, 0.0, 0.039434973150491714, 0.0, 0.0, 0.0, 0.0, 0.0, 0.0, 0.9948146939277649, 0.0, 0.0, 0.2473047822713852, 0.02167966403067112, 0.0, 0.0, 0.0, 0.0, 0.0, 0.0, 0.0, 0.059246089309453964, 0.03268354758620262, 0.0, 0.10995704680681229, 0.0, 0.07982633262872696, 0.0, 0.0, 0.0, 0.0, 0.0, 0.0, 0.0, 0.0, 0.0, 0.0, 0.0, 0.015057926997542381, 0.011894325725734234, 0.0, 0.0, 0.0, 0.0, 0.0, 0.06303215771913528, 0.0, 0.0, 0.0, 0.0, 0.0, 0.033097922801971436, 0.031103042885661125, 0.028060728684067726, 0.01773754693567753, 0.0, 0.0, 0.0, 0.0, 0.0, 0.0, 0.0, 0.0, 0.0, 0.0, 0.0, 0.0, 0.19910746812820435, 0.0]                                                                                                                                                                                                                                                                                                                                                                                                                                    \n",
       "80        [0.0, 0.0, 0.0, 0.0033040973357856274, 0.0, 0.0, 0.0, 0.0, 0.009639354422688484, 0.0, 0.0, 0.0, 0.0, 0.0, 0.0, 0.01085046399384737, 0.0, 0.0, 0.0, 0.0, 0.0, 0.4813947081565857, 0.0, 0.0, 0.0, 0.0, 0.0, 0.0, 0.0, 0.024865329265594482, 0.0, 0.0, 0.0, 0.0, 0.33433255553245544, 0.14560888707637787, 0.0, 0.0, 0.0, 0.0, 0.0, 0.0, 0.0, 0.0, 0.6264654994010925, 0.0, 0.0, 0.0, 0.0, 0.0, 0.0, 0.0, 0.0, 0.0, 0.0, 0.1923040896654129, 0.0, 0.0, 0.06339741498231888, 0.0, 0.0, 0.005075078923255205, 0.0, 0.0, 0.0, 0.0, 0.0, 0.128806933760643, 0.0, 0.0, 0.05120192840695381, 0.0, 0.0, 0.02547549456357956, 0.0]                                                                                                                                                                                                                                                                                                                                                                                                                                                                                        \n",
       "110       [0.0, 0.009681249968707561, 0.3157486915588379, 0.035485029220581055, 0.08428007364273071, 0.05139074847102165, 0.010632488876581192, 0.010384040884673595, 0.0, 0.004306851886212826, 0.1360526829957962, 0.0, 0.0, 0.0, 0.0, 0.11445901542901993, 0.0, 0.02609862945973873, 0.08677253127098083, 0.0, 0.1700509786605835, 0.01852649636566639, 0.01742601953446865, 0.0, 0.052328720688819885, 0.0, 0.08754375576972961, 0.0, 0.0, 0.05530954897403717, 0.0, 0.0, 0.0, 0.0, 0.0, 0.0, 0.10496184229850769, 0.022573139518499374, 0.0, 0.06583559513092041, 0.09494148939847946, 0.0, 0.0831538662314415, 0.0, 0.03067944385111332, 0.036219604313373566, 0.016076000407338142, 0.07238824665546417, 0.0, 0.031701963394880295, 0.012026206590235233, 0.0, 0.0, 0.0, 0.0, 0.0, 0.06698817759752274, 0.3719470500946045, 0.0, 0.0, 0.03545656055212021, 0.0, 0.0, 0.0, 0.0, 0.0, 0.06538882851600647, 0.10146535187959671, 1.110505223274231, 0.0, 0.07677265256643295, 0.0401727668941021, 0.028192708268761635, 0.0, 0.0]                                                                                    \n",
       "200       [0.0, 0.0, 0.0008219783194363117, 0.05931999906897545, 0.0017522152047604322, 0.060892585664987564, 0.0, 0.5071122050285339, 0.1063532903790474, 0.005306006409227848, 0.005510434973984957, 0.0, 0.014103081077337265, 0.0, 0.0, 0.0897526741027832, 0.1523221731185913, 0.0, 0.11788218468427658, 0.0, 0.0, 0.10728922486305237, 0.010851364582777023, 0.011304203420877457, 0.0, 0.0, 0.027045346796512604, 0.02051759511232376, 0.11239876598119736, 0.004266583826392889, 0.06424926221370697, 0.011516495607793331, 0.06823383271694183, 0.0, 0.0, 0.07253396511077881, 0.0, 0.0, 0.0, 0.0, 0.0, 0.0, 0.1502048820257187, 0.10489537566900253, 0.09956609457731247, 0.0, 0.0, 0.010047723539173603, 0.08179843425750732, 0.0, 0.13192865252494812, 0.016740024089813232, 0.0, 0.07769604027271271, 0.1828979104757309, 0.0, 0.0, 0.0, 0.0, 0.2341715395450592, 0.002455874113366008, 0.5527805685997009, 0.03604438528418541, 0.11876046657562256, 0.0, 0.0, 0.584153950214386, 0.0851968452334404, 0.03369034081697464, 0.06624818593263626, 0.0, 0.0, 0.05054672062397003, 0.05392900109291077, 0.0]   \n",
       "240       [0.0, 0.2235216647386551, 0.0, 0.0, 0.0, 0.0, 0.0, 0.07523377239704132, 0.15706036984920502, 0.02980225533246994, 0.0, 0.0, 0.0, 0.03824526444077492, 0.0, 0.0, 0.0, 0.0, 0.0, 0.0, 0.0, 0.17709434032440186, 0.0, 0.0, 0.098581463098526, 0.0, 0.1592487245798111, 0.0, 0.1055234745144844, 0.059581972658634186, 0.0, 0.1497793197631836, 0.07032154500484467, 0.0, 0.10109743475914001, 0.0, 0.0, 0.0, 0.0, 0.0, 0.0, 0.0, 0.11361673474311829, 0.0, 0.0, 0.0, 0.09224706143140793, 0.2049531638622284, 0.0, 0.0, 0.0, 0.11741948872804642, 0.0, 0.0004655775846913457, 0.0, 0.0, 0.0, 0.0, 0.0, 0.0, 0.0, 0.0, 0.0, 0.0, 0.0, 0.0, 0.042575541883707047, 0.0, 0.0, 0.9192661643028259, 0.0, 0.0, 0.0, 0.0, 0.0653487965464592]                                                                                                                                                                                                                                                                                                                                                                             \n",
       "\n",
       "                                   comic_title  \\\n",
       "comic_id                                         \n",
       "60        8house (Image)                         \n",
       "80        Action Comics Annual (DC)              \n",
       "110       Adventure Time (Boom)                  \n",
       "200       All Star Batman (DC)                   \n",
       "240       American Vampire Anthology (Vertigo)   \n",
       "\n",
       "                                                                                       img_url  \n",
       "comic_id                                                                                        \n",
       "60        https://comrx.s3-us-west-2.amazonaws.com/covers_large/8house.jpg                      \n",
       "80        https://comrx.s3-us-west-2.amazonaws.com/covers_large/_no_cover_.jpg                  \n",
       "110       https://comrx.s3-us-west-2.amazonaws.com/covers_large/adventure_time.jpg              \n",
       "200       https://comrx.s3-us-west-2.amazonaws.com/covers_large/all_star_batman.jpg             \n",
       "240       https://comrx.s3-us-west-2.amazonaws.com/covers_large/american_vampire_anthology.jpg  "
      ]
     },
     "execution_count": 38,
     "metadata": {},
     "output_type": "execute_result"
    }
   ],
   "source": [
    "cf_new.head()"
   ]
  },
  {
   "cell_type": "code",
   "execution_count": 39,
   "metadata": {},
   "outputs": [
    {
     "data": {
      "text/html": [
       "<div>\n",
       "<style scoped>\n",
       "    .dataframe tbody tr th:only-of-type {\n",
       "        vertical-align: middle;\n",
       "    }\n",
       "\n",
       "    .dataframe tbody tr th {\n",
       "        vertical-align: top;\n",
       "    }\n",
       "\n",
       "    .dataframe thead th {\n",
       "        text-align: right;\n",
       "    }\n",
       "</style>\n",
       "<table border=\"1\" class=\"dataframe\">\n",
       "  <thead>\n",
       "    <tr style=\"text-align: right;\">\n",
       "      <th></th>\n",
       "      <th>features</th>\n",
       "      <th>comic_title</th>\n",
       "      <th>img_url</th>\n",
       "    </tr>\n",
       "    <tr>\n",
       "      <th>comic_id</th>\n",
       "      <th></th>\n",
       "      <th></th>\n",
       "      <th></th>\n",
       "    </tr>\n",
       "  </thead>\n",
       "  <tbody>\n",
       "    <tr>\n",
       "      <td>10</td>\n",
       "      <td>[-0.7526867389678955, -0.21263617277145386, -1.1569229364395142, 0.19937847554683685, 0.16002951562404633]</td>\n",
       "      <td>13th Artifact One Sho (Topcow)</td>\n",
       "      <td>https://comrx.s3-us-west-2.amazonaws.com/covers/_no_cover_.jpg</td>\n",
       "    </tr>\n",
       "    <tr>\n",
       "      <td>20</td>\n",
       "      <td>[-0.3515812158584595, 0.4757572114467621, -1.2307846546173096, 0.5941579341888428, -0.11247903108596802]</td>\n",
       "      <td>1 For $1 Conan the Barbarian (Dark Horse)</td>\n",
       "      <td>https://comrx.s3-us-west-2.amazonaws.com/covers/_no_cover_.jpg</td>\n",
       "    </tr>\n",
       "    <tr>\n",
       "      <td>30</td>\n",
       "      <td>[0.1806577742099762, -0.48153993487358093, -0.9925048351287842, -0.04510089382529259, -0.6085895299911499]</td>\n",
       "      <td>21st Century Tank Girl (Other)</td>\n",
       "      <td>https://comrx.s3-us-west-2.amazonaws.com/covers/21st_century_tank_girl.jpg</td>\n",
       "    </tr>\n",
       "    <tr>\n",
       "      <td>40</td>\n",
       "      <td>[-0.06164746731519699, -0.23286470770835876, -0.20415398478507996, 0.3465690016746521, -1.2049529552459717]</td>\n",
       "      <td>4001 Ad (Other)</td>\n",
       "      <td>https://comrx.s3-us-west-2.amazonaws.com/covers/4001_ad.jpg</td>\n",
       "    </tr>\n",
       "    <tr>\n",
       "      <td>50</td>\n",
       "      <td>[-0.4028661251068115, -0.3713889420032501, -1.1736090183258057, 0.15386144816875458, 0.5422862768173218]</td>\n",
       "      <td>68 Homefront (Image)</td>\n",
       "      <td>https://comrx.s3-us-west-2.amazonaws.com/covers/68_homefront.jpg</td>\n",
       "    </tr>\n",
       "  </tbody>\n",
       "</table>\n",
       "</div>"
      ],
      "text/plain": [
       "                                                                                                             features  \\\n",
       "comic_id                                                                                                                \n",
       "10        [-0.7526867389678955, -0.21263617277145386, -1.1569229364395142, 0.19937847554683685, 0.16002951562404633]    \n",
       "20        [-0.3515812158584595, 0.4757572114467621, -1.2307846546173096, 0.5941579341888428, -0.11247903108596802]      \n",
       "30        [0.1806577742099762, -0.48153993487358093, -0.9925048351287842, -0.04510089382529259, -0.6085895299911499]    \n",
       "40        [-0.06164746731519699, -0.23286470770835876, -0.20415398478507996, 0.3465690016746521, -1.2049529552459717]   \n",
       "50        [-0.4028661251068115, -0.3713889420032501, -1.1736090183258057, 0.15386144816875458, 0.5422862768173218]      \n",
       "\n",
       "                                        comic_title  \\\n",
       "comic_id                                              \n",
       "10        13th Artifact One Sho (Topcow)              \n",
       "20        1 For $1 Conan the Barbarian (Dark Horse)   \n",
       "30        21st Century Tank Girl (Other)              \n",
       "40        4001 Ad (Other)                             \n",
       "50        68 Homefront (Image)                        \n",
       "\n",
       "                                                                             img_url  \n",
       "comic_id                                                                              \n",
       "10        https://comrx.s3-us-west-2.amazonaws.com/covers/_no_cover_.jpg              \n",
       "20        https://comrx.s3-us-west-2.amazonaws.com/covers/_no_cover_.jpg              \n",
       "30        https://comrx.s3-us-west-2.amazonaws.com/covers/21st_century_tank_girl.jpg  \n",
       "40        https://comrx.s3-us-west-2.amazonaws.com/covers/4001_ad.jpg                 \n",
       "50        https://comrx.s3-us-west-2.amazonaws.com/covers/68_homefront.jpg            "
      ]
     },
     "execution_count": 39,
     "metadata": {},
     "output_type": "execute_result"
    }
   ],
   "source": [
    "cf_old.head()"
   ]
  }
 ],
 "metadata": {
  "kernelspec": {
   "display_name": "Python 3",
   "language": "python",
   "name": "python3"
  },
  "language_info": {
   "codemirror_mode": {
    "name": "ipython",
    "version": 3
   },
   "file_extension": ".py",
   "mimetype": "text/x-python",
   "name": "python",
   "nbconvert_exporter": "python",
   "pygments_lexer": "ipython3",
   "version": "3.6.9"
  }
 },
 "nbformat": 4,
 "nbformat_minor": 2
}
