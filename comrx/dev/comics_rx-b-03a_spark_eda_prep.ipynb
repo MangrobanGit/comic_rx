{
 "cells": [
  {
   "cell_type": "markdown",
   "metadata": {},
   "source": [
    "# Comics Rx\n",
    "## [A comic book recommendation system](https://github.com/MangrobanGit/comics_rx)\n",
    "<img src=\"https://images.unsplash.com/photo-1514329926535-7f6dbfbfb114?ixlib=rb-1.2.1&ixid=eyJhcHBfaWQiOjEyMDd9&auto=format&fit=crop&w=2850&q=80\" width=\"400\" align='left'>"
   ]
  },
  {
   "cell_type": "markdown",
   "metadata": {},
   "source": [
    "---"
   ]
  },
  {
   "cell_type": "markdown",
   "metadata": {},
   "source": [
    "# ALS Model - Reduced Data - EDA, Prep\n",
    "\n",
    "This time, as explored in the EDA NB, let's consider removing customers who we feel have too few or too many purchases to influence the model in the intended way.\n",
    "\n",
    "Examples:\n",
    "- Too few - Customers who have only bought 1 comic (series).\n",
    "- Too many - Customers with > 1000 series (for example, think all eBay customers are rolled into one account number)."
   ]
  },
  {
   "cell_type": "markdown",
   "metadata": {},
   "source": [
    "# Libraries"
   ]
  },
  {
   "cell_type": "code",
   "execution_count": 2,
   "metadata": {},
   "outputs": [],
   "source": [
    "%matplotlib inline\n",
    "%load_ext autoreload\n",
    "%autoreload 2  # 1 would be where you need to specify the files\n",
    "#%aimport data_fcns\n",
    "\n",
    "import pandas as pd  # dataframes\n",
    "import os\n",
    "import time\n",
    "import numpy as np\n",
    "\n",
    "# Data storage\n",
    "from sqlalchemy import create_engine  # SQL helper\n",
    "import psycopg2 as psql  #PostgreSQL DBs\n",
    "\n",
    "# import necessary libraries\n",
    "import pyspark\n",
    "from pyspark.sql import SparkSession\n",
    "from pyspark.ml.evaluation import RegressionEvaluator\n",
    "# from pyspark.sql.types import (StructType, StructField, IntegerType\n",
    "#                                ,FloatType, LongType, StringType)\n",
    "from pyspark.sql.types import *\n",
    "\n",
    "import pyspark.sql.functions as F\n",
    "from pyspark.sql.functions import col, explode, lit, isnan, when, count\n",
    "from pyspark.ml.recommendation import ALS, ALSModel\n",
    "from pyspark.ml.evaluation import RegressionEvaluator\n",
    "from pyspark.ml.tuning import (CrossValidator, ParamGridBuilder, \n",
    "                               TrainValidationSplit)\n",
    "from pyspark.ml.evaluation import BinaryClassificationEvaluator"
   ]
  },
  {
   "cell_type": "code",
   "execution_count": 3,
   "metadata": {},
   "outputs": [],
   "source": [
    "import sys"
   ]
  },
  {
   "cell_type": "code",
   "execution_count": 4,
   "metadata": {},
   "outputs": [],
   "source": [
    "sys.path.append('..')"
   ]
  },
  {
   "cell_type": "code",
   "execution_count": 5,
   "metadata": {},
   "outputs": [],
   "source": [
    "# Custom\n",
    "import data_fcns as dfc\n",
    "import keys  # Custom keys lib\n",
    "import comic_recs as cr"
   ]
  },
  {
   "cell_type": "code",
   "execution_count": 6,
   "metadata": {},
   "outputs": [],
   "source": [
    "# # instantiate SparkSession object\n",
    "# spark = pyspark.sql.SparkSession.builder.master(\"local[*]\").getOrCreate()\n",
    "# # spark = SparkSession.builder.master(\"local\").getOrCreate()"
   ]
  },
  {
   "cell_type": "code",
   "execution_count": 7,
   "metadata": {},
   "outputs": [],
   "source": [
    "from pyspark import SparkConf\n",
    "\n",
    "conf = SparkConf()\n",
    "\n",
    "conf = (conf.setMaster('local[*]')\n",
    "#         .set('spark.executor.memory', '1G') #https://stackoverflow.com/questions/48523629/spark-pyspark-an-error-occurred-while-trying-to-connect-to-the-java-server-127\n",
    "        .set('spark.driver.memory', '7G')\n",
    "        .set('spark.driver.maxResultSize', '4G'))\n",
    "#         .set('spark.executor.memory', '1G')\n",
    "#         .set('spark.driver.memory', '10G')\n",
    "#         .set('spark.driver.maxResultSize', '5G'))\n",
    "\n",
    "sc = pyspark.SparkContext().getOrCreate(conf=conf)\n",
    "\n",
    "from pyspark.sql import SQLContext\n",
    "sql_context = SQLContext(sc)\n",
    "\n",
    "sc.setCheckpointDir('./checkpoints')\n",
    "\n",
    "# spark.sparkContext.setCheckpointDir(\"hdfs://datalake/check_point_directory/als\")"
   ]
  },
  {
   "cell_type": "markdown",
   "metadata": {},
   "source": [
    "## Import the data\n",
    "\n",
    "There is way to directly hit PostgreSQL through JDBC, but I don't know how to do that yet. So have worked around by saving the candidate dataset to JSON, and then will use that as input to Spark.\n"
   ]
  },
  {
   "cell_type": "code",
   "execution_count": 8,
   "metadata": {},
   "outputs": [],
   "source": [
    "# We have previously created a version of the transactions table \n",
    "# and filtered it down.\n",
    "trans = sql_context.read.json('raw_data/trans_filtered.json')"
   ]
  },
  {
   "cell_type": "code",
   "execution_count": 9,
   "metadata": {},
   "outputs": [
    {
     "data": {
      "text/plain": [
       "DataFrame[account_num: string, comic_title: string, date_sold: bigint, item_id: string, publisher: string, qty_sold: bigint, title_and_num: string]"
      ]
     },
     "execution_count": 9,
     "metadata": {},
     "output_type": "execute_result"
    }
   ],
   "source": [
    "# Persist the data\n",
    "trans.persist()"
   ]
  },
  {
   "cell_type": "code",
   "execution_count": 10,
   "metadata": {},
   "outputs": [
    {
     "name": "stdout",
     "output_type": "stream",
     "text": [
      "327839 7\n"
     ]
    }
   ],
   "source": [
    "print(trans.count(), len(trans.columns))"
   ]
  },
  {
   "cell_type": "code",
   "execution_count": 11,
   "metadata": {},
   "outputs": [
    {
     "name": "stdout",
     "output_type": "stream",
     "text": [
      "root\n",
      " |-- account_num: string (nullable = true)\n",
      " |-- comic_title: string (nullable = true)\n",
      " |-- date_sold: long (nullable = true)\n",
      " |-- item_id: string (nullable = true)\n",
      " |-- publisher: string (nullable = true)\n",
      " |-- qty_sold: long (nullable = true)\n",
      " |-- title_and_num: string (nullable = true)\n",
      "\n"
     ]
    }
   ],
   "source": [
    "# check schema\n",
    "trans.printSchema()"
   ]
  },
  {
   "cell_type": "markdown",
   "metadata": {},
   "source": [
    "### More exploration/testing\n",
    "\n",
    "We won't be using pandas dataframes in the matrix factorization through Spark, but let's cast to one anyway as it will be easier to work with for EDA."
   ]
  },
  {
   "cell_type": "code",
   "execution_count": 12,
   "metadata": {},
   "outputs": [
    {
     "name": "stdout",
     "output_type": "stream",
     "text": [
      "<class 'pandas.core.frame.DataFrame'>\n",
      "RangeIndex: 327839 entries, 0 to 327838\n",
      "Data columns (total 7 columns):\n",
      "account_num      327839 non-null object\n",
      "comic_title      327839 non-null object\n",
      "date_sold        327839 non-null int64\n",
      "item_id          327839 non-null object\n",
      "publisher        327839 non-null object\n",
      "qty_sold         327839 non-null int64\n",
      "title_and_num    327839 non-null object\n",
      "dtypes: int64(2), object(5)\n",
      "memory usage: 17.5+ MB\n"
     ]
    }
   ],
   "source": [
    "# cast to Pandas dataframe to turn timestamp data to datetime and check nulls. \n",
    "trans_df = trans.select('*').toPandas()\n",
    "trans_df.info()"
   ]
  },
  {
   "cell_type": "code",
   "execution_count": 13,
   "metadata": {},
   "outputs": [
    {
     "data": {
      "text/html": [
       "<div>\n",
       "<style scoped>\n",
       "    .dataframe tbody tr th:only-of-type {\n",
       "        vertical-align: middle;\n",
       "    }\n",
       "\n",
       "    .dataframe tbody tr th {\n",
       "        vertical-align: top;\n",
       "    }\n",
       "\n",
       "    .dataframe thead th {\n",
       "        text-align: right;\n",
       "    }\n",
       "</style>\n",
       "<table border=\"1\" class=\"dataframe\">\n",
       "  <thead>\n",
       "    <tr style=\"text-align: right;\">\n",
       "      <th></th>\n",
       "      <th>account_num</th>\n",
       "      <th>comic_title</th>\n",
       "      <th>date_sold</th>\n",
       "      <th>item_id</th>\n",
       "      <th>publisher</th>\n",
       "      <th>qty_sold</th>\n",
       "      <th>title_and_num</th>\n",
       "    </tr>\n",
       "  </thead>\n",
       "  <tbody>\n",
       "    <tr>\n",
       "      <td>0</td>\n",
       "      <td>00399</td>\n",
       "      <td>Royal Historian of Oz (SLG)</td>\n",
       "      <td>1279136980000</td>\n",
       "      <td>DCD416182</td>\n",
       "      <td>Amaze Ink Slave Labor Graphics</td>\n",
       "      <td>1</td>\n",
       "      <td>Royal Historian of Oz #1</td>\n",
       "    </tr>\n",
       "    <tr>\n",
       "      <td>1</td>\n",
       "      <td>00327</td>\n",
       "      <td>Royal Historian of Oz (SLG)</td>\n",
       "      <td>1288543119000</td>\n",
       "      <td>DCD416182</td>\n",
       "      <td>Amaze Ink Slave Labor Graphics</td>\n",
       "      <td>1</td>\n",
       "      <td>Royal Historian of Oz #1</td>\n",
       "    </tr>\n",
       "    <tr>\n",
       "      <td>2</td>\n",
       "      <td>00327</td>\n",
       "      <td>Royal Historian of Oz (SLG)</td>\n",
       "      <td>1288543119000</td>\n",
       "      <td>DCD423794</td>\n",
       "      <td>Amaze Ink Slave Labor Graphics</td>\n",
       "      <td>1</td>\n",
       "      <td>Royal Historian of Oz #2</td>\n",
       "    </tr>\n",
       "    <tr>\n",
       "      <td>3</td>\n",
       "      <td>01065</td>\n",
       "      <td>Warlord of Io &amp; Other Storie (SLG)</td>\n",
       "      <td>1412166247000</td>\n",
       "      <td>DCD390709</td>\n",
       "      <td>Amaze Ink Slave Labor Graphics</td>\n",
       "      <td>1</td>\n",
       "      <td>Warlord of Io &amp; Other Stories</td>\n",
       "    </tr>\n",
       "    <tr>\n",
       "      <td>4</td>\n",
       "      <td>01033</td>\n",
       "      <td>Afterlife With Archie (Archie)</td>\n",
       "      <td>1390505789000</td>\n",
       "      <td>DCD630105</td>\n",
       "      <td>Archie Comics</td>\n",
       "      <td>1</td>\n",
       "      <td>Afterlife With Archie #1 2nd P</td>\n",
       "    </tr>\n",
       "  </tbody>\n",
       "</table>\n",
       "</div>"
      ],
      "text/plain": [
       "  account_num                         comic_title      date_sold    item_id  \\\n",
       "0       00399         Royal Historian of Oz (SLG)  1279136980000  DCD416182   \n",
       "1       00327         Royal Historian of Oz (SLG)  1288543119000  DCD416182   \n",
       "2       00327         Royal Historian of Oz (SLG)  1288543119000  DCD423794   \n",
       "3       01065  Warlord of Io & Other Storie (SLG)  1412166247000  DCD390709   \n",
       "4       01033      Afterlife With Archie (Archie)  1390505789000  DCD630105   \n",
       "\n",
       "                        publisher  qty_sold                   title_and_num  \n",
       "0  Amaze Ink Slave Labor Graphics         1        Royal Historian of Oz #1  \n",
       "1  Amaze Ink Slave Labor Graphics         1        Royal Historian of Oz #1  \n",
       "2  Amaze Ink Slave Labor Graphics         1        Royal Historian of Oz #2  \n",
       "3  Amaze Ink Slave Labor Graphics         1   Warlord of Io & Other Stories  \n",
       "4                   Archie Comics         1  Afterlife With Archie #1 2nd P  "
      ]
     },
     "execution_count": 13,
     "metadata": {},
     "output_type": "execute_result"
    }
   ],
   "source": [
    "# Let's double check the data is how we expect it\n",
    "trans_df.head()"
   ]
  },
  {
   "cell_type": "code",
   "execution_count": 14,
   "metadata": {},
   "outputs": [],
   "source": [
    "trans_df['dt'] = pd.to_datetime(trans_df['date_sold'], unit='ms')"
   ]
  },
  {
   "cell_type": "markdown",
   "metadata": {},
   "source": [
    "Yes. Reverse-confirmed versus the original transactions dataframe in the other notebook that this datetime is correct. "
   ]
  },
  {
   "cell_type": "markdown",
   "metadata": {},
   "source": [
    "### Data Prep for ALS\n",
    "\n",
    "Let's aggregate the data to the two columns we need:\n",
    "- `account_num` - This is the identifier for individual customers.\n",
    "\n",
    "\n",
    "- `comic_title` - The comic. Represents individual volumes/runs of a comic.\n",
    "\n",
    "\n",
    "- `score` - We need to figure out what we want to use to act as a `score`. If these were Amazon items then review scores would be natural fit; but we don't have that. We can maybe use a binary flag of `bought`/`not bought`. Or we can use the `qty_sold`. This might be interesting in that it might capture some interesting behavior from comic 'collectors/speculators'. Since this is first pass, I'm curious as to what `qty_sold` might do!\n"
   ]
  },
  {
   "cell_type": "markdown",
   "metadata": {},
   "source": [
    "We only care about `account_num`, `comic_title` and `qty_sold`."
   ]
  },
  {
   "cell_type": "code",
   "execution_count": 15,
   "metadata": {},
   "outputs": [
    {
     "data": {
      "text/plain": [
       "DataFrame[account_num: string, comic_title: string, qty_sold: bigint]"
      ]
     },
     "execution_count": 15,
     "metadata": {},
     "output_type": "execute_result"
    }
   ],
   "source": [
    "comics_sold = trans[['account_num', 'comic_title', 'qty_sold']]\n",
    "comics_sold.persist()"
   ]
  },
  {
   "cell_type": "code",
   "execution_count": 16,
   "metadata": {},
   "outputs": [],
   "source": [
    "comics_sold = comics_sold.withColumn('bought', lit(1))"
   ]
  },
  {
   "cell_type": "code",
   "execution_count": 17,
   "metadata": {},
   "outputs": [
    {
     "name": "stdout",
     "output_type": "stream",
     "text": [
      "+-----------+--------------------+--------+------+\n",
      "|account_num|         comic_title|qty_sold|bought|\n",
      "+-----------+--------------------+--------+------+\n",
      "|      00399|Royal Historian o...|       1|     1|\n",
      "|      00327|Royal Historian o...|       1|     1|\n",
      "|      00327|Royal Historian o...|       1|     1|\n",
      "|      01065|Warlord of Io & O...|       1|     1|\n",
      "|      01033|Afterlife With Ar...|       1|     1|\n",
      "|      01333|Afterlife With Ar...|       1|     1|\n",
      "|      00946|Afterlife With Ar...|       1|     1|\n",
      "|      01278|Afterlife With Ar...|       1|     1|\n",
      "|      01212|Afterlife With Ar...|       1|     1|\n",
      "|      00877|Afterlife With Ar...|       1|     1|\n",
      "+-----------+--------------------+--------+------+\n",
      "only showing top 10 rows\n",
      "\n"
     ]
    }
   ],
   "source": [
    "comics_sold.show(10)"
   ]
  },
  {
   "cell_type": "code",
   "execution_count": 18,
   "metadata": {},
   "outputs": [
    {
     "data": {
      "text/plain": [
       "DataFrame[account_num: string, comic_title: string, qty_sold: bigint]"
      ]
     },
     "execution_count": 18,
     "metadata": {},
     "output_type": "execute_result"
    }
   ],
   "source": [
    "comics_sold = trans[['account_num', 'comic_title', 'qty_sold']]\n",
    "comics_sold.persist()"
   ]
  },
  {
   "cell_type": "code",
   "execution_count": 19,
   "metadata": {},
   "outputs": [
    {
     "data": {
      "text/plain": [
       "DataFrame[account_num: string, comic_title: string, sum(qty_sold): bigint]"
      ]
     },
     "execution_count": 19,
     "metadata": {},
     "output_type": "execute_result"
    }
   ],
   "source": [
    "total_comics_sold = ( comics_sold.groupBy(['account_num', 'comic_title'])\n",
    "                               .agg({'qty_sold':'sum'})\n",
    "                    )\n",
    "total_comics_sold.persist()"
   ]
  },
  {
   "cell_type": "markdown",
   "metadata": {},
   "source": [
    "Ok, let's take a look at the results."
   ]
  },
  {
   "cell_type": "code",
   "execution_count": 20,
   "metadata": {},
   "outputs": [
    {
     "name": "stdout",
     "output_type": "stream",
     "text": [
      "+-----------+--------------------+-------------+\n",
      "|account_num|         comic_title|sum(qty_sold)|\n",
      "+-----------+--------------------+-------------+\n",
      "|      02247|Bubblegun VOL 2 (...|            1|\n",
      "|      00487|Captain Swing (Av...|            2|\n",
      "|      00029|God Is Dead (Avatar)|            7|\n",
      "|      01260| Providence (Avatar)|            1|\n",
      "|      00172|   Supergod (Avatar)|            3|\n",
      "|      02493|       Abbott (Boom)|            3|\n",
      "|      00052|Adventure Time Ma...|            6|\n",
      "|      00032|Big Trouble In Li...|           11|\n",
      "|      01149| Broken World (Boom)|            2|\n",
      "|      01489|Jim Henson Labyri...|            1|\n",
      "+-----------+--------------------+-------------+\n",
      "only showing top 10 rows\n",
      "\n"
     ]
    }
   ],
   "source": [
    "total_comics_sold.show(10)"
   ]
  },
  {
   "cell_type": "code",
   "execution_count": 21,
   "metadata": {},
   "outputs": [
    {
     "name": "stdout",
     "output_type": "stream",
     "text": [
      "61871 3\n"
     ]
    }
   ],
   "source": [
    "print(total_comics_sold.count(), len(total_comics_sold.columns))"
   ]
  },
  {
   "cell_type": "code",
   "execution_count": 22,
   "metadata": {},
   "outputs": [],
   "source": [
    "total_comics_sold = total_comics_sold.withColumn('bought', lit(1))"
   ]
  },
  {
   "cell_type": "markdown",
   "metadata": {},
   "source": [
    "I don't like that default column name. Let's fix that to be `qty_sold` again."
   ]
  },
  {
   "cell_type": "code",
   "execution_count": 23,
   "metadata": {},
   "outputs": [
    {
     "name": "stdout",
     "output_type": "stream",
     "text": [
      "+-----------+--------------------+-------------+------+\n",
      "|account_num|         comic_title|sum(qty_sold)|bought|\n",
      "+-----------+--------------------+-------------+------+\n",
      "|      02247|Bubblegun VOL 2 (...|            1|     1|\n",
      "|      00487|Captain Swing (Av...|            2|     1|\n",
      "|      00029|God Is Dead (Avatar)|            7|     1|\n",
      "|      01260| Providence (Avatar)|            1|     1|\n",
      "|      00172|   Supergod (Avatar)|            3|     1|\n",
      "|      02493|       Abbott (Boom)|            3|     1|\n",
      "|      00052|Adventure Time Ma...|            6|     1|\n",
      "|      00032|Big Trouble In Li...|           11|     1|\n",
      "|      01149| Broken World (Boom)|            2|     1|\n",
      "|      01489|Jim Henson Labyri...|            1|     1|\n",
      "+-----------+--------------------+-------------+------+\n",
      "only showing top 10 rows\n",
      "\n"
     ]
    }
   ],
   "source": [
    "total_comics_sold.show(10)"
   ]
  },
  {
   "cell_type": "code",
   "execution_count": 24,
   "metadata": {},
   "outputs": [],
   "source": [
    "cols = ['account_num', 'comic_title', 'bought']\n",
    "total_comics_sold = total_comics_sold[cols]"
   ]
  },
  {
   "cell_type": "code",
   "execution_count": 25,
   "metadata": {},
   "outputs": [
    {
     "name": "stdout",
     "output_type": "stream",
     "text": [
      "61871 3\n"
     ]
    }
   ],
   "source": [
    "print(total_comics_sold.count(), len(total_comics_sold.columns))"
   ]
  },
  {
   "cell_type": "markdown",
   "metadata": {},
   "source": [
    "### Formatting\n",
    "\n",
    "Sooooooo, I forgot that the values need to be numeric. So need to fix that.\n",
    "\n",
    "#### Convert `account_id` to integer"
   ]
  },
  {
   "cell_type": "code",
   "execution_count": 26,
   "metadata": {},
   "outputs": [],
   "source": [
    "to_int_udf = F.udf(dfc.make_int, IntegerType())"
   ]
  },
  {
   "cell_type": "code",
   "execution_count": 27,
   "metadata": {},
   "outputs": [],
   "source": [
    "account_num_col = total_comics_sold['account_num']"
   ]
  },
  {
   "cell_type": "code",
   "execution_count": 28,
   "metadata": {},
   "outputs": [
    {
     "data": {
      "text/plain": [
       "DataFrame[account_num: string, comic_title: string, bought: int, account_id: int]"
      ]
     },
     "execution_count": 28,
     "metadata": {},
     "output_type": "execute_result"
    }
   ],
   "source": [
    "total_comics_sold = total_comics_sold.withColumn('account_id'\n",
    "                                        ,to_int_udf(account_num_col))\n",
    "total_comics_sold.persist()"
   ]
  },
  {
   "cell_type": "code",
   "execution_count": 29,
   "metadata": {},
   "outputs": [
    {
     "name": "stdout",
     "output_type": "stream",
     "text": [
      "+-----------+--------------------+------+----------+\n",
      "|account_num|         comic_title|bought|account_id|\n",
      "+-----------+--------------------+------+----------+\n",
      "|      02247|Bubblegun VOL 2 (...|     1|      2247|\n",
      "|      00487|Captain Swing (Av...|     1|       487|\n",
      "|      00029|God Is Dead (Avatar)|     1|        29|\n",
      "|      01260| Providence (Avatar)|     1|      1260|\n",
      "|      00172|   Supergod (Avatar)|     1|       172|\n",
      "|      02493|       Abbott (Boom)|     1|      2493|\n",
      "|      00052|Adventure Time Ma...|     1|        52|\n",
      "|      00032|Big Trouble In Li...|     1|        32|\n",
      "|      01149| Broken World (Boom)|     1|      1149|\n",
      "|      01489|Jim Henson Labyri...|     1|      1489|\n",
      "+-----------+--------------------+------+----------+\n",
      "only showing top 10 rows\n",
      "\n"
     ]
    }
   ],
   "source": [
    "total_comics_sold.show(10)"
   ]
  },
  {
   "cell_type": "code",
   "execution_count": 30,
   "metadata": {},
   "outputs": [
    {
     "name": "stdout",
     "output_type": "stream",
     "text": [
      "61871 4\n"
     ]
    }
   ],
   "source": [
    "print(total_comics_sold.count(), len(total_comics_sold.columns))"
   ]
  },
  {
   "cell_type": "markdown",
   "metadata": {},
   "source": [
    "Now I need to find a way to give ids to the `comic_title`. Kind of clunky, but I do have the version in PostgreSQL of the big table. I can just build an ID table up there as source of truth. I could do something on PySpark side, but then think would want to save it somewhere (e.g. the DB) anyway. So might as well do it from the top.\n",
    "\n",
    "#### Get `comic_id`"
   ]
  },
  {
   "cell_type": "code",
   "execution_count": 31,
   "metadata": {},
   "outputs": [
    {
     "data": {
      "text/plain": [
       "DataFrame[comic_id: bigint, comic_title: string]"
      ]
     },
     "execution_count": 31,
     "metadata": {},
     "output_type": "execute_result"
    }
   ],
   "source": [
    "comics = sql_context.read.json('raw_data/comics.json')\n",
    "comics.persist()"
   ]
  },
  {
   "cell_type": "code",
   "execution_count": 32,
   "metadata": {},
   "outputs": [
    {
     "data": {
      "text/plain": [
       "7202"
      ]
     },
     "execution_count": 32,
     "metadata": {},
     "output_type": "execute_result"
    }
   ],
   "source": [
    "comics.count()"
   ]
  },
  {
   "cell_type": "code",
   "execution_count": 33,
   "metadata": {},
   "outputs": [
    {
     "name": "stdout",
     "output_type": "stream",
     "text": [
      "+--------+--------------------+\n",
      "|comic_id|         comic_title|\n",
      "+--------+--------------------+\n",
      "|       1|0Secret Wars (Mar...|\n",
      "|       2|100 Bullets Broth...|\n",
      "|       3|100 Penny Press L...|\n",
      "|       4|100 Penny Press S...|\n",
      "|       5|100 Penny Press T...|\n",
      "|       6|100 Penny Press T...|\n",
      "|       7|100th Anniversary...|\n",
      "|       8|12 Reasons To Die...|\n",
      "|       9|    13 Coins (Other)|\n",
      "|      10|13th Artifact One...|\n",
      "+--------+--------------------+\n",
      "only showing top 10 rows\n",
      "\n"
     ]
    }
   ],
   "source": [
    "comics.show(10)"
   ]
  },
  {
   "cell_type": "code",
   "execution_count": 34,
   "metadata": {},
   "outputs": [
    {
     "name": "stdout",
     "output_type": "stream",
     "text": [
      "7202 2\n"
     ]
    }
   ],
   "source": [
    "print(comics.count(), len(comics.columns))"
   ]
  },
  {
   "cell_type": "markdown",
   "metadata": {},
   "source": [
    "Now we need to join this back into `total_comics_sold`."
   ]
  },
  {
   "cell_type": "code",
   "execution_count": 35,
   "metadata": {},
   "outputs": [],
   "source": [
    "# Set aliases\n",
    "tot = total_comics_sold.alias('tot')\n",
    "com = comics.alias('com')"
   ]
  },
  {
   "cell_type": "code",
   "execution_count": 36,
   "metadata": {},
   "outputs": [
    {
     "name": "stdout",
     "output_type": "stream",
     "text": [
      "+----------+--------+------+\n",
      "|account_id|comic_id|bought|\n",
      "+----------+--------+------+\n",
      "|      2247|     995|     1|\n",
      "|       487|    1102|     1|\n",
      "|        29|    2680|     1|\n",
      "|      1260|    4870|     1|\n",
      "|       172|    6023|     1|\n",
      "|      2493|      66|     1|\n",
      "|        52|     116|     1|\n",
      "|        32|     755|     1|\n",
      "|      1149|     971|     1|\n",
      "|      1489|    3503|     1|\n",
      "+----------+--------+------+\n",
      "only showing top 10 rows\n",
      "\n"
     ]
    }
   ],
   "source": [
    "tot_sold_ids_only = tot.join(com.select('comic_id','comic_title')\n",
    "                      ,tot.comic_title==com.comic_title).select('account_id'\n",
    "                                                                , 'comic_id'\n",
    "                                                                , 'bought')\n",
    "tot_sold_ids_only.persist()\n",
    "tot_sold_ids_only.show(10)"
   ]
  },
  {
   "cell_type": "code",
   "execution_count": 37,
   "metadata": {},
   "outputs": [
    {
     "name": "stdout",
     "output_type": "stream",
     "text": [
      "root\n",
      " |-- account_id: integer (nullable = true)\n",
      " |-- comic_id: long (nullable = true)\n",
      " |-- bought: integer (nullable = false)\n",
      "\n"
     ]
    }
   ],
   "source": [
    "tot_sold_ids_only.printSchema()"
   ]
  },
  {
   "cell_type": "code",
   "execution_count": 38,
   "metadata": {},
   "outputs": [
    {
     "name": "stdout",
     "output_type": "stream",
     "text": [
      "61871 3\n"
     ]
    }
   ],
   "source": [
    "print(tot_sold_ids_only.count(), len(tot_sold_ids_only.columns))"
   ]
  },
  {
   "cell_type": "markdown",
   "metadata": {},
   "source": [
    "## Create table with zeros"
   ]
  },
  {
   "cell_type": "code",
   "execution_count": 39,
   "metadata": {},
   "outputs": [
    {
     "name": "stdout",
     "output_type": "stream",
     "text": [
      "+----------+\n",
      "|account_id|\n",
      "+----------+\n",
      "|       148|\n",
      "|      2659|\n",
      "|      1645|\n",
      "|      2142|\n",
      "|       833|\n",
      "|      1088|\n",
      "|      2866|\n",
      "|       897|\n",
      "|       243|\n",
      "|      1896|\n",
      "|      2811|\n",
      "|      2235|\n",
      "|      1025|\n",
      "|      1395|\n",
      "|      2563|\n",
      "|      1507|\n",
      "|      1522|\n",
      "|      1460|\n",
      "|      2393|\n",
      "|      1352|\n",
      "+----------+\n",
      "only showing top 20 rows\n",
      "\n"
     ]
    }
   ],
   "source": [
    "# Get all accounts\n",
    "acct_ids = tot_sold_ids_only.select(\"account_id\").distinct().persist()\n",
    "acct_ids.show()"
   ]
  },
  {
   "cell_type": "code",
   "execution_count": 40,
   "metadata": {},
   "outputs": [
    {
     "name": "stdout",
     "output_type": "stream",
     "text": [
      "+--------+\n",
      "|comic_id|\n",
      "+--------+\n",
      "|      26|\n",
      "|      29|\n",
      "|     474|\n",
      "|     964|\n",
      "|    1677|\n",
      "|    1697|\n",
      "|    1806|\n",
      "|    1950|\n",
      "|    2040|\n",
      "|    2214|\n",
      "|    2250|\n",
      "|    2453|\n",
      "|    2509|\n",
      "|    2529|\n",
      "|    2927|\n",
      "|    3091|\n",
      "|    3506|\n",
      "|    3764|\n",
      "|    4590|\n",
      "|    4823|\n",
      "+--------+\n",
      "only showing top 20 rows\n",
      "\n"
     ]
    }
   ],
   "source": [
    "# Get just comic_ids\n",
    "comic_ids = comics.select(\"comic_id\").distinct().persist()\n",
    "comic_ids.show()"
   ]
  },
  {
   "cell_type": "code",
   "execution_count": 41,
   "metadata": {},
   "outputs": [
    {
     "data": {
      "text/plain": [
       "7202"
      ]
     },
     "execution_count": 41,
     "metadata": {},
     "output_type": "execute_result"
    }
   ],
   "source": [
    "comic_ids.count()"
   ]
  },
  {
   "cell_type": "code",
   "execution_count": 42,
   "metadata": {},
   "outputs": [
    {
     "data": {
      "text/plain": [
       "1071"
      ]
     },
     "execution_count": 42,
     "metadata": {},
     "output_type": "execute_result"
    }
   ],
   "source": [
    "acct_ids.count()"
   ]
  },
  {
   "cell_type": "code",
   "execution_count": 51,
   "metadata": {},
   "outputs": [
    {
     "name": "stdout",
     "output_type": "stream",
     "text": [
      "+----------+--------+------+\n",
      "|account_id|comic_id|bought|\n",
      "+----------+--------+------+\n",
      "|      2247|     995|     1|\n",
      "|       487|    1102|     1|\n",
      "|        29|    2680|     1|\n",
      "|      1260|    4870|     1|\n",
      "|       172|    6023|     1|\n",
      "|      2493|      66|     1|\n",
      "|        52|     116|     1|\n",
      "|        32|     755|     1|\n",
      "|      1149|     971|     1|\n",
      "|      1489|    3503|     1|\n",
      "|      1234|    3979|     1|\n",
      "|       560|    4221|     1|\n",
      "|       130|    5497|     1|\n",
      "|       742|    6717|     1|\n",
      "|      1212|    5001|     1|\n",
      "|      1287|    7018|     1|\n",
      "|      1406|     136|     1|\n",
      "|       291|     260|     1|\n",
      "|        32|     525|     1|\n",
      "|       742|     762|     1|\n",
      "+----------+--------+------+\n",
      "only showing top 20 rows\n",
      "\n"
     ]
    }
   ],
   "source": [
    "tot_sold_ids_only.show()"
   ]
  },
  {
   "cell_type": "markdown",
   "metadata": {},
   "source": [
    "# Limit comic Ids to model\n",
    "\n",
    "I think keeping comics with only a handful of sales will be a little noisy. And to a more pragmatic point, the less comics, the less resource intensive it will be because the matrix will be not as big.\n",
    "\n",
    "Arbitrarily going to pick >= 20 sales for now."
   ]
  },
  {
   "cell_type": "code",
   "execution_count": 53,
   "metadata": {},
   "outputs": [],
   "source": [
    "comic_ids = ( tot_sold_ids_only.groupBy(\"comic_id\").count().\n",
    "             filter(col('count') >= 20).select(\"comic_id\")\n",
    "            )"
   ]
  },
  {
   "cell_type": "code",
   "execution_count": 54,
   "metadata": {},
   "outputs": [
    {
     "name": "stdout",
     "output_type": "stream",
     "text": [
      "+--------+\n",
      "|comic_id|\n",
      "+--------+\n",
      "|    2250|\n",
      "|    6721|\n",
      "|    3009|\n",
      "|    3015|\n",
      "|    7130|\n",
      "|    1010|\n",
      "|    2173|\n",
      "|    1840|\n",
      "|    4551|\n",
      "|    7121|\n",
      "|    1642|\n",
      "|     938|\n",
      "|     243|\n",
      "|     720|\n",
      "|     278|\n",
      "|    6287|\n",
      "|     705|\n",
      "|    2797|\n",
      "|    1217|\n",
      "|    1280|\n",
      "+--------+\n",
      "only showing top 20 rows\n",
      "\n"
     ]
    }
   ],
   "source": [
    "comic_ids.show()"
   ]
  },
  {
   "cell_type": "code",
   "execution_count": 55,
   "metadata": {},
   "outputs": [
    {
     "data": {
      "text/plain": [
       "790"
      ]
     },
     "execution_count": 55,
     "metadata": {},
     "output_type": "execute_result"
    }
   ],
   "source": [
    "comic_ids.count()"
   ]
  },
  {
   "cell_type": "markdown",
   "metadata": {},
   "source": [
    "#### Save to json"
   ]
  },
  {
   "cell_type": "code",
   "execution_count": 56,
   "metadata": {},
   "outputs": [],
   "source": [
    "comic_ids_df = comic_ids.toPandas()"
   ]
  },
  {
   "cell_type": "markdown",
   "metadata": {},
   "source": [
    "#### How many records are there after we limit to comics with mininum number of sales?"
   ]
  },
  {
   "cell_type": "code",
   "execution_count": 57,
   "metadata": {},
   "outputs": [
    {
     "data": {
      "text/plain": [
       "(327839, 8)"
      ]
     },
     "execution_count": 57,
     "metadata": {},
     "output_type": "execute_result"
    }
   ],
   "source": [
    "trans_df.shape"
   ]
  },
  {
   "cell_type": "code",
   "execution_count": 58,
   "metadata": {},
   "outputs": [
    {
     "data": {
      "text/plain": [
       "(790, 1)"
      ]
     },
     "execution_count": 58,
     "metadata": {},
     "output_type": "execute_result"
    }
   ],
   "source": [
    "comic_ids_df.shape"
   ]
  },
  {
   "cell_type": "code",
   "execution_count": 59,
   "metadata": {},
   "outputs": [
    {
     "data": {
      "text/plain": [
       "Index(['account_num', 'comic_title', 'date_sold', 'item_id', 'publisher',\n",
       "       'qty_sold', 'title_and_num', 'dt'],\n",
       "      dtype='object')"
      ]
     },
     "execution_count": 59,
     "metadata": {},
     "output_type": "execute_result"
    }
   ],
   "source": [
    "trans_df.columns"
   ]
  },
  {
   "cell_type": "markdown",
   "metadata": {},
   "source": [
    "Make a pandas df of `comics`"
   ]
  },
  {
   "cell_type": "code",
   "execution_count": 60,
   "metadata": {},
   "outputs": [],
   "source": [
    "comics_df = comics.toPandas()"
   ]
  },
  {
   "cell_type": "code",
   "execution_count": 61,
   "metadata": {},
   "outputs": [
    {
     "data": {
      "text/html": [
       "<div>\n",
       "<style scoped>\n",
       "    .dataframe tbody tr th:only-of-type {\n",
       "        vertical-align: middle;\n",
       "    }\n",
       "\n",
       "    .dataframe tbody tr th {\n",
       "        vertical-align: top;\n",
       "    }\n",
       "\n",
       "    .dataframe thead th {\n",
       "        text-align: right;\n",
       "    }\n",
       "</style>\n",
       "<table border=\"1\" class=\"dataframe\">\n",
       "  <thead>\n",
       "    <tr style=\"text-align: right;\">\n",
       "      <th></th>\n",
       "      <th>comic_id</th>\n",
       "      <th>comic_title</th>\n",
       "    </tr>\n",
       "  </thead>\n",
       "  <tbody>\n",
       "    <tr>\n",
       "      <td>0</td>\n",
       "      <td>1</td>\n",
       "      <td>0Secret Wars (Marvel)</td>\n",
       "    </tr>\n",
       "    <tr>\n",
       "      <td>1</td>\n",
       "      <td>2</td>\n",
       "      <td>100 Bullets Brother Lono (DC)</td>\n",
       "    </tr>\n",
       "    <tr>\n",
       "      <td>2</td>\n",
       "      <td>3</td>\n",
       "      <td>100 Penny Press Locke &amp; Key (IDW)</td>\n",
       "    </tr>\n",
       "    <tr>\n",
       "      <td>3</td>\n",
       "      <td>4</td>\n",
       "      <td>100 Penny Press Star Trek (IDW)</td>\n",
       "    </tr>\n",
       "    <tr>\n",
       "      <td>4</td>\n",
       "      <td>5</td>\n",
       "      <td>100 Penny Press Thunder Agent (IDW)</td>\n",
       "    </tr>\n",
       "  </tbody>\n",
       "</table>\n",
       "</div>"
      ],
      "text/plain": [
       "   comic_id                          comic_title\n",
       "0         1                0Secret Wars (Marvel)\n",
       "1         2        100 Bullets Brother Lono (DC)\n",
       "2         3    100 Penny Press Locke & Key (IDW)\n",
       "3         4      100 Penny Press Star Trek (IDW)\n",
       "4         5  100 Penny Press Thunder Agent (IDW)"
      ]
     },
     "execution_count": 61,
     "metadata": {},
     "output_type": "execute_result"
    }
   ],
   "source": [
    "comics_df.head()"
   ]
  },
  {
   "cell_type": "code",
   "execution_count": 62,
   "metadata": {},
   "outputs": [],
   "source": [
    "comics_df_filtered = comics_df.merge(comic_ids_df, right_on=\"comic_id\"\n",
    "                                     ,left_on=\"comic_id\"\n",
    "                                     ,how=\"inner\")"
   ]
  },
  {
   "cell_type": "code",
   "execution_count": 63,
   "metadata": {},
   "outputs": [
    {
     "data": {
      "text/plain": [
       "(790, 2)"
      ]
     },
     "execution_count": 63,
     "metadata": {},
     "output_type": "execute_result"
    }
   ],
   "source": [
    "comics_df_filtered.shape"
   ]
  },
  {
   "cell_type": "code",
   "execution_count": 64,
   "metadata": {},
   "outputs": [
    {
     "data": {
      "text/html": [
       "<div>\n",
       "<style scoped>\n",
       "    .dataframe tbody tr th:only-of-type {\n",
       "        vertical-align: middle;\n",
       "    }\n",
       "\n",
       "    .dataframe tbody tr th {\n",
       "        vertical-align: top;\n",
       "    }\n",
       "\n",
       "    .dataframe thead th {\n",
       "        text-align: right;\n",
       "    }\n",
       "</style>\n",
       "<table border=\"1\" class=\"dataframe\">\n",
       "  <thead>\n",
       "    <tr style=\"text-align: right;\">\n",
       "      <th></th>\n",
       "      <th>comic_id</th>\n",
       "      <th>comic_title</th>\n",
       "    </tr>\n",
       "  </thead>\n",
       "  <tbody>\n",
       "    <tr>\n",
       "      <td>0</td>\n",
       "      <td>7</td>\n",
       "      <td>100th Anniversary Special (Marvel)</td>\n",
       "    </tr>\n",
       "    <tr>\n",
       "      <td>1</td>\n",
       "      <td>59</td>\n",
       "      <td>8house Arclight (Image)</td>\n",
       "    </tr>\n",
       "    <tr>\n",
       "      <td>2</td>\n",
       "      <td>60</td>\n",
       "      <td>8house (Image)</td>\n",
       "    </tr>\n",
       "    <tr>\n",
       "      <td>3</td>\n",
       "      <td>68</td>\n",
       "      <td>Abe Sapien (Dark Horse)</td>\n",
       "    </tr>\n",
       "    <tr>\n",
       "      <td>4</td>\n",
       "      <td>69</td>\n",
       "      <td>Abe Sapien Devil Does Not Jes (Dark Horse)</td>\n",
       "    </tr>\n",
       "  </tbody>\n",
       "</table>\n",
       "</div>"
      ],
      "text/plain": [
       "   comic_id                                 comic_title\n",
       "0         7          100th Anniversary Special (Marvel)\n",
       "1        59                     8house Arclight (Image)\n",
       "2        60                              8house (Image)\n",
       "3        68                     Abe Sapien (Dark Horse)\n",
       "4        69  Abe Sapien Devil Does Not Jes (Dark Horse)"
      ]
     },
     "execution_count": 64,
     "metadata": {},
     "output_type": "execute_result"
    }
   ],
   "source": [
    "comics_df_filtered.head()"
   ]
  },
  {
   "cell_type": "code",
   "execution_count": 65,
   "metadata": {},
   "outputs": [
    {
     "data": {
      "text/plain": [
       "Index(['comic_id', 'comic_title'], dtype='object')"
      ]
     },
     "execution_count": 65,
     "metadata": {},
     "output_type": "execute_result"
    }
   ],
   "source": [
    "comics_df_filtered.columns"
   ]
  },
  {
   "cell_type": "code",
   "execution_count": 66,
   "metadata": {},
   "outputs": [
    {
     "data": {
      "text/plain": [
       "61871"
      ]
     },
     "execution_count": 66,
     "metadata": {},
     "output_type": "execute_result"
    }
   ],
   "source": [
    "tot_sold_ids_only.count()"
   ]
  },
  {
   "cell_type": "code",
   "execution_count": 67,
   "metadata": {},
   "outputs": [],
   "source": [
    "sold_ids_df = tot_sold_ids_only.toPandas()"
   ]
  },
  {
   "cell_type": "code",
   "execution_count": 68,
   "metadata": {},
   "outputs": [
    {
     "data": {
      "text/html": [
       "<div>\n",
       "<style scoped>\n",
       "    .dataframe tbody tr th:only-of-type {\n",
       "        vertical-align: middle;\n",
       "    }\n",
       "\n",
       "    .dataframe tbody tr th {\n",
       "        vertical-align: top;\n",
       "    }\n",
       "\n",
       "    .dataframe thead th {\n",
       "        text-align: right;\n",
       "    }\n",
       "</style>\n",
       "<table border=\"1\" class=\"dataframe\">\n",
       "  <thead>\n",
       "    <tr style=\"text-align: right;\">\n",
       "      <th></th>\n",
       "      <th>account_id</th>\n",
       "      <th>comic_id</th>\n",
       "      <th>bought</th>\n",
       "    </tr>\n",
       "  </thead>\n",
       "  <tbody>\n",
       "    <tr>\n",
       "      <td>0</td>\n",
       "      <td>2247</td>\n",
       "      <td>995</td>\n",
       "      <td>1</td>\n",
       "    </tr>\n",
       "    <tr>\n",
       "      <td>1</td>\n",
       "      <td>487</td>\n",
       "      <td>1102</td>\n",
       "      <td>1</td>\n",
       "    </tr>\n",
       "    <tr>\n",
       "      <td>2</td>\n",
       "      <td>29</td>\n",
       "      <td>2680</td>\n",
       "      <td>1</td>\n",
       "    </tr>\n",
       "    <tr>\n",
       "      <td>3</td>\n",
       "      <td>1260</td>\n",
       "      <td>4870</td>\n",
       "      <td>1</td>\n",
       "    </tr>\n",
       "    <tr>\n",
       "      <td>4</td>\n",
       "      <td>172</td>\n",
       "      <td>6023</td>\n",
       "      <td>1</td>\n",
       "    </tr>\n",
       "  </tbody>\n",
       "</table>\n",
       "</div>"
      ],
      "text/plain": [
       "   account_id  comic_id  bought\n",
       "0        2247       995       1\n",
       "1         487      1102       1\n",
       "2          29      2680       1\n",
       "3        1260      4870       1\n",
       "4         172      6023       1"
      ]
     },
     "execution_count": 68,
     "metadata": {},
     "output_type": "execute_result"
    }
   ],
   "source": [
    "sold_ids_df.head()"
   ]
  },
  {
   "cell_type": "code",
   "execution_count": 69,
   "metadata": {},
   "outputs": [],
   "source": [
    "sold_df_floored = sold_ids_df.merge(comics_df_filtered, right_on=\"comic_id\"\n",
    "                                  ,left_on=\"comic_id\"\n",
    "                                  ,how=\"inner\")"
   ]
  },
  {
   "cell_type": "code",
   "execution_count": 70,
   "metadata": {},
   "outputs": [
    {
     "data": {
      "text/html": [
       "<div>\n",
       "<style scoped>\n",
       "    .dataframe tbody tr th:only-of-type {\n",
       "        vertical-align: middle;\n",
       "    }\n",
       "\n",
       "    .dataframe tbody tr th {\n",
       "        vertical-align: top;\n",
       "    }\n",
       "\n",
       "    .dataframe thead th {\n",
       "        text-align: right;\n",
       "    }\n",
       "</style>\n",
       "<table border=\"1\" class=\"dataframe\">\n",
       "  <thead>\n",
       "    <tr style=\"text-align: right;\">\n",
       "      <th></th>\n",
       "      <th>account_id</th>\n",
       "      <th>comic_id</th>\n",
       "      <th>bought</th>\n",
       "      <th>comic_title</th>\n",
       "    </tr>\n",
       "  </thead>\n",
       "  <tbody>\n",
       "    <tr>\n",
       "      <td>0</td>\n",
       "      <td>487</td>\n",
       "      <td>1102</td>\n",
       "      <td>1</td>\n",
       "      <td>Captain Swing (Avatar)</td>\n",
       "    </tr>\n",
       "    <tr>\n",
       "      <td>1</td>\n",
       "      <td>47</td>\n",
       "      <td>1102</td>\n",
       "      <td>1</td>\n",
       "      <td>Captain Swing (Avatar)</td>\n",
       "    </tr>\n",
       "    <tr>\n",
       "      <td>2</td>\n",
       "      <td>215</td>\n",
       "      <td>1102</td>\n",
       "      <td>1</td>\n",
       "      <td>Captain Swing (Avatar)</td>\n",
       "    </tr>\n",
       "    <tr>\n",
       "      <td>3</td>\n",
       "      <td>628</td>\n",
       "      <td>1102</td>\n",
       "      <td>1</td>\n",
       "      <td>Captain Swing (Avatar)</td>\n",
       "    </tr>\n",
       "    <tr>\n",
       "      <td>4</td>\n",
       "      <td>39</td>\n",
       "      <td>1102</td>\n",
       "      <td>1</td>\n",
       "      <td>Captain Swing (Avatar)</td>\n",
       "    </tr>\n",
       "  </tbody>\n",
       "</table>\n",
       "</div>"
      ],
      "text/plain": [
       "   account_id  comic_id  bought             comic_title\n",
       "0         487      1102       1  Captain Swing (Avatar)\n",
       "1          47      1102       1  Captain Swing (Avatar)\n",
       "2         215      1102       1  Captain Swing (Avatar)\n",
       "3         628      1102       1  Captain Swing (Avatar)\n",
       "4          39      1102       1  Captain Swing (Avatar)"
      ]
     },
     "execution_count": 70,
     "metadata": {},
     "output_type": "execute_result"
    }
   ],
   "source": [
    "sold_df_floored.head()"
   ]
  },
  {
   "cell_type": "markdown",
   "metadata": {},
   "source": [
    "#### How many account-comic combos are there after filtering?"
   ]
  },
  {
   "cell_type": "code",
   "execution_count": 71,
   "metadata": {},
   "outputs": [
    {
     "data": {
      "text/plain": [
       "33138"
      ]
     },
     "execution_count": 71,
     "metadata": {},
     "output_type": "execute_result"
    }
   ],
   "source": [
    "sold_df_floored.shape[0]"
   ]
  },
  {
   "cell_type": "code",
   "execution_count": 72,
   "metadata": {},
   "outputs": [],
   "source": [
    "trans_floored = trans_df.merge(comics_df_filtered, right_on=\"comic_title\"\n",
    "                                  ,left_on=\"comic_title\"\n",
    "                                  ,how=\"inner\")"
   ]
  },
  {
   "cell_type": "code",
   "execution_count": 73,
   "metadata": {},
   "outputs": [
    {
     "data": {
      "text/html": [
       "<div>\n",
       "<style scoped>\n",
       "    .dataframe tbody tr th:only-of-type {\n",
       "        vertical-align: middle;\n",
       "    }\n",
       "\n",
       "    .dataframe tbody tr th {\n",
       "        vertical-align: top;\n",
       "    }\n",
       "\n",
       "    .dataframe thead th {\n",
       "        text-align: right;\n",
       "    }\n",
       "</style>\n",
       "<table border=\"1\" class=\"dataframe\">\n",
       "  <thead>\n",
       "    <tr style=\"text-align: right;\">\n",
       "      <th></th>\n",
       "      <th>account_num</th>\n",
       "      <th>comic_title</th>\n",
       "      <th>date_sold</th>\n",
       "      <th>item_id</th>\n",
       "      <th>publisher</th>\n",
       "      <th>qty_sold</th>\n",
       "      <th>title_and_num</th>\n",
       "      <th>dt</th>\n",
       "      <th>comic_id</th>\n",
       "    </tr>\n",
       "  </thead>\n",
       "  <tbody>\n",
       "    <tr>\n",
       "      <td>0</td>\n",
       "      <td>01033</td>\n",
       "      <td>Afterlife With Archie (Archie)</td>\n",
       "      <td>1390505789000</td>\n",
       "      <td>DCD630105</td>\n",
       "      <td>Archie Comics</td>\n",
       "      <td>1</td>\n",
       "      <td>Afterlife With Archie #1 2nd P</td>\n",
       "      <td>2014-01-23 19:36:29</td>\n",
       "      <td>128</td>\n",
       "    </tr>\n",
       "    <tr>\n",
       "      <td>1</td>\n",
       "      <td>01333</td>\n",
       "      <td>Afterlife With Archie (Archie)</td>\n",
       "      <td>1398947834000</td>\n",
       "      <td>DCD630105</td>\n",
       "      <td>Archie Comics</td>\n",
       "      <td>1</td>\n",
       "      <td>Afterlife With Archie #1 2nd P</td>\n",
       "      <td>2014-05-01 12:37:14</td>\n",
       "      <td>128</td>\n",
       "    </tr>\n",
       "    <tr>\n",
       "      <td>2</td>\n",
       "      <td>00946</td>\n",
       "      <td>Afterlife With Archie (Archie)</td>\n",
       "      <td>1399904156000</td>\n",
       "      <td>DCD630105</td>\n",
       "      <td>Archie Comics</td>\n",
       "      <td>1</td>\n",
       "      <td>Afterlife With Archie #1 2nd P</td>\n",
       "      <td>2014-05-12 14:15:56</td>\n",
       "      <td>128</td>\n",
       "    </tr>\n",
       "    <tr>\n",
       "      <td>3</td>\n",
       "      <td>01278</td>\n",
       "      <td>Afterlife With Archie (Archie)</td>\n",
       "      <td>1407954335000</td>\n",
       "      <td>DCD630105</td>\n",
       "      <td>Archie Comics</td>\n",
       "      <td>1</td>\n",
       "      <td>Afterlife With Archie #1 2nd P</td>\n",
       "      <td>2014-08-13 18:25:35</td>\n",
       "      <td>128</td>\n",
       "    </tr>\n",
       "    <tr>\n",
       "      <td>4</td>\n",
       "      <td>01212</td>\n",
       "      <td>Afterlife With Archie (Archie)</td>\n",
       "      <td>1383751270000</td>\n",
       "      <td>DCD630105</td>\n",
       "      <td>Archie Comics</td>\n",
       "      <td>1</td>\n",
       "      <td>Afterlife With Archie #1 2nd P</td>\n",
       "      <td>2013-11-06 15:21:10</td>\n",
       "      <td>128</td>\n",
       "    </tr>\n",
       "  </tbody>\n",
       "</table>\n",
       "</div>"
      ],
      "text/plain": [
       "  account_num                     comic_title      date_sold    item_id  \\\n",
       "0       01033  Afterlife With Archie (Archie)  1390505789000  DCD630105   \n",
       "1       01333  Afterlife With Archie (Archie)  1398947834000  DCD630105   \n",
       "2       00946  Afterlife With Archie (Archie)  1399904156000  DCD630105   \n",
       "3       01278  Afterlife With Archie (Archie)  1407954335000  DCD630105   \n",
       "4       01212  Afterlife With Archie (Archie)  1383751270000  DCD630105   \n",
       "\n",
       "       publisher  qty_sold                   title_and_num  \\\n",
       "0  Archie Comics         1  Afterlife With Archie #1 2nd P   \n",
       "1  Archie Comics         1  Afterlife With Archie #1 2nd P   \n",
       "2  Archie Comics         1  Afterlife With Archie #1 2nd P   \n",
       "3  Archie Comics         1  Afterlife With Archie #1 2nd P   \n",
       "4  Archie Comics         1  Afterlife With Archie #1 2nd P   \n",
       "\n",
       "                   dt  comic_id  \n",
       "0 2014-01-23 19:36:29       128  \n",
       "1 2014-05-01 12:37:14       128  \n",
       "2 2014-05-12 14:15:56       128  \n",
       "3 2014-08-13 18:25:35       128  \n",
       "4 2013-11-06 15:21:10       128  "
      ]
     },
     "execution_count": 73,
     "metadata": {},
     "output_type": "execute_result"
    }
   ],
   "source": [
    "trans_floored.head()"
   ]
  },
  {
   "cell_type": "code",
   "execution_count": 74,
   "metadata": {},
   "outputs": [
    {
     "data": {
      "text/plain": [
       "1051"
      ]
     },
     "execution_count": 74,
     "metadata": {},
     "output_type": "execute_result"
    }
   ],
   "source": [
    "len(trans_floored['account_num'].unique())"
   ]
  },
  {
   "cell_type": "markdown",
   "metadata": {},
   "source": [
    "#### How many transactions after all filters\n",
    "- Accounts with >= 5 transactions and <= 300 transactions\n",
    "- Comics that have been bought by >= 20 accounts"
   ]
  },
  {
   "cell_type": "code",
   "execution_count": null,
   "metadata": {},
   "outputs": [],
   "source": [
    "trans_floored.shape[0]"
   ]
  },
  {
   "cell_type": "markdown",
   "metadata": {},
   "source": [
    "#### Number of comic - account combos"
   ]
  },
  {
   "cell_type": "code",
   "execution_count": null,
   "metadata": {},
   "outputs": [],
   "source": [
    "sold_df_floored.shape"
   ]
  },
  {
   "cell_type": "markdown",
   "metadata": {},
   "source": [
    "#### Number of unique accounts before filtering"
   ]
  },
  {
   "cell_type": "code",
   "execution_count": null,
   "metadata": {},
   "outputs": [],
   "source": [
    "len(sold_ids_df['account_id'].unique())"
   ]
  },
  {
   "cell_type": "markdown",
   "metadata": {},
   "source": [
    "#### Number of unique accounts after filtering"
   ]
  },
  {
   "cell_type": "code",
   "execution_count": 45,
   "metadata": {},
   "outputs": [
    {
     "ename": "NameError",
     "evalue": "name 'sold_df_floored' is not defined",
     "output_type": "error",
     "traceback": [
      "\u001b[0;31m---------------------------------------------------------------------------\u001b[0m",
      "\u001b[0;31mNameError\u001b[0m                                 Traceback (most recent call last)",
      "\u001b[0;32m<ipython-input-45-a4cbb262f154>\u001b[0m in \u001b[0;36m<module>\u001b[0;34m\u001b[0m\n\u001b[0;32m----> 1\u001b[0;31m \u001b[0mlen\u001b[0m\u001b[0;34m(\u001b[0m\u001b[0msold_df_floored\u001b[0m\u001b[0;34m[\u001b[0m\u001b[0;34m'account_id'\u001b[0m\u001b[0;34m]\u001b[0m\u001b[0;34m.\u001b[0m\u001b[0munique\u001b[0m\u001b[0;34m(\u001b[0m\u001b[0;34m)\u001b[0m\u001b[0;34m)\u001b[0m\u001b[0;34m\u001b[0m\u001b[0;34m\u001b[0m\u001b[0m\n\u001b[0m",
      "\u001b[0;31mNameError\u001b[0m: name 'sold_df_floored' is not defined"
     ]
    }
   ],
   "source": [
    "len(sold_df_floored['account_id'].unique())"
   ]
  },
  {
   "cell_type": "code",
   "execution_count": 46,
   "metadata": {},
   "outputs": [
    {
     "ename": "NameError",
     "evalue": "name 'comic_ids_df' is not defined",
     "output_type": "error",
     "traceback": [
      "\u001b[0;31m---------------------------------------------------------------------------\u001b[0m",
      "\u001b[0;31mNameError\u001b[0m                                 Traceback (most recent call last)",
      "\u001b[0;32m<ipython-input-46-cb45fba6a451>\u001b[0m in \u001b[0;36m<module>\u001b[0;34m\u001b[0m\n\u001b[0;32m----> 1\u001b[0;31m comic_ids_df.to_json('raw_data/comic_ids.json', orient='records'\n\u001b[0m\u001b[1;32m      2\u001b[0m                      ,lines=True)\n",
      "\u001b[0;31mNameError\u001b[0m: name 'comic_ids_df' is not defined"
     ]
    }
   ],
   "source": [
    "comic_ids_df.to_json('raw_data/comic_ids.json', orient='records'\n",
    "                     ,lines=True)"
   ]
  },
  {
   "cell_type": "code",
   "execution_count": 47,
   "metadata": {},
   "outputs": [
    {
     "ename": "NameError",
     "evalue": "name 'comic_ids_df' is not defined",
     "output_type": "error",
     "traceback": [
      "\u001b[0;31m---------------------------------------------------------------------------\u001b[0m",
      "\u001b[0;31mNameError\u001b[0m                                 Traceback (most recent call last)",
      "\u001b[0;32m<ipython-input-47-7784d65d59e6>\u001b[0m in \u001b[0;36m<module>\u001b[0;34m\u001b[0m\n\u001b[0;32m----> 1\u001b[0;31m \u001b[0mcomic_ids_df\u001b[0m\u001b[0;34m.\u001b[0m\u001b[0mhead\u001b[0m\u001b[0;34m(\u001b[0m\u001b[0;34m)\u001b[0m\u001b[0;34m\u001b[0m\u001b[0;34m\u001b[0m\u001b[0m\n\u001b[0m",
      "\u001b[0;31mNameError\u001b[0m: name 'comic_ids_df' is not defined"
     ]
    }
   ],
   "source": [
    "comic_ids_df.head()"
   ]
  },
  {
   "cell_type": "code",
   "execution_count": 48,
   "metadata": {},
   "outputs": [
    {
     "data": {
      "text/plain": [
       "1071"
      ]
     },
     "execution_count": 48,
     "metadata": {},
     "output_type": "execute_result"
    }
   ],
   "source": [
    "acct_ids.count()"
   ]
  },
  {
   "cell_type": "code",
   "execution_count": 49,
   "metadata": {},
   "outputs": [],
   "source": [
    "cccdf = pd.read_json('raw_data/comic_ids.json',orient='records', lines=True )"
   ]
  },
  {
   "cell_type": "code",
   "execution_count": 54,
   "metadata": {},
   "outputs": [
    {
     "data": {
      "text/plain": [
       "846090"
      ]
     },
     "execution_count": 54,
     "metadata": {},
     "output_type": "execute_result"
    }
   ],
   "source": [
    "total_combos = comic_ids.count() * acct_ids.count()\n",
    "total_combos"
   ]
  },
  {
   "cell_type": "code",
   "execution_count": 55,
   "metadata": {},
   "outputs": [],
   "source": [
    "# Join together\n",
    "all_combos = comic_ids.crossJoin(acct_ids).persist()"
   ]
  },
  {
   "cell_type": "code",
   "execution_count": 56,
   "metadata": {},
   "outputs": [],
   "source": [
    "#all_combos.count()"
   ]
  },
  {
   "cell_type": "code",
   "execution_count": 57,
   "metadata": {},
   "outputs": [],
   "source": [
    "sold = tot_sold_ids_only.alias(\"sold\")"
   ]
  },
  {
   "cell_type": "code",
   "execution_count": 58,
   "metadata": {},
   "outputs": [
    {
     "data": {
      "text/plain": [
       "['account_id', 'comic_id', 'bought']"
      ]
     },
     "execution_count": 58,
     "metadata": {},
     "output_type": "execute_result"
    }
   ],
   "source": [
    "tot_sold_ids_only.columns"
   ]
  },
  {
   "cell_type": "code",
   "execution_count": 59,
   "metadata": {},
   "outputs": [],
   "source": [
    "#all_combos.columns"
   ]
  },
  {
   "cell_type": "code",
   "execution_count": 60,
   "metadata": {},
   "outputs": [],
   "source": [
    "final_combos = all_combos.join(sold, [sold.comic_id == all_combos.comic_id\n",
    "                                      ,sold.account_id == all_combos.account_id], \n",
    "                              \"left\").select(all_combos.comic_id\n",
    "                                             ,all_combos.account_id\n",
    "                                             ,sold.bought).fillna(0).persist()"
   ]
  },
  {
   "cell_type": "code",
   "execution_count": 61,
   "metadata": {},
   "outputs": [
    {
     "name": "stdout",
     "output_type": "stream",
     "text": [
      "+--------+----------+------+\n",
      "|comic_id|account_id|bought|\n",
      "+--------+----------+------+\n",
      "|    2250|       148|     0|\n",
      "|    2250|      2659|     0|\n",
      "|    2250|      1645|     0|\n",
      "|    2250|      2142|     0|\n",
      "|    2250|       833|     0|\n",
      "|    2250|      1088|     0|\n",
      "|    2250|      2866|     0|\n",
      "|    2250|       897|     0|\n",
      "|    2250|       243|     0|\n",
      "|    2250|      1896|     0|\n",
      "|    2250|      2811|     0|\n",
      "|    2250|      2235|     0|\n",
      "|    2250|      1025|     0|\n",
      "|    2250|      1395|     0|\n",
      "|    2250|      2563|     0|\n",
      "|    2250|      1507|     0|\n",
      "|    2250|      1522|     0|\n",
      "|    2250|      1460|     0|\n",
      "|    2250|      2393|     0|\n",
      "|    2250|      1352|     0|\n",
      "+--------+----------+------+\n",
      "only showing top 20 rows\n",
      "\n"
     ]
    }
   ],
   "source": [
    "final_combos.show()"
   ]
  },
  {
   "cell_type": "code",
   "execution_count": 62,
   "metadata": {},
   "outputs": [
    {
     "data": {
      "text/plain": [
       "846090"
      ]
     },
     "execution_count": 62,
     "metadata": {},
     "output_type": "execute_result"
    }
   ],
   "source": [
    "final_combos.count()"
   ]
  },
  {
   "cell_type": "code",
   "execution_count": 63,
   "metadata": {},
   "outputs": [
    {
     "data": {
      "text/plain": [
       "0.9268742095994515"
      ]
     },
     "execution_count": 63,
     "metadata": {},
     "output_type": "execute_result"
    }
   ],
   "source": [
    "sparse_numerator = sold.count()\n",
    "sparse_denominator = final_combos.count()\n",
    "sparsity = 1 - (sparse_numerator/sparse_denominator)\n",
    "sparsity"
   ]
  },
  {
   "cell_type": "code",
   "execution_count": 64,
   "metadata": {},
   "outputs": [],
   "source": [
    "#df2.coalesce(1).write.format('json').save('/path/file_name.json')"
   ]
  },
  {
   "cell_type": "code",
   "execution_count": 65,
   "metadata": {},
   "outputs": [],
   "source": [
    "#final_combos.write.format('json').save('raw_data/als_input_filtered_190915.json')"
   ]
  },
  {
   "cell_type": "markdown",
   "metadata": {},
   "source": [
    "## Save this intermediate table.\n",
    "\n",
    "To save work, if needed."
   ]
  },
  {
   "cell_type": "code",
   "execution_count": 66,
   "metadata": {},
   "outputs": [],
   "source": [
    "final_combos.rdd.saveAsPickleFile('raw_data/als_input_filtered_190915.pkl')"
   ]
  },
  {
   "cell_type": "markdown",
   "metadata": {},
   "source": [
    "Test reconstituting the pickle"
   ]
  },
  {
   "cell_type": "code",
   "execution_count": 67,
   "metadata": {},
   "outputs": [],
   "source": [
    "#pickleRdd = sc.pickleFile('raw_data/als_input_filtered_190915.pkl').collect()\n",
    "#df2 = sql_context.createDataFrame(pickleRdd)"
   ]
  },
  {
   "cell_type": "code",
   "execution_count": 68,
   "metadata": {},
   "outputs": [],
   "source": [
    "als_data = final_combos.toPandas()"
   ]
  },
  {
   "cell_type": "code",
   "execution_count": 69,
   "metadata": {},
   "outputs": [],
   "source": [
    "#als_data.shape"
   ]
  },
  {
   "cell_type": "code",
   "execution_count": 70,
   "metadata": {},
   "outputs": [],
   "source": [
    "als_data.to_json('raw_data/als_input_filtered_190915.json', orient='records'\n",
    "                     ,lines=True)"
   ]
  },
  {
   "cell_type": "code",
   "execution_count": null,
   "metadata": {},
   "outputs": [],
   "source": [
    "#!head raw_data/als_input_filtered.json"
   ]
  },
  {
   "cell_type": "code",
   "execution_count": null,
   "metadata": {},
   "outputs": [],
   "source": []
  },
  {
   "cell_type": "code",
   "execution_count": null,
   "metadata": {},
   "outputs": [],
   "source": []
  },
  {
   "cell_type": "code",
   "execution_count": null,
   "metadata": {},
   "outputs": [],
   "source": []
  },
  {
   "cell_type": "code",
   "execution_count": null,
   "metadata": {},
   "outputs": [],
   "source": [
    "import"
   ]
  },
  {
   "cell_type": "code",
   "execution_count": 75,
   "metadata": {},
   "outputs": [],
   "source": [
    "unpickled_items = pd.read_pickle('support_data/item_factors_20190916.pkl')"
   ]
  },
  {
   "cell_type": "code",
   "execution_count": 76,
   "metadata": {},
   "outputs": [
    {
     "data": {
      "text/html": [
       "<div>\n",
       "<style scoped>\n",
       "    .dataframe tbody tr th:only-of-type {\n",
       "        vertical-align: middle;\n",
       "    }\n",
       "\n",
       "    .dataframe tbody tr th {\n",
       "        vertical-align: top;\n",
       "    }\n",
       "\n",
       "    .dataframe thead th {\n",
       "        text-align: right;\n",
       "    }\n",
       "</style>\n",
       "<table border=\"1\" class=\"dataframe\">\n",
       "  <thead>\n",
       "    <tr style=\"text-align: right;\">\n",
       "      <th></th>\n",
       "      <th>comic_id</th>\n",
       "      <th>comic_title</th>\n",
       "    </tr>\n",
       "  </thead>\n",
       "  <tbody>\n",
       "    <tr>\n",
       "      <td>0</td>\n",
       "      <td>1</td>\n",
       "      <td>0Secret Wars (Marvel)</td>\n",
       "    </tr>\n",
       "    <tr>\n",
       "      <td>1</td>\n",
       "      <td>2</td>\n",
       "      <td>100 Bullets Brother Lono (DC)</td>\n",
       "    </tr>\n",
       "    <tr>\n",
       "      <td>2</td>\n",
       "      <td>3</td>\n",
       "      <td>100 Penny Press Locke &amp; Key (IDW)</td>\n",
       "    </tr>\n",
       "    <tr>\n",
       "      <td>3</td>\n",
       "      <td>4</td>\n",
       "      <td>100 Penny Press Star Trek (IDW)</td>\n",
       "    </tr>\n",
       "    <tr>\n",
       "      <td>4</td>\n",
       "      <td>5</td>\n",
       "      <td>100 Penny Press Thunder Agent (IDW)</td>\n",
       "    </tr>\n",
       "  </tbody>\n",
       "</table>\n",
       "</div>"
      ],
      "text/plain": [
       "   comic_id                          comic_title\n",
       "0         1                0Secret Wars (Marvel)\n",
       "1         2        100 Bullets Brother Lono (DC)\n",
       "2         3    100 Penny Press Locke & Key (IDW)\n",
       "3         4      100 Penny Press Star Trek (IDW)\n",
       "4         5  100 Penny Press Thunder Agent (IDW)"
      ]
     },
     "execution_count": 76,
     "metadata": {},
     "output_type": "execute_result"
    }
   ],
   "source": [
    "comics_df.head()"
   ]
  },
  {
   "cell_type": "code",
   "execution_count": 77,
   "metadata": {},
   "outputs": [
    {
     "data": {
      "text/html": [
       "<div>\n",
       "<style scoped>\n",
       "    .dataframe tbody tr th:only-of-type {\n",
       "        vertical-align: middle;\n",
       "    }\n",
       "\n",
       "    .dataframe tbody tr th {\n",
       "        vertical-align: top;\n",
       "    }\n",
       "\n",
       "    .dataframe thead th {\n",
       "        text-align: right;\n",
       "    }\n",
       "</style>\n",
       "<table border=\"1\" class=\"dataframe\">\n",
       "  <thead>\n",
       "    <tr style=\"text-align: right;\">\n",
       "      <th></th>\n",
       "      <th>id</th>\n",
       "      <th>features</th>\n",
       "    </tr>\n",
       "  </thead>\n",
       "  <tbody>\n",
       "    <tr>\n",
       "      <td>0</td>\n",
       "      <td>60</td>\n",
       "      <td>[0.01743680238723755, 0.007148396223783493, 1....</td>\n",
       "    </tr>\n",
       "    <tr>\n",
       "      <td>1</td>\n",
       "      <td>80</td>\n",
       "      <td>[0.0, 0.0, 0.03249182552099228, 0.113230571150...</td>\n",
       "    </tr>\n",
       "    <tr>\n",
       "      <td>2</td>\n",
       "      <td>110</td>\n",
       "      <td>[0.3528019189834595, 0.0, 0.0, 0.0, 0.27173796...</td>\n",
       "    </tr>\n",
       "    <tr>\n",
       "      <td>3</td>\n",
       "      <td>200</td>\n",
       "      <td>[0.014895367436110973, 0.32599085569381714, 0....</td>\n",
       "    </tr>\n",
       "    <tr>\n",
       "      <td>4</td>\n",
       "      <td>240</td>\n",
       "      <td>[0.0, 0.05928525701165199, 0.0, 0.0, 0.7101511...</td>\n",
       "    </tr>\n",
       "  </tbody>\n",
       "</table>\n",
       "</div>"
      ],
      "text/plain": [
       "    id                                           features\n",
       "0   60  [0.01743680238723755, 0.007148396223783493, 1....\n",
       "1   80  [0.0, 0.0, 0.03249182552099228, 0.113230571150...\n",
       "2  110  [0.3528019189834595, 0.0, 0.0, 0.0, 0.27173796...\n",
       "3  200  [0.014895367436110973, 0.32599085569381714, 0....\n",
       "4  240  [0.0, 0.05928525701165199, 0.0, 0.0, 0.7101511..."
      ]
     },
     "execution_count": 77,
     "metadata": {},
     "output_type": "execute_result"
    }
   ],
   "source": [
    "unpickled_items.head()"
   ]
  },
  {
   "cell_type": "code",
   "execution_count": 78,
   "metadata": {},
   "outputs": [],
   "source": [
    "ddd = unpickled_items.merge(comics_df, left_on='id', right_on='comic_id', how=\"inner\")"
   ]
  },
  {
   "cell_type": "code",
   "execution_count": 82,
   "metadata": {},
   "outputs": [
    {
     "data": {
      "text/html": [
       "<div>\n",
       "<style scoped>\n",
       "    .dataframe tbody tr th:only-of-type {\n",
       "        vertical-align: middle;\n",
       "    }\n",
       "\n",
       "    .dataframe tbody tr th {\n",
       "        vertical-align: top;\n",
       "    }\n",
       "\n",
       "    .dataframe thead th {\n",
       "        text-align: right;\n",
       "    }\n",
       "</style>\n",
       "<table border=\"1\" class=\"dataframe\">\n",
       "  <thead>\n",
       "    <tr style=\"text-align: right;\">\n",
       "      <th></th>\n",
       "      <th>id</th>\n",
       "      <th>features</th>\n",
       "      <th>comic_id</th>\n",
       "      <th>comic_title</th>\n",
       "    </tr>\n",
       "  </thead>\n",
       "  <tbody>\n",
       "    <tr>\n",
       "      <td>0</td>\n",
       "      <td>60</td>\n",
       "      <td>[0.01743680238723755, 0.007148396223783493, 1.06563401222229, 0.04059157520532608, 0.019294701516628265, 0.0, 0.0, 0.0, 0.0, 0.0, 0.0, 0.0, 0.0, 0.0, 0.0, 0.006994778756052256, 0.0, 0.0, 0.0, 0.017005732282996178, 0.0, 0.036391135305166245, 0.0, 0.0, 0.0, 0.2501244843006134, 0.0, 0.0, 0.0, 0.0]</td>\n",
       "      <td>60</td>\n",
       "      <td>8house (Image)</td>\n",
       "    </tr>\n",
       "    <tr>\n",
       "      <td>1</td>\n",
       "      <td>80</td>\n",
       "      <td>[0.0, 0.0, 0.03249182552099228, 0.11323057115077972, 0.0, 0.0, 0.0, 0.7948412299156189, 0.0, 0.0, 0.0, 0.0, 0.23714490234851837, 0.03495769575238228, 0.29481297731399536, 0.0, 0.0, 0.0, 0.0, 0.0, 0.0, 0.22936636209487915, 0.03450985625386238, 0.0, 0.0, 0.0, 0.0, 0.0, 0.0, 0.12904486060142517]</td>\n",
       "      <td>80</td>\n",
       "      <td>Action Comics Annual (DC)</td>\n",
       "    </tr>\n",
       "    <tr>\n",
       "      <td>2</td>\n",
       "      <td>110</td>\n",
       "      <td>[0.3528019189834595, 0.0, 0.0, 0.0, 0.2717379629611969, 0.09929965436458588, 0.03336532041430473, 0.0, 0.0, 0.02282828837633133, 0.00937669724225998, 0.03452523052692413, 0.0, 0.0, 0.11529584974050522, 0.0, 0.0, 0.0, 0.12241517752408981, 0.01565462350845337, 0.13469548523426056, 0.003043871372938156, 0.856399416923523, 0.0, 0.0, 0.0, 0.0, 0.0, 0.12838362157344818, 0.10266077518463135]</td>\n",
       "      <td>110</td>\n",
       "      <td>Adventure Time (Boom)</td>\n",
       "    </tr>\n",
       "    <tr>\n",
       "      <td>3</td>\n",
       "      <td>200</td>\n",
       "      <td>[0.014895367436110973, 0.32599085569381714, 0.09774906188249588, 0.05869003385305405, 0.016703536733984947, 0.0, 0.13506878912448883, 0.0, 0.0, 0.27643218636512756, 0.0, 0.03294535353779793, 0.0, 0.0, 0.18430395424365997, 0.9149331450462341, 0.13594630360603333, 0.0, 0.00893563311547041, 0.0, 0.0, 0.013972891494631767, 0.0, 0.0011329196859151125, 0.03825383633375168, 0.08892543613910675, 0.05580912530422211, 0.0, 0.0, 0.4417659640312195]</td>\n",
       "      <td>200</td>\n",
       "      <td>All Star Batman (DC)</td>\n",
       "    </tr>\n",
       "    <tr>\n",
       "      <td>4</td>\n",
       "      <td>240</td>\n",
       "      <td>[0.0, 0.05928525701165199, 0.0, 0.0, 0.7101511359214783, 0.0, 0.08753978461027145, 0.0, 0.06151632219552994, 0.2771930396556854, 0.0, 0.007922252640128136, 0.0, 0.0, 0.3503260612487793, 0.14580319821834564, 0.0, 0.0, 0.0, 0.0, 0.0, 0.0, 0.0, 0.0, 0.0, 0.11093205213546753, 0.19919617474079132, 0.0, 0.3611432611942291, 0.0]</td>\n",
       "      <td>240</td>\n",
       "      <td>American Vampire Anthology (Vertigo)</td>\n",
       "    </tr>\n",
       "    <tr>\n",
       "      <td>5</td>\n",
       "      <td>350</td>\n",
       "      <td>[0.055682793259620667, 0.0, 0.6749863028526306, 0.013113686814904213, 0.0, 0.0, 0.0, 0.0, 0.0, 0.3045289218425751, 0.0, 0.0, 0.0, 0.0, 0.0, 0.0, 0.0, 0.11782069504261017, 0.0, 0.0, 0.1311940848827362, 0.0, 0.0, 0.0, 0.21315258741378784, 0.0, 0.14129380881786346, 0.0, 0.03982365503907204, 0.0]</td>\n",
       "      <td>350</td>\n",
       "      <td>Archie Vs Predator (Dark Horse)</td>\n",
       "    </tr>\n",
       "    <tr>\n",
       "      <td>6</td>\n",
       "      <td>390</td>\n",
       "      <td>[0.0, 0.0, 0.0, 0.0, 0.0, 0.0, 0.0, 0.09049921482801437, 0.0, 0.0024481131695210934, 0.5992349982261658, 0.0, 0.0, 0.2540118396282196, 0.0, 0.0, 0.0, 0.0, 0.07782304286956787, 0.0, 0.0, 0.27484744787216187, 0.0, 0.0, 0.0, 0.0, 0.04194454848766327, 0.6620481014251709, 0.2000151425600052, 0.0]</td>\n",
       "      <td>390</td>\n",
       "      <td>Astonishing X-Men Xenogenesi (Marvel)</td>\n",
       "    </tr>\n",
       "    <tr>\n",
       "      <td>7</td>\n",
       "      <td>550</td>\n",
       "      <td>[0.0, 0.0, 0.0, 0.0, 0.09550059586763382, 0.0, 0.0, 0.0, 0.0, 0.0, 0.0, 0.0, 0.0, 0.0, 0.0, 0.19406788051128387, 0.0, 0.0, 0.0, 0.0, 0.0, 0.0, 0.0, 0.0, 0.18187861144542694, 0.0, 0.0, 0.0, 0.0, 0.8805615901947021]</td>\n",
       "      <td>550</td>\n",
       "      <td>Batgirl and the Birds of Pre (DC)</td>\n",
       "    </tr>\n",
       "    <tr>\n",
       "      <td>8</td>\n",
       "      <td>560</td>\n",
       "      <td>[0.0, 0.0, 0.0, 0.2889896333217621, 0.03442985936999321, 0.0, 0.2645479738712311, 0.1785186529159546, 0.0, 0.0, 0.0, 0.0, 0.0, 0.0, 0.418406218290329, 0.012604725547134876, 0.0, 0.0, 0.0, 0.0, 0.0, 0.0, 0.0, 0.0, 0.0, 0.0, 0.0, 0.0, 0.17129376530647278, 0.0]</td>\n",
       "      <td>560</td>\n",
       "      <td>Batman 66 (DC)</td>\n",
       "    </tr>\n",
       "    <tr>\n",
       "      <td>9</td>\n",
       "      <td>570</td>\n",
       "      <td>[0.0, 0.0, 0.0, 0.0, 0.0255747027695179, 0.0, 0.046012356877326965, 0.8284474611282349, 0.0, 0.0, 0.0, 0.1420568823814392, 0.005514445248991251, 0.0, 0.43158581852912903, 0.09791368991136551, 0.0, 0.0, 0.005919487215578556, 0.0, 0.0, 0.10296624898910522, 0.0, 0.0, 0.10007777810096741, 0.0175032876431942, 0.0, 0.025328125804662704, 0.0, 0.0]</td>\n",
       "      <td>570</td>\n",
       "      <td>Batman and Batgirl (DC)</td>\n",
       "    </tr>\n",
       "    <tr>\n",
       "      <td>10</td>\n",
       "      <td>610</td>\n",
       "      <td>[0.08776631951332092, 0.11949456483125687, 0.10800674557685852, 0.11326631158590317, 0.03535483404994011, 0.11744622886180878, 0.2232334017753601, 0.2814006805419922, 0.11848031729459763, 0.1477700173854828, 0.16663454473018646, 0.15001609921455383, 0.09289687871932983, 0.13396859169006348, 0.15592695772647858, 0.44703343510627747, 1.1138020753860474, 0.13549573719501495, 0.09525004774332047, 0.24038442969322205, 0.09271090477705002, 0.09144192188978195, 0.11011766642332077, 0.2522081434726715, 0.026044361293315887, 0.13150647282600403, 0.05181267112493515, 0.3333348035812378, 0.0014394682366400957, 0.2734295725822449]</td>\n",
       "      <td>610</td>\n",
       "      <td>Batman (DC)</td>\n",
       "    </tr>\n",
       "    <tr>\n",
       "      <td>11</td>\n",
       "      <td>630</td>\n",
       "      <td>[0.0, 0.0, 0.0, 0.0, 0.055952973663806915, 0.0, 0.053831394761800766, 0.3566001057624817, 0.0, 0.0021601414773613214, 0.0, 0.0, 0.08236465603113174, 0.0, 0.7437989115715027, 0.13321879506111145, 0.0, 0.0, 0.0, 0.0, 0.0, 0.01524095144122839, 0.0, 0.0, 0.0010975305922329426, 0.0, 0.03346440568566322, 0.03175180032849312, 0.03250405192375183, 0.0]</td>\n",
       "      <td>630</td>\n",
       "      <td>Batman Incorporated Special (DC)</td>\n",
       "    </tr>\n",
       "    <tr>\n",
       "      <td>12</td>\n",
       "      <td>640</td>\n",
       "      <td>[0.0, 0.0, 0.0, 0.0, 0.09220319241285324, 0.03670668974518776, 0.29271572828292847, 0.8116762042045593, 0.0, 0.0, 0.12051231414079666, 0.08491391688585281, 0.14535659551620483, 0.0, 0.293813019990921, 0.2592865824699402, 0.43890249729156494, 0.11381615698337555, 0.19431670010089874, 0.1502845138311386, 0.0, 0.13069094717502594, 0.0, 0.0, 0.0, 0.0, 0.0, 0.05517221987247467, 0.028343547135591507, 0.0]</td>\n",
       "      <td>640</td>\n",
       "      <td>Batman (Other)</td>\n",
       "    </tr>\n",
       "    <tr>\n",
       "      <td>13</td>\n",
       "      <td>650</td>\n",
       "      <td>[0.0, 0.0, 0.0, 0.0, 0.0, 0.0, 0.0, 0.0, 0.02203175611793995, 0.2211012989282608, 0.0, 0.0, 0.0, 0.0, 0.0, 0.4250902831554413, 0.0, 0.0, 0.05576923117041588, 0.0, 0.7647497057914734, 0.0, 0.0, 0.0636584535241127, 0.0, 0.0, 0.0, 0.0, 0.0, 0.05969487875699997]</td>\n",
       "      <td>650</td>\n",
       "      <td>Batman Teenage Mutant Ninja T (DC)</td>\n",
       "    </tr>\n",
       "    <tr>\n",
       "      <td>14</td>\n",
       "      <td>670</td>\n",
       "      <td>[0.0, 0.0, 0.0, 0.0, 0.0, 0.0, 0.0, 0.0, 0.0, 0.0, 0.0, 0.0, 0.01945817843079567, 0.0, 0.0, 1.05497407913208, 0.1653643399477005, 0.0, 0.0, 0.0, 0.0, 0.0, 0.09385707974433899, 0.45098018646240234, 0.06057720258831978, 0.0, 0.0, 0.0, 0.0, 0.018719499930739403]</td>\n",
       "      <td>670</td>\n",
       "      <td>Batman Who Laughs (DC)</td>\n",
       "    </tr>\n",
       "    <tr>\n",
       "      <td>15</td>\n",
       "      <td>720</td>\n",
       "      <td>[0.0, 0.037170201539993286, 0.0, 0.0, 0.0, 0.04128973186016083, 0.05770556628704071, 0.0, 0.0, 0.01219105813652277, 0.015467141754925251, 0.09222107380628586, 0.0, 0.0, 1.1030280590057373, 0.0, 0.0, 0.0, 7.516479672631249e-05, 0.0, 0.0051133278757333755, 0.033038608729839325, 0.11449945718050003, 0.0, 0.0, 0.0, 0.010106275789439678, 0.0, 0.1189800575375557, 0.0]</td>\n",
       "      <td>720</td>\n",
       "      <td>Before Watchmen Nite Owl (Other)</td>\n",
       "    </tr>\n",
       "    <tr>\n",
       "      <td>16</td>\n",
       "      <td>960</td>\n",
       "      <td>[0.0, 0.0, 0.0, 0.0, 0.12000048160552979, 0.06322496384382248, 0.0, 0.009445175528526306, 0.0, 0.0, 0.3420279920101166, 0.0, 1.1228139400482178, 0.1345144510269165, 0.11115571856498718, 0.08649680018424988, 0.0, 0.0, 0.0, 0.030210591852664948, 0.0, 0.0, 0.0, 0.0, 0.01317649707198143, 0.0, 0.0, 0.4684910774230957, 0.0, 0.0]</td>\n",
       "      <td>960</td>\n",
       "      <td>Brightest Day (DC)</td>\n",
       "    </tr>\n",
       "    <tr>\n",
       "      <td>17</td>\n",
       "      <td>1010</td>\n",
       "      <td>[0.0, 0.0, 0.0, 0.0, 0.0, 0.0, 0.0, 0.0, 0.037230174988508224, 0.0, 0.0, 0.4888307750225067, 0.0, 0.8366148471832275, 0.039483871310949326, 0.0, 0.0, 0.0, 0.0, 0.0, 0.0, 0.0, 0.0, 0.0, 0.0, 0.04727007821202278, 0.06134769693017006, 0.03611982986330986, 0.0, 0.0]</td>\n",
       "      <td>1010</td>\n",
       "      <td>Bulletproof Coffin (Image)</td>\n",
       "    </tr>\n",
       "    <tr>\n",
       "      <td>18</td>\n",
       "      <td>1110</td>\n",
       "      <td>[0.0, 0.38402998447418213, 0.0, 0.0, 0.21930453181266785, 0.7095081806182861, 0.0, 0.0, 0.0, 0.03431170433759689, 0.04381325840950012, 0.0, 0.0, 0.0, 0.0, 0.0, 0.0, 0.0, 0.04038458690047264, 0.06181276589632034, 0.031776826828718185, 0.0, 0.12263660877943039, 0.0, 0.0, 0.0, 0.0, 0.07844913750886917, 0.0, 0.0]</td>\n",
       "      <td>1110</td>\n",
       "      <td>Carnage (Marvel)</td>\n",
       "    </tr>\n",
       "    <tr>\n",
       "      <td>19</td>\n",
       "      <td>1270</td>\n",
       "      <td>[0.0, 0.0, 0.09535304456949234, 0.18006682395935059, 0.17085246741771698, 0.05075341463088989, 0.006643734406679869, 0.0, 0.07536077499389648, 0.0, 0.0, 0.42861536145210266, 0.015609324909746647, 0.0, 0.13087452948093414, 0.0, 0.0, 0.10570604354143143, 0.0, 0.7657244801521301, 0.0, 0.052096664905548096, 0.0, 0.0, 0.0, 0.04003891348838806, 0.0, 0.0, 0.0, 0.01344040036201477]</td>\n",
       "      <td>1270</td>\n",
       "      <td>Clone (Image)</td>\n",
       "    </tr>\n",
       "  </tbody>\n",
       "</table>\n",
       "</div>"
      ],
      "text/plain": [
       "      id  \\\n",
       "0   60     \n",
       "1   80     \n",
       "2   110    \n",
       "3   200    \n",
       "4   240    \n",
       "5   350    \n",
       "6   390    \n",
       "7   550    \n",
       "8   560    \n",
       "9   570    \n",
       "10  610    \n",
       "11  630    \n",
       "12  640    \n",
       "13  650    \n",
       "14  670    \n",
       "15  720    \n",
       "16  960    \n",
       "17  1010   \n",
       "18  1110   \n",
       "19  1270   \n",
       "\n",
       "                                                                                                                                                                                                                                                                                                                                                                                                                                                                                                                                                                                                                                              features  \\\n",
       "0   [0.01743680238723755, 0.007148396223783493, 1.06563401222229, 0.04059157520532608, 0.019294701516628265, 0.0, 0.0, 0.0, 0.0, 0.0, 0.0, 0.0, 0.0, 0.0, 0.0, 0.006994778756052256, 0.0, 0.0, 0.0, 0.017005732282996178, 0.0, 0.036391135305166245, 0.0, 0.0, 0.0, 0.2501244843006134, 0.0, 0.0, 0.0, 0.0]                                                                                                                                                                                                                                                                                                                                              \n",
       "1   [0.0, 0.0, 0.03249182552099228, 0.11323057115077972, 0.0, 0.0, 0.0, 0.7948412299156189, 0.0, 0.0, 0.0, 0.0, 0.23714490234851837, 0.03495769575238228, 0.29481297731399536, 0.0, 0.0, 0.0, 0.0, 0.0, 0.0, 0.22936636209487915, 0.03450985625386238, 0.0, 0.0, 0.0, 0.0, 0.0, 0.0, 0.12904486060142517]                                                                                                                                                                                                                                                                                                                                                \n",
       "2   [0.3528019189834595, 0.0, 0.0, 0.0, 0.2717379629611969, 0.09929965436458588, 0.03336532041430473, 0.0, 0.0, 0.02282828837633133, 0.00937669724225998, 0.03452523052692413, 0.0, 0.0, 0.11529584974050522, 0.0, 0.0, 0.0, 0.12241517752408981, 0.01565462350845337, 0.13469548523426056, 0.003043871372938156, 0.856399416923523, 0.0, 0.0, 0.0, 0.0, 0.0, 0.12838362157344818, 0.10266077518463135]                                                                                                                                                                                                                                                  \n",
       "3   [0.014895367436110973, 0.32599085569381714, 0.09774906188249588, 0.05869003385305405, 0.016703536733984947, 0.0, 0.13506878912448883, 0.0, 0.0, 0.27643218636512756, 0.0, 0.03294535353779793, 0.0, 0.0, 0.18430395424365997, 0.9149331450462341, 0.13594630360603333, 0.0, 0.00893563311547041, 0.0, 0.0, 0.013972891494631767, 0.0, 0.0011329196859151125, 0.03825383633375168, 0.08892543613910675, 0.05580912530422211, 0.0, 0.0, 0.4417659640312195]                                                                                                                                                                                            \n",
       "4   [0.0, 0.05928525701165199, 0.0, 0.0, 0.7101511359214783, 0.0, 0.08753978461027145, 0.0, 0.06151632219552994, 0.2771930396556854, 0.0, 0.007922252640128136, 0.0, 0.0, 0.3503260612487793, 0.14580319821834564, 0.0, 0.0, 0.0, 0.0, 0.0, 0.0, 0.0, 0.0, 0.0, 0.11093205213546753, 0.19919617474079132, 0.0, 0.3611432611942291, 0.0]                                                                                                                                                                                                                                                                                                                  \n",
       "5   [0.055682793259620667, 0.0, 0.6749863028526306, 0.013113686814904213, 0.0, 0.0, 0.0, 0.0, 0.0, 0.3045289218425751, 0.0, 0.0, 0.0, 0.0, 0.0, 0.0, 0.0, 0.11782069504261017, 0.0, 0.0, 0.1311940848827362, 0.0, 0.0, 0.0, 0.21315258741378784, 0.0, 0.14129380881786346, 0.0, 0.03982365503907204, 0.0]                                                                                                                                                                                                                                                                                                                                                \n",
       "6   [0.0, 0.0, 0.0, 0.0, 0.0, 0.0, 0.0, 0.09049921482801437, 0.0, 0.0024481131695210934, 0.5992349982261658, 0.0, 0.0, 0.2540118396282196, 0.0, 0.0, 0.0, 0.0, 0.07782304286956787, 0.0, 0.0, 0.27484744787216187, 0.0, 0.0, 0.0, 0.0, 0.04194454848766327, 0.6620481014251709, 0.2000151425600052, 0.0]                                                                                                                                                                                                                                                                                                                                                 \n",
       "7   [0.0, 0.0, 0.0, 0.0, 0.09550059586763382, 0.0, 0.0, 0.0, 0.0, 0.0, 0.0, 0.0, 0.0, 0.0, 0.0, 0.19406788051128387, 0.0, 0.0, 0.0, 0.0, 0.0, 0.0, 0.0, 0.0, 0.18187861144542694, 0.0, 0.0, 0.0, 0.0, 0.8805615901947021]                                                                                                                                                                                                                                                                                                                                                                                                                                \n",
       "8   [0.0, 0.0, 0.0, 0.2889896333217621, 0.03442985936999321, 0.0, 0.2645479738712311, 0.1785186529159546, 0.0, 0.0, 0.0, 0.0, 0.0, 0.0, 0.418406218290329, 0.012604725547134876, 0.0, 0.0, 0.0, 0.0, 0.0, 0.0, 0.0, 0.0, 0.0, 0.0, 0.0, 0.0, 0.17129376530647278, 0.0]                                                                                                                                                                                                                                                                                                                                                                                   \n",
       "9   [0.0, 0.0, 0.0, 0.0, 0.0255747027695179, 0.0, 0.046012356877326965, 0.8284474611282349, 0.0, 0.0, 0.0, 0.1420568823814392, 0.005514445248991251, 0.0, 0.43158581852912903, 0.09791368991136551, 0.0, 0.0, 0.005919487215578556, 0.0, 0.0, 0.10296624898910522, 0.0, 0.0, 0.10007777810096741, 0.0175032876431942, 0.0, 0.025328125804662704, 0.0, 0.0]                                                                                                                                                                                                                                                                                               \n",
       "10  [0.08776631951332092, 0.11949456483125687, 0.10800674557685852, 0.11326631158590317, 0.03535483404994011, 0.11744622886180878, 0.2232334017753601, 0.2814006805419922, 0.11848031729459763, 0.1477700173854828, 0.16663454473018646, 0.15001609921455383, 0.09289687871932983, 0.13396859169006348, 0.15592695772647858, 0.44703343510627747, 1.1138020753860474, 0.13549573719501495, 0.09525004774332047, 0.24038442969322205, 0.09271090477705002, 0.09144192188978195, 0.11011766642332077, 0.2522081434726715, 0.026044361293315887, 0.13150647282600403, 0.05181267112493515, 0.3333348035812378, 0.0014394682366400957, 0.2734295725822449]   \n",
       "11  [0.0, 0.0, 0.0, 0.0, 0.055952973663806915, 0.0, 0.053831394761800766, 0.3566001057624817, 0.0, 0.0021601414773613214, 0.0, 0.0, 0.08236465603113174, 0.0, 0.7437989115715027, 0.13321879506111145, 0.0, 0.0, 0.0, 0.0, 0.0, 0.01524095144122839, 0.0, 0.0, 0.0010975305922329426, 0.0, 0.03346440568566322, 0.03175180032849312, 0.03250405192375183, 0.0]                                                                                                                                                                                                                                                                                           \n",
       "12  [0.0, 0.0, 0.0, 0.0, 0.09220319241285324, 0.03670668974518776, 0.29271572828292847, 0.8116762042045593, 0.0, 0.0, 0.12051231414079666, 0.08491391688585281, 0.14535659551620483, 0.0, 0.293813019990921, 0.2592865824699402, 0.43890249729156494, 0.11381615698337555, 0.19431670010089874, 0.1502845138311386, 0.0, 0.13069094717502594, 0.0, 0.0, 0.0, 0.0, 0.0, 0.05517221987247467, 0.028343547135591507, 0.0]                                                                                                                                                                                                                                   \n",
       "13  [0.0, 0.0, 0.0, 0.0, 0.0, 0.0, 0.0, 0.0, 0.02203175611793995, 0.2211012989282608, 0.0, 0.0, 0.0, 0.0, 0.0, 0.4250902831554413, 0.0, 0.0, 0.05576923117041588, 0.0, 0.7647497057914734, 0.0, 0.0, 0.0636584535241127, 0.0, 0.0, 0.0, 0.0, 0.0, 0.05969487875699997]                                                                                                                                                                                                                                                                                                                                                                                   \n",
       "14  [0.0, 0.0, 0.0, 0.0, 0.0, 0.0, 0.0, 0.0, 0.0, 0.0, 0.0, 0.0, 0.01945817843079567, 0.0, 0.0, 1.05497407913208, 0.1653643399477005, 0.0, 0.0, 0.0, 0.0, 0.0, 0.09385707974433899, 0.45098018646240234, 0.06057720258831978, 0.0, 0.0, 0.0, 0.0, 0.018719499930739403]                                                                                                                                                                                                                                                                                                                                                                                  \n",
       "15  [0.0, 0.037170201539993286, 0.0, 0.0, 0.0, 0.04128973186016083, 0.05770556628704071, 0.0, 0.0, 0.01219105813652277, 0.015467141754925251, 0.09222107380628586, 0.0, 0.0, 1.1030280590057373, 0.0, 0.0, 0.0, 7.516479672631249e-05, 0.0, 0.0051133278757333755, 0.033038608729839325, 0.11449945718050003, 0.0, 0.0, 0.0, 0.010106275789439678, 0.0, 0.1189800575375557, 0.0]                                                                                                                                                                                                                                                                         \n",
       "16  [0.0, 0.0, 0.0, 0.0, 0.12000048160552979, 0.06322496384382248, 0.0, 0.009445175528526306, 0.0, 0.0, 0.3420279920101166, 0.0, 1.1228139400482178, 0.1345144510269165, 0.11115571856498718, 0.08649680018424988, 0.0, 0.0, 0.0, 0.030210591852664948, 0.0, 0.0, 0.0, 0.0, 0.01317649707198143, 0.0, 0.0, 0.4684910774230957, 0.0, 0.0]                                                                                                                                                                                                                                                                                                                 \n",
       "17  [0.0, 0.0, 0.0, 0.0, 0.0, 0.0, 0.0, 0.0, 0.037230174988508224, 0.0, 0.0, 0.4888307750225067, 0.0, 0.8366148471832275, 0.039483871310949326, 0.0, 0.0, 0.0, 0.0, 0.0, 0.0, 0.0, 0.0, 0.0, 0.0, 0.04727007821202278, 0.06134769693017006, 0.03611982986330986, 0.0, 0.0]                                                                                                                                                                                                                                                                                                                                                                               \n",
       "18  [0.0, 0.38402998447418213, 0.0, 0.0, 0.21930453181266785, 0.7095081806182861, 0.0, 0.0, 0.0, 0.03431170433759689, 0.04381325840950012, 0.0, 0.0, 0.0, 0.0, 0.0, 0.0, 0.0, 0.04038458690047264, 0.06181276589632034, 0.031776826828718185, 0.0, 0.12263660877943039, 0.0, 0.0, 0.0, 0.0, 0.07844913750886917, 0.0, 0.0]                                                                                                                                                                                                                                                                                                                               \n",
       "19  [0.0, 0.0, 0.09535304456949234, 0.18006682395935059, 0.17085246741771698, 0.05075341463088989, 0.006643734406679869, 0.0, 0.07536077499389648, 0.0, 0.0, 0.42861536145210266, 0.015609324909746647, 0.0, 0.13087452948093414, 0.0, 0.0, 0.10570604354143143, 0.0, 0.7657244801521301, 0.0, 0.052096664905548096, 0.0, 0.0, 0.0, 0.04003891348838806, 0.0, 0.0, 0.0, 0.01344040036201477]                                                                                                                                                                                                                                                             \n",
       "\n",
       "    comic_id                            comic_title  \n",
       "0   60        8house (Image)                         \n",
       "1   80        Action Comics Annual (DC)              \n",
       "2   110       Adventure Time (Boom)                  \n",
       "3   200       All Star Batman (DC)                   \n",
       "4   240       American Vampire Anthology (Vertigo)   \n",
       "5   350       Archie Vs Predator (Dark Horse)        \n",
       "6   390       Astonishing X-Men Xenogenesi (Marvel)  \n",
       "7   550       Batgirl and the Birds of Pre (DC)      \n",
       "8   560       Batman 66 (DC)                         \n",
       "9   570       Batman and Batgirl (DC)                \n",
       "10  610       Batman (DC)                            \n",
       "11  630       Batman Incorporated Special (DC)       \n",
       "12  640       Batman (Other)                         \n",
       "13  650       Batman Teenage Mutant Ninja T (DC)     \n",
       "14  670       Batman Who Laughs (DC)                 \n",
       "15  720       Before Watchmen Nite Owl (Other)       \n",
       "16  960       Brightest Day (DC)                     \n",
       "17  1010      Bulletproof Coffin (Image)             \n",
       "18  1110      Carnage (Marvel)                       \n",
       "19  1270      Clone (Image)                          "
      ]
     },
     "execution_count": 82,
     "metadata": {},
     "output_type": "execute_result"
    }
   ],
   "source": [
    "\n",
    "ddd.head(20)"
   ]
  },
  {
   "cell_type": "code",
   "execution_count": 80,
   "metadata": {},
   "outputs": [],
   "source": [
    "pd.set_option('display.max_colwidth', -1)"
   ]
  },
  {
   "cell_type": "code",
   "execution_count": null,
   "metadata": {},
   "outputs": [],
   "source": []
  }
 ],
 "metadata": {
  "kernelspec": {
   "display_name": "Python 3",
   "language": "python",
   "name": "python3"
  },
  "language_info": {
   "codemirror_mode": {
    "name": "ipython",
    "version": 3
   },
   "file_extension": ".py",
   "mimetype": "text/x-python",
   "name": "python",
   "nbconvert_exporter": "python",
   "pygments_lexer": "ipython3",
   "version": "3.6.9"
  }
 },
 "nbformat": 4,
 "nbformat_minor": 4
}
