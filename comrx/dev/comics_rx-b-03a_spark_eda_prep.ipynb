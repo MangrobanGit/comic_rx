{
 "cells": [
  {
   "cell_type": "markdown",
   "metadata": {},
   "source": [
    "# Comics Rx\n",
    "## [A comic book recommendation system](https://github.com/MangrobanGit/comics_rx)\n",
    "<img src=\"https://images.unsplash.com/photo-1514329926535-7f6dbfbfb114?ixlib=rb-1.2.1&ixid=eyJhcHBfaWQiOjEyMDd9&auto=format&fit=crop&w=2850&q=80\" width=\"400\" align='left'>"
   ]
  },
  {
   "cell_type": "markdown",
   "metadata": {},
   "source": [
    "---"
   ]
  },
  {
   "cell_type": "markdown",
   "metadata": {},
   "source": [
    "# ALS Model - Reduced Data - EDA, Prep\n",
    "\n",
    "This time, as explored in the EDA NB, let's consider removing customers who we feel have too few or too many purchases to influence the model in the intended way.\n",
    "\n",
    "Examples:\n",
    "- Too few - Customers who have only bought 1 comic (series).\n",
    "- Too many - Customers with > 1000 series (for example, think all eBay customers are rolled into one account number)."
   ]
  },
  {
   "cell_type": "markdown",
   "metadata": {},
   "source": [
    "# Libraries"
   ]
  },
  {
   "cell_type": "code",
   "execution_count": 1,
   "metadata": {},
   "outputs": [],
   "source": [
    "%matplotlib inline\n",
    "%load_ext autoreload\n",
    "%autoreload 2  # 1 would be where you need to specify the files\n",
    "#%aimport data_fcns\n",
    "\n",
    "import pandas as pd  # dataframes\n",
    "import os\n",
    "import time\n",
    "import numpy as np\n",
    "\n",
    "# Data storage\n",
    "from sqlalchemy import create_engine  # SQL helper\n",
    "import psycopg2 as psql  #PostgreSQL DBs\n",
    "\n",
    "# import necessary libraries\n",
    "import pyspark\n",
    "from pyspark.sql import SparkSession\n",
    "from pyspark.ml.evaluation import RegressionEvaluator\n",
    "# from pyspark.sql.types import (StructType, StructField, IntegerType\n",
    "#                                ,FloatType, LongType, StringType)\n",
    "from pyspark.sql.types import *\n",
    "\n",
    "import pyspark.sql.functions as F\n",
    "from pyspark.sql.functions import col, explode, lit, isnan, when, count\n",
    "from pyspark.ml.recommendation import ALS, ALSModel\n",
    "from pyspark.ml.evaluation import RegressionEvaluator\n",
    "from pyspark.ml.tuning import (CrossValidator, ParamGridBuilder, \n",
    "                               TrainValidationSplit)\n",
    "from pyspark.ml.evaluation import BinaryClassificationEvaluator"
   ]
  },
  {
   "cell_type": "code",
   "execution_count": 2,
   "metadata": {},
   "outputs": [],
   "source": [
    "import sys"
   ]
  },
  {
   "cell_type": "code",
   "execution_count": 3,
   "metadata": {},
   "outputs": [],
   "source": [
    "sys.path.append('..')"
   ]
  },
  {
   "cell_type": "code",
   "execution_count": 4,
   "metadata": {},
   "outputs": [],
   "source": [
    "# Custom\n",
    "import data_fcns as dfc\n",
    "import keys  # Custom keys lib\n",
    "import comic_recs as cr"
   ]
  },
  {
   "cell_type": "code",
   "execution_count": 5,
   "metadata": {},
   "outputs": [],
   "source": [
    "# # instantiate SparkSession object\n",
    "# spark = pyspark.sql.SparkSession.builder.master(\"local[*]\").getOrCreate()\n",
    "# # spark = SparkSession.builder.master(\"local\").getOrCreate()"
   ]
  },
  {
   "cell_type": "code",
   "execution_count": 6,
   "metadata": {},
   "outputs": [],
   "source": [
    "from pyspark import SparkConf\n",
    "\n",
    "conf = SparkConf()\n",
    "\n",
    "conf = (conf.setMaster('local[*]')\n",
    "#         .set('spark.executor.memory', '1G') #https://stackoverflow.com/questions/48523629/spark-pyspark-an-error-occurred-while-trying-to-connect-to-the-java-server-127\n",
    "        .set('spark.driver.memory', '7G')\n",
    "        .set('spark.driver.maxResultSize', '4G'))\n",
    "#         .set('spark.executor.memory', '1G')\n",
    "#         .set('spark.driver.memory', '10G')\n",
    "#         .set('spark.driver.maxResultSize', '5G'))\n",
    "\n",
    "sc = pyspark.SparkContext().getOrCreate(conf=conf)\n",
    "\n",
    "from pyspark.sql import SQLContext\n",
    "sql_context = SQLContext(sc)\n",
    "\n",
    "sc.setCheckpointDir('./checkpoints')\n",
    "\n",
    "# spark.sparkContext.setCheckpointDir(\"hdfs://datalake/check_point_directory/als\")"
   ]
  },
  {
   "cell_type": "markdown",
   "metadata": {},
   "source": [
    "## Import the data\n",
    "\n",
    "There is way to directly hit PostgreSQL through JDBC, but I don't know how to do that yet. So have worked around by saving the candidate dataset to JSON, and then will use that as input to Spark.\n"
   ]
  },
  {
   "cell_type": "code",
   "execution_count": 7,
   "metadata": {},
   "outputs": [],
   "source": [
    "# We have previously created a version of the transactions table \n",
    "# and filtered it down.\n",
    "trans = sql_context.read.json('raw_data/trans_filtered.json')"
   ]
  },
  {
   "cell_type": "code",
   "execution_count": 8,
   "metadata": {},
   "outputs": [
    {
     "data": {
      "text/plain": [
       "DataFrame[account_num: string, comic_title: string, date_sold: bigint, item_id: string, publisher: string, qty_sold: bigint, title_and_num: string]"
      ]
     },
     "execution_count": 8,
     "metadata": {},
     "output_type": "execute_result"
    }
   ],
   "source": [
    "# Persist the data\n",
    "trans.persist()"
   ]
  },
  {
   "cell_type": "code",
   "execution_count": 9,
   "metadata": {},
   "outputs": [
    {
     "name": "stdout",
     "output_type": "stream",
     "text": [
      "327839 7\n"
     ]
    }
   ],
   "source": [
    "print(trans.count(), len(trans.columns))"
   ]
  },
  {
   "cell_type": "code",
   "execution_count": 10,
   "metadata": {},
   "outputs": [
    {
     "name": "stdout",
     "output_type": "stream",
     "text": [
      "root\n",
      " |-- account_num: string (nullable = true)\n",
      " |-- comic_title: string (nullable = true)\n",
      " |-- date_sold: long (nullable = true)\n",
      " |-- item_id: string (nullable = true)\n",
      " |-- publisher: string (nullable = true)\n",
      " |-- qty_sold: long (nullable = true)\n",
      " |-- title_and_num: string (nullable = true)\n",
      "\n"
     ]
    }
   ],
   "source": [
    "# check schema\n",
    "trans.printSchema()"
   ]
  },
  {
   "cell_type": "markdown",
   "metadata": {},
   "source": [
    "### More exploration/testing\n",
    "\n",
    "We won't be using pandas dataframes in the matrix factorization through Spark, but let's cast to one anyway as it will be easier to work with for EDA."
   ]
  },
  {
   "cell_type": "code",
   "execution_count": 11,
   "metadata": {},
   "outputs": [
    {
     "name": "stdout",
     "output_type": "stream",
     "text": [
      "<class 'pandas.core.frame.DataFrame'>\n",
      "RangeIndex: 327839 entries, 0 to 327838\n",
      "Data columns (total 7 columns):\n",
      "account_num      327839 non-null object\n",
      "comic_title      327839 non-null object\n",
      "date_sold        327839 non-null int64\n",
      "item_id          327839 non-null object\n",
      "publisher        327839 non-null object\n",
      "qty_sold         327839 non-null int64\n",
      "title_and_num    327839 non-null object\n",
      "dtypes: int64(2), object(5)\n",
      "memory usage: 17.5+ MB\n"
     ]
    }
   ],
   "source": [
    "# cast to Pandas dataframe to turn timestamp data to datetime and check nulls. \n",
    "trans_df = trans.select('*').toPandas()\n",
    "trans_df.info()"
   ]
  },
  {
   "cell_type": "code",
   "execution_count": 12,
   "metadata": {},
   "outputs": [
    {
     "data": {
      "text/html": [
       "<div>\n",
       "<style scoped>\n",
       "    .dataframe tbody tr th:only-of-type {\n",
       "        vertical-align: middle;\n",
       "    }\n",
       "\n",
       "    .dataframe tbody tr th {\n",
       "        vertical-align: top;\n",
       "    }\n",
       "\n",
       "    .dataframe thead th {\n",
       "        text-align: right;\n",
       "    }\n",
       "</style>\n",
       "<table border=\"1\" class=\"dataframe\">\n",
       "  <thead>\n",
       "    <tr style=\"text-align: right;\">\n",
       "      <th></th>\n",
       "      <th>account_num</th>\n",
       "      <th>comic_title</th>\n",
       "      <th>date_sold</th>\n",
       "      <th>item_id</th>\n",
       "      <th>publisher</th>\n",
       "      <th>qty_sold</th>\n",
       "      <th>title_and_num</th>\n",
       "    </tr>\n",
       "  </thead>\n",
       "  <tbody>\n",
       "    <tr>\n",
       "      <td>0</td>\n",
       "      <td>00399</td>\n",
       "      <td>Royal Historian of Oz (SLG)</td>\n",
       "      <td>1279136980000</td>\n",
       "      <td>DCD416182</td>\n",
       "      <td>Amaze Ink Slave Labor Graphics</td>\n",
       "      <td>1</td>\n",
       "      <td>Royal Historian of Oz #1</td>\n",
       "    </tr>\n",
       "    <tr>\n",
       "      <td>1</td>\n",
       "      <td>00327</td>\n",
       "      <td>Royal Historian of Oz (SLG)</td>\n",
       "      <td>1288543119000</td>\n",
       "      <td>DCD416182</td>\n",
       "      <td>Amaze Ink Slave Labor Graphics</td>\n",
       "      <td>1</td>\n",
       "      <td>Royal Historian of Oz #1</td>\n",
       "    </tr>\n",
       "    <tr>\n",
       "      <td>2</td>\n",
       "      <td>00327</td>\n",
       "      <td>Royal Historian of Oz (SLG)</td>\n",
       "      <td>1288543119000</td>\n",
       "      <td>DCD423794</td>\n",
       "      <td>Amaze Ink Slave Labor Graphics</td>\n",
       "      <td>1</td>\n",
       "      <td>Royal Historian of Oz #2</td>\n",
       "    </tr>\n",
       "    <tr>\n",
       "      <td>3</td>\n",
       "      <td>01065</td>\n",
       "      <td>Warlord of Io &amp; Other Storie (SLG)</td>\n",
       "      <td>1412166247000</td>\n",
       "      <td>DCD390709</td>\n",
       "      <td>Amaze Ink Slave Labor Graphics</td>\n",
       "      <td>1</td>\n",
       "      <td>Warlord of Io &amp; Other Stories</td>\n",
       "    </tr>\n",
       "    <tr>\n",
       "      <td>4</td>\n",
       "      <td>01033</td>\n",
       "      <td>Afterlife With Archie (Archie)</td>\n",
       "      <td>1390505789000</td>\n",
       "      <td>DCD630105</td>\n",
       "      <td>Archie Comics</td>\n",
       "      <td>1</td>\n",
       "      <td>Afterlife With Archie #1 2nd P</td>\n",
       "    </tr>\n",
       "  </tbody>\n",
       "</table>\n",
       "</div>"
      ],
      "text/plain": [
       "  account_num                         comic_title      date_sold    item_id  \\\n",
       "0       00399         Royal Historian of Oz (SLG)  1279136980000  DCD416182   \n",
       "1       00327         Royal Historian of Oz (SLG)  1288543119000  DCD416182   \n",
       "2       00327         Royal Historian of Oz (SLG)  1288543119000  DCD423794   \n",
       "3       01065  Warlord of Io & Other Storie (SLG)  1412166247000  DCD390709   \n",
       "4       01033      Afterlife With Archie (Archie)  1390505789000  DCD630105   \n",
       "\n",
       "                        publisher  qty_sold                   title_and_num  \n",
       "0  Amaze Ink Slave Labor Graphics         1        Royal Historian of Oz #1  \n",
       "1  Amaze Ink Slave Labor Graphics         1        Royal Historian of Oz #1  \n",
       "2  Amaze Ink Slave Labor Graphics         1        Royal Historian of Oz #2  \n",
       "3  Amaze Ink Slave Labor Graphics         1   Warlord of Io & Other Stories  \n",
       "4                   Archie Comics         1  Afterlife With Archie #1 2nd P  "
      ]
     },
     "execution_count": 12,
     "metadata": {},
     "output_type": "execute_result"
    }
   ],
   "source": [
    "# Let's double check the data is how we expect it\n",
    "trans_df.head()"
   ]
  },
  {
   "cell_type": "code",
   "execution_count": 13,
   "metadata": {},
   "outputs": [],
   "source": [
    "trans_df['dt'] = pd.to_datetime(trans_df['date_sold'], unit='ms')"
   ]
  },
  {
   "cell_type": "markdown",
   "metadata": {},
   "source": [
    "Yes. Reverse-confirmed versus the original transactions dataframe in the other notebook that this datetime is correct. "
   ]
  },
  {
   "cell_type": "markdown",
   "metadata": {},
   "source": [
    "### Data Prep for ALS\n",
    "\n",
    "Let's aggregate the data to the two columns we need:\n",
    "- `account_num` - This is the identifier for individual customers.\n",
    "\n",
    "\n",
    "- `comic_title` - The comic. Represents individual volumes/runs of a comic.\n",
    "\n",
    "\n",
    "- `score` - We need to figure out what we want to use to act as a `score`. If these were Amazon items then review scores would be natural fit; but we don't have that. We can maybe use a binary flag of `bought`/`not bought`. Or we can use the `qty_sold`. This might be interesting in that it might capture some interesting behavior from comic 'collectors/speculators'. Since this is first pass, I'm curious as to what `qty_sold` might do!\n"
   ]
  },
  {
   "cell_type": "markdown",
   "metadata": {},
   "source": [
    "We only care about `account_num`, `comic_title` and `qty_sold`."
   ]
  },
  {
   "cell_type": "code",
   "execution_count": 14,
   "metadata": {},
   "outputs": [
    {
     "data": {
      "text/plain": [
       "DataFrame[account_num: string, comic_title: string, qty_sold: bigint]"
      ]
     },
     "execution_count": 14,
     "metadata": {},
     "output_type": "execute_result"
    }
   ],
   "source": [
    "comics_sold = trans[['account_num', 'comic_title', 'qty_sold']]\n",
    "comics_sold.persist()"
   ]
  },
  {
   "cell_type": "code",
   "execution_count": 15,
   "metadata": {},
   "outputs": [],
   "source": [
    "comics_sold = comics_sold.withColumn('bought', lit(1))"
   ]
  },
  {
   "cell_type": "code",
   "execution_count": 16,
   "metadata": {},
   "outputs": [
    {
     "name": "stdout",
     "output_type": "stream",
     "text": [
      "+-----------+--------------------+--------+------+\n",
      "|account_num|         comic_title|qty_sold|bought|\n",
      "+-----------+--------------------+--------+------+\n",
      "|      00399|Royal Historian o...|       1|     1|\n",
      "|      00327|Royal Historian o...|       1|     1|\n",
      "|      00327|Royal Historian o...|       1|     1|\n",
      "|      01065|Warlord of Io & O...|       1|     1|\n",
      "|      01033|Afterlife With Ar...|       1|     1|\n",
      "|      01333|Afterlife With Ar...|       1|     1|\n",
      "|      00946|Afterlife With Ar...|       1|     1|\n",
      "|      01278|Afterlife With Ar...|       1|     1|\n",
      "|      01212|Afterlife With Ar...|       1|     1|\n",
      "|      00877|Afterlife With Ar...|       1|     1|\n",
      "+-----------+--------------------+--------+------+\n",
      "only showing top 10 rows\n",
      "\n"
     ]
    }
   ],
   "source": [
    "comics_sold.show(10)"
   ]
  },
  {
   "cell_type": "code",
   "execution_count": 17,
   "metadata": {},
   "outputs": [
    {
     "data": {
      "text/plain": [
       "DataFrame[account_num: string, comic_title: string, qty_sold: bigint]"
      ]
     },
     "execution_count": 17,
     "metadata": {},
     "output_type": "execute_result"
    }
   ],
   "source": [
    "comics_sold = trans[['account_num', 'comic_title', 'qty_sold']]\n",
    "comics_sold.persist()"
   ]
  },
  {
   "cell_type": "code",
   "execution_count": 18,
   "metadata": {},
   "outputs": [
    {
     "data": {
      "text/plain": [
       "DataFrame[account_num: string, comic_title: string, sum(qty_sold): bigint]"
      ]
     },
     "execution_count": 18,
     "metadata": {},
     "output_type": "execute_result"
    }
   ],
   "source": [
    "total_comics_sold = ( comics_sold.groupBy(['account_num', 'comic_title'])\n",
    "                               .agg({'qty_sold':'sum'})\n",
    "                    )\n",
    "total_comics_sold.persist()"
   ]
  },
  {
   "cell_type": "markdown",
   "metadata": {},
   "source": [
    "Ok, let's take a look at the results."
   ]
  },
  {
   "cell_type": "code",
   "execution_count": 19,
   "metadata": {},
   "outputs": [
    {
     "name": "stdout",
     "output_type": "stream",
     "text": [
      "+-----------+--------------------+-------------+\n",
      "|account_num|         comic_title|sum(qty_sold)|\n",
      "+-----------+--------------------+-------------+\n",
      "|      02247|Bubblegun VOL 2 (...|            1|\n",
      "|      00487|Captain Swing (Av...|            2|\n",
      "|      00029|God Is Dead (Avatar)|            7|\n",
      "|      01260| Providence (Avatar)|            1|\n",
      "|      00172|   Supergod (Avatar)|            3|\n",
      "|      02493|       Abbott (Boom)|            3|\n",
      "|      00052|Adventure Time Ma...|            6|\n",
      "|      00032|Big Trouble In Li...|           11|\n",
      "|      01149| Broken World (Boom)|            2|\n",
      "|      01489|Jim Henson Labyri...|            1|\n",
      "+-----------+--------------------+-------------+\n",
      "only showing top 10 rows\n",
      "\n"
     ]
    }
   ],
   "source": [
    "total_comics_sold.show(10)"
   ]
  },
  {
   "cell_type": "code",
   "execution_count": 20,
   "metadata": {},
   "outputs": [
    {
     "name": "stdout",
     "output_type": "stream",
     "text": [
      "61871 3\n"
     ]
    }
   ],
   "source": [
    "print(total_comics_sold.count(), len(total_comics_sold.columns))"
   ]
  },
  {
   "cell_type": "code",
   "execution_count": 21,
   "metadata": {},
   "outputs": [],
   "source": [
    "total_comics_sold = total_comics_sold.withColumn('bought', lit(1))"
   ]
  },
  {
   "cell_type": "markdown",
   "metadata": {},
   "source": [
    "I don't like that default column name. Let's fix that to be `qty_sold` again."
   ]
  },
  {
   "cell_type": "code",
   "execution_count": 22,
   "metadata": {},
   "outputs": [
    {
     "name": "stdout",
     "output_type": "stream",
     "text": [
      "+-----------+--------------------+-------------+------+\n",
      "|account_num|         comic_title|sum(qty_sold)|bought|\n",
      "+-----------+--------------------+-------------+------+\n",
      "|      02247|Bubblegun VOL 2 (...|            1|     1|\n",
      "|      00487|Captain Swing (Av...|            2|     1|\n",
      "|      00029|God Is Dead (Avatar)|            7|     1|\n",
      "|      01260| Providence (Avatar)|            1|     1|\n",
      "|      00172|   Supergod (Avatar)|            3|     1|\n",
      "|      02493|       Abbott (Boom)|            3|     1|\n",
      "|      00052|Adventure Time Ma...|            6|     1|\n",
      "|      00032|Big Trouble In Li...|           11|     1|\n",
      "|      01149| Broken World (Boom)|            2|     1|\n",
      "|      01489|Jim Henson Labyri...|            1|     1|\n",
      "+-----------+--------------------+-------------+------+\n",
      "only showing top 10 rows\n",
      "\n"
     ]
    }
   ],
   "source": [
    "total_comics_sold.show(10)"
   ]
  },
  {
   "cell_type": "code",
   "execution_count": 23,
   "metadata": {},
   "outputs": [],
   "source": [
    "cols = ['account_num', 'comic_title', 'bought']\n",
    "total_comics_sold = total_comics_sold[cols]"
   ]
  },
  {
   "cell_type": "code",
   "execution_count": 24,
   "metadata": {},
   "outputs": [
    {
     "name": "stdout",
     "output_type": "stream",
     "text": [
      "61871 3\n"
     ]
    }
   ],
   "source": [
    "print(total_comics_sold.count(), len(total_comics_sold.columns))"
   ]
  },
  {
   "cell_type": "markdown",
   "metadata": {},
   "source": [
    "### Formatting\n",
    "\n",
    "Sooooooo, I forgot that the values need to be numeric. So need to fix that.\n",
    "\n",
    "#### Convert `account_id` to integer"
   ]
  },
  {
   "cell_type": "code",
   "execution_count": 25,
   "metadata": {},
   "outputs": [],
   "source": [
    "to_int_udf = F.udf(dfc.make_int, IntegerType())"
   ]
  },
  {
   "cell_type": "code",
   "execution_count": 26,
   "metadata": {},
   "outputs": [],
   "source": [
    "account_num_col = total_comics_sold['account_num']"
   ]
  },
  {
   "cell_type": "code",
   "execution_count": 27,
   "metadata": {},
   "outputs": [
    {
     "data": {
      "text/plain": [
       "DataFrame[account_num: string, comic_title: string, bought: int, account_id: int]"
      ]
     },
     "execution_count": 27,
     "metadata": {},
     "output_type": "execute_result"
    }
   ],
   "source": [
    "total_comics_sold = total_comics_sold.withColumn('account_id'\n",
    "                                        ,to_int_udf(account_num_col))\n",
    "total_comics_sold.persist()"
   ]
  },
  {
   "cell_type": "code",
   "execution_count": 28,
   "metadata": {},
   "outputs": [
    {
     "name": "stdout",
     "output_type": "stream",
     "text": [
      "+-----------+--------------------+------+----------+\n",
      "|account_num|         comic_title|bought|account_id|\n",
      "+-----------+--------------------+------+----------+\n",
      "|      02247|Bubblegun VOL 2 (...|     1|      2247|\n",
      "|      00487|Captain Swing (Av...|     1|       487|\n",
      "|      00029|God Is Dead (Avatar)|     1|        29|\n",
      "|      01260| Providence (Avatar)|     1|      1260|\n",
      "|      00172|   Supergod (Avatar)|     1|       172|\n",
      "|      02493|       Abbott (Boom)|     1|      2493|\n",
      "|      00052|Adventure Time Ma...|     1|        52|\n",
      "|      00032|Big Trouble In Li...|     1|        32|\n",
      "|      01149| Broken World (Boom)|     1|      1149|\n",
      "|      01489|Jim Henson Labyri...|     1|      1489|\n",
      "+-----------+--------------------+------+----------+\n",
      "only showing top 10 rows\n",
      "\n"
     ]
    }
   ],
   "source": [
    "total_comics_sold.show(10)"
   ]
  },
  {
   "cell_type": "code",
   "execution_count": 29,
   "metadata": {},
   "outputs": [
    {
     "name": "stdout",
     "output_type": "stream",
     "text": [
      "61871 4\n"
     ]
    }
   ],
   "source": [
    "print(total_comics_sold.count(), len(total_comics_sold.columns))"
   ]
  },
  {
   "cell_type": "markdown",
   "metadata": {},
   "source": [
    "Now I need to find a way to give ids to the `comic_title`. Kind of clunky, but I do have the version in PostgreSQL of the big table. I can just build an ID table up there as source of truth. I could do something on PySpark side, but then think would want to save it somewhere (e.g. the DB) anyway. So might as well do it from the top.\n",
    "\n",
    "#### Get `comic_id`"
   ]
  },
  {
   "cell_type": "code",
   "execution_count": 30,
   "metadata": {},
   "outputs": [
    {
     "data": {
      "text/plain": [
       "DataFrame[comic_id: bigint, comic_title: string]"
      ]
     },
     "execution_count": 30,
     "metadata": {},
     "output_type": "execute_result"
    }
   ],
   "source": [
    "comics = sql_context.read.json('raw_data/comics.json')\n",
    "comics.persist()"
   ]
  },
  {
   "cell_type": "code",
   "execution_count": 31,
   "metadata": {},
   "outputs": [
    {
     "data": {
      "text/plain": [
       "7202"
      ]
     },
     "execution_count": 31,
     "metadata": {},
     "output_type": "execute_result"
    }
   ],
   "source": [
    "comics.count()"
   ]
  },
  {
   "cell_type": "code",
   "execution_count": 32,
   "metadata": {},
   "outputs": [
    {
     "name": "stdout",
     "output_type": "stream",
     "text": [
      "+--------+--------------------+\n",
      "|comic_id|         comic_title|\n",
      "+--------+--------------------+\n",
      "|       1|0Secret Wars (Mar...|\n",
      "|       2|100 Bullets Broth...|\n",
      "|       3|100 Penny Press L...|\n",
      "|       4|100 Penny Press S...|\n",
      "|       5|100 Penny Press T...|\n",
      "|       6|100 Penny Press T...|\n",
      "|       7|100th Anniversary...|\n",
      "|       8|12 Reasons To Die...|\n",
      "|       9|    13 Coins (Other)|\n",
      "|      10|13th Artifact One...|\n",
      "+--------+--------------------+\n",
      "only showing top 10 rows\n",
      "\n"
     ]
    }
   ],
   "source": [
    "comics.show(10)"
   ]
  },
  {
   "cell_type": "code",
   "execution_count": 33,
   "metadata": {},
   "outputs": [
    {
     "name": "stdout",
     "output_type": "stream",
     "text": [
      "7202 2\n"
     ]
    }
   ],
   "source": [
    "print(comics.count(), len(comics.columns))"
   ]
  },
  {
   "cell_type": "markdown",
   "metadata": {},
   "source": [
    "Now we need to join this back into `total_comics_sold`."
   ]
  },
  {
   "cell_type": "code",
   "execution_count": 34,
   "metadata": {},
   "outputs": [],
   "source": [
    "# Set aliases\n",
    "tot = total_comics_sold.alias('tot')\n",
    "com = comics.alias('com')"
   ]
  },
  {
   "cell_type": "code",
   "execution_count": 35,
   "metadata": {},
   "outputs": [
    {
     "name": "stdout",
     "output_type": "stream",
     "text": [
      "+----------+--------+------+\n",
      "|account_id|comic_id|bought|\n",
      "+----------+--------+------+\n",
      "|      2247|     995|     1|\n",
      "|       487|    1102|     1|\n",
      "|        29|    2680|     1|\n",
      "|      1260|    4870|     1|\n",
      "|       172|    6023|     1|\n",
      "|      2493|      66|     1|\n",
      "|        52|     116|     1|\n",
      "|        32|     755|     1|\n",
      "|      1149|     971|     1|\n",
      "|      1489|    3503|     1|\n",
      "+----------+--------+------+\n",
      "only showing top 10 rows\n",
      "\n"
     ]
    }
   ],
   "source": [
    "tot_sold_ids_only = tot.join(com.select('comic_id','comic_title')\n",
    "                      ,tot.comic_title==com.comic_title).select('account_id'\n",
    "                                                                , 'comic_id'\n",
    "                                                                , 'bought')\n",
    "tot_sold_ids_only.persist()\n",
    "tot_sold_ids_only.show(10)"
   ]
  },
  {
   "cell_type": "code",
   "execution_count": 36,
   "metadata": {},
   "outputs": [
    {
     "name": "stdout",
     "output_type": "stream",
     "text": [
      "root\n",
      " |-- account_id: integer (nullable = true)\n",
      " |-- comic_id: long (nullable = true)\n",
      " |-- bought: integer (nullable = false)\n",
      "\n"
     ]
    }
   ],
   "source": [
    "tot_sold_ids_only.printSchema()"
   ]
  },
  {
   "cell_type": "code",
   "execution_count": 37,
   "metadata": {},
   "outputs": [
    {
     "name": "stdout",
     "output_type": "stream",
     "text": [
      "61871 3\n"
     ]
    }
   ],
   "source": [
    "print(tot_sold_ids_only.count(), len(tot_sold_ids_only.columns))"
   ]
  },
  {
   "cell_type": "markdown",
   "metadata": {},
   "source": [
    "## Create table with zeros"
   ]
  },
  {
   "cell_type": "code",
   "execution_count": 38,
   "metadata": {},
   "outputs": [
    {
     "name": "stdout",
     "output_type": "stream",
     "text": [
      "+----------+\n",
      "|account_id|\n",
      "+----------+\n",
      "|       148|\n",
      "|      2659|\n",
      "|      1645|\n",
      "|      2142|\n",
      "|       833|\n",
      "|      1088|\n",
      "|      2866|\n",
      "|       897|\n",
      "|       243|\n",
      "|      1896|\n",
      "|      2811|\n",
      "|      2235|\n",
      "|      1025|\n",
      "|      1395|\n",
      "|      2563|\n",
      "|      1507|\n",
      "|      1522|\n",
      "|      1460|\n",
      "|      2393|\n",
      "|      1352|\n",
      "+----------+\n",
      "only showing top 20 rows\n",
      "\n"
     ]
    }
   ],
   "source": [
    "# Get all accounts\n",
    "acct_ids = tot_sold_ids_only.select(\"account_id\").distinct().persist()\n",
    "acct_ids.show()"
   ]
  },
  {
   "cell_type": "code",
   "execution_count": 39,
   "metadata": {},
   "outputs": [
    {
     "name": "stdout",
     "output_type": "stream",
     "text": [
      "+--------+\n",
      "|comic_id|\n",
      "+--------+\n",
      "|      26|\n",
      "|      29|\n",
      "|     474|\n",
      "|     964|\n",
      "|    1677|\n",
      "|    1697|\n",
      "|    1806|\n",
      "|    1950|\n",
      "|    2040|\n",
      "|    2214|\n",
      "|    2250|\n",
      "|    2453|\n",
      "|    2509|\n",
      "|    2529|\n",
      "|    2927|\n",
      "|    3091|\n",
      "|    3506|\n",
      "|    3764|\n",
      "|    4590|\n",
      "|    4823|\n",
      "+--------+\n",
      "only showing top 20 rows\n",
      "\n"
     ]
    }
   ],
   "source": [
    "# Get just comic_ids\n",
    "comic_ids = comics.select(\"comic_id\").distinct().persist()\n",
    "comic_ids.show()"
   ]
  },
  {
   "cell_type": "code",
   "execution_count": 40,
   "metadata": {},
   "outputs": [
    {
     "data": {
      "text/plain": [
       "7202"
      ]
     },
     "execution_count": 40,
     "metadata": {},
     "output_type": "execute_result"
    }
   ],
   "source": [
    "comic_ids.count()"
   ]
  },
  {
   "cell_type": "code",
   "execution_count": 41,
   "metadata": {},
   "outputs": [
    {
     "data": {
      "text/plain": [
       "1071"
      ]
     },
     "execution_count": 41,
     "metadata": {},
     "output_type": "execute_result"
    }
   ],
   "source": [
    "acct_ids.count()"
   ]
  },
  {
   "cell_type": "code",
   "execution_count": 43,
   "metadata": {},
   "outputs": [
    {
     "name": "stdout",
     "output_type": "stream",
     "text": [
      "+----------+--------+------+\n",
      "|account_id|comic_id|bought|\n",
      "+----------+--------+------+\n",
      "|      2247|     995|     1|\n",
      "|       487|    1102|     1|\n",
      "|        29|    2680|     1|\n",
      "|      1260|    4870|     1|\n",
      "|       172|    6023|     1|\n",
      "|      2493|      66|     1|\n",
      "|        52|     116|     1|\n",
      "|        32|     755|     1|\n",
      "|      1149|     971|     1|\n",
      "|      1489|    3503|     1|\n",
      "|      1234|    3979|     1|\n",
      "|       560|    4221|     1|\n",
      "|       130|    5497|     1|\n",
      "|       742|    6717|     1|\n",
      "|      1212|    5001|     1|\n",
      "|      1287|    7018|     1|\n",
      "|      1406|     136|     1|\n",
      "|       291|     260|     1|\n",
      "|        32|     525|     1|\n",
      "|       742|     762|     1|\n",
      "+----------+--------+------+\n",
      "only showing top 20 rows\n",
      "\n"
     ]
    }
   ],
   "source": [
    "tot_sold_ids_only.show()"
   ]
  },
  {
   "cell_type": "markdown",
   "metadata": {},
   "source": [
    "### Limit comic Ids to model\n",
    "\n",
    "I think keeping comics with only a handful of sales will be a little noisy. And to a more pragmatic point, the less comics, the less resource intensive it will be because the matrix will be not as big.\n",
    "\n",
    "Arbitrarily going to pick >= 20 sales for now."
   ]
  },
  {
   "cell_type": "code",
   "execution_count": 44,
   "metadata": {},
   "outputs": [],
   "source": [
    "comic_ids = ( tot_sold_ids_only.groupBy(\"comic_id\").count().\n",
    "             filter(col('count') >= 20).select(\"comic_id\")\n",
    "            )"
   ]
  },
  {
   "cell_type": "code",
   "execution_count": 45,
   "metadata": {},
   "outputs": [
    {
     "name": "stdout",
     "output_type": "stream",
     "text": [
      "+--------+\n",
      "|comic_id|\n",
      "+--------+\n",
      "|    2250|\n",
      "|    6721|\n",
      "|    3009|\n",
      "|    3015|\n",
      "|    7130|\n",
      "|    1010|\n",
      "|    2173|\n",
      "|    1840|\n",
      "|    4551|\n",
      "|    7121|\n",
      "|    1642|\n",
      "|     938|\n",
      "|     243|\n",
      "|     720|\n",
      "|     278|\n",
      "|    6287|\n",
      "|     705|\n",
      "|    2797|\n",
      "|    1217|\n",
      "|    1280|\n",
      "+--------+\n",
      "only showing top 20 rows\n",
      "\n"
     ]
    }
   ],
   "source": [
    "comic_ids.show()"
   ]
  },
  {
   "cell_type": "code",
   "execution_count": 46,
   "metadata": {},
   "outputs": [
    {
     "data": {
      "text/plain": [
       "790"
      ]
     },
     "execution_count": 46,
     "metadata": {},
     "output_type": "execute_result"
    }
   ],
   "source": [
    "comic_ids.count()"
   ]
  },
  {
   "cell_type": "markdown",
   "metadata": {},
   "source": [
    "#### Save to pandas"
   ]
  },
  {
   "cell_type": "code",
   "execution_count": 47,
   "metadata": {},
   "outputs": [],
   "source": [
    "comic_ids_df = comic_ids.toPandas()"
   ]
  },
  {
   "cell_type": "markdown",
   "metadata": {},
   "source": [
    "#### How many records are there after we limit to comics with mininum number of sales?"
   ]
  },
  {
   "cell_type": "code",
   "execution_count": 48,
   "metadata": {},
   "outputs": [
    {
     "data": {
      "text/plain": [
       "(327839, 8)"
      ]
     },
     "execution_count": 48,
     "metadata": {},
     "output_type": "execute_result"
    }
   ],
   "source": [
    "trans_df.shape"
   ]
  },
  {
   "cell_type": "code",
   "execution_count": 49,
   "metadata": {},
   "outputs": [
    {
     "data": {
      "text/plain": [
       "(790, 1)"
      ]
     },
     "execution_count": 49,
     "metadata": {},
     "output_type": "execute_result"
    }
   ],
   "source": [
    "comic_ids_df.shape"
   ]
  },
  {
   "cell_type": "code",
   "execution_count": 50,
   "metadata": {},
   "outputs": [
    {
     "data": {
      "text/plain": [
       "Index(['account_num', 'comic_title', 'date_sold', 'item_id', 'publisher',\n",
       "       'qty_sold', 'title_and_num', 'dt'],\n",
       "      dtype='object')"
      ]
     },
     "execution_count": 50,
     "metadata": {},
     "output_type": "execute_result"
    }
   ],
   "source": [
    "trans_df.columns"
   ]
  },
  {
   "cell_type": "markdown",
   "metadata": {},
   "source": [
    "Make a pandas df of `comics`"
   ]
  },
  {
   "cell_type": "code",
   "execution_count": 51,
   "metadata": {},
   "outputs": [],
   "source": [
    "comics_df = comics.toPandas()"
   ]
  },
  {
   "cell_type": "code",
   "execution_count": 52,
   "metadata": {},
   "outputs": [
    {
     "data": {
      "text/html": [
       "<div>\n",
       "<style scoped>\n",
       "    .dataframe tbody tr th:only-of-type {\n",
       "        vertical-align: middle;\n",
       "    }\n",
       "\n",
       "    .dataframe tbody tr th {\n",
       "        vertical-align: top;\n",
       "    }\n",
       "\n",
       "    .dataframe thead th {\n",
       "        text-align: right;\n",
       "    }\n",
       "</style>\n",
       "<table border=\"1\" class=\"dataframe\">\n",
       "  <thead>\n",
       "    <tr style=\"text-align: right;\">\n",
       "      <th></th>\n",
       "      <th>comic_id</th>\n",
       "      <th>comic_title</th>\n",
       "    </tr>\n",
       "  </thead>\n",
       "  <tbody>\n",
       "    <tr>\n",
       "      <td>0</td>\n",
       "      <td>1</td>\n",
       "      <td>0Secret Wars (Marvel)</td>\n",
       "    </tr>\n",
       "    <tr>\n",
       "      <td>1</td>\n",
       "      <td>2</td>\n",
       "      <td>100 Bullets Brother Lono (DC)</td>\n",
       "    </tr>\n",
       "    <tr>\n",
       "      <td>2</td>\n",
       "      <td>3</td>\n",
       "      <td>100 Penny Press Locke &amp; Key (IDW)</td>\n",
       "    </tr>\n",
       "    <tr>\n",
       "      <td>3</td>\n",
       "      <td>4</td>\n",
       "      <td>100 Penny Press Star Trek (IDW)</td>\n",
       "    </tr>\n",
       "    <tr>\n",
       "      <td>4</td>\n",
       "      <td>5</td>\n",
       "      <td>100 Penny Press Thunder Agent (IDW)</td>\n",
       "    </tr>\n",
       "  </tbody>\n",
       "</table>\n",
       "</div>"
      ],
      "text/plain": [
       "   comic_id                          comic_title\n",
       "0         1                0Secret Wars (Marvel)\n",
       "1         2        100 Bullets Brother Lono (DC)\n",
       "2         3    100 Penny Press Locke & Key (IDW)\n",
       "3         4      100 Penny Press Star Trek (IDW)\n",
       "4         5  100 Penny Press Thunder Agent (IDW)"
      ]
     },
     "execution_count": 52,
     "metadata": {},
     "output_type": "execute_result"
    }
   ],
   "source": [
    "comics_df.head()"
   ]
  },
  {
   "cell_type": "code",
   "execution_count": 53,
   "metadata": {},
   "outputs": [],
   "source": [
    "comics_df_filtered = comics_df.merge(comic_ids_df, right_on=\"comic_id\"\n",
    "                                     ,left_on=\"comic_id\"\n",
    "                                     ,how=\"inner\")"
   ]
  },
  {
   "cell_type": "code",
   "execution_count": 54,
   "metadata": {},
   "outputs": [
    {
     "data": {
      "text/plain": [
       "(790, 2)"
      ]
     },
     "execution_count": 54,
     "metadata": {},
     "output_type": "execute_result"
    }
   ],
   "source": [
    "comics_df_filtered.shape"
   ]
  },
  {
   "cell_type": "code",
   "execution_count": 55,
   "metadata": {},
   "outputs": [
    {
     "data": {
      "text/html": [
       "<div>\n",
       "<style scoped>\n",
       "    .dataframe tbody tr th:only-of-type {\n",
       "        vertical-align: middle;\n",
       "    }\n",
       "\n",
       "    .dataframe tbody tr th {\n",
       "        vertical-align: top;\n",
       "    }\n",
       "\n",
       "    .dataframe thead th {\n",
       "        text-align: right;\n",
       "    }\n",
       "</style>\n",
       "<table border=\"1\" class=\"dataframe\">\n",
       "  <thead>\n",
       "    <tr style=\"text-align: right;\">\n",
       "      <th></th>\n",
       "      <th>comic_id</th>\n",
       "      <th>comic_title</th>\n",
       "    </tr>\n",
       "  </thead>\n",
       "  <tbody>\n",
       "    <tr>\n",
       "      <td>0</td>\n",
       "      <td>7</td>\n",
       "      <td>100th Anniversary Special (Marvel)</td>\n",
       "    </tr>\n",
       "    <tr>\n",
       "      <td>1</td>\n",
       "      <td>59</td>\n",
       "      <td>8house Arclight (Image)</td>\n",
       "    </tr>\n",
       "    <tr>\n",
       "      <td>2</td>\n",
       "      <td>60</td>\n",
       "      <td>8house (Image)</td>\n",
       "    </tr>\n",
       "    <tr>\n",
       "      <td>3</td>\n",
       "      <td>68</td>\n",
       "      <td>Abe Sapien (Dark Horse)</td>\n",
       "    </tr>\n",
       "    <tr>\n",
       "      <td>4</td>\n",
       "      <td>69</td>\n",
       "      <td>Abe Sapien Devil Does Not Jes (Dark Horse)</td>\n",
       "    </tr>\n",
       "  </tbody>\n",
       "</table>\n",
       "</div>"
      ],
      "text/plain": [
       "   comic_id                                 comic_title\n",
       "0         7          100th Anniversary Special (Marvel)\n",
       "1        59                     8house Arclight (Image)\n",
       "2        60                              8house (Image)\n",
       "3        68                     Abe Sapien (Dark Horse)\n",
       "4        69  Abe Sapien Devil Does Not Jes (Dark Horse)"
      ]
     },
     "execution_count": 55,
     "metadata": {},
     "output_type": "execute_result"
    }
   ],
   "source": [
    "comics_df_filtered.head()"
   ]
  },
  {
   "cell_type": "code",
   "execution_count": 56,
   "metadata": {},
   "outputs": [
    {
     "data": {
      "text/plain": [
       "Index(['comic_id', 'comic_title'], dtype='object')"
      ]
     },
     "execution_count": 56,
     "metadata": {},
     "output_type": "execute_result"
    }
   ],
   "source": [
    "comics_df_filtered.columns"
   ]
  },
  {
   "cell_type": "code",
   "execution_count": 57,
   "metadata": {},
   "outputs": [
    {
     "data": {
      "text/plain": [
       "61871"
      ]
     },
     "execution_count": 57,
     "metadata": {},
     "output_type": "execute_result"
    }
   ],
   "source": [
    "tot_sold_ids_only.count()"
   ]
  },
  {
   "cell_type": "code",
   "execution_count": 58,
   "metadata": {},
   "outputs": [],
   "source": [
    "sold_ids_df = tot_sold_ids_only.toPandas()"
   ]
  },
  {
   "cell_type": "code",
   "execution_count": 59,
   "metadata": {},
   "outputs": [
    {
     "data": {
      "text/html": [
       "<div>\n",
       "<style scoped>\n",
       "    .dataframe tbody tr th:only-of-type {\n",
       "        vertical-align: middle;\n",
       "    }\n",
       "\n",
       "    .dataframe tbody tr th {\n",
       "        vertical-align: top;\n",
       "    }\n",
       "\n",
       "    .dataframe thead th {\n",
       "        text-align: right;\n",
       "    }\n",
       "</style>\n",
       "<table border=\"1\" class=\"dataframe\">\n",
       "  <thead>\n",
       "    <tr style=\"text-align: right;\">\n",
       "      <th></th>\n",
       "      <th>account_id</th>\n",
       "      <th>comic_id</th>\n",
       "      <th>bought</th>\n",
       "    </tr>\n",
       "  </thead>\n",
       "  <tbody>\n",
       "    <tr>\n",
       "      <td>0</td>\n",
       "      <td>2247</td>\n",
       "      <td>995</td>\n",
       "      <td>1</td>\n",
       "    </tr>\n",
       "    <tr>\n",
       "      <td>1</td>\n",
       "      <td>487</td>\n",
       "      <td>1102</td>\n",
       "      <td>1</td>\n",
       "    </tr>\n",
       "    <tr>\n",
       "      <td>2</td>\n",
       "      <td>29</td>\n",
       "      <td>2680</td>\n",
       "      <td>1</td>\n",
       "    </tr>\n",
       "    <tr>\n",
       "      <td>3</td>\n",
       "      <td>1260</td>\n",
       "      <td>4870</td>\n",
       "      <td>1</td>\n",
       "    </tr>\n",
       "    <tr>\n",
       "      <td>4</td>\n",
       "      <td>172</td>\n",
       "      <td>6023</td>\n",
       "      <td>1</td>\n",
       "    </tr>\n",
       "  </tbody>\n",
       "</table>\n",
       "</div>"
      ],
      "text/plain": [
       "   account_id  comic_id  bought\n",
       "0        2247       995       1\n",
       "1         487      1102       1\n",
       "2          29      2680       1\n",
       "3        1260      4870       1\n",
       "4         172      6023       1"
      ]
     },
     "execution_count": 59,
     "metadata": {},
     "output_type": "execute_result"
    }
   ],
   "source": [
    "sold_ids_df.head()"
   ]
  },
  {
   "cell_type": "code",
   "execution_count": 60,
   "metadata": {},
   "outputs": [],
   "source": [
    "sold_df_floored = sold_ids_df.merge(comics_df_filtered, right_on=\"comic_id\"\n",
    "                                  ,left_on=\"comic_id\"\n",
    "                                  ,how=\"inner\")"
   ]
  },
  {
   "cell_type": "code",
   "execution_count": 61,
   "metadata": {},
   "outputs": [
    {
     "data": {
      "text/html": [
       "<div>\n",
       "<style scoped>\n",
       "    .dataframe tbody tr th:only-of-type {\n",
       "        vertical-align: middle;\n",
       "    }\n",
       "\n",
       "    .dataframe tbody tr th {\n",
       "        vertical-align: top;\n",
       "    }\n",
       "\n",
       "    .dataframe thead th {\n",
       "        text-align: right;\n",
       "    }\n",
       "</style>\n",
       "<table border=\"1\" class=\"dataframe\">\n",
       "  <thead>\n",
       "    <tr style=\"text-align: right;\">\n",
       "      <th></th>\n",
       "      <th>account_id</th>\n",
       "      <th>comic_id</th>\n",
       "      <th>bought</th>\n",
       "      <th>comic_title</th>\n",
       "    </tr>\n",
       "  </thead>\n",
       "  <tbody>\n",
       "    <tr>\n",
       "      <td>0</td>\n",
       "      <td>487</td>\n",
       "      <td>1102</td>\n",
       "      <td>1</td>\n",
       "      <td>Captain Swing (Avatar)</td>\n",
       "    </tr>\n",
       "    <tr>\n",
       "      <td>1</td>\n",
       "      <td>47</td>\n",
       "      <td>1102</td>\n",
       "      <td>1</td>\n",
       "      <td>Captain Swing (Avatar)</td>\n",
       "    </tr>\n",
       "    <tr>\n",
       "      <td>2</td>\n",
       "      <td>215</td>\n",
       "      <td>1102</td>\n",
       "      <td>1</td>\n",
       "      <td>Captain Swing (Avatar)</td>\n",
       "    </tr>\n",
       "    <tr>\n",
       "      <td>3</td>\n",
       "      <td>628</td>\n",
       "      <td>1102</td>\n",
       "      <td>1</td>\n",
       "      <td>Captain Swing (Avatar)</td>\n",
       "    </tr>\n",
       "    <tr>\n",
       "      <td>4</td>\n",
       "      <td>39</td>\n",
       "      <td>1102</td>\n",
       "      <td>1</td>\n",
       "      <td>Captain Swing (Avatar)</td>\n",
       "    </tr>\n",
       "  </tbody>\n",
       "</table>\n",
       "</div>"
      ],
      "text/plain": [
       "   account_id  comic_id  bought             comic_title\n",
       "0         487      1102       1  Captain Swing (Avatar)\n",
       "1          47      1102       1  Captain Swing (Avatar)\n",
       "2         215      1102       1  Captain Swing (Avatar)\n",
       "3         628      1102       1  Captain Swing (Avatar)\n",
       "4          39      1102       1  Captain Swing (Avatar)"
      ]
     },
     "execution_count": 61,
     "metadata": {},
     "output_type": "execute_result"
    }
   ],
   "source": [
    "sold_df_floored.head()"
   ]
  },
  {
   "cell_type": "markdown",
   "metadata": {},
   "source": [
    "#### How many account-comic combos are there after filtering?"
   ]
  },
  {
   "cell_type": "code",
   "execution_count": 62,
   "metadata": {},
   "outputs": [
    {
     "data": {
      "text/plain": [
       "33138"
      ]
     },
     "execution_count": 62,
     "metadata": {},
     "output_type": "execute_result"
    }
   ],
   "source": [
    "sold_df_floored.shape[0]"
   ]
  },
  {
   "cell_type": "code",
   "execution_count": 63,
   "metadata": {},
   "outputs": [],
   "source": [
    "trans_floored = trans_df.merge(comics_df_filtered, right_on=\"comic_title\"\n",
    "                                  ,left_on=\"comic_title\"\n",
    "                                  ,how=\"inner\")"
   ]
  },
  {
   "cell_type": "code",
   "execution_count": 64,
   "metadata": {},
   "outputs": [
    {
     "data": {
      "text/html": [
       "<div>\n",
       "<style scoped>\n",
       "    .dataframe tbody tr th:only-of-type {\n",
       "        vertical-align: middle;\n",
       "    }\n",
       "\n",
       "    .dataframe tbody tr th {\n",
       "        vertical-align: top;\n",
       "    }\n",
       "\n",
       "    .dataframe thead th {\n",
       "        text-align: right;\n",
       "    }\n",
       "</style>\n",
       "<table border=\"1\" class=\"dataframe\">\n",
       "  <thead>\n",
       "    <tr style=\"text-align: right;\">\n",
       "      <th></th>\n",
       "      <th>account_num</th>\n",
       "      <th>comic_title</th>\n",
       "      <th>date_sold</th>\n",
       "      <th>item_id</th>\n",
       "      <th>publisher</th>\n",
       "      <th>qty_sold</th>\n",
       "      <th>title_and_num</th>\n",
       "      <th>dt</th>\n",
       "      <th>comic_id</th>\n",
       "    </tr>\n",
       "  </thead>\n",
       "  <tbody>\n",
       "    <tr>\n",
       "      <td>0</td>\n",
       "      <td>01033</td>\n",
       "      <td>Afterlife With Archie (Archie)</td>\n",
       "      <td>1390505789000</td>\n",
       "      <td>DCD630105</td>\n",
       "      <td>Archie Comics</td>\n",
       "      <td>1</td>\n",
       "      <td>Afterlife With Archie #1 2nd P</td>\n",
       "      <td>2014-01-23 19:36:29</td>\n",
       "      <td>128</td>\n",
       "    </tr>\n",
       "    <tr>\n",
       "      <td>1</td>\n",
       "      <td>01333</td>\n",
       "      <td>Afterlife With Archie (Archie)</td>\n",
       "      <td>1398947834000</td>\n",
       "      <td>DCD630105</td>\n",
       "      <td>Archie Comics</td>\n",
       "      <td>1</td>\n",
       "      <td>Afterlife With Archie #1 2nd P</td>\n",
       "      <td>2014-05-01 12:37:14</td>\n",
       "      <td>128</td>\n",
       "    </tr>\n",
       "    <tr>\n",
       "      <td>2</td>\n",
       "      <td>00946</td>\n",
       "      <td>Afterlife With Archie (Archie)</td>\n",
       "      <td>1399904156000</td>\n",
       "      <td>DCD630105</td>\n",
       "      <td>Archie Comics</td>\n",
       "      <td>1</td>\n",
       "      <td>Afterlife With Archie #1 2nd P</td>\n",
       "      <td>2014-05-12 14:15:56</td>\n",
       "      <td>128</td>\n",
       "    </tr>\n",
       "    <tr>\n",
       "      <td>3</td>\n",
       "      <td>01278</td>\n",
       "      <td>Afterlife With Archie (Archie)</td>\n",
       "      <td>1407954335000</td>\n",
       "      <td>DCD630105</td>\n",
       "      <td>Archie Comics</td>\n",
       "      <td>1</td>\n",
       "      <td>Afterlife With Archie #1 2nd P</td>\n",
       "      <td>2014-08-13 18:25:35</td>\n",
       "      <td>128</td>\n",
       "    </tr>\n",
       "    <tr>\n",
       "      <td>4</td>\n",
       "      <td>01212</td>\n",
       "      <td>Afterlife With Archie (Archie)</td>\n",
       "      <td>1383751270000</td>\n",
       "      <td>DCD630105</td>\n",
       "      <td>Archie Comics</td>\n",
       "      <td>1</td>\n",
       "      <td>Afterlife With Archie #1 2nd P</td>\n",
       "      <td>2013-11-06 15:21:10</td>\n",
       "      <td>128</td>\n",
       "    </tr>\n",
       "  </tbody>\n",
       "</table>\n",
       "</div>"
      ],
      "text/plain": [
       "  account_num                     comic_title      date_sold    item_id  \\\n",
       "0       01033  Afterlife With Archie (Archie)  1390505789000  DCD630105   \n",
       "1       01333  Afterlife With Archie (Archie)  1398947834000  DCD630105   \n",
       "2       00946  Afterlife With Archie (Archie)  1399904156000  DCD630105   \n",
       "3       01278  Afterlife With Archie (Archie)  1407954335000  DCD630105   \n",
       "4       01212  Afterlife With Archie (Archie)  1383751270000  DCD630105   \n",
       "\n",
       "       publisher  qty_sold                   title_and_num  \\\n",
       "0  Archie Comics         1  Afterlife With Archie #1 2nd P   \n",
       "1  Archie Comics         1  Afterlife With Archie #1 2nd P   \n",
       "2  Archie Comics         1  Afterlife With Archie #1 2nd P   \n",
       "3  Archie Comics         1  Afterlife With Archie #1 2nd P   \n",
       "4  Archie Comics         1  Afterlife With Archie #1 2nd P   \n",
       "\n",
       "                   dt  comic_id  \n",
       "0 2014-01-23 19:36:29       128  \n",
       "1 2014-05-01 12:37:14       128  \n",
       "2 2014-05-12 14:15:56       128  \n",
       "3 2014-08-13 18:25:35       128  \n",
       "4 2013-11-06 15:21:10       128  "
      ]
     },
     "execution_count": 64,
     "metadata": {},
     "output_type": "execute_result"
    }
   ],
   "source": [
    "trans_floored.head()"
   ]
  },
  {
   "cell_type": "code",
   "execution_count": 65,
   "metadata": {},
   "outputs": [
    {
     "data": {
      "text/plain": [
       "1051"
      ]
     },
     "execution_count": 65,
     "metadata": {},
     "output_type": "execute_result"
    }
   ],
   "source": [
    "len(trans_floored['account_num'].unique())"
   ]
  },
  {
   "cell_type": "markdown",
   "metadata": {},
   "source": [
    "#### Q: How many transactions after all filters?\n",
    "- Accounts with >= 5 transactions and <= 300 transactions\n",
    "- Comics that have been bought by >= 20 accounts"
   ]
  },
  {
   "cell_type": "code",
   "execution_count": 66,
   "metadata": {},
   "outputs": [
    {
     "data": {
      "text/plain": [
       "242997"
      ]
     },
     "execution_count": 66,
     "metadata": {},
     "output_type": "execute_result"
    }
   ],
   "source": [
    "trans_floored.shape[0]"
   ]
  },
  {
   "cell_type": "markdown",
   "metadata": {},
   "source": [
    "#### Q: Number of comic - account combos?"
   ]
  },
  {
   "cell_type": "code",
   "execution_count": 68,
   "metadata": {},
   "outputs": [
    {
     "data": {
      "text/plain": [
       "(33138, 4)"
      ]
     },
     "execution_count": 68,
     "metadata": {},
     "output_type": "execute_result"
    }
   ],
   "source": [
    "sold_df_floored.shape"
   ]
  },
  {
   "cell_type": "markdown",
   "metadata": {},
   "source": [
    "#### Q: Number of unique accounts before filtering?"
   ]
  },
  {
   "cell_type": "code",
   "execution_count": 69,
   "metadata": {},
   "outputs": [
    {
     "data": {
      "text/plain": [
       "1071"
      ]
     },
     "execution_count": 69,
     "metadata": {},
     "output_type": "execute_result"
    }
   ],
   "source": [
    "len(sold_ids_df['account_id'].unique())"
   ]
  },
  {
   "cell_type": "markdown",
   "metadata": {},
   "source": [
    "#### Number of unique accounts after filtering"
   ]
  },
  {
   "cell_type": "code",
   "execution_count": 70,
   "metadata": {},
   "outputs": [
    {
     "data": {
      "text/plain": [
       "1051"
      ]
     },
     "execution_count": 70,
     "metadata": {},
     "output_type": "execute_result"
    }
   ],
   "source": [
    "len(sold_df_floored['account_id'].unique())"
   ]
  },
  {
   "cell_type": "code",
   "execution_count": 74,
   "metadata": {},
   "outputs": [],
   "source": [
    "# comic_ids_df.to_json('raw_data/comic_ids.json', orient='records'\n",
    "#                      ,lines=True)\n",
    "\n",
    "comic_ids_df.to_json('support_data/comic_ids.json', orient='records'\n",
    "                     ,lines=True)"
   ]
  },
  {
   "cell_type": "code",
   "execution_count": 75,
   "metadata": {},
   "outputs": [
    {
     "data": {
      "text/html": [
       "<div>\n",
       "<style scoped>\n",
       "    .dataframe tbody tr th:only-of-type {\n",
       "        vertical-align: middle;\n",
       "    }\n",
       "\n",
       "    .dataframe tbody tr th {\n",
       "        vertical-align: top;\n",
       "    }\n",
       "\n",
       "    .dataframe thead th {\n",
       "        text-align: right;\n",
       "    }\n",
       "</style>\n",
       "<table border=\"1\" class=\"dataframe\">\n",
       "  <thead>\n",
       "    <tr style=\"text-align: right;\">\n",
       "      <th></th>\n",
       "      <th>comic_id</th>\n",
       "    </tr>\n",
       "  </thead>\n",
       "  <tbody>\n",
       "    <tr>\n",
       "      <td>0</td>\n",
       "      <td>2250</td>\n",
       "    </tr>\n",
       "    <tr>\n",
       "      <td>1</td>\n",
       "      <td>6721</td>\n",
       "    </tr>\n",
       "    <tr>\n",
       "      <td>2</td>\n",
       "      <td>3009</td>\n",
       "    </tr>\n",
       "    <tr>\n",
       "      <td>3</td>\n",
       "      <td>3015</td>\n",
       "    </tr>\n",
       "    <tr>\n",
       "      <td>4</td>\n",
       "      <td>7130</td>\n",
       "    </tr>\n",
       "  </tbody>\n",
       "</table>\n",
       "</div>"
      ],
      "text/plain": [
       "   comic_id\n",
       "0      2250\n",
       "1      6721\n",
       "2      3009\n",
       "3      3015\n",
       "4      7130"
      ]
     },
     "execution_count": 75,
     "metadata": {},
     "output_type": "execute_result"
    }
   ],
   "source": [
    "comic_ids_df.head()"
   ]
  },
  {
   "cell_type": "code",
   "execution_count": 76,
   "metadata": {},
   "outputs": [
    {
     "data": {
      "text/plain": [
       "1071"
      ]
     },
     "execution_count": 76,
     "metadata": {},
     "output_type": "execute_result"
    }
   ],
   "source": [
    "acct_ids.count()"
   ]
  },
  {
   "cell_type": "code",
   "execution_count": 77,
   "metadata": {},
   "outputs": [
    {
     "data": {
      "text/plain": [
       "846090"
      ]
     },
     "execution_count": 77,
     "metadata": {},
     "output_type": "execute_result"
    }
   ],
   "source": [
    "total_combos = comic_ids.count() * acct_ids.count()\n",
    "total_combos"
   ]
  },
  {
   "cell_type": "code",
   "execution_count": 81,
   "metadata": {},
   "outputs": [
    {
     "data": {
      "text/plain": [
       "846090"
      ]
     },
     "execution_count": 81,
     "metadata": {},
     "output_type": "execute_result"
    }
   ],
   "source": [
    "# Join together\n",
    "all_combos = comic_ids.crossJoin(acct_ids).persist()\n",
    "\n",
    "all_combos.count()"
   ]
  },
  {
   "cell_type": "code",
   "execution_count": 82,
   "metadata": {},
   "outputs": [],
   "source": [
    "sold = tot_sold_ids_only.alias(\"sold\")"
   ]
  },
  {
   "cell_type": "code",
   "execution_count": 83,
   "metadata": {},
   "outputs": [
    {
     "data": {
      "text/plain": [
       "['account_id', 'comic_id', 'bought']"
      ]
     },
     "execution_count": 83,
     "metadata": {},
     "output_type": "execute_result"
    }
   ],
   "source": [
    "tot_sold_ids_only.columns"
   ]
  },
  {
   "cell_type": "code",
   "execution_count": 100,
   "metadata": {},
   "outputs": [],
   "source": [
    "final_combos = all_combos.join(sold, [sold.comic_id == all_combos.comic_id\n",
    "                                      ,sold.account_id == all_combos.account_id], \n",
    "                              \"left\").select(all_combos.comic_id\n",
    "                                             ,all_combos.account_id\n",
    "                                             ,sold.bought).fillna(0).persist()"
   ]
  },
  {
   "cell_type": "code",
   "execution_count": 85,
   "metadata": {},
   "outputs": [
    {
     "name": "stdout",
     "output_type": "stream",
     "text": [
      "+--------+----------+------+\n",
      "|comic_id|account_id|bought|\n",
      "+--------+----------+------+\n",
      "|    2250|       148|     0|\n",
      "|    2250|      2659|     0|\n",
      "|    2250|      1645|     0|\n",
      "|    2250|      2142|     0|\n",
      "|    2250|       833|     0|\n",
      "|    2250|      1088|     0|\n",
      "|    2250|      2866|     0|\n",
      "|    2250|       897|     0|\n",
      "|    2250|       243|     0|\n",
      "|    2250|      1896|     0|\n",
      "|    2250|      2811|     0|\n",
      "|    2250|      2235|     0|\n",
      "|    2250|      1025|     0|\n",
      "|    2250|      1395|     0|\n",
      "|    2250|      2563|     0|\n",
      "|    2250|      1507|     0|\n",
      "|    2250|      1522|     0|\n",
      "|    2250|      1460|     0|\n",
      "|    2250|      2393|     0|\n",
      "|    2250|      1352|     0|\n",
      "+--------+----------+------+\n",
      "only showing top 20 rows\n",
      "\n"
     ]
    }
   ],
   "source": [
    "final_combos.show()"
   ]
  },
  {
   "cell_type": "code",
   "execution_count": 87,
   "metadata": {},
   "outputs": [
    {
     "data": {
      "text/plain": [
       "846090"
      ]
     },
     "execution_count": 87,
     "metadata": {},
     "output_type": "execute_result"
    }
   ],
   "source": [
    "final_combos.count()"
   ]
  },
  {
   "cell_type": "markdown",
   "metadata": {},
   "source": [
    "We have about 850K potential `account`, `comic` combinations."
   ]
  },
  {
   "cell_type": "markdown",
   "metadata": {},
   "source": [
    "Let's take a look at the sparsity of the matrix."
   ]
  },
  {
   "cell_type": "code",
   "execution_count": 88,
   "metadata": {},
   "outputs": [
    {
     "data": {
      "text/plain": [
       "0.9268742095994515"
      ]
     },
     "execution_count": 88,
     "metadata": {},
     "output_type": "execute_result"
    }
   ],
   "source": [
    "sparse_numerator = sold.count()\n",
    "sparse_denominator = final_combos.count()\n",
    "sparsity = 1 - (sparse_numerator/sparse_denominator)\n",
    "sparsity"
   ]
  },
  {
   "cell_type": "markdown",
   "metadata": {},
   "source": [
    "So about 7.5% populated. Not bad."
   ]
  },
  {
   "cell_type": "code",
   "execution_count": 89,
   "metadata": {},
   "outputs": [],
   "source": [
    "#df2.coalesce(1).write.format('json').save('/path/file_name.json')\n",
    "#final_combos.write.format('json').save('raw_data/als_input_filtered_190915.json')"
   ]
  },
  {
   "cell_type": "markdown",
   "metadata": {},
   "source": [
    "## Save this intermediate table.\n",
    "\n",
    "To save work, if needed."
   ]
  },
  {
   "cell_type": "code",
   "execution_count": 98,
   "metadata": {},
   "outputs": [
    {
     "name": "stdout",
     "output_type": "stream",
     "text": [
      "rm: raw_data/als_input_filtered_190916.pkl: No such file or directory\n"
     ]
    }
   ],
   "source": [
    "!rm -r raw_data/als_input_filtered_190916.pkl"
   ]
  },
  {
   "cell_type": "code",
   "execution_count": 99,
   "metadata": {},
   "outputs": [],
   "source": [
    "final_combos.rdd.saveAsPickleFile('raw_data/als_input_filtered_190916.pkl')"
   ]
  },
  {
   "cell_type": "markdown",
   "metadata": {},
   "source": [
    "Test reconstituting the pickle"
   ]
  },
  {
   "cell_type": "code",
   "execution_count": null,
   "metadata": {},
   "outputs": [],
   "source": [
    "#pickleRdd = sc.pickleFile('raw_data/als_input_filtered_190915.pkl').collect()\n",
    "#df2 = sql_context.createDataFrame(pickleRdd)"
   ]
  },
  {
   "cell_type": "code",
   "execution_count": null,
   "metadata": {},
   "outputs": [],
   "source": [
    "als_data = final_combos.toPandas()"
   ]
  },
  {
   "cell_type": "code",
   "execution_count": null,
   "metadata": {},
   "outputs": [],
   "source": [
    "als_data.to_json('raw_data/als_input_filtered_190915.json', orient='records'\n",
    "                     ,lines=True)"
   ]
  },
  {
   "cell_type": "markdown",
   "metadata": {},
   "source": [
    "Test the pickle"
   ]
  },
  {
   "cell_type": "code",
   "execution_count": null,
   "metadata": {},
   "outputs": [],
   "source": [
    "unpickled_items = pd.read_pickle('support_data/item_factors_20190916.pkl')"
   ]
  },
  {
   "cell_type": "code",
   "execution_count": null,
   "metadata": {},
   "outputs": [],
   "source": [
    "comics_df.head()"
   ]
  },
  {
   "cell_type": "code",
   "execution_count": null,
   "metadata": {},
   "outputs": [],
   "source": [
    "unpickled_items.head()"
   ]
  },
  {
   "cell_type": "code",
   "execution_count": null,
   "metadata": {},
   "outputs": [],
   "source": [
    "ddd = unpickled_items.merge(comics_df, left_on='id', right_on='comic_id', how=\"inner\")"
   ]
  },
  {
   "cell_type": "code",
   "execution_count": null,
   "metadata": {},
   "outputs": [],
   "source": [
    "ddd.head(20)"
   ]
  }
 ],
 "metadata": {
  "kernelspec": {
   "display_name": "Python 3",
   "language": "python",
   "name": "python3"
  },
  "language_info": {
   "codemirror_mode": {
    "name": "ipython",
    "version": 3
   },
   "file_extension": ".py",
   "mimetype": "text/x-python",
   "name": "python",
   "nbconvert_exporter": "python",
   "pygments_lexer": "ipython3",
   "version": "3.6.9"
  }
 },
 "nbformat": 4,
 "nbformat_minor": 4
}
