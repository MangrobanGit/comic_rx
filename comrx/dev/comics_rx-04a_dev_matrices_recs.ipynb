{
 "cells": [
  {
   "cell_type": "markdown",
   "metadata": {},
   "source": [
    "# Comics Rx\n",
    "## [A comic book recommendation system](https://github.com/MangrobanGit/comics_rx)\n",
    "<img src=\"https://images.unsplash.com/photo-1514329926535-7f6dbfbfb114?ixlib=rb-1.2.1&ixid=eyJhcHBfaWQiOjEyMDd9&auto=format&fit=crop&w=2850&q=80\" width=\"400\" align='left'>"
   ]
  },
  {
   "cell_type": "markdown",
   "metadata": {},
   "source": [
    "---"
   ]
  },
  {
   "cell_type": "markdown",
   "metadata": {},
   "source": [
    "# Libraries"
   ]
  },
  {
   "cell_type": "code",
   "execution_count": 64,
   "metadata": {},
   "outputs": [
    {
     "name": "stdout",
     "output_type": "stream",
     "text": [
      "The autoreload extension is already loaded. To reload it, use:\n",
      "  %reload_ext autoreload\n"
     ]
    }
   ],
   "source": [
    "%matplotlib inline\n",
    "%load_ext autoreload\n",
    "%autoreload 2\n",
    "# %autoreload 1 #would be where you need to specify the files\n",
    "# %aimport comic_recs\n",
    "\n",
    "import pandas as pd # dataframes\n",
    "import os\n",
    "import pickle\n",
    "\n",
    "# Data storage\n",
    "from sqlalchemy import create_engine # SQL helper\n",
    "#import psycopg2 as psql #PostgreSQL DBs\n",
    "\n",
    "# import necessary libraries\n",
    "import pyspark\n",
    "from pyspark.sql import SparkSession\n",
    "from pyspark.ml.evaluation import RegressionEvaluator\n",
    "# from pyspark.sql.types import (StructType, StructField, IntegerType\n",
    "#                                ,FloatType, LongType, StringType)\n",
    "from pyspark.sql.types import *\n",
    "\n",
    "import pyspark.sql.functions as F\n",
    "from pyspark.sql.functions import col, explode, lit, isnan, when, count, lower\n",
    "from pyspark.ml.recommendation import ALS, ALSModel\n",
    "from pyspark.ml.evaluation import RegressionEvaluator\n",
    "from pyspark.ml.tuning import CrossValidator, ParamGridBuilder, TrainValidationSplit\n",
    "from pyspark.ml.evaluation import BinaryClassificationEvaluator\n",
    "from pyspark.sql import DataFrame\n",
    "\n",
    "\n",
    "import time\n",
    "import itertools\n",
    "from functools import reduce\n",
    "import numpy as np"
   ]
  },
  {
   "cell_type": "code",
   "execution_count": 65,
   "metadata": {},
   "outputs": [],
   "source": [
    "import sys"
   ]
  },
  {
   "cell_type": "code",
   "execution_count": 66,
   "metadata": {},
   "outputs": [],
   "source": [
    "sys.path.append('..')"
   ]
  },
  {
   "cell_type": "code",
   "execution_count": 67,
   "metadata": {},
   "outputs": [],
   "source": [
    "# Custom\n",
    "import data_fcns as dfc\n",
    "import keys  # Custom keys lib\n",
    "import comic_recs as cr"
   ]
  },
  {
   "cell_type": "code",
   "execution_count": 68,
   "metadata": {},
   "outputs": [],
   "source": [
    "spark = pyspark.sql.SparkSession.builder.master(\"local[*]\").getOrCreate()"
   ]
  },
  {
   "cell_type": "code",
   "execution_count": 69,
   "metadata": {},
   "outputs": [],
   "source": [
    "# spark config\n",
    "spark = SparkSession \\\n",
    "    .builder \\\n",
    "    .appName(\"movie recommendation\") \\\n",
    "    .config(\"spark.driver.maxResultSize\", \"1g\") \\\n",
    "    .config(\"spark.driver.memory\", \"1g\") \\\n",
    "    .config(\"spark.executor.memory\", \"4g\") \\\n",
    "    .config(\"spark.master\", \"local[*]\") \\\n",
    "    .getOrCreate()\n",
    "# get spark context\n",
    "#sc = spark.sparkContext"
   ]
  },
  {
   "cell_type": "markdown",
   "metadata": {},
   "source": [
    "## Import Data\n",
    "\n",
    "We've previously set aside the dataset into a `json` file."
   ]
  },
  {
   "cell_type": "code",
   "execution_count": 70,
   "metadata": {},
   "outputs": [],
   "source": [
    "# We have previously created a version of the transactions table and filtered it down.\n",
    "sold = spark.read.json('raw_data/als_input_filtered.json')"
   ]
  },
  {
   "cell_type": "code",
   "execution_count": 71,
   "metadata": {},
   "outputs": [
    {
     "data": {
      "text/plain": [
       "DataFrame[account_id: bigint, bought: bigint, comic_id: bigint]"
      ]
     },
     "execution_count": 71,
     "metadata": {},
     "output_type": "execute_result"
    }
   ],
   "source": [
    "# Persist the data\n",
    "sold.persist()"
   ]
  },
  {
   "cell_type": "markdown",
   "metadata": {},
   "source": [
    "# New Users"
   ]
  },
  {
   "cell_type": "markdown",
   "metadata": {},
   "source": [
    "Let's develop an input process that uses titles, rather than pulling the specific person's info from the modeling data."
   ]
  },
  {
   "cell_type": "code",
   "execution_count": 72,
   "metadata": {},
   "outputs": [
    {
     "data": {
      "text/plain": [
       "DataFrame[comic_id: bigint, comic_title: string, img_url: string]"
      ]
     },
     "execution_count": 72,
     "metadata": {},
     "output_type": "execute_result"
    }
   ],
   "source": [
    "comics_df = spark.read.json('support_data/comics.json')\n",
    "comics_df.persist()"
   ]
  },
  {
   "cell_type": "code",
   "execution_count": 7,
   "metadata": {},
   "outputs": [],
   "source": [
    "sample_buys = ['Sweet Tooth', 'Paper Girls']"
   ]
  },
  {
   "cell_type": "markdown",
   "metadata": {},
   "source": [
    "### Get matching 'official titles'"
   ]
  },
  {
   "cell_type": "code",
   "execution_count": 74,
   "metadata": {},
   "outputs": [],
   "source": [
    "def get_comic_ids_for_user(comics_df, read_comics_list):\n",
    "    \"\"\"\n",
    "    Given spark DF of existing comics and list of comics to 'match'\n",
    "    Return list of like comics from the DF\n",
    "    \"\"\"\n",
    "    # Initialize\n",
    "    similar_comics_list = []\n",
    "    \n",
    "    for comic in read_comics_list:\n",
    "        # print(comic)\n",
    "        # Search for comic in df\n",
    "        matched_comics = (comics_df.filter(lower(comics_df['comic_title'])\n",
    "                                 .contains(str.lower(comic)))\n",
    "                                 .select('comic_id').rdd\n",
    "                                 .flatMap(lambda x: x).collect()\n",
    "                         )\n",
    "        similar_comics_list.extend(matched_comics)\n",
    "        \n",
    "    return similar_comics_list\n"
   ]
  },
  {
   "cell_type": "markdown",
   "metadata": {},
   "source": [
    "#### Testing"
   ]
  },
  {
   "cell_type": "code",
   "execution_count": 75,
   "metadata": {},
   "outputs": [],
   "source": [
    "curr_comic_ids = get_comic_ids_for_user(comics_df, sample_buys)"
   ]
  },
  {
   "cell_type": "markdown",
   "metadata": {},
   "source": [
    "### Add user"
   ]
  },
  {
   "cell_type": "code",
   "execution_count": 76,
   "metadata": {},
   "outputs": [],
   "source": [
    "def create_acct_id(model_data):\n",
    "    \"\"\"\n",
    "    Given model data, create new account id that is just the max existing +1\n",
    "    \"\"\"\n",
    "    # Get max account id\n",
    "    max_acct_id = model_data.agg({'account_id':'max'}).collect()[0][0]\n",
    "\n",
    "    # New Account id\n",
    "    new_acct_id = max_acct_id + 1\n",
    "    \n",
    "    return new_acct_id"
   ]
  },
  {
   "cell_type": "code",
   "execution_count": 77,
   "metadata": {},
   "outputs": [],
   "source": [
    "def add_new_user(model_data, new_comic_ids, new_acct_id):\n",
    "    \"\"\"\n",
    "    Given existing model data and the comic ids for new user,\n",
    "    add rows for the new user to model data\n",
    "    \"\"\"\n",
    "#     # Get max account id\n",
    "#     max_acct_id = model_data.agg({'account_id':'max'}).collect()[0][0]\n",
    "\n",
    "#     # New Account id\n",
    "#     new_acct_id = max_acct_id + 1\n",
    "    \n",
    "    # Create spark Df of new rows\n",
    "    new_rows = spark.createDataFrame([\n",
    "                (new_acct_id, 1, comic_id) for comic_id in new_comic_ids])\n",
    "\n",
    "    # Append to existing model data\n",
    "    model_data_new = model_data.union(new_rows)\n",
    "    \n",
    "    return model_data_new"
   ]
  },
  {
   "cell_type": "markdown",
   "metadata": {},
   "source": [
    "#### Testing"
   ]
  },
  {
   "cell_type": "code",
   "execution_count": 78,
   "metadata": {},
   "outputs": [],
   "source": [
    "new_id = create_acct_id(sold)"
   ]
  },
  {
   "cell_type": "code",
   "execution_count": 79,
   "metadata": {},
   "outputs": [],
   "source": [
    "test_sold = add_new_user(sold, curr_comic_ids, new_id)"
   ]
  },
  {
   "cell_type": "code",
   "execution_count": 80,
   "metadata": {},
   "outputs": [
    {
     "data": {
      "text/plain": [
       "61874"
      ]
     },
     "execution_count": 80,
     "metadata": {},
     "output_type": "execute_result"
    }
   ],
   "source": [
    "test_sold.count()"
   ]
  },
  {
   "cell_type": "code",
   "execution_count": 81,
   "metadata": {},
   "outputs": [
    {
     "data": {
      "text/plain": [
       "61871"
      ]
     },
     "execution_count": 81,
     "metadata": {},
     "output_type": "execute_result"
    }
   ],
   "source": [
    "sold.count()"
   ]
  },
  {
   "cell_type": "markdown",
   "metadata": {},
   "source": [
    "### Train On New Data"
   ]
  },
  {
   "cell_type": "code",
   "execution_count": 82,
   "metadata": {},
   "outputs": [],
   "source": [
    "# Create dictionary of candidate parameters\n",
    "current_params = {'maxIter': 10\n",
    "                  ,'rank': 5\n",
    "                  ,'regParam': 0.1\n",
    "                  ,'alpha': 40\n",
    "                  ,'seed': 41916\n",
    "                 }"
   ]
  },
  {
   "cell_type": "code",
   "execution_count": 83,
   "metadata": {},
   "outputs": [],
   "source": [
    "def train_als(model_data, current_params):\n",
    "    \"\"\"\n",
    "    Given training data and set of parameters\n",
    "    Returns trained ALS model\n",
    "    \"\"\"\n",
    "    # Create ALS instance for cv with our chosen parametrs\n",
    "    als_train = ALS(maxIter=current_params.get('maxIter'),\n",
    "              rank=current_params.get('rank'),\n",
    "              userCol='account_id',\n",
    "              itemCol='comic_id',\n",
    "              ratingCol='bought',\n",
    "              implicitPrefs=True,\n",
    "              regParam=current_params.get('regParam'),\n",
    "              alpha=current_params.get('alpha'),\n",
    "              coldStartStrategy='nan', # we want to drop so can get through CV\n",
    "              seed=41916)\n",
    "\n",
    "    model_train = als_train.fit(model_data)\n",
    "    return model_train"
   ]
  },
  {
   "cell_type": "code",
   "execution_count": 84,
   "metadata": {},
   "outputs": [],
   "source": [
    "als_model = train_als(test_sold, current_params)"
   ]
  },
  {
   "cell_type": "markdown",
   "metadata": {},
   "source": [
    "### Create DF of new user's unbought comics"
   ]
  },
  {
   "cell_type": "code",
   "execution_count": 24,
   "metadata": {},
   "outputs": [],
   "source": [
    "def get_comics_to_rate(comics_df, training_comic_ids):\n",
    "    \"\"\"\n",
    "    Given list of comic ids, \n",
    "    returns list of ids from master list that don't match\n",
    "    \"\"\"\n",
    "    new_comic_ids = (comics_df.select('comic_id').distinct()\n",
    "                      .filter(~col('comic_id').isin(curr_comic_ids))\n",
    "                      .select('comic_id').rdd.flatMap(lambda x: x).collect()\n",
    "                     )\n",
    "    return new_comic_ids"
   ]
  },
  {
   "cell_type": "code",
   "execution_count": 25,
   "metadata": {},
   "outputs": [],
   "source": [
    "def recommend_n_comics(top_n, new_comics_ids, account_id, als_model, comics_df):\n",
    "    \"\"\"\n",
    "    Given a list of new comics (to the user) and requested number N\n",
    "    Return list of N comics, ordered descending by recommendation score\n",
    "    \"\"\"\n",
    "\n",
    "    # Create spark Df of new rows\n",
    "    comics_to_predict = (spark.createDataFrame([\n",
    "                        (account_id, 1, comic_id) for comic_id in new_comics_ids])\n",
    "                        .select(col('_1').alias('account_id')\n",
    "                        ,col('_2').alias('bought')\n",
    "                        ,col('_3').alias('comic_id'))\n",
    "                        )\n",
    "\n",
    "    # Get predictions\n",
    "    test_preds = als_model.transform(comics_to_predict)\n",
    "    test_preds.persist()\n",
    "\n",
    "    # Alias\n",
    "    cdf = comics_df.alias('cdf')\n",
    "    tp = test_preds.alias('tp')\n",
    "\n",
    "    # Query results\n",
    "    results = (tp.join(cdf, tp.comic_id==cdf.comic_id)\n",
    "                .filter(~isnan(col('prediction')))\n",
    "                .orderBy('prediction', ascending=False)\n",
    "                .select('comic_title')\n",
    "                .limit(top_n)\n",
    "              ).toPandas()\n",
    "\n",
    "    return results"
   ]
  },
  {
   "cell_type": "code",
   "execution_count": 26,
   "metadata": {},
   "outputs": [],
   "source": [
    "def make_comic_recommendations(read_comics_list, top_n, comics_df, train_data \n",
    "                               ,best_params):\n",
    "    \"\"\"\n",
    "    Given a list of comic titles and request for N\n",
    "    Return list of comics recommendations as a pandas dataframe\n",
    "    \"\"\"\n",
    "    start_time = time.time()\n",
    "    \n",
    "    # Get best-matching comic IDs\n",
    "    train_comic_ids = get_comic_ids_for_user(comics_df, read_comics_list)\n",
    "        \n",
    "    # Create new account number\n",
    "    new_id = create_acct_id(train_data)\n",
    "    \n",
    "    # Add new account to training data\n",
    "    train_data_new = add_new_user(train_data, train_comic_ids, new_id)\n",
    "    train_data_new.persist()\n",
    "    \n",
    "    # Train new ALS model\n",
    "    als_model = train_als(train_data_new, best_params)\n",
    "    \n",
    "    # Get list of comics to rate, exclude those already matched\n",
    "    new_comics_ids = get_comics_to_rate(comics_df, train_comic_ids)\n",
    "\n",
    "    # Get pandas df of top n recommended comics!\n",
    "    top_n_comics_df = recommend_n_comics(top_n, new_comics_ids, new_id\n",
    "                                        ,als_model\n",
    "                                        ,comics_df\n",
    "                                        )\n",
    "    \n",
    "    print ('Total Runtime: {:.2f} seconds'.format(time.time() - start_time))\n",
    "    return top_n_comics_df"
   ]
  },
  {
   "cell_type": "markdown",
   "metadata": {},
   "source": [
    "## BIG TEST!"
   ]
  },
  {
   "cell_type": "code",
   "execution_count": 27,
   "metadata": {},
   "outputs": [],
   "source": [
    "my_list = ['Transformers', 'GI Joe', 'Y The Last Man', 'Saga', 'Avengers'\n",
    "           ,'Paper Girls', 'Star Wars']"
   ]
  },
  {
   "cell_type": "code",
   "execution_count": 28,
   "metadata": {},
   "outputs": [
    {
     "name": "stdout",
     "output_type": "stream",
     "text": [
      "Total Runtime: 11.18 seconds\n"
     ]
    }
   ],
   "source": [
    "df = make_comic_recommendations(my_list\n",
    "                               ,20\n",
    "                               ,comics_df\n",
    "                               ,sold\n",
    "                               ,current_params)"
   ]
  },
  {
   "cell_type": "code",
   "execution_count": 29,
   "metadata": {},
   "outputs": [
    {
     "data": {
      "text/html": [
       "<div>\n",
       "<style scoped>\n",
       "    .dataframe tbody tr th:only-of-type {\n",
       "        vertical-align: middle;\n",
       "    }\n",
       "\n",
       "    .dataframe tbody tr th {\n",
       "        vertical-align: top;\n",
       "    }\n",
       "\n",
       "    .dataframe thead th {\n",
       "        text-align: right;\n",
       "    }\n",
       "</style>\n",
       "<table border=\"1\" class=\"dataframe\">\n",
       "  <thead>\n",
       "    <tr style=\"text-align: right;\">\n",
       "      <th></th>\n",
       "      <th>comic_title</th>\n",
       "    </tr>\n",
       "  </thead>\n",
       "  <tbody>\n",
       "    <tr>\n",
       "      <th>0</th>\n",
       "      <td>Spider-Verse (Marvel)</td>\n",
       "    </tr>\n",
       "    <tr>\n",
       "      <th>1</th>\n",
       "      <td>Harley Quinn Valentines Day S (DC)</td>\n",
       "    </tr>\n",
       "    <tr>\n",
       "      <th>2</th>\n",
       "      <td>Convergence Harley Quinn (DC)</td>\n",
       "    </tr>\n",
       "    <tr>\n",
       "      <th>3</th>\n",
       "      <td>Harley Quinn &amp; Power Girl (DC)</td>\n",
       "    </tr>\n",
       "    <tr>\n",
       "      <th>4</th>\n",
       "      <td>Spider-Island (Marvel)</td>\n",
       "    </tr>\n",
       "    <tr>\n",
       "      <th>5</th>\n",
       "      <td>Spider-Verse Team Up (Marvel)</td>\n",
       "    </tr>\n",
       "    <tr>\n",
       "      <th>6</th>\n",
       "      <td>Harley Quinn Futures End (DC)</td>\n",
       "    </tr>\n",
       "    <tr>\n",
       "      <th>7</th>\n",
       "      <td>Harley Quinn (DC)</td>\n",
       "    </tr>\n",
       "    <tr>\n",
       "      <th>8</th>\n",
       "      <td>Amazing Spider-Man Renew You (Marvel)</td>\n",
       "    </tr>\n",
       "    <tr>\n",
       "      <th>9</th>\n",
       "      <td>Amazing Spider-Man Special (Marvel)</td>\n",
       "    </tr>\n",
       "    <tr>\n",
       "      <th>10</th>\n",
       "      <td>All New All Different Avenger (Marvel)</td>\n",
       "    </tr>\n",
       "    <tr>\n",
       "      <th>11</th>\n",
       "      <td>New Suicide Squad (DC)</td>\n",
       "    </tr>\n",
       "    <tr>\n",
       "      <th>12</th>\n",
       "      <td>Grayson (DC)</td>\n",
       "    </tr>\n",
       "    <tr>\n",
       "      <th>13</th>\n",
       "      <td>Superman Wonder Woman (DC)</td>\n",
       "    </tr>\n",
       "    <tr>\n",
       "      <th>14</th>\n",
       "      <td>Spider-Man 2099 (Marvel)</td>\n",
       "    </tr>\n",
       "    <tr>\n",
       "      <th>15</th>\n",
       "      <td>Drax (Marvel)</td>\n",
       "    </tr>\n",
       "    <tr>\n",
       "      <th>16</th>\n",
       "      <td>Superman Rebirth (DC)</td>\n",
       "    </tr>\n",
       "    <tr>\n",
       "      <th>17</th>\n",
       "      <td>Legendary Star Lord (Marvel)</td>\n",
       "    </tr>\n",
       "    <tr>\n",
       "      <th>18</th>\n",
       "      <td>Convergence (DC)</td>\n",
       "    </tr>\n",
       "    <tr>\n",
       "      <th>19</th>\n",
       "      <td>Secret Wars (Marvel)</td>\n",
       "    </tr>\n",
       "  </tbody>\n",
       "</table>\n",
       "</div>"
      ],
      "text/plain": [
       "                               comic_title\n",
       "0                    Spider-Verse (Marvel)\n",
       "1       Harley Quinn Valentines Day S (DC)\n",
       "2            Convergence Harley Quinn (DC)\n",
       "3           Harley Quinn & Power Girl (DC)\n",
       "4                   Spider-Island (Marvel)\n",
       "5            Spider-Verse Team Up (Marvel)\n",
       "6            Harley Quinn Futures End (DC)\n",
       "7                        Harley Quinn (DC)\n",
       "8    Amazing Spider-Man Renew You (Marvel)\n",
       "9      Amazing Spider-Man Special (Marvel)\n",
       "10  All New All Different Avenger (Marvel)\n",
       "11                  New Suicide Squad (DC)\n",
       "12                            Grayson (DC)\n",
       "13              Superman Wonder Woman (DC)\n",
       "14                Spider-Man 2099 (Marvel)\n",
       "15                           Drax (Marvel)\n",
       "16                   Superman Rebirth (DC)\n",
       "17            Legendary Star Lord (Marvel)\n",
       "18                        Convergence (DC)\n",
       "19                    Secret Wars (Marvel)"
      ]
     },
     "execution_count": 29,
     "metadata": {},
     "output_type": "execute_result"
    }
   ],
   "source": [
    "df"
   ]
  },
  {
   "cell_type": "markdown",
   "metadata": {},
   "source": [
    "# ALTERNATIVE \n",
    "\n",
    "Use Utility Matrix, as inspired by John Naujoks, suggested by Miles Erickson"
   ]
  },
  {
   "cell_type": "markdown",
   "metadata": {},
   "source": [
    "1. Get the item factors "
   ]
  },
  {
   "cell_type": "code",
   "execution_count": 366,
   "metadata": {
    "scrolled": true
   },
   "outputs": [],
   "source": [
    "# item_factors = als_model.itemFactors.toPandas()\n",
    "\n",
    "item_factors = pd.read_pickle('support_data/item_factors.pkl')"
   ]
  },
  {
   "cell_type": "code",
   "execution_count": 367,
   "metadata": {},
   "outputs": [
    {
     "data": {
      "text/html": [
       "<div>\n",
       "<style scoped>\n",
       "    .dataframe tbody tr th:only-of-type {\n",
       "        vertical-align: middle;\n",
       "    }\n",
       "\n",
       "    .dataframe tbody tr th {\n",
       "        vertical-align: top;\n",
       "    }\n",
       "\n",
       "    .dataframe thead th {\n",
       "        text-align: right;\n",
       "    }\n",
       "</style>\n",
       "<table border=\"1\" class=\"dataframe\">\n",
       "  <thead>\n",
       "    <tr style=\"text-align: right;\">\n",
       "      <th></th>\n",
       "      <th>id</th>\n",
       "      <th>features</th>\n",
       "    </tr>\n",
       "  </thead>\n",
       "  <tbody>\n",
       "    <tr>\n",
       "      <th>0</th>\n",
       "      <td>10</td>\n",
       "      <td>[-0.7526867389678955, -0.21263617277145386, -1...</td>\n",
       "    </tr>\n",
       "    <tr>\n",
       "      <th>1</th>\n",
       "      <td>20</td>\n",
       "      <td>[-0.3515812158584595, 0.4757572114467621, -1.2...</td>\n",
       "    </tr>\n",
       "    <tr>\n",
       "      <th>2</th>\n",
       "      <td>30</td>\n",
       "      <td>[0.1806577742099762, -0.48153993487358093, -0....</td>\n",
       "    </tr>\n",
       "    <tr>\n",
       "      <th>3</th>\n",
       "      <td>40</td>\n",
       "      <td>[-0.06164746731519699, -0.23286470770835876, -...</td>\n",
       "    </tr>\n",
       "    <tr>\n",
       "      <th>4</th>\n",
       "      <td>50</td>\n",
       "      <td>[-0.4028661251068115, -0.3713889420032501, -1....</td>\n",
       "    </tr>\n",
       "  </tbody>\n",
       "</table>\n",
       "</div>"
      ],
      "text/plain": [
       "   id                                           features\n",
       "0  10  [-0.7526867389678955, -0.21263617277145386, -1...\n",
       "1  20  [-0.3515812158584595, 0.4757572114467621, -1.2...\n",
       "2  30  [0.1806577742099762, -0.48153993487358093, -0....\n",
       "3  40  [-0.06164746731519699, -0.23286470770835876, -...\n",
       "4  50  [-0.4028661251068115, -0.3713889420032501, -1...."
      ]
     },
     "execution_count": 367,
     "metadata": {},
     "output_type": "execute_result"
    }
   ],
   "source": [
    "item_factors.head()"
   ]
  },
  {
   "cell_type": "code",
   "execution_count": 368,
   "metadata": {},
   "outputs": [
    {
     "data": {
      "text/plain": [
       "id                                                       4413\n",
       "features    [0.3212127089500427, 0.11431856453418732, -1.1...\n",
       "Name: 2171, dtype: object"
      ]
     },
     "execution_count": 368,
     "metadata": {},
     "output_type": "execute_result"
    }
   ],
   "source": [
    "item_factors.iloc[2171]"
   ]
  },
  {
   "cell_type": "code",
   "execution_count": 369,
   "metadata": {},
   "outputs": [],
   "source": [
    "item_factors.columns = ['item_id', 'features']"
   ]
  },
  {
   "cell_type": "code",
   "execution_count": 370,
   "metadata": {},
   "outputs": [
    {
     "name": "stdout",
     "output_type": "stream",
     "text": [
      "<class 'pandas.core.frame.DataFrame'>\n",
      "RangeIndex: 6028 entries, 0 to 6027\n",
      "Data columns (total 2 columns):\n",
      "item_id     6028 non-null int32\n",
      "features    6028 non-null object\n",
      "dtypes: int32(1), object(1)\n",
      "memory usage: 70.7+ KB\n"
     ]
    }
   ],
   "source": [
    "item_factors.info()"
   ]
  },
  {
   "cell_type": "code",
   "execution_count": 371,
   "metadata": {},
   "outputs": [
    {
     "data": {
      "text/plain": [
       "[-0.7526867389678955,\n",
       " -0.21263617277145386,\n",
       " -1.1569229364395142,\n",
       " 0.19937847554683685,\n",
       " 0.16002951562404633]"
      ]
     },
     "execution_count": 371,
     "metadata": {},
     "output_type": "execute_result"
    }
   ],
   "source": [
    "item_factors.features[0]"
   ]
  },
  {
   "cell_type": "markdown",
   "metadata": {},
   "source": [
    "2. Create a fake user "
   ]
  },
  {
   "cell_type": "code",
   "execution_count": 372,
   "metadata": {},
   "outputs": [
    {
     "data": {
      "text/html": [
       "<div>\n",
       "<style scoped>\n",
       "    .dataframe tbody tr th:only-of-type {\n",
       "        vertical-align: middle;\n",
       "    }\n",
       "\n",
       "    .dataframe tbody tr th {\n",
       "        vertical-align: top;\n",
       "    }\n",
       "\n",
       "    .dataframe thead th {\n",
       "        text-align: right;\n",
       "    }\n",
       "</style>\n",
       "<table border=\"1\" class=\"dataframe\">\n",
       "  <thead>\n",
       "    <tr style=\"text-align: right;\">\n",
       "      <th></th>\n",
       "      <th>id</th>\n",
       "      <th>rating</th>\n",
       "    </tr>\n",
       "  </thead>\n",
       "  <tbody>\n",
       "    <tr>\n",
       "      <th>0</th>\n",
       "      <td>2171</td>\n",
       "      <td>1</td>\n",
       "    </tr>\n",
       "    <tr>\n",
       "      <th>1</th>\n",
       "      <td>2637</td>\n",
       "      <td>1</td>\n",
       "    </tr>\n",
       "  </tbody>\n",
       "</table>\n",
       "</div>"
      ],
      "text/plain": [
       "     id  rating\n",
       "0  2171       1\n",
       "1  2637       1"
      ]
     },
     "execution_count": 372,
     "metadata": {},
     "output_type": "execute_result"
    }
   ],
   "source": [
    "# 2171 = Fables, 2637 = Gideon Falls\n",
    "fake_user = [{'id': 2171, 'rating': 1}, {'id': 2637, 'rating': 1}] \n",
    "fake_user_df = pd.DataFrame(fake_user)\n",
    "fake_user_df"
   ]
  },
  {
   "cell_type": "markdown",
   "metadata": {},
   "source": [
    "3. Create item matrix"
   ]
  },
  {
   "cell_type": "code",
   "execution_count": 373,
   "metadata": {},
   "outputs": [],
   "source": [
    "comic_ids = fake_user_df.id.tolist()\n",
    "comics_mtx = np.zeros(shape=(len(comic_ids),current_params['rank'])) "
   ]
  },
  {
   "cell_type": "code",
   "execution_count": 374,
   "metadata": {},
   "outputs": [
    {
     "data": {
      "text/plain": [
       "[2171, 2637]"
      ]
     },
     "execution_count": 374,
     "metadata": {},
     "output_type": "execute_result"
    }
   ],
   "source": [
    "comic_ids"
   ]
  },
  {
   "cell_type": "code",
   "execution_count": 375,
   "metadata": {},
   "outputs": [
    {
     "data": {
      "text/plain": [
       "(2, 5)"
      ]
     },
     "execution_count": 375,
     "metadata": {},
     "output_type": "execute_result"
    }
   ],
   "source": [
    "comics_mtx.shape"
   ]
  },
  {
   "cell_type": "code",
   "execution_count": 376,
   "metadata": {},
   "outputs": [
    {
     "data": {
      "text/plain": [
       "array([[0., 0., 0., 0., 0.],\n",
       "       [0., 0., 0., 0., 0.]])"
      ]
     },
     "execution_count": 376,
     "metadata": {},
     "output_type": "execute_result"
    }
   ],
   "source": [
    "comics_mtx"
   ]
  },
  {
   "cell_type": "code",
   "execution_count": 377,
   "metadata": {},
   "outputs": [
    {
     "data": {
      "text/plain": [
       "Index(['item_id', 'features'], dtype='object')"
      ]
     },
     "execution_count": 377,
     "metadata": {},
     "output_type": "execute_result"
    }
   ],
   "source": [
    "item_factors.columns"
   ]
  },
  {
   "cell_type": "code",
   "execution_count": 378,
   "metadata": {},
   "outputs": [
    {
     "data": {
      "text/plain": [
       "793"
      ]
     },
     "execution_count": 378,
     "metadata": {},
     "output_type": "execute_result"
    }
   ],
   "source": [
    "item_factors.loc[item_factors['item_id']==2171].index[0]"
   ]
  },
  {
   "cell_type": "code",
   "execution_count": 379,
   "metadata": {},
   "outputs": [],
   "source": [
    "for index, comic in enumerate(comic_ids):\n",
    "    idx = item_factors.loc[item_factors['item_id']==comic].index[0]\n",
    "    comics_mtx[index, :] = np.array(item_factors.loc[idx, 'features'])\n"
   ]
  },
  {
   "cell_type": "code",
   "execution_count": 380,
   "metadata": {},
   "outputs": [
    {
     "data": {
      "text/plain": [
       "array([[ 0.49142984,  0.22184217, -0.78728408, -0.99056023, -0.36222401],\n",
       "       [ 0.08937276, -0.12716685, -0.83390325, -0.92093158, -0.57430983]])"
      ]
     },
     "execution_count": 380,
     "metadata": {},
     "output_type": "execute_result"
    }
   ],
   "source": [
    "comics_mtx"
   ]
  },
  {
   "cell_type": "markdown",
   "metadata": {},
   "source": [
    "# _Make a function_"
   ]
  },
  {
   "cell_type": "code",
   "execution_count": 431,
   "metadata": {},
   "outputs": [],
   "source": [
    "comics_factors = pd.read_pickle('support_data/comics_factors.pkl')"
   ]
  },
  {
   "cell_type": "code",
   "execution_count": 408,
   "metadata": {},
   "outputs": [],
   "source": [
    "def create_user_item_matrix(comics_ids, comic_factors):\n",
    "    \"\"\"\n",
    "    Given list of user's comic preferences\n",
    "    and a pandas df with item (comic) factors\n",
    "    create a item matrix for the user\n",
    "    \"\"\"\n",
    "    # Get rank\n",
    "    num_latent_factors = len(comic_factors.features.iloc[0])\n",
    "    \n",
    "    # Initialize matrix\n",
    "    comics_mtx = np.zeros(shape=(len(comics_ids), num_latent_factors)) \n",
    "\n",
    "    for index, comic in enumerate(comic_ids):\n",
    "        #print(comic)\n",
    "        #com_idx = comics_factors.loc[comics_factors['cxomic_id']==comic].index.values[0]\n",
    "        comics_mtx[index, :] = np.array(comic_factors.loc[comic, 'features'])\n",
    "    \n",
    "    return comics_mtx"
   ]
  },
  {
   "cell_type": "code",
   "execution_count": 264,
   "metadata": {},
   "outputs": [],
   "source": [
    "cm = create_user_item_matrix(comics_ids=comic_ids, comics_factors=comics_factors)"
   ]
  },
  {
   "cell_type": "code",
   "execution_count": 265,
   "metadata": {},
   "outputs": [
    {
     "data": {
      "text/plain": [
       "array([[ 0.49142984,  0.22184217, -0.78728408, -0.99056023, -0.36222401],\n",
       "       [ 0.08937276, -0.12716685, -0.83390325, -0.92093158, -0.57430983]])"
      ]
     },
     "execution_count": 265,
     "metadata": {},
     "output_type": "execute_result"
    }
   ],
   "source": [
    "cm"
   ]
  },
  {
   "cell_type": "markdown",
   "metadata": {},
   "source": [
    "3. Create rating matrix"
   ]
  },
  {
   "cell_type": "markdown",
   "metadata": {},
   "source": [
    "--- wm ---"
   ]
  },
  {
   "cell_type": "code",
   "execution_count": 410,
   "metadata": {},
   "outputs": [],
   "source": [
    "def create_user_impl_rate_matrix(comic_ids, ratings_list=None):\n",
    "    \"\"\"\n",
    "    Given item matrix\n",
    "    create implicit ratings matrix\n",
    "    \"\"\"\n",
    "    if ratings_list is None:\n",
    "        n = len(comic_ids)\n",
    "        imp_rat_mtx = np.ones((n,1), 'int')\n",
    "    else:\n",
    "        imp_rat_mtx = np.array((ratings_list,)).T\n",
    "    \n",
    "    return imp_rat_mtx\n",
    "    "
   ]
  },
  {
   "cell_type": "code",
   "execution_count": 317,
   "metadata": {},
   "outputs": [
    {
     "data": {
      "text/plain": [
       "array([[1],\n",
       "       [1]])"
      ]
     },
     "execution_count": 317,
     "metadata": {},
     "output_type": "execute_result"
    }
   ],
   "source": [
    "rm = create_user_implicit_ratings_matrix(comic_ids)\n",
    "\n",
    "rm"
   ]
  },
  {
   "cell_type": "markdown",
   "metadata": {},
   "source": [
    "--- wm ---"
   ]
  },
  {
   "cell_type": "code",
   "execution_count": 381,
   "metadata": {},
   "outputs": [],
   "source": [
    "ratings = fake_user_df.rating.tolist()"
   ]
  },
  {
   "cell_type": "code",
   "execution_count": 382,
   "metadata": {},
   "outputs": [],
   "source": [
    "ratings_mtx = np.array((ratings,)).T"
   ]
  },
  {
   "cell_type": "code",
   "execution_count": 383,
   "metadata": {},
   "outputs": [
    {
     "data": {
      "text/plain": [
       "array([[1],\n",
       "       [1]])"
      ]
     },
     "execution_count": 383,
     "metadata": {},
     "output_type": "execute_result"
    }
   ],
   "source": [
    "ratings_mtx"
   ]
  },
  {
   "cell_type": "code",
   "execution_count": 384,
   "metadata": {},
   "outputs": [
    {
     "data": {
      "text/plain": [
       "((2, 1), (2, 5))"
      ]
     },
     "execution_count": 384,
     "metadata": {},
     "output_type": "execute_result"
    }
   ],
   "source": [
    "ratings_mtx.shape, comics_mtx.shape"
   ]
  },
  {
   "cell_type": "markdown",
   "metadata": {},
   "source": [
    "--- wm ---"
   ]
  },
  {
   "cell_type": "code",
   "execution_count": 333,
   "metadata": {},
   "outputs": [],
   "source": [
    "def create_user_utility_matrix(comics_matrix, user_rating_matrix):\n",
    "    \n",
    "    util_mtx = np.linalg.lstsq(comics_matrix, user_rating_matrix, rcond=None)\n",
    "\n",
    "    # We just want the factors\n",
    "    util_mtx = util_mtx[0].reshape((5,))\n",
    "\n",
    "    return util_mtx"
   ]
  },
  {
   "cell_type": "code",
   "execution_count": 334,
   "metadata": {},
   "outputs": [],
   "source": [
    "u = create_user_utility_matrix(cm, rm)"
   ]
  },
  {
   "cell_type": "code",
   "execution_count": 335,
   "metadata": {},
   "outputs": [
    {
     "data": {
      "text/plain": [
       "array([ 0.11542453, -0.0096107 , -0.43939538, -0.50558331, -0.27239854])"
      ]
     },
     "execution_count": 335,
     "metadata": {},
     "output_type": "execute_result"
    }
   ],
   "source": [
    "u"
   ]
  },
  {
   "cell_type": "markdown",
   "metadata": {},
   "source": [
    "--- wm ---"
   ]
  },
  {
   "cell_type": "code",
   "execution_count": 385,
   "metadata": {},
   "outputs": [
    {
     "data": {
      "text/plain": [
       "(5,)"
      ]
     },
     "execution_count": 385,
     "metadata": {},
     "output_type": "execute_result"
    }
   ],
   "source": [
    "# Least squares solution to get user features\n",
    "fake_user_matrix = np.linalg.lstsq(comics_mtx, ratings_mtx, rcond=None)\n",
    "\n",
    "# New users matrix!\n",
    "fake_user_matrix = fake_user_matrix[0].reshape((current_params['rank'],))\n",
    "fake_user_matrix.shape"
   ]
  },
  {
   "cell_type": "code",
   "execution_count": 386,
   "metadata": {},
   "outputs": [
    {
     "data": {
      "text/plain": [
       "array([ 0.11542453, -0.0096107 , -0.43939538, -0.50558331, -0.27239854])"
      ]
     },
     "execution_count": 386,
     "metadata": {},
     "output_type": "execute_result"
    }
   ],
   "source": [
    "fake_user_matrix"
   ]
  },
  {
   "cell_type": "markdown",
   "metadata": {},
   "source": [
    "### Check with known user"
   ]
  },
  {
   "cell_type": "code",
   "execution_count": 337,
   "metadata": {},
   "outputs": [],
   "source": [
    "import sys\n",
    "import os\n",
    "import pandas as pd\n",
    "import boto3\n",
    "\n",
    "# Data storage\n",
    "from sqlalchemy import create_engine # SQL helper\n",
    "import psycopg2 as psql #PostgreSQL DBs\n",
    "\n",
    "sys.path.append(\"..\")"
   ]
  },
  {
   "cell_type": "code",
   "execution_count": 338,
   "metadata": {},
   "outputs": [],
   "source": [
    "# Define path to secret\n",
    "secret_path_aws = os.path.join(os.environ['HOME'], '.secret', \n",
    "                           'aws_ps_flatiron.json')\n",
    "secret_path_aws\n",
    "\n",
    "aws_keys = keys.get_keys(secret_path_aws)\n",
    "user = aws_keys['user']\n",
    "ps = aws_keys['password']\n",
    "host = aws_keys['host']\n",
    "db = aws_keys['db_name']\n",
    "\n",
    "aws_ps_engine = ('postgresql://' + user + ':' + ps + '@' + host + '/' + db)\n",
    "\n",
    "# Setup PSQL connection\n",
    "conn = psql.connect(\n",
    "    database=db,\n",
    "    user=user,\n",
    "    password=ps,\n",
    "    host=host,\n",
    "    port='5432'\n",
    ")"
   ]
  },
  {
   "cell_type": "code",
   "execution_count": 339,
   "metadata": {},
   "outputs": [],
   "source": [
    "# Instantiate cursor\n",
    "cur = conn.cursor()"
   ]
  },
  {
   "cell_type": "code",
   "execution_count": 340,
   "metadata": {},
   "outputs": [],
   "source": [
    "query = \"\"\"\n",
    "    select \n",
    "        account_num\n",
    "        ,c.comic_title\n",
    "        ,c.comic_id\n",
    "    from comic_trans ct inner join comics c on ct.comic_title = \n",
    "        c.comic_title\n",
    "    group by\n",
    "        1,2,3\n",
    "\"\"\""
   ]
  },
  {
   "cell_type": "code",
   "execution_count": 341,
   "metadata": {},
   "outputs": [],
   "source": [
    "# Execute the query\n",
    "cur.execute(query)"
   ]
  },
  {
   "cell_type": "code",
   "execution_count": 342,
   "metadata": {},
   "outputs": [],
   "source": [
    "conn.commit()"
   ]
  },
  {
   "cell_type": "code",
   "execution_count": 343,
   "metadata": {},
   "outputs": [],
   "source": [
    "# Check results\n",
    "temp_df = pd.DataFrame(cur.fetchall())\n",
    "temp_df.columns = [col.name for col in cur.description]"
   ]
  },
  {
   "cell_type": "code",
   "execution_count": 344,
   "metadata": {},
   "outputs": [
    {
     "data": {
      "text/html": [
       "<div>\n",
       "<style scoped>\n",
       "    .dataframe tbody tr th:only-of-type {\n",
       "        vertical-align: middle;\n",
       "    }\n",
       "\n",
       "    .dataframe tbody tr th {\n",
       "        vertical-align: top;\n",
       "    }\n",
       "\n",
       "    .dataframe thead th {\n",
       "        text-align: right;\n",
       "    }\n",
       "</style>\n",
       "<table border=\"1\" class=\"dataframe\">\n",
       "  <thead>\n",
       "    <tr style=\"text-align: right;\">\n",
       "      <th></th>\n",
       "      <th>account_num</th>\n",
       "      <th>comic_title</th>\n",
       "      <th>comic_id</th>\n",
       "    </tr>\n",
       "  </thead>\n",
       "  <tbody>\n",
       "    <tr>\n",
       "      <th>0</th>\n",
       "      <td>00002</td>\n",
       "      <td>All New X-Men (Marvel)</td>\n",
       "      <td>198</td>\n",
       "    </tr>\n",
       "    <tr>\n",
       "      <th>1</th>\n",
       "      <td>00002</td>\n",
       "      <td>Amazing Spider-Man Annual (Marvel)</td>\n",
       "      <td>223</td>\n",
       "    </tr>\n",
       "    <tr>\n",
       "      <th>2</th>\n",
       "      <td>00002</td>\n",
       "      <td>Amazing Spider-Man (Marvel)</td>\n",
       "      <td>224</td>\n",
       "    </tr>\n",
       "    <tr>\n",
       "      <th>3</th>\n",
       "      <td>00002</td>\n",
       "      <td>A Plus X (Marvel)</td>\n",
       "      <td>312</td>\n",
       "    </tr>\n",
       "    <tr>\n",
       "      <th>4</th>\n",
       "      <td>00002</td>\n",
       "      <td>Astounding Wolf-Man (Image)</td>\n",
       "      <td>392</td>\n",
       "    </tr>\n",
       "  </tbody>\n",
       "</table>\n",
       "</div>"
      ],
      "text/plain": [
       "  account_num                         comic_title  comic_id\n",
       "0       00002              All New X-Men (Marvel)       198\n",
       "1       00002  Amazing Spider-Man Annual (Marvel)       223\n",
       "2       00002         Amazing Spider-Man (Marvel)       224\n",
       "3       00002                   A Plus X (Marvel)       312\n",
       "4       00002         Astounding Wolf-Man (Image)       392"
      ]
     },
     "execution_count": 344,
     "metadata": {},
     "output_type": "execute_result"
    }
   ],
   "source": [
    "temp_df.head()"
   ]
  },
  {
   "cell_type": "code",
   "execution_count": 345,
   "metadata": {},
   "outputs": [],
   "source": [
    "z = temp_df.groupby(by='account_num').comic_id.count().reset_index()"
   ]
  },
  {
   "cell_type": "code",
   "execution_count": 346,
   "metadata": {},
   "outputs": [
    {
     "data": {
      "text/html": [
       "<div>\n",
       "<style scoped>\n",
       "    .dataframe tbody tr th:only-of-type {\n",
       "        vertical-align: middle;\n",
       "    }\n",
       "\n",
       "    .dataframe tbody tr th {\n",
       "        vertical-align: top;\n",
       "    }\n",
       "\n",
       "    .dataframe thead th {\n",
       "        text-align: right;\n",
       "    }\n",
       "</style>\n",
       "<table border=\"1\" class=\"dataframe\">\n",
       "  <thead>\n",
       "    <tr style=\"text-align: right;\">\n",
       "      <th></th>\n",
       "      <th>account_num</th>\n",
       "      <th>comic_id</th>\n",
       "    </tr>\n",
       "  </thead>\n",
       "  <tbody>\n",
       "    <tr>\n",
       "      <th>112</th>\n",
       "      <td>00120</td>\n",
       "      <td>3</td>\n",
       "    </tr>\n",
       "    <tr>\n",
       "      <th>179</th>\n",
       "      <td>00195</td>\n",
       "      <td>3</td>\n",
       "    </tr>\n",
       "    <tr>\n",
       "      <th>191</th>\n",
       "      <td>00209</td>\n",
       "      <td>3</td>\n",
       "    </tr>\n",
       "    <tr>\n",
       "      <th>210</th>\n",
       "      <td>00229</td>\n",
       "      <td>3</td>\n",
       "    </tr>\n",
       "    <tr>\n",
       "      <th>227</th>\n",
       "      <td>00248</td>\n",
       "      <td>3</td>\n",
       "    </tr>\n",
       "    <tr>\n",
       "      <th>297</th>\n",
       "      <td>00335</td>\n",
       "      <td>3</td>\n",
       "    </tr>\n",
       "    <tr>\n",
       "      <th>314</th>\n",
       "      <td>00357</td>\n",
       "      <td>3</td>\n",
       "    </tr>\n",
       "    <tr>\n",
       "      <th>316</th>\n",
       "      <td>00359</td>\n",
       "      <td>3</td>\n",
       "    </tr>\n",
       "    <tr>\n",
       "      <th>336</th>\n",
       "      <td>00405</td>\n",
       "      <td>3</td>\n",
       "    </tr>\n",
       "    <tr>\n",
       "      <th>337</th>\n",
       "      <td>00406</td>\n",
       "      <td>3</td>\n",
       "    </tr>\n",
       "    <tr>\n",
       "      <th>346</th>\n",
       "      <td>00418</td>\n",
       "      <td>3</td>\n",
       "    </tr>\n",
       "    <tr>\n",
       "      <th>350</th>\n",
       "      <td>00425</td>\n",
       "      <td>3</td>\n",
       "    </tr>\n",
       "    <tr>\n",
       "      <th>355</th>\n",
       "      <td>00433</td>\n",
       "      <td>3</td>\n",
       "    </tr>\n",
       "    <tr>\n",
       "      <th>361</th>\n",
       "      <td>00448</td>\n",
       "      <td>3</td>\n",
       "    </tr>\n",
       "    <tr>\n",
       "      <th>404</th>\n",
       "      <td>00534</td>\n",
       "      <td>3</td>\n",
       "    </tr>\n",
       "    <tr>\n",
       "      <th>410</th>\n",
       "      <td>00547</td>\n",
       "      <td>3</td>\n",
       "    </tr>\n",
       "    <tr>\n",
       "      <th>425</th>\n",
       "      <td>00573</td>\n",
       "      <td>3</td>\n",
       "    </tr>\n",
       "    <tr>\n",
       "      <th>481</th>\n",
       "      <td>00652</td>\n",
       "      <td>3</td>\n",
       "    </tr>\n",
       "    <tr>\n",
       "      <th>497</th>\n",
       "      <td>00679</td>\n",
       "      <td>3</td>\n",
       "    </tr>\n",
       "    <tr>\n",
       "      <th>499</th>\n",
       "      <td>00681</td>\n",
       "      <td>3</td>\n",
       "    </tr>\n",
       "    <tr>\n",
       "      <th>524</th>\n",
       "      <td>00724</td>\n",
       "      <td>3</td>\n",
       "    </tr>\n",
       "    <tr>\n",
       "      <th>532</th>\n",
       "      <td>00738</td>\n",
       "      <td>3</td>\n",
       "    </tr>\n",
       "    <tr>\n",
       "      <th>572</th>\n",
       "      <td>00797</td>\n",
       "      <td>3</td>\n",
       "    </tr>\n",
       "    <tr>\n",
       "      <th>577</th>\n",
       "      <td>00809</td>\n",
       "      <td>3</td>\n",
       "    </tr>\n",
       "    <tr>\n",
       "      <th>661</th>\n",
       "      <td>00942</td>\n",
       "      <td>3</td>\n",
       "    </tr>\n",
       "    <tr>\n",
       "      <th>666</th>\n",
       "      <td>00949</td>\n",
       "      <td>3</td>\n",
       "    </tr>\n",
       "    <tr>\n",
       "      <th>678</th>\n",
       "      <td>00969</td>\n",
       "      <td>3</td>\n",
       "    </tr>\n",
       "    <tr>\n",
       "      <th>682</th>\n",
       "      <td>00976</td>\n",
       "      <td>3</td>\n",
       "    </tr>\n",
       "    <tr>\n",
       "      <th>685</th>\n",
       "      <td>00980</td>\n",
       "      <td>3</td>\n",
       "    </tr>\n",
       "    <tr>\n",
       "      <th>710</th>\n",
       "      <td>01023</td>\n",
       "      <td>3</td>\n",
       "    </tr>\n",
       "    <tr>\n",
       "      <th>...</th>\n",
       "      <td>...</td>\n",
       "      <td>...</td>\n",
       "    </tr>\n",
       "    <tr>\n",
       "      <th>1434</th>\n",
       "      <td>02402</td>\n",
       "      <td>3</td>\n",
       "    </tr>\n",
       "    <tr>\n",
       "      <th>1439</th>\n",
       "      <td>02411</td>\n",
       "      <td>3</td>\n",
       "    </tr>\n",
       "    <tr>\n",
       "      <th>1459</th>\n",
       "      <td>02465</td>\n",
       "      <td>3</td>\n",
       "    </tr>\n",
       "    <tr>\n",
       "      <th>1474</th>\n",
       "      <td>02491</td>\n",
       "      <td>3</td>\n",
       "    </tr>\n",
       "    <tr>\n",
       "      <th>1477</th>\n",
       "      <td>02496</td>\n",
       "      <td>3</td>\n",
       "    </tr>\n",
       "    <tr>\n",
       "      <th>1487</th>\n",
       "      <td>02526</td>\n",
       "      <td>3</td>\n",
       "    </tr>\n",
       "    <tr>\n",
       "      <th>1490</th>\n",
       "      <td>02535</td>\n",
       "      <td>3</td>\n",
       "    </tr>\n",
       "    <tr>\n",
       "      <th>1491</th>\n",
       "      <td>02536</td>\n",
       "      <td>3</td>\n",
       "    </tr>\n",
       "    <tr>\n",
       "      <th>1495</th>\n",
       "      <td>02552</td>\n",
       "      <td>3</td>\n",
       "    </tr>\n",
       "    <tr>\n",
       "      <th>1505</th>\n",
       "      <td>02569</td>\n",
       "      <td>3</td>\n",
       "    </tr>\n",
       "    <tr>\n",
       "      <th>1506</th>\n",
       "      <td>02570</td>\n",
       "      <td>3</td>\n",
       "    </tr>\n",
       "    <tr>\n",
       "      <th>1507</th>\n",
       "      <td>02571</td>\n",
       "      <td>3</td>\n",
       "    </tr>\n",
       "    <tr>\n",
       "      <th>1519</th>\n",
       "      <td>02611</td>\n",
       "      <td>3</td>\n",
       "    </tr>\n",
       "    <tr>\n",
       "      <th>1526</th>\n",
       "      <td>02625</td>\n",
       "      <td>3</td>\n",
       "    </tr>\n",
       "    <tr>\n",
       "      <th>1531</th>\n",
       "      <td>02633</td>\n",
       "      <td>3</td>\n",
       "    </tr>\n",
       "    <tr>\n",
       "      <th>1536</th>\n",
       "      <td>02651</td>\n",
       "      <td>3</td>\n",
       "    </tr>\n",
       "    <tr>\n",
       "      <th>1551</th>\n",
       "      <td>02685</td>\n",
       "      <td>3</td>\n",
       "    </tr>\n",
       "    <tr>\n",
       "      <th>1561</th>\n",
       "      <td>02703</td>\n",
       "      <td>3</td>\n",
       "    </tr>\n",
       "    <tr>\n",
       "      <th>1567</th>\n",
       "      <td>02718</td>\n",
       "      <td>3</td>\n",
       "    </tr>\n",
       "    <tr>\n",
       "      <th>1600</th>\n",
       "      <td>02789</td>\n",
       "      <td>3</td>\n",
       "    </tr>\n",
       "    <tr>\n",
       "      <th>1641</th>\n",
       "      <td>02878</td>\n",
       "      <td>3</td>\n",
       "    </tr>\n",
       "    <tr>\n",
       "      <th>1642</th>\n",
       "      <td>02884</td>\n",
       "      <td>3</td>\n",
       "    </tr>\n",
       "    <tr>\n",
       "      <th>1646</th>\n",
       "      <td>02893</td>\n",
       "      <td>3</td>\n",
       "    </tr>\n",
       "    <tr>\n",
       "      <th>1649</th>\n",
       "      <td>02902</td>\n",
       "      <td>3</td>\n",
       "    </tr>\n",
       "    <tr>\n",
       "      <th>1658</th>\n",
       "      <td>02937</td>\n",
       "      <td>3</td>\n",
       "    </tr>\n",
       "    <tr>\n",
       "      <th>1666</th>\n",
       "      <td>02961</td>\n",
       "      <td>3</td>\n",
       "    </tr>\n",
       "    <tr>\n",
       "      <th>1677</th>\n",
       "      <td>02988</td>\n",
       "      <td>3</td>\n",
       "    </tr>\n",
       "    <tr>\n",
       "      <th>1681</th>\n",
       "      <td>03000</td>\n",
       "      <td>3</td>\n",
       "    </tr>\n",
       "    <tr>\n",
       "      <th>1710</th>\n",
       "      <td>03081</td>\n",
       "      <td>3</td>\n",
       "    </tr>\n",
       "    <tr>\n",
       "      <th>1712</th>\n",
       "      <td>03107</td>\n",
       "      <td>3</td>\n",
       "    </tr>\n",
       "  </tbody>\n",
       "</table>\n",
       "<p>108 rows × 2 columns</p>\n",
       "</div>"
      ],
      "text/plain": [
       "     account_num  comic_id\n",
       "112        00120         3\n",
       "179        00195         3\n",
       "191        00209         3\n",
       "210        00229         3\n",
       "227        00248         3\n",
       "297        00335         3\n",
       "314        00357         3\n",
       "316        00359         3\n",
       "336        00405         3\n",
       "337        00406         3\n",
       "346        00418         3\n",
       "350        00425         3\n",
       "355        00433         3\n",
       "361        00448         3\n",
       "404        00534         3\n",
       "410        00547         3\n",
       "425        00573         3\n",
       "481        00652         3\n",
       "497        00679         3\n",
       "499        00681         3\n",
       "524        00724         3\n",
       "532        00738         3\n",
       "572        00797         3\n",
       "577        00809         3\n",
       "661        00942         3\n",
       "666        00949         3\n",
       "678        00969         3\n",
       "682        00976         3\n",
       "685        00980         3\n",
       "710        01023         3\n",
       "...          ...       ...\n",
       "1434       02402         3\n",
       "1439       02411         3\n",
       "1459       02465         3\n",
       "1474       02491         3\n",
       "1477       02496         3\n",
       "1487       02526         3\n",
       "1490       02535         3\n",
       "1491       02536         3\n",
       "1495       02552         3\n",
       "1505       02569         3\n",
       "1506       02570         3\n",
       "1507       02571         3\n",
       "1519       02611         3\n",
       "1526       02625         3\n",
       "1531       02633         3\n",
       "1536       02651         3\n",
       "1551       02685         3\n",
       "1561       02703         3\n",
       "1567       02718         3\n",
       "1600       02789         3\n",
       "1641       02878         3\n",
       "1642       02884         3\n",
       "1646       02893         3\n",
       "1649       02902         3\n",
       "1658       02937         3\n",
       "1666       02961         3\n",
       "1677       02988         3\n",
       "1681       03000         3\n",
       "1710       03081         3\n",
       "1712       03107         3\n",
       "\n",
       "[108 rows x 2 columns]"
      ]
     },
     "execution_count": 346,
     "metadata": {},
     "output_type": "execute_result"
    }
   ],
   "source": [
    "z.loc[z.comic_id==3]"
   ]
  },
  {
   "cell_type": "markdown",
   "metadata": {},
   "source": [
    "Let's pick on account `00120` "
   ]
  },
  {
   "cell_type": "code",
   "execution_count": 347,
   "metadata": {},
   "outputs": [
    {
     "data": {
      "text/html": [
       "<div>\n",
       "<style scoped>\n",
       "    .dataframe tbody tr th:only-of-type {\n",
       "        vertical-align: middle;\n",
       "    }\n",
       "\n",
       "    .dataframe tbody tr th {\n",
       "        vertical-align: top;\n",
       "    }\n",
       "\n",
       "    .dataframe thead th {\n",
       "        text-align: right;\n",
       "    }\n",
       "</style>\n",
       "<table border=\"1\" class=\"dataframe\">\n",
       "  <thead>\n",
       "    <tr style=\"text-align: right;\">\n",
       "      <th></th>\n",
       "      <th>account_num</th>\n",
       "      <th>comic_title</th>\n",
       "      <th>comic_id</th>\n",
       "    </tr>\n",
       "  </thead>\n",
       "  <tbody>\n",
       "    <tr>\n",
       "      <th>12642</th>\n",
       "      <td>00120</td>\n",
       "      <td>Citizen Rex (Dark Horse)</td>\n",
       "      <td>1241</td>\n",
       "    </tr>\n",
       "    <tr>\n",
       "      <th>12643</th>\n",
       "      <td>00120</td>\n",
       "      <td>Donald Duck and Friends SC VO (Boom)</td>\n",
       "      <td>1952</td>\n",
       "    </tr>\n",
       "    <tr>\n",
       "      <th>12644</th>\n",
       "      <td>00120</td>\n",
       "      <td>Powers (Marvel)</td>\n",
       "      <td>4828</td>\n",
       "    </tr>\n",
       "  </tbody>\n",
       "</table>\n",
       "</div>"
      ],
      "text/plain": [
       "      account_num                           comic_title  comic_id\n",
       "12642       00120              Citizen Rex (Dark Horse)      1241\n",
       "12643       00120  Donald Duck and Friends SC VO (Boom)      1952\n",
       "12644       00120                       Powers (Marvel)      4828"
      ]
     },
     "execution_count": 347,
     "metadata": {},
     "output_type": "execute_result"
    }
   ],
   "source": [
    "temp_df.loc[temp_df['account_num']=='00120']"
   ]
  },
  {
   "cell_type": "code",
   "execution_count": 348,
   "metadata": {},
   "outputs": [
    {
     "data": {
      "text/plain": [
       "(1,)"
      ]
     },
     "execution_count": 348,
     "metadata": {},
     "output_type": "execute_result"
    }
   ],
   "source": [
    "powers = np.array(item_factors.loc[item_factors['item_id']==4828,'features'])\n",
    "powers.shape"
   ]
  },
  {
   "cell_type": "code",
   "execution_count": 387,
   "metadata": {},
   "outputs": [
    {
     "data": {
      "text/plain": [
       "[0.06849418580532074,\n",
       " 0.0012715712655335665,\n",
       " -0.26954200863838196,\n",
       " -0.22823674976825714,\n",
       " 0.532203733921051]"
      ]
     },
     "execution_count": 387,
     "metadata": {},
     "output_type": "execute_result"
    }
   ],
   "source": [
    "powers[0]"
   ]
  },
  {
   "cell_type": "code",
   "execution_count": 388,
   "metadata": {},
   "outputs": [],
   "source": [
    "score = np.dot(fake_user_matrix,powers[0])"
   ]
  },
  {
   "cell_type": "code",
   "execution_count": 389,
   "metadata": {},
   "outputs": [
    {
     "data": {
      "text/plain": [
       "0.09675037650860804"
      ]
     },
     "execution_count": 389,
     "metadata": {},
     "output_type": "execute_result"
    }
   ],
   "source": [
    "score"
   ]
  },
  {
   "cell_type": "markdown",
   "metadata": {},
   "source": [
    "--- wm ---"
   ]
  },
  {
   "cell_type": "code",
   "execution_count": 390,
   "metadata": {},
   "outputs": [],
   "source": [
    "sc = np.dot(u,powers[0])"
   ]
  },
  {
   "cell_type": "code",
   "execution_count": 391,
   "metadata": {},
   "outputs": [
    {
     "data": {
      "text/plain": [
       "0.09675037650860804"
      ]
     },
     "execution_count": 391,
     "metadata": {},
     "output_type": "execute_result"
    }
   ],
   "source": [
    "sc"
   ]
  },
  {
   "cell_type": "markdown",
   "metadata": {},
   "source": [
    "--- wm ---"
   ]
  },
  {
   "cell_type": "markdown",
   "metadata": {},
   "source": [
    "### Test New Preds"
   ]
  },
  {
   "cell_type": "code",
   "execution_count": 90,
   "metadata": {},
   "outputs": [],
   "source": [
    "item_factors['new_user_pred'] = item_factors['features'].apply(lambda x :np.dot(x, fake_user_matrix))"
   ]
  },
  {
   "cell_type": "code",
   "execution_count": 96,
   "metadata": {},
   "outputs": [],
   "source": [
    "top_5 = item_factors.sort_values(by=['new_user_pred'], ascending=False).head(5)"
   ]
  },
  {
   "cell_type": "code",
   "execution_count": 97,
   "metadata": {},
   "outputs": [
    {
     "data": {
      "text/html": [
       "<div>\n",
       "<style scoped>\n",
       "    .dataframe tbody tr th:only-of-type {\n",
       "        vertical-align: middle;\n",
       "    }\n",
       "\n",
       "    .dataframe tbody tr th {\n",
       "        vertical-align: top;\n",
       "    }\n",
       "\n",
       "    .dataframe thead th {\n",
       "        text-align: right;\n",
       "    }\n",
       "</style>\n",
       "<table border=\"1\" class=\"dataframe\">\n",
       "  <thead>\n",
       "    <tr style=\"text-align: right;\">\n",
       "      <th></th>\n",
       "      <th>item_id</th>\n",
       "      <th>features</th>\n",
       "      <th>new_user_pred</th>\n",
       "    </tr>\n",
       "  </thead>\n",
       "  <tbody>\n",
       "    <tr>\n",
       "      <th>4327</th>\n",
       "      <td>5196</td>\n",
       "      <td>[-0.052176252007484436, -0.18112696707248688, ...</td>\n",
       "      <td>5.543218</td>\n",
       "    </tr>\n",
       "    <tr>\n",
       "      <th>1064</th>\n",
       "      <td>4701</td>\n",
       "      <td>[-0.02034643664956093, -0.4128129482269287, -0...</td>\n",
       "      <td>5.255344</td>\n",
       "    </tr>\n",
       "    <tr>\n",
       "      <th>1234</th>\n",
       "      <td>6681</td>\n",
       "      <td>[-0.19204556941986084, -0.5186308026313782, -0...</td>\n",
       "      <td>5.221921</td>\n",
       "    </tr>\n",
       "    <tr>\n",
       "      <th>1044</th>\n",
       "      <td>4441</td>\n",
       "      <td>[0.1053212359547615, -0.45340803265571594, -0....</td>\n",
       "      <td>5.038157</td>\n",
       "    </tr>\n",
       "    <tr>\n",
       "      <th>1799</th>\n",
       "      <td>5882</td>\n",
       "      <td>[-0.2683447599411011, -0.4314334988594055, -0....</td>\n",
       "      <td>5.003135</td>\n",
       "    </tr>\n",
       "  </tbody>\n",
       "</table>\n",
       "</div>"
      ],
      "text/plain": [
       "      item_id                                           features  \\\n",
       "4327     5196  [-0.052176252007484436, -0.18112696707248688, ...   \n",
       "1064     4701  [-0.02034643664956093, -0.4128129482269287, -0...   \n",
       "1234     6681  [-0.19204556941986084, -0.5186308026313782, -0...   \n",
       "1044     4441  [0.1053212359547615, -0.45340803265571594, -0....   \n",
       "1799     5882  [-0.2683447599411011, -0.4314334988594055, -0....   \n",
       "\n",
       "      new_user_pred  \n",
       "4327       5.543218  \n",
       "1064       5.255344  \n",
       "1234       5.221921  \n",
       "1044       5.038157  \n",
       "1799       5.003135  "
      ]
     },
     "execution_count": 97,
     "metadata": {},
     "output_type": "execute_result"
    }
   ],
   "source": [
    "top_5"
   ]
  },
  {
   "cell_type": "code",
   "execution_count": 98,
   "metadata": {},
   "outputs": [],
   "source": [
    "top_5_list = top_5.item_id.tolist()"
   ]
  },
  {
   "cell_type": "code",
   "execution_count": 100,
   "metadata": {},
   "outputs": [],
   "source": [
    "flag = temp_df['comic_id'].isin(top_5_list)"
   ]
  },
  {
   "cell_type": "code",
   "execution_count": 103,
   "metadata": {
    "scrolled": true
   },
   "outputs": [
    {
     "data": {
      "text/html": [
       "<div>\n",
       "<style scoped>\n",
       "    .dataframe tbody tr th:only-of-type {\n",
       "        vertical-align: middle;\n",
       "    }\n",
       "\n",
       "    .dataframe tbody tr th {\n",
       "        vertical-align: top;\n",
       "    }\n",
       "\n",
       "    .dataframe thead th {\n",
       "        text-align: right;\n",
       "    }\n",
       "</style>\n",
       "<table border=\"1\" class=\"dataframe\">\n",
       "  <thead>\n",
       "    <tr style=\"text-align: right;\">\n",
       "      <th></th>\n",
       "      <th></th>\n",
       "      <th>account_num</th>\n",
       "    </tr>\n",
       "    <tr>\n",
       "      <th>comic_title</th>\n",
       "      <th>comic_id</th>\n",
       "      <th></th>\n",
       "    </tr>\n",
       "  </thead>\n",
       "  <tbody>\n",
       "    <tr>\n",
       "      <th>Neil Gaiman American Gods Sha (Dark Horse)</th>\n",
       "      <th>4441</th>\n",
       "      <td>72</td>\n",
       "    </tr>\n",
       "    <tr>\n",
       "      <th>Paper Girls (Image)</th>\n",
       "      <th>4701</th>\n",
       "      <td>119</td>\n",
       "    </tr>\n",
       "    <tr>\n",
       "      <th>Saga (Image)</th>\n",
       "      <th>5196</th>\n",
       "      <td>287</td>\n",
       "    </tr>\n",
       "    <tr>\n",
       "      <th>Star Wars (Marvel)</th>\n",
       "      <th>5882</th>\n",
       "      <td>169</td>\n",
       "    </tr>\n",
       "    <tr>\n",
       "      <th>Unbeatable Squirrel Girl (Marvel)</th>\n",
       "      <th>6681</th>\n",
       "      <td>90</td>\n",
       "    </tr>\n",
       "  </tbody>\n",
       "</table>\n",
       "</div>"
      ],
      "text/plain": [
       "                                                     account_num\n",
       "comic_title                                comic_id             \n",
       "Neil Gaiman American Gods Sha (Dark Horse) 4441               72\n",
       "Paper Girls (Image)                        4701              119\n",
       "Saga (Image)                               5196              287\n",
       "Star Wars (Marvel)                         5882              169\n",
       "Unbeatable Squirrel Girl (Marvel)          6681               90"
      ]
     },
     "execution_count": 103,
     "metadata": {},
     "output_type": "execute_result"
    }
   ],
   "source": [
    "temp_df[flag].groupby(by=['comic_title','comic_id']).count()"
   ]
  },
  {
   "cell_type": "markdown",
   "metadata": {},
   "source": [
    "Smells ok. \n",
    "##### Thanks John!"
   ]
  },
  {
   "cell_type": "markdown",
   "metadata": {},
   "source": [
    "> --- wm --- start"
   ]
  },
  {
   "cell_type": "code",
   "execution_count": 411,
   "metadata": {},
   "outputs": [],
   "source": [
    "def create_user_util_matrix(comics_matrix, user_rating_matrix):\n",
    "    \n",
    "    util_mtx = np.linalg.lstsq(comics_matrix, user_rating_matrix, rcond=None)\n",
    "\n",
    "    # We just want the factors\n",
    "    util_mtx = util_mtx[0].reshape((5,))\n",
    "\n",
    "    return util_mtx"
   ]
  },
  {
   "cell_type": "code",
   "execution_count": 393,
   "metadata": {},
   "outputs": [
    {
     "data": {
      "text/html": [
       "<div>\n",
       "<style scoped>\n",
       "    .dataframe tbody tr th:only-of-type {\n",
       "        vertical-align: middle;\n",
       "    }\n",
       "\n",
       "    .dataframe tbody tr th {\n",
       "        vertical-align: top;\n",
       "    }\n",
       "\n",
       "    .dataframe thead th {\n",
       "        text-align: right;\n",
       "    }\n",
       "</style>\n",
       "<table border=\"1\" class=\"dataframe\">\n",
       "  <thead>\n",
       "    <tr style=\"text-align: right;\">\n",
       "      <th></th>\n",
       "      <th>features</th>\n",
       "      <th>comic_title</th>\n",
       "      <th>img_url</th>\n",
       "    </tr>\n",
       "    <tr>\n",
       "      <th>comic_id</th>\n",
       "      <th></th>\n",
       "      <th></th>\n",
       "      <th></th>\n",
       "    </tr>\n",
       "  </thead>\n",
       "  <tbody>\n",
       "    <tr>\n",
       "      <th>10</th>\n",
       "      <td>[-0.7526867389678955, -0.21263617277145386, -1...</td>\n",
       "      <td>13th Artifact One Sho (Topcow)</td>\n",
       "      <td>https://comrx.s3-us-west-2.amazonaws.com/cover...</td>\n",
       "    </tr>\n",
       "    <tr>\n",
       "      <th>20</th>\n",
       "      <td>[-0.3515812158584595, 0.4757572114467621, -1.2...</td>\n",
       "      <td>1 For $1 Conan the Barbarian (Dark Horse)</td>\n",
       "      <td>https://comrx.s3-us-west-2.amazonaws.com/cover...</td>\n",
       "    </tr>\n",
       "    <tr>\n",
       "      <th>30</th>\n",
       "      <td>[0.1806577742099762, -0.48153993487358093, -0....</td>\n",
       "      <td>21st Century Tank Girl (Other)</td>\n",
       "      <td>https://comrx.s3-us-west-2.amazonaws.com/cover...</td>\n",
       "    </tr>\n",
       "  </tbody>\n",
       "</table>\n",
       "</div>"
      ],
      "text/plain": [
       "                                                   features  \\\n",
       "comic_id                                                      \n",
       "10        [-0.7526867389678955, -0.21263617277145386, -1...   \n",
       "20        [-0.3515812158584595, 0.4757572114467621, -1.2...   \n",
       "30        [0.1806577742099762, -0.48153993487358093, -0....   \n",
       "\n",
       "                                        comic_title  \\\n",
       "comic_id                                              \n",
       "10                   13th Artifact One Sho (Topcow)   \n",
       "20        1 For $1 Conan the Barbarian (Dark Horse)   \n",
       "30                   21st Century Tank Girl (Other)   \n",
       "\n",
       "                                                    img_url  \n",
       "comic_id                                                     \n",
       "10        https://comrx.s3-us-west-2.amazonaws.com/cover...  \n",
       "20        https://comrx.s3-us-west-2.amazonaws.com/cover...  \n",
       "30        https://comrx.s3-us-west-2.amazonaws.com/cover...  "
      ]
     },
     "execution_count": 393,
     "metadata": {},
     "output_type": "execute_result"
    }
   ],
   "source": [
    "comics_factors.head(3)"
   ]
  },
  {
   "cell_type": "code",
   "execution_count": 394,
   "metadata": {},
   "outputs": [],
   "source": [
    "comics_factors['this_user_pred'] = comics_factors['features'].apply(lambda x: np.dot(x, u))"
   ]
  },
  {
   "cell_type": "code",
   "execution_count": 397,
   "metadata": {},
   "outputs": [],
   "source": [
    "t5 = comics_factors.sort_values(by=['this_user_pred'], ascending=False).head(5)"
   ]
  },
  {
   "cell_type": "code",
   "execution_count": 398,
   "metadata": {},
   "outputs": [
    {
     "data": {
      "text/html": [
       "<div>\n",
       "<style scoped>\n",
       "    .dataframe tbody tr th:only-of-type {\n",
       "        vertical-align: middle;\n",
       "    }\n",
       "\n",
       "    .dataframe tbody tr th {\n",
       "        vertical-align: top;\n",
       "    }\n",
       "\n",
       "    .dataframe thead th {\n",
       "        text-align: right;\n",
       "    }\n",
       "</style>\n",
       "<table border=\"1\" class=\"dataframe\">\n",
       "  <thead>\n",
       "    <tr style=\"text-align: right;\">\n",
       "      <th></th>\n",
       "      <th>features</th>\n",
       "      <th>comic_title</th>\n",
       "      <th>img_url</th>\n",
       "      <th>this_user_pred</th>\n",
       "    </tr>\n",
       "    <tr>\n",
       "      <th>comic_id</th>\n",
       "      <th></th>\n",
       "      <th></th>\n",
       "      <th></th>\n",
       "      <th></th>\n",
       "    </tr>\n",
       "  </thead>\n",
       "  <tbody>\n",
       "    <tr>\n",
       "      <th>1214</th>\n",
       "      <td>[0.33106639981269836, 0.16478432714939117, -0....</td>\n",
       "      <td>Chew (Image)</td>\n",
       "      <td>https://comrx.s3-us-west-2.amazonaws.com/cover...</td>\n",
       "      <td>1.178824</td>\n",
       "    </tr>\n",
       "    <tr>\n",
       "      <th>5196</th>\n",
       "      <td>[0.34831228852272034, 0.11370803415775299, -0....</td>\n",
       "      <td>Saga (Image)</td>\n",
       "      <td>https://comrx.s3-us-west-2.amazonaws.com/cover...</td>\n",
       "      <td>1.163962</td>\n",
       "    </tr>\n",
       "    <tr>\n",
       "      <th>552</th>\n",
       "      <td>[0.3538980484008789, 0.16178269684314728, -0.8...</td>\n",
       "      <td>Batgirl (DC)</td>\n",
       "      <td>https://comrx.s3-us-west-2.amazonaws.com/cover...</td>\n",
       "      <td>1.131813</td>\n",
       "    </tr>\n",
       "    <tr>\n",
       "      <th>610</th>\n",
       "      <td>[0.35470110177993774, 0.15020547807216644, -0....</td>\n",
       "      <td>Batman (DC)</td>\n",
       "      <td>https://comrx.s3-us-west-2.amazonaws.com/cover...</td>\n",
       "      <td>1.130366</td>\n",
       "    </tr>\n",
       "    <tr>\n",
       "      <th>2041</th>\n",
       "      <td>[0.325575053691864, 0.12070709466934204, -0.81...</td>\n",
       "      <td>East of West (Image)</td>\n",
       "      <td>https://comrx.s3-us-west-2.amazonaws.com/cover...</td>\n",
       "      <td>1.125175</td>\n",
       "    </tr>\n",
       "  </tbody>\n",
       "</table>\n",
       "</div>"
      ],
      "text/plain": [
       "                                                   features  \\\n",
       "comic_id                                                      \n",
       "1214      [0.33106639981269836, 0.16478432714939117, -0....   \n",
       "5196      [0.34831228852272034, 0.11370803415775299, -0....   \n",
       "552       [0.3538980484008789, 0.16178269684314728, -0.8...   \n",
       "610       [0.35470110177993774, 0.15020547807216644, -0....   \n",
       "2041      [0.325575053691864, 0.12070709466934204, -0.81...   \n",
       "\n",
       "                   comic_title  \\\n",
       "comic_id                         \n",
       "1214              Chew (Image)   \n",
       "5196              Saga (Image)   \n",
       "552               Batgirl (DC)   \n",
       "610                Batman (DC)   \n",
       "2041      East of West (Image)   \n",
       "\n",
       "                                                    img_url  this_user_pred  \n",
       "comic_id                                                                     \n",
       "1214      https://comrx.s3-us-west-2.amazonaws.com/cover...        1.178824  \n",
       "5196      https://comrx.s3-us-west-2.amazonaws.com/cover...        1.163962  \n",
       "552       https://comrx.s3-us-west-2.amazonaws.com/cover...        1.131813  \n",
       "610       https://comrx.s3-us-west-2.amazonaws.com/cover...        1.130366  \n",
       "2041      https://comrx.s3-us-west-2.amazonaws.com/cover...        1.125175  "
      ]
     },
     "execution_count": 398,
     "metadata": {},
     "output_type": "execute_result"
    }
   ],
   "source": [
    "t5"
   ]
  },
  {
   "cell_type": "markdown",
   "metadata": {},
   "source": [
    "> --- wm --- end"
   ]
  },
  {
   "cell_type": "markdown",
   "metadata": {},
   "source": [
    "### Put it all together!"
   ]
  },
  {
   "cell_type": "code",
   "execution_count": 433,
   "metadata": {},
   "outputs": [],
   "source": [
    "def make_n_comic_recommendations(comics, comic_factors, top_n):\n",
    "    # Create item matrix\n",
    "    comic_matrix = create_user_item_matrix(comics_ids=comics,\n",
    "                                           comic_factors=comic_factors\n",
    "                                          )\n",
    "    \n",
    "    # Create user matrix\n",
    "    user_matrix = create_user_impl_rate_matrix(comic_ids=comics)\n",
    "    \n",
    "    # Create utility matrix\n",
    "    utility_matrix = create_user_util_matrix(comic_matrix, user_matrix)\n",
    "    \n",
    "    # Update comic_factors dataframe for this user\n",
    "    cf = comic_factors.copy()\n",
    "    u = utility_matrix\n",
    "    cf['pred'] = cf['features'].apply(lambda x: np.dot(x, u))\n",
    "\n",
    "    top_n_df = cf.sort_values(by=['pred'], ascending=False).head(top_n)\n",
    "    \n",
    "    return top_n_df"
   ]
  },
  {
   "cell_type": "code",
   "execution_count": 441,
   "metadata": {},
   "outputs": [],
   "source": [
    "new_comics = [20,144]"
   ]
  },
  {
   "cell_type": "code",
   "execution_count": 442,
   "metadata": {},
   "outputs": [],
   "source": [
    "deef = make_n_comic_recommendations(new_comics, comics_factors, 10)"
   ]
  },
  {
   "cell_type": "code",
   "execution_count": 443,
   "metadata": {},
   "outputs": [
    {
     "data": {
      "text/html": [
       "<div>\n",
       "<style scoped>\n",
       "    .dataframe tbody tr th:only-of-type {\n",
       "        vertical-align: middle;\n",
       "    }\n",
       "\n",
       "    .dataframe tbody tr th {\n",
       "        vertical-align: top;\n",
       "    }\n",
       "\n",
       "    .dataframe thead th {\n",
       "        text-align: right;\n",
       "    }\n",
       "</style>\n",
       "<table border=\"1\" class=\"dataframe\">\n",
       "  <thead>\n",
       "    <tr style=\"text-align: right;\">\n",
       "      <th></th>\n",
       "      <th>features</th>\n",
       "      <th>comic_title</th>\n",
       "      <th>img_url</th>\n",
       "      <th>pred</th>\n",
       "    </tr>\n",
       "    <tr>\n",
       "      <th>comic_id</th>\n",
       "      <th></th>\n",
       "      <th></th>\n",
       "      <th></th>\n",
       "      <th></th>\n",
       "    </tr>\n",
       "  </thead>\n",
       "  <tbody>\n",
       "    <tr>\n",
       "      <th>1214</th>\n",
       "      <td>[0.33106639981269836, 0.16478432714939117, -0....</td>\n",
       "      <td>Chew (Image)</td>\n",
       "      <td>https://comrx.s3-us-west-2.amazonaws.com/cover...</td>\n",
       "      <td>1.178824</td>\n",
       "    </tr>\n",
       "    <tr>\n",
       "      <th>5196</th>\n",
       "      <td>[0.34831228852272034, 0.11370803415775299, -0....</td>\n",
       "      <td>Saga (Image)</td>\n",
       "      <td>https://comrx.s3-us-west-2.amazonaws.com/cover...</td>\n",
       "      <td>1.163962</td>\n",
       "    </tr>\n",
       "    <tr>\n",
       "      <th>552</th>\n",
       "      <td>[0.3538980484008789, 0.16178269684314728, -0.8...</td>\n",
       "      <td>Batgirl (DC)</td>\n",
       "      <td>https://comrx.s3-us-west-2.amazonaws.com/cover...</td>\n",
       "      <td>1.131813</td>\n",
       "    </tr>\n",
       "    <tr>\n",
       "      <th>610</th>\n",
       "      <td>[0.35470110177993774, 0.15020547807216644, -0....</td>\n",
       "      <td>Batman (DC)</td>\n",
       "      <td>https://comrx.s3-us-west-2.amazonaws.com/cover...</td>\n",
       "      <td>1.130366</td>\n",
       "    </tr>\n",
       "    <tr>\n",
       "      <th>2041</th>\n",
       "      <td>[0.325575053691864, 0.12070709466934204, -0.81...</td>\n",
       "      <td>East of West (Image)</td>\n",
       "      <td>https://comrx.s3-us-west-2.amazonaws.com/cover...</td>\n",
       "      <td>1.125175</td>\n",
       "    </tr>\n",
       "    <tr>\n",
       "      <th>5882</th>\n",
       "      <td>[0.3295718729496002, 0.028912074863910675, -0....</td>\n",
       "      <td>Star Wars (Marvel)</td>\n",
       "      <td>https://comrx.s3-us-west-2.amazonaws.com/cover...</td>\n",
       "      <td>1.117087</td>\n",
       "    </tr>\n",
       "    <tr>\n",
       "      <th>6824</th>\n",
       "      <td>[0.3278036415576935, 0.19572147727012634, -0.8...</td>\n",
       "      <td>Walking Dead (Image)</td>\n",
       "      <td>https://comrx.s3-us-west-2.amazonaws.com/cover...</td>\n",
       "      <td>1.117041</td>\n",
       "    </tr>\n",
       "    <tr>\n",
       "      <th>1709</th>\n",
       "      <td>[0.3662220537662506, 0.11855562776327133, -0.8...</td>\n",
       "      <td>Deadpool (Marvel)</td>\n",
       "      <td>https://comrx.s3-us-west-2.amazonaws.com/cover...</td>\n",
       "      <td>1.116029</td>\n",
       "    </tr>\n",
       "    <tr>\n",
       "      <th>4248</th>\n",
       "      <td>[0.3722243309020996, 0.07827568054199219, -0.8...</td>\n",
       "      <td>Mighty Thor (Marvel)</td>\n",
       "      <td>https://comrx.s3-us-west-2.amazonaws.com/cover...</td>\n",
       "      <td>1.112784</td>\n",
       "    </tr>\n",
       "    <tr>\n",
       "      <th>1807</th>\n",
       "      <td>[0.3776921331882477, 0.16676929593086243, -0.7...</td>\n",
       "      <td>Detective Comics (DC)</td>\n",
       "      <td>https://comrx.s3-us-west-2.amazonaws.com/cover...</td>\n",
       "      <td>1.112185</td>\n",
       "    </tr>\n",
       "  </tbody>\n",
       "</table>\n",
       "</div>"
      ],
      "text/plain": [
       "                                                   features  \\\n",
       "comic_id                                                      \n",
       "1214      [0.33106639981269836, 0.16478432714939117, -0....   \n",
       "5196      [0.34831228852272034, 0.11370803415775299, -0....   \n",
       "552       [0.3538980484008789, 0.16178269684314728, -0.8...   \n",
       "610       [0.35470110177993774, 0.15020547807216644, -0....   \n",
       "2041      [0.325575053691864, 0.12070709466934204, -0.81...   \n",
       "5882      [0.3295718729496002, 0.028912074863910675, -0....   \n",
       "6824      [0.3278036415576935, 0.19572147727012634, -0.8...   \n",
       "1709      [0.3662220537662506, 0.11855562776327133, -0.8...   \n",
       "4248      [0.3722243309020996, 0.07827568054199219, -0.8...   \n",
       "1807      [0.3776921331882477, 0.16676929593086243, -0.7...   \n",
       "\n",
       "                    comic_title  \\\n",
       "comic_id                          \n",
       "1214               Chew (Image)   \n",
       "5196               Saga (Image)   \n",
       "552                Batgirl (DC)   \n",
       "610                 Batman (DC)   \n",
       "2041       East of West (Image)   \n",
       "5882         Star Wars (Marvel)   \n",
       "6824       Walking Dead (Image)   \n",
       "1709          Deadpool (Marvel)   \n",
       "4248       Mighty Thor (Marvel)   \n",
       "1807      Detective Comics (DC)   \n",
       "\n",
       "                                                    img_url      pred  \n",
       "comic_id                                                               \n",
       "1214      https://comrx.s3-us-west-2.amazonaws.com/cover...  1.178824  \n",
       "5196      https://comrx.s3-us-west-2.amazonaws.com/cover...  1.163962  \n",
       "552       https://comrx.s3-us-west-2.amazonaws.com/cover...  1.131813  \n",
       "610       https://comrx.s3-us-west-2.amazonaws.com/cover...  1.130366  \n",
       "2041      https://comrx.s3-us-west-2.amazonaws.com/cover...  1.125175  \n",
       "5882      https://comrx.s3-us-west-2.amazonaws.com/cover...  1.117087  \n",
       "6824      https://comrx.s3-us-west-2.amazonaws.com/cover...  1.117041  \n",
       "1709      https://comrx.s3-us-west-2.amazonaws.com/cover...  1.116029  \n",
       "4248      https://comrx.s3-us-west-2.amazonaws.com/cover...  1.112784  \n",
       "1807      https://comrx.s3-us-west-2.amazonaws.com/cover...  1.112185  "
      ]
     },
     "execution_count": 443,
     "metadata": {},
     "output_type": "execute_result"
    }
   ],
   "source": [
    "deef"
   ]
  },
  {
   "cell_type": "markdown",
   "metadata": {},
   "source": [
    "### Create Official item factors matrix or dataframe"
   ]
  },
  {
   "cell_type": "code",
   "execution_count": 8,
   "metadata": {},
   "outputs": [],
   "source": [
    "item_factors_df = pd.read_pickle('support_data/item_factors.pkl')"
   ]
  },
  {
   "cell_type": "code",
   "execution_count": 399,
   "metadata": {},
   "outputs": [
    {
     "data": {
      "text/html": [
       "<div>\n",
       "<style scoped>\n",
       "    .dataframe tbody tr th:only-of-type {\n",
       "        vertical-align: middle;\n",
       "    }\n",
       "\n",
       "    .dataframe tbody tr th {\n",
       "        vertical-align: top;\n",
       "    }\n",
       "\n",
       "    .dataframe thead th {\n",
       "        text-align: right;\n",
       "    }\n",
       "</style>\n",
       "<table border=\"1\" class=\"dataframe\">\n",
       "  <thead>\n",
       "    <tr style=\"text-align: right;\">\n",
       "      <th></th>\n",
       "      <th>comic_id</th>\n",
       "      <th>features</th>\n",
       "    </tr>\n",
       "  </thead>\n",
       "  <tbody>\n",
       "    <tr>\n",
       "      <th>0</th>\n",
       "      <td>10</td>\n",
       "      <td>[-0.7526867389678955, -0.21263617277145386, -1...</td>\n",
       "    </tr>\n",
       "    <tr>\n",
       "      <th>1</th>\n",
       "      <td>20</td>\n",
       "      <td>[-0.3515812158584595, 0.4757572114467621, -1.2...</td>\n",
       "    </tr>\n",
       "    <tr>\n",
       "      <th>2</th>\n",
       "      <td>30</td>\n",
       "      <td>[0.1806577742099762, -0.48153993487358093, -0....</td>\n",
       "    </tr>\n",
       "    <tr>\n",
       "      <th>3</th>\n",
       "      <td>40</td>\n",
       "      <td>[-0.06164746731519699, -0.23286470770835876, -...</td>\n",
       "    </tr>\n",
       "    <tr>\n",
       "      <th>4</th>\n",
       "      <td>50</td>\n",
       "      <td>[-0.4028661251068115, -0.3713889420032501, -1....</td>\n",
       "    </tr>\n",
       "  </tbody>\n",
       "</table>\n",
       "</div>"
      ],
      "text/plain": [
       "   comic_id                                           features\n",
       "0        10  [-0.7526867389678955, -0.21263617277145386, -1...\n",
       "1        20  [-0.3515812158584595, 0.4757572114467621, -1.2...\n",
       "2        30  [0.1806577742099762, -0.48153993487358093, -0....\n",
       "3        40  [-0.06164746731519699, -0.23286470770835876, -...\n",
       "4        50  [-0.4028661251068115, -0.3713889420032501, -1...."
      ]
     },
     "execution_count": 399,
     "metadata": {},
     "output_type": "execute_result"
    }
   ],
   "source": [
    "item_factors_df.head()"
   ]
  },
  {
   "cell_type": "code",
   "execution_count": 10,
   "metadata": {},
   "outputs": [],
   "source": [
    "item_factors_df.columns = ['comic_id', 'features']"
   ]
  },
  {
   "cell_type": "code",
   "execution_count": 11,
   "metadata": {},
   "outputs": [
    {
     "name": "stdout",
     "output_type": "stream",
     "text": [
      "+--------+--------------------+--------------------+\n",
      "|comic_id|         comic_title|             img_url|\n",
      "+--------+--------------------+--------------------+\n",
      "|      17|1 For $1 Axe Cop ...|https://comrx.s3-...|\n",
      "|      20|1 For $1 Conan th...|https://comrx.s3-...|\n",
      "|      22|1 For $1 Mass Eff...|https://comrx.s3-...|\n",
      "|      24|1 For $1 Star War...|https://comrx.s3-...|\n",
      "|      27|1 For $1 Usagi Yo...|https://comrx.s3-...|\n",
      "|      18|1 For 1 Baltimore...|https://comrx.s3-...|\n",
      "|       2|100 Bullets Broth...|https://comrx.s3-...|\n",
      "|       4|100 Penny Press S...|https://comrx.s3-...|\n",
      "|       6|100 Penny Press T...|https://comrx.s3-...|\n",
      "|       8|12 Reasons To Die...|https://comrx.s3-...|\n",
      "|       9|    13 Coins (Other)|https://comrx.s3-...|\n",
      "|      11|1602 Witch Hunter...|https://comrx.s3-...|\n",
      "|      29|2021 Lost Childre...|https://comrx.s3-...|\n",
      "|      31|23 Skidoo One Sho...|https://comrx.s3-...|\n",
      "|      36|3 Floyds Alpha Ki...|https://comrx.s3-...|\n",
      "|      33|30 Days of Night ...|https://comrx.s3-...|\n",
      "|      34|32 Stories Comple...|https://comrx.s3-...|\n",
      "|      43|4001 A.d. X-O Man...|https://comrx.s3-...|\n",
      "|      40|     4001 Ad (Other)|https://comrx.s3-...|\n",
      "|      41|4001 Ad Shadowman...|https://comrx.s3-...|\n",
      "+--------+--------------------+--------------------+\n",
      "only showing top 20 rows\n",
      "\n"
     ]
    }
   ],
   "source": [
    "comics_df.show()"
   ]
  },
  {
   "cell_type": "markdown",
   "metadata": {},
   "source": [
    "#### Get comics info"
   ]
  },
  {
   "cell_type": "code",
   "execution_count": 12,
   "metadata": {},
   "outputs": [],
   "source": [
    "comics_pdf = comics_df.toPandas()"
   ]
  },
  {
   "cell_type": "code",
   "execution_count": 13,
   "metadata": {},
   "outputs": [
    {
     "data": {
      "text/html": [
       "<div>\n",
       "<style scoped>\n",
       "    .dataframe tbody tr th:only-of-type {\n",
       "        vertical-align: middle;\n",
       "    }\n",
       "\n",
       "    .dataframe tbody tr th {\n",
       "        vertical-align: top;\n",
       "    }\n",
       "\n",
       "    .dataframe thead th {\n",
       "        text-align: right;\n",
       "    }\n",
       "</style>\n",
       "<table border=\"1\" class=\"dataframe\">\n",
       "  <thead>\n",
       "    <tr style=\"text-align: right;\">\n",
       "      <th></th>\n",
       "      <th>comic_id</th>\n",
       "      <th>comic_title</th>\n",
       "      <th>img_url</th>\n",
       "    </tr>\n",
       "  </thead>\n",
       "  <tbody>\n",
       "    <tr>\n",
       "      <th>0</th>\n",
       "      <td>17</td>\n",
       "      <td>1 For $1 Axe Cop Bad Guy Eart (Dark Horse)</td>\n",
       "      <td>https://comrx.s3-us-west-2.amazonaws.com/cover...</td>\n",
       "    </tr>\n",
       "    <tr>\n",
       "      <th>1</th>\n",
       "      <td>20</td>\n",
       "      <td>1 For $1 Conan the Barbarian (Dark Horse)</td>\n",
       "      <td>https://comrx.s3-us-west-2.amazonaws.com/cover...</td>\n",
       "    </tr>\n",
       "    <tr>\n",
       "      <th>2</th>\n",
       "      <td>22</td>\n",
       "      <td>1 For $1 Mass Effect Foundati (Dark Horse)</td>\n",
       "      <td>https://comrx.s3-us-west-2.amazonaws.com/cover...</td>\n",
       "    </tr>\n",
       "    <tr>\n",
       "      <th>3</th>\n",
       "      <td>24</td>\n",
       "      <td>1 For $1 Star Wars Legacy (Dark Horse)</td>\n",
       "      <td>https://comrx.s3-us-west-2.amazonaws.com/cover...</td>\n",
       "    </tr>\n",
       "    <tr>\n",
       "      <th>4</th>\n",
       "      <td>27</td>\n",
       "      <td>1 For $1 Usagi Yojimb (Dark Horse)</td>\n",
       "      <td>https://comrx.s3-us-west-2.amazonaws.com/cover...</td>\n",
       "    </tr>\n",
       "  </tbody>\n",
       "</table>\n",
       "</div>"
      ],
      "text/plain": [
       "   comic_id                                 comic_title  \\\n",
       "0        17  1 For $1 Axe Cop Bad Guy Eart (Dark Horse)   \n",
       "1        20   1 For $1 Conan the Barbarian (Dark Horse)   \n",
       "2        22  1 For $1 Mass Effect Foundati (Dark Horse)   \n",
       "3        24      1 For $1 Star Wars Legacy (Dark Horse)   \n",
       "4        27          1 For $1 Usagi Yojimb (Dark Horse)   \n",
       "\n",
       "                                             img_url  \n",
       "0  https://comrx.s3-us-west-2.amazonaws.com/cover...  \n",
       "1  https://comrx.s3-us-west-2.amazonaws.com/cover...  \n",
       "2  https://comrx.s3-us-west-2.amazonaws.com/cover...  \n",
       "3  https://comrx.s3-us-west-2.amazonaws.com/cover...  \n",
       "4  https://comrx.s3-us-west-2.amazonaws.com/cover...  "
      ]
     },
     "execution_count": 13,
     "metadata": {},
     "output_type": "execute_result"
    }
   ],
   "source": [
    "comics_pdf.head()"
   ]
  },
  {
   "cell_type": "code",
   "execution_count": 14,
   "metadata": {},
   "outputs": [
    {
     "data": {
      "text/plain": [
       "(6028, 2)"
      ]
     },
     "execution_count": 14,
     "metadata": {},
     "output_type": "execute_result"
    }
   ],
   "source": [
    "item_factors_df.shape"
   ]
  },
  {
   "cell_type": "code",
   "execution_count": 15,
   "metadata": {},
   "outputs": [],
   "source": [
    "combo = item_factors_df.merge(comics_pdf, left_on='comic_id', right_on='comic_id', how='inner', )"
   ]
  },
  {
   "cell_type": "code",
   "execution_count": 172,
   "metadata": {
    "scrolled": true
   },
   "outputs": [
    {
     "data": {
      "text/html": [
       "<div>\n",
       "<style scoped>\n",
       "    .dataframe tbody tr th:only-of-type {\n",
       "        vertical-align: middle;\n",
       "    }\n",
       "\n",
       "    .dataframe tbody tr th {\n",
       "        vertical-align: top;\n",
       "    }\n",
       "\n",
       "    .dataframe thead th {\n",
       "        text-align: right;\n",
       "    }\n",
       "</style>\n",
       "<table border=\"1\" class=\"dataframe\">\n",
       "  <thead>\n",
       "    <tr style=\"text-align: right;\">\n",
       "      <th></th>\n",
       "      <th>comic_id</th>\n",
       "      <th>features</th>\n",
       "      <th>comic_title</th>\n",
       "      <th>img_url</th>\n",
       "    </tr>\n",
       "  </thead>\n",
       "  <tbody>\n",
       "    <tr>\n",
       "      <th>0</th>\n",
       "      <td>10</td>\n",
       "      <td>[-0.7526867389678955, -0.21263617277145386, -1...</td>\n",
       "      <td>13th Artifact One Sho (Topcow)</td>\n",
       "      <td>https://comrx.s3-us-west-2.amazonaws.com/cover...</td>\n",
       "    </tr>\n",
       "    <tr>\n",
       "      <th>1</th>\n",
       "      <td>20</td>\n",
       "      <td>[-0.3515812158584595, 0.4757572114467621, -1.2...</td>\n",
       "      <td>1 For $1 Conan the Barbarian (Dark Horse)</td>\n",
       "      <td>https://comrx.s3-us-west-2.amazonaws.com/cover...</td>\n",
       "    </tr>\n",
       "    <tr>\n",
       "      <th>2</th>\n",
       "      <td>30</td>\n",
       "      <td>[0.1806577742099762, -0.48153993487358093, -0....</td>\n",
       "      <td>21st Century Tank Girl (Other)</td>\n",
       "      <td>https://comrx.s3-us-west-2.amazonaws.com/cover...</td>\n",
       "    </tr>\n",
       "    <tr>\n",
       "      <th>3</th>\n",
       "      <td>40</td>\n",
       "      <td>[-0.06164746731519699, -0.23286470770835876, -...</td>\n",
       "      <td>4001 Ad (Other)</td>\n",
       "      <td>https://comrx.s3-us-west-2.amazonaws.com/cover...</td>\n",
       "    </tr>\n",
       "    <tr>\n",
       "      <th>4</th>\n",
       "      <td>50</td>\n",
       "      <td>[-0.4028661251068115, -0.3713889420032501, -1....</td>\n",
       "      <td>68 Homefront (Image)</td>\n",
       "      <td>https://comrx.s3-us-west-2.amazonaws.com/cover...</td>\n",
       "    </tr>\n",
       "  </tbody>\n",
       "</table>\n",
       "</div>"
      ],
      "text/plain": [
       "   comic_id                                           features  \\\n",
       "0        10  [-0.7526867389678955, -0.21263617277145386, -1...   \n",
       "1        20  [-0.3515812158584595, 0.4757572114467621, -1.2...   \n",
       "2        30  [0.1806577742099762, -0.48153993487358093, -0....   \n",
       "3        40  [-0.06164746731519699, -0.23286470770835876, -...   \n",
       "4        50  [-0.4028661251068115, -0.3713889420032501, -1....   \n",
       "\n",
       "                                 comic_title  \\\n",
       "0             13th Artifact One Sho (Topcow)   \n",
       "1  1 For $1 Conan the Barbarian (Dark Horse)   \n",
       "2             21st Century Tank Girl (Other)   \n",
       "3                            4001 Ad (Other)   \n",
       "4                       68 Homefront (Image)   \n",
       "\n",
       "                                             img_url  \n",
       "0  https://comrx.s3-us-west-2.amazonaws.com/cover...  \n",
       "1  https://comrx.s3-us-west-2.amazonaws.com/cover...  \n",
       "2  https://comrx.s3-us-west-2.amazonaws.com/cover...  \n",
       "3  https://comrx.s3-us-west-2.amazonaws.com/cover...  \n",
       "4  https://comrx.s3-us-west-2.amazonaws.com/cover...  "
      ]
     },
     "execution_count": 172,
     "metadata": {},
     "output_type": "execute_result"
    }
   ],
   "source": [
    "combo.head()"
   ]
  },
  {
   "cell_type": "markdown",
   "metadata": {},
   "source": [
    "In order to make slicing easier down the road, set index to comic_id"
   ]
  },
  {
   "cell_type": "code",
   "execution_count": 173,
   "metadata": {},
   "outputs": [],
   "source": [
    "coms = combo.copy()"
   ]
  },
  {
   "cell_type": "code",
   "execution_count": 178,
   "metadata": {},
   "outputs": [],
   "source": [
    "coms.set_index(['comic_id'], inplace=True)"
   ]
  },
  {
   "cell_type": "code",
   "execution_count": 180,
   "metadata": {},
   "outputs": [
    {
     "data": {
      "text/html": [
       "<div>\n",
       "<style scoped>\n",
       "    .dataframe tbody tr th:only-of-type {\n",
       "        vertical-align: middle;\n",
       "    }\n",
       "\n",
       "    .dataframe tbody tr th {\n",
       "        vertical-align: top;\n",
       "    }\n",
       "\n",
       "    .dataframe thead th {\n",
       "        text-align: right;\n",
       "    }\n",
       "</style>\n",
       "<table border=\"1\" class=\"dataframe\">\n",
       "  <thead>\n",
       "    <tr style=\"text-align: right;\">\n",
       "      <th></th>\n",
       "      <th>features</th>\n",
       "      <th>comic_title</th>\n",
       "      <th>img_url</th>\n",
       "    </tr>\n",
       "    <tr>\n",
       "      <th>comic_id</th>\n",
       "      <th></th>\n",
       "      <th></th>\n",
       "      <th></th>\n",
       "    </tr>\n",
       "  </thead>\n",
       "  <tbody>\n",
       "    <tr>\n",
       "      <th>10</th>\n",
       "      <td>[-0.7526867389678955, -0.21263617277145386, -1...</td>\n",
       "      <td>13th Artifact One Sho (Topcow)</td>\n",
       "      <td>https://comrx.s3-us-west-2.amazonaws.com/cover...</td>\n",
       "    </tr>\n",
       "    <tr>\n",
       "      <th>20</th>\n",
       "      <td>[-0.3515812158584595, 0.4757572114467621, -1.2...</td>\n",
       "      <td>1 For $1 Conan the Barbarian (Dark Horse)</td>\n",
       "      <td>https://comrx.s3-us-west-2.amazonaws.com/cover...</td>\n",
       "    </tr>\n",
       "    <tr>\n",
       "      <th>30</th>\n",
       "      <td>[0.1806577742099762, -0.48153993487358093, -0....</td>\n",
       "      <td>21st Century Tank Girl (Other)</td>\n",
       "      <td>https://comrx.s3-us-west-2.amazonaws.com/cover...</td>\n",
       "    </tr>\n",
       "    <tr>\n",
       "      <th>40</th>\n",
       "      <td>[-0.06164746731519699, -0.23286470770835876, -...</td>\n",
       "      <td>4001 Ad (Other)</td>\n",
       "      <td>https://comrx.s3-us-west-2.amazonaws.com/cover...</td>\n",
       "    </tr>\n",
       "    <tr>\n",
       "      <th>50</th>\n",
       "      <td>[-0.4028661251068115, -0.3713889420032501, -1....</td>\n",
       "      <td>68 Homefront (Image)</td>\n",
       "      <td>https://comrx.s3-us-west-2.amazonaws.com/cover...</td>\n",
       "    </tr>\n",
       "  </tbody>\n",
       "</table>\n",
       "</div>"
      ],
      "text/plain": [
       "                                                   features  \\\n",
       "comic_id                                                      \n",
       "10        [-0.7526867389678955, -0.21263617277145386, -1...   \n",
       "20        [-0.3515812158584595, 0.4757572114467621, -1.2...   \n",
       "30        [0.1806577742099762, -0.48153993487358093, -0....   \n",
       "40        [-0.06164746731519699, -0.23286470770835876, -...   \n",
       "50        [-0.4028661251068115, -0.3713889420032501, -1....   \n",
       "\n",
       "                                        comic_title  \\\n",
       "comic_id                                              \n",
       "10                   13th Artifact One Sho (Topcow)   \n",
       "20        1 For $1 Conan the Barbarian (Dark Horse)   \n",
       "30                   21st Century Tank Girl (Other)   \n",
       "40                                  4001 Ad (Other)   \n",
       "50                             68 Homefront (Image)   \n",
       "\n",
       "                                                    img_url  \n",
       "comic_id                                                     \n",
       "10        https://comrx.s3-us-west-2.amazonaws.com/cover...  \n",
       "20        https://comrx.s3-us-west-2.amazonaws.com/cover...  \n",
       "30        https://comrx.s3-us-west-2.amazonaws.com/cover...  \n",
       "40        https://comrx.s3-us-west-2.amazonaws.com/cover...  \n",
       "50        https://comrx.s3-us-west-2.amazonaws.com/cover...  "
      ]
     },
     "execution_count": 180,
     "metadata": {},
     "output_type": "execute_result"
    }
   ],
   "source": [
    "coms.head()"
   ]
  },
  {
   "cell_type": "code",
   "execution_count": 181,
   "metadata": {},
   "outputs": [
    {
     "data": {
      "text/plain": [
       "features       [-0.4028661251068115, -0.3713889420032501, -1....\n",
       "comic_title                                 68 Homefront (Image)\n",
       "img_url        https://comrx.s3-us-west-2.amazonaws.com/cover...\n",
       "Name: 50, dtype: object"
      ]
     },
     "execution_count": 181,
     "metadata": {},
     "output_type": "execute_result"
    }
   ],
   "source": [
    "coms.loc[50]"
   ]
  },
  {
   "cell_type": "code",
   "execution_count": 17,
   "metadata": {},
   "outputs": [
    {
     "data": {
      "text/html": [
       "<div>\n",
       "<style scoped>\n",
       "    .dataframe tbody tr th:only-of-type {\n",
       "        vertical-align: middle;\n",
       "    }\n",
       "\n",
       "    .dataframe tbody tr th {\n",
       "        vertical-align: top;\n",
       "    }\n",
       "\n",
       "    .dataframe thead th {\n",
       "        text-align: right;\n",
       "    }\n",
       "</style>\n",
       "<table border=\"1\" class=\"dataframe\">\n",
       "  <thead>\n",
       "    <tr style=\"text-align: right;\">\n",
       "      <th></th>\n",
       "      <th>comic_id</th>\n",
       "      <th>comic_title</th>\n",
       "      <th>img_url</th>\n",
       "    </tr>\n",
       "  </thead>\n",
       "  <tbody>\n",
       "    <tr>\n",
       "      <th>1</th>\n",
       "      <td>20</td>\n",
       "      <td>1 For $1 Conan the Barbarian (Dark Horse)</td>\n",
       "      <td>https://comrx.s3-us-west-2.amazonaws.com/cover...</td>\n",
       "    </tr>\n",
       "  </tbody>\n",
       "</table>\n",
       "</div>"
      ],
      "text/plain": [
       "   comic_id                                comic_title  \\\n",
       "1        20  1 For $1 Conan the Barbarian (Dark Horse)   \n",
       "\n",
       "                                             img_url  \n",
       "1  https://comrx.s3-us-west-2.amazonaws.com/cover...  "
      ]
     },
     "execution_count": 17,
     "metadata": {},
     "output_type": "execute_result"
    }
   ],
   "source": [
    "comics_pdf.loc[comics_pdf['comic_id']==20]"
   ]
  },
  {
   "cell_type": "code",
   "execution_count": 182,
   "metadata": {},
   "outputs": [
    {
     "data": {
      "text/plain": [
       "(6028, 4)"
      ]
     },
     "execution_count": 182,
     "metadata": {},
     "output_type": "execute_result"
    }
   ],
   "source": [
    "combo.shape"
   ]
  },
  {
   "cell_type": "code",
   "execution_count": 183,
   "metadata": {},
   "outputs": [
    {
     "data": {
      "text/plain": [
       "(6028, 3)"
      ]
     },
     "execution_count": 183,
     "metadata": {},
     "output_type": "execute_result"
    }
   ],
   "source": [
    "coms.shape"
   ]
  },
  {
   "cell_type": "code",
   "execution_count": 20,
   "metadata": {},
   "outputs": [],
   "source": [
    "combo.to_pickle('support_data/comics_factors.pkl')"
   ]
  },
  {
   "cell_type": "code",
   "execution_count": 184,
   "metadata": {},
   "outputs": [],
   "source": [
    "coms.to_pickle('support_data/comics_factors.pkl')"
   ]
  },
  {
   "cell_type": "code",
   "execution_count": 21,
   "metadata": {},
   "outputs": [],
   "source": [
    "my_list = ['Transformers', 'GI Joe', 'Y The Last Man', 'Saga', 'Avengers'\n",
    "           ,'Paper Girls', 'Star Wars']"
   ]
  },
  {
   "cell_type": "code",
   "execution_count": 59,
   "metadata": {},
   "outputs": [],
   "source": [
    "test = \"Black Science \\(Image\\)\""
   ]
  },
  {
   "cell_type": "code",
   "execution_count": 60,
   "metadata": {},
   "outputs": [],
   "source": [
    "comic_ids_list = comics_pdf[comics_pdf['comic_title'].str.contains(test, case=False)].comic_id.tolist()"
   ]
  },
  {
   "cell_type": "code",
   "execution_count": 61,
   "metadata": {},
   "outputs": [
    {
     "data": {
      "text/plain": [
       "[3189, 838]"
      ]
     },
     "execution_count": 61,
     "metadata": {},
     "output_type": "execute_result"
    }
   ],
   "source": [
    "comic_ids_list"
   ]
  },
  {
   "cell_type": "markdown",
   "metadata": {},
   "source": [
    "# GRAVEYARD"
   ]
  },
  {
   "cell_type": "code",
   "execution_count": null,
   "metadata": {},
   "outputs": [],
   "source": []
  },
  {
   "cell_type": "code",
   "execution_count": null,
   "metadata": {},
   "outputs": [],
   "source": []
  },
  {
   "cell_type": "code",
   "execution_count": null,
   "metadata": {},
   "outputs": [],
   "source": []
  },
  {
   "cell_type": "code",
   "execution_count": null,
   "metadata": {},
   "outputs": [],
   "source": []
  },
  {
   "cell_type": "code",
   "execution_count": null,
   "metadata": {},
   "outputs": [],
   "source": []
  },
  {
   "cell_type": "code",
   "execution_count": null,
   "metadata": {},
   "outputs": [],
   "source": []
  },
  {
   "cell_type": "code",
   "execution_count": null,
   "metadata": {},
   "outputs": [],
   "source": []
  },
  {
   "cell_type": "code",
   "execution_count": null,
   "metadata": {},
   "outputs": [],
   "source": []
  },
  {
   "cell_type": "code",
   "execution_count": 16,
   "metadata": {},
   "outputs": [
    {
     "name": "stdout",
     "output_type": "stream",
     "text": [
      "+--------+--------------------+\n",
      "|comic_id|         comic_title|\n",
      "+--------+--------------------+\n",
      "|       1|0Secret Wars (Mar...|\n",
      "|       2|100 Bullets Broth...|\n",
      "+--------+--------------------+\n",
      "only showing top 2 rows\n",
      "\n"
     ]
    }
   ],
   "source": [
    "comics_df.show(2)"
   ]
  },
  {
   "cell_type": "code",
   "execution_count": 32,
   "metadata": {},
   "outputs": [],
   "source": [
    "from pyspark.sql.functions import lower, upper"
   ]
  },
  {
   "cell_type": "code",
   "execution_count": 25,
   "metadata": {},
   "outputs": [],
   "source": [
    "sample_comic = 'Sweet Tooth'"
   ]
  },
  {
   "cell_type": "code",
   "execution_count": 99,
   "metadata": {},
   "outputs": [],
   "source": [
    "sample_comic = 'Paper Girls'"
   ]
  },
  {
   "cell_type": "code",
   "execution_count": 101,
   "metadata": {},
   "outputs": [],
   "source": [
    "test = comics_df.filter(lower(comics_df['comic_title']).contains(str.lower(sample_comic))).select('comic_title')"
   ]
  },
  {
   "cell_type": "code",
   "execution_count": 102,
   "metadata": {},
   "outputs": [
    {
     "name": "stdout",
     "output_type": "stream",
     "text": [
      "+--------------------+\n",
      "|         comic_title|\n",
      "+--------------------+\n",
      "|Image Firsts Pape...|\n",
      "| Paper Girls (Image)|\n",
      "+--------------------+\n",
      "\n"
     ]
    }
   ],
   "source": [
    "test.show()"
   ]
  },
  {
   "cell_type": "code",
   "execution_count": 109,
   "metadata": {},
   "outputs": [],
   "source": [
    "test2 = test.withColumn('temp', col('comic_title'))"
   ]
  },
  {
   "cell_type": "code",
   "execution_count": 111,
   "metadata": {},
   "outputs": [
    {
     "name": "stdout",
     "output_type": "stream",
     "text": [
      "+--------------------+--------------------+\n",
      "|         comic_title|                temp|\n",
      "+--------------------+--------------------+\n",
      "|Image Firsts Pape...|Image Firsts Pape...|\n",
      "| Paper Girls (Image)| Paper Girls (Image)|\n",
      "+--------------------+--------------------+\n",
      "\n"
     ]
    }
   ],
   "source": [
    "test2.show()"
   ]
  },
  {
   "cell_type": "code",
   "execution_count": 129,
   "metadata": {},
   "outputs": [
    {
     "name": "stdout",
     "output_type": "stream",
     "text": [
      "+----------+------+--------+\n",
      "|account_id|bought|comic_id|\n",
      "+----------+------+--------+\n",
      "|      2247|     1|     995|\n",
      "|       487|     1|    1102|\n",
      "+----------+------+--------+\n",
      "only showing top 2 rows\n",
      "\n"
     ]
    }
   ],
   "source": [
    "sold.show(2)"
   ]
  },
  {
   "cell_type": "code",
   "execution_count": 157,
   "metadata": {},
   "outputs": [
    {
     "data": {
      "text/plain": [
       "3074"
      ]
     },
     "execution_count": 157,
     "metadata": {},
     "output_type": "execute_result"
    }
   ],
   "source": [
    "# Get max account id\n",
    "max_acct_id = sold.agg({'account_id':'max'}).collect()[0][0]\n",
    "max_acct_id"
   ]
  },
  {
   "cell_type": "code",
   "execution_count": 158,
   "metadata": {},
   "outputs": [],
   "source": [
    "new_acct_id = max_acct_id + 1"
   ]
  },
  {
   "cell_type": "code",
   "execution_count": 154,
   "metadata": {},
   "outputs": [
    {
     "data": {
      "text/plain": [
       "[6105, 3235, 4701]"
      ]
     },
     "execution_count": 154,
     "metadata": {},
     "output_type": "execute_result"
    }
   ],
   "source": [
    "curr_comic_ids"
   ]
  },
  {
   "cell_type": "code",
   "execution_count": 159,
   "metadata": {},
   "outputs": [],
   "source": [
    "new_rows = [(new_acct_id, 1, comic_id) for comic_id in curr_comic_ids]"
   ]
  },
  {
   "cell_type": "code",
   "execution_count": 160,
   "metadata": {},
   "outputs": [
    {
     "data": {
      "text/plain": [
       "[(3075, 1, 6105), (3075, 1, 3235), (3075, 1, 4701)]"
      ]
     },
     "execution_count": 160,
     "metadata": {},
     "output_type": "execute_result"
    }
   ],
   "source": [
    "new_rows"
   ]
  },
  {
   "cell_type": "code",
   "execution_count": 161,
   "metadata": {},
   "outputs": [
    {
     "data": {
      "text/plain": [
       "DataFrame[account_id: bigint, bought: bigint, comic_id: bigint]"
      ]
     },
     "execution_count": 161,
     "metadata": {},
     "output_type": "execute_result"
    }
   ],
   "source": [
    "sold_test = sold\n",
    "sold_test.persist()\n"
   ]
  },
  {
   "cell_type": "code",
   "execution_count": 164,
   "metadata": {},
   "outputs": [
    {
     "data": {
      "text/plain": [
       "61871"
      ]
     },
     "execution_count": 164,
     "metadata": {},
     "output_type": "execute_result"
    }
   ],
   "source": [
    "sold_test.count()"
   ]
  },
  {
   "cell_type": "code",
   "execution_count": 166,
   "metadata": {},
   "outputs": [],
   "source": [
    "sold_new = sold_test.union(spark.createDataFrame(new_rows))"
   ]
  },
  {
   "cell_type": "code",
   "execution_count": 167,
   "metadata": {},
   "outputs": [
    {
     "data": {
      "text/plain": [
       "61874"
      ]
     },
     "execution_count": 167,
     "metadata": {},
     "output_type": "execute_result"
    }
   ],
   "source": [
    "sold_new.count()"
   ]
  },
  {
   "cell_type": "code",
   "execution_count": null,
   "metadata": {},
   "outputs": [],
   "source": [
    "newRow = spark.createDataFrame([(15,'Alk','Dhl')])\n",
    "df = df.union(newRow)\n",
    "df.show()"
   ]
  },
  {
   "cell_type": "code",
   "execution_count": 170,
   "metadata": {},
   "outputs": [],
   "source": [
    "test_sold = sold"
   ]
  },
  {
   "cell_type": "code",
   "execution_count": 171,
   "metadata": {},
   "outputs": [],
   "source": [
    "test_sold_2 = add_new_user(sold, curr_comic_ids)"
   ]
  },
  {
   "cell_type": "code",
   "execution_count": 172,
   "metadata": {},
   "outputs": [
    {
     "name": "stdout",
     "output_type": "stream",
     "text": [
      "61871\n"
     ]
    }
   ],
   "source": [
    "print(test_sold.count())"
   ]
  },
  {
   "cell_type": "code",
   "execution_count": 173,
   "metadata": {},
   "outputs": [
    {
     "name": "stdout",
     "output_type": "stream",
     "text": [
      "61874\n"
     ]
    }
   ],
   "source": [
    "print(test_sold_2.count())"
   ]
  },
  {
   "cell_type": "code",
   "execution_count": null,
   "metadata": {},
   "outputs": [],
   "source": []
  }
 ],
 "metadata": {
  "kernelspec": {
   "display_name": "Python 3",
   "language": "python",
   "name": "python3"
  },
  "language_info": {
   "codemirror_mode": {
    "name": "ipython",
    "version": 3
   },
   "file_extension": ".py",
   "mimetype": "text/x-python",
   "name": "python",
   "nbconvert_exporter": "python",
   "pygments_lexer": "ipython3",
   "version": "3.6.6"
  }
 },
 "nbformat": 4,
 "nbformat_minor": 2
}
