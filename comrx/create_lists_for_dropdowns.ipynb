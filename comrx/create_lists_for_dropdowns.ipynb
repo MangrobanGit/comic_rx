{
 "cells": [
  {
   "cell_type": "code",
   "execution_count": 5,
   "metadata": {},
   "outputs": [],
   "source": [
    "import pandas as pd"
   ]
  },
  {
   "cell_type": "code",
   "execution_count": 9,
   "metadata": {},
   "outputs": [
    {
     "name": "stdout",
     "output_type": "stream",
     "text": [
      "__init__.py                      data_fcns.py\r\n",
      "\u001b[34m__pycache__\u001b[m\u001b[m                      \u001b[34mdev\u001b[m\u001b[m\r\n",
      "comic_recs.py                    geckodriver.log\r\n",
      "comic_scraper.py                 keys.py\r\n",
      "create_lists_for_dropdowns.ipynb \u001b[34mwebapp\u001b[m\u001b[m\r\n"
     ]
    }
   ],
   "source": [
    "!ls"
   ]
  },
  {
   "cell_type": "code",
   "execution_count": 14,
   "metadata": {},
   "outputs": [],
   "source": [
    "path = './dev/support_data/comics.json'"
   ]
  },
  {
   "cell_type": "code",
   "execution_count": 15,
   "metadata": {},
   "outputs": [],
   "source": [
    "comics = pd.read_json(path, lines=True)"
   ]
  },
  {
   "cell_type": "code",
   "execution_count": 16,
   "metadata": {},
   "outputs": [],
   "source": [
    "comic_ids = comics['comic_id'].tolist()"
   ]
  },
  {
   "cell_type": "code",
   "execution_count": 17,
   "metadata": {},
   "outputs": [],
   "source": [
    "comic_titles = comics['comic_title'].tolist()"
   ]
  },
  {
   "cell_type": "code",
   "execution_count": 18,
   "metadata": {},
   "outputs": [
    {
     "data": {
      "text/plain": [
       "[1, 2, 3, 4]"
      ]
     },
     "execution_count": 18,
     "metadata": {},
     "output_type": "execute_result"
    }
   ],
   "source": [
    "comic_ids[:4]"
   ]
  },
  {
   "cell_type": "code",
   "execution_count": 19,
   "metadata": {},
   "outputs": [
    {
     "data": {
      "text/plain": [
       "['0Secret Wars (Marvel)',\n",
       " '100 Bullets Brother Lono (DC)',\n",
       " '100 Penny Press Locke & Key (IDW)',\n",
       " '100 Penny Press Star Trek (IDW)',\n",
       " '100 Penny Press Thunder Agent (IDW)',\n",
       " '100 Penny Press Tmnt (IDW)',\n",
       " '100th Anniversary Special (Marvel)',\n",
       " '12 Reasons To Die (Other)',\n",
       " '13 Coins (Other)',\n",
       " '13th Artifact One Sho (Topcow)']"
      ]
     },
     "execution_count": 19,
     "metadata": {},
     "output_type": "execute_result"
    }
   ],
   "source": [
    "comic_titles[:10]"
   ]
  },
  {
   "cell_type": "code",
   "execution_count": 20,
   "metadata": {},
   "outputs": [
    {
     "name": "stdout",
     "output_type": "stream",
     "text": [
      "/Users/werlindo/Dropbox/flatiron/capstone/comics_rx/comrx\r\n"
     ]
    }
   ],
   "source": [
    "!pwd"
   ]
  },
  {
   "cell_type": "code",
   "execution_count": 21,
   "metadata": {},
   "outputs": [],
   "source": [
    "import pandas as pd\n",
    "import requests\n",
    "import random\n",
    "import time\n",
    "import os\n",
    "\n",
    "# Data storage\n",
    "from sqlalchemy import create_engine # SQL helper\n",
    "import keys     # Custom keys lib\n",
    "import psycopg2 as psql #PostgreSQL DBs"
   ]
  },
  {
   "cell_type": "code",
   "execution_count": 22,
   "metadata": {},
   "outputs": [
    {
     "data": {
      "text/plain": [
       "'/Users/werlindo/.secret/aws_ps_flatiron.json'"
      ]
     },
     "execution_count": 22,
     "metadata": {},
     "output_type": "execute_result"
    }
   ],
   "source": [
    "# Define path to secret\n",
    "secret_path_aws = os.path.join(os.environ['HOME'], '.secret', \n",
    "                           'aws_ps_flatiron.json')\n",
    "secret_path_aws"
   ]
  },
  {
   "cell_type": "code",
   "execution_count": 23,
   "metadata": {},
   "outputs": [],
   "source": [
    "aws_keys = keys.get_keys(secret_path_aws)\n",
    "user = aws_keys['user']\n",
    "ps = aws_keys['password']\n",
    "host = aws_keys['host']\n",
    "db = aws_keys['db_name']\n",
    "\n",
    "aws_ps_engine = ('postgresql://' + user + ':' + ps + '@' + host + '/' + db)\n",
    "\n",
    "# Setup PSQL connection\n",
    "conn = psql.connect(\n",
    "    database=db,\n",
    "    user=user,\n",
    "    password=ps,\n",
    "    host=host,\n",
    "    port='5432'\n",
    ")"
   ]
  },
  {
   "cell_type": "code",
   "execution_count": 24,
   "metadata": {},
   "outputs": [],
   "source": [
    "# Instantiate cursor\n",
    "cur = conn.cursor()"
   ]
  },
  {
   "cell_type": "code",
   "execution_count": 25,
   "metadata": {},
   "outputs": [],
   "source": [
    "#  Count records.\n",
    "query = \"\"\"\n",
    "    SELECT ct.*, c.comic_id from comic_trans ct\n",
    "    inner join comics c on ct.comic_title = c.comic_title;\n",
    "\"\"\""
   ]
  },
  {
   "cell_type": "code",
   "execution_count": 26,
   "metadata": {},
   "outputs": [],
   "source": [
    "# Execute the query\n",
    "cur.execute(query)"
   ]
  },
  {
   "cell_type": "code",
   "execution_count": 27,
   "metadata": {},
   "outputs": [
    {
     "data": {
      "text/html": [
       "<div>\n",
       "<style scoped>\n",
       "    .dataframe tbody tr th:only-of-type {\n",
       "        vertical-align: middle;\n",
       "    }\n",
       "\n",
       "    .dataframe tbody tr th {\n",
       "        vertical-align: top;\n",
       "    }\n",
       "\n",
       "    .dataframe thead th {\n",
       "        text-align: right;\n",
       "    }\n",
       "</style>\n",
       "<table border=\"1\" class=\"dataframe\">\n",
       "  <thead>\n",
       "    <tr style=\"text-align: right;\">\n",
       "      <th></th>\n",
       "      <th>index</th>\n",
       "      <th>publisher</th>\n",
       "      <th>item_id</th>\n",
       "      <th>title_and_num</th>\n",
       "      <th>qty_sold</th>\n",
       "      <th>date_sold</th>\n",
       "      <th>account_num</th>\n",
       "      <th>comic_title</th>\n",
       "      <th>comic_id</th>\n",
       "    </tr>\n",
       "  </thead>\n",
       "  <tbody>\n",
       "    <tr>\n",
       "      <th>0</th>\n",
       "      <td>2</td>\n",
       "      <td>Amaze Ink Slave Labor Graphics</td>\n",
       "      <td>DCD151935</td>\n",
       "      <td>Filler Bunny #2</td>\n",
       "      <td>1</td>\n",
       "      <td>2011-08-14 18:01:03</td>\n",
       "      <td>00174</td>\n",
       "      <td>Filler Bunny (SLG)</td>\n",
       "      <td>2291</td>\n",
       "    </tr>\n",
       "    <tr>\n",
       "      <th>1</th>\n",
       "      <td>3</td>\n",
       "      <td>Amaze Ink Slave Labor Graphics</td>\n",
       "      <td>DCD341726</td>\n",
       "      <td>Gargoyles #6</td>\n",
       "      <td>1</td>\n",
       "      <td>2012-06-22 14:11:37</td>\n",
       "      <td>00593</td>\n",
       "      <td>Gargoyles (SLG)</td>\n",
       "      <td>2445</td>\n",
       "    </tr>\n",
       "    <tr>\n",
       "      <th>2</th>\n",
       "      <td>4</td>\n",
       "      <td>Amaze Ink Slave Labor Graphics</td>\n",
       "      <td>DCD416182</td>\n",
       "      <td>Royal Historian of Oz #1</td>\n",
       "      <td>1</td>\n",
       "      <td>2010-07-21 14:03:07</td>\n",
       "      <td>00226</td>\n",
       "      <td>Royal Historian of Oz (SLG)</td>\n",
       "      <td>5178</td>\n",
       "    </tr>\n",
       "  </tbody>\n",
       "</table>\n",
       "</div>"
      ],
      "text/plain": [
       "   index                       publisher    item_id             title_and_num  \\\n",
       "0      2  Amaze Ink Slave Labor Graphics  DCD151935           Filler Bunny #2   \n",
       "1      3  Amaze Ink Slave Labor Graphics  DCD341726              Gargoyles #6   \n",
       "2      4  Amaze Ink Slave Labor Graphics  DCD416182  Royal Historian of Oz #1   \n",
       "\n",
       "   qty_sold           date_sold account_num                  comic_title  \\\n",
       "0         1 2011-08-14 18:01:03       00174           Filler Bunny (SLG)   \n",
       "1         1 2012-06-22 14:11:37       00593              Gargoyles (SLG)   \n",
       "2         1 2010-07-21 14:03:07       00226  Royal Historian of Oz (SLG)   \n",
       "\n",
       "   comic_id  \n",
       "0      2291  \n",
       "1      2445  \n",
       "2      5178  "
      ]
     },
     "execution_count": 27,
     "metadata": {},
     "output_type": "execute_result"
    }
   ],
   "source": [
    "# Check results\n",
    "temp_df = pd.DataFrame(cur.fetchall())\n",
    "temp_df.columns = [col.name for col in cur.description]\n",
    "\n",
    "temp_df.head(3)"
   ]
  },
  {
   "cell_type": "code",
   "execution_count": 28,
   "metadata": {},
   "outputs": [],
   "source": [
    "qtys = (temp_df.groupby(['comic_id','comic_title'], as_index=False)\n",
    "        .qty_sold.sum().sort_values(by=['qty_sold'], ascending=False))"
   ]
  },
  {
   "cell_type": "code",
   "execution_count": 29,
   "metadata": {},
   "outputs": [],
   "source": [
    "top_100 = qtys.head(100)"
   ]
  },
  {
   "cell_type": "code",
   "execution_count": 30,
   "metadata": {},
   "outputs": [],
   "source": [
    "top_100 = (top_100.sort_values(by=['comic_title'], ascending=True).\n",
    "                    loc[:,['comic_id', 'comic_title']])"
   ]
  },
  {
   "cell_type": "code",
   "execution_count": 33,
   "metadata": {},
   "outputs": [],
   "source": [
    "top_100_dict = top_100.to_dict('list')"
   ]
  },
  {
   "cell_type": "code",
   "execution_count": 34,
   "metadata": {},
   "outputs": [
    {
     "data": {
      "text/plain": [
       "{'comic_id': [81,\n",
       "  198,\n",
       "  224,\n",
       "  278,\n",
       "  319,\n",
       "  388,\n",
       "  433,\n",
       "  455,\n",
       "  552,\n",
       "  610,\n",
       "  619,\n",
       "  648,\n",
       "  578,\n",
       "  691,\n",
       "  804,\n",
       "  829,\n",
       "  838,\n",
       "  960,\n",
       "  992,\n",
       "  1077,\n",
       "  1143,\n",
       "  1214,\n",
       "  1345,\n",
       "  1492,\n",
       "  1560,\n",
       "  1709,\n",
       "  1801,\n",
       "  1807,\n",
       "  1906,\n",
       "  1963,\n",
       "  2041,\n",
       "  2171,\n",
       "  2217,\n",
       "  2228,\n",
       "  2281,\n",
       "  2318,\n",
       "  2680,\n",
       "  2763,\n",
       "  2783,\n",
       "  2779,\n",
       "  2842,\n",
       "  2939,\n",
       "  2950,\n",
       "  2975,\n",
       "  3386,\n",
       "  3388,\n",
       "  3390,\n",
       "  3568,\n",
       "  3630,\n",
       "  3643,\n",
       "  3700,\n",
       "  3820,\n",
       "  3982,\n",
       "  4028,\n",
       "  4248,\n",
       "  4316,\n",
       "  4351,\n",
       "  4455,\n",
       "  4503,\n",
       "  4632,\n",
       "  4677,\n",
       "  4701,\n",
       "  4919,\n",
       "  5196,\n",
       "  5212,\n",
       "  5238,\n",
       "  5284,\n",
       "  5286,\n",
       "  5318,\n",
       "  5348,\n",
       "  5506,\n",
       "  5600,\n",
       "  5659,\n",
       "  5836,\n",
       "  5882,\n",
       "  6019,\n",
       "  6036,\n",
       "  6052,\n",
       "  6069,\n",
       "  6099,\n",
       "  6105,\n",
       "  6175,\n",
       "  6243,\n",
       "  6262,\n",
       "  6260,\n",
       "  6667,\n",
       "  6681,\n",
       "  6684,\n",
       "  6692,\n",
       "  6694,\n",
       "  6722,\n",
       "  6761,\n",
       "  6824,\n",
       "  6937,\n",
       "  6987,\n",
       "  7021,\n",
       "  7079,\n",
       "  7126,\n",
       "  7125,\n",
       "  7193],\n",
       " 'comic_title': ['Action Comics (DC)',\n",
       "  'All New X-Men (Marvel)',\n",
       "  'Amazing Spider-Man (Marvel)',\n",
       "  'Animal Man (DC)',\n",
       "  'Aquaman (DC)',\n",
       "  'Astonishing X-Men (Marvel)',\n",
       "  'Avengers (2010) (Marvel)',\n",
       "  'Avengers (Marvel)',\n",
       "  'Batgirl (DC)',\n",
       "  'Batman (DC)',\n",
       "  'Batman Eternal (DC)',\n",
       "  'Batman Superman (DC)',\n",
       "  'Batman and Robin (DC)',\n",
       "  'Batwoman (DC)',\n",
       "  'Black Hammer (Dark Horse)',\n",
       "  'Black Panther (Marvel)',\n",
       "  'Black Science (Image)',\n",
       "  'Brightest Day (DC)',\n",
       "  'Btvs Season 9 Freefall (Dark Horse)',\n",
       "  'Captain America (Marvel)',\n",
       "  'Catwoman (DC)',\n",
       "  'Chew (Image)',\n",
       "  'Convergence (DC)',\n",
       "  'Daredevil (Marvel)',\n",
       "  'Darth Vader (Marvel)',\n",
       "  'Deadpool (Marvel)',\n",
       "  'Descender (Image)',\n",
       "  'Detective Comics (DC)',\n",
       "  'Doctor Strange (Marvel)',\n",
       "  'Doomsday Clock (DC)',\n",
       "  'East of West (Image)',\n",
       "  'Fables (Vertigo)',\n",
       "  'Fantastic Four (Marvel)',\n",
       "  'Fatale (Image)',\n",
       "  'Ff (Marvel)',\n",
       "  'Flash (DC)',\n",
       "  'God Is Dead (Avatar)',\n",
       "  'Green Arrow (DC)',\n",
       "  'Green Lantern (DC)',\n",
       "  'Green Lantern Corps (DC)',\n",
       "  'Guardians of Galaxy (Marvel)',\n",
       "  'Harley Quinn (DC)',\n",
       "  'Harrow County (Dark Horse)',\n",
       "  'Hawkeye (Marvel)',\n",
       "  'Invader Zim (Oni)',\n",
       "  'Invincible (Image)',\n",
       "  'Invincible Iron Man (Marvel)',\n",
       "  'Journey Into Mystery (Marvel)',\n",
       "  'Justice League (DC)',\n",
       "  'Justice League of America (DC)',\n",
       "  'Kill Or Be Killed (Image)',\n",
       "  'Lazarus (Image)',\n",
       "  'Lumberjanes (Boom)',\n",
       "  'Manhattan Projects (Image)',\n",
       "  'Mighty Thor (Marvel)',\n",
       "  'Moon Knight (Marvel)',\n",
       "  'Ms Marvel (Marvel)',\n",
       "  'New Avengers (Marvel)',\n",
       "  'Nightwing (DC)',\n",
       "  'Old Man Logan (Marvel)',\n",
       "  'Outcast By Kirkman & Azaceta (Image)',\n",
       "  'Paper Girls (Image)',\n",
       "  'Rachel Rising (Other)',\n",
       "  'Saga (Image)',\n",
       "  'Sandman Overture (Vertigo)',\n",
       "  'Scalped (Vertigo)',\n",
       "  'Secret Avengers (Marvel)',\n",
       "  'Secret Empire (Marvel)',\n",
       "  'Secret Wars (Marvel)',\n",
       "  'Sex Criminals (Image)',\n",
       "  'Sixth Gun (Oni)',\n",
       "  'Southern Bastards (Image)',\n",
       "  'Spider-Man Deadpool (Marvel)',\n",
       "  'Star Wars (Dark Horse)',\n",
       "  'Star Wars (Marvel)',\n",
       "  'Supergirl (DC)',\n",
       "  'Superior Spider-Man (Marvel)',\n",
       "  'Superman (DC)',\n",
       "  'Superman Unchained (DC)',\n",
       "  'Swamp Thing (DC)',\n",
       "  'Sweet Tooth (Vertigo)',\n",
       "  'Teen Titans (DC)',\n",
       "  'Thief of Thieves (Image)',\n",
       "  'Thor (Marvel)',\n",
       "  'Thor God of Thunder (Marvel)',\n",
       "  'Ultimate Comics Spider-Man (Marvel)',\n",
       "  'Unbeatable Squirrel Girl (Marvel)',\n",
       "  'Uncanny Avengers (Marvel)',\n",
       "  'Uncanny X-Force (Marvel)',\n",
       "  'Uncanny X-Men (Marvel)',\n",
       "  'Unwritten (Vertigo)',\n",
       "  'Venom (Marvel)',\n",
       "  'Walking Dead (Image)',\n",
       "  'Wicked & Divine (Image)',\n",
       "  'Wolverine and X-Men (Marvel)',\n",
       "  'Wonder Woman (DC)',\n",
       "  'X-Factor (Marvel)',\n",
       "  'X-Men (Marvel)',\n",
       "  'X-Men Legacy (Marvel)',\n",
       "  'Zombie Tramp Ongoing (Other)']}"
      ]
     },
     "execution_count": 34,
     "metadata": {},
     "output_type": "execute_result"
    }
   ],
   "source": [
    "top_100_dict"
   ]
  },
  {
   "cell_type": "code",
   "execution_count": 40,
   "metadata": {},
   "outputs": [],
   "source": [
    "zaz = pd.DataFrame(top_100_dict)"
   ]
  },
  {
   "cell_type": "code",
   "execution_count": 41,
   "metadata": {},
   "outputs": [
    {
     "data": {
      "text/html": [
       "<div>\n",
       "<style scoped>\n",
       "    .dataframe tbody tr th:only-of-type {\n",
       "        vertical-align: middle;\n",
       "    }\n",
       "\n",
       "    .dataframe tbody tr th {\n",
       "        vertical-align: top;\n",
       "    }\n",
       "\n",
       "    .dataframe thead th {\n",
       "        text-align: right;\n",
       "    }\n",
       "</style>\n",
       "<table border=\"1\" class=\"dataframe\">\n",
       "  <thead>\n",
       "    <tr style=\"text-align: right;\">\n",
       "      <th></th>\n",
       "      <th>comic_id</th>\n",
       "      <th>comic_title</th>\n",
       "    </tr>\n",
       "  </thead>\n",
       "  <tbody>\n",
       "    <tr>\n",
       "      <th>0</th>\n",
       "      <td>81</td>\n",
       "      <td>Action Comics (DC)</td>\n",
       "    </tr>\n",
       "    <tr>\n",
       "      <th>1</th>\n",
       "      <td>198</td>\n",
       "      <td>All New X-Men (Marvel)</td>\n",
       "    </tr>\n",
       "    <tr>\n",
       "      <th>2</th>\n",
       "      <td>224</td>\n",
       "      <td>Amazing Spider-Man (Marvel)</td>\n",
       "    </tr>\n",
       "    <tr>\n",
       "      <th>3</th>\n",
       "      <td>278</td>\n",
       "      <td>Animal Man (DC)</td>\n",
       "    </tr>\n",
       "    <tr>\n",
       "      <th>4</th>\n",
       "      <td>319</td>\n",
       "      <td>Aquaman (DC)</td>\n",
       "    </tr>\n",
       "    <tr>\n",
       "      <th>5</th>\n",
       "      <td>388</td>\n",
       "      <td>Astonishing X-Men (Marvel)</td>\n",
       "    </tr>\n",
       "    <tr>\n",
       "      <th>6</th>\n",
       "      <td>433</td>\n",
       "      <td>Avengers (2010) (Marvel)</td>\n",
       "    </tr>\n",
       "    <tr>\n",
       "      <th>7</th>\n",
       "      <td>455</td>\n",
       "      <td>Avengers (Marvel)</td>\n",
       "    </tr>\n",
       "    <tr>\n",
       "      <th>8</th>\n",
       "      <td>552</td>\n",
       "      <td>Batgirl (DC)</td>\n",
       "    </tr>\n",
       "    <tr>\n",
       "      <th>9</th>\n",
       "      <td>610</td>\n",
       "      <td>Batman (DC)</td>\n",
       "    </tr>\n",
       "    <tr>\n",
       "      <th>10</th>\n",
       "      <td>619</td>\n",
       "      <td>Batman Eternal (DC)</td>\n",
       "    </tr>\n",
       "    <tr>\n",
       "      <th>11</th>\n",
       "      <td>648</td>\n",
       "      <td>Batman Superman (DC)</td>\n",
       "    </tr>\n",
       "    <tr>\n",
       "      <th>12</th>\n",
       "      <td>578</td>\n",
       "      <td>Batman and Robin (DC)</td>\n",
       "    </tr>\n",
       "    <tr>\n",
       "      <th>13</th>\n",
       "      <td>691</td>\n",
       "      <td>Batwoman (DC)</td>\n",
       "    </tr>\n",
       "    <tr>\n",
       "      <th>14</th>\n",
       "      <td>804</td>\n",
       "      <td>Black Hammer (Dark Horse)</td>\n",
       "    </tr>\n",
       "    <tr>\n",
       "      <th>15</th>\n",
       "      <td>829</td>\n",
       "      <td>Black Panther (Marvel)</td>\n",
       "    </tr>\n",
       "    <tr>\n",
       "      <th>16</th>\n",
       "      <td>838</td>\n",
       "      <td>Black Science (Image)</td>\n",
       "    </tr>\n",
       "    <tr>\n",
       "      <th>17</th>\n",
       "      <td>960</td>\n",
       "      <td>Brightest Day (DC)</td>\n",
       "    </tr>\n",
       "    <tr>\n",
       "      <th>18</th>\n",
       "      <td>992</td>\n",
       "      <td>Btvs Season 9 Freefall (Dark Horse)</td>\n",
       "    </tr>\n",
       "    <tr>\n",
       "      <th>19</th>\n",
       "      <td>1077</td>\n",
       "      <td>Captain America (Marvel)</td>\n",
       "    </tr>\n",
       "    <tr>\n",
       "      <th>20</th>\n",
       "      <td>1143</td>\n",
       "      <td>Catwoman (DC)</td>\n",
       "    </tr>\n",
       "    <tr>\n",
       "      <th>21</th>\n",
       "      <td>1214</td>\n",
       "      <td>Chew (Image)</td>\n",
       "    </tr>\n",
       "    <tr>\n",
       "      <th>22</th>\n",
       "      <td>1345</td>\n",
       "      <td>Convergence (DC)</td>\n",
       "    </tr>\n",
       "    <tr>\n",
       "      <th>23</th>\n",
       "      <td>1492</td>\n",
       "      <td>Daredevil (Marvel)</td>\n",
       "    </tr>\n",
       "    <tr>\n",
       "      <th>24</th>\n",
       "      <td>1560</td>\n",
       "      <td>Darth Vader (Marvel)</td>\n",
       "    </tr>\n",
       "    <tr>\n",
       "      <th>25</th>\n",
       "      <td>1709</td>\n",
       "      <td>Deadpool (Marvel)</td>\n",
       "    </tr>\n",
       "    <tr>\n",
       "      <th>26</th>\n",
       "      <td>1801</td>\n",
       "      <td>Descender (Image)</td>\n",
       "    </tr>\n",
       "    <tr>\n",
       "      <th>27</th>\n",
       "      <td>1807</td>\n",
       "      <td>Detective Comics (DC)</td>\n",
       "    </tr>\n",
       "    <tr>\n",
       "      <th>28</th>\n",
       "      <td>1906</td>\n",
       "      <td>Doctor Strange (Marvel)</td>\n",
       "    </tr>\n",
       "    <tr>\n",
       "      <th>29</th>\n",
       "      <td>1963</td>\n",
       "      <td>Doomsday Clock (DC)</td>\n",
       "    </tr>\n",
       "    <tr>\n",
       "      <th>...</th>\n",
       "      <td>...</td>\n",
       "      <td>...</td>\n",
       "    </tr>\n",
       "    <tr>\n",
       "      <th>70</th>\n",
       "      <td>5506</td>\n",
       "      <td>Sixth Gun (Oni)</td>\n",
       "    </tr>\n",
       "    <tr>\n",
       "      <th>71</th>\n",
       "      <td>5600</td>\n",
       "      <td>Southern Bastards (Image)</td>\n",
       "    </tr>\n",
       "    <tr>\n",
       "      <th>72</th>\n",
       "      <td>5659</td>\n",
       "      <td>Spider-Man Deadpool (Marvel)</td>\n",
       "    </tr>\n",
       "    <tr>\n",
       "      <th>73</th>\n",
       "      <td>5836</td>\n",
       "      <td>Star Wars (Dark Horse)</td>\n",
       "    </tr>\n",
       "    <tr>\n",
       "      <th>74</th>\n",
       "      <td>5882</td>\n",
       "      <td>Star Wars (Marvel)</td>\n",
       "    </tr>\n",
       "    <tr>\n",
       "      <th>75</th>\n",
       "      <td>6019</td>\n",
       "      <td>Supergirl (DC)</td>\n",
       "    </tr>\n",
       "    <tr>\n",
       "      <th>76</th>\n",
       "      <td>6036</td>\n",
       "      <td>Superior Spider-Man (Marvel)</td>\n",
       "    </tr>\n",
       "    <tr>\n",
       "      <th>77</th>\n",
       "      <td>6052</td>\n",
       "      <td>Superman (DC)</td>\n",
       "    </tr>\n",
       "    <tr>\n",
       "      <th>78</th>\n",
       "      <td>6069</td>\n",
       "      <td>Superman Unchained (DC)</td>\n",
       "    </tr>\n",
       "    <tr>\n",
       "      <th>79</th>\n",
       "      <td>6099</td>\n",
       "      <td>Swamp Thing (DC)</td>\n",
       "    </tr>\n",
       "    <tr>\n",
       "      <th>80</th>\n",
       "      <td>6105</td>\n",
       "      <td>Sweet Tooth (Vertigo)</td>\n",
       "    </tr>\n",
       "    <tr>\n",
       "      <th>81</th>\n",
       "      <td>6175</td>\n",
       "      <td>Teen Titans (DC)</td>\n",
       "    </tr>\n",
       "    <tr>\n",
       "      <th>82</th>\n",
       "      <td>6243</td>\n",
       "      <td>Thief of Thieves (Image)</td>\n",
       "    </tr>\n",
       "    <tr>\n",
       "      <th>83</th>\n",
       "      <td>6262</td>\n",
       "      <td>Thor (Marvel)</td>\n",
       "    </tr>\n",
       "    <tr>\n",
       "      <th>84</th>\n",
       "      <td>6260</td>\n",
       "      <td>Thor God of Thunder (Marvel)</td>\n",
       "    </tr>\n",
       "    <tr>\n",
       "      <th>85</th>\n",
       "      <td>6667</td>\n",
       "      <td>Ultimate Comics Spider-Man (Marvel)</td>\n",
       "    </tr>\n",
       "    <tr>\n",
       "      <th>86</th>\n",
       "      <td>6681</td>\n",
       "      <td>Unbeatable Squirrel Girl (Marvel)</td>\n",
       "    </tr>\n",
       "    <tr>\n",
       "      <th>87</th>\n",
       "      <td>6684</td>\n",
       "      <td>Uncanny Avengers (Marvel)</td>\n",
       "    </tr>\n",
       "    <tr>\n",
       "      <th>88</th>\n",
       "      <td>6692</td>\n",
       "      <td>Uncanny X-Force (Marvel)</td>\n",
       "    </tr>\n",
       "    <tr>\n",
       "      <th>89</th>\n",
       "      <td>6694</td>\n",
       "      <td>Uncanny X-Men (Marvel)</td>\n",
       "    </tr>\n",
       "    <tr>\n",
       "      <th>90</th>\n",
       "      <td>6722</td>\n",
       "      <td>Unwritten (Vertigo)</td>\n",
       "    </tr>\n",
       "    <tr>\n",
       "      <th>91</th>\n",
       "      <td>6761</td>\n",
       "      <td>Venom (Marvel)</td>\n",
       "    </tr>\n",
       "    <tr>\n",
       "      <th>92</th>\n",
       "      <td>6824</td>\n",
       "      <td>Walking Dead (Image)</td>\n",
       "    </tr>\n",
       "    <tr>\n",
       "      <th>93</th>\n",
       "      <td>6937</td>\n",
       "      <td>Wicked &amp; Divine (Image)</td>\n",
       "    </tr>\n",
       "    <tr>\n",
       "      <th>94</th>\n",
       "      <td>6987</td>\n",
       "      <td>Wolverine and X-Men (Marvel)</td>\n",
       "    </tr>\n",
       "    <tr>\n",
       "      <th>95</th>\n",
       "      <td>7021</td>\n",
       "      <td>Wonder Woman (DC)</td>\n",
       "    </tr>\n",
       "    <tr>\n",
       "      <th>96</th>\n",
       "      <td>7079</td>\n",
       "      <td>X-Factor (Marvel)</td>\n",
       "    </tr>\n",
       "    <tr>\n",
       "      <th>97</th>\n",
       "      <td>7126</td>\n",
       "      <td>X-Men (Marvel)</td>\n",
       "    </tr>\n",
       "    <tr>\n",
       "      <th>98</th>\n",
       "      <td>7125</td>\n",
       "      <td>X-Men Legacy (Marvel)</td>\n",
       "    </tr>\n",
       "    <tr>\n",
       "      <th>99</th>\n",
       "      <td>7193</td>\n",
       "      <td>Zombie Tramp Ongoing (Other)</td>\n",
       "    </tr>\n",
       "  </tbody>\n",
       "</table>\n",
       "<p>100 rows × 2 columns</p>\n",
       "</div>"
      ],
      "text/plain": [
       "    comic_id                          comic_title\n",
       "0         81                   Action Comics (DC)\n",
       "1        198               All New X-Men (Marvel)\n",
       "2        224          Amazing Spider-Man (Marvel)\n",
       "3        278                      Animal Man (DC)\n",
       "4        319                         Aquaman (DC)\n",
       "5        388           Astonishing X-Men (Marvel)\n",
       "6        433             Avengers (2010) (Marvel)\n",
       "7        455                    Avengers (Marvel)\n",
       "8        552                         Batgirl (DC)\n",
       "9        610                          Batman (DC)\n",
       "10       619                  Batman Eternal (DC)\n",
       "11       648                 Batman Superman (DC)\n",
       "12       578                Batman and Robin (DC)\n",
       "13       691                        Batwoman (DC)\n",
       "14       804            Black Hammer (Dark Horse)\n",
       "15       829               Black Panther (Marvel)\n",
       "16       838                Black Science (Image)\n",
       "17       960                   Brightest Day (DC)\n",
       "18       992  Btvs Season 9 Freefall (Dark Horse)\n",
       "19      1077             Captain America (Marvel)\n",
       "20      1143                        Catwoman (DC)\n",
       "21      1214                         Chew (Image)\n",
       "22      1345                     Convergence (DC)\n",
       "23      1492                   Daredevil (Marvel)\n",
       "24      1560                 Darth Vader (Marvel)\n",
       "25      1709                    Deadpool (Marvel)\n",
       "26      1801                    Descender (Image)\n",
       "27      1807                Detective Comics (DC)\n",
       "28      1906              Doctor Strange (Marvel)\n",
       "29      1963                  Doomsday Clock (DC)\n",
       "..       ...                                  ...\n",
       "70      5506                      Sixth Gun (Oni)\n",
       "71      5600            Southern Bastards (Image)\n",
       "72      5659         Spider-Man Deadpool (Marvel)\n",
       "73      5836               Star Wars (Dark Horse)\n",
       "74      5882                   Star Wars (Marvel)\n",
       "75      6019                       Supergirl (DC)\n",
       "76      6036         Superior Spider-Man (Marvel)\n",
       "77      6052                        Superman (DC)\n",
       "78      6069              Superman Unchained (DC)\n",
       "79      6099                     Swamp Thing (DC)\n",
       "80      6105                Sweet Tooth (Vertigo)\n",
       "81      6175                     Teen Titans (DC)\n",
       "82      6243             Thief of Thieves (Image)\n",
       "83      6262                        Thor (Marvel)\n",
       "84      6260         Thor God of Thunder (Marvel)\n",
       "85      6667  Ultimate Comics Spider-Man (Marvel)\n",
       "86      6681    Unbeatable Squirrel Girl (Marvel)\n",
       "87      6684            Uncanny Avengers (Marvel)\n",
       "88      6692             Uncanny X-Force (Marvel)\n",
       "89      6694               Uncanny X-Men (Marvel)\n",
       "90      6722                  Unwritten (Vertigo)\n",
       "91      6761                       Venom (Marvel)\n",
       "92      6824                 Walking Dead (Image)\n",
       "93      6937              Wicked & Divine (Image)\n",
       "94      6987         Wolverine and X-Men (Marvel)\n",
       "95      7021                    Wonder Woman (DC)\n",
       "96      7079                    X-Factor (Marvel)\n",
       "97      7126                       X-Men (Marvel)\n",
       "98      7125                X-Men Legacy (Marvel)\n",
       "99      7193         Zombie Tramp Ongoing (Other)\n",
       "\n",
       "[100 rows x 2 columns]"
      ]
     },
     "execution_count": 41,
     "metadata": {},
     "output_type": "execute_result"
    }
   ],
   "source": [
    "zaz"
   ]
  },
  {
   "cell_type": "markdown",
   "metadata": {},
   "source": [
    "### Export back out to csv"
   ]
  },
  {
   "cell_type": "code",
   "execution_count": 56,
   "metadata": {},
   "outputs": [],
   "source": [
    "top_100.to_csv('./webapp/templates/dev_files/top_100_comics.csv', \n",
    "               index=False)"
   ]
  },
  {
   "cell_type": "markdown",
   "metadata": {},
   "source": [
    "### Make lists"
   ]
  },
  {
   "cell_type": "code",
   "execution_count": 45,
   "metadata": {},
   "outputs": [],
   "source": [
    "coms = pd.read_csv('./webapp/templates/dev_files/top_100_comics.csv')"
   ]
  },
  {
   "cell_type": "code",
   "execution_count": 46,
   "metadata": {},
   "outputs": [
    {
     "data": {
      "text/html": [
       "<div>\n",
       "<style scoped>\n",
       "    .dataframe tbody tr th:only-of-type {\n",
       "        vertical-align: middle;\n",
       "    }\n",
       "\n",
       "    .dataframe tbody tr th {\n",
       "        vertical-align: top;\n",
       "    }\n",
       "\n",
       "    .dataframe thead th {\n",
       "        text-align: right;\n",
       "    }\n",
       "</style>\n",
       "<table border=\"1\" class=\"dataframe\">\n",
       "  <thead>\n",
       "    <tr style=\"text-align: right;\">\n",
       "      <th></th>\n",
       "      <th>comic_id</th>\n",
       "      <th>comic_title</th>\n",
       "    </tr>\n",
       "  </thead>\n",
       "  <tbody>\n",
       "    <tr>\n",
       "      <th>0</th>\n",
       "      <td>81</td>\n",
       "      <td>Action Comics (DC)</td>\n",
       "    </tr>\n",
       "    <tr>\n",
       "      <th>1</th>\n",
       "      <td>198</td>\n",
       "      <td>All New X-Men (Marvel)</td>\n",
       "    </tr>\n",
       "    <tr>\n",
       "      <th>2</th>\n",
       "      <td>224</td>\n",
       "      <td>Amazing Spider-Man (Marvel)</td>\n",
       "    </tr>\n",
       "    <tr>\n",
       "      <th>3</th>\n",
       "      <td>278</td>\n",
       "      <td>Animal Man (DC)</td>\n",
       "    </tr>\n",
       "    <tr>\n",
       "      <th>4</th>\n",
       "      <td>319</td>\n",
       "      <td>Aquaman (DC)</td>\n",
       "    </tr>\n",
       "  </tbody>\n",
       "</table>\n",
       "</div>"
      ],
      "text/plain": [
       "   comic_id                  comic_title\n",
       "0        81           Action Comics (DC)\n",
       "1       198       All New X-Men (Marvel)\n",
       "2       224  Amazing Spider-Man (Marvel)\n",
       "3       278              Animal Man (DC)\n",
       "4       319                 Aquaman (DC)"
      ]
     },
     "execution_count": 46,
     "metadata": {},
     "output_type": "execute_result"
    }
   ],
   "source": [
    "coms.head()"
   ]
  },
  {
   "cell_type": "code",
   "execution_count": 47,
   "metadata": {},
   "outputs": [],
   "source": [
    "ids = coms['comic_id'].tolist()"
   ]
  },
  {
   "cell_type": "code",
   "execution_count": 48,
   "metadata": {},
   "outputs": [],
   "source": [
    "titles = coms['comic_title'].tolist()"
   ]
  },
  {
   "cell_type": "code",
   "execution_count": 49,
   "metadata": {},
   "outputs": [
    {
     "data": {
      "text/plain": [
       "[81, 198, 224, 278, 319, 388, 433, 455, 552, 610]"
      ]
     },
     "execution_count": 49,
     "metadata": {},
     "output_type": "execute_result"
    }
   ],
   "source": [
    "ids[:10]"
   ]
  },
  {
   "cell_type": "code",
   "execution_count": 43,
   "metadata": {},
   "outputs": [
    {
     "ename": "NameError",
     "evalue": "name 'titles' is not defined",
     "output_type": "error",
     "traceback": [
      "\u001b[0;31m---------------------------------------------------------------------------\u001b[0m",
      "\u001b[0;31mNameError\u001b[0m                                 Traceback (most recent call last)",
      "\u001b[0;32m<ipython-input-43-c054aed9ea7c>\u001b[0m in \u001b[0;36m<module>\u001b[0;34m()\u001b[0m\n\u001b[0;32m----> 1\u001b[0;31m \u001b[0mtitles\u001b[0m\u001b[0;34m[\u001b[0m\u001b[0;34m:\u001b[0m\u001b[0;36m10\u001b[0m\u001b[0;34m]\u001b[0m\u001b[0;34m\u001b[0m\u001b[0m\n\u001b[0m",
      "\u001b[0;31mNameError\u001b[0m: name 'titles' is not defined"
     ]
    }
   ],
   "source": [
    "titles[:10]"
   ]
  },
  {
   "cell_type": "code",
   "execution_count": 50,
   "metadata": {},
   "outputs": [
    {
     "data": {
      "text/plain": [
       "'dfdfdfddfdfdfdfdfdfdfdfdf'"
      ]
     },
     "execution_count": 50,
     "metadata": {},
     "output_type": "execute_result"
    }
   ],
   "source": [
    "ddd = (\"dfdfdfd\" +\n",
    "        \"dfdfdfdf\" +\n",
    "        \"dfdfdfdfdf\" )\n",
    "ddd\n"
   ]
  },
  {
   "cell_type": "code",
   "execution_count": 52,
   "metadata": {},
   "outputs": [],
   "source": [
    "zzz = coms.head(5)['comic_title']"
   ]
  },
  {
   "cell_type": "code",
   "execution_count": 53,
   "metadata": {},
   "outputs": [
    {
     "data": {
      "text/plain": [
       "0             Action Comics (DC)\n",
       "1         All New X-Men (Marvel)\n",
       "2    Amazing Spider-Man (Marvel)\n",
       "3                Animal Man (DC)\n",
       "4                   Aquaman (DC)\n",
       "Name: comic_title, dtype: object"
      ]
     },
     "execution_count": 53,
     "metadata": {},
     "output_type": "execute_result"
    }
   ],
   "source": [
    "zzz"
   ]
  },
  {
   "cell_type": "code",
   "execution_count": 54,
   "metadata": {},
   "outputs": [
    {
     "data": {
      "text/plain": [
       "pandas.core.series.Series"
      ]
     },
     "execution_count": 54,
     "metadata": {},
     "output_type": "execute_result"
    }
   ],
   "source": [
    "type(zzz)"
   ]
  },
  {
   "cell_type": "code",
   "execution_count": 56,
   "metadata": {},
   "outputs": [
    {
     "name": "stdout",
     "output_type": "stream",
     "text": [
      "Action Comics (DC)\n",
      "All New X-Men (Marvel)\n",
      "Amazing Spider-Man (Marvel)\n",
      "Animal Man (DC)\n",
      "Aquaman (DC)\n"
     ]
    }
   ],
   "source": [
    "for i, row in zzz.iteritems():\n",
    "    print(row)"
   ]
  },
  {
   "cell_type": "code",
   "execution_count": 57,
   "metadata": {},
   "outputs": [],
   "source": [
    "import flask"
   ]
  },
  {
   "cell_type": "code",
   "execution_count": 58,
   "metadata": {},
   "outputs": [],
   "source": [
    "from flask import Flask, request, render_template, jsonify, session, redirect, make_response"
   ]
  },
  {
   "cell_type": "code",
   "execution_count": 70,
   "metadata": {},
   "outputs": [],
   "source": [
    "www = [{'comic_id': 81, 'comic_title': 'Action Comics (DC)'}, {'comic_id': 198, 'comic_title': 'All New X-Men (Marvel)'}, {'comic_id': 224, 'comic_title': 'Amazing Spider-Man (Marvel)'}, {'comic_id': 278, 'comic_title': 'Animal Man (DC)'}, {'comic_id': 319, 'comic_title': 'Aquaman (DC)'}]"
   ]
  },
  {
   "cell_type": "code",
   "execution_count": 71,
   "metadata": {},
   "outputs": [
    {
     "data": {
      "text/plain": [
       "[{'comic_id': 81, 'comic_title': 'Action Comics (DC)'},\n",
       " {'comic_id': 198, 'comic_title': 'All New X-Men (Marvel)'},\n",
       " {'comic_id': 224, 'comic_title': 'Amazing Spider-Man (Marvel)'},\n",
       " {'comic_id': 278, 'comic_title': 'Animal Man (DC)'},\n",
       " {'comic_id': 319, 'comic_title': 'Aquaman (DC)'}]"
      ]
     },
     "execution_count": 71,
     "metadata": {},
     "output_type": "execute_result"
    }
   ],
   "source": [
    "www"
   ]
  },
  {
   "cell_type": "code",
   "execution_count": 72,
   "metadata": {},
   "outputs": [
    {
     "data": {
      "text/plain": [
       "list"
      ]
     },
     "execution_count": 72,
     "metadata": {},
     "output_type": "execute_result"
    }
   ],
   "source": [
    "type(www)"
   ]
  },
  {
   "cell_type": "code",
   "execution_count": 73,
   "metadata": {},
   "outputs": [
    {
     "data": {
      "text/plain": [
       "{'comic_id': 81, 'comic_title': 'Action Comics (DC)'}"
      ]
     },
     "execution_count": 73,
     "metadata": {},
     "output_type": "execute_result"
    }
   ],
   "source": [
    "\n",
    "www[0]"
   ]
  },
  {
   "cell_type": "code",
   "execution_count": 74,
   "metadata": {},
   "outputs": [
    {
     "data": {
      "text/plain": [
       "81"
      ]
     },
     "execution_count": 74,
     "metadata": {},
     "output_type": "execute_result"
    }
   ],
   "source": [
    "www[0]['comic_id']"
   ]
  },
  {
   "cell_type": "code",
   "execution_count": null,
   "metadata": {},
   "outputs": [],
   "source": []
  }
 ],
 "metadata": {
  "kernelspec": {
   "display_name": "Python 3",
   "language": "python",
   "name": "python3"
  },
  "language_info": {
   "codemirror_mode": {
    "name": "ipython",
    "version": 3
   },
   "file_extension": ".py",
   "mimetype": "text/x-python",
   "name": "python",
   "nbconvert_exporter": "python",
   "pygments_lexer": "ipython3",
   "version": "3.6.6"
  }
 },
 "nbformat": 4,
 "nbformat_minor": 2
}
