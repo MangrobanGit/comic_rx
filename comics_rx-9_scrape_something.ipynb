{
 "cells": [
  {
   "cell_type": "code",
   "execution_count": 223,
   "metadata": {},
   "outputs": [],
   "source": [
    "import requests\n",
    "import random\n",
    "import time\n",
    "from selenium.webdriver import Firefox\n",
    "from selenium.webdriver.common.keys import Keys\n",
    "from selenium.webdriver.support.ui import Select\n",
    "# from scrape_functions import (\n",
    "#     get_comic_title,\n",
    "#     find_image,\n",
    "#     scrape_image,\n",
    "#     get_prev)"
   ]
  },
  {
   "cell_type": "markdown",
   "metadata": {},
   "source": [
    "### Initialize Stuff"
   ]
  },
  {
   "cell_type": "code",
   "execution_count": 243,
   "metadata": {},
   "outputs": [],
   "source": [
    "browser = Firefox()\n",
    "url = \"http://www.comicbookdb.com/\"\n",
    "browser.get(url)"
   ]
  },
  {
   "cell_type": "markdown",
   "metadata": {},
   "source": [
    "## Search on Title"
   ]
  },
  {
   "cell_type": "code",
   "execution_count": 248,
   "metadata": {},
   "outputs": [],
   "source": [
    "title_search = \"Paper Girls\""
   ]
  },
  {
   "cell_type": "code",
   "execution_count": 249,
   "metadata": {},
   "outputs": [],
   "source": [
    "text_area = browser.find_element_by_id('form_search')"
   ]
  },
  {
   "cell_type": "code",
   "execution_count": 250,
   "metadata": {},
   "outputs": [],
   "source": [
    "text_area.send_keys(Keys.CONTROL, \"a\") \n",
    "text_area.send_keys(title_search)"
   ]
  },
  {
   "cell_type": "code",
   "execution_count": 251,
   "metadata": {},
   "outputs": [],
   "source": [
    "search_type = Select(browser.find_element_by_name('form_searchtype'))"
   ]
  },
  {
   "cell_type": "markdown",
   "metadata": {},
   "source": [
    "mySelect = Select(driver.find_element_by_id(\"mySelectID\"))"
   ]
  },
  {
   "cell_type": "code",
   "execution_count": 252,
   "metadata": {},
   "outputs": [],
   "source": [
    "search_type.select_by_value('Title')"
   ]
  },
  {
   "cell_type": "code",
   "execution_count": 253,
   "metadata": {},
   "outputs": [],
   "source": [
    "search_button = browser.find_element_by_xpath('/html/body/table/tbody/tr[2]/td[1]/table/tbody/tr[4]/td/form/input[2]')"
   ]
  },
  {
   "cell_type": "code",
   "execution_count": 254,
   "metadata": {},
   "outputs": [],
   "source": [
    "search_button.click()"
   ]
  },
  {
   "cell_type": "markdown",
   "metadata": {},
   "source": [
    "## Click on first result"
   ]
  },
  {
   "cell_type": "code",
   "execution_count": 263,
   "metadata": {},
   "outputs": [],
   "source": [
    "first_issue_link = browser.find_element_by_partial_link_text(title_search)"
   ]
  },
  {
   "cell_type": "code",
   "execution_count": 264,
   "metadata": {},
   "outputs": [],
   "source": [
    "first_issue_link.click()"
   ]
  },
  {
   "cell_type": "markdown",
   "metadata": {},
   "source": [
    "## Go to Cover Gallery"
   ]
  },
  {
   "cell_type": "code",
   "execution_count": 265,
   "metadata": {},
   "outputs": [],
   "source": [
    "gb_xpath=\"/html/body/table/tbody/tr[2]/td[3]/table[1]/tbody/tr/td/a[3]/img\""
   ]
  },
  {
   "cell_type": "code",
   "execution_count": 266,
   "metadata": {},
   "outputs": [],
   "source": [
    "gallery_btn = browser.find_element_by_xpath(gb_xpath)"
   ]
  },
  {
   "cell_type": "code",
   "execution_count": 267,
   "metadata": {},
   "outputs": [],
   "source": [
    "gallery_btn.click()"
   ]
  },
  {
   "cell_type": "markdown",
   "metadata": {},
   "source": [
    "## Get First Image"
   ]
  },
  {
   "cell_type": "code",
   "execution_count": 273,
   "metadata": {},
   "outputs": [],
   "source": [
    "first_img_path = '/html/body/table/tbody/tr[2]/td[3]/table/tbody/tr[1]/td[1]/a/img'"
   ]
  },
  {
   "cell_type": "code",
   "execution_count": 274,
   "metadata": {},
   "outputs": [],
   "source": [
    "first_img = browser.find_element_by_xpath(first_img_path)"
   ]
  },
  {
   "cell_type": "code",
   "execution_count": 275,
   "metadata": {},
   "outputs": [],
   "source": [
    "filename = 'testimage.jpg'"
   ]
  },
  {
   "cell_type": "code",
   "execution_count": 276,
   "metadata": {},
   "outputs": [],
   "source": [
    "def scrape_image(img, filename):\n",
    "    \"\"\"Save an image element as filename\"\"\"\n",
    "    response = requests.get(img.get_attribute('src'))\n",
    "    img_data = response.content\n",
    "    with open(filename, 'wb') as f:\n",
    "        f.write(img_data)"
   ]
  },
  {
   "cell_type": "code",
   "execution_count": 277,
   "metadata": {},
   "outputs": [],
   "source": [
    "scrape_image(first_img, filename)"
   ]
  },
  {
   "cell_type": "code",
   "execution_count": 278,
   "metadata": {},
   "outputs": [
    {
     "name": "stdout",
     "output_type": "stream",
     "text": [
      "LICENSE\r\n",
      "README.md\r\n",
      "\u001b[34m__pycache__\u001b[m\u001b[m\r\n",
      "\u001b[34mals_filtered\u001b[m\u001b[m\r\n",
      "\u001b[34mals_use\u001b[m\u001b[m\r\n",
      "app.py\r\n",
      "\u001b[34marchive\u001b[m\u001b[m\r\n",
      "\u001b[34massets\u001b[m\u001b[m\r\n",
      "code_archive.py\r\n",
      "comic_recs.py\r\n",
      "comics_rx-1_data_prep.ipynb\r\n",
      "comics_rx-2_eda.ipynb\r\n",
      "comics_rx-3_als_all_data.ipynb\r\n",
      "comics_rx-4_als_reduced_data.ipynb\r\n",
      "comics_rx-5_pseudo_deploy.ipynb\r\n",
      "comics_rx-6_als_reduced_data_gs_cv.ipynb\r\n",
      "comics_rx-7_mvp_dev.ipynb\r\n",
      "comics_rx-8_recommender_poc.ipynb\r\n",
      "comics_rx-9_scrape_something.ipynb\r\n",
      "data_fcns.py\r\n",
      "\u001b[34mdev\u001b[m\u001b[m\r\n",
      "geckodriver.log\r\n",
      "keys.py\r\n",
      "\u001b[34mraw_data\u001b[m\u001b[m\r\n",
      "\u001b[34mreferences\u001b[m\u001b[m\r\n",
      "scrapes.py\r\n",
      "\u001b[34mscratch\u001b[m\u001b[m\r\n",
      "spam_model.pkl\r\n",
      "\u001b[34mstatic\u001b[m\u001b[m\r\n",
      "\u001b[34msupport_data\u001b[m\u001b[m\r\n",
      "\u001b[34mtemplates\u001b[m\u001b[m\r\n",
      "testimage.jpg\r\n",
      "\u001b[34mversions\u001b[m\u001b[m\r\n"
     ]
    }
   ],
   "source": [
    "!ls"
   ]
  },
  {
   "cell_type": "code",
   "execution_count": 279,
   "metadata": {},
   "outputs": [],
   "source": [
    "!open testimage.jpg"
   ]
  },
  {
   "cell_type": "code",
   "execution_count": null,
   "metadata": {},
   "outputs": [],
   "source": []
  },
  {
   "cell_type": "code",
   "execution_count": null,
   "metadata": {},
   "outputs": [],
   "source": []
  },
  {
   "cell_type": "markdown",
   "metadata": {},
   "source": [
    "---"
   ]
  },
  {
   "cell_type": "markdown",
   "metadata": {},
   "source": [
    "# Graveyard"
   ]
  },
  {
   "cell_type": "markdown",
   "metadata": {},
   "source": [
    "driver.switch_to.frame(\"textarea_iframe\")\n",
    "driver.find_element_by_id(\"textarea_body\").send_keys(\"test\")"
   ]
  },
  {
   "cell_type": "code",
   "execution_count": 5,
   "metadata": {},
   "outputs": [
    {
     "name": "stdout",
     "output_type": "stream",
     "text": [
      "403\n"
     ]
    }
   ],
   "source": [
    "# # Make a get request to get the latest position of the international space station from the opennotify api.\n",
    "# response = requests.get(\"http://comicvine.gamespot.com/api/issues/?api_key=a37ae31a97b22e5d73c9e72d5b7496e51cb7e469\")\n",
    "\n",
    "# # Print the status code of the response.\n",
    "# print(response.status_code)"
   ]
  }
 ],
 "metadata": {
  "kernelspec": {
   "display_name": "Python 3",
   "language": "python",
   "name": "python3"
  },
  "language_info": {
   "codemirror_mode": {
    "name": "ipython",
    "version": 3
   },
   "file_extension": ".py",
   "mimetype": "text/x-python",
   "name": "python",
   "nbconvert_exporter": "python",
   "pygments_lexer": "ipython3",
   "version": "3.6.6"
  }
 },
 "nbformat": 4,
 "nbformat_minor": 2
}
