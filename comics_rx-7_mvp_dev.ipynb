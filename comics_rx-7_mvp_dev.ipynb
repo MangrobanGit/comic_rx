{
 "cells": [
  {
   "cell_type": "markdown",
   "metadata": {},
   "source": [
    "# Comics Rx\n",
    "## [A comic book recommendation system](https://github.com/MangrobanGit/comics_rx)\n",
    "<img src=\"https://images.unsplash.com/photo-1514329926535-7f6dbfbfb114?ixlib=rb-1.2.1&ixid=eyJhcHBfaWQiOjEyMDd9&auto=format&fit=crop&w=2850&q=80\" width=\"400\" align='left'>"
   ]
  },
  {
   "cell_type": "markdown",
   "metadata": {},
   "source": [
    "---"
   ]
  },
  {
   "cell_type": "markdown",
   "metadata": {},
   "source": [
    "# Libraries"
   ]
  },
  {
   "cell_type": "code",
   "execution_count": 2,
   "metadata": {},
   "outputs": [
    {
     "name": "stdout",
     "output_type": "stream",
     "text": [
      "The autoreload extension is already loaded. To reload it, use:\n",
      "  %reload_ext autoreload\n"
     ]
    }
   ],
   "source": [
    "%matplotlib inline\n",
    "%load_ext autoreload\n",
    "# %autoreload 1 #would be where you need to specify the files\n",
    "# %aimport comic_recs\n",
    "\n",
    "import pandas as pd # dataframes\n",
    "import os\n",
    "import pickle\n",
    "\n",
    "# Data storage\n",
    "from sqlalchemy import create_engine # SQL helper\n",
    "#import psycopg2 as psql #PostgreSQL DBs\n",
    "\n",
    "# import necessary libraries\n",
    "import pyspark\n",
    "from pyspark.sql import SparkSession\n",
    "from pyspark.ml.evaluation import RegressionEvaluator\n",
    "# from pyspark.sql.types import (StructType, StructField, IntegerType\n",
    "#                                ,FloatType, LongType, StringType)\n",
    "from pyspark.sql.types import *\n",
    "\n",
    "import pyspark.sql.functions as F\n",
    "from pyspark.sql.functions import col, explode, lit, isnan, when, count\n",
    "from pyspark.ml.recommendation import ALS, ALSModel\n",
    "from pyspark.ml.evaluation import RegressionEvaluator\n",
    "from pyspark.ml.tuning import CrossValidator, ParamGridBuilder, TrainValidationSplit\n",
    "from pyspark.ml.evaluation import BinaryClassificationEvaluator\n",
    "from pyspark.sql import DataFrame\n",
    "\n",
    "# Custom\n",
    "import lib.data_fcns as dfc\n",
    "import lib.keys  # Custom keys lib\n",
    "import lib.comic_recs as cr\n",
    "\n",
    "import time\n",
    "import itertools\n",
    "from functools import reduce\n",
    "import numpy as np"
   ]
  },
  {
   "cell_type": "code",
   "execution_count": 3,
   "metadata": {},
   "outputs": [],
   "source": [
    "# spark config\n",
    "spark = SparkSession \\\n",
    "    .builder \\\n",
    "    .appName(\"movie recommendation\") \\\n",
    "    .config(\"spark.driver.maxResultSize\", \"1g\") \\\n",
    "    .config(\"spark.driver.memory\", \"1g\") \\\n",
    "    .config(\"spark.executor.memory\", \"16g\") \\\n",
    "    .config(\"spark.master\", \"local[*]\") \\\n",
    "    .getOrCreate()\n",
    "# get spark context\n",
    "#sc = spark.sparkContext"
   ]
  },
  {
   "cell_type": "markdown",
   "metadata": {},
   "source": [
    "## Import Data\n",
    "\n",
    "We've previously set aside the dataset into a `json` file."
   ]
  },
  {
   "cell_type": "code",
   "execution_count": 4,
   "metadata": {},
   "outputs": [],
   "source": [
    "# We have previously created a version of the transactions table and filtered it down.\n",
    "sold = spark.read.json('raw_data/als_input_filtered.json')"
   ]
  },
  {
   "cell_type": "code",
   "execution_count": 5,
   "metadata": {},
   "outputs": [
    {
     "data": {
      "text/plain": [
       "DataFrame[account_id: bigint, bought: bigint, comic_id: bigint]"
      ]
     },
     "execution_count": 5,
     "metadata": {},
     "output_type": "execute_result"
    }
   ],
   "source": [
    "# Persist the data\n",
    "sold.persist()"
   ]
  },
  {
   "cell_type": "markdown",
   "metadata": {},
   "source": [
    "# New Users"
   ]
  },
  {
   "cell_type": "markdown",
   "metadata": {},
   "source": [
    "Let's develop an input process that uses titles, rather than pulling the specific person's info from the modeling data."
   ]
  },
  {
   "cell_type": "code",
   "execution_count": 5,
   "metadata": {},
   "outputs": [
    {
     "data": {
      "text/plain": [
       "DataFrame[comic_id: bigint, comic_title: string]"
      ]
     },
     "execution_count": 5,
     "metadata": {},
     "output_type": "execute_result"
    }
   ],
   "source": [
    "comics_df = spark.read.json('support_data/comics.json')\n",
    "comics_df.persist()"
   ]
  },
  {
   "cell_type": "code",
   "execution_count": 6,
   "metadata": {},
   "outputs": [],
   "source": [
    "sample_buys = ['Sweet Tooth', 'Paper Girls']"
   ]
  },
  {
   "cell_type": "code",
   "execution_count": 7,
   "metadata": {},
   "outputs": [],
   "source": [
    "sample_buys = ['Spider-Man', 'Paper Girls']"
   ]
  },
  {
   "cell_type": "markdown",
   "metadata": {},
   "source": [
    "### Get matching 'official titles'"
   ]
  },
  {
   "cell_type": "code",
   "execution_count": 8,
   "metadata": {},
   "outputs": [],
   "source": [
    "def get_comic_ids_for_user(comics_df, read_comics_list):\n",
    "    \"\"\"\n",
    "    Given spark DF of existing comics and list of comics to 'match'\n",
    "    Return list of like comics from the DF\n",
    "    \"\"\"\n",
    "    # Initialize\n",
    "    similar_comics_list = []\n",
    "    \n",
    "    for comic in read_comics_list:\n",
    "        # print(comic)\n",
    "        # Search for comic in df\n",
    "        matched_comics = (comics_df.filter(lower(comics_df['comic_title'])\n",
    "                                 .contains(str.lower(comic)))\n",
    "                                 .select('comic_id').rdd\n",
    "                                 .flatMap(lambda x: x).collect()\n",
    "                         )\n",
    "        similar_comics_list.extend(matched_comics)\n",
    "        \n",
    "    return similar_comics_list\n"
   ]
  },
  {
   "cell_type": "markdown",
   "metadata": {},
   "source": [
    "#### Testing"
   ]
  },
  {
   "cell_type": "code",
   "execution_count": 9,
   "metadata": {},
   "outputs": [
    {
     "ename": "NameError",
     "evalue": "name 'lower' is not defined",
     "output_type": "error",
     "traceback": [
      "\u001b[0;31m---------------------------------------------------------------------------\u001b[0m",
      "\u001b[0;31mNameError\u001b[0m                                 Traceback (most recent call last)",
      "\u001b[0;32m<ipython-input-9-505485b04680>\u001b[0m in \u001b[0;36m<module>\u001b[0;34m\u001b[0m\n\u001b[0;32m----> 1\u001b[0;31m \u001b[0mcurr_comic_ids\u001b[0m \u001b[0;34m=\u001b[0m \u001b[0mget_comic_ids_for_user\u001b[0m\u001b[0;34m(\u001b[0m\u001b[0mcomics_df\u001b[0m\u001b[0;34m,\u001b[0m \u001b[0msample_buys\u001b[0m\u001b[0;34m)\u001b[0m\u001b[0;34m\u001b[0m\u001b[0;34m\u001b[0m\u001b[0m\n\u001b[0m",
      "\u001b[0;32m<ipython-input-8-2f983d9faa25>\u001b[0m in \u001b[0;36mget_comic_ids_for_user\u001b[0;34m(comics_df, read_comics_list)\u001b[0m\n\u001b[1;32m     10\u001b[0m         \u001b[0;31m# print(comic)\u001b[0m\u001b[0;34m\u001b[0m\u001b[0;34m\u001b[0m\u001b[0;34m\u001b[0m\u001b[0m\n\u001b[1;32m     11\u001b[0m         \u001b[0;31m# Search for comic in df\u001b[0m\u001b[0;34m\u001b[0m\u001b[0;34m\u001b[0m\u001b[0;34m\u001b[0m\u001b[0m\n\u001b[0;32m---> 12\u001b[0;31m         matched_comics = (comics_df.filter(lower(comics_df['comic_title'])\n\u001b[0m\u001b[1;32m     13\u001b[0m                                  .contains(str.lower(comic)))\n\u001b[1;32m     14\u001b[0m                                  \u001b[0;34m.\u001b[0m\u001b[0mselect\u001b[0m\u001b[0;34m(\u001b[0m\u001b[0;34m'comic_id'\u001b[0m\u001b[0;34m)\u001b[0m\u001b[0;34m.\u001b[0m\u001b[0mrdd\u001b[0m\u001b[0;34m\u001b[0m\u001b[0;34m\u001b[0m\u001b[0m\n",
      "\u001b[0;31mNameError\u001b[0m: name 'lower' is not defined"
     ]
    }
   ],
   "source": [
    "curr_comic_ids = get_comic_ids_for_user(comics_df, sample_buys)"
   ]
  },
  {
   "cell_type": "markdown",
   "metadata": {},
   "source": [
    "### Add user"
   ]
  },
  {
   "cell_type": "code",
   "execution_count": 210,
   "metadata": {},
   "outputs": [],
   "source": [
    "def create_acct_id(model_data):\n",
    "    \"\"\"\n",
    "    Given model data, create new account id that is just the max existing +1\n",
    "    \"\"\"\n",
    "    # Get max account id\n",
    "    max_acct_id = model_data.agg({'account_id':'max'}).collect()[0][0]\n",
    "\n",
    "    # New Account id\n",
    "    new_acct_id = max_acct_id + 1\n",
    "    \n",
    "    return new_acct_id"
   ]
  },
  {
   "cell_type": "code",
   "execution_count": 211,
   "metadata": {},
   "outputs": [],
   "source": [
    "def add_new_user(model_data, new_comic_ids, new_acct_id):\n",
    "    \"\"\"\n",
    "    Given existing model data and the comic ids for new user,\n",
    "    add rows for the new user to model data\n",
    "    \"\"\"\n",
    "#     # Get max account id\n",
    "#     max_acct_id = model_data.agg({'account_id':'max'}).collect()[0][0]\n",
    "\n",
    "#     # New Account id\n",
    "#     new_acct_id = max_acct_id + 1\n",
    "    \n",
    "    # Create spark Df of new rows\n",
    "    new_rows = spark.createDataFrame([\n",
    "                (new_acct_id, 1, comic_id) for comic_id in new_comic_ids])\n",
    "\n",
    "    # Append to existing model data\n",
    "    model_data_new = model_data.union(new_rows)\n",
    "    \n",
    "    return model_data_new"
   ]
  },
  {
   "cell_type": "markdown",
   "metadata": {},
   "source": [
    "#### Testing"
   ]
  },
  {
   "cell_type": "code",
   "execution_count": 297,
   "metadata": {},
   "outputs": [],
   "source": [
    "new_id = create_acct_id(sold)"
   ]
  },
  {
   "cell_type": "code",
   "execution_count": 305,
   "metadata": {},
   "outputs": [],
   "source": [
    "test_sold = add_new_user(sold, curr_comic_ids, new_id)"
   ]
  },
  {
   "cell_type": "code",
   "execution_count": 306,
   "metadata": {},
   "outputs": [
    {
     "data": {
      "text/plain": [
       "61945"
      ]
     },
     "execution_count": 306,
     "metadata": {},
     "output_type": "execute_result"
    }
   ],
   "source": [
    "test_sold.count()"
   ]
  },
  {
   "cell_type": "code",
   "execution_count": 307,
   "metadata": {},
   "outputs": [
    {
     "data": {
      "text/plain": [
       "61871"
      ]
     },
     "execution_count": 307,
     "metadata": {},
     "output_type": "execute_result"
    }
   ],
   "source": [
    "sold.count()"
   ]
  },
  {
   "cell_type": "markdown",
   "metadata": {},
   "source": [
    "### Train On New Data"
   ]
  },
  {
   "cell_type": "code",
   "execution_count": 178,
   "metadata": {},
   "outputs": [],
   "source": [
    "# Create dictionary of candidate parameters\n",
    "current_params = {'maxIter': 20\n",
    "                  ,'rank': 10\n",
    "                  ,'regParam': 0.1\n",
    "                  ,'alpha': 40\n",
    "                  ,'seed': 41916\n",
    "                 }"
   ]
  },
  {
   "cell_type": "code",
   "execution_count": 331,
   "metadata": {},
   "outputs": [],
   "source": [
    "def train_als(model_data, current_params):\n",
    "    \"\"\"\n",
    "    Given training data and set of parameters\n",
    "    Returns trained ALS model\n",
    "    \"\"\"\n",
    "    # Create ALS instance for cv with our chosen parametrs\n",
    "    als_train = ALS(maxIter=current_params.get('maxIter'),\n",
    "              rank=current_params.get('rank'),\n",
    "              userCol='account_id',\n",
    "              itemCol='comic_id',\n",
    "              ratingCol='bought',\n",
    "              implicitPrefs=True,\n",
    "              regParam=current_params.get('regParam'),\n",
    "              alpha=current_params.get('alpha'),\n",
    "              coldStartStrategy='nan', # we want to drop so can get through CV\n",
    "              seed=41916)\n",
    "\n",
    "    model_train = als_train.fit(model_data)\n",
    "    return model_train"
   ]
  },
  {
   "cell_type": "code",
   "execution_count": 330,
   "metadata": {},
   "outputs": [],
   "source": [
    "als_model = train_als(test_sold, current_params)"
   ]
  },
  {
   "cell_type": "markdown",
   "metadata": {},
   "source": [
    "### Create DF of new user's unbought comics"
   ]
  },
  {
   "cell_type": "code",
   "execution_count": 332,
   "metadata": {},
   "outputs": [],
   "source": [
    "def get_comics_to_rate(comics_df, training_comic_ids):\n",
    "    \"\"\"\n",
    "    Given list of comic ids, \n",
    "    returns list of ids from master list that don't match\n",
    "    \"\"\"\n",
    "    new_comic_ids = (comics_df.select('comic_id').distinct()\n",
    "                      .filter(~col('comic_id').isin(curr_comic_ids))\n",
    "                      .select('comic_id').rdd.flatMap(lambda x: x).collect()\n",
    "                     )\n",
    "    return new_comic_ids"
   ]
  },
  {
   "cell_type": "code",
   "execution_count": 345,
   "metadata": {},
   "outputs": [],
   "source": [
    "def recommend_n_comics(top_n, new_comics_ids, account_id, als_model, comics_df):\n",
    "    \"\"\"\n",
    "    Given a list of new comics (to the user) and requested number N\n",
    "    Return list of N comics, ordered descending by recommendation score\n",
    "    \"\"\"\n",
    "\n",
    "    # Create spark Df of new rows\n",
    "    comics_to_predict = (spark.createDataFrame([\n",
    "                        (account_id, 1, comic_id) for comic_id in new_comics_ids])\n",
    "                        .select(col('_1').alias('account_id')\n",
    "                        ,col('_2').alias('bought')\n",
    "                        ,col('_3').alias('comic_id'))\n",
    "                        )\n",
    "\n",
    "    # Get predictions\n",
    "    test_preds = als_model.transform(comics_to_predict)\n",
    "    test_preds.persist()\n",
    "\n",
    "    # Alias\n",
    "    cdf = comics_df.alias('cdf')\n",
    "    tp = test_preds.alias('tp')\n",
    "\n",
    "    # Query results\n",
    "    results = (tp.join(cdf, tp.comic_id==cdf.comic_id)\n",
    "                .filter(~isnan(col('prediction')))\n",
    "                .orderBy('prediction', ascending=False)\n",
    "                .select('comic_title')\n",
    "                .limit(top_n)\n",
    "              ).toPandas()\n",
    "\n",
    "    return results"
   ]
  },
  {
   "cell_type": "code",
   "execution_count": 360,
   "metadata": {},
   "outputs": [],
   "source": [
    "def make_comic_recommendations(read_comics_list, top_n, comics_df, train_data \n",
    "                               ,best_params):\n",
    "    \"\"\"\n",
    "    Given a list of comic titles and request for N\n",
    "    Return list of comics recommendations as a pandas dataframe\n",
    "    \"\"\"\n",
    "    start_time = time.time()\n",
    "    \n",
    "    # Get best-matching comic IDs\n",
    "    train_comic_ids = get_comic_ids_for_user(comics_df, read_comics_list)\n",
    "        \n",
    "    # Create new account number\n",
    "    new_id = create_acct_id(train_data)\n",
    "    \n",
    "    # Add new account to training data\n",
    "    train_data_new = add_new_user(train_data, train_comic_ids, new_id)\n",
    "    train_data_new.persist()\n",
    "    \n",
    "    # Train new ALS model\n",
    "    als_model = train_als(train_data_new, best_params)\n",
    "    \n",
    "    # Get list of comics to rate, exclude those already matched\n",
    "    new_comics_ids = get_comics_to_rate(comics_df, train_comic_ids)\n",
    "\n",
    "    # Get pandas df of top n recommended comics!\n",
    "    top_n_comics_df = recommend_n_comics(top_n, new_comics_ids, new_id\n",
    "                                        ,als_model\n",
    "                                        ,comics_df\n",
    "                                        )\n",
    "    \n",
    "    print ('Total Runtime: {:.2f} seconds'.format(time.time() - start_time))\n",
    "    return top_n_comics_df"
   ]
  },
  {
   "cell_type": "markdown",
   "metadata": {},
   "source": [
    "## BIG TEST!"
   ]
  },
  {
   "cell_type": "code",
   "execution_count": 364,
   "metadata": {},
   "outputs": [],
   "source": [
    "my_list = ['Transformers', 'GI Joe', 'Y The Last Man', 'Saga', 'Avengers'\n",
    "           ,'Paper Girls', 'Star Wars']"
   ]
  },
  {
   "cell_type": "code",
   "execution_count": 365,
   "metadata": {},
   "outputs": [
    {
     "name": "stdout",
     "output_type": "stream",
     "text": [
      "Total Runtime: 9.53 seconds\n"
     ]
    }
   ],
   "source": [
    "df = make_comic_recommendations(my_list\n",
    "                               ,20\n",
    "                               ,comics_df\n",
    "                               ,sold\n",
    "                               ,current_params)"
   ]
  },
  {
   "cell_type": "code",
   "execution_count": 366,
   "metadata": {},
   "outputs": [
    {
     "data": {
      "text/html": [
       "<div>\n",
       "<style scoped>\n",
       "    .dataframe tbody tr th:only-of-type {\n",
       "        vertical-align: middle;\n",
       "    }\n",
       "\n",
       "    .dataframe tbody tr th {\n",
       "        vertical-align: top;\n",
       "    }\n",
       "\n",
       "    .dataframe thead th {\n",
       "        text-align: right;\n",
       "    }\n",
       "</style>\n",
       "<table border=\"1\" class=\"dataframe\">\n",
       "  <thead>\n",
       "    <tr style=\"text-align: right;\">\n",
       "      <th></th>\n",
       "      <th>comic_title</th>\n",
       "    </tr>\n",
       "  </thead>\n",
       "  <tbody>\n",
       "    <tr>\n",
       "      <th>0</th>\n",
       "      <td>Carnage (Marvel)</td>\n",
       "    </tr>\n",
       "    <tr>\n",
       "      <th>1</th>\n",
       "      <td>Deadpool Annual (Marvel)</td>\n",
       "    </tr>\n",
       "    <tr>\n",
       "      <th>2</th>\n",
       "      <td>Hulk (Marvel)</td>\n",
       "    </tr>\n",
       "    <tr>\n",
       "      <th>3</th>\n",
       "      <td>Thunderbolts (Marvel)</td>\n",
       "    </tr>\n",
       "    <tr>\n",
       "      <th>4</th>\n",
       "      <td>Spongebob Comics (Other)</td>\n",
       "    </tr>\n",
       "    <tr>\n",
       "      <th>5</th>\n",
       "      <td>Astonishing X-Men Annual (Marvel)</td>\n",
       "    </tr>\n",
       "    <tr>\n",
       "      <th>6</th>\n",
       "      <td>Nova (Marvel)</td>\n",
       "    </tr>\n",
       "    <tr>\n",
       "      <th>7</th>\n",
       "      <td>Origin Ii (Marvel)</td>\n",
       "    </tr>\n",
       "    <tr>\n",
       "      <th>8</th>\n",
       "      <td>Shield (Marvel)</td>\n",
       "    </tr>\n",
       "    <tr>\n",
       "      <th>9</th>\n",
       "      <td>Fear Itself Deadpool (Marvel)</td>\n",
       "    </tr>\n",
       "    <tr>\n",
       "      <th>10</th>\n",
       "      <td>Venom Space Knight (Marvel)</td>\n",
       "    </tr>\n",
       "    <tr>\n",
       "      <th>11</th>\n",
       "      <td>Deadpool (Marvel)</td>\n",
       "    </tr>\n",
       "    <tr>\n",
       "      <th>12</th>\n",
       "      <td>Tmnt Amazing Adventures (IDW)</td>\n",
       "    </tr>\n",
       "    <tr>\n",
       "      <th>13</th>\n",
       "      <td>Return of Living Deadpool (Marvel)</td>\n",
       "    </tr>\n",
       "    <tr>\n",
       "      <th>14</th>\n",
       "      <td>Rocket Raccoon (Marvel)</td>\n",
       "    </tr>\n",
       "    <tr>\n",
       "      <th>15</th>\n",
       "      <td>Tmnt Turtles In Time (IDW)</td>\n",
       "    </tr>\n",
       "    <tr>\n",
       "      <th>16</th>\n",
       "      <td>X-Club (Marvel)</td>\n",
       "    </tr>\n",
       "    <tr>\n",
       "      <th>17</th>\n",
       "      <td>Transformers Robots In Disgui (IDW)</td>\n",
       "    </tr>\n",
       "    <tr>\n",
       "      <th>18</th>\n",
       "      <td>Princess Leia (Marvel)</td>\n",
       "    </tr>\n",
       "    <tr>\n",
       "      <th>19</th>\n",
       "      <td>Star Wars (Marvel)</td>\n",
       "    </tr>\n",
       "  </tbody>\n",
       "</table>\n",
       "</div>"
      ],
      "text/plain": [
       "                            comic_title\n",
       "0                      Carnage (Marvel)\n",
       "1              Deadpool Annual (Marvel)\n",
       "2                         Hulk (Marvel)\n",
       "3                 Thunderbolts (Marvel)\n",
       "4              Spongebob Comics (Other)\n",
       "5     Astonishing X-Men Annual (Marvel)\n",
       "6                         Nova (Marvel)\n",
       "7                    Origin Ii (Marvel)\n",
       "8                       Shield (Marvel)\n",
       "9         Fear Itself Deadpool (Marvel)\n",
       "10          Venom Space Knight (Marvel)\n",
       "11                    Deadpool (Marvel)\n",
       "12        Tmnt Amazing Adventures (IDW)\n",
       "13   Return of Living Deadpool (Marvel)\n",
       "14              Rocket Raccoon (Marvel)\n",
       "15           Tmnt Turtles In Time (IDW)\n",
       "16                      X-Club (Marvel)\n",
       "17  Transformers Robots In Disgui (IDW)\n",
       "18               Princess Leia (Marvel)\n",
       "19                   Star Wars (Marvel)"
      ]
     },
     "execution_count": 366,
     "metadata": {},
     "output_type": "execute_result"
    }
   ],
   "source": [
    "df"
   ]
  },
  {
   "cell_type": "markdown",
   "metadata": {},
   "source": [
    "# GRAVEYARD"
   ]
  },
  {
   "cell_type": "code",
   "execution_count": 16,
   "metadata": {},
   "outputs": [
    {
     "name": "stdout",
     "output_type": "stream",
     "text": [
      "+--------+--------------------+\n",
      "|comic_id|         comic_title|\n",
      "+--------+--------------------+\n",
      "|       1|0Secret Wars (Mar...|\n",
      "|       2|100 Bullets Broth...|\n",
      "+--------+--------------------+\n",
      "only showing top 2 rows\n",
      "\n"
     ]
    }
   ],
   "source": [
    "comics_df.show(2)"
   ]
  },
  {
   "cell_type": "code",
   "execution_count": 32,
   "metadata": {},
   "outputs": [],
   "source": [
    "from pyspark.sql.functions import lower, upper"
   ]
  },
  {
   "cell_type": "code",
   "execution_count": 25,
   "metadata": {},
   "outputs": [],
   "source": [
    "sample_comic = 'Sweet Tooth'"
   ]
  },
  {
   "cell_type": "code",
   "execution_count": 99,
   "metadata": {},
   "outputs": [],
   "source": [
    "sample_comic = 'Paper Girls'"
   ]
  },
  {
   "cell_type": "code",
   "execution_count": 101,
   "metadata": {},
   "outputs": [],
   "source": [
    "test = comics_df.filter(lower(comics_df['comic_title']).contains(str.lower(sample_comic))).select('comic_title')"
   ]
  },
  {
   "cell_type": "code",
   "execution_count": 102,
   "metadata": {},
   "outputs": [
    {
     "name": "stdout",
     "output_type": "stream",
     "text": [
      "+--------------------+\n",
      "|         comic_title|\n",
      "+--------------------+\n",
      "|Image Firsts Pape...|\n",
      "| Paper Girls (Image)|\n",
      "+--------------------+\n",
      "\n"
     ]
    }
   ],
   "source": [
    "test.show()"
   ]
  },
  {
   "cell_type": "code",
   "execution_count": 109,
   "metadata": {},
   "outputs": [],
   "source": [
    "test2 = test.withColumn('temp', col('comic_title'))"
   ]
  },
  {
   "cell_type": "code",
   "execution_count": 111,
   "metadata": {},
   "outputs": [
    {
     "name": "stdout",
     "output_type": "stream",
     "text": [
      "+--------------------+--------------------+\n",
      "|         comic_title|                temp|\n",
      "+--------------------+--------------------+\n",
      "|Image Firsts Pape...|Image Firsts Pape...|\n",
      "| Paper Girls (Image)| Paper Girls (Image)|\n",
      "+--------------------+--------------------+\n",
      "\n"
     ]
    }
   ],
   "source": [
    "test2.show()"
   ]
  },
  {
   "cell_type": "code",
   "execution_count": 129,
   "metadata": {},
   "outputs": [
    {
     "name": "stdout",
     "output_type": "stream",
     "text": [
      "+----------+------+--------+\n",
      "|account_id|bought|comic_id|\n",
      "+----------+------+--------+\n",
      "|      2247|     1|     995|\n",
      "|       487|     1|    1102|\n",
      "+----------+------+--------+\n",
      "only showing top 2 rows\n",
      "\n"
     ]
    }
   ],
   "source": [
    "sold.show(2)"
   ]
  },
  {
   "cell_type": "code",
   "execution_count": 157,
   "metadata": {},
   "outputs": [
    {
     "data": {
      "text/plain": [
       "3074"
      ]
     },
     "execution_count": 157,
     "metadata": {},
     "output_type": "execute_result"
    }
   ],
   "source": [
    "# Get max account id\n",
    "max_acct_id = sold.agg({'account_id':'max'}).collect()[0][0]\n",
    "max_acct_id"
   ]
  },
  {
   "cell_type": "code",
   "execution_count": 158,
   "metadata": {},
   "outputs": [],
   "source": [
    "new_acct_id = max_acct_id + 1"
   ]
  },
  {
   "cell_type": "code",
   "execution_count": 154,
   "metadata": {},
   "outputs": [
    {
     "data": {
      "text/plain": [
       "[6105, 3235, 4701]"
      ]
     },
     "execution_count": 154,
     "metadata": {},
     "output_type": "execute_result"
    }
   ],
   "source": [
    "curr_comic_ids"
   ]
  },
  {
   "cell_type": "code",
   "execution_count": 159,
   "metadata": {},
   "outputs": [],
   "source": [
    "new_rows = [(new_acct_id, 1, comic_id) for comic_id in curr_comic_ids]"
   ]
  },
  {
   "cell_type": "code",
   "execution_count": 160,
   "metadata": {},
   "outputs": [
    {
     "data": {
      "text/plain": [
       "[(3075, 1, 6105), (3075, 1, 3235), (3075, 1, 4701)]"
      ]
     },
     "execution_count": 160,
     "metadata": {},
     "output_type": "execute_result"
    }
   ],
   "source": [
    "new_rows"
   ]
  },
  {
   "cell_type": "code",
   "execution_count": 161,
   "metadata": {},
   "outputs": [
    {
     "data": {
      "text/plain": [
       "DataFrame[account_id: bigint, bought: bigint, comic_id: bigint]"
      ]
     },
     "execution_count": 161,
     "metadata": {},
     "output_type": "execute_result"
    }
   ],
   "source": [
    "sold_test = sold\n",
    "sold_test.persist()\n"
   ]
  },
  {
   "cell_type": "code",
   "execution_count": 164,
   "metadata": {},
   "outputs": [
    {
     "data": {
      "text/plain": [
       "61871"
      ]
     },
     "execution_count": 164,
     "metadata": {},
     "output_type": "execute_result"
    }
   ],
   "source": [
    "sold_test.count()"
   ]
  },
  {
   "cell_type": "code",
   "execution_count": 166,
   "metadata": {},
   "outputs": [],
   "source": [
    "sold_new = sold_test.union(spark.createDataFrame(new_rows))"
   ]
  },
  {
   "cell_type": "code",
   "execution_count": 167,
   "metadata": {},
   "outputs": [
    {
     "data": {
      "text/plain": [
       "61874"
      ]
     },
     "execution_count": 167,
     "metadata": {},
     "output_type": "execute_result"
    }
   ],
   "source": [
    "sold_new.count()"
   ]
  },
  {
   "cell_type": "code",
   "execution_count": null,
   "metadata": {},
   "outputs": [],
   "source": [
    "newRow = spark.createDataFrame([(15,'Alk','Dhl')])\n",
    "df = df.union(newRow)\n",
    "df.show()"
   ]
  },
  {
   "cell_type": "code",
   "execution_count": 170,
   "metadata": {},
   "outputs": [],
   "source": [
    "test_sold = sold"
   ]
  },
  {
   "cell_type": "code",
   "execution_count": 171,
   "metadata": {},
   "outputs": [],
   "source": [
    "test_sold_2 = add_new_user(sold, curr_comic_ids)"
   ]
  },
  {
   "cell_type": "code",
   "execution_count": 172,
   "metadata": {},
   "outputs": [
    {
     "name": "stdout",
     "output_type": "stream",
     "text": [
      "61871\n"
     ]
    }
   ],
   "source": [
    "print(test_sold.count())"
   ]
  },
  {
   "cell_type": "code",
   "execution_count": 173,
   "metadata": {},
   "outputs": [
    {
     "name": "stdout",
     "output_type": "stream",
     "text": [
      "61874\n"
     ]
    }
   ],
   "source": [
    "print(test_sold_2.count())"
   ]
  },
  {
   "cell_type": "code",
   "execution_count": null,
   "metadata": {},
   "outputs": [],
   "source": []
  }
 ],
 "metadata": {
  "kernelspec": {
   "display_name": "Python 3",
   "language": "python",
   "name": "python3"
  },
  "language_info": {
   "codemirror_mode": {
    "name": "ipython",
    "version": 3
   },
   "file_extension": ".py",
   "mimetype": "text/x-python",
   "name": "python",
   "nbconvert_exporter": "python",
   "pygments_lexer": "ipython3",
   "version": "3.7.3"
  }
 },
 "nbformat": 4,
 "nbformat_minor": 2
}
