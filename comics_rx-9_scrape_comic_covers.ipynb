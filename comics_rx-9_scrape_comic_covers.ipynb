{
 "cells": [
  {
   "cell_type": "code",
   "execution_count": 96,
   "metadata": {},
   "outputs": [],
   "source": [
    "import requests\n",
    "import random\n",
    "import time\n",
    "from selenium.webdriver import Firefox\n",
    "from selenium.webdriver.common.keys import Keys\n",
    "from selenium.webdriver.support.ui import Select\n",
    "# from scrape_functions import (\n",
    "#     get_comic_title,\n",
    "#     find_image,\n",
    "#     scrape_image,\n",
    "#     get_prev)\n",
    "\n",
    "from selenium.webdriver.firefox.options import Options\n",
    "\n",
    "options = Options()\n",
    "options.headless = True"
   ]
  },
  {
   "cell_type": "markdown",
   "metadata": {},
   "source": [
    "### Initialize Stuff"
   ]
  },
  {
   "cell_type": "code",
   "execution_count": 97,
   "metadata": {},
   "outputs": [],
   "source": [
    "browser = Firefox()\n",
    "url = \"http://www.comicbookdb.com/\"\n",
    "browser.get(url)"
   ]
  },
  {
   "cell_type": "markdown",
   "metadata": {},
   "source": [
    "## Search on Title"
   ]
  },
  {
   "cell_type": "code",
   "execution_count": 21,
   "metadata": {},
   "outputs": [],
   "source": [
    "def search_title(browser, title):\n",
    "    \"\"\"\n",
    "    Given Selenium browser obj and a comic title to search for\n",
    "    Enter title into search box and Search\n",
    "    \"\"\"\n",
    "    # Find search box and enter search text\n",
    "    text_area = browser.find_element_by_id('form_search')\n",
    "    text_area.send_keys(Keys.CONTROL, \"a\") \n",
    "    text_area.send_keys(title)\n",
    "    \n",
    "    # Find Search type dropdown and make sure it says 'Title'\n",
    "    search_type = Select(browser.find_element_by_name('form_searchtype'))\n",
    "    search_type.select_by_value('Title')\n",
    "    sb_xpath = ('/html/body/table/tbody/tr[2]/td[1]' + \n",
    "                '/table/tbody/tr[4]/td/form/input[2]')\n",
    "    \n",
    "    # Push the search button!\n",
    "    search_button = browser.find_element_by_xpath(sb_xpath)\n",
    "    search_button.click()\n"
   ]
  },
  {
   "cell_type": "code",
   "execution_count": 42,
   "metadata": {},
   "outputs": [],
   "source": [
    "title_search = \"Filler Bunny\""
   ]
  },
  {
   "cell_type": "code",
   "execution_count": 61,
   "metadata": {},
   "outputs": [],
   "source": [
    "title_search = 'Royal Historian of Oz'"
   ]
  },
  {
   "cell_type": "code",
   "execution_count": 68,
   "metadata": {},
   "outputs": [],
   "source": [
    "title = title_search"
   ]
  },
  {
   "cell_type": "code",
   "execution_count": 62,
   "metadata": {},
   "outputs": [],
   "source": [
    "text_area = browser.find_element_by_id('form_search')"
   ]
  },
  {
   "cell_type": "code",
   "execution_count": 63,
   "metadata": {},
   "outputs": [],
   "source": [
    "text_area.send_keys(Keys.CONTROL, \"a\") \n",
    "text_area.send_keys(title_search)"
   ]
  },
  {
   "cell_type": "code",
   "execution_count": 64,
   "metadata": {},
   "outputs": [],
   "source": [
    "search_type = Select(browser.find_element_by_name('form_searchtype'))"
   ]
  },
  {
   "cell_type": "markdown",
   "metadata": {},
   "source": [
    "mySelect = Select(driver.find_element_by_id(\"mySelectID\"))"
   ]
  },
  {
   "cell_type": "code",
   "execution_count": 65,
   "metadata": {},
   "outputs": [],
   "source": [
    "search_type.select_by_value('Title')"
   ]
  },
  {
   "cell_type": "code",
   "execution_count": 66,
   "metadata": {},
   "outputs": [],
   "source": [
    "search_button = browser.find_element_by_xpath('/html/body/table/tbody/tr[2]/td[1]/table/tbody/tr[4]/td/form/input[2]')"
   ]
  },
  {
   "cell_type": "code",
   "execution_count": 67,
   "metadata": {},
   "outputs": [],
   "source": [
    "search_button.click()"
   ]
  },
  {
   "cell_type": "markdown",
   "metadata": {},
   "source": [
    "## Click on first result"
   ]
  },
  {
   "cell_type": "code",
   "execution_count": 107,
   "metadata": {},
   "outputs": [],
   "source": [
    "def click_first_link(browser, title):\n",
    "    \"\"\"\n",
    "    Find first issue link and click it\n",
    "    \"\"\"\n",
    "    # Find first issue link in search results\n",
    "    x_path = '/html/body/table/tbody/tr[2]/td[3]/a[1]'\n",
    "    first_issue_link = browser.find_element_by_partial_link_text(title)\n",
    "    first_issue_link = browser.find_element_by_xpath(x_path)\n",
    "    \n",
    "    # Click\n",
    "    first_issue_link.click()\n"
   ]
  },
  {
   "cell_type": "code",
   "execution_count": 106,
   "metadata": {},
   "outputs": [
    {
     "ename": "NoSuchElementException",
     "evalue": "Message: Unable to locate element: Royal Historian of Oz\n",
     "output_type": "error",
     "traceback": [
      "\u001b[0;31m---------------------------------------------------------------------------\u001b[0m",
      "\u001b[0;31mNoSuchElementException\u001b[0m                    Traceback (most recent call last)",
      "\u001b[0;32m<ipython-input-106-f6e302dac1ab>\u001b[0m in \u001b[0;36m<module>\u001b[0;34m()\u001b[0m\n\u001b[0;32m----> 1\u001b[0;31m \u001b[0mfirst_issue_link\u001b[0m \u001b[0;34m=\u001b[0m \u001b[0mbrowser\u001b[0m\u001b[0;34m.\u001b[0m\u001b[0mfind_element_by_partial_link_text\u001b[0m\u001b[0;34m(\u001b[0m\u001b[0mtitle_search\u001b[0m\u001b[0;34m)\u001b[0m\u001b[0;34m\u001b[0m\u001b[0m\n\u001b[0m",
      "\u001b[0;32m/anaconda3/envs/learn-env/lib/python3.6/site-packages/selenium/webdriver/remote/webdriver.py\u001b[0m in \u001b[0;36mfind_element_by_partial_link_text\u001b[0;34m(self, link_text)\u001b[0m\n\u001b[1;32m    460\u001b[0m             \u001b[0melement\u001b[0m \u001b[0;34m=\u001b[0m \u001b[0mdriver\u001b[0m\u001b[0;34m.\u001b[0m\u001b[0mfind_element_by_partial_link_text\u001b[0m\u001b[0;34m(\u001b[0m\u001b[0;34m'Sign'\u001b[0m\u001b[0;34m)\u001b[0m\u001b[0;34m\u001b[0m\u001b[0m\n\u001b[1;32m    461\u001b[0m         \"\"\"\n\u001b[0;32m--> 462\u001b[0;31m         \u001b[0;32mreturn\u001b[0m \u001b[0mself\u001b[0m\u001b[0;34m.\u001b[0m\u001b[0mfind_element\u001b[0m\u001b[0;34m(\u001b[0m\u001b[0mby\u001b[0m\u001b[0;34m=\u001b[0m\u001b[0mBy\u001b[0m\u001b[0;34m.\u001b[0m\u001b[0mPARTIAL_LINK_TEXT\u001b[0m\u001b[0;34m,\u001b[0m \u001b[0mvalue\u001b[0m\u001b[0;34m=\u001b[0m\u001b[0mlink_text\u001b[0m\u001b[0;34m)\u001b[0m\u001b[0;34m\u001b[0m\u001b[0m\n\u001b[0m\u001b[1;32m    463\u001b[0m \u001b[0;34m\u001b[0m\u001b[0m\n\u001b[1;32m    464\u001b[0m     \u001b[0;32mdef\u001b[0m \u001b[0mfind_elements_by_partial_link_text\u001b[0m\u001b[0;34m(\u001b[0m\u001b[0mself\u001b[0m\u001b[0;34m,\u001b[0m \u001b[0mlink_text\u001b[0m\u001b[0;34m)\u001b[0m\u001b[0;34m:\u001b[0m\u001b[0;34m\u001b[0m\u001b[0m\n",
      "\u001b[0;32m/anaconda3/envs/learn-env/lib/python3.6/site-packages/selenium/webdriver/remote/webdriver.py\u001b[0m in \u001b[0;36mfind_element\u001b[0;34m(self, by, value)\u001b[0m\n\u001b[1;32m    976\u001b[0m         return self.execute(Command.FIND_ELEMENT, {\n\u001b[1;32m    977\u001b[0m             \u001b[0;34m'using'\u001b[0m\u001b[0;34m:\u001b[0m \u001b[0mby\u001b[0m\u001b[0;34m,\u001b[0m\u001b[0;34m\u001b[0m\u001b[0m\n\u001b[0;32m--> 978\u001b[0;31m             'value': value})['value']\n\u001b[0m\u001b[1;32m    979\u001b[0m \u001b[0;34m\u001b[0m\u001b[0m\n\u001b[1;32m    980\u001b[0m     \u001b[0;32mdef\u001b[0m \u001b[0mfind_elements\u001b[0m\u001b[0;34m(\u001b[0m\u001b[0mself\u001b[0m\u001b[0;34m,\u001b[0m \u001b[0mby\u001b[0m\u001b[0;34m=\u001b[0m\u001b[0mBy\u001b[0m\u001b[0;34m.\u001b[0m\u001b[0mID\u001b[0m\u001b[0;34m,\u001b[0m \u001b[0mvalue\u001b[0m\u001b[0;34m=\u001b[0m\u001b[0;32mNone\u001b[0m\u001b[0;34m)\u001b[0m\u001b[0;34m:\u001b[0m\u001b[0;34m\u001b[0m\u001b[0m\n",
      "\u001b[0;32m/anaconda3/envs/learn-env/lib/python3.6/site-packages/selenium/webdriver/remote/webdriver.py\u001b[0m in \u001b[0;36mexecute\u001b[0;34m(self, driver_command, params)\u001b[0m\n\u001b[1;32m    319\u001b[0m         \u001b[0mresponse\u001b[0m \u001b[0;34m=\u001b[0m \u001b[0mself\u001b[0m\u001b[0;34m.\u001b[0m\u001b[0mcommand_executor\u001b[0m\u001b[0;34m.\u001b[0m\u001b[0mexecute\u001b[0m\u001b[0;34m(\u001b[0m\u001b[0mdriver_command\u001b[0m\u001b[0;34m,\u001b[0m \u001b[0mparams\u001b[0m\u001b[0;34m)\u001b[0m\u001b[0;34m\u001b[0m\u001b[0m\n\u001b[1;32m    320\u001b[0m         \u001b[0;32mif\u001b[0m \u001b[0mresponse\u001b[0m\u001b[0;34m:\u001b[0m\u001b[0;34m\u001b[0m\u001b[0m\n\u001b[0;32m--> 321\u001b[0;31m             \u001b[0mself\u001b[0m\u001b[0;34m.\u001b[0m\u001b[0merror_handler\u001b[0m\u001b[0;34m.\u001b[0m\u001b[0mcheck_response\u001b[0m\u001b[0;34m(\u001b[0m\u001b[0mresponse\u001b[0m\u001b[0;34m)\u001b[0m\u001b[0;34m\u001b[0m\u001b[0m\n\u001b[0m\u001b[1;32m    322\u001b[0m             response['value'] = self._unwrap_value(\n\u001b[1;32m    323\u001b[0m                 response.get('value', None))\n",
      "\u001b[0;32m/anaconda3/envs/learn-env/lib/python3.6/site-packages/selenium/webdriver/remote/errorhandler.py\u001b[0m in \u001b[0;36mcheck_response\u001b[0;34m(self, response)\u001b[0m\n\u001b[1;32m    240\u001b[0m                 \u001b[0malert_text\u001b[0m \u001b[0;34m=\u001b[0m \u001b[0mvalue\u001b[0m\u001b[0;34m[\u001b[0m\u001b[0;34m'alert'\u001b[0m\u001b[0;34m]\u001b[0m\u001b[0;34m.\u001b[0m\u001b[0mget\u001b[0m\u001b[0;34m(\u001b[0m\u001b[0;34m'text'\u001b[0m\u001b[0;34m)\u001b[0m\u001b[0;34m\u001b[0m\u001b[0m\n\u001b[1;32m    241\u001b[0m             \u001b[0;32mraise\u001b[0m \u001b[0mexception_class\u001b[0m\u001b[0;34m(\u001b[0m\u001b[0mmessage\u001b[0m\u001b[0;34m,\u001b[0m \u001b[0mscreen\u001b[0m\u001b[0;34m,\u001b[0m \u001b[0mstacktrace\u001b[0m\u001b[0;34m,\u001b[0m \u001b[0malert_text\u001b[0m\u001b[0;34m)\u001b[0m\u001b[0;34m\u001b[0m\u001b[0m\n\u001b[0;32m--> 242\u001b[0;31m         \u001b[0;32mraise\u001b[0m \u001b[0mexception_class\u001b[0m\u001b[0;34m(\u001b[0m\u001b[0mmessage\u001b[0m\u001b[0;34m,\u001b[0m \u001b[0mscreen\u001b[0m\u001b[0;34m,\u001b[0m \u001b[0mstacktrace\u001b[0m\u001b[0;34m)\u001b[0m\u001b[0;34m\u001b[0m\u001b[0m\n\u001b[0m\u001b[1;32m    243\u001b[0m \u001b[0;34m\u001b[0m\u001b[0m\n\u001b[1;32m    244\u001b[0m     \u001b[0;32mdef\u001b[0m \u001b[0m_value_or_default\u001b[0m\u001b[0;34m(\u001b[0m\u001b[0mself\u001b[0m\u001b[0;34m,\u001b[0m \u001b[0mobj\u001b[0m\u001b[0;34m,\u001b[0m \u001b[0mkey\u001b[0m\u001b[0;34m,\u001b[0m \u001b[0mdefault\u001b[0m\u001b[0;34m)\u001b[0m\u001b[0;34m:\u001b[0m\u001b[0;34m\u001b[0m\u001b[0m\n",
      "\u001b[0;31mNoSuchElementException\u001b[0m: Message: Unable to locate element: Royal Historian of Oz\n"
     ]
    }
   ],
   "source": [
    "first_issue_link = browser.find_element_by_partial_link_text(title_search)"
   ]
  },
  {
   "cell_type": "code",
   "execution_count": 70,
   "metadata": {},
   "outputs": [],
   "source": [
    "first_issue_link.click()"
   ]
  },
  {
   "cell_type": "markdown",
   "metadata": {},
   "source": [
    "## Go to Cover Gallery"
   ]
  },
  {
   "cell_type": "code",
   "execution_count": 90,
   "metadata": {},
   "outputs": [],
   "source": [
    "def go_cover_gallery(browser):\n",
    "    \"\"\"\n",
    "    Click on Cover Gallery button\n",
    "    \"\"\"\n",
    "    gb_xpath = (\"/html/body/table/tbody/tr[2]/td[3]/table[1]\" + \n",
    "                \"/tbody/tr/td/a[4]/img\"\n",
    "               )\n",
    "    gb_xpath='//a[img/@src=\"graphics/button_title_covergallery.gif\"]'\n",
    "    \n",
    "    gallery_btn = browser.find_element_by_xpath(gb_xpath)\n",
    "    gallery_btn.click()"
   ]
  },
  {
   "cell_type": "code",
   "execution_count": null,
   "metadata": {},
   "outputs": [],
   "source": [
    "/html/body/table/tbody/tr[2]/td[3]/table[1]/tbody/tr/td/a[4]/img"
   ]
  },
  {
   "cell_type": "code",
   "execution_count": 52,
   "metadata": {},
   "outputs": [],
   "source": [
    "imgy = browser.fin"
   ]
  },
  {
   "cell_type": "code",
   "execution_count": 53,
   "metadata": {},
   "outputs": [],
   "source": [
    "imgy.click()"
   ]
  },
  {
   "cell_type": "code",
   "execution_count": null,
   "metadata": {},
   "outputs": [],
   "source": [
    "brow.find_element_by_xpath('//a[img/@src=\"resources/img/logout.png\"]').click()"
   ]
  },
  {
   "cell_type": "code",
   "execution_count": 89,
   "metadata": {},
   "outputs": [],
   "source": [
    "gb_xpath=\"/html/body/table/tbody/tr[2]/td[3]/table[1]/tbody/tr/td/a[3]/img\"\n",
    "gb_xpath=\"/html/body/table/tbody/tr[2]/td[3]/table[1]/tbody/tr/td/a[4]/img\"\n",
    "gb_xpath='//a[img/@src=\"graphics/button_title_covergallery.gif\"]'\n",
    "gallery_btn = browser.find_element_by_xpath(gb_xpath)\n",
    "\n",
    "gallery_btn.click()"
   ]
  },
  {
   "cell_type": "markdown",
   "metadata": {},
   "source": [
    "## Get First Image"
   ]
  },
  {
   "cell_type": "code",
   "execution_count": 86,
   "metadata": {},
   "outputs": [],
   "source": [
    "def get_first_image(browser, title):\n",
    "    \"\"\"\n",
    "    Find first image in cover gallery and scrape it!\n",
    "    \"\"\"\n",
    "    # Find first image\n",
    "    first_img_path = ('/html/body/table/tbody/tr[2]/td[3]/' + \n",
    "                      'table/tbody/tr[1]/td[1]/a/img')\n",
    "    first_img = browser.find_element_by_xpath(first_img_path)    \n",
    "\n",
    "    # Construct path and file name\n",
    "    filename = ('./assets/covers/' + title.replace(' ', '_').lower() \n",
    "               + '.jpg'\n",
    "               )\n",
    "    \n",
    "    # Save the file in the file/path \n",
    "    scrape_image(first_img, filename)\n",
    "    \n",
    "    return"
   ]
  },
  {
   "cell_type": "code",
   "execution_count": 72,
   "metadata": {},
   "outputs": [],
   "source": [
    "first_img_path = '/html/body/table/tbody/tr[2]/td[3]/table/tbody/tr[1]/td[1]/a/img'"
   ]
  },
  {
   "cell_type": "code",
   "execution_count": 73,
   "metadata": {},
   "outputs": [],
   "source": [
    "first_img = browser.find_element_by_xpath(first_img_path)"
   ]
  },
  {
   "cell_type": "code",
   "execution_count": 58,
   "metadata": {},
   "outputs": [],
   "source": [
    "filename = './assets/testimage.jpg'"
   ]
  },
  {
   "cell_type": "code",
   "execution_count": null,
   "metadata": {},
   "outputs": [],
   "source": [
    "\n",
    "blah = 'Here is space'"
   ]
  },
  {
   "cell_type": "code",
   "execution_count": null,
   "metadata": {},
   "outputs": [],
   "source": [
    "blah.replace(' ', '_').lower()"
   ]
  },
  {
   "cell_type": "code",
   "execution_count": 77,
   "metadata": {},
   "outputs": [],
   "source": [
    "# Construct path and file name\n",
    "filename = ('./assets/covers/' + title.replace(' ', '_').lower() \n",
    "           + '.jpg'\n",
    "           )"
   ]
  },
  {
   "cell_type": "code",
   "execution_count": 75,
   "metadata": {},
   "outputs": [],
   "source": [
    "def scrape_image(img, filename):\n",
    "    \"\"\"Save an image element as filename\"\"\"\n",
    "    response = requests.get(img.get_attribute('src'))\n",
    "    img_data = response.content\n",
    "    with open(filename, 'wb') as f:\n",
    "        f.write(img_data)"
   ]
  },
  {
   "cell_type": "code",
   "execution_count": 78,
   "metadata": {},
   "outputs": [],
   "source": [
    "scrape_image(first_img, filename)"
   ]
  },
  {
   "cell_type": "code",
   "execution_count": 79,
   "metadata": {},
   "outputs": [
    {
     "name": "stdout",
     "output_type": "stream",
     "text": [
      "LICENSE\r\n",
      "README.md\r\n",
      "\u001b[34m__pycache__\u001b[m\u001b[m\r\n",
      "\u001b[34mals_filtered\u001b[m\u001b[m\r\n",
      "\u001b[34mals_use\u001b[m\u001b[m\r\n",
      "app.py\r\n",
      "\u001b[34marchive\u001b[m\u001b[m\r\n",
      "\u001b[34massets\u001b[m\u001b[m\r\n",
      "code_archive.py\r\n",
      "comic_recs.py\r\n",
      "comics_rx-1_data_prep.ipynb\r\n",
      "comics_rx-2_eda.ipynb\r\n",
      "comics_rx-3_als_all_data.ipynb\r\n",
      "comics_rx-4_als_reduced_data.ipynb\r\n",
      "comics_rx-5_pseudo_deploy.ipynb\r\n",
      "comics_rx-6_als_reduced_data_gs_cv.ipynb\r\n",
      "comics_rx-7_mvp_dev.ipynb\r\n",
      "comics_rx-8_recommender_poc.ipynb\r\n",
      "comics_rx-9_scrape_something.ipynb\r\n",
      "data_fcns.py\r\n",
      "\u001b[34mdev\u001b[m\u001b[m\r\n",
      "geckodriver.log\r\n",
      "keys.py\r\n",
      "\u001b[34mraw_data\u001b[m\u001b[m\r\n",
      "\u001b[34mreferences\u001b[m\u001b[m\r\n",
      "scrapes.py\r\n",
      "\u001b[34mscratch\u001b[m\u001b[m\r\n",
      "spam_model.pkl\r\n",
      "\u001b[34mstatic\u001b[m\u001b[m\r\n",
      "\u001b[34msupport_data\u001b[m\u001b[m\r\n",
      "\u001b[34mtemplates\u001b[m\u001b[m\r\n",
      "testimage.jpg\r\n",
      "\u001b[34mversions\u001b[m\u001b[m\r\n"
     ]
    }
   ],
   "source": [
    "!ls"
   ]
  },
  {
   "cell_type": "code",
   "execution_count": 80,
   "metadata": {},
   "outputs": [],
   "source": [
    "!open testimage.jpg"
   ]
  },
  {
   "cell_type": "code",
   "execution_count": 83,
   "metadata": {},
   "outputs": [],
   "source": [
    "def scrape_series_covers(browser, titles):\n",
    "    \"\"\"Use Selenium to scrape images for comic book titles\"\"\"\n",
    "    \n",
    "    start_time = time.time()\n",
    "    \n",
    "    for title in titles:\n",
    "        # Search for the title\n",
    "        search_title(browser, title)\n",
    "\n",
    "        # Once on search results, just select first issue of results\n",
    "        click_first_link(browser, title)\n",
    "\n",
    "        # Go to the cover gallery of issue page\n",
    "        go_cover_gallery(browser)\n",
    "\n",
    "        # Once in cover gallery, just scrape the first image\n",
    "        get_first_image(browser, title)\n",
    "\n",
    "        print(\"Scraped {}!\".format(title))\n",
    "\n",
    "        # Go back to homepage so can do it again!\n",
    "        go_back_home_comicbookdb(browser)\n",
    "\n",
    "        # Wait random time\n",
    "        time.sleep(1.2 + random.random()*8)\n",
    "    \n",
    "    print ('Total Runtime: {:.2f} seconds'.format(time.time() - start_time))\n",
    "\n",
    "#     print(\"All done!\")"
   ]
  },
  {
   "cell_type": "code",
   "execution_count": 81,
   "metadata": {},
   "outputs": [],
   "source": [
    "def go_back_home_comicbookdb(browser):\n",
    "    # Find image link to go back home\n",
    "    home_pg_xpath = '/html/body/table/tbody/tr[1]/td/table/tbody/tr[1]/td/table/tbody/tr/td[1]/a/img'\n",
    "    logo_btn = browser.find_element_by_xpath(home_pg_xpath)\n",
    "\n",
    "    # Click!\n",
    "    logo_btn.click()    \n",
    "    "
   ]
  },
  {
   "cell_type": "code",
   "execution_count": 82,
   "metadata": {},
   "outputs": [],
   "source": [
    "home_pg_xpath = '/html/body/table/tbody/tr[1]/td/table/tbody/tr[1]/td/table/tbody/tr/td[1]/a/img'\n",
    "\n",
    "logo_btn = browser.find_element_by_xpath(home_pg_xpath)\n",
    "\n",
    "logo_btn.click()"
   ]
  },
  {
   "cell_type": "markdown",
   "metadata": {},
   "source": [
    "# Create Loop for Titles"
   ]
  },
  {
   "cell_type": "code",
   "execution_count": 10,
   "metadata": {},
   "outputs": [],
   "source": [
    "import pandas as pd"
   ]
  },
  {
   "cell_type": "code",
   "execution_count": null,
   "metadata": {},
   "outputs": [],
   "source": [
    "!ls ./support_data"
   ]
  },
  {
   "cell_type": "code",
   "execution_count": 3,
   "metadata": {},
   "outputs": [],
   "source": [
    "# Data storage\n",
    "from sqlalchemy import create_engine # SQL helper\n",
    "import psycopg2 as psql #PostgreSQL DBs\n",
    "import os\n",
    "\n",
    "# Custom\n",
    "import data_fcns as dfc\n",
    "import keys  # Custom keys lib"
   ]
  },
  {
   "cell_type": "markdown",
   "metadata": {},
   "source": [
    "comics = pd.read_json('./support_data/comics.json')"
   ]
  },
  {
   "cell_type": "code",
   "execution_count": 4,
   "metadata": {},
   "outputs": [
    {
     "data": {
      "text/plain": [
       "'/Users/werlindo/.secret/aws_ps_flatiron.json'"
      ]
     },
     "execution_count": 4,
     "metadata": {},
     "output_type": "execute_result"
    }
   ],
   "source": [
    "# Define path to secret\n",
    "secret_path_aws = os.path.join(os.environ['HOME'], '.secret', \n",
    "                           'aws_ps_flatiron.json')\n",
    "secret_path_aws"
   ]
  },
  {
   "cell_type": "code",
   "execution_count": 5,
   "metadata": {},
   "outputs": [],
   "source": [
    "aws_keys = keys.get_keys(secret_path_aws)\n",
    "user = aws_keys['user']\n",
    "ps = aws_keys['password']\n",
    "host = aws_keys['host']\n",
    "db = aws_keys['db_name']\n",
    "\n",
    "aws_ps_engine = ('postgresql://' + user + ':' + ps + '@' + host + '/' + db)\n",
    "\n",
    "# Setup PSQL connection\n",
    "conn = psql.connect(\n",
    "    database=db,\n",
    "    user=user,\n",
    "    password=ps,\n",
    "    host=host,\n",
    "    port='5432'\n",
    ")"
   ]
  },
  {
   "cell_type": "code",
   "execution_count": 6,
   "metadata": {},
   "outputs": [],
   "source": [
    "# Instantiate cursor\n",
    "cur = conn.cursor()"
   ]
  },
  {
   "cell_type": "code",
   "execution_count": 7,
   "metadata": {},
   "outputs": [],
   "source": [
    "#  Count records.\n",
    "query = \"\"\"\n",
    "    SELECT * from comic_trans;\n",
    "\"\"\""
   ]
  },
  {
   "cell_type": "code",
   "execution_count": 8,
   "metadata": {},
   "outputs": [],
   "source": [
    "# Execute the query\n",
    "cur.execute(query)"
   ]
  },
  {
   "cell_type": "code",
   "execution_count": 11,
   "metadata": {},
   "outputs": [],
   "source": [
    "# Check results\n",
    "temp_df = pd.DataFrame(cur.fetchall())\n",
    "temp_df.columns = [col.name for col in cur.description]"
   ]
  },
  {
   "cell_type": "code",
   "execution_count": 12,
   "metadata": {},
   "outputs": [],
   "source": [
    "import data_fcns as dfc"
   ]
  },
  {
   "cell_type": "code",
   "execution_count": 13,
   "metadata": {},
   "outputs": [
    {
     "data": {
      "text/html": [
       "<div>\n",
       "<style scoped>\n",
       "    .dataframe tbody tr th:only-of-type {\n",
       "        vertical-align: middle;\n",
       "    }\n",
       "\n",
       "    .dataframe tbody tr th {\n",
       "        vertical-align: top;\n",
       "    }\n",
       "\n",
       "    .dataframe thead th {\n",
       "        text-align: right;\n",
       "    }\n",
       "</style>\n",
       "<table border=\"1\" class=\"dataframe\">\n",
       "  <thead>\n",
       "    <tr style=\"text-align: right;\">\n",
       "      <th></th>\n",
       "      <th>index</th>\n",
       "      <th>publisher</th>\n",
       "      <th>item_id</th>\n",
       "      <th>title_and_num</th>\n",
       "      <th>qty_sold</th>\n",
       "      <th>date_sold</th>\n",
       "      <th>account_num</th>\n",
       "      <th>comic_title</th>\n",
       "    </tr>\n",
       "  </thead>\n",
       "  <tbody>\n",
       "    <tr>\n",
       "      <th>0</th>\n",
       "      <td>2</td>\n",
       "      <td>Amaze Ink Slave Labor Graphics</td>\n",
       "      <td>DCD151935</td>\n",
       "      <td>Filler Bunny #2</td>\n",
       "      <td>1</td>\n",
       "      <td>2011-08-14 18:01:03</td>\n",
       "      <td>00174</td>\n",
       "      <td>Filler Bunny (SLG)</td>\n",
       "    </tr>\n",
       "    <tr>\n",
       "      <th>1</th>\n",
       "      <td>3</td>\n",
       "      <td>Amaze Ink Slave Labor Graphics</td>\n",
       "      <td>DCD341726</td>\n",
       "      <td>Gargoyles #6</td>\n",
       "      <td>1</td>\n",
       "      <td>2012-06-22 14:11:37</td>\n",
       "      <td>00593</td>\n",
       "      <td>Gargoyles (SLG)</td>\n",
       "    </tr>\n",
       "    <tr>\n",
       "      <th>2</th>\n",
       "      <td>4</td>\n",
       "      <td>Amaze Ink Slave Labor Graphics</td>\n",
       "      <td>DCD416182</td>\n",
       "      <td>Royal Historian of Oz #1</td>\n",
       "      <td>1</td>\n",
       "      <td>2010-07-21 14:03:07</td>\n",
       "      <td>00226</td>\n",
       "      <td>Royal Historian of Oz (SLG)</td>\n",
       "    </tr>\n",
       "  </tbody>\n",
       "</table>\n",
       "</div>"
      ],
      "text/plain": [
       "   index                       publisher    item_id             title_and_num  \\\n",
       "0      2  Amaze Ink Slave Labor Graphics  DCD151935           Filler Bunny #2   \n",
       "1      3  Amaze Ink Slave Labor Graphics  DCD341726              Gargoyles #6   \n",
       "2      4  Amaze Ink Slave Labor Graphics  DCD416182  Royal Historian of Oz #1   \n",
       "\n",
       "   qty_sold           date_sold account_num                  comic_title  \n",
       "0         1 2011-08-14 18:01:03       00174           Filler Bunny (SLG)  \n",
       "1         1 2012-06-22 14:11:37       00593              Gargoyles (SLG)  \n",
       "2         1 2010-07-21 14:03:07       00226  Royal Historian of Oz (SLG)  "
      ]
     },
     "execution_count": 13,
     "metadata": {},
     "output_type": "execute_result"
    }
   ],
   "source": [
    "temp_df.head(3)"
   ]
  },
  {
   "cell_type": "code",
   "execution_count": 14,
   "metadata": {},
   "outputs": [],
   "source": [
    "temp_df['title'] = ( temp_df['title_and_num'].apply(dfc.cut_issue_num) )"
   ]
  },
  {
   "cell_type": "code",
   "execution_count": 15,
   "metadata": {},
   "outputs": [
    {
     "data": {
      "text/html": [
       "<div>\n",
       "<style scoped>\n",
       "    .dataframe tbody tr th:only-of-type {\n",
       "        vertical-align: middle;\n",
       "    }\n",
       "\n",
       "    .dataframe tbody tr th {\n",
       "        vertical-align: top;\n",
       "    }\n",
       "\n",
       "    .dataframe thead th {\n",
       "        text-align: right;\n",
       "    }\n",
       "</style>\n",
       "<table border=\"1\" class=\"dataframe\">\n",
       "  <thead>\n",
       "    <tr style=\"text-align: right;\">\n",
       "      <th></th>\n",
       "      <th>index</th>\n",
       "      <th>publisher</th>\n",
       "      <th>item_id</th>\n",
       "      <th>title_and_num</th>\n",
       "      <th>qty_sold</th>\n",
       "      <th>date_sold</th>\n",
       "      <th>account_num</th>\n",
       "      <th>comic_title</th>\n",
       "      <th>title</th>\n",
       "    </tr>\n",
       "  </thead>\n",
       "  <tbody>\n",
       "    <tr>\n",
       "      <th>0</th>\n",
       "      <td>2</td>\n",
       "      <td>Amaze Ink Slave Labor Graphics</td>\n",
       "      <td>DCD151935</td>\n",
       "      <td>Filler Bunny #2</td>\n",
       "      <td>1</td>\n",
       "      <td>2011-08-14 18:01:03</td>\n",
       "      <td>00174</td>\n",
       "      <td>Filler Bunny (SLG)</td>\n",
       "      <td>Filler Bunny</td>\n",
       "    </tr>\n",
       "    <tr>\n",
       "      <th>1</th>\n",
       "      <td>3</td>\n",
       "      <td>Amaze Ink Slave Labor Graphics</td>\n",
       "      <td>DCD341726</td>\n",
       "      <td>Gargoyles #6</td>\n",
       "      <td>1</td>\n",
       "      <td>2012-06-22 14:11:37</td>\n",
       "      <td>00593</td>\n",
       "      <td>Gargoyles (SLG)</td>\n",
       "      <td>Gargoyles</td>\n",
       "    </tr>\n",
       "    <tr>\n",
       "      <th>2</th>\n",
       "      <td>4</td>\n",
       "      <td>Amaze Ink Slave Labor Graphics</td>\n",
       "      <td>DCD416182</td>\n",
       "      <td>Royal Historian of Oz #1</td>\n",
       "      <td>1</td>\n",
       "      <td>2010-07-21 14:03:07</td>\n",
       "      <td>00226</td>\n",
       "      <td>Royal Historian of Oz (SLG)</td>\n",
       "      <td>Royal Historian of Oz</td>\n",
       "    </tr>\n",
       "    <tr>\n",
       "      <th>3</th>\n",
       "      <td>5</td>\n",
       "      <td>Amaze Ink Slave Labor Graphics</td>\n",
       "      <td>DCD416182</td>\n",
       "      <td>Royal Historian of Oz #1</td>\n",
       "      <td>1</td>\n",
       "      <td>2010-07-14 19:49:40</td>\n",
       "      <td>00399</td>\n",
       "      <td>Royal Historian of Oz (SLG)</td>\n",
       "      <td>Royal Historian of Oz</td>\n",
       "    </tr>\n",
       "    <tr>\n",
       "      <th>4</th>\n",
       "      <td>6</td>\n",
       "      <td>Amaze Ink Slave Labor Graphics</td>\n",
       "      <td>DCD416182</td>\n",
       "      <td>Royal Historian of Oz #1</td>\n",
       "      <td>1</td>\n",
       "      <td>2010-07-19 10:39:04</td>\n",
       "      <td>00237</td>\n",
       "      <td>Royal Historian of Oz (SLG)</td>\n",
       "      <td>Royal Historian of Oz</td>\n",
       "    </tr>\n",
       "  </tbody>\n",
       "</table>\n",
       "</div>"
      ],
      "text/plain": [
       "   index                       publisher    item_id             title_and_num  \\\n",
       "0      2  Amaze Ink Slave Labor Graphics  DCD151935           Filler Bunny #2   \n",
       "1      3  Amaze Ink Slave Labor Graphics  DCD341726              Gargoyles #6   \n",
       "2      4  Amaze Ink Slave Labor Graphics  DCD416182  Royal Historian of Oz #1   \n",
       "3      5  Amaze Ink Slave Labor Graphics  DCD416182  Royal Historian of Oz #1   \n",
       "4      6  Amaze Ink Slave Labor Graphics  DCD416182  Royal Historian of Oz #1   \n",
       "\n",
       "   qty_sold           date_sold account_num                  comic_title  \\\n",
       "0         1 2011-08-14 18:01:03       00174           Filler Bunny (SLG)   \n",
       "1         1 2012-06-22 14:11:37       00593              Gargoyles (SLG)   \n",
       "2         1 2010-07-21 14:03:07       00226  Royal Historian of Oz (SLG)   \n",
       "3         1 2010-07-14 19:49:40       00399  Royal Historian of Oz (SLG)   \n",
       "4         1 2010-07-19 10:39:04       00237  Royal Historian of Oz (SLG)   \n",
       "\n",
       "                   title  \n",
       "0           Filler Bunny  \n",
       "1              Gargoyles  \n",
       "2  Royal Historian of Oz  \n",
       "3  Royal Historian of Oz  \n",
       "4  Royal Historian of Oz  "
      ]
     },
     "execution_count": 15,
     "metadata": {},
     "output_type": "execute_result"
    }
   ],
   "source": [
    "temp_df.head()"
   ]
  },
  {
   "cell_type": "code",
   "execution_count": 99,
   "metadata": {},
   "outputs": [],
   "source": [
    "temp_df['title'] = temp_df['title'].apply(lambda x : x.replace('&' ,'and'))"
   ]
  },
  {
   "cell_type": "code",
   "execution_count": null,
   "metadata": {},
   "outputs": [],
   "source": []
  },
  {
   "cell_type": "code",
   "execution_count": 100,
   "metadata": {},
   "outputs": [],
   "source": [
    "titles = list(temp_df['title'].unique())"
   ]
  },
  {
   "cell_type": "code",
   "execution_count": 101,
   "metadata": {},
   "outputs": [
    {
     "data": {
      "text/plain": [
       "['Filler Bunny',\n",
       " 'Gargoyles',\n",
       " 'Royal Historian of Oz',\n",
       " 'Warlord of Io and Other Storie',\n",
       " 'Afterlife With Archie',\n",
       " 'Afterlife With Archie Magazin',\n",
       " 'Archie',\n",
       " 'Boys',\n",
       " 'Archie and Friends Double Diges',\n",
       " 'Archie and Friends Double Doubl']"
      ]
     },
     "execution_count": 101,
     "metadata": {},
     "output_type": "execute_result"
    }
   ],
   "source": [
    "titles[:10]"
   ]
  },
  {
   "cell_type": "code",
   "execution_count": 108,
   "metadata": {},
   "outputs": [],
   "source": [
    "sample_titles = titles[4:6]"
   ]
  },
  {
   "cell_type": "code",
   "execution_count": 109,
   "metadata": {},
   "outputs": [
    {
     "data": {
      "text/plain": [
       "['Afterlife With Archie', 'Afterlife With Archie Magazin']"
      ]
     },
     "execution_count": 109,
     "metadata": {},
     "output_type": "execute_result"
    }
   ],
   "source": [
    "sample_titles"
   ]
  },
  {
   "cell_type": "code",
   "execution_count": 110,
   "metadata": {},
   "outputs": [
    {
     "name": "stdout",
     "output_type": "stream",
     "text": [
      "Scraped Afterlife With Archie!\n",
      "Scraped Afterlife With Archie Magazin!\n",
      "Total Runtime: 62.44 seconds\n"
     ]
    }
   ],
   "source": [
    "# for title in sample_titles:\n",
    "# #     print(title)\n",
    "scrape_series_covers(browser, sample_titles)"
   ]
  },
  {
   "cell_type": "code",
   "execution_count": null,
   "metadata": {},
   "outputs": [],
   "source": []
  },
  {
   "cell_type": "markdown",
   "metadata": {},
   "source": [
    "---"
   ]
  },
  {
   "cell_type": "markdown",
   "metadata": {},
   "source": [
    "# Graveyard"
   ]
  },
  {
   "cell_type": "markdown",
   "metadata": {},
   "source": [
    "driver.switch_to.frame(\"textarea_iframe\")\n",
    "driver.find_element_by_id(\"textarea_body\").send_keys(\"test\")"
   ]
  },
  {
   "cell_type": "code",
   "execution_count": null,
   "metadata": {},
   "outputs": [],
   "source": [
    "# # Make a get request to get the latest position of the international space station from the opennotify api.\n",
    "# response = requests.get(\"http://comicvine.gamespot.com/api/issues/?api_key=a37ae31a97b22e5d73c9e72d5b7496e51cb7e469\")\n",
    "\n",
    "# # Print the status code of the response.\n",
    "# print(response.status_code)"
   ]
  }
 ],
 "metadata": {
  "kernelspec": {
   "display_name": "Python 3",
   "language": "python",
   "name": "python3"
  },
  "language_info": {
   "codemirror_mode": {
    "name": "ipython",
    "version": 3
   },
   "file_extension": ".py",
   "mimetype": "text/x-python",
   "name": "python",
   "nbconvert_exporter": "python",
   "pygments_lexer": "ipython3",
   "version": "3.6.6"
  }
 },
 "nbformat": 4,
 "nbformat_minor": 2
}
